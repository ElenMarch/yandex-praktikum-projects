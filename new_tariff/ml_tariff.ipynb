{
 "cells": [
  {
   "cell_type": "markdown",
   "metadata": {},
   "source": [
    "# Рекомендация тарифов"
   ]
  },
  {
   "cell_type": "markdown",
   "metadata": {},
   "source": [
    "Оператор мобильной связи «Мегалайн» выяснил: многие клиенты пользуются архивными тарифами. Они хотят построить систему, способную проанализировать поведение клиентов и предложить пользователям новый тариф: «Смарт» или «Ультра».\n",
    "\n",
    "Нужно построить модель для задачи классификации, которая выберет подходящий тариф. Предобработка данных не понадобится — вы её уже сделали.\n",
    "\n",
    "**Цель исследования**:\n",
    "Постройте модель с максимально большим значением *accuracy*. Чтобы сдать проект успешно, нужно довести долю правильных ответов по крайней мере до 0.75. Проверьте *accuracy* на тестовой выборке самостоятельно."
   ]
  },
  {
   "cell_type": "markdown",
   "metadata": {},
   "source": [
    "## Изучение общей информации"
   ]
  },
  {
   "cell_type": "code",
   "execution_count": 28,
   "metadata": {},
   "outputs": [],
   "source": [
    "import pandas as pd\n",
    "import numpy as np\n",
    "import seaborn as sns\n",
    "from sklearn import tree\n",
    "from sklearn.ensemble import RandomForestClassifier\n",
    "from sklearn.linear_model import LogisticRegression\n",
    "from sklearn.model_selection import train_test_split\n",
    "from sklearn.metrics import accuracy_score, precision_score, recall_score\n",
    "from sklearn.metrics import confusion_matrix"
   ]
  },
  {
   "cell_type": "code",
   "execution_count": 29,
   "metadata": {},
   "outputs": [],
   "source": [
    "user = pd.read_csv('datasets/users_behavior.csv')"
   ]
  },
  {
   "cell_type": "code",
   "execution_count": 30,
   "metadata": {},
   "outputs": [
    {
     "data": {
      "text/html": [
       "<div>\n",
       "<style scoped>\n",
       "    .dataframe tbody tr th:only-of-type {\n",
       "        vertical-align: middle;\n",
       "    }\n",
       "\n",
       "    .dataframe tbody tr th {\n",
       "        vertical-align: top;\n",
       "    }\n",
       "\n",
       "    .dataframe thead th {\n",
       "        text-align: right;\n",
       "    }\n",
       "</style>\n",
       "<table border=\"1\" class=\"dataframe\">\n",
       "  <thead>\n",
       "    <tr style=\"text-align: right;\">\n",
       "      <th></th>\n",
       "      <th>calls</th>\n",
       "      <th>minutes</th>\n",
       "      <th>messages</th>\n",
       "      <th>mb_used</th>\n",
       "      <th>is_ultra</th>\n",
       "    </tr>\n",
       "  </thead>\n",
       "  <tbody>\n",
       "    <tr>\n",
       "      <th>0</th>\n",
       "      <td>40.0</td>\n",
       "      <td>311.90</td>\n",
       "      <td>83.0</td>\n",
       "      <td>19915.42</td>\n",
       "      <td>0</td>\n",
       "    </tr>\n",
       "    <tr>\n",
       "      <th>1</th>\n",
       "      <td>85.0</td>\n",
       "      <td>516.75</td>\n",
       "      <td>56.0</td>\n",
       "      <td>22696.96</td>\n",
       "      <td>0</td>\n",
       "    </tr>\n",
       "    <tr>\n",
       "      <th>2</th>\n",
       "      <td>77.0</td>\n",
       "      <td>467.66</td>\n",
       "      <td>86.0</td>\n",
       "      <td>21060.45</td>\n",
       "      <td>0</td>\n",
       "    </tr>\n",
       "    <tr>\n",
       "      <th>3</th>\n",
       "      <td>106.0</td>\n",
       "      <td>745.53</td>\n",
       "      <td>81.0</td>\n",
       "      <td>8437.39</td>\n",
       "      <td>1</td>\n",
       "    </tr>\n",
       "    <tr>\n",
       "      <th>4</th>\n",
       "      <td>66.0</td>\n",
       "      <td>418.74</td>\n",
       "      <td>1.0</td>\n",
       "      <td>14502.75</td>\n",
       "      <td>0</td>\n",
       "    </tr>\n",
       "  </tbody>\n",
       "</table>\n",
       "</div>"
      ],
      "text/plain": [
       "   calls  minutes  messages   mb_used  is_ultra\n",
       "0   40.0   311.90      83.0  19915.42         0\n",
       "1   85.0   516.75      56.0  22696.96         0\n",
       "2   77.0   467.66      86.0  21060.45         0\n",
       "3  106.0   745.53      81.0   8437.39         1\n",
       "4   66.0   418.74       1.0  14502.75         0"
      ]
     },
     "execution_count": 30,
     "metadata": {},
     "output_type": "execute_result"
    }
   ],
   "source": [
    "user.head()"
   ]
  },
  {
   "cell_type": "code",
   "execution_count": 31,
   "metadata": {},
   "outputs": [
    {
     "name": "stdout",
     "output_type": "stream",
     "text": [
      "<class 'pandas.core.frame.DataFrame'>\n",
      "RangeIndex: 3214 entries, 0 to 3213\n",
      "Data columns (total 5 columns):\n",
      " #   Column    Non-Null Count  Dtype  \n",
      "---  ------    --------------  -----  \n",
      " 0   calls     3214 non-null   float64\n",
      " 1   minutes   3214 non-null   float64\n",
      " 2   messages  3214 non-null   float64\n",
      " 3   mb_used   3214 non-null   float64\n",
      " 4   is_ultra  3214 non-null   int64  \n",
      "dtypes: float64(4), int64(1)\n",
      "memory usage: 125.7 KB\n"
     ]
    }
   ],
   "source": [
    "user.info()"
   ]
  },
  {
   "cell_type": "code",
   "execution_count": 32,
   "metadata": {},
   "outputs": [
    {
     "data": {
      "text/plain": [
       "calls       0.0\n",
       "minutes     0.0\n",
       "messages    0.0\n",
       "mb_used     0.0\n",
       "is_ultra    0.0\n",
       "dtype: float64"
      ]
     },
     "execution_count": 32,
     "metadata": {},
     "output_type": "execute_result"
    }
   ],
   "source": [
    "user.isna().mean()"
   ]
  },
  {
   "cell_type": "code",
   "execution_count": 33,
   "metadata": {},
   "outputs": [
    {
     "data": {
      "text/plain": [
       "0"
      ]
     },
     "execution_count": 33,
     "metadata": {},
     "output_type": "execute_result"
    }
   ],
   "source": [
    "user.duplicated().sum()"
   ]
  },
  {
   "cell_type": "markdown",
   "metadata": {},
   "source": [
    "В работе рассматривается набор данных, состоящий из 3214 объектов с 5 признаками. Данные имеют типы int64, float. \n",
    "Пропусков нет, дубликатов тоже.\n",
    "Известно:\n",
    "\n",
    "- *сalls* — количество звонков,\n",
    "- *minutes* — суммарная длительность звонков в минутах,\n",
    "- *messages* — количество sms-сообщений,\n",
    "- *mb_used* — израсходованный интернет-трафик в Мб,\n",
    "- *is_ultra* — каким тарифом пользовался в течение месяца («Ультра» — 1, «Смарт» — 0)."
   ]
  },
  {
   "cell_type": "markdown",
   "metadata": {},
   "source": [
    "## Разбиение данных на выборки"
   ]
  },
  {
   "cell_type": "markdown",
   "metadata": {},
   "source": [
    "Чтобы получить тестовую выборку, разобъем данные в отношении 3:1:1."
   ]
  },
  {
   "cell_type": "code",
   "execution_count": 34,
   "metadata": {},
   "outputs": [],
   "source": [
    "user_train, user_valid = train_test_split(user, test_size=0.4, random_state=12345)\n",
    "user_valid, user_test = train_test_split(user_valid, test_size=0.5, random_state=12345)"
   ]
  },
  {
   "cell_type": "code",
   "execution_count": 35,
   "metadata": {},
   "outputs": [],
   "source": [
    "# обучающая выборка\n",
    "features_train = user_train.drop(['is_ultra'], axis=1)\n",
    "target_train = user_train['is_ultra']"
   ]
  },
  {
   "cell_type": "code",
   "execution_count": 36,
   "metadata": {},
   "outputs": [],
   "source": [
    "# валидационная выборка\n",
    "features_valid = user_valid.drop(['is_ultra'], axis=1)\n",
    "target_valid = user_valid['is_ultra']"
   ]
  },
  {
   "cell_type": "code",
   "execution_count": 37,
   "metadata": {},
   "outputs": [],
   "source": [
    "# тестовая выборка\n",
    "features_test = user_test.drop(['is_ultra'], axis=1)\n",
    "target_test = user_test['is_ultra']"
   ]
  },
  {
   "cell_type": "markdown",
   "metadata": {},
   "source": [
    "## Исследование моделей"
   ]
  },
  {
   "cell_type": "markdown",
   "metadata": {},
   "source": [
    "### DecisionTree"
   ]
  },
  {
   "cell_type": "code",
   "execution_count": 38,
   "metadata": {},
   "outputs": [],
   "source": [
    "# словарь для хранения данных лучшей модели:\n",
    "model_dict = {}"
   ]
  },
  {
   "cell_type": "markdown",
   "metadata": {},
   "source": [
    "Для начала определим гиперпараметр решающего дерева:"
   ]
  },
  {
   "cell_type": "code",
   "execution_count": 39,
   "metadata": {
    "scrolled": true
   },
   "outputs": [
    {
     "name": "stdout",
     "output_type": "stream",
     "text": [
      "max_depth = 3\n",
      "Accuracy лучшей модели: 0.7853810264385692\n"
     ]
    }
   ],
   "source": [
    "best_tree_model = None\n",
    "tree_best_result = 0\n",
    "depth_tree = 0\n",
    "for i in range(1, 11):\n",
    "    model_tr = tree.DecisionTreeClassifier(criterion='entropy', random_state=12345, max_depth= i)\n",
    "    model_tr.fit(features_train, target_train)\n",
    "    predictions = model_tr.predict(features_valid)\n",
    "    tree_result = accuracy_score(target_valid, predictions)\n",
    "    if tree_result > tree_best_result:\n",
    "        best_tree_model = model_tr\n",
    "        tree_best_result = tree_result\n",
    "        depth_tree = i\n",
    "print('max_depth =', depth_tree)\n",
    "print('Accuracy лучшей модели:', tree_best_result)"
   ]
  },
  {
   "cell_type": "code",
   "execution_count": 40,
   "metadata": {},
   "outputs": [],
   "source": [
    "model_dict[tree_best_result] = 'DecisionTree', depth_tree"
   ]
  },
  {
   "cell_type": "markdown",
   "metadata": {},
   "source": [
    "### RandomForest"
   ]
  },
  {
   "cell_type": "markdown",
   "metadata": {},
   "source": [
    "Определим оптимальное число деревьев для модели Случайного леса."
   ]
  },
  {
   "cell_type": "code",
   "execution_count": 41,
   "metadata": {},
   "outputs": [
    {
     "name": "stdout",
     "output_type": "stream",
     "text": [
      "Число деревьев: 12\n",
      "Accuracy наилучшей модели на валидационной выборке: 0.7869362363919129\n"
     ]
    }
   ],
   "source": [
    "best_forest_model = None\n",
    "best_forest_result = 0\n",
    "n_est = 0\n",
    "for est in range(1,15):\n",
    "    model_forest = RandomForestClassifier(random_state=12345, min_samples_split=2, n_estimators= est)\n",
    "    model_forest.fit(features_train, target_train)\n",
    "    forest_result = model_forest.score(features_valid, target_valid)\n",
    "    if forest_result > best_forest_result:\n",
    "        best_forest_model = model_forest\n",
    "        best_forest_result = forest_result\n",
    "        n_est = est\n",
    "print('Число деревьев:', n_est)\n",
    "print(\"Accuracy наилучшей модели на валидационной выборке:\", best_forest_result)"
   ]
  },
  {
   "cell_type": "code",
   "execution_count": 42,
   "metadata": {},
   "outputs": [],
   "source": [
    "model_dict[best_forest_result] = 'RandomForest', n_est"
   ]
  },
  {
   "cell_type": "markdown",
   "metadata": {},
   "source": [
    "### LogisticRegression"
   ]
  },
  {
   "cell_type": "code",
   "execution_count": 43,
   "metadata": {},
   "outputs": [
    {
     "name": "stdout",
     "output_type": "stream",
     "text": [
      "Accuracy logistic regression: 0.7107309486780715\n"
     ]
    }
   ],
   "source": [
    "model_logistic = LogisticRegression(random_state=12345, solver='lbfgs', max_iter=1000)\n",
    "model_logistic.fit(features_train, target_train)\n",
    "logistic_result = model_logistic.score(features_valid, target_valid)\n",
    "print('Accuracy logistic regression:', logistic_result)"
   ]
  },
  {
   "cell_type": "code",
   "execution_count": 44,
   "metadata": {},
   "outputs": [],
   "source": [
    "model_dict[logistic_result] = 'LogisticRegression', 1000"
   ]
  },
  {
   "cell_type": "markdown",
   "metadata": {},
   "source": [
    "Из всех имеющихся моделей выберем ту, что имеет самое высокое качество и узнаем ее параметры:"
   ]
  },
  {
   "cell_type": "code",
   "execution_count": 45,
   "metadata": {
    "scrolled": true
   },
   "outputs": [
    {
     "name": "stdout",
     "output_type": "stream",
     "text": [
      "Наилучшая модель: ('RandomForest', 12)\n"
     ]
    }
   ],
   "source": [
    "print('Наилучшая модель:', model_dict.get(sorted(model_dict.keys())[-1]))"
   ]
  },
  {
   "cell_type": "markdown",
   "metadata": {},
   "source": [
    "*ВЫВОД*\n",
    "Как показало исследование, наилучшее Accuracy имеет модель RandomForest с числом деревьев 12."
   ]
  },
  {
   "cell_type": "markdown",
   "metadata": {},
   "source": [
    "## Проверка модели на тестовой выборке"
   ]
  },
  {
   "cell_type": "code",
   "execution_count": 46,
   "metadata": {},
   "outputs": [],
   "source": [
    "model = RandomForestClassifier(random_state=12345,min_samples_split=2, n_estimators=12)\n",
    "model.fit(features_train, target_train)\n",
    "predict_test = model.predict(features_test)\n",
    "predict_train = model.predict(features_train)\n",
    "accuracy_test = accuracy_score(target_test, predict_test)\n",
    "accuracy_train = accuracy_score(target_train, predict_train)"
   ]
  },
  {
   "cell_type": "code",
   "execution_count": 47,
   "metadata": {},
   "outputs": [
    {
     "name": "stdout",
     "output_type": "stream",
     "text": [
      "Accuracy наилучшей модели на обучающей выборке: 0.983402489626556\n",
      "Accuracy наилучшей модели на тестовой выборке: 0.7869362363919129\n"
     ]
    }
   ],
   "source": [
    "print(\"Accuracy наилучшей модели на обучающей выборке:\", accuracy_train)\n",
    "print(\"Accuracy наилучшей модели на тестовой выборке:\", accuracy_test)"
   ]
  },
  {
   "cell_type": "markdown",
   "metadata": {},
   "source": [
    "Проверка на тестовой выборке показала качество модели более 0,78."
   ]
  },
  {
   "cell_type": "markdown",
   "metadata": {},
   "source": [
    "## (бонус) Проверьте модели на адекватность"
   ]
  },
  {
   "cell_type": "code",
   "execution_count": 48,
   "metadata": {},
   "outputs": [
    {
     "data": {
      "text/plain": [
       "0.30647168637212197"
      ]
     },
     "execution_count": 48,
     "metadata": {},
     "output_type": "execute_result"
    }
   ],
   "source": [
    "user['is_ultra'].mean()"
   ]
  },
  {
   "cell_type": "markdown",
   "metadata": {},
   "source": [
    "Как мы могли заметить, данные в нашей модели распределеные неравномерно. Accuracy в данном случае может быть необъективно."
   ]
  },
  {
   "cell_type": "markdown",
   "metadata": {},
   "source": [
    "Попробуем проверить адекватность модели бинарной крассификации с помощью Матрицы ошибок:"
   ]
  },
  {
   "cell_type": "code",
   "execution_count": 49,
   "metadata": {},
   "outputs": [],
   "source": [
    "# Случайный лес\n",
    "model_rfc = RandomForestClassifier(random_state=12345, n_estimators=12)\n",
    "model_rfc.fit(features_train, target_train)\n",
    "y_true = target_test\n",
    "target_predict = model_rfc.predict(features_test)"
   ]
  },
  {
   "cell_type": "code",
   "execution_count": 50,
   "metadata": {},
   "outputs": [
    {
     "data": {
      "text/plain": [
       "<AxesSubplot:>"
      ]
     },
     "execution_count": 50,
     "metadata": {},
     "output_type": "execute_result"
    },
    {
     "data": {
      "image/png": "[encoded data removed]",
      "text/plain": [
       "<Figure size 432x288 with 2 Axes>"
      ]
     },
     "metadata": {
      "needs_background": "light"
     },
     "output_type": "display_data"
    }
   ],
   "source": [
    "tn_fp_fn_tp = confusion_matrix(y_true, target_predict, labels=[0,1])\n",
    "sns.heatmap(tn_fp_fn_tp, annot=True, annot_kws={\"size\": 8}, fmt='.3g', square=True, cmap='coolwarm')"
   ]
  },
  {
   "cell_type": "markdown",
   "metadata": {},
   "source": [
    "Цель модели - максимизация диагональных показателей."
   ]
  },
  {
   "cell_type": "code",
   "execution_count": 51,
   "metadata": {},
   "outputs": [
    {
     "data": {
      "text/plain": [
       "0.70625"
      ]
     },
     "execution_count": 51,
     "metadata": {},
     "output_type": "execute_result"
    }
   ],
   "source": [
    "precision = precision_score(y_true, target_predict, pos_label=1)\n",
    "precision"
   ]
  },
  {
   "cell_type": "markdown",
   "metadata": {},
   "source": [
    "Случайный лес с точностью в 70% случаев верно классифицирует пользователей тарифа Ультра."
   ]
  },
  {
   "cell_type": "code",
   "execution_count": 52,
   "metadata": {},
   "outputs": [
    {
     "data": {
      "text/plain": [
       "0.5566502463054187"
      ]
     },
     "execution_count": 52,
     "metadata": {},
     "output_type": "execute_result"
    }
   ],
   "source": [
    "recall = recall_score(y_true, target_predict, pos_label=1)\n",
    "recall"
   ]
  },
  {
   "cell_type": "markdown",
   "metadata": {},
   "source": [
    "Recall демонстрирует способность алгоритма определять нужный класс - Ультра. Наша модель выделила лишь 55% объектов."
   ]
  },
  {
   "cell_type": "code",
   "execution_count": 53,
   "metadata": {},
   "outputs": [
    {
     "data": {
      "text/plain": [
       "0.6225895316804407"
      ]
     },
     "execution_count": 53,
     "metadata": {},
     "output_type": "execute_result"
    }
   ],
   "source": [
    "f1 = 2 *(recall * precision)/ (recall + precision)\n",
    "f1"
   ]
  },
  {
   "cell_type": "markdown",
   "metadata": {},
   "source": [
    "Итак, качество модели чуть выше 62%. "
   ]
  }
 ],
 "metadata": {
  "ExecuteTimeLog": [
   {
    "duration": 1777,
    "start_time": "2022-05-05T12:37:26.151Z"
   },
   {
    "duration": 397,
    "start_time": "2022-05-05T12:40:08.001Z"
   },
   {
    "duration": 17,
    "start_time": "2022-05-05T12:40:21.734Z"
   },
   {
    "duration": 11,
    "start_time": "2022-05-05T12:40:36.539Z"
   },
   {
    "duration": 8,
    "start_time": "2022-05-05T12:42:18.601Z"
   },
   {
    "duration": 7,
    "start_time": "2022-05-05T12:43:08.549Z"
   },
   {
    "duration": 52,
    "start_time": "2022-05-05T15:59:49.135Z"
   },
   {
    "duration": 1378,
    "start_time": "2022-05-05T16:00:00.924Z"
   },
   {
    "duration": 224,
    "start_time": "2022-05-05T16:00:02.304Z"
   },
   {
    "duration": 17,
    "start_time": "2022-05-05T16:00:02.530Z"
   },
   {
    "duration": 13,
    "start_time": "2022-05-05T16:00:02.549Z"
   },
   {
    "duration": 16,
    "start_time": "2022-05-05T16:00:02.564Z"
   },
   {
    "duration": 9,
    "start_time": "2022-05-05T16:00:02.582Z"
   },
   {
    "duration": 11,
    "start_time": "2022-05-05T16:00:02.592Z"
   },
   {
    "duration": 21,
    "start_time": "2022-05-05T16:00:02.605Z"
   },
   {
    "duration": 5,
    "start_time": "2022-05-05T16:00:39.652Z"
   },
   {
    "duration": 4,
    "start_time": "2022-05-05T16:14:18.309Z"
   },
   {
    "duration": 5,
    "start_time": "2022-05-05T16:14:26.336Z"
   },
   {
    "duration": 4,
    "start_time": "2022-05-05T16:14:55.444Z"
   },
   {
    "duration": 3,
    "start_time": "2022-05-05T16:18:32.743Z"
   },
   {
    "duration": 78,
    "start_time": "2022-05-05T16:25:22.029Z"
   },
   {
    "duration": 1037,
    "start_time": "2022-05-06T07:03:35.760Z"
   },
   {
    "duration": 151,
    "start_time": "2022-05-06T07:03:36.799Z"
   },
   {
    "duration": 16,
    "start_time": "2022-05-06T07:03:36.952Z"
   },
   {
    "duration": 10,
    "start_time": "2022-05-06T07:03:36.971Z"
   },
   {
    "duration": 6,
    "start_time": "2022-05-06T07:03:36.983Z"
   },
   {
    "duration": 7,
    "start_time": "2022-05-06T07:03:36.990Z"
   },
   {
    "duration": 5,
    "start_time": "2022-05-06T07:03:36.999Z"
   },
   {
    "duration": 43,
    "start_time": "2022-05-06T07:03:37.006Z"
   },
   {
    "duration": 6,
    "start_time": "2022-05-06T07:03:37.051Z"
   },
   {
    "duration": 5,
    "start_time": "2022-05-06T07:03:37.059Z"
   },
   {
    "duration": 94,
    "start_time": "2022-05-06T07:03:40.935Z"
   },
   {
    "duration": 3,
    "start_time": "2022-05-06T07:04:22.299Z"
   },
   {
    "duration": 65,
    "start_time": "2022-05-06T07:04:26.562Z"
   },
   {
    "duration": 3,
    "start_time": "2022-05-06T07:07:16.378Z"
   },
   {
    "duration": 14,
    "start_time": "2022-05-06T07:07:29.364Z"
   },
   {
    "duration": 72,
    "start_time": "2022-05-06T07:07:37.937Z"
   },
   {
    "duration": 60,
    "start_time": "2022-05-06T07:07:51.530Z"
   },
   {
    "duration": 59,
    "start_time": "2022-05-06T07:07:55.427Z"
   },
   {
    "duration": 64,
    "start_time": "2022-05-06T07:08:13.248Z"
   },
   {
    "duration": 58,
    "start_time": "2022-05-06T07:09:27.440Z"
   },
   {
    "duration": 68,
    "start_time": "2022-05-06T07:10:01.736Z"
   },
   {
    "duration": 68,
    "start_time": "2022-05-06T07:10:08.891Z"
   },
   {
    "duration": 62,
    "start_time": "2022-05-06T07:11:17.133Z"
   },
   {
    "duration": 1221,
    "start_time": "2022-05-06T07:18:33.221Z"
   },
   {
    "duration": 462,
    "start_time": "2022-05-06T07:18:55.409Z"
   },
   {
    "duration": 461,
    "start_time": "2022-05-06T07:19:23.557Z"
   },
   {
    "duration": 12,
    "start_time": "2022-05-06T07:21:32.717Z"
   },
   {
    "duration": 59,
    "start_time": "2022-05-06T07:28:20.368Z"
   },
   {
    "duration": 469,
    "start_time": "2022-05-06T07:28:23.986Z"
   },
   {
    "duration": 1187,
    "start_time": "2022-05-06T07:30:12.140Z"
   },
   {
    "duration": 534,
    "start_time": "2022-05-06T07:31:50.782Z"
   },
   {
    "duration": 210,
    "start_time": "2022-05-06T07:32:19.078Z"
   },
   {
    "duration": 423,
    "start_time": "2022-05-06T07:32:28.292Z"
   },
   {
    "duration": 424,
    "start_time": "2022-05-06T07:37:10.307Z"
   },
   {
    "duration": 21,
    "start_time": "2022-05-06T07:38:33.229Z"
   },
   {
    "duration": 5,
    "start_time": "2022-05-06T07:53:44.404Z"
   },
   {
    "duration": 3,
    "start_time": "2022-05-06T08:00:36.354Z"
   },
   {
    "duration": 3,
    "start_time": "2022-05-06T08:02:30.837Z"
   },
   {
    "duration": 3,
    "start_time": "2022-05-06T08:03:19.942Z"
   },
   {
    "duration": 3,
    "start_time": "2022-05-06T08:12:15.824Z"
   },
   {
    "duration": 3,
    "start_time": "2022-05-06T08:15:55.527Z"
   },
   {
    "duration": 3,
    "start_time": "2022-05-06T08:17:04.485Z"
   },
   {
    "duration": 2,
    "start_time": "2022-05-06T08:17:30.940Z"
   },
   {
    "duration": 9,
    "start_time": "2022-05-06T08:21:05.171Z"
   },
   {
    "duration": 54,
    "start_time": "2022-05-06T09:51:19.925Z"
   },
   {
    "duration": 1103,
    "start_time": "2022-05-06T09:51:24.992Z"
   },
   {
    "duration": 205,
    "start_time": "2022-05-06T09:51:26.097Z"
   },
   {
    "duration": 15,
    "start_time": "2022-05-06T09:51:26.303Z"
   },
   {
    "duration": 10,
    "start_time": "2022-05-06T09:51:26.320Z"
   },
   {
    "duration": 9,
    "start_time": "2022-05-06T09:51:26.332Z"
   },
   {
    "duration": 33,
    "start_time": "2022-05-06T09:51:26.343Z"
   },
   {
    "duration": 8,
    "start_time": "2022-05-06T09:51:26.377Z"
   },
   {
    "duration": 6,
    "start_time": "2022-05-06T09:51:26.387Z"
   },
   {
    "duration": 6,
    "start_time": "2022-05-06T09:51:26.394Z"
   },
   {
    "duration": 8,
    "start_time": "2022-05-06T09:51:26.401Z"
   },
   {
    "duration": 4,
    "start_time": "2022-05-06T09:51:26.410Z"
   },
   {
    "duration": 71,
    "start_time": "2022-05-06T09:51:26.416Z"
   },
   {
    "duration": 3,
    "start_time": "2022-05-06T09:51:26.488Z"
   },
   {
    "duration": 473,
    "start_time": "2022-05-06T09:51:26.493Z"
   },
   {
    "duration": 3,
    "start_time": "2022-05-06T09:51:26.971Z"
   },
   {
    "duration": 24,
    "start_time": "2022-05-06T09:51:26.976Z"
   },
   {
    "duration": 3,
    "start_time": "2022-05-06T09:51:27.001Z"
   },
   {
    "duration": 3,
    "start_time": "2022-05-06T09:51:28.676Z"
   },
   {
    "duration": 70,
    "start_time": "2022-05-06T09:51:46.442Z"
   },
   {
    "duration": 8,
    "start_time": "2022-05-06T09:53:19.324Z"
   },
   {
    "duration": 3,
    "start_time": "2022-05-06T09:53:31.213Z"
   },
   {
    "duration": 92,
    "start_time": "2022-05-06T09:57:36.448Z"
   },
   {
    "duration": 5,
    "start_time": "2022-05-06T09:57:43.765Z"
   },
   {
    "duration": 33,
    "start_time": "2022-05-06T10:13:31.699Z"
   },
   {
    "duration": 32,
    "start_time": "2022-05-06T10:14:55.085Z"
   },
   {
    "duration": 5,
    "start_time": "2022-05-06T10:15:53.772Z"
   },
   {
    "duration": 11,
    "start_time": "2022-05-06T10:19:21.856Z"
   },
   {
    "duration": 36,
    "start_time": "2022-05-06T10:21:40.391Z"
   },
   {
    "duration": 4,
    "start_time": "2022-05-06T10:21:41.076Z"
   },
   {
    "duration": 3,
    "start_time": "2022-05-06T10:22:09.315Z"
   },
   {
    "duration": 68,
    "start_time": "2022-05-06T10:35:56.162Z"
   },
   {
    "duration": 417,
    "start_time": "2022-05-06T10:38:40.274Z"
   },
   {
    "duration": 414,
    "start_time": "2022-05-06T10:38:46.481Z"
   },
   {
    "duration": 438,
    "start_time": "2022-05-06T10:38:55.857Z"
   },
   {
    "duration": 35,
    "start_time": "2022-05-06T10:39:27.475Z"
   },
   {
    "duration": 3,
    "start_time": "2022-05-06T10:39:28.344Z"
   },
   {
    "duration": 12,
    "start_time": "2022-05-06T11:06:10.326Z"
   },
   {
    "duration": 1462,
    "start_time": "2022-05-06T11:07:48.770Z"
   },
   {
    "duration": 539,
    "start_time": "2022-05-06T11:11:33.930Z"
   },
   {
    "duration": 499,
    "start_time": "2022-05-06T11:11:44.256Z"
   },
   {
    "duration": 593,
    "start_time": "2022-05-06T11:11:58.524Z"
   },
   {
    "duration": 48,
    "start_time": "2022-05-06T12:14:31.399Z"
   },
   {
    "duration": 5,
    "start_time": "2022-05-06T12:21:08.581Z"
   },
   {
    "duration": 71,
    "start_time": "2022-05-06T12:21:17.352Z"
   },
   {
    "duration": 3,
    "start_time": "2022-05-06T12:22:02.561Z"
   },
   {
    "duration": 75,
    "start_time": "2022-05-06T12:22:08.051Z"
   },
   {
    "duration": 51,
    "start_time": "2022-05-06T12:22:16.284Z"
   },
   {
    "duration": 4,
    "start_time": "2022-05-06T12:29:39.350Z"
   },
   {
    "duration": 64,
    "start_time": "2022-05-06T12:29:43.649Z"
   },
   {
    "duration": 58,
    "start_time": "2022-05-06T12:30:10.798Z"
   },
   {
    "duration": 75,
    "start_time": "2022-05-06T12:32:57.359Z"
   },
   {
    "duration": 52,
    "start_time": "2022-05-06T12:33:42.615Z"
   },
   {
    "duration": 3,
    "start_time": "2022-05-06T12:33:57.292Z"
   },
   {
    "duration": 78,
    "start_time": "2022-05-06T12:37:57.325Z"
   },
   {
    "duration": 11,
    "start_time": "2022-05-06T12:38:07.274Z"
   },
   {
    "duration": 264,
    "start_time": "2022-05-06T12:39:36.110Z"
   },
   {
    "duration": 267,
    "start_time": "2022-05-06T12:40:58.234Z"
   },
   {
    "duration": 266,
    "start_time": "2022-05-06T12:43:19.467Z"
   },
   {
    "duration": 235,
    "start_time": "2022-05-06T12:51:01.562Z"
   },
   {
    "duration": 271,
    "start_time": "2022-05-06T12:51:06.800Z"
   },
   {
    "duration": 72,
    "start_time": "2022-05-06T12:56:32.029Z"
   },
   {
    "duration": 3,
    "start_time": "2022-05-06T12:56:37.566Z"
   },
   {
    "duration": 4,
    "start_time": "2022-05-06T12:56:46.195Z"
   },
   {
    "duration": 9,
    "start_time": "2022-05-06T12:59:58.161Z"
   },
   {
    "duration": 3,
    "start_time": "2022-05-06T13:00:38.267Z"
   },
   {
    "duration": 13,
    "start_time": "2022-05-06T13:00:47.377Z"
   },
   {
    "duration": 13,
    "start_time": "2022-05-06T13:01:01.129Z"
   },
   {
    "duration": 14,
    "start_time": "2022-05-06T13:01:10.011Z"
   },
   {
    "duration": 4,
    "start_time": "2022-05-06T13:01:23.081Z"
   },
   {
    "duration": 5,
    "start_time": "2022-05-06T13:04:16.959Z"
   },
   {
    "duration": 1562,
    "start_time": "2022-05-06T17:28:38.717Z"
   },
   {
    "duration": 158,
    "start_time": "2022-05-06T17:28:40.282Z"
   },
   {
    "duration": 26,
    "start_time": "2022-05-06T17:28:40.443Z"
   },
   {
    "duration": 18,
    "start_time": "2022-05-06T17:28:40.472Z"
   },
   {
    "duration": 11,
    "start_time": "2022-05-06T17:28:40.493Z"
   },
   {
    "duration": 13,
    "start_time": "2022-05-06T17:28:40.506Z"
   },
   {
    "duration": 8,
    "start_time": "2022-05-06T17:28:40.521Z"
   },
   {
    "duration": 5,
    "start_time": "2022-05-06T17:28:40.531Z"
   },
   {
    "duration": 43,
    "start_time": "2022-05-06T17:28:40.539Z"
   },
   {
    "duration": 5,
    "start_time": "2022-05-06T17:28:40.586Z"
   },
   {
    "duration": 7,
    "start_time": "2022-05-06T17:28:40.594Z"
   },
   {
    "duration": 132,
    "start_time": "2022-05-06T17:28:40.603Z"
   },
   {
    "duration": 4,
    "start_time": "2022-05-06T17:28:40.737Z"
   },
   {
    "duration": 874,
    "start_time": "2022-05-06T17:28:40.743Z"
   },
   {
    "duration": 3,
    "start_time": "2022-05-06T17:28:41.619Z"
   },
   {
    "duration": 57,
    "start_time": "2022-05-06T17:28:41.625Z"
   },
   {
    "duration": 4,
    "start_time": "2022-05-06T17:28:41.684Z"
   },
   {
    "duration": 6,
    "start_time": "2022-05-06T17:28:41.691Z"
   },
   {
    "duration": 84,
    "start_time": "2022-05-06T17:28:41.700Z"
   },
   {
    "duration": 5,
    "start_time": "2022-05-06T17:28:41.786Z"
   },
   {
    "duration": 6,
    "start_time": "2022-05-06T17:28:41.793Z"
   },
   {
    "duration": 178,
    "start_time": "2022-05-06T17:28:41.801Z"
   },
   {
    "duration": 0,
    "start_time": "2022-05-06T17:28:41.981Z"
   },
   {
    "duration": 709,
    "start_time": "2022-05-06T17:33:16.978Z"
   },
   {
    "duration": 570,
    "start_time": "2022-05-06T17:33:22.185Z"
   },
   {
    "duration": 8,
    "start_time": "2022-05-06T17:33:35.575Z"
   },
   {
    "duration": 32,
    "start_time": "2022-05-06T17:34:26.612Z"
   },
   {
    "duration": 84,
    "start_time": "2022-05-06T17:34:34.825Z"
   },
   {
    "duration": 345,
    "start_time": "2022-05-06T17:34:35.336Z"
   },
   {
    "duration": 8,
    "start_time": "2022-05-06T17:34:39.544Z"
   },
   {
    "duration": 341,
    "start_time": "2022-05-06T17:35:36.005Z"
   },
   {
    "duration": 412,
    "start_time": "2022-05-06T17:35:42.471Z"
   },
   {
    "duration": 139,
    "start_time": "2022-05-06T17:44:09.166Z"
   },
   {
    "duration": 5,
    "start_time": "2022-05-06T17:45:54.348Z"
   },
   {
    "duration": 5,
    "start_time": "2022-05-06T17:46:06.955Z"
   },
   {
    "duration": 6,
    "start_time": "2022-05-06T17:46:15.730Z"
   },
   {
    "duration": 7,
    "start_time": "2022-05-06T17:46:24.383Z"
   },
   {
    "duration": 6,
    "start_time": "2022-05-06T17:46:32.606Z"
   },
   {
    "duration": 5,
    "start_time": "2022-05-06T17:52:35.076Z"
   },
   {
    "duration": 24,
    "start_time": "2022-05-06T17:54:01.622Z"
   },
   {
    "duration": 31,
    "start_time": "2022-05-06T17:55:14.267Z"
   },
   {
    "duration": 5,
    "start_time": "2022-05-06T17:56:03.533Z"
   },
   {
    "duration": 8,
    "start_time": "2022-05-06T17:56:56.575Z"
   },
   {
    "duration": 8,
    "start_time": "2022-05-06T17:57:05.114Z"
   },
   {
    "duration": 16,
    "start_time": "2022-05-06T17:59:35.576Z"
   },
   {
    "duration": 16,
    "start_time": "2022-05-06T17:59:43.931Z"
   },
   {
    "duration": 16,
    "start_time": "2022-05-06T18:00:03.590Z"
   },
   {
    "duration": 2417,
    "start_time": "2022-05-09T06:30:50.387Z"
   },
   {
    "duration": 172,
    "start_time": "2022-05-09T06:30:52.807Z"
   },
   {
    "duration": 49,
    "start_time": "2022-05-09T06:31:11.468Z"
   },
   {
    "duration": 22,
    "start_time": "2022-05-09T06:31:18.626Z"
   },
   {
    "duration": 173,
    "start_time": "2022-05-09T06:31:21.053Z"
   },
   {
    "duration": 21,
    "start_time": "2022-05-09T06:31:21.980Z"
   },
   {
    "duration": 18,
    "start_time": "2022-05-09T06:31:24.126Z"
   },
   {
    "duration": 9,
    "start_time": "2022-05-09T06:31:24.810Z"
   },
   {
    "duration": 8,
    "start_time": "2022-05-09T06:31:27.149Z"
   },
   {
    "duration": 4,
    "start_time": "2022-05-09T06:32:18.637Z"
   },
   {
    "duration": 9,
    "start_time": "2022-05-09T06:37:19.814Z"
   },
   {
    "duration": 13,
    "start_time": "2022-05-09T06:37:19.826Z"
   },
   {
    "duration": 10,
    "start_time": "2022-05-09T06:37:19.841Z"
   },
   {
    "duration": 14,
    "start_time": "2022-05-09T06:37:19.853Z"
   },
   {
    "duration": 7,
    "start_time": "2022-05-09T06:37:19.870Z"
   },
   {
    "duration": 145,
    "start_time": "2022-05-09T06:37:19.879Z"
   },
   {
    "duration": 21,
    "start_time": "2022-05-09T06:37:20.027Z"
   },
   {
    "duration": 0,
    "start_time": "2022-05-09T06:37:20.052Z"
   },
   {
    "duration": 0,
    "start_time": "2022-05-09T06:37:20.054Z"
   },
   {
    "duration": 0,
    "start_time": "2022-05-09T06:37:20.056Z"
   },
   {
    "duration": 0,
    "start_time": "2022-05-09T06:37:20.057Z"
   },
   {
    "duration": 0,
    "start_time": "2022-05-09T06:37:20.060Z"
   },
   {
    "duration": 0,
    "start_time": "2022-05-09T06:37:20.062Z"
   },
   {
    "duration": 0,
    "start_time": "2022-05-09T06:37:20.064Z"
   },
   {
    "duration": 0,
    "start_time": "2022-05-09T06:37:20.066Z"
   },
   {
    "duration": 0,
    "start_time": "2022-05-09T06:37:20.068Z"
   },
   {
    "duration": 0,
    "start_time": "2022-05-09T06:37:20.070Z"
   },
   {
    "duration": 0,
    "start_time": "2022-05-09T06:37:20.072Z"
   },
   {
    "duration": 0,
    "start_time": "2022-05-09T06:37:20.074Z"
   },
   {
    "duration": 0,
    "start_time": "2022-05-09T06:37:20.075Z"
   },
   {
    "duration": 11,
    "start_time": "2022-05-09T06:37:20.350Z"
   },
   {
    "duration": 14,
    "start_time": "2022-05-09T06:40:55.600Z"
   },
   {
    "duration": 14,
    "start_time": "2022-05-09T06:41:51.661Z"
   },
   {
    "duration": 5,
    "start_time": "2022-05-09T06:41:57.801Z"
   },
   {
    "duration": 17,
    "start_time": "2022-05-09T06:42:02.750Z"
   },
   {
    "duration": 17,
    "start_time": "2022-05-09T06:42:35.979Z"
   },
   {
    "duration": 141,
    "start_time": "2022-05-09T06:42:47.210Z"
   },
   {
    "duration": 119,
    "start_time": "2022-05-09T06:44:33.144Z"
   },
   {
    "duration": 101,
    "start_time": "2022-05-09T06:44:35.261Z"
   },
   {
    "duration": 5,
    "start_time": "2022-05-09T06:44:46.393Z"
   },
   {
    "duration": 5,
    "start_time": "2022-05-09T06:49:00.100Z"
   },
   {
    "duration": 134,
    "start_time": "2022-05-09T06:49:00.111Z"
   },
   {
    "duration": 15,
    "start_time": "2022-05-09T06:49:00.248Z"
   },
   {
    "duration": 75,
    "start_time": "2022-05-09T06:49:00.266Z"
   },
   {
    "duration": 15,
    "start_time": "2022-05-09T06:49:00.345Z"
   },
   {
    "duration": 23,
    "start_time": "2022-05-09T06:49:00.363Z"
   },
   {
    "duration": 22,
    "start_time": "2022-05-09T06:49:00.389Z"
   },
   {
    "duration": 14,
    "start_time": "2022-05-09T06:49:00.413Z"
   },
   {
    "duration": 14,
    "start_time": "2022-05-09T06:49:00.429Z"
   },
   {
    "duration": 17,
    "start_time": "2022-05-09T06:49:00.446Z"
   },
   {
    "duration": 9,
    "start_time": "2022-05-09T06:49:00.469Z"
   },
   {
    "duration": 126,
    "start_time": "2022-05-09T06:49:00.480Z"
   },
   {
    "duration": 18,
    "start_time": "2022-05-09T06:49:00.609Z"
   },
   {
    "duration": 714,
    "start_time": "2022-05-09T06:49:00.630Z"
   },
   {
    "duration": 5,
    "start_time": "2022-05-09T06:49:01.346Z"
   },
   {
    "duration": 52,
    "start_time": "2022-05-09T06:49:01.354Z"
   },
   {
    "duration": 16,
    "start_time": "2022-05-09T06:49:01.409Z"
   },
   {
    "duration": 19,
    "start_time": "2022-05-09T06:49:01.428Z"
   },
   {
    "duration": 57,
    "start_time": "2022-05-09T06:49:01.450Z"
   },
   {
    "duration": 18,
    "start_time": "2022-05-09T06:49:01.510Z"
   },
   {
    "duration": 96,
    "start_time": "2022-05-09T06:49:01.531Z"
   },
   {
    "duration": 453,
    "start_time": "2022-05-09T06:49:01.629Z"
   },
   {
    "duration": 10,
    "start_time": "2022-05-09T06:49:02.086Z"
   },
   {
    "duration": 39,
    "start_time": "2022-05-09T06:49:02.098Z"
   },
   {
    "duration": 26,
    "start_time": "2022-05-09T06:49:02.139Z"
   },
   {
    "duration": 22,
    "start_time": "2022-05-09T06:49:02.167Z"
   },
   {
    "duration": 6,
    "start_time": "2022-05-09T06:49:12.568Z"
   },
   {
    "duration": 7,
    "start_time": "2022-05-09T06:49:45.197Z"
   },
   {
    "duration": 5,
    "start_time": "2022-05-09T06:49:56.525Z"
   },
   {
    "duration": 6,
    "start_time": "2022-05-09T06:50:05.543Z"
   },
   {
    "duration": 13,
    "start_time": "2022-05-09T06:50:15.238Z"
   },
   {
    "duration": 7,
    "start_time": "2022-05-09T06:50:20.145Z"
   },
   {
    "duration": 6,
    "start_time": "2022-05-09T06:50:25.157Z"
   },
   {
    "duration": 2565,
    "start_time": "2022-05-09T07:47:51.820Z"
   },
   {
    "duration": 190,
    "start_time": "2022-05-09T07:47:54.388Z"
   },
   {
    "duration": 19,
    "start_time": "2022-05-09T07:47:54.580Z"
   },
   {
    "duration": 18,
    "start_time": "2022-05-09T07:47:54.601Z"
   },
   {
    "duration": 13,
    "start_time": "2022-05-09T07:47:54.622Z"
   },
   {
    "duration": 8,
    "start_time": "2022-05-09T07:47:54.637Z"
   },
   {
    "duration": 37,
    "start_time": "2022-05-09T07:47:54.648Z"
   },
   {
    "duration": 5,
    "start_time": "2022-05-09T07:47:54.687Z"
   },
   {
    "duration": 7,
    "start_time": "2022-05-09T07:47:54.694Z"
   },
   {
    "duration": 6,
    "start_time": "2022-05-09T07:47:54.703Z"
   },
   {
    "duration": 6,
    "start_time": "2022-05-09T07:47:54.711Z"
   },
   {
    "duration": 150,
    "start_time": "2022-05-09T07:47:54.719Z"
   },
   {
    "duration": 12,
    "start_time": "2022-05-09T07:47:54.871Z"
   },
   {
    "duration": 669,
    "start_time": "2022-05-09T07:47:54.887Z"
   },
   {
    "duration": 4,
    "start_time": "2022-05-09T07:47:55.559Z"
   },
   {
    "duration": 33,
    "start_time": "2022-05-09T07:47:55.581Z"
   },
   {
    "duration": 4,
    "start_time": "2022-05-09T07:47:55.616Z"
   },
   {
    "duration": 8,
    "start_time": "2022-05-09T07:47:55.622Z"
   },
   {
    "duration": 89,
    "start_time": "2022-05-09T07:47:55.632Z"
   },
   {
    "duration": 5,
    "start_time": "2022-05-09T07:47:55.723Z"
   },
   {
    "duration": 8,
    "start_time": "2022-05-09T07:47:55.730Z"
   },
   {
    "duration": 99,
    "start_time": "2022-05-09T07:47:55.740Z"
   },
   {
    "duration": 409,
    "start_time": "2022-05-09T07:47:55.841Z"
   },
   {
    "duration": 11,
    "start_time": "2022-05-09T07:47:56.252Z"
   },
   {
    "duration": 22,
    "start_time": "2022-05-09T07:47:56.266Z"
   },
   {
    "duration": 6,
    "start_time": "2022-05-09T07:47:56.291Z"
   },
   {
    "duration": 55,
    "start_time": "2022-05-09T11:42:19.396Z"
   },
   {
    "duration": 2046,
    "start_time": "2022-05-09T11:43:23.958Z"
   },
   {
    "duration": 192,
    "start_time": "2022-05-09T11:43:26.010Z"
   },
   {
    "duration": 18,
    "start_time": "2022-05-09T11:43:26.205Z"
   },
   {
    "duration": 21,
    "start_time": "2022-05-09T11:43:26.226Z"
   },
   {
    "duration": 10,
    "start_time": "2022-05-09T11:43:26.249Z"
   },
   {
    "duration": 10,
    "start_time": "2022-05-09T11:43:26.261Z"
   },
   {
    "duration": 9,
    "start_time": "2022-05-09T11:43:26.273Z"
   },
   {
    "duration": 7,
    "start_time": "2022-05-09T11:43:26.284Z"
   },
   {
    "duration": 6,
    "start_time": "2022-05-09T11:43:26.293Z"
   },
   {
    "duration": 7,
    "start_time": "2022-05-09T11:43:26.302Z"
   },
   {
    "duration": 8,
    "start_time": "2022-05-09T11:43:26.311Z"
   },
   {
    "duration": 100,
    "start_time": "2022-05-09T11:43:26.321Z"
   },
   {
    "duration": 3,
    "start_time": "2022-05-09T11:43:26.423Z"
   },
   {
    "duration": 512,
    "start_time": "2022-05-09T11:43:26.428Z"
   },
   {
    "duration": 3,
    "start_time": "2022-05-09T11:43:26.942Z"
   },
   {
    "duration": 28,
    "start_time": "2022-05-09T11:43:26.954Z"
   },
   {
    "duration": 5,
    "start_time": "2022-05-09T11:43:26.984Z"
   },
   {
    "duration": 6,
    "start_time": "2022-05-09T11:43:26.990Z"
   },
   {
    "duration": 85,
    "start_time": "2022-05-09T11:43:26.998Z"
   },
   {
    "duration": 4,
    "start_time": "2022-05-09T11:43:27.085Z"
   },
   {
    "duration": 12,
    "start_time": "2022-05-09T11:43:27.091Z"
   },
   {
    "duration": 73,
    "start_time": "2022-05-09T11:43:27.104Z"
   },
   {
    "duration": 339,
    "start_time": "2022-05-09T11:43:27.179Z"
   },
   {
    "duration": 6,
    "start_time": "2022-05-09T11:43:27.520Z"
   },
   {
    "duration": 10,
    "start_time": "2022-05-09T11:43:27.528Z"
   },
   {
    "duration": 16,
    "start_time": "2022-05-09T11:43:27.540Z"
   },
   {
    "duration": 4,
    "start_time": "2022-05-09T11:54:09.687Z"
   },
   {
    "duration": 112,
    "start_time": "2022-05-09T11:54:09.695Z"
   },
   {
    "duration": 14,
    "start_time": "2022-05-09T11:54:09.809Z"
   },
   {
    "duration": 21,
    "start_time": "2022-05-09T11:54:09.825Z"
   },
   {
    "duration": 13,
    "start_time": "2022-05-09T11:54:09.849Z"
   },
   {
    "duration": 8,
    "start_time": "2022-05-09T11:54:09.864Z"
   },
   {
    "duration": 7,
    "start_time": "2022-05-09T11:54:09.874Z"
   },
   {
    "duration": 8,
    "start_time": "2022-05-09T11:54:09.883Z"
   },
   {
    "duration": 12,
    "start_time": "2022-05-09T11:54:09.893Z"
   },
   {
    "duration": 14,
    "start_time": "2022-05-09T11:54:09.906Z"
   },
   {
    "duration": 19,
    "start_time": "2022-05-09T11:54:09.923Z"
   },
   {
    "duration": 114,
    "start_time": "2022-05-09T11:54:10.105Z"
   },
   {
    "duration": 3,
    "start_time": "2022-05-09T11:54:10.322Z"
   },
   {
    "duration": 478,
    "start_time": "2022-05-09T11:54:10.328Z"
   },
   {
    "duration": 3,
    "start_time": "2022-05-09T11:54:10.808Z"
   },
   {
    "duration": 26,
    "start_time": "2022-05-09T11:54:10.813Z"
   },
   {
    "duration": 3,
    "start_time": "2022-05-09T11:54:10.855Z"
   },
   {
    "duration": 9,
    "start_time": "2022-05-09T11:54:10.860Z"
   },
   {
    "duration": 64,
    "start_time": "2022-05-09T11:54:10.871Z"
   },
   {
    "duration": 18,
    "start_time": "2022-05-09T11:54:10.937Z"
   },
   {
    "duration": 5,
    "start_time": "2022-05-09T11:54:10.957Z"
   },
   {
    "duration": 57,
    "start_time": "2022-05-09T11:54:10.965Z"
   },
   {
    "duration": 277,
    "start_time": "2022-05-09T11:54:11.025Z"
   },
   {
    "duration": 7,
    "start_time": "2022-05-09T11:54:11.304Z"
   },
   {
    "duration": 9,
    "start_time": "2022-05-09T11:54:11.313Z"
   },
   {
    "duration": 4,
    "start_time": "2022-05-09T11:54:11.323Z"
   }
  ],
  "kernelspec": {
   "display_name": "Python 3 (ipykernel)",
   "language": "python",
   "name": "python3"
  },
  "language_info": {
   "codemirror_mode": {
    "name": "ipython",
    "version": 3
   },
   "file_extension": ".py",
   "mimetype": "text/x-python",
   "name": "python",
   "nbconvert_exporter": "python",
   "pygments_lexer": "ipython3",
   "version": "3.9.12"
  },
  "toc": {
   "base_numbering": 1,
   "nav_menu": {},
   "number_sections": true,
   "sideBar": true,
   "skip_h1_title": true,
   "title_cell": "Table of Contents",
   "title_sidebar": "Contents",
   "toc_cell": false,
   "toc_position": {
    "height": "calc(100% - 180px)",
    "left": "10px",
    "top": "150px",
    "width": "165px"
   },
   "toc_section_display": true,
   "toc_window_display": true
  }
 },
 "nbformat": 4,
 "nbformat_minor": 2
}
