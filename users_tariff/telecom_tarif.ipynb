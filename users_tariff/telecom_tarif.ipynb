{
 "cells": [
  {
   "cell_type": "markdown",
   "metadata": {},
   "source": [
    "# Определение перспективного тарифа для телеком-компании"
   ]
  },
  {
   "cell_type": "markdown",
   "metadata": {},
   "source": [
    "Вы аналитик компании «Мегалайн» — федерального оператора сотовой связи. Клиентам предлагают два тарифных плана: «Смарт» и «Ультра». Чтобы скорректировать рекламный бюджет, коммерческий департамент хочет понять, какой тариф приносит больше денег.\n",
    "\n",
    "Вам предстоит сделать предварительный анализ тарифов на небольшой выборке клиентов. В вашем распоряжении данные 500 пользователей «Мегалайна»: кто они, откуда, каким тарифом пользуются, сколько звонков и сообщений каждый отправил за 2018 год. Нужно проанализировать поведение клиентов и сделать вывод — какой тариф лучше.\n",
    "\n",
    "**Описание тарифов**\n",
    "\n",
    "**Тариф «Смарт»**\n",
    "\n",
    "1. Ежемесячная плата: 550 рублей\n",
    "2. Включено 500 минут разговора, 50 сообщений и 15 Гб интернет-трафика\n",
    "3. Стоимость услуг сверх тарифного пакета:\n",
    "    - минута разговора: 3 рубля\n",
    "    - сообщение: 3 рубля\n",
    "    - 1 Гб интернет-трафика: 200 рублей\n",
    "\n",
    "**Тариф «Ультра»**\n",
    "\n",
    "1. Ежемесячная плата: 1950 рублей\n",
    "2. Включено 3000 минут разговора, 1000 сообщений и 30 Гб интернет-трафика\n",
    "3. Стоимость услуг сверх тарифного пакета:\n",
    "    - минута разговора: 1 рубль\n",
    "    - сообщение: 1 рубль\n",
    "    - 1 Гб интернет-трафика: 150 рублей\n",
    "    \n",
    "    \n",
    "**Цель исследования**\n",
    "\n",
    "Проверим гипотезы:\n",
    "\n",
    " 1. средняя выручка пользователей тарифов «Ультра» и «Смарт» различаются;\n",
    " 2. средняя выручка пользователей из Москвы отличается от выручки пользователей из других регионов.\n",
    " \n",
    "**Ход исследования:**\n",
    "\n",
    "Данные получены из нескольких файлов, необходимо провести:\n",
    " - обзор данных\n",
    " - предобработку данных\n",
    " - анализ и описание данных\n",
    " - проверку гипотез"
   ]
  },
  {
   "cell_type": "markdown",
   "metadata": {},
   "source": [
    "## Обзор данных"
   ]
  },
  {
   "cell_type": "code",
   "execution_count": 87,
   "metadata": {},
   "outputs": [],
   "source": [
    "import pandas as pd\n",
    "import numpy as np\n",
    "import matplotlib.pyplot as plt\n",
    "from scipy import stats as st"
   ]
  },
  {
   "cell_type": "code",
   "execution_count": 88,
   "metadata": {},
   "outputs": [],
   "source": [
    "calls = pd.read_csv('/datasets/calls.csv')"
   ]
  },
  {
   "cell_type": "code",
   "execution_count": 89,
   "metadata": {},
   "outputs": [],
   "source": [
    "internet = pd.read_csv('/datasets/internet.csv')"
   ]
  },
  {
   "cell_type": "code",
   "execution_count": 90,
   "metadata": {},
   "outputs": [],
   "source": [
    "messages = pd.read_csv('/datasets/messages.csv')"
   ]
  },
  {
   "cell_type": "code",
   "execution_count": 91,
   "metadata": {},
   "outputs": [],
   "source": [
    "tariffs = pd.read_csv('/datasets/tariffs.csv')"
   ]
  },
  {
   "cell_type": "code",
   "execution_count": 92,
   "metadata": {},
   "outputs": [],
   "source": [
    "users = pd.read_csv('/datasets/users.csv')"
   ]
  },
  {
   "cell_type": "code",
   "execution_count": 93,
   "metadata": {},
   "outputs": [
    {
     "data": {
      "text/html": [
       "<div>\n",
       "<style scoped>\n",
       "    .dataframe tbody tr th:only-of-type {\n",
       "        vertical-align: middle;\n",
       "    }\n",
       "\n",
       "    .dataframe tbody tr th {\n",
       "        vertical-align: top;\n",
       "    }\n",
       "\n",
       "    .dataframe thead th {\n",
       "        text-align: right;\n",
       "    }\n",
       "</style>\n",
       "<table border=\"1\" class=\"dataframe\">\n",
       "  <thead>\n",
       "    <tr style=\"text-align: right;\">\n",
       "      <th></th>\n",
       "      <th>id</th>\n",
       "      <th>call_date</th>\n",
       "      <th>duration</th>\n",
       "      <th>user_id</th>\n",
       "    </tr>\n",
       "  </thead>\n",
       "  <tbody>\n",
       "    <tr>\n",
       "      <th>0</th>\n",
       "      <td>1000_0</td>\n",
       "      <td>2018-07-25</td>\n",
       "      <td>0.00</td>\n",
       "      <td>1000</td>\n",
       "    </tr>\n",
       "    <tr>\n",
       "      <th>1</th>\n",
       "      <td>1000_1</td>\n",
       "      <td>2018-08-17</td>\n",
       "      <td>0.00</td>\n",
       "      <td>1000</td>\n",
       "    </tr>\n",
       "    <tr>\n",
       "      <th>2</th>\n",
       "      <td>1000_2</td>\n",
       "      <td>2018-06-11</td>\n",
       "      <td>2.85</td>\n",
       "      <td>1000</td>\n",
       "    </tr>\n",
       "    <tr>\n",
       "      <th>3</th>\n",
       "      <td>1000_3</td>\n",
       "      <td>2018-09-21</td>\n",
       "      <td>13.80</td>\n",
       "      <td>1000</td>\n",
       "    </tr>\n",
       "    <tr>\n",
       "      <th>4</th>\n",
       "      <td>1000_4</td>\n",
       "      <td>2018-12-15</td>\n",
       "      <td>5.18</td>\n",
       "      <td>1000</td>\n",
       "    </tr>\n",
       "  </tbody>\n",
       "</table>\n",
       "</div>"
      ],
      "text/plain": [
       "       id   call_date  duration  user_id\n",
       "0  1000_0  2018-07-25      0.00     1000\n",
       "1  1000_1  2018-08-17      0.00     1000\n",
       "2  1000_2  2018-06-11      2.85     1000\n",
       "3  1000_3  2018-09-21     13.80     1000\n",
       "4  1000_4  2018-12-15      5.18     1000"
      ]
     },
     "execution_count": 93,
     "metadata": {},
     "output_type": "execute_result"
    }
   ],
   "source": [
    "calls.head()"
   ]
  },
  {
   "cell_type": "code",
   "execution_count": 94,
   "metadata": {},
   "outputs": [
    {
     "name": "stdout",
     "output_type": "stream",
     "text": [
      "<class 'pandas.core.frame.DataFrame'>\n",
      "RangeIndex: 202607 entries, 0 to 202606\n",
      "Data columns (total 4 columns):\n",
      " #   Column     Non-Null Count   Dtype  \n",
      "---  ------     --------------   -----  \n",
      " 0   id         202607 non-null  object \n",
      " 1   call_date  202607 non-null  object \n",
      " 2   duration   202607 non-null  float64\n",
      " 3   user_id    202607 non-null  int64  \n",
      "dtypes: float64(1), int64(1), object(2)\n",
      "memory usage: 6.2+ MB\n"
     ]
    }
   ],
   "source": [
    "calls.info()"
   ]
  },
  {
   "cell_type": "markdown",
   "metadata": {},
   "source": [
    "Итак, в таблице Сalls 4 колонки, с типами данных float64, int64, object.\n",
    "\n",
    "Описание данных:\n",
    "\n",
    "   * id — уникальный номер звонка\n",
    "   * call_date — дата звонка\n",
    "   * duration — длительность звонка в минутах\n",
    "   * user_id — идентификатор пользователя, сделавшего звонок \n",
    "\n",
    "Пропусков в данных нет, нарушения стиля в названиях тоже. Просмотрим остальные файлы."
   ]
  },
  {
   "cell_type": "code",
   "execution_count": 95,
   "metadata": {},
   "outputs": [
    {
     "data": {
      "text/html": [
       "<div>\n",
       "<style scoped>\n",
       "    .dataframe tbody tr th:only-of-type {\n",
       "        vertical-align: middle;\n",
       "    }\n",
       "\n",
       "    .dataframe tbody tr th {\n",
       "        vertical-align: top;\n",
       "    }\n",
       "\n",
       "    .dataframe thead th {\n",
       "        text-align: right;\n",
       "    }\n",
       "</style>\n",
       "<table border=\"1\" class=\"dataframe\">\n",
       "  <thead>\n",
       "    <tr style=\"text-align: right;\">\n",
       "      <th></th>\n",
       "      <th>Unnamed: 0</th>\n",
       "      <th>id</th>\n",
       "      <th>mb_used</th>\n",
       "      <th>session_date</th>\n",
       "      <th>user_id</th>\n",
       "    </tr>\n",
       "  </thead>\n",
       "  <tbody>\n",
       "    <tr>\n",
       "      <th>0</th>\n",
       "      <td>0</td>\n",
       "      <td>1000_0</td>\n",
       "      <td>112.95</td>\n",
       "      <td>2018-11-25</td>\n",
       "      <td>1000</td>\n",
       "    </tr>\n",
       "    <tr>\n",
       "      <th>1</th>\n",
       "      <td>1</td>\n",
       "      <td>1000_1</td>\n",
       "      <td>1052.81</td>\n",
       "      <td>2018-09-07</td>\n",
       "      <td>1000</td>\n",
       "    </tr>\n",
       "    <tr>\n",
       "      <th>2</th>\n",
       "      <td>2</td>\n",
       "      <td>1000_2</td>\n",
       "      <td>1197.26</td>\n",
       "      <td>2018-06-25</td>\n",
       "      <td>1000</td>\n",
       "    </tr>\n",
       "    <tr>\n",
       "      <th>3</th>\n",
       "      <td>3</td>\n",
       "      <td>1000_3</td>\n",
       "      <td>550.27</td>\n",
       "      <td>2018-08-22</td>\n",
       "      <td>1000</td>\n",
       "    </tr>\n",
       "    <tr>\n",
       "      <th>4</th>\n",
       "      <td>4</td>\n",
       "      <td>1000_4</td>\n",
       "      <td>302.56</td>\n",
       "      <td>2018-09-24</td>\n",
       "      <td>1000</td>\n",
       "    </tr>\n",
       "  </tbody>\n",
       "</table>\n",
       "</div>"
      ],
      "text/plain": [
       "   Unnamed: 0      id  mb_used session_date  user_id\n",
       "0           0  1000_0   112.95   2018-11-25     1000\n",
       "1           1  1000_1  1052.81   2018-09-07     1000\n",
       "2           2  1000_2  1197.26   2018-06-25     1000\n",
       "3           3  1000_3   550.27   2018-08-22     1000\n",
       "4           4  1000_4   302.56   2018-09-24     1000"
      ]
     },
     "execution_count": 95,
     "metadata": {},
     "output_type": "execute_result"
    }
   ],
   "source": [
    "internet.head()"
   ]
  },
  {
   "cell_type": "code",
   "execution_count": 96,
   "metadata": {},
   "outputs": [
    {
     "name": "stdout",
     "output_type": "stream",
     "text": [
      "<class 'pandas.core.frame.DataFrame'>\n",
      "RangeIndex: 149396 entries, 0 to 149395\n",
      "Data columns (total 5 columns):\n",
      " #   Column        Non-Null Count   Dtype  \n",
      "---  ------        --------------   -----  \n",
      " 0   Unnamed: 0    149396 non-null  int64  \n",
      " 1   id            149396 non-null  object \n",
      " 2   mb_used       149396 non-null  float64\n",
      " 3   session_date  149396 non-null  object \n",
      " 4   user_id       149396 non-null  int64  \n",
      "dtypes: float64(1), int64(2), object(2)\n",
      "memory usage: 5.7+ MB\n"
     ]
    }
   ],
   "source": [
    "internet.info()"
   ]
  },
  {
   "cell_type": "markdown",
   "metadata": {},
   "source": [
    "В датасете Internet 5 колонок типа float64, int64, object.\n",
    "\n",
    "Описание данных:\n",
    "\n",
    "   * id — уникальный номер сессии\n",
    "   * mb_used — объём потраченного за сессию интернет-трафика (в мегабайтах)\n",
    "   * session_date — дата интернет-сессии\n",
    "   * user_id — идентификатор пользователя\n",
    "\n",
    "Пропусков данных нет, однако первый столбец дублирует индексы, его следует удалить."
   ]
  },
  {
   "cell_type": "code",
   "execution_count": 97,
   "metadata": {},
   "outputs": [
    {
     "data": {
      "text/html": [
       "<div>\n",
       "<style scoped>\n",
       "    .dataframe tbody tr th:only-of-type {\n",
       "        vertical-align: middle;\n",
       "    }\n",
       "\n",
       "    .dataframe tbody tr th {\n",
       "        vertical-align: top;\n",
       "    }\n",
       "\n",
       "    .dataframe thead th {\n",
       "        text-align: right;\n",
       "    }\n",
       "</style>\n",
       "<table border=\"1\" class=\"dataframe\">\n",
       "  <thead>\n",
       "    <tr style=\"text-align: right;\">\n",
       "      <th></th>\n",
       "      <th>id</th>\n",
       "      <th>message_date</th>\n",
       "      <th>user_id</th>\n",
       "    </tr>\n",
       "  </thead>\n",
       "  <tbody>\n",
       "    <tr>\n",
       "      <th>0</th>\n",
       "      <td>1000_0</td>\n",
       "      <td>2018-06-27</td>\n",
       "      <td>1000</td>\n",
       "    </tr>\n",
       "    <tr>\n",
       "      <th>1</th>\n",
       "      <td>1000_1</td>\n",
       "      <td>2018-10-08</td>\n",
       "      <td>1000</td>\n",
       "    </tr>\n",
       "    <tr>\n",
       "      <th>2</th>\n",
       "      <td>1000_2</td>\n",
       "      <td>2018-08-04</td>\n",
       "      <td>1000</td>\n",
       "    </tr>\n",
       "    <tr>\n",
       "      <th>3</th>\n",
       "      <td>1000_3</td>\n",
       "      <td>2018-06-16</td>\n",
       "      <td>1000</td>\n",
       "    </tr>\n",
       "    <tr>\n",
       "      <th>4</th>\n",
       "      <td>1000_4</td>\n",
       "      <td>2018-12-05</td>\n",
       "      <td>1000</td>\n",
       "    </tr>\n",
       "  </tbody>\n",
       "</table>\n",
       "</div>"
      ],
      "text/plain": [
       "       id message_date  user_id\n",
       "0  1000_0   2018-06-27     1000\n",
       "1  1000_1   2018-10-08     1000\n",
       "2  1000_2   2018-08-04     1000\n",
       "3  1000_3   2018-06-16     1000\n",
       "4  1000_4   2018-12-05     1000"
      ]
     },
     "execution_count": 97,
     "metadata": {},
     "output_type": "execute_result"
    }
   ],
   "source": [
    "messages.head()"
   ]
  },
  {
   "cell_type": "code",
   "execution_count": 98,
   "metadata": {},
   "outputs": [
    {
     "name": "stdout",
     "output_type": "stream",
     "text": [
      "<class 'pandas.core.frame.DataFrame'>\n",
      "RangeIndex: 123036 entries, 0 to 123035\n",
      "Data columns (total 3 columns):\n",
      " #   Column        Non-Null Count   Dtype \n",
      "---  ------        --------------   ----- \n",
      " 0   id            123036 non-null  object\n",
      " 1   message_date  123036 non-null  object\n",
      " 2   user_id       123036 non-null  int64 \n",
      "dtypes: int64(1), object(2)\n",
      "memory usage: 2.8+ MB\n"
     ]
    }
   ],
   "source": [
    "messages.info()"
   ]
  },
  {
   "cell_type": "markdown",
   "metadata": {},
   "source": [
    "В Messages 3 колонки типа int64 и object.\n",
    "\n",
    "Описание данных:\n",
    "\n",
    "   * id — уникальный номер сообщения\n",
    "   * message_date — дата сообщения\n",
    "   * user_id — идентификатор пользователя, отправившего сообщение\n",
    "\n",
    "Пропусков в данных нет, нарушения стиля нет."
   ]
  },
  {
   "cell_type": "code",
   "execution_count": 99,
   "metadata": {},
   "outputs": [
    {
     "data": {
      "text/html": [
       "<div>\n",
       "<style scoped>\n",
       "    .dataframe tbody tr th:only-of-type {\n",
       "        vertical-align: middle;\n",
       "    }\n",
       "\n",
       "    .dataframe tbody tr th {\n",
       "        vertical-align: top;\n",
       "    }\n",
       "\n",
       "    .dataframe thead th {\n",
       "        text-align: right;\n",
       "    }\n",
       "</style>\n",
       "<table border=\"1\" class=\"dataframe\">\n",
       "  <thead>\n",
       "    <tr style=\"text-align: right;\">\n",
       "      <th></th>\n",
       "      <th>messages_included</th>\n",
       "      <th>mb_per_month_included</th>\n",
       "      <th>minutes_included</th>\n",
       "      <th>rub_monthly_fee</th>\n",
       "      <th>rub_per_gb</th>\n",
       "      <th>rub_per_message</th>\n",
       "      <th>rub_per_minute</th>\n",
       "      <th>tariff_name</th>\n",
       "    </tr>\n",
       "  </thead>\n",
       "  <tbody>\n",
       "    <tr>\n",
       "      <th>0</th>\n",
       "      <td>50</td>\n",
       "      <td>15360</td>\n",
       "      <td>500</td>\n",
       "      <td>550</td>\n",
       "      <td>200</td>\n",
       "      <td>3</td>\n",
       "      <td>3</td>\n",
       "      <td>smart</td>\n",
       "    </tr>\n",
       "    <tr>\n",
       "      <th>1</th>\n",
       "      <td>1000</td>\n",
       "      <td>30720</td>\n",
       "      <td>3000</td>\n",
       "      <td>1950</td>\n",
       "      <td>150</td>\n",
       "      <td>1</td>\n",
       "      <td>1</td>\n",
       "      <td>ultra</td>\n",
       "    </tr>\n",
       "  </tbody>\n",
       "</table>\n",
       "</div>"
      ],
      "text/plain": [
       "   messages_included  mb_per_month_included  minutes_included  \\\n",
       "0                 50                  15360               500   \n",
       "1               1000                  30720              3000   \n",
       "\n",
       "   rub_monthly_fee  rub_per_gb  rub_per_message  rub_per_minute tariff_name  \n",
       "0              550         200                3               3       smart  \n",
       "1             1950         150                1               1       ultra  "
      ]
     },
     "execution_count": 99,
     "metadata": {},
     "output_type": "execute_result"
    }
   ],
   "source": [
    "tariffs.head()"
   ]
  },
  {
   "cell_type": "code",
   "execution_count": 100,
   "metadata": {},
   "outputs": [
    {
     "name": "stdout",
     "output_type": "stream",
     "text": [
      "<class 'pandas.core.frame.DataFrame'>\n",
      "RangeIndex: 2 entries, 0 to 1\n",
      "Data columns (total 8 columns):\n",
      " #   Column                 Non-Null Count  Dtype \n",
      "---  ------                 --------------  ----- \n",
      " 0   messages_included      2 non-null      int64 \n",
      " 1   mb_per_month_included  2 non-null      int64 \n",
      " 2   minutes_included       2 non-null      int64 \n",
      " 3   rub_monthly_fee        2 non-null      int64 \n",
      " 4   rub_per_gb             2 non-null      int64 \n",
      " 5   rub_per_message        2 non-null      int64 \n",
      " 6   rub_per_minute         2 non-null      int64 \n",
      " 7   tariff_name            2 non-null      object\n",
      "dtypes: int64(7), object(1)\n",
      "memory usage: 256.0+ bytes\n"
     ]
    }
   ],
   "source": [
    "tariffs.info()"
   ]
  },
  {
   "cell_type": "markdown",
   "metadata": {},
   "source": [
    "Таблица Tariffs включает в себя 8 столбцов типа int и object, содержащие всю информацию о тарифах компании.\n",
    "\n",
    "Описание данных:\n",
    "\n",
    "   * tariff_name — название тарифа\n",
    "   * rub_monthly_fee — ежемесячная абонентская плата в рублях\n",
    "   * minutes_included — количество минут разговора в месяц, включённых в абонентскую плату\n",
    "   * messages_included — количество сообщений в месяц, включённых в абонентскую плату\n",
    "   * mb_per_month_included — объём интернет-трафика, включённого в абонентскую плату (в мегабайтах)\n",
    "   * rub_per_minute — стоимость минуты разговора сверх тарифного пакета (например, если в тарифе 100 минут разговора в месяц, то со 101 минуты будет взиматься плата)\n",
    "   * rub_per_message — стоимость отправки сообщения сверх тарифного пакета\n",
    "   * rub_per_gb — стоимость дополнительного гигабайта интернет-трафика сверх тарифного пакета (1 гигабайт = 1024 мегабайта)\n",
    "\n",
    "Нарушения стиля в написании названий колонок нет, пропусков тоже. Продолжим обзор данных."
   ]
  },
  {
   "cell_type": "code",
   "execution_count": 101,
   "metadata": {},
   "outputs": [
    {
     "data": {
      "text/html": [
       "<div>\n",
       "<style scoped>\n",
       "    .dataframe tbody tr th:only-of-type {\n",
       "        vertical-align: middle;\n",
       "    }\n",
       "\n",
       "    .dataframe tbody tr th {\n",
       "        vertical-align: top;\n",
       "    }\n",
       "\n",
       "    .dataframe thead th {\n",
       "        text-align: right;\n",
       "    }\n",
       "</style>\n",
       "<table border=\"1\" class=\"dataframe\">\n",
       "  <thead>\n",
       "    <tr style=\"text-align: right;\">\n",
       "      <th></th>\n",
       "      <th>user_id</th>\n",
       "      <th>age</th>\n",
       "      <th>churn_date</th>\n",
       "      <th>city</th>\n",
       "      <th>first_name</th>\n",
       "      <th>last_name</th>\n",
       "      <th>reg_date</th>\n",
       "      <th>tariff</th>\n",
       "    </tr>\n",
       "  </thead>\n",
       "  <tbody>\n",
       "    <tr>\n",
       "      <th>0</th>\n",
       "      <td>1000</td>\n",
       "      <td>52</td>\n",
       "      <td>NaN</td>\n",
       "      <td>Краснодар</td>\n",
       "      <td>Рафаил</td>\n",
       "      <td>Верещагин</td>\n",
       "      <td>2018-05-25</td>\n",
       "      <td>ultra</td>\n",
       "    </tr>\n",
       "    <tr>\n",
       "      <th>1</th>\n",
       "      <td>1001</td>\n",
       "      <td>41</td>\n",
       "      <td>NaN</td>\n",
       "      <td>Москва</td>\n",
       "      <td>Иван</td>\n",
       "      <td>Ежов</td>\n",
       "      <td>2018-11-01</td>\n",
       "      <td>smart</td>\n",
       "    </tr>\n",
       "    <tr>\n",
       "      <th>2</th>\n",
       "      <td>1002</td>\n",
       "      <td>59</td>\n",
       "      <td>NaN</td>\n",
       "      <td>Стерлитамак</td>\n",
       "      <td>Евгений</td>\n",
       "      <td>Абрамович</td>\n",
       "      <td>2018-06-17</td>\n",
       "      <td>smart</td>\n",
       "    </tr>\n",
       "    <tr>\n",
       "      <th>3</th>\n",
       "      <td>1003</td>\n",
       "      <td>23</td>\n",
       "      <td>NaN</td>\n",
       "      <td>Москва</td>\n",
       "      <td>Белла</td>\n",
       "      <td>Белякова</td>\n",
       "      <td>2018-08-17</td>\n",
       "      <td>ultra</td>\n",
       "    </tr>\n",
       "    <tr>\n",
       "      <th>4</th>\n",
       "      <td>1004</td>\n",
       "      <td>68</td>\n",
       "      <td>NaN</td>\n",
       "      <td>Новокузнецк</td>\n",
       "      <td>Татьяна</td>\n",
       "      <td>Авдеенко</td>\n",
       "      <td>2018-05-14</td>\n",
       "      <td>ultra</td>\n",
       "    </tr>\n",
       "  </tbody>\n",
       "</table>\n",
       "</div>"
      ],
      "text/plain": [
       "   user_id  age churn_date         city first_name  last_name    reg_date  \\\n",
       "0     1000   52        NaN    Краснодар     Рафаил  Верещагин  2018-05-25   \n",
       "1     1001   41        NaN       Москва       Иван       Ежов  2018-11-01   \n",
       "2     1002   59        NaN  Стерлитамак    Евгений  Абрамович  2018-06-17   \n",
       "3     1003   23        NaN       Москва      Белла   Белякова  2018-08-17   \n",
       "4     1004   68        NaN  Новокузнецк    Татьяна   Авдеенко  2018-05-14   \n",
       "\n",
       "  tariff  \n",
       "0  ultra  \n",
       "1  smart  \n",
       "2  smart  \n",
       "3  ultra  \n",
       "4  ultra  "
      ]
     },
     "execution_count": 101,
     "metadata": {},
     "output_type": "execute_result"
    }
   ],
   "source": [
    "users.head()"
   ]
  },
  {
   "cell_type": "code",
   "execution_count": 102,
   "metadata": {},
   "outputs": [
    {
     "name": "stdout",
     "output_type": "stream",
     "text": [
      "<class 'pandas.core.frame.DataFrame'>\n",
      "RangeIndex: 500 entries, 0 to 499\n",
      "Data columns (total 8 columns):\n",
      " #   Column      Non-Null Count  Dtype \n",
      "---  ------      --------------  ----- \n",
      " 0   user_id     500 non-null    int64 \n",
      " 1   age         500 non-null    int64 \n",
      " 2   churn_date  38 non-null     object\n",
      " 3   city        500 non-null    object\n",
      " 4   first_name  500 non-null    object\n",
      " 5   last_name   500 non-null    object\n",
      " 6   reg_date    500 non-null    object\n",
      " 7   tariff      500 non-null    object\n",
      "dtypes: int64(2), object(6)\n",
      "memory usage: 31.4+ KB\n"
     ]
    }
   ],
   "source": [
    "users.info()"
   ]
  },
  {
   "cell_type": "markdown",
   "metadata": {},
   "source": [
    "В колонках **Users** данные типа int64 и object.\n",
    "\n",
    "Описание данных:\n",
    "\n",
    "- *user_id* — уникальный идентификатор пользователя\n",
    "- *first_name* — имя пользователя\n",
    "- *last_name* — фамилия пользователя\n",
    "- *age* — возраст пользователя (годы)\n",
    "- *reg_date* — дата подключения тарифа (день, месяц, год)\n",
    "- *churn_date* — дата прекращения пользования тарифом (если значение пропущено, то тариф ещё действовал на момент выгрузки данных)\n",
    "- *city* — город проживания пользователя\n",
    "- *tariff* — название тарифного плана\n",
    "\n",
    "Нарушения стиля нет. Есть пропуски в одном столбце."
   ]
  },
  {
   "cell_type": "markdown",
   "metadata": {},
   "source": [
    "## Предобработка данных"
   ]
  },
  {
   "cell_type": "markdown",
   "metadata": {},
   "source": [
    "### Замена типов, заполнение пропусков, удаление лишних колонок"
   ]
  },
  {
   "cell_type": "markdown",
   "metadata": {},
   "source": [
    "#### Calls - таблица звонков "
   ]
  },
  {
   "cell_type": "code",
   "execution_count": 103,
   "metadata": {},
   "outputs": [
    {
     "data": {
      "text/plain": [
       "id           0\n",
       "call_date    0\n",
       "duration     0\n",
       "user_id      0\n",
       "dtype: int64"
      ]
     },
     "execution_count": 103,
     "metadata": {},
     "output_type": "execute_result"
    }
   ],
   "source": [
    "calls.isna().sum()"
   ]
  },
  {
   "cell_type": "markdown",
   "metadata": {},
   "source": [
    "Пропусков в таблице нет, типы столбцов соответствуют данным."
   ]
  },
  {
   "cell_type": "code",
   "execution_count": 104,
   "metadata": {},
   "outputs": [
    {
     "data": {
      "text/plain": [
       "array(['1000_0', '1000_1', '1000_2', ..., '1499_217', '1499_218',\n",
       "       '1499_219'], dtype=object)"
      ]
     },
     "execution_count": 104,
     "metadata": {},
     "output_type": "execute_result"
    }
   ],
   "source": [
    "calls['id'].unique()"
   ]
  },
  {
   "cell_type": "code",
   "execution_count": 105,
   "metadata": {},
   "outputs": [
    {
     "data": {
      "text/plain": [
       "2018-12-31    1435\n",
       "2018-12-29    1202\n",
       "2018-12-30    1192\n",
       "2018-12-22    1158\n",
       "2018-12-26    1149\n",
       "              ... \n",
       "2018-01-05      20\n",
       "2018-01-07      18\n",
       "2018-01-02       9\n",
       "2018-01-03       7\n",
       "2018-01-01       5\n",
       "Name: call_date, Length: 365, dtype: int64"
      ]
     },
     "execution_count": 105,
     "metadata": {},
     "output_type": "execute_result"
    }
   ],
   "source": [
    "calls['call_date'].value_counts()"
   ]
  },
  {
   "cell_type": "markdown",
   "metadata": {},
   "source": [
    "Заметим, что больше всего звонков совершается в предновогодние и новогодние дни. Добавим столбец со значением по месяцам звонков."
   ]
  },
  {
   "cell_type": "code",
   "execution_count": 106,
   "metadata": {},
   "outputs": [],
   "source": [
    "calls['month'] = pd.to_datetime(calls['call_date'], format= '%Y-%m-%d').dt.month"
   ]
  },
  {
   "cell_type": "code",
   "execution_count": 107,
   "metadata": {},
   "outputs": [
    {
     "data": {
      "text/plain": [
       "0.00     39613\n",
       "5.50       142\n",
       "4.49       142\n",
       "6.15       141\n",
       "6.38       141\n",
       "         ...  \n",
       "26.32        1\n",
       "24.51        1\n",
       "27.24        1\n",
       "29.89        1\n",
       "27.43        1\n",
       "Name: duration, Length: 2871, dtype: int64"
      ]
     },
     "execution_count": 107,
     "metadata": {},
     "output_type": "execute_result"
    }
   ],
   "source": [
    "calls['duration'].value_counts()"
   ]
  },
  {
   "cell_type": "markdown",
   "metadata": {},
   "source": [
    "В столбце `duration` много звонков с нулевой длительностью - это пропущенные звонки."
   ]
  },
  {
   "cell_type": "code",
   "execution_count": 108,
   "metadata": {},
   "outputs": [],
   "source": [
    "calls['duration'] = np.ceil(calls['duration'])"
   ]
  },
  {
   "cell_type": "code",
   "execution_count": 109,
   "metadata": {
    "scrolled": true
   },
   "outputs": [
    {
     "data": {
      "text/plain": [
       "array([1000, 1001, 1002, 1003, 1004, 1005, 1006, 1007, 1008, 1009, 1010,\n",
       "       1011, 1012, 1013, 1014, 1015, 1016, 1017, 1018, 1019, 1020, 1021,\n",
       "       1022, 1023, 1024, 1025, 1026, 1027, 1028, 1029, 1030, 1031, 1032,\n",
       "       1033, 1034, 1035, 1036, 1037, 1038, 1039, 1040, 1041, 1042, 1043,\n",
       "       1044, 1045, 1046, 1047, 1048, 1049, 1050, 1051, 1052, 1053, 1054,\n",
       "       1055, 1056, 1057, 1058, 1059, 1060, 1061, 1062, 1063, 1064, 1065,\n",
       "       1066, 1067, 1068, 1069, 1070, 1071, 1072, 1073, 1074, 1075, 1076,\n",
       "       1077, 1078, 1079, 1080, 1081, 1082, 1083, 1084, 1085, 1086, 1087,\n",
       "       1088, 1089, 1090, 1092, 1093, 1094, 1095, 1096, 1097, 1098, 1099,\n",
       "       1100, 1101, 1102, 1103, 1104, 1105, 1107, 1108, 1109, 1110, 1111,\n",
       "       1112, 1113, 1114, 1115, 1116, 1117, 1118, 1119, 1120, 1121, 1122,\n",
       "       1123, 1124, 1125, 1126, 1127, 1129, 1130, 1131, 1132, 1133, 1134,\n",
       "       1135, 1136, 1137, 1138, 1139, 1140, 1141, 1142, 1143, 1144, 1145,\n",
       "       1146, 1147, 1148, 1149, 1150, 1151, 1152, 1153, 1154, 1155, 1156,\n",
       "       1157, 1158, 1159, 1160, 1161, 1162, 1163, 1164, 1165, 1166, 1167,\n",
       "       1168, 1169, 1170, 1171, 1172, 1173, 1174, 1175, 1176, 1177, 1178,\n",
       "       1179, 1180, 1181, 1182, 1183, 1184, 1185, 1186, 1187, 1188, 1189,\n",
       "       1190, 1191, 1192, 1193, 1194, 1195, 1196, 1197, 1198, 1199, 1200,\n",
       "       1201, 1202, 1203, 1204, 1205, 1206, 1207, 1208, 1209, 1210, 1211,\n",
       "       1212, 1213, 1214, 1215, 1216, 1217, 1218, 1219, 1220, 1221, 1222,\n",
       "       1223, 1224, 1225, 1226, 1227, 1228, 1229, 1230, 1232, 1233, 1234,\n",
       "       1235, 1236, 1237, 1238, 1239, 1240, 1241, 1242, 1243, 1244, 1245,\n",
       "       1246, 1247, 1248, 1249, 1250, 1251, 1252, 1253, 1254, 1255, 1256,\n",
       "       1257, 1258, 1259, 1260, 1261, 1262, 1263, 1264, 1265, 1266, 1267,\n",
       "       1268, 1269, 1270, 1271, 1272, 1273, 1274, 1275, 1276, 1277, 1278,\n",
       "       1279, 1280, 1281, 1282, 1283, 1284, 1285, 1286, 1287, 1288, 1289,\n",
       "       1290, 1291, 1292, 1293, 1294, 1295, 1296, 1297, 1298, 1299, 1300,\n",
       "       1301, 1302, 1303, 1304, 1305, 1306, 1307, 1308, 1309, 1310, 1311,\n",
       "       1312, 1313, 1314, 1315, 1316, 1317, 1318, 1319, 1320, 1321, 1322,\n",
       "       1323, 1324, 1325, 1326, 1327, 1329, 1330, 1331, 1332, 1333, 1334,\n",
       "       1335, 1336, 1337, 1338, 1339, 1340, 1341, 1342, 1343, 1344, 1345,\n",
       "       1346, 1347, 1348, 1349, 1350, 1351, 1352, 1353, 1354, 1355, 1356,\n",
       "       1357, 1358, 1359, 1360, 1361, 1362, 1363, 1364, 1365, 1366, 1367,\n",
       "       1368, 1369, 1370, 1372, 1373, 1374, 1375, 1376, 1377, 1378, 1379,\n",
       "       1380, 1381, 1382, 1383, 1384, 1385, 1386, 1387, 1388, 1389, 1390,\n",
       "       1391, 1392, 1393, 1394, 1395, 1396, 1397, 1398, 1399, 1400, 1401,\n",
       "       1402, 1403, 1404, 1405, 1406, 1407, 1408, 1409, 1410, 1411, 1412,\n",
       "       1413, 1414, 1415, 1416, 1417, 1418, 1419, 1420, 1421, 1422, 1423,\n",
       "       1424, 1425, 1426, 1427, 1428, 1429, 1430, 1431, 1432, 1433, 1434,\n",
       "       1435, 1436, 1437, 1438, 1439, 1440, 1441, 1442, 1443, 1444, 1445,\n",
       "       1446, 1447, 1448, 1449, 1450, 1451, 1452, 1453, 1454, 1455, 1456,\n",
       "       1457, 1458, 1459, 1460, 1461, 1462, 1463, 1464, 1465, 1466, 1467,\n",
       "       1468, 1469, 1470, 1471, 1472, 1474, 1475, 1476, 1477, 1478, 1479,\n",
       "       1480, 1481, 1482, 1483, 1484, 1485, 1486, 1487, 1488, 1490, 1491,\n",
       "       1492, 1493, 1494, 1495, 1496, 1497, 1498, 1499])"
      ]
     },
     "execution_count": 109,
     "metadata": {},
     "output_type": "execute_result"
    }
   ],
   "source": [
    "calls['user_id'].unique()"
   ]
  },
  {
   "cell_type": "markdown",
   "metadata": {},
   "source": [
    "В таблице отсутствуют данные о пользователях - 1091, 1106, 1128, 1231, 1328, 1473."
   ]
  },
  {
   "cell_type": "code",
   "execution_count": 110,
   "metadata": {},
   "outputs": [
    {
     "data": {
      "text/plain": [
       "0"
      ]
     },
     "execution_count": 110,
     "metadata": {},
     "output_type": "execute_result"
    }
   ],
   "source": [
    "calls.duplicated().sum()"
   ]
  },
  {
   "cell_type": "markdown",
   "metadata": {},
   "source": [
    "#### Internet - информация об интернет-сессиях"
   ]
  },
  {
   "cell_type": "code",
   "execution_count": 111,
   "metadata": {},
   "outputs": [
    {
     "data": {
      "text/plain": [
       "Unnamed: 0      0\n",
       "id              0\n",
       "mb_used         0\n",
       "session_date    0\n",
       "user_id         0\n",
       "dtype: int64"
      ]
     },
     "execution_count": 111,
     "metadata": {},
     "output_type": "execute_result"
    }
   ],
   "source": [
    "internet.isna().sum()"
   ]
  },
  {
   "cell_type": "markdown",
   "metadata": {},
   "source": [
    "Пропусков в данных нет, однако первый столбец дублирует индексы. Его следует удалить."
   ]
  },
  {
   "cell_type": "code",
   "execution_count": 112,
   "metadata": {},
   "outputs": [
    {
     "data": {
      "text/plain": [
       "array(['1000_0', '1000_1', '1000_2', ..., '1499_154', '1499_155',\n",
       "       '1499_156'], dtype=object)"
      ]
     },
     "execution_count": 112,
     "metadata": {},
     "output_type": "execute_result"
    }
   ],
   "source": [
    "internet['id'].unique()"
   ]
  },
  {
   "cell_type": "code",
   "execution_count": 113,
   "metadata": {},
   "outputs": [
    {
     "data": {
      "text/plain": [
       "array([ 112.95, 1052.81, 1197.26, ...,  460.75,  247.59,   23.72])"
      ]
     },
     "execution_count": 113,
     "metadata": {},
     "output_type": "execute_result"
    }
   ],
   "source": [
    "internet['mb_used'].unique()"
   ]
  },
  {
   "cell_type": "code",
   "execution_count": 114,
   "metadata": {},
   "outputs": [
    {
     "data": {
      "text/plain": [
       "2018-12-31    1057\n",
       "2018-12-30     903\n",
       "2018-12-25     859\n",
       "2018-12-26     844\n",
       "2018-12-22     834\n",
       "              ... \n",
       "2018-01-05      14\n",
       "2018-01-04       9\n",
       "2018-01-03       6\n",
       "2018-01-02       3\n",
       "2018-01-01       3\n",
       "Name: session_date, Length: 365, dtype: int64"
      ]
     },
     "execution_count": 114,
     "metadata": {},
     "output_type": "execute_result"
    }
   ],
   "source": [
    "internet['session_date'].value_counts()"
   ]
  },
  {
   "cell_type": "markdown",
   "metadata": {},
   "source": [
    "В столбце `session_date` представлены данные за 2018год. Больше всего трафика тратится в декабре, особенно на Новый год. добавим новый столбец со значением месяца интернет-сессии:"
   ]
  },
  {
   "cell_type": "code",
   "execution_count": 115,
   "metadata": {},
   "outputs": [],
   "source": [
    "internet['month'] = pd.to_datetime(internet['session_date'], format= '%Y-%m-%d').dt.month"
   ]
  },
  {
   "cell_type": "code",
   "execution_count": 116,
   "metadata": {
    "scrolled": true
   },
   "outputs": [
    {
     "data": {
      "text/plain": [
       "array([1000, 1001, 1002, 1003, 1004, 1005, 1006, 1007, 1008, 1009, 1010,\n",
       "       1011, 1012, 1013, 1014, 1015, 1016, 1017, 1018, 1019, 1020, 1021,\n",
       "       1022, 1023, 1024, 1025, 1026, 1027, 1028, 1029, 1030, 1031, 1032,\n",
       "       1033, 1034, 1035, 1036, 1037, 1038, 1039, 1040, 1041, 1042, 1043,\n",
       "       1044, 1045, 1046, 1047, 1048, 1049, 1050, 1051, 1052, 1053, 1054,\n",
       "       1055, 1056, 1057, 1058, 1059, 1060, 1061, 1062, 1063, 1064, 1065,\n",
       "       1066, 1067, 1068, 1069, 1070, 1071, 1072, 1073, 1074, 1075, 1076,\n",
       "       1077, 1078, 1079, 1080, 1081, 1082, 1083, 1084, 1085, 1086, 1087,\n",
       "       1088, 1089, 1090, 1091, 1092, 1093, 1094, 1095, 1096, 1097, 1098,\n",
       "       1099, 1100, 1101, 1102, 1103, 1104, 1105, 1106, 1107, 1108, 1109,\n",
       "       1110, 1111, 1112, 1113, 1114, 1115, 1116, 1117, 1118, 1119, 1120,\n",
       "       1121, 1122, 1123, 1124, 1125, 1126, 1127, 1129, 1130, 1131, 1132,\n",
       "       1133, 1134, 1135, 1136, 1137, 1138, 1139, 1140, 1141, 1142, 1143,\n",
       "       1144, 1145, 1146, 1147, 1148, 1149, 1150, 1151, 1152, 1153, 1154,\n",
       "       1155, 1156, 1157, 1158, 1159, 1160, 1161, 1162, 1163, 1164, 1165,\n",
       "       1166, 1167, 1168, 1169, 1170, 1171, 1172, 1173, 1174, 1175, 1176,\n",
       "       1177, 1178, 1179, 1180, 1181, 1182, 1183, 1184, 1185, 1186, 1187,\n",
       "       1188, 1189, 1190, 1191, 1192, 1193, 1194, 1195, 1196, 1197, 1198,\n",
       "       1199, 1200, 1201, 1202, 1203, 1204, 1205, 1206, 1207, 1208, 1209,\n",
       "       1210, 1211, 1212, 1213, 1214, 1215, 1216, 1217, 1218, 1219, 1220,\n",
       "       1221, 1222, 1223, 1224, 1225, 1226, 1227, 1228, 1229, 1230, 1231,\n",
       "       1232, 1233, 1234, 1235, 1236, 1237, 1238, 1239, 1240, 1241, 1242,\n",
       "       1243, 1244, 1245, 1246, 1247, 1248, 1249, 1250, 1251, 1252, 1253,\n",
       "       1254, 1255, 1256, 1257, 1258, 1259, 1260, 1261, 1262, 1263, 1264,\n",
       "       1265, 1266, 1267, 1268, 1269, 1270, 1271, 1272, 1274, 1275, 1276,\n",
       "       1277, 1278, 1279, 1280, 1281, 1282, 1283, 1284, 1285, 1286, 1287,\n",
       "       1288, 1289, 1290, 1291, 1292, 1293, 1294, 1295, 1296, 1297, 1298,\n",
       "       1299, 1300, 1301, 1302, 1303, 1304, 1305, 1306, 1307, 1308, 1309,\n",
       "       1310, 1311, 1312, 1313, 1314, 1315, 1316, 1317, 1318, 1319, 1320,\n",
       "       1321, 1322, 1323, 1324, 1325, 1326, 1327, 1328, 1329, 1330, 1331,\n",
       "       1332, 1333, 1334, 1335, 1336, 1337, 1338, 1339, 1340, 1341, 1342,\n",
       "       1343, 1344, 1345, 1346, 1347, 1348, 1349, 1350, 1351, 1352, 1353,\n",
       "       1354, 1355, 1356, 1357, 1358, 1359, 1360, 1361, 1362, 1363, 1364,\n",
       "       1365, 1366, 1367, 1368, 1369, 1370, 1372, 1373, 1374, 1375, 1376,\n",
       "       1377, 1378, 1379, 1380, 1381, 1382, 1383, 1384, 1385, 1386, 1387,\n",
       "       1388, 1389, 1390, 1391, 1392, 1393, 1394, 1395, 1396, 1397, 1398,\n",
       "       1399, 1400, 1401, 1402, 1403, 1404, 1405, 1406, 1407, 1408, 1409,\n",
       "       1410, 1411, 1412, 1413, 1414, 1415, 1416, 1417, 1418, 1419, 1420,\n",
       "       1421, 1422, 1423, 1424, 1425, 1426, 1427, 1428, 1429, 1430, 1431,\n",
       "       1432, 1433, 1434, 1435, 1436, 1437, 1438, 1439, 1440, 1441, 1442,\n",
       "       1443, 1444, 1445, 1446, 1447, 1448, 1449, 1450, 1451, 1452, 1453,\n",
       "       1454, 1455, 1456, 1457, 1458, 1459, 1460, 1461, 1462, 1463, 1464,\n",
       "       1465, 1466, 1467, 1468, 1469, 1470, 1471, 1472, 1473, 1474, 1475,\n",
       "       1476, 1477, 1478, 1479, 1480, 1481, 1482, 1483, 1484, 1485, 1486,\n",
       "       1487, 1488, 1489, 1490, 1491, 1492, 1493, 1494, 1495, 1496, 1497,\n",
       "       1498, 1499])"
      ]
     },
     "execution_count": 116,
     "metadata": {},
     "output_type": "execute_result"
    }
   ],
   "source": [
    "internet['user_id'].unique()"
   ]
  },
  {
   "cell_type": "markdown",
   "metadata": {},
   "source": [
    "В `user_id` отсутствуют данные по некоторым пользователям - 1128, 1273, 1371."
   ]
  },
  {
   "cell_type": "code",
   "execution_count": 117,
   "metadata": {
    "scrolled": true
   },
   "outputs": [],
   "source": [
    "internet = internet.drop(columns = ['Unnamed: 0'])"
   ]
  },
  {
   "cell_type": "code",
   "execution_count": 118,
   "metadata": {},
   "outputs": [
    {
     "data": {
      "text/plain": [
       "0"
      ]
     },
     "execution_count": 118,
     "metadata": {},
     "output_type": "execute_result"
    }
   ],
   "source": [
    "internet.duplicated().sum()"
   ]
  },
  {
   "cell_type": "markdown",
   "metadata": {},
   "source": [
    "#### Messages - информация о сообщениях"
   ]
  },
  {
   "cell_type": "code",
   "execution_count": 119,
   "metadata": {},
   "outputs": [
    {
     "data": {
      "text/plain": [
       "id              0\n",
       "message_date    0\n",
       "user_id         0\n",
       "dtype: int64"
      ]
     },
     "execution_count": 119,
     "metadata": {},
     "output_type": "execute_result"
    }
   ],
   "source": [
    "messages.isna().sum()"
   ]
  },
  {
   "cell_type": "code",
   "execution_count": 120,
   "metadata": {},
   "outputs": [
    {
     "data": {
      "text/plain": [
       "array(['1000_0', '1000_1', '1000_2', ..., '1499_181', '1499_182',\n",
       "       '1499_183'], dtype=object)"
      ]
     },
     "execution_count": 120,
     "metadata": {},
     "output_type": "execute_result"
    }
   ],
   "source": [
    "messages['id'].unique()"
   ]
  },
  {
   "cell_type": "code",
   "execution_count": 121,
   "metadata": {},
   "outputs": [
    {
     "data": {
      "text/plain": [
       "array([1000, 1002, 1003, 1004, 1005, 1007, 1008, 1009, 1011, 1012, 1013,\n",
       "       1014, 1015, 1016, 1018, 1019, 1020, 1021, 1022, 1023, 1025, 1026,\n",
       "       1027, 1028, 1029, 1030, 1031, 1032, 1033, 1034, 1035, 1036, 1037,\n",
       "       1038, 1039, 1041, 1042, 1043, 1044, 1045, 1046, 1047, 1048, 1050,\n",
       "       1051, 1052, 1054, 1055, 1056, 1057, 1058, 1059, 1060, 1061, 1062,\n",
       "       1064, 1065, 1066, 1067, 1068, 1069, 1070, 1071, 1072, 1073, 1074,\n",
       "       1075, 1076, 1077, 1079, 1080, 1081, 1082, 1083, 1084, 1086, 1087,\n",
       "       1088, 1089, 1090, 1091, 1092, 1093, 1094, 1096, 1097, 1098, 1099,\n",
       "       1100, 1102, 1103, 1104, 1105, 1106, 1108, 1109, 1110, 1111, 1112,\n",
       "       1113, 1115, 1119, 1121, 1122, 1123, 1124, 1125, 1126, 1127, 1130,\n",
       "       1131, 1133, 1134, 1135, 1136, 1137, 1138, 1139, 1140, 1141, 1142,\n",
       "       1144, 1145, 1146, 1147, 1148, 1149, 1150, 1151, 1154, 1155, 1156,\n",
       "       1158, 1159, 1160, 1161, 1163, 1164, 1165, 1166, 1167, 1168, 1169,\n",
       "       1170, 1171, 1172, 1173, 1174, 1176, 1178, 1180, 1181, 1182, 1183,\n",
       "       1184, 1186, 1187, 1188, 1189, 1190, 1191, 1192, 1193, 1194, 1196,\n",
       "       1197, 1198, 1199, 1200, 1202, 1203, 1205, 1206, 1207, 1209, 1211,\n",
       "       1212, 1213, 1214, 1215, 1216, 1217, 1218, 1219, 1221, 1222, 1223,\n",
       "       1226, 1227, 1229, 1230, 1231, 1232, 1233, 1234, 1235, 1236, 1237,\n",
       "       1238, 1239, 1241, 1243, 1244, 1245, 1246, 1247, 1249, 1250, 1251,\n",
       "       1252, 1253, 1256, 1257, 1258, 1259, 1261, 1262, 1263, 1264, 1265,\n",
       "       1266, 1267, 1268, 1269, 1270, 1271, 1272, 1273, 1274, 1275, 1276,\n",
       "       1277, 1278, 1279, 1280, 1281, 1282, 1283, 1284, 1285, 1286, 1287,\n",
       "       1288, 1289, 1293, 1294, 1295, 1296, 1298, 1299, 1300, 1302, 1303,\n",
       "       1304, 1307, 1308, 1309, 1310, 1311, 1312, 1313, 1314, 1315, 1316,\n",
       "       1317, 1318, 1319, 1320, 1321, 1323, 1324, 1325, 1326, 1327, 1328,\n",
       "       1329, 1330, 1331, 1332, 1333, 1335, 1336, 1337, 1338, 1340, 1341,\n",
       "       1342, 1343, 1344, 1345, 1346, 1347, 1348, 1349, 1350, 1351, 1352,\n",
       "       1353, 1354, 1355, 1356, 1357, 1358, 1359, 1361, 1362, 1364, 1365,\n",
       "       1366, 1368, 1369, 1372, 1373, 1374, 1375, 1377, 1378, 1379, 1380,\n",
       "       1381, 1382, 1383, 1384, 1385, 1386, 1387, 1389, 1390, 1391, 1392,\n",
       "       1393, 1394, 1395, 1396, 1398, 1399, 1400, 1401, 1402, 1403, 1404,\n",
       "       1405, 1406, 1407, 1408, 1409, 1410, 1411, 1412, 1413, 1414, 1415,\n",
       "       1416, 1417, 1418, 1419, 1420, 1421, 1422, 1423, 1424, 1425, 1426,\n",
       "       1427, 1430, 1431, 1432, 1433, 1434, 1436, 1437, 1438, 1439, 1440,\n",
       "       1441, 1443, 1444, 1445, 1446, 1447, 1448, 1449, 1450, 1451, 1452,\n",
       "       1453, 1454, 1455, 1457, 1458, 1459, 1460, 1461, 1463, 1464, 1465,\n",
       "       1467, 1468, 1470, 1471, 1472, 1473, 1474, 1475, 1476, 1477, 1478,\n",
       "       1480, 1481, 1482, 1483, 1484, 1485, 1486, 1487, 1488, 1489, 1490,\n",
       "       1491, 1492, 1493, 1495, 1496, 1497, 1498, 1499])"
      ]
     },
     "execution_count": 121,
     "metadata": {},
     "output_type": "execute_result"
    }
   ],
   "source": [
    "messages['user_id'].unique()"
   ]
  },
  {
   "cell_type": "markdown",
   "metadata": {},
   "source": [
    "В данном столбце таблицы так же остутствует информация о нескольких пользователях - 1001, 1006, 1010, 1017, 1024 и т.д."
   ]
  },
  {
   "cell_type": "code",
   "execution_count": 122,
   "metadata": {},
   "outputs": [
    {
     "data": {
      "text/plain": [
       "2018-12-31    859\n",
       "2018-12-30    765\n",
       "2018-12-21    712\n",
       "2018-12-29    702\n",
       "2018-12-28    699\n",
       "             ... \n",
       "2018-01-07     12\n",
       "2018-01-04     10\n",
       "2018-01-02     10\n",
       "2018-01-05     10\n",
       "2018-01-03      4\n",
       "Name: message_date, Length: 364, dtype: int64"
      ]
     },
     "execution_count": 122,
     "metadata": {},
     "output_type": "execute_result"
    }
   ],
   "source": [
    "messages['message_date'].value_counts()"
   ]
  },
  {
   "cell_type": "markdown",
   "metadata": {},
   "source": [
    "В столбце `message_date` информация со 2 января по 31 декабря 2018года. Добавим столбец месяца отправки сообщения."
   ]
  },
  {
   "cell_type": "code",
   "execution_count": 123,
   "metadata": {},
   "outputs": [],
   "source": [
    "messages['month'] = pd.to_datetime(messages['message_date'], format= '%Y-%m-%d').dt.month"
   ]
  },
  {
   "cell_type": "code",
   "execution_count": 124,
   "metadata": {},
   "outputs": [
    {
     "data": {
      "text/plain": [
       "0"
      ]
     },
     "execution_count": 124,
     "metadata": {},
     "output_type": "execute_result"
    }
   ],
   "source": [
    "messages.duplicated().sum()"
   ]
  },
  {
   "cell_type": "markdown",
   "metadata": {},
   "source": [
    "#### Tariffs - информация о тарифах "
   ]
  },
  {
   "cell_type": "code",
   "execution_count": 125,
   "metadata": {},
   "outputs": [
    {
     "data": {
      "text/plain": [
       "messages_included        0\n",
       "mb_per_month_included    0\n",
       "minutes_included         0\n",
       "rub_monthly_fee          0\n",
       "rub_per_gb               0\n",
       "rub_per_message          0\n",
       "rub_per_minute           0\n",
       "tariff_name              0\n",
       "dtype: int64"
      ]
     },
     "execution_count": 125,
     "metadata": {},
     "output_type": "execute_result"
    }
   ],
   "source": [
    "tariffs.isna().sum()"
   ]
  },
  {
   "cell_type": "code",
   "execution_count": 126,
   "metadata": {},
   "outputs": [
    {
     "data": {
      "text/plain": [
       "array(['smart', 'ultra'], dtype=object)"
      ]
     },
     "execution_count": 126,
     "metadata": {},
     "output_type": "execute_result"
    }
   ],
   "source": [
    "tariffs['tariff_name'].unique()"
   ]
  },
  {
   "cell_type": "code",
   "execution_count": 127,
   "metadata": {},
   "outputs": [
    {
     "data": {
      "text/plain": [
       "0"
      ]
     },
     "execution_count": 127,
     "metadata": {},
     "output_type": "execute_result"
    }
   ],
   "source": [
    "tariffs.duplicated().sum()"
   ]
  },
  {
   "cell_type": "markdown",
   "metadata": {},
   "source": [
    "#### Users - информация о пользователях"
   ]
  },
  {
   "cell_type": "code",
   "execution_count": 128,
   "metadata": {},
   "outputs": [
    {
     "data": {
      "text/plain": [
       "user_id         0\n",
       "age             0\n",
       "churn_date    462\n",
       "city            0\n",
       "first_name      0\n",
       "last_name       0\n",
       "reg_date        0\n",
       "tariff          0\n",
       "dtype: int64"
      ]
     },
     "execution_count": 128,
     "metadata": {},
     "output_type": "execute_result"
    }
   ],
   "source": [
    "users.isna().sum()"
   ]
  },
  {
   "cell_type": "code",
   "execution_count": 129,
   "metadata": {},
   "outputs": [
    {
     "data": {
      "text/plain": [
       "array([nan, '2018-10-05', '2018-12-18', '2018-11-21', '2018-10-03',\n",
       "       '2018-10-14', '2018-12-09', '2018-12-11', '2018-12-26',\n",
       "       '2018-08-31', '2018-12-03', '2018-12-23', '2018-11-07',\n",
       "       '2018-12-16', '2018-12-20', '2018-11-30', '2018-12-21',\n",
       "       '2018-08-17', '2018-09-02', '2018-10-04', '2018-11-13',\n",
       "       '2018-11-22', '2018-10-28', '2018-11-26', '2018-11-27',\n",
       "       '2018-11-16', '2018-10-27', '2018-12-30', '2018-09-27',\n",
       "       '2018-12-25', '2018-12-14', '2018-12-24', '2018-09-26',\n",
       "       '2018-10-25'], dtype=object)"
      ]
     },
     "execution_count": 129,
     "metadata": {},
     "output_type": "execute_result"
    }
   ],
   "source": [
    "users['churn_date'].unique()"
   ]
  },
  {
   "cell_type": "markdown",
   "metadata": {},
   "source": [
    "Пропуски в данном столбце обрабатывать не нужно, тариф еще действовал на момент выгрузки данных."
   ]
  },
  {
   "cell_type": "code",
   "execution_count": 130,
   "metadata": {
    "scrolled": false
   },
   "outputs": [
    {
     "data": {
      "text/plain": [
       "array([1000, 1001, 1002, 1003, 1004, 1005, 1006, 1007, 1008, 1009, 1010,\n",
       "       1011, 1012, 1013, 1014, 1015, 1016, 1017, 1018, 1019, 1020, 1021,\n",
       "       1022, 1023, 1024, 1025, 1026, 1027, 1028, 1029, 1030, 1031, 1032,\n",
       "       1033, 1034, 1035, 1036, 1037, 1038, 1039, 1040, 1041, 1042, 1043,\n",
       "       1044, 1045, 1046, 1047, 1048, 1049, 1050, 1051, 1052, 1053, 1054,\n",
       "       1055, 1056, 1057, 1058, 1059, 1060, 1061, 1062, 1063, 1064, 1065,\n",
       "       1066, 1067, 1068, 1069, 1070, 1071, 1072, 1073, 1074, 1075, 1076,\n",
       "       1077, 1078, 1079, 1080, 1081, 1082, 1083, 1084, 1085, 1086, 1087,\n",
       "       1088, 1089, 1090, 1091, 1092, 1093, 1094, 1095, 1096, 1097, 1098,\n",
       "       1099, 1100, 1101, 1102, 1103, 1104, 1105, 1106, 1107, 1108, 1109,\n",
       "       1110, 1111, 1112, 1113, 1114, 1115, 1116, 1117, 1118, 1119, 1120,\n",
       "       1121, 1122, 1123, 1124, 1125, 1126, 1127, 1128, 1129, 1130, 1131,\n",
       "       1132, 1133, 1134, 1135, 1136, 1137, 1138, 1139, 1140, 1141, 1142,\n",
       "       1143, 1144, 1145, 1146, 1147, 1148, 1149, 1150, 1151, 1152, 1153,\n",
       "       1154, 1155, 1156, 1157, 1158, 1159, 1160, 1161, 1162, 1163, 1164,\n",
       "       1165, 1166, 1167, 1168, 1169, 1170, 1171, 1172, 1173, 1174, 1175,\n",
       "       1176, 1177, 1178, 1179, 1180, 1181, 1182, 1183, 1184, 1185, 1186,\n",
       "       1187, 1188, 1189, 1190, 1191, 1192, 1193, 1194, 1195, 1196, 1197,\n",
       "       1198, 1199, 1200, 1201, 1202, 1203, 1204, 1205, 1206, 1207, 1208,\n",
       "       1209, 1210, 1211, 1212, 1213, 1214, 1215, 1216, 1217, 1218, 1219,\n",
       "       1220, 1221, 1222, 1223, 1224, 1225, 1226, 1227, 1228, 1229, 1230,\n",
       "       1231, 1232, 1233, 1234, 1235, 1236, 1237, 1238, 1239, 1240, 1241,\n",
       "       1242, 1243, 1244, 1245, 1246, 1247, 1248, 1249, 1250, 1251, 1252,\n",
       "       1253, 1254, 1255, 1256, 1257, 1258, 1259, 1260, 1261, 1262, 1263,\n",
       "       1264, 1265, 1266, 1267, 1268, 1269, 1270, 1271, 1272, 1273, 1274,\n",
       "       1275, 1276, 1277, 1278, 1279, 1280, 1281, 1282, 1283, 1284, 1285,\n",
       "       1286, 1287, 1288, 1289, 1290, 1291, 1292, 1293, 1294, 1295, 1296,\n",
       "       1297, 1298, 1299, 1300, 1301, 1302, 1303, 1304, 1305, 1306, 1307,\n",
       "       1308, 1309, 1310, 1311, 1312, 1313, 1314, 1315, 1316, 1317, 1318,\n",
       "       1319, 1320, 1321, 1322, 1323, 1324, 1325, 1326, 1327, 1328, 1329,\n",
       "       1330, 1331, 1332, 1333, 1334, 1335, 1336, 1337, 1338, 1339, 1340,\n",
       "       1341, 1342, 1343, 1344, 1345, 1346, 1347, 1348, 1349, 1350, 1351,\n",
       "       1352, 1353, 1354, 1355, 1356, 1357, 1358, 1359, 1360, 1361, 1362,\n",
       "       1363, 1364, 1365, 1366, 1367, 1368, 1369, 1370, 1371, 1372, 1373,\n",
       "       1374, 1375, 1376, 1377, 1378, 1379, 1380, 1381, 1382, 1383, 1384,\n",
       "       1385, 1386, 1387, 1388, 1389, 1390, 1391, 1392, 1393, 1394, 1395,\n",
       "       1396, 1397, 1398, 1399, 1400, 1401, 1402, 1403, 1404, 1405, 1406,\n",
       "       1407, 1408, 1409, 1410, 1411, 1412, 1413, 1414, 1415, 1416, 1417,\n",
       "       1418, 1419, 1420, 1421, 1422, 1423, 1424, 1425, 1426, 1427, 1428,\n",
       "       1429, 1430, 1431, 1432, 1433, 1434, 1435, 1436, 1437, 1438, 1439,\n",
       "       1440, 1441, 1442, 1443, 1444, 1445, 1446, 1447, 1448, 1449, 1450,\n",
       "       1451, 1452, 1453, 1454, 1455, 1456, 1457, 1458, 1459, 1460, 1461,\n",
       "       1462, 1463, 1464, 1465, 1466, 1467, 1468, 1469, 1470, 1471, 1472,\n",
       "       1473, 1474, 1475, 1476, 1477, 1478, 1479, 1480, 1481, 1482, 1483,\n",
       "       1484, 1485, 1486, 1487, 1488, 1489, 1490, 1491, 1492, 1493, 1494,\n",
       "       1495, 1496, 1497, 1498, 1499])"
      ]
     },
     "execution_count": 130,
     "metadata": {},
     "output_type": "execute_result"
    }
   ],
   "source": [
    "users['user_id'].unique()"
   ]
  },
  {
   "cell_type": "code",
   "execution_count": 131,
   "metadata": {},
   "outputs": [
    {
     "data": {
      "text/plain": [
       "array([52, 41, 59, 23, 68, 67, 21, 65, 63, 24, 26, 44, 38, 36, 64, 58, 73,\n",
       "       71, 61, 72, 42, 56, 32, 62, 20, 51, 28, 66, 31, 37, 47, 40, 69, 48,\n",
       "       33, 39, 43, 46, 45, 55, 53, 34, 49, 25, 18, 70, 50, 19, 54, 60, 29,\n",
       "       27, 74, 22, 30, 75, 57, 35])"
      ]
     },
     "execution_count": 131,
     "metadata": {},
     "output_type": "execute_result"
    }
   ],
   "source": [
    "users['age'].unique()"
   ]
  },
  {
   "cell_type": "code",
   "execution_count": 132,
   "metadata": {
    "scrolled": true
   },
   "outputs": [
    {
     "data": {
      "text/plain": [
       "Москва             99\n",
       "Санкт-Петербург    39\n",
       "Новосибирск        16\n",
       "Омск               14\n",
       "Казань             14\n",
       "                   ..\n",
       "Нижневартовск       1\n",
       "Архангельск         1\n",
       "Подольск            1\n",
       "Иваново             1\n",
       "Химки               1\n",
       "Name: city, Length: 76, dtype: int64"
      ]
     },
     "execution_count": 132,
     "metadata": {},
     "output_type": "execute_result"
    }
   ],
   "source": [
    "users['city'].value_counts()"
   ]
  },
  {
   "cell_type": "markdown",
   "metadata": {},
   "source": [
    "Заметим, что в данных много пользователей из Москвы и Петербурга."
   ]
  },
  {
   "cell_type": "code",
   "execution_count": 133,
   "metadata": {},
   "outputs": [
    {
     "data": {
      "text/plain": [
       "Радим       6\n",
       "Пётр        5\n",
       "Леонид      5\n",
       "Андрей      4\n",
       "Тамара      4\n",
       "           ..\n",
       "Сабина      1\n",
       "Майя        1\n",
       "Исаак       1\n",
       "Агата       1\n",
       "Мальвина    1\n",
       "Name: first_name, Length: 246, dtype: int64"
      ]
     },
     "execution_count": 133,
     "metadata": {},
     "output_type": "execute_result"
    }
   ],
   "source": [
    "users['first_name'].value_counts()"
   ]
  },
  {
   "cell_type": "code",
   "execution_count": 134,
   "metadata": {},
   "outputs": [
    {
     "data": {
      "text/plain": [
       "Андреенко     5\n",
       "Булгаков      3\n",
       "Березина      3\n",
       "Алексеенко    3\n",
       "Озерова       3\n",
       "             ..\n",
       "Кабанова      1\n",
       "Крюкова       1\n",
       "Румянцева     1\n",
       "Авросинова    1\n",
       "Платонова     1\n",
       "Name: last_name, Length: 419, dtype: int64"
      ]
     },
     "execution_count": 134,
     "metadata": {},
     "output_type": "execute_result"
    }
   ],
   "source": [
    "users['last_name'].value_counts()"
   ]
  },
  {
   "cell_type": "code",
   "execution_count": 135,
   "metadata": {
    "scrolled": true
   },
   "outputs": [
    {
     "data": {
      "text/plain": [
       "2018-05-28    8\n",
       "2018-07-16    5\n",
       "2018-11-16    5\n",
       "2018-01-04    5\n",
       "2018-10-05    5\n",
       "             ..\n",
       "2018-07-17    1\n",
       "2018-12-06    1\n",
       "2018-03-13    1\n",
       "2018-11-12    1\n",
       "2018-05-16    1\n",
       "Name: reg_date, Length: 270, dtype: int64"
      ]
     },
     "execution_count": 135,
     "metadata": {},
     "output_type": "execute_result"
    }
   ],
   "source": [
    "users['reg_date'].value_counts()"
   ]
  },
  {
   "cell_type": "markdown",
   "metadata": {},
   "source": [
    "Добавим новую колонку с месяцем подключения тарифа."
   ]
  },
  {
   "cell_type": "code",
   "execution_count": 136,
   "metadata": {},
   "outputs": [],
   "source": [
    "users['reg_month'] = pd.to_datetime(users['reg_date'], format= '%Y-%m-%d').dt.month"
   ]
  },
  {
   "cell_type": "code",
   "execution_count": 137,
   "metadata": {},
   "outputs": [
    {
     "data": {
      "text/plain": [
       "array(['ultra', 'smart'], dtype=object)"
      ]
     },
     "execution_count": 137,
     "metadata": {},
     "output_type": "execute_result"
    }
   ],
   "source": [
    "users['tariff'].unique()"
   ]
  },
  {
   "cell_type": "code",
   "execution_count": 138,
   "metadata": {},
   "outputs": [
    {
     "data": {
      "text/plain": [
       "0"
      ]
     },
     "execution_count": 138,
     "metadata": {},
     "output_type": "execute_result"
    }
   ],
   "source": [
    "users.duplicated().sum()"
   ]
  },
  {
   "cell_type": "markdown",
   "metadata": {},
   "source": [
    "Итак, после просмотра данных:\n",
    "- мы удалили ненужный столбец в Датасете *Internet*, дублирующий индексы; добавлен столбец месяца совершения интернет сессии `month`. \n",
    "- В *Users* добавлен столбец значения месяца поключения тарифа `reg_month`. \n",
    "- Так же были добавлены столбцы со значениями месяца совершения звонка и месяца отправки сообщения `month` в *Calls* и *Messages* соответственно."
   ]
  },
  {
   "cell_type": "markdown",
   "metadata": {},
   "source": [
    "### Подготовка пользовательских данных"
   ]
  },
  {
   "cell_type": "markdown",
   "metadata": {},
   "source": [
    "Посчитаем для каждого пользователя:\n",
    "\n",
    "- количество сделанных звонков и израсходованных минут разговора по месяцам;\n",
    "- количество отправленных сообщений по месяцам;\n",
    "- объем израсходованного интернет-трафика по месяцам;"
   ]
  },
  {
   "cell_type": "code",
   "execution_count": 139,
   "metadata": {
    "scrolled": true
   },
   "outputs": [
    {
     "data": {
      "text/html": [
       "<div>\n",
       "<style scoped>\n",
       "    .dataframe tbody tr th:only-of-type {\n",
       "        vertical-align: middle;\n",
       "    }\n",
       "\n",
       "    .dataframe tbody tr th {\n",
       "        vertical-align: top;\n",
       "    }\n",
       "\n",
       "    .dataframe thead tr th {\n",
       "        text-align: left;\n",
       "    }\n",
       "\n",
       "    .dataframe thead tr:last-of-type th {\n",
       "        text-align: right;\n",
       "    }\n",
       "</style>\n",
       "<table border=\"1\" class=\"dataframe\">\n",
       "  <thead>\n",
       "    <tr>\n",
       "      <th></th>\n",
       "      <th></th>\n",
       "      <th>count</th>\n",
       "      <th>sum</th>\n",
       "    </tr>\n",
       "    <tr>\n",
       "      <th></th>\n",
       "      <th></th>\n",
       "      <th>duration</th>\n",
       "      <th>duration</th>\n",
       "    </tr>\n",
       "    <tr>\n",
       "      <th>user_id</th>\n",
       "      <th>month</th>\n",
       "      <th></th>\n",
       "      <th></th>\n",
       "    </tr>\n",
       "  </thead>\n",
       "  <tbody>\n",
       "    <tr>\n",
       "      <th rowspan=\"5\" valign=\"top\">1000</th>\n",
       "      <th>5</th>\n",
       "      <td>22</td>\n",
       "      <td>159.0</td>\n",
       "    </tr>\n",
       "    <tr>\n",
       "      <th>6</th>\n",
       "      <td>43</td>\n",
       "      <td>172.0</td>\n",
       "    </tr>\n",
       "    <tr>\n",
       "      <th>7</th>\n",
       "      <td>47</td>\n",
       "      <td>340.0</td>\n",
       "    </tr>\n",
       "    <tr>\n",
       "      <th>8</th>\n",
       "      <td>52</td>\n",
       "      <td>408.0</td>\n",
       "    </tr>\n",
       "    <tr>\n",
       "      <th>9</th>\n",
       "      <td>58</td>\n",
       "      <td>466.0</td>\n",
       "    </tr>\n",
       "  </tbody>\n",
       "</table>\n",
       "</div>"
      ],
      "text/plain": [
       "                 count      sum\n",
       "              duration duration\n",
       "user_id month                  \n",
       "1000    5           22    159.0\n",
       "        6           43    172.0\n",
       "        7           47    340.0\n",
       "        8           52    408.0\n",
       "        9           58    466.0"
      ]
     },
     "execution_count": 139,
     "metadata": {},
     "output_type": "execute_result"
    }
   ],
   "source": [
    "month_call = calls.pivot_table(index = ['user_id', 'month'], values = 'duration', aggfunc = ['count', 'sum'])\n",
    "month_call.head()"
   ]
  },
  {
   "cell_type": "code",
   "execution_count": 140,
   "metadata": {},
   "outputs": [],
   "source": [
    "month_call.columns = ['dur_count', 'dur_sum']"
   ]
  },
  {
   "cell_type": "code",
   "execution_count": 141,
   "metadata": {},
   "outputs": [],
   "source": [
    "# month_call['dur_sum'] = np.ceil(month_call['dur_sum'])"
   ]
  },
  {
   "cell_type": "markdown",
   "metadata": {},
   "source": [
    "Больше всего звонков и истраченных минут, как уже было ранее замечено, приходится на декабрь."
   ]
  },
  {
   "cell_type": "code",
   "execution_count": 142,
   "metadata": {},
   "outputs": [
    {
     "data": {
      "text/html": [
       "<div>\n",
       "<style scoped>\n",
       "    .dataframe tbody tr th:only-of-type {\n",
       "        vertical-align: middle;\n",
       "    }\n",
       "\n",
       "    .dataframe tbody tr th {\n",
       "        vertical-align: top;\n",
       "    }\n",
       "\n",
       "    .dataframe thead tr th {\n",
       "        text-align: left;\n",
       "    }\n",
       "\n",
       "    .dataframe thead tr:last-of-type th {\n",
       "        text-align: right;\n",
       "    }\n",
       "</style>\n",
       "<table border=\"1\" class=\"dataframe\">\n",
       "  <thead>\n",
       "    <tr>\n",
       "      <th></th>\n",
       "      <th></th>\n",
       "      <th>count</th>\n",
       "    </tr>\n",
       "    <tr>\n",
       "      <th></th>\n",
       "      <th></th>\n",
       "      <th>id</th>\n",
       "    </tr>\n",
       "    <tr>\n",
       "      <th>user_id</th>\n",
       "      <th>month</th>\n",
       "      <th></th>\n",
       "    </tr>\n",
       "  </thead>\n",
       "  <tbody>\n",
       "    <tr>\n",
       "      <th rowspan=\"5\" valign=\"top\">1000</th>\n",
       "      <th>5</th>\n",
       "      <td>22</td>\n",
       "    </tr>\n",
       "    <tr>\n",
       "      <th>6</th>\n",
       "      <td>60</td>\n",
       "    </tr>\n",
       "    <tr>\n",
       "      <th>7</th>\n",
       "      <td>75</td>\n",
       "    </tr>\n",
       "    <tr>\n",
       "      <th>8</th>\n",
       "      <td>81</td>\n",
       "    </tr>\n",
       "    <tr>\n",
       "      <th>9</th>\n",
       "      <td>57</td>\n",
       "    </tr>\n",
       "  </tbody>\n",
       "</table>\n",
       "</div>"
      ],
      "text/plain": [
       "              count\n",
       "                 id\n",
       "user_id month      \n",
       "1000    5        22\n",
       "        6        60\n",
       "        7        75\n",
       "        8        81\n",
       "        9        57"
      ]
     },
     "execution_count": 142,
     "metadata": {},
     "output_type": "execute_result"
    }
   ],
   "source": [
    "month_sms = messages.pivot_table(index = ['user_id', 'month'], values = 'id', aggfunc = ['count'])\n",
    "month_sms.head()"
   ]
  },
  {
   "cell_type": "code",
   "execution_count": 143,
   "metadata": {},
   "outputs": [],
   "source": [
    "month_sms.columns = ['message_count']"
   ]
  },
  {
   "cell_type": "code",
   "execution_count": 144,
   "metadata": {},
   "outputs": [
    {
     "data": {
      "text/html": [
       "<div>\n",
       "<style scoped>\n",
       "    .dataframe tbody tr th:only-of-type {\n",
       "        vertical-align: middle;\n",
       "    }\n",
       "\n",
       "    .dataframe tbody tr th {\n",
       "        vertical-align: top;\n",
       "    }\n",
       "\n",
       "    .dataframe thead tr th {\n",
       "        text-align: left;\n",
       "    }\n",
       "\n",
       "    .dataframe thead tr:last-of-type th {\n",
       "        text-align: right;\n",
       "    }\n",
       "</style>\n",
       "<table border=\"1\" class=\"dataframe\">\n",
       "  <thead>\n",
       "    <tr>\n",
       "      <th></th>\n",
       "      <th></th>\n",
       "      <th>sum</th>\n",
       "    </tr>\n",
       "    <tr>\n",
       "      <th></th>\n",
       "      <th></th>\n",
       "      <th>mb_used</th>\n",
       "    </tr>\n",
       "    <tr>\n",
       "      <th>user_id</th>\n",
       "      <th>month</th>\n",
       "      <th></th>\n",
       "    </tr>\n",
       "  </thead>\n",
       "  <tbody>\n",
       "    <tr>\n",
       "      <th rowspan=\"5\" valign=\"top\">1000</th>\n",
       "      <th>5</th>\n",
       "      <td>2253.49</td>\n",
       "    </tr>\n",
       "    <tr>\n",
       "      <th>6</th>\n",
       "      <td>23233.77</td>\n",
       "    </tr>\n",
       "    <tr>\n",
       "      <th>7</th>\n",
       "      <td>14003.64</td>\n",
       "    </tr>\n",
       "    <tr>\n",
       "      <th>8</th>\n",
       "      <td>14055.93</td>\n",
       "    </tr>\n",
       "    <tr>\n",
       "      <th>9</th>\n",
       "      <td>14568.91</td>\n",
       "    </tr>\n",
       "  </tbody>\n",
       "</table>\n",
       "</div>"
      ],
      "text/plain": [
       "                    sum\n",
       "                mb_used\n",
       "user_id month          \n",
       "1000    5       2253.49\n",
       "        6      23233.77\n",
       "        7      14003.64\n",
       "        8      14055.93\n",
       "        9      14568.91"
      ]
     },
     "execution_count": 144,
     "metadata": {},
     "output_type": "execute_result"
    }
   ],
   "source": [
    "month_session = internet.pivot_table(index = ['user_id', 'month'], values = 'mb_used', aggfunc = ['sum'])\n",
    "month_session.head()"
   ]
  },
  {
   "cell_type": "code",
   "execution_count": 145,
   "metadata": {},
   "outputs": [],
   "source": [
    "month_session.columns = ['gb_used']"
   ]
  },
  {
   "cell_type": "code",
   "execution_count": 146,
   "metadata": {},
   "outputs": [
    {
     "data": {
      "text/html": [
       "<div>\n",
       "<style scoped>\n",
       "    .dataframe tbody tr th:only-of-type {\n",
       "        vertical-align: middle;\n",
       "    }\n",
       "\n",
       "    .dataframe tbody tr th {\n",
       "        vertical-align: top;\n",
       "    }\n",
       "\n",
       "    .dataframe thead th {\n",
       "        text-align: right;\n",
       "    }\n",
       "</style>\n",
       "<table border=\"1\" class=\"dataframe\">\n",
       "  <thead>\n",
       "    <tr style=\"text-align: right;\">\n",
       "      <th></th>\n",
       "      <th></th>\n",
       "      <th>gb_used</th>\n",
       "    </tr>\n",
       "    <tr>\n",
       "      <th>user_id</th>\n",
       "      <th>month</th>\n",
       "      <th></th>\n",
       "    </tr>\n",
       "  </thead>\n",
       "  <tbody>\n",
       "    <tr>\n",
       "      <th rowspan=\"5\" valign=\"top\">1000</th>\n",
       "      <th>5</th>\n",
       "      <td>3.0</td>\n",
       "    </tr>\n",
       "    <tr>\n",
       "      <th>6</th>\n",
       "      <td>23.0</td>\n",
       "    </tr>\n",
       "    <tr>\n",
       "      <th>7</th>\n",
       "      <td>14.0</td>\n",
       "    </tr>\n",
       "    <tr>\n",
       "      <th>8</th>\n",
       "      <td>14.0</td>\n",
       "    </tr>\n",
       "    <tr>\n",
       "      <th>9</th>\n",
       "      <td>15.0</td>\n",
       "    </tr>\n",
       "  </tbody>\n",
       "</table>\n",
       "</div>"
      ],
      "text/plain": [
       "               gb_used\n",
       "user_id month         \n",
       "1000    5          3.0\n",
       "        6         23.0\n",
       "        7         14.0\n",
       "        8         14.0\n",
       "        9         15.0"
      ]
     },
     "execution_count": 146,
     "metadata": {},
     "output_type": "execute_result"
    }
   ],
   "source": [
    "month_session['gb_used'] = np.ceil(month_session['gb_used'] / 1024)\n",
    "month_session.head()"
   ]
  },
  {
   "cell_type": "markdown",
   "metadata": {},
   "source": [
    "Соберем общую таблицу *Мonth_stat* с данными:"
   ]
  },
  {
   "cell_type": "code",
   "execution_count": 147,
   "metadata": {},
   "outputs": [],
   "source": [
    "month_stat = (\n",
    "    month_session.merge(month_call, on = ['user_id', 'month'], how = 'outer')\n",
    "    .merge(month_sms, on = ['user_id', 'month'], how = 'outer')\n",
    ")"
   ]
  },
  {
   "cell_type": "markdown",
   "metadata": {},
   "source": [
    "Добавим для каждого пользователя название его тарифа:"
   ]
  },
  {
   "cell_type": "code",
   "execution_count": 148,
   "metadata": {},
   "outputs": [],
   "source": [
    "user_tariff = users.loc[:, ['user_id', 'city', 'tariff']]"
   ]
  },
  {
   "cell_type": "code",
   "execution_count": 149,
   "metadata": {},
   "outputs": [],
   "source": [
    "month_stat = (\n",
    "    month_stat.reset_index()\n",
    "    .sort_values(by = ['user_id', 'month'])\n",
    "    .merge(user_tariff, on = ['user_id'], how='outer')\n",
    ")"
   ]
  },
  {
   "cell_type": "markdown",
   "metadata": {},
   "source": [
    "Напишем функцию для автоматизации подсчета значений выручки, в зависимости от тарифа пользователя:"
   ]
  },
  {
   "cell_type": "code",
   "execution_count": 150,
   "metadata": {},
   "outputs": [],
   "source": [
    "# прибыль от звонков\n",
    "def duration(row):\n",
    "    if row['tariff'] == 'smart':\n",
    "        minute = row['dur_sum'] - tariffs.loc[0, 'minutes_included']\n",
    "        if minute > 0:\n",
    "            return minute * tariffs.loc[0, 'rub_per_minute']\n",
    "        return 0\n",
    "    if row['tariff'] != 'smart':\n",
    "        minute = row['dur_sum'] - tariffs.loc[1, 'minutes_included']\n",
    "        if minute > 0:\n",
    "            return minute * tariffs.loc[1, 'rub_per_minute']\n",
    "        return 0"
   ]
  },
  {
   "cell_type": "code",
   "execution_count": 151,
   "metadata": {},
   "outputs": [],
   "source": [
    "# прибыль по трафику\n",
    "def iternet(row):\n",
    "    if row['tariff'] == 'smart':\n",
    "        gb = row['gb_used'] - (tariffs.loc[0, 'mb_per_month_included'] / 1024)\n",
    "        if gb > 0:\n",
    "            return gb * tariffs.loc[0, 'rub_per_gb']\n",
    "        return 0\n",
    "    if row['tariff'] != 'smart':\n",
    "        gb = row['gb_used'] - (tariffs.loc[1, 'mb_per_month_included'] / 1024)\n",
    "        if gb > 0:\n",
    "            return gb * tariffs.loc[1, 'rub_per_gb']\n",
    "        return 0"
   ]
  },
  {
   "cell_type": "code",
   "execution_count": 152,
   "metadata": {},
   "outputs": [],
   "source": [
    "# прибыль от смс\n",
    "def message(row):\n",
    "    if row['tariff'] == 'smart':\n",
    "        sms = row['message_count'] - tariffs.loc[0, 'messages_included']\n",
    "        if sms > 0:\n",
    "            return sms * tariffs.loc[0, 'rub_per_message']\n",
    "        return 0\n",
    "    if row['tariff'] != 'smart':\n",
    "        sms = row['message_count'] - tariffs.loc[1, 'messages_included']\n",
    "        if sms > 0:\n",
    "            return sms * tariffs.loc[1, 'rub_per_message']\n",
    "        return 0"
   ]
  },
  {
   "cell_type": "markdown",
   "metadata": {},
   "source": [
    "Расчитаем помесячную выручку с каждого пользователя и запишем ее в новый столбец:"
   ]
  },
  {
   "cell_type": "code",
   "execution_count": 153,
   "metadata": {},
   "outputs": [],
   "source": [
    "def get_income(row):\n",
    "    if row['tariff'] == 'smart':\n",
    "        income = tariffs.loc[0, 'rub_monthly_fee'] + message(row) + iternet(row) + duration(row)\n",
    "        return income\n",
    "    if row['tariff'] == 'ultra':\n",
    "        income = tariffs.loc[1, 'rub_monthly_fee'] + message(row) + iternet(row) + duration(row)\n",
    "        return income"
   ]
  },
  {
   "cell_type": "code",
   "execution_count": 154,
   "metadata": {
    "scrolled": true
   },
   "outputs": [
    {
     "data": {
      "text/html": [
       "<div>\n",
       "<style scoped>\n",
       "    .dataframe tbody tr th:only-of-type {\n",
       "        vertical-align: middle;\n",
       "    }\n",
       "\n",
       "    .dataframe tbody tr th {\n",
       "        vertical-align: top;\n",
       "    }\n",
       "\n",
       "    .dataframe thead th {\n",
       "        text-align: right;\n",
       "    }\n",
       "</style>\n",
       "<table border=\"1\" class=\"dataframe\">\n",
       "  <thead>\n",
       "    <tr style=\"text-align: right;\">\n",
       "      <th></th>\n",
       "      <th>user_id</th>\n",
       "      <th>month</th>\n",
       "      <th>gb_used</th>\n",
       "      <th>dur_count</th>\n",
       "      <th>dur_sum</th>\n",
       "      <th>message_count</th>\n",
       "      <th>city</th>\n",
       "      <th>tariff</th>\n",
       "      <th>income</th>\n",
       "    </tr>\n",
       "  </thead>\n",
       "  <tbody>\n",
       "    <tr>\n",
       "      <th>3211</th>\n",
       "      <td>1499</td>\n",
       "      <td>10.0</td>\n",
       "      <td>18.0</td>\n",
       "      <td>68.0</td>\n",
       "      <td>449.0</td>\n",
       "      <td>48.0</td>\n",
       "      <td>Пермь</td>\n",
       "      <td>smart</td>\n",
       "      <td>1150.0</td>\n",
       "    </tr>\n",
       "    <tr>\n",
       "      <th>3212</th>\n",
       "      <td>1499</td>\n",
       "      <td>11.0</td>\n",
       "      <td>18.0</td>\n",
       "      <td>74.0</td>\n",
       "      <td>612.0</td>\n",
       "      <td>59.0</td>\n",
       "      <td>Пермь</td>\n",
       "      <td>smart</td>\n",
       "      <td>1513.0</td>\n",
       "    </tr>\n",
       "    <tr>\n",
       "      <th>3213</th>\n",
       "      <td>1499</td>\n",
       "      <td>12.0</td>\n",
       "      <td>13.0</td>\n",
       "      <td>69.0</td>\n",
       "      <td>492.0</td>\n",
       "      <td>66.0</td>\n",
       "      <td>Пермь</td>\n",
       "      <td>smart</td>\n",
       "      <td>598.0</td>\n",
       "    </tr>\n",
       "    <tr>\n",
       "      <th>3214</th>\n",
       "      <td>1128</td>\n",
       "      <td>NaN</td>\n",
       "      <td>NaN</td>\n",
       "      <td>NaN</td>\n",
       "      <td>NaN</td>\n",
       "      <td>NaN</td>\n",
       "      <td>Волжский</td>\n",
       "      <td>ultra</td>\n",
       "      <td>1950.0</td>\n",
       "    </tr>\n",
       "    <tr>\n",
       "      <th>3215</th>\n",
       "      <td>1371</td>\n",
       "      <td>NaN</td>\n",
       "      <td>NaN</td>\n",
       "      <td>NaN</td>\n",
       "      <td>NaN</td>\n",
       "      <td>NaN</td>\n",
       "      <td>Омск</td>\n",
       "      <td>smart</td>\n",
       "      <td>550.0</td>\n",
       "    </tr>\n",
       "  </tbody>\n",
       "</table>\n",
       "</div>"
      ],
      "text/plain": [
       "      user_id  month  gb_used  dur_count  dur_sum  message_count      city  \\\n",
       "3211     1499   10.0     18.0       68.0    449.0           48.0     Пермь   \n",
       "3212     1499   11.0     18.0       74.0    612.0           59.0     Пермь   \n",
       "3213     1499   12.0     13.0       69.0    492.0           66.0     Пермь   \n",
       "3214     1128    NaN      NaN        NaN      NaN            NaN  Волжский   \n",
       "3215     1371    NaN      NaN        NaN      NaN            NaN      Омск   \n",
       "\n",
       "     tariff  income  \n",
       "3211  smart  1150.0  \n",
       "3212  smart  1513.0  \n",
       "3213  smart   598.0  \n",
       "3214  ultra  1950.0  \n",
       "3215  smart   550.0  "
      ]
     },
     "execution_count": 154,
     "metadata": {},
     "output_type": "execute_result"
    }
   ],
   "source": [
    "# столбец с итоговой прибылью\n",
    "month_stat['income'] = month_stat.apply(get_income, axis=1)\n",
    "month_stat.tail()"
   ]
  },
  {
   "cell_type": "markdown",
   "metadata": {},
   "source": [
    "Заметим, в итоговую таблицу попали пользователи 1128 и 1371, подключившие разные тарифы и не имеющие никакой активности в течение года."
   ]
  },
  {
   "cell_type": "markdown",
   "metadata": {},
   "source": [
    "**Вывод**\n",
    "\n",
    "Итак, для каждого пользователя мы посчитали:\n",
    "- количество сделанных звонков и израсходованных минут разговора по месяцам(*month_call*);\n",
    "- количество отправленных сообщений по месяцам(*month_sms*);\n",
    "- объем израсходованного интернет-трафика по месяцам(*month_session*);\n",
    "- помесячную выручку.\n",
    "\n",
    "Все эти данные объединены в датасет *Month_stat*. Проведем анализ данных и проверку гипотез ниже."
   ]
  },
  {
   "cell_type": "markdown",
   "metadata": {},
   "source": [
    "## Анализ и описание данных"
   ]
  },
  {
   "cell_type": "markdown",
   "metadata": {},
   "source": [
    "Проанализируем поведение клиентов относительно их тарифа и ежемесячных затрат по каждому параметру."
   ]
  },
  {
   "cell_type": "code",
   "execution_count": 155,
   "metadata": {
    "scrolled": true
   },
   "outputs": [
    {
     "data": {
      "text/plain": [
       "tariff\n",
       "smart    0.693408\n",
       "ultra    0.306592\n",
       "Name: city, dtype: float64"
      ]
     },
     "execution_count": 155,
     "metadata": {},
     "output_type": "execute_result"
    }
   ],
   "source": [
    "# доли тарифa в общих данных\n",
    "prop = month_stat.groupby('tariff')['city'].count() / len(month_stat)\n",
    "prop"
   ]
  },
  {
   "cell_type": "markdown",
   "metadata": {},
   "source": [
    "### Затраты на звонки"
   ]
  },
  {
   "cell_type": "markdown",
   "metadata": {},
   "source": [
    "Построим график для сравнения обоих распределений по месяцам:"
   ]
  },
  {
   "cell_type": "code",
   "execution_count": 156,
   "metadata": {},
   "outputs": [],
   "source": [
    "month_stat_dur = month_stat.pivot_table(index='month', columns = 'tariff', values = 'dur_sum', aggfunc = 'mean')"
   ]
  },
  {
   "cell_type": "code",
   "execution_count": 157,
   "metadata": {},
   "outputs": [],
   "source": [
    "month_stat_dur.columns= ['smart_dur', 'ultra_dur']"
   ]
  },
  {
   "cell_type": "code",
   "execution_count": 158,
   "metadata": {
    "scrolled": false
   },
   "outputs": [
    {
     "data": {
      "image/png": "[encoded data removed]",
      "text/plain": [
       "<Figure size 432x288 with 1 Axes>"
      ]
     },
     "metadata": {
      "needs_background": "light"
     },
     "output_type": "display_data"
    }
   ],
   "source": [
    "month_stat_dur.plot.bar().grid()"
   ]
  },
  {
   "cell_type": "code",
   "execution_count": 159,
   "metadata": {
    "scrolled": true
   },
   "outputs": [
    {
     "data": {
      "text/plain": [
       "<matplotlib.legend.Legend at 0x7f8688867610>"
      ]
     },
     "execution_count": 159,
     "metadata": {},
     "output_type": "execute_result"
    },
    {
     "data": {
      "image/png": "[encoded data removed]",
      "text/plain": [
       "<Figure size 432x288 with 1 Axes>"
      ]
     },
     "metadata": {
      "needs_background": "light"
     },
     "output_type": "display_data"
    }
   ],
   "source": [
    "plt.hist(month_stat_dur['smart_dur'], alpha=0.5, rwidth=0.9, label=\"SMART\")\n",
    "plt.hist(month_stat_dur['ultra_dur'], alpha=0.5, rwidth=0.9, label=\"ULTRA\")\n",
    "plt.legend()"
   ]
  },
  {
   "cell_type": "markdown",
   "metadata": {},
   "source": [
    "Как видно из графиков, количество звонков в среднем по обоим тарифам выросло по итогам года, достигло максимума в декабре.\n",
    " \n",
    "Пользователи тарифа Ультра:\n",
    "- в среднем тратят больше минут, что объяснимо, т.к. они имеют больший лимит смс;\n",
    "- на графике наблюдается провал с феврале.\n",
    " \n",
    "Пользователи тарифа Смарт:\n",
    "- в среднем трятят меньше минут; максимум 450 в декабре\n",
    "- рост количества звонков равномерный, за исключением подъема в марте."
   ]
  },
  {
   "cell_type": "code",
   "execution_count": 160,
   "metadata": {},
   "outputs": [
    {
     "data": {
      "text/html": [
       "<div>\n",
       "<style scoped>\n",
       "    .dataframe tbody tr th:only-of-type {\n",
       "        vertical-align: middle;\n",
       "    }\n",
       "\n",
       "    .dataframe tbody tr th {\n",
       "        vertical-align: top;\n",
       "    }\n",
       "\n",
       "    .dataframe thead th {\n",
       "        text-align: right;\n",
       "    }\n",
       "</style>\n",
       "<table border=\"1\" class=\"dataframe\">\n",
       "  <thead>\n",
       "    <tr style=\"text-align: right;\">\n",
       "      <th></th>\n",
       "      <th>smart_dur</th>\n",
       "      <th>ultra_dur</th>\n",
       "    </tr>\n",
       "  </thead>\n",
       "  <tbody>\n",
       "    <tr>\n",
       "      <th>count</th>\n",
       "      <td>12.000000</td>\n",
       "      <td>12.000000</td>\n",
       "    </tr>\n",
       "    <tr>\n",
       "      <th>mean</th>\n",
       "      <td>387.605810</td>\n",
       "      <td>511.234714</td>\n",
       "    </tr>\n",
       "    <tr>\n",
       "      <th>std</th>\n",
       "      <td>72.779777</td>\n",
       "      <td>84.765105</td>\n",
       "    </tr>\n",
       "    <tr>\n",
       "      <th>min</th>\n",
       "      <td>203.852941</td>\n",
       "      <td>297.125000</td>\n",
       "    </tr>\n",
       "    <tr>\n",
       "      <th>25%</th>\n",
       "      <td>382.304759</td>\n",
       "      <td>486.061958</td>\n",
       "    </tr>\n",
       "    <tr>\n",
       "      <th>50%</th>\n",
       "      <td>403.210359</td>\n",
       "      <td>532.430825</td>\n",
       "    </tr>\n",
       "    <tr>\n",
       "      <th>75%</th>\n",
       "      <td>428.259435</td>\n",
       "      <td>562.872688</td>\n",
       "    </tr>\n",
       "    <tr>\n",
       "      <th>max</th>\n",
       "      <td>479.985119</td>\n",
       "      <td>614.925373</td>\n",
       "    </tr>\n",
       "  </tbody>\n",
       "</table>\n",
       "</div>"
      ],
      "text/plain": [
       "        smart_dur   ultra_dur\n",
       "count   12.000000   12.000000\n",
       "mean   387.605810  511.234714\n",
       "std     72.779777   84.765105\n",
       "min    203.852941  297.125000\n",
       "25%    382.304759  486.061958\n",
       "50%    403.210359  532.430825\n",
       "75%    428.259435  562.872688\n",
       "max    479.985119  614.925373"
      ]
     },
     "execution_count": 160,
     "metadata": {},
     "output_type": "execute_result"
    }
   ],
   "source": [
    "month_stat_dur.describe()"
   ]
  },
  {
   "cell_type": "code",
   "execution_count": 161,
   "metadata": {},
   "outputs": [
    {
     "data": {
      "text/plain": [
       "5296.8959771205455"
      ]
     },
     "execution_count": 161,
     "metadata": {},
     "output_type": "execute_result"
    }
   ],
   "source": [
    "smart_var_dur= np.var(month_stat_dur['smart_dur'], ddof=1)\n",
    "smart_var_dur"
   ]
  },
  {
   "cell_type": "code",
   "execution_count": 162,
   "metadata": {
    "scrolled": true
   },
   "outputs": [
    {
     "data": {
      "text/plain": [
       "7185.123007600402"
      ]
     },
     "execution_count": 162,
     "metadata": {},
     "output_type": "execute_result"
    }
   ],
   "source": [
    "ultra_var_dur = np.var(month_stat_dur['ultra_dur'], ddof=1)\n",
    "ultra_var_dur"
   ]
  },
  {
   "cell_type": "markdown",
   "metadata": {},
   "source": [
    "### Затраты на смс"
   ]
  },
  {
   "cell_type": "markdown",
   "metadata": {},
   "source": [
    "Построим график для сравнения среднего кол-ва сообщений по месяцам и тарифам:"
   ]
  },
  {
   "cell_type": "code",
   "execution_count": 163,
   "metadata": {
    "scrolled": true
   },
   "outputs": [],
   "source": [
    "month_stat_sms = month_stat.pivot_table(index='month', columns = 'tariff', values = 'message_count', aggfunc = 'mean')"
   ]
  },
  {
   "cell_type": "code",
   "execution_count": 164,
   "metadata": {},
   "outputs": [],
   "source": [
    "month_stat_sms.columns = ['smart_sms', 'ultra_sms']"
   ]
  },
  {
   "cell_type": "code",
   "execution_count": 165,
   "metadata": {},
   "outputs": [
    {
     "data": {
      "image/png": "[encoded data removed]",
      "text/plain": [
       "<Figure size 432x288 with 1 Axes>"
      ]
     },
     "metadata": {
      "needs_background": "light"
     },
     "output_type": "display_data"
    }
   ],
   "source": [
    "month_stat_sms.plot.bar().grid()"
   ]
  },
  {
   "cell_type": "code",
   "execution_count": 166,
   "metadata": {},
   "outputs": [
    {
     "data": {
      "text/plain": [
       "<matplotlib.legend.Legend at 0x7f8689612730>"
      ]
     },
     "execution_count": 166,
     "metadata": {},
     "output_type": "execute_result"
    },
    {
     "data": {
      "image/png": "[encoded data removed]",
      "text/plain": [
       "<Figure size 432x288 with 1 Axes>"
      ]
     },
     "metadata": {
      "needs_background": "light"
     },
     "output_type": "display_data"
    }
   ],
   "source": [
    "plt.hist(month_stat_sms['smart_sms'], alpha=0.5, rwidth=0.9, label=\"SMART\")\n",
    "plt.hist(month_stat_sms['ultra_sms'], alpha=0.5, rwidth=0.9, label=\"ULTRA\")\n",
    "plt.legend()"
   ]
  },
  {
   "cell_type": "markdown",
   "metadata": {},
   "source": [
    "Тенденция к росту к концу года наблюдается и здесь.\n",
    "\n",
    "Пользователи тарифа Ультра:\n",
    "- в среднем тратят больше минут в месяц;\n",
    "- резкий рост смс в марте, июле и октябре;\n",
    "- на графике наблюдается провал с феврале.\n",
    " \n",
    "Пользователи тарифа Смарт:\n",
    "- с мая по ноябрь в среднем тратили до 40 смс в месяц;\n",
    "- многие тратили максимум до 45 смс(что в пределах лимита по тарифу)"
   ]
  },
  {
   "cell_type": "code",
   "execution_count": 167,
   "metadata": {
    "scrolled": true
   },
   "outputs": [
    {
     "data": {
      "text/html": [
       "<div>\n",
       "<style scoped>\n",
       "    .dataframe tbody tr th:only-of-type {\n",
       "        vertical-align: middle;\n",
       "    }\n",
       "\n",
       "    .dataframe tbody tr th {\n",
       "        vertical-align: top;\n",
       "    }\n",
       "\n",
       "    .dataframe thead th {\n",
       "        text-align: right;\n",
       "    }\n",
       "</style>\n",
       "<table border=\"1\" class=\"dataframe\">\n",
       "  <thead>\n",
       "    <tr style=\"text-align: right;\">\n",
       "      <th></th>\n",
       "      <th>smart_sms</th>\n",
       "      <th>ultra_sms</th>\n",
       "    </tr>\n",
       "  </thead>\n",
       "  <tbody>\n",
       "    <tr>\n",
       "      <th>count</th>\n",
       "      <td>12.000000</td>\n",
       "      <td>12.000000</td>\n",
       "    </tr>\n",
       "    <tr>\n",
       "      <th>mean</th>\n",
       "      <td>36.262730</td>\n",
       "      <td>55.169629</td>\n",
       "    </tr>\n",
       "    <tr>\n",
       "      <th>std</th>\n",
       "      <td>6.229501</td>\n",
       "      <td>12.042615</td>\n",
       "    </tr>\n",
       "    <tr>\n",
       "      <th>min</th>\n",
       "      <td>20.000000</td>\n",
       "      <td>32.937500</td>\n",
       "    </tr>\n",
       "    <tr>\n",
       "      <th>25%</th>\n",
       "      <td>35.786119</td>\n",
       "      <td>46.978205</td>\n",
       "    </tr>\n",
       "    <tr>\n",
       "      <th>50%</th>\n",
       "      <td>38.869253</td>\n",
       "      <td>55.605580</td>\n",
       "    </tr>\n",
       "    <tr>\n",
       "      <th>75%</th>\n",
       "      <td>39.116941</td>\n",
       "      <td>64.010876</td>\n",
       "    </tr>\n",
       "    <tr>\n",
       "      <th>max</th>\n",
       "      <td>42.264808</td>\n",
       "      <td>72.008547</td>\n",
       "    </tr>\n",
       "  </tbody>\n",
       "</table>\n",
       "</div>"
      ],
      "text/plain": [
       "       smart_sms  ultra_sms\n",
       "count  12.000000  12.000000\n",
       "mean   36.262730  55.169629\n",
       "std     6.229501  12.042615\n",
       "min    20.000000  32.937500\n",
       "25%    35.786119  46.978205\n",
       "50%    38.869253  55.605580\n",
       "75%    39.116941  64.010876\n",
       "max    42.264808  72.008547"
      ]
     },
     "execution_count": 167,
     "metadata": {},
     "output_type": "execute_result"
    }
   ],
   "source": [
    "month_stat_sms.describe()"
   ]
  },
  {
   "cell_type": "code",
   "execution_count": 168,
   "metadata": {
    "scrolled": true
   },
   "outputs": [
    {
     "data": {
      "text/plain": [
       "38.80668503759196"
      ]
     },
     "execution_count": 168,
     "metadata": {},
     "output_type": "execute_result"
    }
   ],
   "source": [
    "smart_var_sms= np.var(month_stat_sms['smart_sms'], ddof=1)\n",
    "smart_var_sms"
   ]
  },
  {
   "cell_type": "code",
   "execution_count": 169,
   "metadata": {},
   "outputs": [
    {
     "data": {
      "text/plain": [
       "145.0245868769887"
      ]
     },
     "execution_count": 169,
     "metadata": {},
     "output_type": "execute_result"
    }
   ],
   "source": [
    "ultra_var_sms = np.var(month_stat_sms['ultra_sms'], ddof=1)\n",
    "ultra_var_sms"
   ]
  },
  {
   "cell_type": "markdown",
   "metadata": {},
   "source": [
    "### Затраты на интернет"
   ]
  },
  {
   "cell_type": "code",
   "execution_count": 170,
   "metadata": {
    "scrolled": true
   },
   "outputs": [
    {
     "data": {
      "image/png": "[encoded data removed]",
      "text/plain": [
       "<Figure size 432x288 with 1 Axes>"
      ]
     },
     "metadata": {
      "needs_background": "light"
     },
     "output_type": "display_data"
    }
   ],
   "source": [
    "month_stat_gb = month_stat.pivot_table(index='month', columns = 'tariff', values = 'gb_used', aggfunc = 'mean')\n",
    "month_stat_gb.plot.bar().grid()"
   ]
  },
  {
   "cell_type": "code",
   "execution_count": 171,
   "metadata": {},
   "outputs": [],
   "source": [
    "month_stat_gb.columns = ['smart_gb', 'ultra_gb']"
   ]
  },
  {
   "cell_type": "code",
   "execution_count": 172,
   "metadata": {},
   "outputs": [
    {
     "data": {
      "text/plain": [
       "<matplotlib.legend.Legend at 0x7f86894100a0>"
      ]
     },
     "execution_count": 172,
     "metadata": {},
     "output_type": "execute_result"
    },
    {
     "data": {
      "image/png": "[encoded data removed]",
      "text/plain": [
       "<Figure size 432x288 with 1 Axes>"
      ]
     },
     "metadata": {
      "needs_background": "light"
     },
     "output_type": "display_data"
    }
   ],
   "source": [
    "plt.hist(month_stat_gb['smart_gb'], alpha=0.5, rwidth=0.9, label=\"SMART\")\n",
    "plt.hist(month_stat_gb['ultra_gb'], alpha=0.5, rwidth=0.9, label=\"ULTRA\")\n",
    "plt.legend()"
   ]
  },
  {
   "cell_type": "markdown",
   "metadata": {},
   "source": [
    "В конце года оба показателя выросли.\n",
    "\n",
    "Пользователи тарифа Ультра:\n",
    "- в среднем тратят больше гигабайт, что объяснимо, т.к. они имеют больший лимит;\n",
    "- на графике снова наблюдается провал с феврале.\n",
    " \n",
    "Пользователи тарифа Смарт:\n",
    "- в среднем тратили гигабайты с превышением лимита.\n",
    "- наблюдается резкий рост в марте."
   ]
  },
  {
   "cell_type": "code",
   "execution_count": 173,
   "metadata": {
    "scrolled": true
   },
   "outputs": [
    {
     "data": {
      "text/html": [
       "<div>\n",
       "<style scoped>\n",
       "    .dataframe tbody tr th:only-of-type {\n",
       "        vertical-align: middle;\n",
       "    }\n",
       "\n",
       "    .dataframe tbody tr th {\n",
       "        vertical-align: top;\n",
       "    }\n",
       "\n",
       "    .dataframe thead th {\n",
       "        text-align: right;\n",
       "    }\n",
       "</style>\n",
       "<table border=\"1\" class=\"dataframe\">\n",
       "  <thead>\n",
       "    <tr style=\"text-align: right;\">\n",
       "      <th></th>\n",
       "      <th>smart_gb</th>\n",
       "      <th>ultra_gb</th>\n",
       "    </tr>\n",
       "  </thead>\n",
       "  <tbody>\n",
       "    <tr>\n",
       "      <th>count</th>\n",
       "      <td>12.000000</td>\n",
       "      <td>12.000000</td>\n",
       "    </tr>\n",
       "    <tr>\n",
       "      <th>mean</th>\n",
       "      <td>15.204689</td>\n",
       "      <td>18.481028</td>\n",
       "    </tr>\n",
       "    <tr>\n",
       "      <th>std</th>\n",
       "      <td>2.630856</td>\n",
       "      <td>2.798158</td>\n",
       "    </tr>\n",
       "    <tr>\n",
       "      <th>min</th>\n",
       "      <td>8.735294</td>\n",
       "      <td>13.090909</td>\n",
       "    </tr>\n",
       "    <tr>\n",
       "      <th>25%</th>\n",
       "      <td>14.831575</td>\n",
       "      <td>17.477396</td>\n",
       "    </tr>\n",
       "    <tr>\n",
       "      <th>50%</th>\n",
       "      <td>15.929510</td>\n",
       "      <td>19.539474</td>\n",
       "    </tr>\n",
       "    <tr>\n",
       "      <th>75%</th>\n",
       "      <td>16.826007</td>\n",
       "      <td>20.023542</td>\n",
       "    </tr>\n",
       "    <tr>\n",
       "      <th>max</th>\n",
       "      <td>18.201780</td>\n",
       "      <td>21.898551</td>\n",
       "    </tr>\n",
       "  </tbody>\n",
       "</table>\n",
       "</div>"
      ],
      "text/plain": [
       "        smart_gb   ultra_gb\n",
       "count  12.000000  12.000000\n",
       "mean   15.204689  18.481028\n",
       "std     2.630856   2.798158\n",
       "min     8.735294  13.090909\n",
       "25%    14.831575  17.477396\n",
       "50%    15.929510  19.539474\n",
       "75%    16.826007  20.023542\n",
       "max    18.201780  21.898551"
      ]
     },
     "execution_count": 173,
     "metadata": {},
     "output_type": "execute_result"
    }
   ],
   "source": [
    "month_stat_gb.describe()"
   ]
  },
  {
   "cell_type": "code",
   "execution_count": 174,
   "metadata": {
    "scrolled": true
   },
   "outputs": [
    {
     "data": {
      "text/plain": [
       "6.9214038847684956"
      ]
     },
     "execution_count": 174,
     "metadata": {},
     "output_type": "execute_result"
    }
   ],
   "source": [
    "smart_var_gb = np.var(month_stat_gb['smart_gb'], ddof=1)\n",
    "smart_var_gb"
   ]
  },
  {
   "cell_type": "code",
   "execution_count": 175,
   "metadata": {},
   "outputs": [
    {
     "data": {
      "text/plain": [
       "7.829686050095753"
      ]
     },
     "execution_count": 175,
     "metadata": {},
     "output_type": "execute_result"
    }
   ],
   "source": [
    "ultra_var_gb = np.var(month_stat_gb['ultra_gb'], ddof=1)\n",
    "ultra_var_gb"
   ]
  },
  {
   "cell_type": "markdown",
   "metadata": {},
   "source": [
    "**Вывод**\n",
    "\n",
    "Итак, согласно данным более 69% пользователей подключены к тарифу Смарт. При этом, затраты на смс/звонки/интернет у пользователей тарифа Ультра значительно выше.\n",
    "\n",
    "Ежемесячно по обоим тарифам растут показатели расхода смс, трафика и минут на разговор. Так же наблюдается провал в феврале у тарифа Ультра по всем показателям и скачок трат в тарифе Смарт в марте. Возможно, это связано с тем, что клиенты изменили тариф."
   ]
  },
  {
   "cell_type": "markdown",
   "metadata": {},
   "source": [
    "## Проверка гипотез и пояснения"
   ]
  },
  {
   "cell_type": "markdown",
   "metadata": {},
   "source": [
    "### гипотеза 1. "
   ]
  },
  {
   "cell_type": "markdown",
   "metadata": {},
   "source": [
    "Для проверки того, что \"Средняя выручка пользователей тарифов «Ультра» и «Смарт» различаются\" выдвинем гипотезы:\n",
    "\n",
    "* Н0 - средняя выручка у Смарт и Ультра совпадает.\n",
    "* Н1 - средняя выручка у тарифов Смарт и Ультра не совпадает.\n",
    "\n",
    "Поскольку необходима проверка гипотезы о равенстве среднего двух независимых генеральных совокупностей по взятым из них выборкам - применим метод scipy.stats.ttest_ind(), добавим условие на неравенство дисперсий.\n",
    "Критический уровень значимости  - 0,05;"
   ]
  },
  {
   "cell_type": "code",
   "execution_count": 176,
   "metadata": {},
   "outputs": [],
   "source": [
    "smart_income = month_stat.query('tariff == \"smart\"')"
   ]
  },
  {
   "cell_type": "code",
   "execution_count": 177,
   "metadata": {},
   "outputs": [],
   "source": [
    "ultra_income = month_stat.query('tariff != \"smart\"')"
   ]
  },
  {
   "cell_type": "code",
   "execution_count": 178,
   "metadata": {},
   "outputs": [
    {
     "name": "stdout",
     "output_type": "stream",
     "text": [
      "p-value: 1.927011394420941e-250\n",
      "Отвергаем нулевую гипотезу\n"
     ]
    }
   ],
   "source": [
    "from scipy import stats as st\n",
    "alpha = 0.05\n",
    "results = st.ttest_ind(smart_income['income'], ultra_income['income'], equal_var = False)\n",
    "\n",
    "print('p-value:', results.pvalue)\n",
    "\n",
    "if (results.pvalue < alpha):\n",
    "    print(\"Отвергаем нулевую гипотезу\")\n",
    "else:\n",
    "    print(\"Не получилось отвергнуть нулевую гипотезу\")"
   ]
  },
  {
   "cell_type": "markdown",
   "metadata": {},
   "source": [
    "Маленькое p-value говорит, что вероятность случайного совпадения средних наших выборок ничтожно мало - мы отвергаем гипотзу Н0.\n",
    "Таким образом, принимаем альтернативную гипотезу  Н1 о неравенстве средней выручки по тарифам Ультра и Смарт.\n",
    "\n",
    "Значит, гипотеза №1 подтверждена."
   ]
  },
  {
   "cell_type": "markdown",
   "metadata": {},
   "source": [
    "### гипотеза 2."
   ]
  },
  {
   "cell_type": "markdown",
   "metadata": {},
   "source": [
    "Для проверки гипотезы №2 о том, что \"Средняя выручка пользователей из Москвы отличается от выручки пользователей из других регионов\" выдвинем гипотезы:\n",
    "\n",
    "* Н0 - средняя выручка пользователей Москвы и других регионов совпадает;\n",
    "* Н1 - средняя выручка пользователей из Москвы и других регионов не совпадает.\n",
    "\n",
    "Поскольку необходима проверка гипотезы о равенстве среднего двух независимых генеральных совокупностей по взятым из них выборкам - применим метод scipy.stats.ttest_ind(), добавим условие на неравенство дисперсий.\n",
    "Критический уровень значимости  - 0,05;"
   ]
  },
  {
   "cell_type": "code",
   "execution_count": 179,
   "metadata": {},
   "outputs": [],
   "source": [
    "msk = month_stat.query('city == \"Москва\"')"
   ]
  },
  {
   "cell_type": "code",
   "execution_count": 180,
   "metadata": {},
   "outputs": [],
   "source": [
    "no_msk= month_stat.query('city != \"Москва\"')"
   ]
  },
  {
   "cell_type": "code",
   "execution_count": 181,
   "metadata": {},
   "outputs": [
    {
     "name": "stdout",
     "output_type": "stream",
     "text": [
      "p-value: 0.5216952110000278\n",
      "Не получилось отвергнуть нулевую гипотезу\n"
     ]
    }
   ],
   "source": [
    "from scipy import stats as st\n",
    "alpha = 0.05\n",
    "results = st.ttest_ind(msk['income'], no_msk['income'], equal_var = False)\n",
    "\n",
    "print('p-value:', results.pvalue)\n",
    "\n",
    "if (results.pvalue < alpha):\n",
    "    print(\"Отвергаем нулевую гипотезу\")\n",
    "else:\n",
    "    print(\"Не получилось отвергнуть нулевую гипотезу\")"
   ]
  },
  {
   "cell_type": "markdown",
   "metadata": {},
   "source": [
    "Значение p-value говорит о том, что вероятность случайно получить различия больше 52%. Это очень большая вероятность, чтобы судить о значимом различии средней выручки Москвы и других регионов. Поэтому нулевая гипотеза не отвергается.\n",
    "\n",
    "Значит, вторая гипотеза опровергнута."
   ]
  },
  {
   "cell_type": "markdown",
   "metadata": {},
   "source": [
    "**Выводы**\n",
    "\n",
    "Итак, первая гипотеза  о том, что \"средняя выручка пользователей тарифов «Ультра» и «Смарт» различаются\" нашла свое подтверждение. Нулевая гипотеза о совпадении выручки была отвергнута. Что касается гипотезы №2 - она не подтвердилась, а значит Средняя выручка пользователей двух тарифов различается и не зависит от местонахождения пользователя."
   ]
  },
  {
   "cell_type": "markdown",
   "metadata": {},
   "source": [
    "## Общий вывод"
   ]
  },
  {
   "cell_type": "markdown",
   "metadata": {},
   "source": [
    "Итак, согласно данным более 69% пользователей подключены к тарифу Смарт. При этом, затраты на смс/звонки/интернет у пользователей тарифа Ультра выше, что объяснимо большими лимитами по тарифному плану.\n",
    "\n",
    "Ежемесячно по обоим тарифам растут показатели расхода смс, трафика и минут на разговор, достигая максимума в декабре. Так же наблюдается провал в феврале у тарифа Ультра по всем показателям и скачок трат в тарифе Смарт в марте. Возможно, это связано с тем, что клиенты изменили тариф.\n",
    "\n",
    "Так же, для каждого пользователя мы посчитали:\n",
    "\n",
    "- количество сделанных звонков и израсходованных минут разговора по месяцам(month_call);\n",
    "-  количество отправленных сообщений по месяцам(month_sms);\n",
    "-  объем израсходованного интернет-трафика по месяцам(month_session);\n",
    "-  помесячную выручку.\n",
    "\n",
    "Все эти данные объединены в датасет Month_stat. \n",
    "\n",
    "Были проверены 2 гипотезы о зависимости средней выручки от тарифа и от местонахождения клиента.\n",
    "Гипотеза №1 подтвердилась, гипотеза №2 была опровергнута."
   ]
  },
  {
   "cell_type": "code",
   "execution_count": null,
   "metadata": {},
   "outputs": [],
   "source": []
  }
 ],
 "metadata": {
  "ExecuteTimeLog": [
   {
    "duration": 129,
    "start_time": "2022-04-10T08:33:57.065Z"
   },
   {
    "duration": 68,
    "start_time": "2022-04-10T08:34:01.372Z"
   },
   {
    "duration": 1053,
    "start_time": "2022-04-10T08:34:07.644Z"
   },
   {
    "duration": 187,
    "start_time": "2022-04-10T08:34:08.938Z"
   },
   {
    "duration": 162,
    "start_time": "2022-04-10T08:34:24.585Z"
   },
   {
    "duration": 115,
    "start_time": "2022-04-10T08:34:34.442Z"
   },
   {
    "duration": 78,
    "start_time": "2022-04-10T08:34:43.067Z"
   },
   {
    "duration": 11,
    "start_time": "2022-04-10T08:34:53.280Z"
   },
   {
    "duration": 17,
    "start_time": "2022-04-10T08:35:11.483Z"
   },
   {
    "duration": 29,
    "start_time": "2022-04-10T08:35:25.856Z"
   },
   {
    "duration": 34,
    "start_time": "2022-04-10T08:35:37.786Z"
   },
   {
    "duration": 18,
    "start_time": "2022-04-10T08:36:25.968Z"
   },
   {
    "duration": 32,
    "start_time": "2022-04-10T08:36:45.042Z"
   },
   {
    "duration": 11,
    "start_time": "2022-04-10T08:37:20.497Z"
   },
   {
    "duration": 26,
    "start_time": "2022-04-10T08:37:26.733Z"
   },
   {
    "duration": 11,
    "start_time": "2022-04-10T08:38:02.999Z"
   },
   {
    "duration": 18,
    "start_time": "2022-04-10T08:38:09.002Z"
   },
   {
    "duration": 15,
    "start_time": "2022-04-10T08:39:10.231Z"
   },
   {
    "duration": 15,
    "start_time": "2022-04-10T08:39:15.845Z"
   },
   {
    "duration": 25,
    "start_time": "2022-04-10T08:53:03.040Z"
   },
   {
    "duration": 87,
    "start_time": "2022-04-10T08:53:18.765Z"
   },
   {
    "duration": 11,
    "start_time": "2022-04-10T09:05:45.357Z"
   },
   {
    "duration": 25,
    "start_time": "2022-04-10T09:05:51.904Z"
   },
   {
    "duration": 10,
    "start_time": "2022-04-10T09:06:15.692Z"
   },
   {
    "duration": 8,
    "start_time": "2022-04-10T09:06:44.628Z"
   },
   {
    "duration": 30,
    "start_time": "2022-04-10T09:09:39.559Z"
   },
   {
    "duration": 42,
    "start_time": "2022-04-10T09:10:10.063Z"
   },
   {
    "duration": 186,
    "start_time": "2022-04-10T09:11:18.831Z"
   },
   {
    "duration": 37,
    "start_time": "2022-04-10T09:11:42.496Z"
   },
   {
    "duration": 4376,
    "start_time": "2022-04-10T09:11:56.056Z"
   },
   {
    "duration": 14,
    "start_time": "2022-04-10T09:12:07.026Z"
   },
   {
    "duration": 20,
    "start_time": "2022-04-10T09:12:21.880Z"
   },
   {
    "duration": 8,
    "start_time": "2022-04-10T09:13:00.204Z"
   },
   {
    "duration": 8,
    "start_time": "2022-04-10T09:13:19.432Z"
   },
   {
    "duration": 147,
    "start_time": "2022-04-10T09:20:50.387Z"
   },
   {
    "duration": 143,
    "start_time": "2022-04-10T09:21:38.786Z"
   },
   {
    "duration": 10,
    "start_time": "2022-04-10T09:27:48.894Z"
   },
   {
    "duration": 149,
    "start_time": "2022-04-10T09:29:20.003Z"
   },
   {
    "duration": 23,
    "start_time": "2022-04-10T09:29:36.354Z"
   },
   {
    "duration": 4,
    "start_time": "2022-04-10T09:29:54.422Z"
   },
   {
    "duration": 215,
    "start_time": "2022-04-10T09:29:54.432Z"
   },
   {
    "duration": 184,
    "start_time": "2022-04-10T09:29:54.650Z"
   },
   {
    "duration": 120,
    "start_time": "2022-04-10T09:29:54.836Z"
   },
   {
    "duration": 14,
    "start_time": "2022-04-10T09:29:54.958Z"
   },
   {
    "duration": 24,
    "start_time": "2022-04-10T09:29:54.975Z"
   },
   {
    "duration": 12,
    "start_time": "2022-04-10T09:29:55.001Z"
   },
   {
    "duration": 36,
    "start_time": "2022-04-10T09:29:55.015Z"
   },
   {
    "duration": 24,
    "start_time": "2022-04-10T09:29:55.053Z"
   },
   {
    "duration": 33,
    "start_time": "2022-04-10T09:29:55.080Z"
   },
   {
    "duration": 10,
    "start_time": "2022-04-10T09:29:55.118Z"
   },
   {
    "duration": 56,
    "start_time": "2022-04-10T09:29:55.130Z"
   },
   {
    "duration": 11,
    "start_time": "2022-04-10T09:29:55.189Z"
   },
   {
    "duration": 18,
    "start_time": "2022-04-10T09:29:55.202Z"
   },
   {
    "duration": 51,
    "start_time": "2022-04-10T09:29:55.222Z"
   },
   {
    "duration": 17,
    "start_time": "2022-04-10T09:29:55.276Z"
   },
   {
    "duration": 34,
    "start_time": "2022-04-10T09:29:55.295Z"
   },
   {
    "duration": 105,
    "start_time": "2022-04-10T09:29:55.331Z"
   },
   {
    "duration": 10,
    "start_time": "2022-04-10T09:29:55.438Z"
   },
   {
    "duration": 26,
    "start_time": "2022-04-10T09:29:55.450Z"
   },
   {
    "duration": 167,
    "start_time": "2022-04-10T09:29:55.479Z"
   },
   {
    "duration": 22,
    "start_time": "2022-04-10T09:29:55.649Z"
   },
   {
    "duration": 46,
    "start_time": "2022-04-10T09:29:55.674Z"
   },
   {
    "duration": 12,
    "start_time": "2022-04-10T09:29:55.723Z"
   },
   {
    "duration": 174,
    "start_time": "2022-04-10T09:29:55.737Z"
   },
   {
    "duration": 7,
    "start_time": "2022-04-10T09:29:55.913Z"
   },
   {
    "duration": 9,
    "start_time": "2022-04-10T09:29:55.923Z"
   },
   {
    "duration": 73,
    "start_time": "2022-04-10T09:30:13.885Z"
   },
   {
    "duration": 18,
    "start_time": "2022-04-10T09:30:30.827Z"
   },
   {
    "duration": 144,
    "start_time": "2022-04-11T07:10:17.538Z"
   },
   {
    "duration": 66,
    "start_time": "2022-04-11T07:10:57.597Z"
   },
   {
    "duration": 1003,
    "start_time": "2022-04-11T07:11:02.711Z"
   },
   {
    "duration": 204,
    "start_time": "2022-04-11T07:11:03.716Z"
   },
   {
    "duration": 169,
    "start_time": "2022-04-11T07:11:03.922Z"
   },
   {
    "duration": 112,
    "start_time": "2022-04-11T07:11:04.095Z"
   },
   {
    "duration": 12,
    "start_time": "2022-04-11T07:11:04.209Z"
   },
   {
    "duration": 23,
    "start_time": "2022-04-11T07:11:04.223Z"
   },
   {
    "duration": 33,
    "start_time": "2022-04-11T07:11:04.248Z"
   },
   {
    "duration": 59,
    "start_time": "2022-04-11T07:11:04.284Z"
   },
   {
    "duration": 35,
    "start_time": "2022-04-11T07:11:04.346Z"
   },
   {
    "duration": 30,
    "start_time": "2022-04-11T07:11:04.388Z"
   },
   {
    "duration": 10,
    "start_time": "2022-04-11T07:11:04.420Z"
   },
   {
    "duration": 62,
    "start_time": "2022-04-11T07:11:04.433Z"
   },
   {
    "duration": 14,
    "start_time": "2022-04-11T07:11:04.497Z"
   },
   {
    "duration": 15,
    "start_time": "2022-04-11T07:11:04.513Z"
   },
   {
    "duration": 55,
    "start_time": "2022-04-11T07:11:04.530Z"
   },
   {
    "duration": 16,
    "start_time": "2022-04-11T07:11:04.588Z"
   },
   {
    "duration": 27,
    "start_time": "2022-04-11T07:11:04.607Z"
   },
   {
    "duration": 111,
    "start_time": "2022-04-11T07:11:04.636Z"
   },
   {
    "duration": 28,
    "start_time": "2022-04-11T07:11:04.749Z"
   },
   {
    "duration": 11,
    "start_time": "2022-04-11T07:11:04.779Z"
   },
   {
    "duration": 210,
    "start_time": "2022-04-11T07:11:04.792Z"
   },
   {
    "duration": 25,
    "start_time": "2022-04-11T07:11:05.005Z"
   },
   {
    "duration": 54,
    "start_time": "2022-04-11T07:11:05.032Z"
   },
   {
    "duration": 14,
    "start_time": "2022-04-11T07:11:05.089Z"
   },
   {
    "duration": 213,
    "start_time": "2022-04-11T07:11:05.105Z"
   },
   {
    "duration": 7,
    "start_time": "2022-04-11T07:11:05.320Z"
   },
   {
    "duration": 10,
    "start_time": "2022-04-11T07:11:05.329Z"
   },
   {
    "duration": 89,
    "start_time": "2022-04-11T07:11:05.367Z"
   },
   {
    "duration": 38,
    "start_time": "2022-04-11T07:11:05.458Z"
   },
   {
    "duration": 47,
    "start_time": "2022-04-11T07:11:24.263Z"
   },
   {
    "duration": 8,
    "start_time": "2022-04-11T07:12:02.052Z"
   },
   {
    "duration": 15,
    "start_time": "2022-04-11T07:15:22.880Z"
   },
   {
    "duration": 220,
    "start_time": "2022-04-11T07:15:49.357Z"
   },
   {
    "duration": 101,
    "start_time": "2022-04-11T07:15:52.422Z"
   },
   {
    "duration": 67,
    "start_time": "2022-04-11T07:16:17.909Z"
   },
   {
    "duration": 164,
    "start_time": "2022-04-11T07:17:03.539Z"
   },
   {
    "duration": 8,
    "start_time": "2022-04-11T07:17:47.143Z"
   },
   {
    "duration": 6,
    "start_time": "2022-04-11T07:18:17.540Z"
   },
   {
    "duration": 6,
    "start_time": "2022-04-11T07:19:05.383Z"
   },
   {
    "duration": 6,
    "start_time": "2022-04-11T07:20:43.684Z"
   },
   {
    "duration": 6,
    "start_time": "2022-04-11T07:22:06.108Z"
   },
   {
    "duration": 6,
    "start_time": "2022-04-11T07:22:34.344Z"
   },
   {
    "duration": 6,
    "start_time": "2022-04-11T07:22:52.441Z"
   },
   {
    "duration": 6,
    "start_time": "2022-04-11T07:24:42.418Z"
   },
   {
    "duration": 6,
    "start_time": "2022-04-11T07:25:00.516Z"
   },
   {
    "duration": 74,
    "start_time": "2022-04-11T07:25:36.264Z"
   },
   {
    "duration": 8,
    "start_time": "2022-04-11T07:25:43.915Z"
   },
   {
    "duration": 10,
    "start_time": "2022-04-11T07:26:41.294Z"
   },
   {
    "duration": 9,
    "start_time": "2022-04-11T07:26:45.073Z"
   },
   {
    "duration": 6,
    "start_time": "2022-04-11T07:27:32.706Z"
   },
   {
    "duration": 8,
    "start_time": "2022-04-11T07:30:17.936Z"
   },
   {
    "duration": 7,
    "start_time": "2022-04-11T07:31:50.959Z"
   },
   {
    "duration": 11,
    "start_time": "2022-04-11T07:32:52.022Z"
   },
   {
    "duration": 34,
    "start_time": "2022-04-11T07:32:56.963Z"
   },
   {
    "duration": 14,
    "start_time": "2022-04-11T07:33:14.039Z"
   },
   {
    "duration": 6,
    "start_time": "2022-04-11T07:35:14.771Z"
   },
   {
    "duration": 8,
    "start_time": "2022-04-11T07:35:53.355Z"
   },
   {
    "duration": 9,
    "start_time": "2022-04-11T07:36:29.190Z"
   },
   {
    "duration": 7,
    "start_time": "2022-04-11T07:36:37.191Z"
   },
   {
    "duration": 8,
    "start_time": "2022-04-11T07:37:00.063Z"
   },
   {
    "duration": 11,
    "start_time": "2022-04-11T07:37:21.276Z"
   },
   {
    "duration": 6,
    "start_time": "2022-04-11T07:37:48.018Z"
   },
   {
    "duration": 10,
    "start_time": "2022-04-11T07:38:05.941Z"
   },
   {
    "duration": 12,
    "start_time": "2022-04-11T07:38:16.248Z"
   },
   {
    "duration": 8,
    "start_time": "2022-04-11T08:00:16.756Z"
   },
   {
    "duration": 9,
    "start_time": "2022-04-11T08:00:44.272Z"
   },
   {
    "duration": 20,
    "start_time": "2022-04-11T08:01:13.149Z"
   },
   {
    "duration": 19,
    "start_time": "2022-04-11T08:05:59.136Z"
   },
   {
    "duration": 4,
    "start_time": "2022-04-11T08:06:27.257Z"
   },
   {
    "duration": 219,
    "start_time": "2022-04-11T08:06:27.264Z"
   },
   {
    "duration": 151,
    "start_time": "2022-04-11T08:06:27.485Z"
   },
   {
    "duration": 100,
    "start_time": "2022-04-11T08:06:27.639Z"
   },
   {
    "duration": 11,
    "start_time": "2022-04-11T08:06:27.741Z"
   },
   {
    "duration": 17,
    "start_time": "2022-04-11T08:06:27.754Z"
   },
   {
    "duration": 11,
    "start_time": "2022-04-11T08:06:27.773Z"
   },
   {
    "duration": 36,
    "start_time": "2022-04-11T08:06:27.786Z"
   },
   {
    "duration": 11,
    "start_time": "2022-04-11T08:06:27.826Z"
   },
   {
    "duration": 54,
    "start_time": "2022-04-11T08:06:27.839Z"
   },
   {
    "duration": 11,
    "start_time": "2022-04-11T08:06:27.896Z"
   },
   {
    "duration": 26,
    "start_time": "2022-04-11T08:06:27.910Z"
   },
   {
    "duration": 41,
    "start_time": "2022-04-11T08:06:27.938Z"
   },
   {
    "duration": 16,
    "start_time": "2022-04-11T08:06:27.982Z"
   },
   {
    "duration": 16,
    "start_time": "2022-04-11T08:06:28.001Z"
   },
   {
    "duration": 56,
    "start_time": "2022-04-11T08:06:28.020Z"
   },
   {
    "duration": 29,
    "start_time": "2022-04-11T08:06:28.079Z"
   },
   {
    "duration": 107,
    "start_time": "2022-04-11T08:06:28.110Z"
   },
   {
    "duration": 16,
    "start_time": "2022-04-11T08:06:28.219Z"
   },
   {
    "duration": 9,
    "start_time": "2022-04-11T08:06:28.238Z"
   },
   {
    "duration": 151,
    "start_time": "2022-04-11T08:06:28.269Z"
   },
   {
    "duration": 23,
    "start_time": "2022-04-11T08:06:28.423Z"
   },
   {
    "duration": 49,
    "start_time": "2022-04-11T08:06:28.449Z"
   },
   {
    "duration": 13,
    "start_time": "2022-04-11T08:06:28.503Z"
   },
   {
    "duration": 156,
    "start_time": "2022-04-11T08:06:28.518Z"
   },
   {
    "duration": 7,
    "start_time": "2022-04-11T08:06:28.677Z"
   },
   {
    "duration": 9,
    "start_time": "2022-04-11T08:06:28.687Z"
   },
   {
    "duration": 97,
    "start_time": "2022-04-11T08:06:28.698Z"
   },
   {
    "duration": 17,
    "start_time": "2022-04-11T08:06:28.797Z"
   },
   {
    "duration": 58,
    "start_time": "2022-04-11T08:06:28.816Z"
   },
   {
    "duration": 7,
    "start_time": "2022-04-11T08:06:28.876Z"
   },
   {
    "duration": 21,
    "start_time": "2022-04-11T08:06:28.885Z"
   },
   {
    "duration": 91,
    "start_time": "2022-04-11T08:06:28.908Z"
   },
   {
    "duration": 9,
    "start_time": "2022-04-11T08:06:29.001Z"
   },
   {
    "duration": 6,
    "start_time": "2022-04-11T08:06:29.012Z"
   },
   {
    "duration": 6,
    "start_time": "2022-04-11T08:06:29.021Z"
   },
   {
    "duration": 41,
    "start_time": "2022-04-11T08:06:29.030Z"
   },
   {
    "duration": 7,
    "start_time": "2022-04-11T08:06:29.073Z"
   },
   {
    "duration": 10,
    "start_time": "2022-04-11T08:06:29.082Z"
   },
   {
    "duration": 9,
    "start_time": "2022-04-11T08:06:29.094Z"
   },
   {
    "duration": 9,
    "start_time": "2022-04-11T08:06:29.105Z"
   },
   {
    "duration": 11,
    "start_time": "2022-04-11T08:06:29.116Z"
   },
   {
    "duration": 45,
    "start_time": "2022-04-11T08:06:29.129Z"
   },
   {
    "duration": 13,
    "start_time": "2022-04-11T08:06:29.176Z"
   },
   {
    "duration": 9,
    "start_time": "2022-04-11T08:06:29.191Z"
   },
   {
    "duration": 12,
    "start_time": "2022-04-11T08:06:29.202Z"
   },
   {
    "duration": 18,
    "start_time": "2022-04-11T08:06:37.448Z"
   },
   {
    "duration": 14,
    "start_time": "2022-04-11T08:09:52.370Z"
   },
   {
    "duration": 166,
    "start_time": "2022-04-11T08:10:40.312Z"
   },
   {
    "duration": 193,
    "start_time": "2022-04-11T08:10:53.662Z"
   },
   {
    "duration": 165,
    "start_time": "2022-04-11T08:13:52.082Z"
   },
   {
    "duration": 11,
    "start_time": "2022-04-11T08:17:24.979Z"
   },
   {
    "duration": 16,
    "start_time": "2022-04-11T08:19:55.798Z"
   },
   {
    "duration": 2349,
    "start_time": "2022-04-11T08:23:57.961Z"
   },
   {
    "duration": 2152,
    "start_time": "2022-04-11T09:13:10.766Z"
   },
   {
    "duration": 13,
    "start_time": "2022-04-11T09:14:23.486Z"
   },
   {
    "duration": 22,
    "start_time": "2022-04-11T09:15:33.913Z"
   },
   {
    "duration": 27,
    "start_time": "2022-04-11T11:50:49.579Z"
   },
   {
    "duration": 21,
    "start_time": "2022-04-11T11:52:54.799Z"
   },
   {
    "duration": 146,
    "start_time": "2022-04-11T12:00:32.217Z"
   },
   {
    "duration": 67,
    "start_time": "2022-04-11T12:01:03.856Z"
   },
   {
    "duration": 14,
    "start_time": "2022-04-11T12:01:10.482Z"
   },
   {
    "duration": 10,
    "start_time": "2022-04-11T12:01:24.083Z"
   },
   {
    "duration": 14,
    "start_time": "2022-04-11T12:09:21.905Z"
   },
   {
    "duration": 4,
    "start_time": "2022-04-11T12:09:31.788Z"
   },
   {
    "duration": 229,
    "start_time": "2022-04-11T12:09:31.795Z"
   },
   {
    "duration": 168,
    "start_time": "2022-04-11T12:09:32.027Z"
   },
   {
    "duration": 112,
    "start_time": "2022-04-11T12:09:32.197Z"
   },
   {
    "duration": 12,
    "start_time": "2022-04-11T12:09:32.312Z"
   },
   {
    "duration": 17,
    "start_time": "2022-04-11T12:09:32.327Z"
   },
   {
    "duration": 12,
    "start_time": "2022-04-11T12:09:32.347Z"
   },
   {
    "duration": 54,
    "start_time": "2022-04-11T12:09:32.368Z"
   },
   {
    "duration": 13,
    "start_time": "2022-04-11T12:09:32.424Z"
   },
   {
    "duration": 55,
    "start_time": "2022-04-11T12:09:32.439Z"
   },
   {
    "duration": 11,
    "start_time": "2022-04-11T12:09:32.497Z"
   },
   {
    "duration": 27,
    "start_time": "2022-04-11T12:09:32.510Z"
   },
   {
    "duration": 13,
    "start_time": "2022-04-11T12:09:32.567Z"
   },
   {
    "duration": 14,
    "start_time": "2022-04-11T12:09:32.583Z"
   },
   {
    "duration": 19,
    "start_time": "2022-04-11T12:09:32.600Z"
   },
   {
    "duration": 51,
    "start_time": "2022-04-11T12:09:32.622Z"
   },
   {
    "duration": 30,
    "start_time": "2022-04-11T12:09:32.676Z"
   },
   {
    "duration": 136,
    "start_time": "2022-04-11T12:09:32.708Z"
   },
   {
    "duration": 59,
    "start_time": "2022-04-11T12:09:32.847Z"
   },
   {
    "duration": 4,
    "start_time": "2022-04-11T12:09:32.909Z"
   },
   {
    "duration": 23,
    "start_time": "2022-04-11T12:09:32.916Z"
   },
   {
    "duration": 12,
    "start_time": "2022-04-11T12:09:32.967Z"
   },
   {
    "duration": 168,
    "start_time": "2022-04-11T12:09:32.982Z"
   },
   {
    "duration": 31,
    "start_time": "2022-04-11T12:09:33.152Z"
   },
   {
    "duration": 34,
    "start_time": "2022-04-11T12:09:33.186Z"
   },
   {
    "duration": 13,
    "start_time": "2022-04-11T12:09:33.222Z"
   },
   {
    "duration": 51,
    "start_time": "2022-04-11T12:09:33.237Z"
   },
   {
    "duration": 9,
    "start_time": "2022-04-11T12:09:33.290Z"
   },
   {
    "duration": 8,
    "start_time": "2022-04-11T12:09:33.304Z"
   },
   {
    "duration": 9,
    "start_time": "2022-04-11T12:09:33.315Z"
   },
   {
    "duration": 116,
    "start_time": "2022-04-11T12:09:33.327Z"
   },
   {
    "duration": 30,
    "start_time": "2022-04-11T12:09:33.445Z"
   },
   {
    "duration": 38,
    "start_time": "2022-04-11T12:09:33.478Z"
   },
   {
    "duration": 8,
    "start_time": "2022-04-11T12:09:33.519Z"
   },
   {
    "duration": 47,
    "start_time": "2022-04-11T12:09:33.529Z"
   },
   {
    "duration": 104,
    "start_time": "2022-04-11T12:09:33.578Z"
   },
   {
    "duration": 11,
    "start_time": "2022-04-11T12:09:33.685Z"
   },
   {
    "duration": 12,
    "start_time": "2022-04-11T12:09:33.699Z"
   },
   {
    "duration": 8,
    "start_time": "2022-04-11T12:09:33.714Z"
   },
   {
    "duration": 48,
    "start_time": "2022-04-11T12:09:33.724Z"
   },
   {
    "duration": 6,
    "start_time": "2022-04-11T12:09:33.774Z"
   },
   {
    "duration": 8,
    "start_time": "2022-04-11T12:09:33.782Z"
   },
   {
    "duration": 7,
    "start_time": "2022-04-11T12:09:33.793Z"
   },
   {
    "duration": 12,
    "start_time": "2022-04-11T12:09:33.803Z"
   },
   {
    "duration": 52,
    "start_time": "2022-04-11T12:09:33.817Z"
   },
   {
    "duration": 9,
    "start_time": "2022-04-11T12:09:33.871Z"
   },
   {
    "duration": 10,
    "start_time": "2022-04-11T12:09:33.882Z"
   },
   {
    "duration": 20,
    "start_time": "2022-04-11T12:09:33.894Z"
   },
   {
    "duration": 10,
    "start_time": "2022-04-11T12:09:33.968Z"
   },
   {
    "duration": 8,
    "start_time": "2022-04-11T12:09:33.980Z"
   },
   {
    "duration": 8,
    "start_time": "2022-04-11T12:09:33.991Z"
   },
   {
    "duration": 67,
    "start_time": "2022-04-11T12:12:28.363Z"
   },
   {
    "duration": 10,
    "start_time": "2022-04-11T12:14:28.997Z"
   },
   {
    "duration": 9,
    "start_time": "2022-04-11T12:14:41.543Z"
   },
   {
    "duration": 9,
    "start_time": "2022-04-11T12:15:19.294Z"
   },
   {
    "duration": 9,
    "start_time": "2022-04-11T12:17:28.448Z"
   },
   {
    "duration": 9,
    "start_time": "2022-04-11T12:19:58.091Z"
   },
   {
    "duration": 987,
    "start_time": "2022-04-11T12:20:48.303Z"
   },
   {
    "duration": 190,
    "start_time": "2022-04-11T12:20:49.293Z"
   },
   {
    "duration": 157,
    "start_time": "2022-04-11T12:20:49.485Z"
   },
   {
    "duration": 99,
    "start_time": "2022-04-11T12:20:49.645Z"
   },
   {
    "duration": 11,
    "start_time": "2022-04-11T12:20:49.747Z"
   },
   {
    "duration": 23,
    "start_time": "2022-04-11T12:20:49.760Z"
   },
   {
    "duration": 23,
    "start_time": "2022-04-11T12:20:49.785Z"
   },
   {
    "duration": 34,
    "start_time": "2022-04-11T12:20:49.810Z"
   },
   {
    "duration": 12,
    "start_time": "2022-04-11T12:20:49.868Z"
   },
   {
    "duration": 31,
    "start_time": "2022-04-11T12:20:49.884Z"
   },
   {
    "duration": 10,
    "start_time": "2022-04-11T12:20:49.917Z"
   },
   {
    "duration": 54,
    "start_time": "2022-04-11T12:20:49.929Z"
   },
   {
    "duration": 11,
    "start_time": "2022-04-11T12:20:49.985Z"
   },
   {
    "duration": 14,
    "start_time": "2022-04-11T12:20:49.998Z"
   },
   {
    "duration": 15,
    "start_time": "2022-04-11T12:20:50.015Z"
   },
   {
    "duration": 44,
    "start_time": "2022-04-11T12:20:50.032Z"
   },
   {
    "duration": 25,
    "start_time": "2022-04-11T12:20:50.079Z"
   },
   {
    "duration": 111,
    "start_time": "2022-04-11T12:20:50.106Z"
   },
   {
    "duration": 26,
    "start_time": "2022-04-11T12:20:50.220Z"
   },
   {
    "duration": 31,
    "start_time": "2022-04-11T12:20:50.248Z"
   },
   {
    "duration": 24,
    "start_time": "2022-04-11T12:20:50.281Z"
   },
   {
    "duration": 8,
    "start_time": "2022-04-11T12:20:50.307Z"
   },
   {
    "duration": 158,
    "start_time": "2022-04-11T12:20:50.317Z"
   },
   {
    "duration": 22,
    "start_time": "2022-04-11T12:20:50.477Z"
   },
   {
    "duration": 34,
    "start_time": "2022-04-11T12:20:50.502Z"
   },
   {
    "duration": 41,
    "start_time": "2022-04-11T12:20:50.538Z"
   },
   {
    "duration": 21,
    "start_time": "2022-04-11T12:20:50.581Z"
   },
   {
    "duration": 4,
    "start_time": "2022-04-11T12:20:50.608Z"
   },
   {
    "duration": 8,
    "start_time": "2022-04-11T12:20:50.615Z"
   },
   {
    "duration": 47,
    "start_time": "2022-04-11T12:20:50.626Z"
   },
   {
    "duration": 99,
    "start_time": "2022-04-11T12:20:50.676Z"
   },
   {
    "duration": 20,
    "start_time": "2022-04-11T12:20:50.778Z"
   },
   {
    "duration": 68,
    "start_time": "2022-04-11T12:20:50.801Z"
   },
   {
    "duration": 10,
    "start_time": "2022-04-11T12:20:50.872Z"
   },
   {
    "duration": 21,
    "start_time": "2022-04-11T12:20:50.884Z"
   },
   {
    "duration": 163,
    "start_time": "2022-04-11T12:20:50.907Z"
   },
   {
    "duration": 7,
    "start_time": "2022-04-11T12:20:51.073Z"
   },
   {
    "duration": 7,
    "start_time": "2022-04-11T12:20:51.082Z"
   },
   {
    "duration": 7,
    "start_time": "2022-04-11T12:20:51.091Z"
   },
   {
    "duration": 9,
    "start_time": "2022-04-11T12:20:51.100Z"
   },
   {
    "duration": 6,
    "start_time": "2022-04-11T12:20:51.167Z"
   },
   {
    "duration": 10,
    "start_time": "2022-04-11T12:20:51.175Z"
   },
   {
    "duration": 5,
    "start_time": "2022-04-11T12:20:51.187Z"
   },
   {
    "duration": 9,
    "start_time": "2022-04-11T12:20:51.194Z"
   },
   {
    "duration": 64,
    "start_time": "2022-04-11T12:20:51.205Z"
   },
   {
    "duration": 12,
    "start_time": "2022-04-11T12:20:51.271Z"
   },
   {
    "duration": 20,
    "start_time": "2022-04-11T12:20:51.285Z"
   },
   {
    "duration": 68,
    "start_time": "2022-04-11T12:20:51.307Z"
   },
   {
    "duration": 12,
    "start_time": "2022-04-11T12:20:51.377Z"
   },
   {
    "duration": 10,
    "start_time": "2022-04-11T12:20:51.391Z"
   },
   {
    "duration": 63,
    "start_time": "2022-04-11T12:20:51.404Z"
   },
   {
    "duration": 1376,
    "start_time": "2022-04-11T12:21:23.897Z"
   },
   {
    "duration": 196,
    "start_time": "2022-04-11T12:21:25.276Z"
   },
   {
    "duration": 174,
    "start_time": "2022-04-11T12:21:25.474Z"
   },
   {
    "duration": 169,
    "start_time": "2022-04-11T12:21:25.650Z"
   },
   {
    "duration": 14,
    "start_time": "2022-04-11T12:21:25.822Z"
   },
   {
    "duration": 27,
    "start_time": "2022-04-11T12:21:25.841Z"
   },
   {
    "duration": 32,
    "start_time": "2022-04-11T12:21:25.871Z"
   },
   {
    "duration": 76,
    "start_time": "2022-04-11T12:21:25.906Z"
   },
   {
    "duration": 13,
    "start_time": "2022-04-11T12:21:25.984Z"
   },
   {
    "duration": 36,
    "start_time": "2022-04-11T12:21:25.999Z"
   },
   {
    "duration": 40,
    "start_time": "2022-04-11T12:21:26.037Z"
   },
   {
    "duration": 62,
    "start_time": "2022-04-11T12:21:26.080Z"
   },
   {
    "duration": 24,
    "start_time": "2022-04-11T12:21:26.144Z"
   },
   {
    "duration": 25,
    "start_time": "2022-04-11T12:21:26.171Z"
   },
   {
    "duration": 31,
    "start_time": "2022-04-11T12:21:26.199Z"
   },
   {
    "duration": 50,
    "start_time": "2022-04-11T12:21:26.232Z"
   },
   {
    "duration": 37,
    "start_time": "2022-04-11T12:21:26.285Z"
   },
   {
    "duration": 119,
    "start_time": "2022-04-11T12:21:26.330Z"
   },
   {
    "duration": 29,
    "start_time": "2022-04-11T12:21:26.468Z"
   },
   {
    "duration": 10,
    "start_time": "2022-04-11T12:21:26.499Z"
   },
   {
    "duration": 24,
    "start_time": "2022-04-11T12:21:26.511Z"
   },
   {
    "duration": 8,
    "start_time": "2022-04-11T12:21:26.537Z"
   },
   {
    "duration": 177,
    "start_time": "2022-04-11T12:21:26.547Z"
   },
   {
    "duration": 22,
    "start_time": "2022-04-11T12:21:26.727Z"
   },
   {
    "duration": 39,
    "start_time": "2022-04-11T12:21:26.752Z"
   },
   {
    "duration": 13,
    "start_time": "2022-04-11T12:21:26.793Z"
   },
   {
    "duration": 22,
    "start_time": "2022-04-11T12:21:26.808Z"
   },
   {
    "duration": 3,
    "start_time": "2022-04-11T12:21:26.832Z"
   },
   {
    "duration": 12,
    "start_time": "2022-04-11T12:21:26.837Z"
   },
   {
    "duration": 19,
    "start_time": "2022-04-11T12:21:26.850Z"
   },
   {
    "duration": 81,
    "start_time": "2022-04-11T12:21:26.872Z"
   },
   {
    "duration": 26,
    "start_time": "2022-04-11T12:21:26.955Z"
   },
   {
    "duration": 47,
    "start_time": "2022-04-11T12:21:26.984Z"
   },
   {
    "duration": 7,
    "start_time": "2022-04-11T12:21:27.034Z"
   },
   {
    "duration": 30,
    "start_time": "2022-04-11T12:21:27.043Z"
   },
   {
    "duration": 77,
    "start_time": "2022-04-11T12:21:27.075Z"
   },
   {
    "duration": 14,
    "start_time": "2022-04-11T12:21:27.155Z"
   },
   {
    "duration": 7,
    "start_time": "2022-04-11T12:21:27.171Z"
   },
   {
    "duration": 13,
    "start_time": "2022-04-11T12:21:27.180Z"
   },
   {
    "duration": 11,
    "start_time": "2022-04-11T12:21:27.195Z"
   },
   {
    "duration": 7,
    "start_time": "2022-04-11T12:21:27.208Z"
   },
   {
    "duration": 10,
    "start_time": "2022-04-11T12:21:27.217Z"
   },
   {
    "duration": 10,
    "start_time": "2022-04-11T12:21:27.229Z"
   },
   {
    "duration": 12,
    "start_time": "2022-04-11T12:21:27.241Z"
   },
   {
    "duration": 12,
    "start_time": "2022-04-11T12:21:27.255Z"
   },
   {
    "duration": 10,
    "start_time": "2022-04-11T12:21:27.269Z"
   },
   {
    "duration": 14,
    "start_time": "2022-04-11T12:21:27.281Z"
   },
   {
    "duration": 20,
    "start_time": "2022-04-11T12:21:27.297Z"
   },
   {
    "duration": 12,
    "start_time": "2022-04-11T12:21:27.319Z"
   },
   {
    "duration": 7,
    "start_time": "2022-04-11T12:21:27.333Z"
   },
   {
    "duration": 12,
    "start_time": "2022-04-11T12:21:27.343Z"
   },
   {
    "duration": 9058,
    "start_time": "2022-04-11T12:21:27.357Z"
   },
   {
    "duration": 78,
    "start_time": "2022-04-11T12:24:03.269Z"
   },
   {
    "duration": 1104,
    "start_time": "2022-04-11T12:24:08.246Z"
   },
   {
    "duration": 289,
    "start_time": "2022-04-11T12:24:09.353Z"
   },
   {
    "duration": 213,
    "start_time": "2022-04-11T12:24:09.645Z"
   },
   {
    "duration": 100,
    "start_time": "2022-04-11T12:24:09.861Z"
   },
   {
    "duration": 12,
    "start_time": "2022-04-11T12:24:09.968Z"
   },
   {
    "duration": 17,
    "start_time": "2022-04-11T12:24:09.982Z"
   },
   {
    "duration": 24,
    "start_time": "2022-04-11T12:24:10.002Z"
   },
   {
    "duration": 49,
    "start_time": "2022-04-11T12:24:10.029Z"
   },
   {
    "duration": 13,
    "start_time": "2022-04-11T12:24:10.080Z"
   },
   {
    "duration": 28,
    "start_time": "2022-04-11T12:24:10.098Z"
   },
   {
    "duration": 10,
    "start_time": "2022-04-11T12:24:10.128Z"
   },
   {
    "duration": 46,
    "start_time": "2022-04-11T12:24:10.140Z"
   },
   {
    "duration": 12,
    "start_time": "2022-04-11T12:24:10.188Z"
   },
   {
    "duration": 16,
    "start_time": "2022-04-11T12:24:10.202Z"
   },
   {
    "duration": 15,
    "start_time": "2022-04-11T12:24:10.268Z"
   },
   {
    "duration": 17,
    "start_time": "2022-04-11T12:24:10.284Z"
   },
   {
    "duration": 27,
    "start_time": "2022-04-11T12:24:10.303Z"
   },
   {
    "duration": 166,
    "start_time": "2022-04-11T12:24:10.333Z"
   },
   {
    "duration": 90,
    "start_time": "2022-04-11T12:24:10.502Z"
   },
   {
    "duration": 7,
    "start_time": "2022-04-11T12:24:10.595Z"
   },
   {
    "duration": 72,
    "start_time": "2022-04-11T12:24:10.605Z"
   },
   {
    "duration": 12,
    "start_time": "2022-04-11T12:24:10.680Z"
   },
   {
    "duration": 395,
    "start_time": "2022-04-11T12:24:10.695Z"
   },
   {
    "duration": 86,
    "start_time": "2022-04-11T12:24:11.093Z"
   },
   {
    "duration": 98,
    "start_time": "2022-04-11T12:24:11.181Z"
   },
   {
    "duration": 14,
    "start_time": "2022-04-11T12:24:11.282Z"
   },
   {
    "duration": 90,
    "start_time": "2022-04-11T12:24:11.298Z"
   },
   {
    "duration": 3,
    "start_time": "2022-04-11T12:24:11.394Z"
   },
   {
    "duration": 9,
    "start_time": "2022-04-11T12:24:11.399Z"
   },
   {
    "duration": 12,
    "start_time": "2022-04-11T12:24:11.467Z"
   },
   {
    "duration": 223,
    "start_time": "2022-04-11T12:24:11.482Z"
   },
   {
    "duration": 77,
    "start_time": "2022-04-11T12:24:11.708Z"
   },
   {
    "duration": 112,
    "start_time": "2022-04-11T12:24:11.787Z"
   },
   {
    "duration": 66,
    "start_time": "2022-04-11T12:24:11.901Z"
   },
   {
    "duration": 29,
    "start_time": "2022-04-11T12:24:11.970Z"
   },
   {
    "duration": 176,
    "start_time": "2022-04-11T12:24:12.001Z"
   },
   {
    "duration": 8,
    "start_time": "2022-04-11T12:24:12.179Z"
   },
   {
    "duration": 7,
    "start_time": "2022-04-11T12:24:12.189Z"
   },
   {
    "duration": 11,
    "start_time": "2022-04-11T12:24:12.198Z"
   },
   {
    "duration": 67,
    "start_time": "2022-04-11T12:24:12.211Z"
   },
   {
    "duration": 10,
    "start_time": "2022-04-11T12:24:12.281Z"
   },
   {
    "duration": 7,
    "start_time": "2022-04-11T12:24:12.293Z"
   },
   {
    "duration": 7,
    "start_time": "2022-04-11T12:24:12.302Z"
   },
   {
    "duration": 58,
    "start_time": "2022-04-11T12:24:12.311Z"
   },
   {
    "duration": 11,
    "start_time": "2022-04-11T12:24:12.371Z"
   },
   {
    "duration": 14,
    "start_time": "2022-04-11T12:24:12.384Z"
   },
   {
    "duration": 70,
    "start_time": "2022-04-11T12:24:12.401Z"
   },
   {
    "duration": 30,
    "start_time": "2022-04-11T12:24:12.473Z"
   },
   {
    "duration": 67,
    "start_time": "2022-04-11T12:24:12.506Z"
   },
   {
    "duration": 8,
    "start_time": "2022-04-11T12:24:12.576Z"
   },
   {
    "duration": 10,
    "start_time": "2022-04-11T12:24:12.586Z"
   },
   {
    "duration": 71,
    "start_time": "2022-04-11T12:24:34.999Z"
   },
   {
    "duration": 8,
    "start_time": "2022-04-11T12:26:20.509Z"
   },
   {
    "duration": 1450,
    "start_time": "2022-04-11T12:26:30.522Z"
   },
   {
    "duration": 299,
    "start_time": "2022-04-11T12:26:31.976Z"
   },
   {
    "duration": 191,
    "start_time": "2022-04-11T12:26:32.278Z"
   },
   {
    "duration": 109,
    "start_time": "2022-04-11T12:26:32.473Z"
   },
   {
    "duration": 11,
    "start_time": "2022-04-11T12:26:32.584Z"
   },
   {
    "duration": 22,
    "start_time": "2022-04-11T12:26:32.598Z"
   },
   {
    "duration": 22,
    "start_time": "2022-04-11T12:26:32.623Z"
   },
   {
    "duration": 49,
    "start_time": "2022-04-11T12:26:32.647Z"
   },
   {
    "duration": 12,
    "start_time": "2022-04-11T12:26:32.699Z"
   },
   {
    "duration": 56,
    "start_time": "2022-04-11T12:26:32.716Z"
   },
   {
    "duration": 14,
    "start_time": "2022-04-11T12:26:32.774Z"
   },
   {
    "duration": 27,
    "start_time": "2022-04-11T12:26:32.791Z"
   },
   {
    "duration": 47,
    "start_time": "2022-04-11T12:26:32.821Z"
   },
   {
    "duration": 15,
    "start_time": "2022-04-11T12:26:32.871Z"
   },
   {
    "duration": 20,
    "start_time": "2022-04-11T12:26:32.891Z"
   },
   {
    "duration": 18,
    "start_time": "2022-04-11T12:26:32.914Z"
   },
   {
    "duration": 72,
    "start_time": "2022-04-11T12:26:32.935Z"
   },
   {
    "duration": 179,
    "start_time": "2022-04-11T12:26:33.009Z"
   },
   {
    "duration": 80,
    "start_time": "2022-04-11T12:26:33.191Z"
   },
   {
    "duration": 8,
    "start_time": "2022-04-11T12:26:33.274Z"
   },
   {
    "duration": 30,
    "start_time": "2022-04-11T12:26:33.285Z"
   },
   {
    "duration": 56,
    "start_time": "2022-04-11T12:26:33.317Z"
   },
   {
    "duration": 403,
    "start_time": "2022-04-11T12:26:33.376Z"
   },
   {
    "duration": 21,
    "start_time": "2022-04-11T12:26:33.781Z"
   },
   {
    "duration": 85,
    "start_time": "2022-04-11T12:26:33.804Z"
   },
   {
    "duration": 11,
    "start_time": "2022-04-11T12:26:33.892Z"
   },
   {
    "duration": 75,
    "start_time": "2022-04-11T12:26:33.905Z"
   },
   {
    "duration": 3,
    "start_time": "2022-04-11T12:26:33.986Z"
   },
   {
    "duration": 10,
    "start_time": "2022-04-11T12:26:33.990Z"
   },
   {
    "duration": 10,
    "start_time": "2022-04-11T12:26:34.003Z"
   },
   {
    "duration": 184,
    "start_time": "2022-04-11T12:26:34.015Z"
   },
   {
    "duration": 71,
    "start_time": "2022-04-11T12:26:34.202Z"
   },
   {
    "duration": 102,
    "start_time": "2022-04-11T12:26:34.276Z"
   },
   {
    "duration": 12,
    "start_time": "2022-04-11T12:26:34.381Z"
   },
   {
    "duration": 79,
    "start_time": "2022-04-11T12:26:34.396Z"
   },
   {
    "duration": 126,
    "start_time": "2022-04-11T12:26:34.478Z"
   },
   {
    "duration": 7,
    "start_time": "2022-04-11T12:26:34.606Z"
   },
   {
    "duration": 6,
    "start_time": "2022-04-11T12:26:34.668Z"
   },
   {
    "duration": 10,
    "start_time": "2022-04-11T12:26:34.676Z"
   },
   {
    "duration": 9,
    "start_time": "2022-04-11T12:26:34.688Z"
   },
   {
    "duration": 8,
    "start_time": "2022-04-11T12:26:34.700Z"
   },
   {
    "duration": 63,
    "start_time": "2022-04-11T12:26:34.710Z"
   },
   {
    "duration": 7,
    "start_time": "2022-04-11T12:26:34.776Z"
   },
   {
    "duration": 14,
    "start_time": "2022-04-11T12:26:34.786Z"
   },
   {
    "duration": 65,
    "start_time": "2022-04-11T12:26:34.803Z"
   },
   {
    "duration": 15,
    "start_time": "2022-04-11T12:26:34.871Z"
   },
   {
    "duration": 14,
    "start_time": "2022-04-11T12:26:34.888Z"
   },
   {
    "duration": 73,
    "start_time": "2022-04-11T12:26:34.905Z"
   },
   {
    "duration": 12,
    "start_time": "2022-04-11T12:26:34.980Z"
   },
   {
    "duration": 10,
    "start_time": "2022-04-11T12:26:34.995Z"
   },
   {
    "duration": 67,
    "start_time": "2022-04-11T12:26:35.008Z"
   },
   {
    "duration": 299,
    "start_time": "2022-04-11T12:26:35.079Z"
   },
   {
    "duration": 54,
    "start_time": "2022-04-11T12:30:11.501Z"
   },
   {
    "duration": 10,
    "start_time": "2022-04-11T12:32:03.994Z"
   },
   {
    "duration": 66,
    "start_time": "2022-04-11T12:32:12.467Z"
   },
   {
    "duration": 140,
    "start_time": "2022-04-11T12:56:34.717Z"
   },
   {
    "duration": 5,
    "start_time": "2022-04-11T12:58:59.868Z"
   },
   {
    "duration": 30,
    "start_time": "2022-04-11T12:59:05.034Z"
   },
   {
    "duration": 4,
    "start_time": "2022-04-11T12:59:47.108Z"
   },
   {
    "duration": 203,
    "start_time": "2022-04-11T12:59:47.116Z"
   },
   {
    "duration": 157,
    "start_time": "2022-04-11T12:59:47.322Z"
   },
   {
    "duration": 104,
    "start_time": "2022-04-11T12:59:47.481Z"
   },
   {
    "duration": 12,
    "start_time": "2022-04-11T12:59:47.588Z"
   },
   {
    "duration": 32,
    "start_time": "2022-04-11T12:59:47.602Z"
   },
   {
    "duration": 11,
    "start_time": "2022-04-11T12:59:47.636Z"
   },
   {
    "duration": 38,
    "start_time": "2022-04-11T12:59:47.649Z"
   },
   {
    "duration": 15,
    "start_time": "2022-04-11T12:59:47.689Z"
   },
   {
    "duration": 30,
    "start_time": "2022-04-11T12:59:47.706Z"
   },
   {
    "duration": 35,
    "start_time": "2022-04-11T12:59:47.740Z"
   },
   {
    "duration": 28,
    "start_time": "2022-04-11T12:59:47.777Z"
   },
   {
    "duration": 10,
    "start_time": "2022-04-11T12:59:47.808Z"
   },
   {
    "duration": 49,
    "start_time": "2022-04-11T12:59:47.820Z"
   },
   {
    "duration": 18,
    "start_time": "2022-04-11T12:59:47.871Z"
   },
   {
    "duration": 20,
    "start_time": "2022-04-11T12:59:47.891Z"
   },
   {
    "duration": 61,
    "start_time": "2022-04-11T12:59:47.913Z"
   },
   {
    "duration": 93,
    "start_time": "2022-04-11T12:59:47.976Z"
   },
   {
    "duration": 45,
    "start_time": "2022-04-11T12:59:48.072Z"
   },
   {
    "duration": 114,
    "start_time": "2022-04-11T12:59:48.119Z"
   },
   {
    "duration": 17,
    "start_time": "2022-04-11T12:59:48.236Z"
   },
   {
    "duration": 10,
    "start_time": "2022-04-11T12:59:48.268Z"
   },
   {
    "duration": 150,
    "start_time": "2022-04-11T12:59:48.281Z"
   },
   {
    "duration": 35,
    "start_time": "2022-04-11T12:59:48.434Z"
   },
   {
    "duration": 32,
    "start_time": "2022-04-11T12:59:48.471Z"
   },
   {
    "duration": 13,
    "start_time": "2022-04-11T12:59:48.505Z"
   },
   {
    "duration": 67,
    "start_time": "2022-04-11T12:59:48.521Z"
   },
   {
    "duration": 54,
    "start_time": "2022-04-11T12:59:48.591Z"
   },
   {
    "duration": 8,
    "start_time": "2022-04-11T12:59:48.669Z"
   },
   {
    "duration": 12,
    "start_time": "2022-04-11T12:59:48.679Z"
   },
   {
    "duration": 107,
    "start_time": "2022-04-11T12:59:48.694Z"
   },
   {
    "duration": 19,
    "start_time": "2022-04-11T12:59:48.804Z"
   },
   {
    "duration": 62,
    "start_time": "2022-04-11T12:59:48.825Z"
   },
   {
    "duration": 7,
    "start_time": "2022-04-11T12:59:48.890Z"
   },
   {
    "duration": 26,
    "start_time": "2022-04-11T12:59:48.899Z"
   },
   {
    "duration": 95,
    "start_time": "2022-04-11T12:59:48.927Z"
   },
   {
    "duration": 80,
    "start_time": "2022-04-11T12:59:49.025Z"
   },
   {
    "duration": 8,
    "start_time": "2022-04-11T12:59:49.107Z"
   },
   {
    "duration": 10,
    "start_time": "2022-04-11T12:59:49.117Z"
   },
   {
    "duration": 40,
    "start_time": "2022-04-11T12:59:49.129Z"
   },
   {
    "duration": 11,
    "start_time": "2022-04-11T12:59:49.171Z"
   },
   {
    "duration": 10,
    "start_time": "2022-04-11T12:59:49.185Z"
   },
   {
    "duration": 12,
    "start_time": "2022-04-11T12:59:49.197Z"
   },
   {
    "duration": 7,
    "start_time": "2022-04-11T12:59:49.211Z"
   },
   {
    "duration": 51,
    "start_time": "2022-04-11T12:59:49.220Z"
   },
   {
    "duration": 15,
    "start_time": "2022-04-11T12:59:49.274Z"
   },
   {
    "duration": 20,
    "start_time": "2022-04-11T12:59:49.291Z"
   },
   {
    "duration": 14,
    "start_time": "2022-04-11T12:59:49.314Z"
   },
   {
    "duration": 49,
    "start_time": "2022-04-11T12:59:49.331Z"
   },
   {
    "duration": 18,
    "start_time": "2022-04-11T12:59:49.383Z"
   },
   {
    "duration": 8,
    "start_time": "2022-04-11T12:59:49.404Z"
   },
   {
    "duration": 15,
    "start_time": "2022-04-11T12:59:49.415Z"
   },
   {
    "duration": 36,
    "start_time": "2022-04-11T12:59:49.432Z"
   },
   {
    "duration": 39,
    "start_time": "2022-04-11T12:59:59.688Z"
   },
   {
    "duration": 39,
    "start_time": "2022-04-11T13:00:06.687Z"
   },
   {
    "duration": 38,
    "start_time": "2022-04-11T13:02:22.821Z"
   },
   {
    "duration": 11,
    "start_time": "2022-04-11T13:06:43.582Z"
   },
   {
    "duration": 28,
    "start_time": "2022-04-11T13:06:50.000Z"
   },
   {
    "duration": 122,
    "start_time": "2022-04-11T13:07:45.847Z"
   },
   {
    "duration": 74,
    "start_time": "2022-04-11T13:08:07.844Z"
   },
   {
    "duration": 73,
    "start_time": "2022-04-11T13:08:36.600Z"
   },
   {
    "duration": 53,
    "start_time": "2022-04-11T13:11:23.627Z"
   },
   {
    "duration": 12,
    "start_time": "2022-04-11T13:12:44.091Z"
   },
   {
    "duration": 18,
    "start_time": "2022-04-11T13:12:56.540Z"
   },
   {
    "duration": 13,
    "start_time": "2022-04-11T13:13:05.359Z"
   },
   {
    "duration": 12,
    "start_time": "2022-04-11T13:13:16.474Z"
   },
   {
    "duration": 11,
    "start_time": "2022-04-11T13:13:34.935Z"
   },
   {
    "duration": 9,
    "start_time": "2022-04-11T13:13:40.434Z"
   },
   {
    "duration": 14,
    "start_time": "2022-04-11T13:13:48.286Z"
   },
   {
    "duration": 48,
    "start_time": "2022-04-12T06:39:53.555Z"
   },
   {
    "duration": 790,
    "start_time": "2022-04-12T06:39:59.768Z"
   },
   {
    "duration": 148,
    "start_time": "2022-04-12T06:40:00.560Z"
   },
   {
    "duration": 136,
    "start_time": "2022-04-12T06:40:00.709Z"
   },
   {
    "duration": 86,
    "start_time": "2022-04-12T06:40:00.847Z"
   },
   {
    "duration": 10,
    "start_time": "2022-04-12T06:40:00.935Z"
   },
   {
    "duration": 18,
    "start_time": "2022-04-12T06:40:00.947Z"
   },
   {
    "duration": 15,
    "start_time": "2022-04-12T06:40:00.967Z"
   },
   {
    "duration": 33,
    "start_time": "2022-04-12T06:40:00.984Z"
   },
   {
    "duration": 8,
    "start_time": "2022-04-12T06:40:01.019Z"
   },
   {
    "duration": 22,
    "start_time": "2022-04-12T06:40:01.030Z"
   },
   {
    "duration": 7,
    "start_time": "2022-04-12T06:40:01.054Z"
   },
   {
    "duration": 28,
    "start_time": "2022-04-12T06:40:01.062Z"
   },
   {
    "duration": 23,
    "start_time": "2022-04-12T06:40:01.092Z"
   },
   {
    "duration": 12,
    "start_time": "2022-04-12T06:40:01.117Z"
   },
   {
    "duration": 11,
    "start_time": "2022-04-12T06:40:01.130Z"
   },
   {
    "duration": 10,
    "start_time": "2022-04-12T06:40:01.143Z"
   },
   {
    "duration": 20,
    "start_time": "2022-04-12T06:40:01.155Z"
   },
   {
    "duration": 90,
    "start_time": "2022-04-12T06:40:01.177Z"
   },
   {
    "duration": 21,
    "start_time": "2022-04-12T06:40:01.269Z"
   },
   {
    "duration": 53,
    "start_time": "2022-04-12T06:40:01.309Z"
   },
   {
    "duration": 10,
    "start_time": "2022-04-12T06:40:01.364Z"
   },
   {
    "duration": 5,
    "start_time": "2022-04-12T06:40:01.376Z"
   },
   {
    "duration": 134,
    "start_time": "2022-04-12T06:40:01.382Z"
   },
   {
    "duration": 17,
    "start_time": "2022-04-12T06:40:01.518Z"
   },
   {
    "duration": 38,
    "start_time": "2022-04-12T06:40:01.536Z"
   },
   {
    "duration": 9,
    "start_time": "2022-04-12T06:40:01.575Z"
   },
   {
    "duration": 27,
    "start_time": "2022-04-12T06:40:01.585Z"
   },
   {
    "duration": 34,
    "start_time": "2022-04-12T06:40:01.616Z"
   },
   {
    "duration": 5,
    "start_time": "2022-04-12T06:40:01.652Z"
   },
   {
    "duration": 14,
    "start_time": "2022-04-12T06:40:01.659Z"
   },
   {
    "duration": 67,
    "start_time": "2022-04-12T06:40:01.675Z"
   },
   {
    "duration": 15,
    "start_time": "2022-04-12T06:40:01.744Z"
   },
   {
    "duration": 49,
    "start_time": "2022-04-12T06:40:01.760Z"
   },
   {
    "duration": 5,
    "start_time": "2022-04-12T06:40:01.811Z"
   },
   {
    "duration": 17,
    "start_time": "2022-04-12T06:40:01.818Z"
   },
   {
    "duration": 40,
    "start_time": "2022-04-12T06:40:01.837Z"
   },
   {
    "duration": 65,
    "start_time": "2022-04-12T06:40:01.879Z"
   },
   {
    "duration": 6,
    "start_time": "2022-04-12T06:40:01.946Z"
   },
   {
    "duration": 39,
    "start_time": "2022-04-12T06:40:01.955Z"
   },
   {
    "duration": 7,
    "start_time": "2022-04-12T06:40:01.996Z"
   },
   {
    "duration": 10,
    "start_time": "2022-04-12T06:40:02.005Z"
   },
   {
    "duration": 6,
    "start_time": "2022-04-12T06:40:02.016Z"
   },
   {
    "duration": 18,
    "start_time": "2022-04-12T06:40:02.024Z"
   },
   {
    "duration": 8,
    "start_time": "2022-04-12T06:40:02.044Z"
   },
   {
    "duration": 17,
    "start_time": "2022-04-12T06:40:02.053Z"
   },
   {
    "duration": 25,
    "start_time": "2022-04-12T06:40:02.072Z"
   },
   {
    "duration": 9,
    "start_time": "2022-04-12T06:40:02.098Z"
   },
   {
    "duration": 9,
    "start_time": "2022-04-12T06:40:02.108Z"
   },
   {
    "duration": 15,
    "start_time": "2022-04-12T06:40:02.119Z"
   },
   {
    "duration": 24,
    "start_time": "2022-04-12T06:40:02.136Z"
   },
   {
    "duration": 20,
    "start_time": "2022-04-12T06:40:02.162Z"
   },
   {
    "duration": 20,
    "start_time": "2022-04-12T06:40:02.184Z"
   },
   {
    "duration": 11,
    "start_time": "2022-04-12T06:40:02.206Z"
   },
   {
    "duration": 55,
    "start_time": "2022-04-12T06:40:02.219Z"
   },
   {
    "duration": 37,
    "start_time": "2022-04-12T06:40:02.275Z"
   },
   {
    "duration": 41,
    "start_time": "2022-04-12T06:40:13.444Z"
   },
   {
    "duration": 6,
    "start_time": "2022-04-12T06:41:17.435Z"
   },
   {
    "duration": 6,
    "start_time": "2022-04-12T06:42:24.119Z"
   },
   {
    "duration": 50,
    "start_time": "2022-04-12T06:47:50.347Z"
   },
   {
    "duration": 32,
    "start_time": "2022-04-12T06:47:59.924Z"
   },
   {
    "duration": 41,
    "start_time": "2022-04-12T06:48:36.935Z"
   },
   {
    "duration": 36,
    "start_time": "2022-04-12T06:49:08.955Z"
   },
   {
    "duration": 1475,
    "start_time": "2022-04-12T06:51:09.945Z"
   },
   {
    "duration": 14,
    "start_time": "2022-04-12T06:51:39.535Z"
   },
   {
    "duration": 16,
    "start_time": "2022-04-12T06:52:10.008Z"
   },
   {
    "duration": 11,
    "start_time": "2022-04-12T06:52:45.900Z"
   },
   {
    "duration": 29,
    "start_time": "2022-04-12T06:53:14.252Z"
   },
   {
    "duration": 10,
    "start_time": "2022-04-12T06:58:53.320Z"
   },
   {
    "duration": 1515,
    "start_time": "2022-04-12T06:59:19.135Z"
   },
   {
    "duration": 121,
    "start_time": "2022-04-12T07:00:46.508Z"
   },
   {
    "duration": 33,
    "start_time": "2022-04-12T07:00:59.962Z"
   },
   {
    "duration": 52,
    "start_time": "2022-04-12T07:01:42.210Z"
   },
   {
    "duration": 3,
    "start_time": "2022-04-12T07:01:55.824Z"
   },
   {
    "duration": 5,
    "start_time": "2022-04-12T07:02:11.039Z"
   },
   {
    "duration": 1502,
    "start_time": "2022-04-12T07:02:58.928Z"
   },
   {
    "duration": 741,
    "start_time": "2022-04-12T07:03:09.062Z"
   },
   {
    "duration": 10,
    "start_time": "2022-04-12T07:05:00.183Z"
   },
   {
    "duration": 8,
    "start_time": "2022-04-12T07:10:18.110Z"
   },
   {
    "duration": 5,
    "start_time": "2022-04-12T07:10:23.728Z"
   },
   {
    "duration": 8,
    "start_time": "2022-04-12T07:10:52.416Z"
   },
   {
    "duration": 13,
    "start_time": "2022-04-12T07:11:00.011Z"
   },
   {
    "duration": 16,
    "start_time": "2022-04-12T07:14:34.950Z"
   },
   {
    "duration": 3,
    "start_time": "2022-04-12T07:14:55.549Z"
   },
   {
    "duration": 6,
    "start_time": "2022-04-12T07:14:56.195Z"
   },
   {
    "duration": 17,
    "start_time": "2022-04-12T07:14:56.756Z"
   },
   {
    "duration": 773,
    "start_time": "2022-04-12T07:15:10.574Z"
   },
   {
    "duration": 1534,
    "start_time": "2022-04-12T07:15:40.775Z"
   },
   {
    "duration": 3,
    "start_time": "2022-04-12T07:17:23.504Z"
   },
   {
    "duration": 3,
    "start_time": "2022-04-12T07:17:39.366Z"
   },
   {
    "duration": 13,
    "start_time": "2022-04-12T07:18:05.582Z"
   },
   {
    "duration": 3,
    "start_time": "2022-04-12T07:24:59.574Z"
   },
   {
    "duration": 9,
    "start_time": "2022-04-12T07:26:56.996Z"
   },
   {
    "duration": 3,
    "start_time": "2022-04-12T07:29:01.230Z"
   },
   {
    "duration": 10,
    "start_time": "2022-04-12T07:29:41.013Z"
   },
   {
    "duration": 14,
    "start_time": "2022-04-12T07:29:49.693Z"
   },
   {
    "duration": 13,
    "start_time": "2022-04-12T07:30:19.641Z"
   },
   {
    "duration": 8,
    "start_time": "2022-04-12T07:31:15.000Z"
   },
   {
    "duration": 42,
    "start_time": "2022-04-12T07:33:08.581Z"
   },
   {
    "duration": 30,
    "start_time": "2022-04-12T07:35:07.452Z"
   },
   {
    "duration": 15,
    "start_time": "2022-04-12T07:52:43.866Z"
   },
   {
    "duration": 2,
    "start_time": "2022-04-12T07:55:33.928Z"
   },
   {
    "duration": 11,
    "start_time": "2022-04-12T07:55:34.474Z"
   },
   {
    "duration": 10,
    "start_time": "2022-04-12T08:14:24.875Z"
   },
   {
    "duration": 11,
    "start_time": "2022-04-12T08:14:33.493Z"
   },
   {
    "duration": 13,
    "start_time": "2022-04-12T08:14:40.198Z"
   },
   {
    "duration": 15,
    "start_time": "2022-04-12T08:19:33.917Z"
   },
   {
    "duration": 85,
    "start_time": "2022-04-12T08:20:06.949Z"
   },
   {
    "duration": 11,
    "start_time": "2022-04-12T08:20:12.159Z"
   },
   {
    "duration": 88,
    "start_time": "2022-04-12T08:20:39.968Z"
   },
   {
    "duration": 11,
    "start_time": "2022-04-12T08:20:43.377Z"
   },
   {
    "duration": 9,
    "start_time": "2022-04-12T08:21:17.363Z"
   },
   {
    "duration": 9,
    "start_time": "2022-04-12T08:21:24.286Z"
   },
   {
    "duration": 4,
    "start_time": "2022-04-12T08:21:28.912Z"
   },
   {
    "duration": 4,
    "start_time": "2022-04-12T08:21:35.607Z"
   },
   {
    "duration": 4,
    "start_time": "2022-04-12T08:21:50.358Z"
   },
   {
    "duration": 8,
    "start_time": "2022-04-12T08:22:03.105Z"
   },
   {
    "duration": 4,
    "start_time": "2022-04-12T08:22:12.704Z"
   },
   {
    "duration": 4,
    "start_time": "2022-04-12T08:22:57.951Z"
   },
   {
    "duration": 4,
    "start_time": "2022-04-12T08:23:03.980Z"
   },
   {
    "duration": 4,
    "start_time": "2022-04-12T08:23:10.303Z"
   },
   {
    "duration": 8,
    "start_time": "2022-04-12T08:23:15.314Z"
   },
   {
    "duration": 4,
    "start_time": "2022-04-12T08:23:25.969Z"
   },
   {
    "duration": 12,
    "start_time": "2022-04-12T08:23:26.587Z"
   },
   {
    "duration": 4,
    "start_time": "2022-04-12T08:23:28.658Z"
   },
   {
    "duration": 4,
    "start_time": "2022-04-12T08:23:39.215Z"
   },
   {
    "duration": 47,
    "start_time": "2022-04-12T12:30:27.822Z"
   },
   {
    "duration": 6,
    "start_time": "2022-04-12T12:33:52.710Z"
   },
   {
    "duration": 773,
    "start_time": "2022-04-12T12:36:52.262Z"
   },
   {
    "duration": 721,
    "start_time": "2022-04-12T12:36:53.037Z"
   },
   {
    "duration": 131,
    "start_time": "2022-04-12T12:36:53.760Z"
   },
   {
    "duration": 86,
    "start_time": "2022-04-12T12:36:53.894Z"
   },
   {
    "duration": 14,
    "start_time": "2022-04-12T12:36:53.982Z"
   },
   {
    "duration": 28,
    "start_time": "2022-04-12T12:36:53.997Z"
   },
   {
    "duration": 14,
    "start_time": "2022-04-12T12:36:54.027Z"
   },
   {
    "duration": 26,
    "start_time": "2022-04-12T12:36:54.042Z"
   },
   {
    "duration": 9,
    "start_time": "2022-04-12T12:36:54.070Z"
   },
   {
    "duration": 48,
    "start_time": "2022-04-12T12:36:54.082Z"
   },
   {
    "duration": 8,
    "start_time": "2022-04-12T12:36:54.131Z"
   },
   {
    "duration": 20,
    "start_time": "2022-04-12T12:36:54.141Z"
   },
   {
    "duration": 8,
    "start_time": "2022-04-12T12:36:54.163Z"
   },
   {
    "duration": 11,
    "start_time": "2022-04-12T12:36:54.172Z"
   },
   {
    "duration": 41,
    "start_time": "2022-04-12T12:36:54.184Z"
   },
   {
    "duration": 12,
    "start_time": "2022-04-12T12:36:54.227Z"
   },
   {
    "duration": 22,
    "start_time": "2022-04-12T12:36:54.240Z"
   },
   {
    "duration": 85,
    "start_time": "2022-04-12T12:36:54.264Z"
   },
   {
    "duration": 22,
    "start_time": "2022-04-12T12:36:54.350Z"
   },
   {
    "duration": 69,
    "start_time": "2022-04-12T12:36:54.373Z"
   },
   {
    "duration": 11,
    "start_time": "2022-04-12T12:36:54.444Z"
   },
   {
    "duration": 7,
    "start_time": "2022-04-12T12:36:54.457Z"
   },
   {
    "duration": 133,
    "start_time": "2022-04-12T12:36:54.466Z"
   },
   {
    "duration": 26,
    "start_time": "2022-04-12T12:36:54.601Z"
   },
   {
    "duration": 23,
    "start_time": "2022-04-12T12:36:54.628Z"
   },
   {
    "duration": 13,
    "start_time": "2022-04-12T12:36:54.653Z"
   },
   {
    "duration": 25,
    "start_time": "2022-04-12T12:36:54.668Z"
   },
   {
    "duration": 49,
    "start_time": "2022-04-12T12:36:54.697Z"
   },
   {
    "duration": 6,
    "start_time": "2022-04-12T12:36:54.747Z"
   },
   {
    "duration": 15,
    "start_time": "2022-04-12T12:36:54.754Z"
   },
   {
    "duration": 64,
    "start_time": "2022-04-12T12:36:54.770Z"
   },
   {
    "duration": 15,
    "start_time": "2022-04-12T12:36:54.836Z"
   },
   {
    "duration": 37,
    "start_time": "2022-04-12T12:36:54.853Z"
   },
   {
    "duration": 6,
    "start_time": "2022-04-12T12:36:54.891Z"
   },
   {
    "duration": 15,
    "start_time": "2022-04-12T12:36:54.923Z"
   },
   {
    "duration": 32,
    "start_time": "2022-04-12T12:36:54.940Z"
   },
   {
    "duration": 67,
    "start_time": "2022-04-12T12:36:54.974Z"
   },
   {
    "duration": 7,
    "start_time": "2022-04-12T12:36:55.042Z"
   },
   {
    "duration": 7,
    "start_time": "2022-04-12T12:36:55.050Z"
   },
   {
    "duration": 6,
    "start_time": "2022-04-12T12:36:55.058Z"
   },
   {
    "duration": 6,
    "start_time": "2022-04-12T12:36:55.066Z"
   },
   {
    "duration": 5,
    "start_time": "2022-04-12T12:36:55.074Z"
   },
   {
    "duration": 7,
    "start_time": "2022-04-12T12:36:55.081Z"
   },
   {
    "duration": 34,
    "start_time": "2022-04-12T12:36:55.089Z"
   },
   {
    "duration": 6,
    "start_time": "2022-04-12T12:36:55.125Z"
   },
   {
    "duration": 6,
    "start_time": "2022-04-12T12:36:55.133Z"
   },
   {
    "duration": 11,
    "start_time": "2022-04-12T12:36:55.141Z"
   },
   {
    "duration": 13,
    "start_time": "2022-04-12T12:36:55.154Z"
   },
   {
    "duration": 13,
    "start_time": "2022-04-12T12:36:55.169Z"
   },
   {
    "duration": 42,
    "start_time": "2022-04-12T12:36:55.184Z"
   },
   {
    "duration": 6,
    "start_time": "2022-04-12T12:36:55.228Z"
   },
   {
    "duration": 7,
    "start_time": "2022-04-12T12:36:55.235Z"
   },
   {
    "duration": 11,
    "start_time": "2022-04-12T12:36:55.244Z"
   },
   {
    "duration": 82,
    "start_time": "2022-04-12T12:36:55.257Z"
   },
   {
    "duration": 3,
    "start_time": "2022-04-12T12:36:55.341Z"
   },
   {
    "duration": 5,
    "start_time": "2022-04-12T12:36:55.346Z"
   },
   {
    "duration": 37,
    "start_time": "2022-04-12T12:36:55.352Z"
   },
   {
    "duration": 3,
    "start_time": "2022-04-12T12:36:55.391Z"
   },
   {
    "duration": 49,
    "start_time": "2022-04-12T12:36:55.396Z"
   },
   {
    "duration": 3,
    "start_time": "2022-04-12T12:36:55.447Z"
   },
   {
    "duration": 5,
    "start_time": "2022-04-12T12:36:55.452Z"
   },
   {
    "duration": 17,
    "start_time": "2022-04-12T12:36:55.458Z"
   },
   {
    "duration": 3,
    "start_time": "2022-04-12T12:36:55.477Z"
   },
   {
    "duration": 78,
    "start_time": "2022-04-12T12:36:55.482Z"
   },
   {
    "duration": 0,
    "start_time": "2022-04-12T12:36:55.561Z"
   },
   {
    "duration": 0,
    "start_time": "2022-04-12T12:36:55.563Z"
   },
   {
    "duration": 0,
    "start_time": "2022-04-12T12:36:55.564Z"
   },
   {
    "duration": 13,
    "start_time": "2022-04-12T12:37:13.869Z"
   },
   {
    "duration": 3,
    "start_time": "2022-04-12T12:42:19.611Z"
   },
   {
    "duration": 4,
    "start_time": "2022-04-12T12:46:56.876Z"
   },
   {
    "duration": 162,
    "start_time": "2022-04-12T12:47:22.587Z"
   },
   {
    "duration": 11,
    "start_time": "2022-04-12T12:47:27.120Z"
   },
   {
    "duration": 7,
    "start_time": "2022-04-12T12:47:39.473Z"
   },
   {
    "duration": 7,
    "start_time": "2022-04-12T12:47:45.015Z"
   },
   {
    "duration": 9,
    "start_time": "2022-04-12T12:47:50.396Z"
   },
   {
    "duration": 8,
    "start_time": "2022-04-12T12:48:16.982Z"
   },
   {
    "duration": 7,
    "start_time": "2022-04-12T12:48:23.738Z"
   },
   {
    "duration": 7,
    "start_time": "2022-04-12T12:48:27.340Z"
   },
   {
    "duration": 13,
    "start_time": "2022-04-12T12:48:37.374Z"
   },
   {
    "duration": 17,
    "start_time": "2022-04-12T12:49:26.260Z"
   },
   {
    "duration": 9,
    "start_time": "2022-04-12T12:49:38.378Z"
   },
   {
    "duration": 3,
    "start_time": "2022-04-12T12:49:50.345Z"
   },
   {
    "duration": 174,
    "start_time": "2022-04-12T12:49:50.350Z"
   },
   {
    "duration": 126,
    "start_time": "2022-04-12T12:49:50.526Z"
   },
   {
    "duration": 87,
    "start_time": "2022-04-12T12:49:50.654Z"
   },
   {
    "duration": 14,
    "start_time": "2022-04-12T12:49:50.743Z"
   },
   {
    "duration": 26,
    "start_time": "2022-04-12T12:49:50.759Z"
   },
   {
    "duration": 8,
    "start_time": "2022-04-12T12:49:50.787Z"
   },
   {
    "duration": 26,
    "start_time": "2022-04-12T12:49:50.796Z"
   },
   {
    "duration": 8,
    "start_time": "2022-04-12T12:49:50.823Z"
   },
   {
    "duration": 26,
    "start_time": "2022-04-12T12:49:50.833Z"
   },
   {
    "duration": 7,
    "start_time": "2022-04-12T12:49:50.862Z"
   },
   {
    "duration": 21,
    "start_time": "2022-04-12T12:49:50.870Z"
   },
   {
    "duration": 7,
    "start_time": "2022-04-12T12:49:50.893Z"
   },
   {
    "duration": 29,
    "start_time": "2022-04-12T12:49:50.902Z"
   },
   {
    "duration": 12,
    "start_time": "2022-04-12T12:49:50.932Z"
   },
   {
    "duration": 13,
    "start_time": "2022-04-12T12:49:50.946Z"
   },
   {
    "duration": 31,
    "start_time": "2022-04-12T12:49:50.960Z"
   },
   {
    "duration": 73,
    "start_time": "2022-04-12T12:49:50.992Z"
   },
   {
    "duration": 21,
    "start_time": "2022-04-12T12:49:51.067Z"
   },
   {
    "duration": 57,
    "start_time": "2022-04-12T12:49:51.089Z"
   },
   {
    "duration": 9,
    "start_time": "2022-04-12T12:49:51.148Z"
   },
   {
    "duration": 7,
    "start_time": "2022-04-12T12:49:51.158Z"
   },
   {
    "duration": 136,
    "start_time": "2022-04-12T12:49:51.167Z"
   },
   {
    "duration": 23,
    "start_time": "2022-04-12T12:49:51.305Z"
   },
   {
    "duration": 24,
    "start_time": "2022-04-12T12:49:51.330Z"
   },
   {
    "duration": 9,
    "start_time": "2022-04-12T12:49:51.355Z"
   },
   {
    "duration": 17,
    "start_time": "2022-04-12T12:49:51.365Z"
   },
   {
    "duration": 74,
    "start_time": "2022-04-12T12:49:51.384Z"
   },
   {
    "duration": 7,
    "start_time": "2022-04-12T12:49:51.462Z"
   },
   {
    "duration": 14,
    "start_time": "2022-04-12T12:49:51.471Z"
   },
   {
    "duration": 71,
    "start_time": "2022-04-12T12:49:51.487Z"
   },
   {
    "duration": 16,
    "start_time": "2022-04-12T12:49:51.560Z"
   },
   {
    "duration": 45,
    "start_time": "2022-04-12T12:49:51.578Z"
   },
   {
    "duration": 7,
    "start_time": "2022-04-12T12:49:51.625Z"
   },
   {
    "duration": 16,
    "start_time": "2022-04-12T12:49:51.634Z"
   },
   {
    "duration": 35,
    "start_time": "2022-04-12T12:49:51.652Z"
   },
   {
    "duration": 80,
    "start_time": "2022-04-12T12:49:51.688Z"
   },
   {
    "duration": 7,
    "start_time": "2022-04-12T12:49:51.770Z"
   },
   {
    "duration": 5,
    "start_time": "2022-04-12T12:49:51.779Z"
   },
   {
    "duration": 7,
    "start_time": "2022-04-12T12:49:51.785Z"
   },
   {
    "duration": 32,
    "start_time": "2022-04-12T12:49:51.793Z"
   },
   {
    "duration": 5,
    "start_time": "2022-04-12T12:49:51.827Z"
   },
   {
    "duration": 7,
    "start_time": "2022-04-12T12:49:51.833Z"
   },
   {
    "duration": 9,
    "start_time": "2022-04-12T12:49:51.842Z"
   },
   {
    "duration": 7,
    "start_time": "2022-04-12T12:49:51.853Z"
   },
   {
    "duration": 9,
    "start_time": "2022-04-12T12:49:51.862Z"
   },
   {
    "duration": 12,
    "start_time": "2022-04-12T12:49:51.873Z"
   },
   {
    "duration": 12,
    "start_time": "2022-04-12T12:49:51.886Z"
   },
   {
    "duration": 37,
    "start_time": "2022-04-12T12:49:51.899Z"
   },
   {
    "duration": 12,
    "start_time": "2022-04-12T12:49:51.938Z"
   },
   {
    "duration": 8,
    "start_time": "2022-04-12T12:49:51.952Z"
   },
   {
    "duration": 8,
    "start_time": "2022-04-12T12:49:51.962Z"
   },
   {
    "duration": 9,
    "start_time": "2022-04-12T12:49:51.972Z"
   },
   {
    "duration": 74,
    "start_time": "2022-04-12T12:49:51.983Z"
   },
   {
    "duration": 3,
    "start_time": "2022-04-12T12:49:52.058Z"
   },
   {
    "duration": 11,
    "start_time": "2022-04-12T12:49:52.062Z"
   },
   {
    "duration": 4,
    "start_time": "2022-04-12T12:49:52.075Z"
   },
   {
    "duration": 7,
    "start_time": "2022-04-12T12:50:37.890Z"
   },
   {
    "duration": 4,
    "start_time": "2022-04-12T12:50:45.088Z"
   },
   {
    "duration": 5,
    "start_time": "2022-04-12T12:50:45.602Z"
   },
   {
    "duration": 12,
    "start_time": "2022-04-12T12:50:51.026Z"
   },
   {
    "duration": 10,
    "start_time": "2022-04-12T12:51:01.519Z"
   },
   {
    "duration": 34,
    "start_time": "2022-04-12T12:52:33.982Z"
   },
   {
    "duration": 45,
    "start_time": "2022-04-13T07:06:49.127Z"
   },
   {
    "duration": 863,
    "start_time": "2022-04-13T07:10:43.616Z"
   },
   {
    "duration": 141,
    "start_time": "2022-04-13T07:10:44.481Z"
   },
   {
    "duration": 118,
    "start_time": "2022-04-13T07:10:44.624Z"
   },
   {
    "duration": 77,
    "start_time": "2022-04-13T07:10:44.745Z"
   },
   {
    "duration": 9,
    "start_time": "2022-04-13T07:10:44.823Z"
   },
   {
    "duration": 20,
    "start_time": "2022-04-13T07:10:44.834Z"
   },
   {
    "duration": 13,
    "start_time": "2022-04-13T07:10:44.856Z"
   },
   {
    "duration": 37,
    "start_time": "2022-04-13T07:10:44.871Z"
   },
   {
    "duration": 21,
    "start_time": "2022-04-13T07:10:44.910Z"
   },
   {
    "duration": 44,
    "start_time": "2022-04-13T07:10:44.933Z"
   },
   {
    "duration": 7,
    "start_time": "2022-04-13T07:10:44.978Z"
   },
   {
    "duration": 46,
    "start_time": "2022-04-13T07:10:44.987Z"
   },
   {
    "duration": 21,
    "start_time": "2022-04-13T07:10:45.035Z"
   },
   {
    "duration": 24,
    "start_time": "2022-04-13T07:10:45.057Z"
   },
   {
    "duration": 30,
    "start_time": "2022-04-13T07:10:45.083Z"
   },
   {
    "duration": 20,
    "start_time": "2022-04-13T07:10:45.115Z"
   },
   {
    "duration": 37,
    "start_time": "2022-04-13T07:10:45.136Z"
   },
   {
    "duration": 64,
    "start_time": "2022-04-13T07:10:45.174Z"
   },
   {
    "duration": 26,
    "start_time": "2022-04-13T07:10:45.240Z"
   },
   {
    "duration": 53,
    "start_time": "2022-04-13T07:10:45.268Z"
   },
   {
    "duration": 12,
    "start_time": "2022-04-13T07:10:45.322Z"
   },
   {
    "duration": 25,
    "start_time": "2022-04-13T07:10:45.335Z"
   },
   {
    "duration": 126,
    "start_time": "2022-04-13T07:10:45.362Z"
   },
   {
    "duration": 17,
    "start_time": "2022-04-13T07:10:45.490Z"
   },
   {
    "duration": 28,
    "start_time": "2022-04-13T07:10:45.509Z"
   },
   {
    "duration": 24,
    "start_time": "2022-04-13T07:10:45.538Z"
   },
   {
    "duration": 24,
    "start_time": "2022-04-13T07:10:45.563Z"
   },
   {
    "duration": 54,
    "start_time": "2022-04-13T07:10:45.591Z"
   },
   {
    "duration": 6,
    "start_time": "2022-04-13T07:10:45.646Z"
   },
   {
    "duration": 23,
    "start_time": "2022-04-13T07:10:45.653Z"
   },
   {
    "duration": 56,
    "start_time": "2022-04-13T07:10:45.678Z"
   },
   {
    "duration": 14,
    "start_time": "2022-04-13T07:10:45.736Z"
   },
   {
    "duration": 45,
    "start_time": "2022-04-13T07:10:45.754Z"
   },
   {
    "duration": 4,
    "start_time": "2022-04-13T07:10:45.801Z"
   },
   {
    "duration": 19,
    "start_time": "2022-04-13T07:10:45.807Z"
   },
   {
    "duration": 42,
    "start_time": "2022-04-13T07:10:45.827Z"
   },
   {
    "duration": 49,
    "start_time": "2022-04-13T07:10:45.871Z"
   },
   {
    "duration": 7,
    "start_time": "2022-04-13T07:10:45.921Z"
   },
   {
    "duration": 27,
    "start_time": "2022-04-13T07:10:45.929Z"
   },
   {
    "duration": 12,
    "start_time": "2022-04-13T07:10:45.957Z"
   },
   {
    "duration": 13,
    "start_time": "2022-04-13T07:10:45.970Z"
   },
   {
    "duration": 23,
    "start_time": "2022-04-13T07:10:45.984Z"
   },
   {
    "duration": 29,
    "start_time": "2022-04-13T07:10:46.008Z"
   },
   {
    "duration": 14,
    "start_time": "2022-04-13T07:10:46.039Z"
   },
   {
    "duration": 20,
    "start_time": "2022-04-13T07:10:46.054Z"
   },
   {
    "duration": 17,
    "start_time": "2022-04-13T07:10:46.076Z"
   },
   {
    "duration": 22,
    "start_time": "2022-04-13T07:10:46.095Z"
   },
   {
    "duration": 30,
    "start_time": "2022-04-13T07:10:46.118Z"
   },
   {
    "duration": 23,
    "start_time": "2022-04-13T07:10:46.150Z"
   },
   {
    "duration": 24,
    "start_time": "2022-04-13T07:10:46.175Z"
   },
   {
    "duration": 22,
    "start_time": "2022-04-13T07:10:46.201Z"
   },
   {
    "duration": 38,
    "start_time": "2022-04-13T07:10:46.225Z"
   },
   {
    "duration": 24,
    "start_time": "2022-04-13T07:10:46.265Z"
   },
   {
    "duration": 75,
    "start_time": "2022-04-13T07:10:46.291Z"
   },
   {
    "duration": 3,
    "start_time": "2022-04-13T07:10:46.368Z"
   },
   {
    "duration": 55,
    "start_time": "2022-04-13T07:10:46.372Z"
   },
   {
    "duration": 3,
    "start_time": "2022-04-13T07:10:46.429Z"
   },
   {
    "duration": 44,
    "start_time": "2022-04-13T07:10:46.433Z"
   },
   {
    "duration": 3,
    "start_time": "2022-04-13T07:10:46.479Z"
   },
   {
    "duration": 18,
    "start_time": "2022-04-13T07:10:46.484Z"
   },
   {
    "duration": 19,
    "start_time": "2022-04-13T07:10:46.503Z"
   },
   {
    "duration": 116,
    "start_time": "2022-04-13T07:10:46.524Z"
   },
   {
    "duration": 102,
    "start_time": "2022-04-13T07:11:36.585Z"
   },
   {
    "duration": 13,
    "start_time": "2022-04-13T07:17:23.949Z"
   },
   {
    "duration": 15,
    "start_time": "2022-04-13T07:17:31.453Z"
   },
   {
    "duration": 10,
    "start_time": "2022-04-13T07:27:39.329Z"
   },
   {
    "duration": 12,
    "start_time": "2022-04-13T07:28:11.536Z"
   },
   {
    "duration": 3,
    "start_time": "2022-04-13T07:28:36.849Z"
   },
   {
    "duration": 173,
    "start_time": "2022-04-13T07:28:36.854Z"
   },
   {
    "duration": 141,
    "start_time": "2022-04-13T07:28:37.028Z"
   },
   {
    "duration": 84,
    "start_time": "2022-04-13T07:28:37.171Z"
   },
   {
    "duration": 13,
    "start_time": "2022-04-13T07:28:37.257Z"
   },
   {
    "duration": 14,
    "start_time": "2022-04-13T07:28:37.271Z"
   },
   {
    "duration": 8,
    "start_time": "2022-04-13T07:28:37.287Z"
   },
   {
    "duration": 29,
    "start_time": "2022-04-13T07:28:37.297Z"
   },
   {
    "duration": 9,
    "start_time": "2022-04-13T07:28:37.328Z"
   },
   {
    "duration": 35,
    "start_time": "2022-04-13T07:28:37.338Z"
   },
   {
    "duration": 7,
    "start_time": "2022-04-13T07:28:37.375Z"
   },
   {
    "duration": 19,
    "start_time": "2022-04-13T07:28:37.383Z"
   },
   {
    "duration": 7,
    "start_time": "2022-04-13T07:28:37.404Z"
   },
   {
    "duration": 13,
    "start_time": "2022-04-13T07:28:37.413Z"
   },
   {
    "duration": 32,
    "start_time": "2022-04-13T07:28:37.428Z"
   },
   {
    "duration": 11,
    "start_time": "2022-04-13T07:28:37.462Z"
   },
   {
    "duration": 22,
    "start_time": "2022-04-13T07:28:37.474Z"
   },
   {
    "duration": 81,
    "start_time": "2022-04-13T07:28:37.498Z"
   },
   {
    "duration": 20,
    "start_time": "2022-04-13T07:28:37.581Z"
   },
   {
    "duration": 56,
    "start_time": "2022-04-13T07:28:37.603Z"
   },
   {
    "duration": 9,
    "start_time": "2022-04-13T07:28:37.660Z"
   },
   {
    "duration": 8,
    "start_time": "2022-04-13T07:28:37.671Z"
   },
   {
    "duration": 117,
    "start_time": "2022-04-13T07:28:37.680Z"
   },
   {
    "duration": 16,
    "start_time": "2022-04-13T07:28:37.801Z"
   },
   {
    "duration": 36,
    "start_time": "2022-04-13T07:28:37.819Z"
   },
   {
    "duration": 8,
    "start_time": "2022-04-13T07:28:37.857Z"
   },
   {
    "duration": 15,
    "start_time": "2022-04-13T07:28:37.867Z"
   },
   {
    "duration": 36,
    "start_time": "2022-04-13T07:28:37.884Z"
   },
   {
    "duration": 5,
    "start_time": "2022-04-13T07:28:37.922Z"
   },
   {
    "duration": 35,
    "start_time": "2022-04-13T07:28:37.929Z"
   },
   {
    "duration": 89,
    "start_time": "2022-04-13T07:28:37.966Z"
   },
   {
    "duration": 25,
    "start_time": "2022-04-13T07:28:38.058Z"
   },
   {
    "duration": 41,
    "start_time": "2022-04-13T07:28:38.085Z"
   },
   {
    "duration": 6,
    "start_time": "2022-04-13T07:28:38.128Z"
   },
   {
    "duration": 24,
    "start_time": "2022-04-13T07:28:38.155Z"
   },
   {
    "duration": 42,
    "start_time": "2022-04-13T07:28:38.181Z"
   },
   {
    "duration": 90,
    "start_time": "2022-04-13T07:28:38.225Z"
   },
   {
    "duration": 6,
    "start_time": "2022-04-13T07:28:38.317Z"
   },
   {
    "duration": 7,
    "start_time": "2022-04-13T07:28:38.324Z"
   },
   {
    "duration": 24,
    "start_time": "2022-04-13T07:28:38.332Z"
   },
   {
    "duration": 7,
    "start_time": "2022-04-13T07:28:38.358Z"
   },
   {
    "duration": 5,
    "start_time": "2022-04-13T07:28:38.367Z"
   },
   {
    "duration": 10,
    "start_time": "2022-04-13T07:28:38.374Z"
   },
   {
    "duration": 6,
    "start_time": "2022-04-13T07:28:38.385Z"
   },
   {
    "duration": 8,
    "start_time": "2022-04-13T07:28:38.393Z"
   },
   {
    "duration": 8,
    "start_time": "2022-04-13T07:28:38.402Z"
   },
   {
    "duration": 6,
    "start_time": "2022-04-13T07:28:38.412Z"
   },
   {
    "duration": 35,
    "start_time": "2022-04-13T07:28:38.420Z"
   },
   {
    "duration": 14,
    "start_time": "2022-04-13T07:28:38.457Z"
   },
   {
    "duration": 7,
    "start_time": "2022-04-13T07:28:38.473Z"
   },
   {
    "duration": 9,
    "start_time": "2022-04-13T07:28:38.481Z"
   },
   {
    "duration": 6,
    "start_time": "2022-04-13T07:28:38.491Z"
   },
   {
    "duration": 8,
    "start_time": "2022-04-13T07:28:38.498Z"
   },
   {
    "duration": 83,
    "start_time": "2022-04-13T07:28:38.507Z"
   },
   {
    "duration": 3,
    "start_time": "2022-04-13T07:28:38.592Z"
   },
   {
    "duration": 34,
    "start_time": "2022-04-13T07:28:38.597Z"
   },
   {
    "duration": 21,
    "start_time": "2022-04-13T07:28:38.633Z"
   },
   {
    "duration": 29,
    "start_time": "2022-04-13T07:28:38.656Z"
   },
   {
    "duration": 2,
    "start_time": "2022-04-13T07:28:38.687Z"
   },
   {
    "duration": 13,
    "start_time": "2022-04-13T07:28:38.691Z"
   },
   {
    "duration": 3,
    "start_time": "2022-04-13T07:28:38.705Z"
   },
   {
    "duration": 18,
    "start_time": "2022-04-13T07:28:38.709Z"
   },
   {
    "duration": 30,
    "start_time": "2022-04-13T07:28:38.728Z"
   },
   {
    "duration": 108,
    "start_time": "2022-04-13T07:28:38.759Z"
   },
   {
    "duration": 9,
    "start_time": "2022-04-13T07:31:55.347Z"
   },
   {
    "duration": 9,
    "start_time": "2022-04-13T07:32:10.587Z"
   },
   {
    "duration": 10,
    "start_time": "2022-04-13T07:32:12.321Z"
   },
   {
    "duration": 14,
    "start_time": "2022-04-13T07:32:43.573Z"
   },
   {
    "duration": 9,
    "start_time": "2022-04-13T07:34:31.177Z"
   },
   {
    "duration": 10,
    "start_time": "2022-04-13T07:34:35.298Z"
   },
   {
    "duration": 14,
    "start_time": "2022-04-13T07:35:17.678Z"
   },
   {
    "duration": 9,
    "start_time": "2022-04-13T07:35:19.502Z"
   },
   {
    "duration": 15,
    "start_time": "2022-04-13T07:35:20.223Z"
   },
   {
    "duration": 8,
    "start_time": "2022-04-13T07:36:14.095Z"
   },
   {
    "duration": 8,
    "start_time": "2022-04-13T07:37:31.094Z"
   },
   {
    "duration": 9,
    "start_time": "2022-04-13T07:37:31.542Z"
   },
   {
    "duration": 14,
    "start_time": "2022-04-13T07:37:32.295Z"
   },
   {
    "duration": 14,
    "start_time": "2022-04-13T07:38:56.238Z"
   },
   {
    "duration": 1107,
    "start_time": "2022-04-13T10:32:56.324Z"
   },
   {
    "duration": 211,
    "start_time": "2022-04-13T10:32:57.433Z"
   },
   {
    "duration": 192,
    "start_time": "2022-04-13T10:32:57.647Z"
   },
   {
    "duration": 113,
    "start_time": "2022-04-13T10:32:57.843Z"
   },
   {
    "duration": 14,
    "start_time": "2022-04-13T10:32:57.958Z"
   },
   {
    "duration": 22,
    "start_time": "2022-04-13T10:32:57.985Z"
   },
   {
    "duration": 23,
    "start_time": "2022-04-13T10:32:58.009Z"
   },
   {
    "duration": 52,
    "start_time": "2022-04-13T10:32:58.035Z"
   },
   {
    "duration": 18,
    "start_time": "2022-04-13T10:32:58.095Z"
   },
   {
    "duration": 75,
    "start_time": "2022-04-13T10:32:58.119Z"
   },
   {
    "duration": 14,
    "start_time": "2022-04-13T10:32:58.198Z"
   },
   {
    "duration": 67,
    "start_time": "2022-04-13T10:32:58.216Z"
   },
   {
    "duration": 16,
    "start_time": "2022-04-13T10:32:58.290Z"
   },
   {
    "duration": 20,
    "start_time": "2022-04-13T10:32:58.309Z"
   },
   {
    "duration": 19,
    "start_time": "2022-04-13T10:32:58.331Z"
   },
   {
    "duration": 21,
    "start_time": "2022-04-13T10:32:58.389Z"
   },
   {
    "duration": 48,
    "start_time": "2022-04-13T10:32:58.413Z"
   },
   {
    "duration": 120,
    "start_time": "2022-04-13T10:32:58.464Z"
   },
   {
    "duration": 38,
    "start_time": "2022-04-13T10:32:58.590Z"
   },
   {
    "duration": 104,
    "start_time": "2022-04-13T10:32:58.630Z"
   },
   {
    "duration": 17,
    "start_time": "2022-04-13T10:32:58.737Z"
   },
   {
    "duration": 25,
    "start_time": "2022-04-13T10:32:58.757Z"
   },
   {
    "duration": 169,
    "start_time": "2022-04-13T10:32:58.785Z"
   },
   {
    "duration": 34,
    "start_time": "2022-04-13T10:32:58.956Z"
   },
   {
    "duration": 41,
    "start_time": "2022-04-13T10:32:58.993Z"
   },
   {
    "duration": 46,
    "start_time": "2022-04-13T10:32:59.037Z"
   },
   {
    "duration": 24,
    "start_time": "2022-04-13T10:32:59.085Z"
   },
   {
    "duration": 77,
    "start_time": "2022-04-13T10:32:59.118Z"
   },
   {
    "duration": 11,
    "start_time": "2022-04-13T10:32:59.198Z"
   },
   {
    "duration": 14,
    "start_time": "2022-04-13T10:32:59.211Z"
   },
   {
    "duration": 133,
    "start_time": "2022-04-13T10:32:59.227Z"
   },
   {
    "duration": 19,
    "start_time": "2022-04-13T10:32:59.363Z"
   },
   {
    "duration": 51,
    "start_time": "2022-04-13T10:32:59.384Z"
   },
   {
    "duration": 8,
    "start_time": "2022-04-13T10:32:59.437Z"
   },
   {
    "duration": 48,
    "start_time": "2022-04-13T10:32:59.447Z"
   },
   {
    "duration": 70,
    "start_time": "2022-04-13T10:32:59.498Z"
   },
   {
    "duration": 74,
    "start_time": "2022-04-13T10:32:59.591Z"
   },
   {
    "duration": 15,
    "start_time": "2022-04-13T10:32:59.668Z"
   },
   {
    "duration": 10,
    "start_time": "2022-04-13T10:32:59.686Z"
   },
   {
    "duration": 20,
    "start_time": "2022-04-13T10:32:59.698Z"
   },
   {
    "duration": 12,
    "start_time": "2022-04-13T10:32:59.721Z"
   },
   {
    "duration": 8,
    "start_time": "2022-04-13T10:32:59.735Z"
   },
   {
    "duration": 46,
    "start_time": "2022-04-13T10:32:59.745Z"
   },
   {
    "duration": 15,
    "start_time": "2022-04-13T10:32:59.794Z"
   },
   {
    "duration": 8,
    "start_time": "2022-04-13T10:32:59.812Z"
   },
   {
    "duration": 12,
    "start_time": "2022-04-13T10:32:59.824Z"
   },
   {
    "duration": 45,
    "start_time": "2022-04-13T10:32:59.839Z"
   },
   {
    "duration": 18,
    "start_time": "2022-04-13T10:32:59.890Z"
   },
   {
    "duration": 21,
    "start_time": "2022-04-13T10:32:59.910Z"
   },
   {
    "duration": 15,
    "start_time": "2022-04-13T10:32:59.933Z"
   },
   {
    "duration": 9,
    "start_time": "2022-04-13T10:32:59.983Z"
   },
   {
    "duration": 32,
    "start_time": "2022-04-13T10:32:59.995Z"
   },
   {
    "duration": 16,
    "start_time": "2022-04-13T10:33:00.030Z"
   },
   {
    "duration": 106,
    "start_time": "2022-04-13T10:33:00.048Z"
   },
   {
    "duration": 4,
    "start_time": "2022-04-13T10:33:00.156Z"
   },
   {
    "duration": 85,
    "start_time": "2022-04-13T10:33:00.164Z"
   },
   {
    "duration": 5,
    "start_time": "2022-04-13T10:33:00.252Z"
   },
   {
    "duration": 77,
    "start_time": "2022-04-13T10:33:00.259Z"
   },
   {
    "duration": 6,
    "start_time": "2022-04-13T10:33:00.338Z"
   },
   {
    "duration": 58,
    "start_time": "2022-04-13T10:33:00.346Z"
   },
   {
    "duration": 15,
    "start_time": "2022-04-13T10:33:00.406Z"
   },
   {
    "duration": 35,
    "start_time": "2022-04-13T10:33:00.424Z"
   },
   {
    "duration": 43,
    "start_time": "2022-04-13T10:33:00.461Z"
   },
   {
    "duration": 28,
    "start_time": "2022-04-13T10:33:00.507Z"
   },
   {
    "duration": 4,
    "start_time": "2022-04-13T10:33:00.538Z"
   },
   {
    "duration": 157,
    "start_time": "2022-04-13T10:39:11.577Z"
   },
   {
    "duration": 2053,
    "start_time": "2022-04-13T10:40:48.464Z"
   },
   {
    "duration": 1330,
    "start_time": "2022-04-13T10:44:04.626Z"
   },
   {
    "duration": 7,
    "start_time": "2022-04-13T10:50:10.180Z"
   },
   {
    "duration": 12,
    "start_time": "2022-04-13T10:50:12.727Z"
   },
   {
    "duration": 24,
    "start_time": "2022-04-13T10:50:30.721Z"
   },
   {
    "duration": 25,
    "start_time": "2022-04-13T10:50:53.779Z"
   },
   {
    "duration": 24,
    "start_time": "2022-04-13T10:51:48.530Z"
   },
   {
    "duration": 22,
    "start_time": "2022-04-13T10:52:00.822Z"
   },
   {
    "duration": 24,
    "start_time": "2022-04-13T10:52:06.636Z"
   },
   {
    "duration": 21,
    "start_time": "2022-04-13T10:52:11.619Z"
   },
   {
    "duration": 5,
    "start_time": "2022-04-13T10:52:13.906Z"
   },
   {
    "duration": 16,
    "start_time": "2022-04-13T10:52:14.631Z"
   },
   {
    "duration": 15,
    "start_time": "2022-04-13T10:53:28.445Z"
   },
   {
    "duration": 18,
    "start_time": "2022-04-13T10:53:43.871Z"
   },
   {
    "duration": 14,
    "start_time": "2022-04-13T10:53:44.420Z"
   },
   {
    "duration": 6,
    "start_time": "2022-04-13T10:53:46.127Z"
   },
   {
    "duration": 26,
    "start_time": "2022-04-13T10:53:46.746Z"
   },
   {
    "duration": 17,
    "start_time": "2022-04-13T10:53:53.885Z"
   },
   {
    "duration": 31,
    "start_time": "2022-04-13T10:53:55.808Z"
   },
   {
    "duration": 16,
    "start_time": "2022-04-13T10:54:22.958Z"
   },
   {
    "duration": 21,
    "start_time": "2022-04-13T10:55:29.110Z"
   },
   {
    "duration": 17,
    "start_time": "2022-04-13T10:56:01.598Z"
   },
   {
    "duration": 17,
    "start_time": "2022-04-13T10:56:11.498Z"
   },
   {
    "duration": 15,
    "start_time": "2022-04-13T10:56:21.023Z"
   },
   {
    "duration": 15,
    "start_time": "2022-04-13T10:56:33.143Z"
   },
   {
    "duration": 23,
    "start_time": "2022-04-13T10:56:35.971Z"
   },
   {
    "duration": 19,
    "start_time": "2022-04-13T10:56:39.976Z"
   },
   {
    "duration": 22,
    "start_time": "2022-04-13T10:56:50.846Z"
   },
   {
    "duration": 17,
    "start_time": "2022-04-13T10:56:52.937Z"
   },
   {
    "duration": 23,
    "start_time": "2022-04-13T10:57:14.464Z"
   },
   {
    "duration": 4,
    "start_time": "2022-04-13T10:57:23.858Z"
   },
   {
    "duration": 341,
    "start_time": "2022-04-13T10:57:23.865Z"
   },
   {
    "duration": 251,
    "start_time": "2022-04-13T10:57:24.209Z"
   },
   {
    "duration": 163,
    "start_time": "2022-04-13T10:57:24.463Z"
   },
   {
    "duration": 15,
    "start_time": "2022-04-13T10:57:24.631Z"
   },
   {
    "duration": 20,
    "start_time": "2022-04-13T10:57:24.648Z"
   },
   {
    "duration": 34,
    "start_time": "2022-04-13T10:57:24.671Z"
   },
   {
    "duration": 38,
    "start_time": "2022-04-13T10:57:24.708Z"
   },
   {
    "duration": 12,
    "start_time": "2022-04-13T10:57:24.749Z"
   },
   {
    "duration": 53,
    "start_time": "2022-04-13T10:57:24.782Z"
   },
   {
    "duration": 12,
    "start_time": "2022-04-13T10:57:24.839Z"
   },
   {
    "duration": 39,
    "start_time": "2022-04-13T10:57:24.885Z"
   },
   {
    "duration": 16,
    "start_time": "2022-04-13T10:57:24.927Z"
   },
   {
    "duration": 53,
    "start_time": "2022-04-13T10:57:24.946Z"
   },
   {
    "duration": 18,
    "start_time": "2022-04-13T10:57:25.004Z"
   },
   {
    "duration": 16,
    "start_time": "2022-04-13T10:57:25.024Z"
   },
   {
    "duration": 70,
    "start_time": "2022-04-13T10:57:25.043Z"
   },
   {
    "duration": 87,
    "start_time": "2022-04-13T10:57:25.115Z"
   },
   {
    "duration": 33,
    "start_time": "2022-04-13T10:57:25.205Z"
   },
   {
    "duration": 103,
    "start_time": "2022-04-13T10:57:25.241Z"
   },
   {
    "duration": 19,
    "start_time": "2022-04-13T10:57:25.346Z"
   },
   {
    "duration": 14,
    "start_time": "2022-04-13T10:57:25.390Z"
   },
   {
    "duration": 217,
    "start_time": "2022-04-13T10:57:25.406Z"
   },
   {
    "duration": 24,
    "start_time": "2022-04-13T10:57:25.626Z"
   },
   {
    "duration": 58,
    "start_time": "2022-04-13T10:57:25.653Z"
   },
   {
    "duration": 17,
    "start_time": "2022-04-13T10:57:25.713Z"
   },
   {
    "duration": 58,
    "start_time": "2022-04-13T10:57:25.732Z"
   },
   {
    "duration": 67,
    "start_time": "2022-04-13T10:57:25.793Z"
   },
   {
    "duration": 15,
    "start_time": "2022-04-13T10:57:25.866Z"
   },
   {
    "duration": 18,
    "start_time": "2022-04-13T10:57:25.884Z"
   },
   {
    "duration": 136,
    "start_time": "2022-04-13T10:57:25.906Z"
   },
   {
    "duration": 39,
    "start_time": "2022-04-13T10:57:26.045Z"
   },
   {
    "duration": 46,
    "start_time": "2022-04-13T10:57:26.086Z"
   },
   {
    "duration": 12,
    "start_time": "2022-04-13T10:57:26.135Z"
   },
   {
    "duration": 56,
    "start_time": "2022-04-13T10:57:26.149Z"
   },
   {
    "duration": 54,
    "start_time": "2022-04-13T10:57:26.207Z"
   },
   {
    "duration": 100,
    "start_time": "2022-04-13T10:57:26.264Z"
   },
   {
    "duration": 20,
    "start_time": "2022-04-13T10:57:26.367Z"
   },
   {
    "duration": 8,
    "start_time": "2022-04-13T10:57:26.389Z"
   },
   {
    "duration": 26,
    "start_time": "2022-04-13T10:57:26.399Z"
   },
   {
    "duration": 10,
    "start_time": "2022-04-13T10:57:26.428Z"
   },
   {
    "duration": 9,
    "start_time": "2022-04-13T10:57:26.441Z"
   },
   {
    "duration": 22,
    "start_time": "2022-04-13T10:57:26.486Z"
   },
   {
    "duration": 8,
    "start_time": "2022-04-13T10:57:26.511Z"
   },
   {
    "duration": 15,
    "start_time": "2022-04-13T10:57:26.521Z"
   },
   {
    "duration": 12,
    "start_time": "2022-04-13T10:57:26.539Z"
   },
   {
    "duration": 46,
    "start_time": "2022-04-13T10:57:26.555Z"
   },
   {
    "duration": 10,
    "start_time": "2022-04-13T10:57:26.605Z"
   },
   {
    "duration": 23,
    "start_time": "2022-04-13T10:57:26.618Z"
   },
   {
    "duration": 10,
    "start_time": "2022-04-13T10:57:26.643Z"
   },
   {
    "duration": 35,
    "start_time": "2022-04-13T10:57:26.655Z"
   },
   {
    "duration": 9,
    "start_time": "2022-04-13T10:57:26.693Z"
   },
   {
    "duration": 16,
    "start_time": "2022-04-13T10:57:26.705Z"
   },
   {
    "duration": 127,
    "start_time": "2022-04-13T10:57:26.724Z"
   },
   {
    "duration": 4,
    "start_time": "2022-04-13T10:57:26.854Z"
   },
   {
    "duration": 61,
    "start_time": "2022-04-13T10:57:26.861Z"
   },
   {
    "duration": 4,
    "start_time": "2022-04-13T10:57:26.924Z"
   },
   {
    "duration": 57,
    "start_time": "2022-04-13T10:57:26.931Z"
   },
   {
    "duration": 4,
    "start_time": "2022-04-13T10:57:26.991Z"
   },
   {
    "duration": 36,
    "start_time": "2022-04-13T10:57:26.997Z"
   },
   {
    "duration": 15,
    "start_time": "2022-04-13T10:57:27.036Z"
   },
   {
    "duration": 36,
    "start_time": "2022-04-13T10:57:27.053Z"
   },
   {
    "duration": 7,
    "start_time": "2022-04-13T10:57:27.091Z"
   },
   {
    "duration": 30,
    "start_time": "2022-04-13T10:57:27.100Z"
   },
   {
    "duration": 12,
    "start_time": "2022-04-13T10:57:27.133Z"
   },
   {
    "duration": 52,
    "start_time": "2022-04-13T10:57:27.148Z"
   },
   {
    "duration": 4,
    "start_time": "2022-04-13T10:57:27.208Z"
   },
   {
    "duration": 24,
    "start_time": "2022-04-13T10:58:13.485Z"
   },
   {
    "duration": 28,
    "start_time": "2022-04-13T10:58:55.137Z"
   },
   {
    "duration": 20,
    "start_time": "2022-04-13T11:01:15.265Z"
   },
   {
    "duration": 5,
    "start_time": "2022-04-13T11:03:10.002Z"
   },
   {
    "duration": 26,
    "start_time": "2022-04-13T11:03:10.992Z"
   },
   {
    "duration": 17,
    "start_time": "2022-04-13T11:03:14.366Z"
   },
   {
    "duration": 20,
    "start_time": "2022-04-13T11:03:28.052Z"
   },
   {
    "duration": 4,
    "start_time": "2022-04-13T11:03:33.150Z"
   },
   {
    "duration": 260,
    "start_time": "2022-04-13T11:03:33.161Z"
   },
   {
    "duration": 185,
    "start_time": "2022-04-13T11:03:33.424Z"
   },
   {
    "duration": 110,
    "start_time": "2022-04-13T11:03:33.611Z"
   },
   {
    "duration": 12,
    "start_time": "2022-04-13T11:03:33.725Z"
   },
   {
    "duration": 18,
    "start_time": "2022-04-13T11:03:33.740Z"
   },
   {
    "duration": 20,
    "start_time": "2022-04-13T11:03:33.761Z"
   },
   {
    "duration": 49,
    "start_time": "2022-04-13T11:03:33.784Z"
   },
   {
    "duration": 13,
    "start_time": "2022-04-13T11:03:33.836Z"
   },
   {
    "duration": 43,
    "start_time": "2022-04-13T11:03:33.889Z"
   },
   {
    "duration": 10,
    "start_time": "2022-04-13T11:03:33.936Z"
   },
   {
    "duration": 51,
    "start_time": "2022-04-13T11:03:33.949Z"
   },
   {
    "duration": 14,
    "start_time": "2022-04-13T11:03:34.002Z"
   },
   {
    "duration": 17,
    "start_time": "2022-04-13T11:03:34.018Z"
   },
   {
    "duration": 19,
    "start_time": "2022-04-13T11:03:34.037Z"
   },
   {
    "duration": 37,
    "start_time": "2022-04-13T11:03:34.058Z"
   },
   {
    "duration": 48,
    "start_time": "2022-04-13T11:03:34.098Z"
   },
   {
    "duration": 137,
    "start_time": "2022-04-13T11:03:34.149Z"
   },
   {
    "duration": 46,
    "start_time": "2022-04-13T11:03:34.294Z"
   },
   {
    "duration": 73,
    "start_time": "2022-04-13T11:03:34.342Z"
   },
   {
    "duration": 13,
    "start_time": "2022-04-13T11:03:34.417Z"
   },
   {
    "duration": 8,
    "start_time": "2022-04-13T11:03:34.432Z"
   },
   {
    "duration": 184,
    "start_time": "2022-04-13T11:03:34.443Z"
   },
   {
    "duration": 22,
    "start_time": "2022-04-13T11:03:34.629Z"
   },
   {
    "duration": 59,
    "start_time": "2022-04-13T11:03:34.653Z"
   },
   {
    "duration": 14,
    "start_time": "2022-04-13T11:03:34.715Z"
   },
   {
    "duration": 57,
    "start_time": "2022-04-13T11:03:34.732Z"
   },
   {
    "duration": 73,
    "start_time": "2022-04-13T11:03:34.792Z"
   },
   {
    "duration": 13,
    "start_time": "2022-04-13T11:03:34.886Z"
   },
   {
    "duration": 12,
    "start_time": "2022-04-13T11:03:34.901Z"
   },
   {
    "duration": 130,
    "start_time": "2022-04-13T11:03:34.916Z"
   },
   {
    "duration": 38,
    "start_time": "2022-04-13T11:03:35.049Z"
   },
   {
    "duration": 55,
    "start_time": "2022-04-13T11:03:35.090Z"
   },
   {
    "duration": 34,
    "start_time": "2022-04-13T11:03:35.147Z"
   },
   {
    "duration": 27,
    "start_time": "2022-04-13T11:03:35.184Z"
   },
   {
    "duration": 47,
    "start_time": "2022-04-13T11:03:35.214Z"
   },
   {
    "duration": 92,
    "start_time": "2022-04-13T11:03:35.264Z"
   },
   {
    "duration": 29,
    "start_time": "2022-04-13T11:03:35.359Z"
   },
   {
    "duration": 14,
    "start_time": "2022-04-13T11:03:35.392Z"
   },
   {
    "duration": 18,
    "start_time": "2022-04-13T11:03:35.409Z"
   },
   {
    "duration": 15,
    "start_time": "2022-04-13T11:03:35.430Z"
   },
   {
    "duration": 19,
    "start_time": "2022-04-13T11:03:35.449Z"
   },
   {
    "duration": 21,
    "start_time": "2022-04-13T11:03:35.486Z"
   },
   {
    "duration": 8,
    "start_time": "2022-04-13T11:03:35.510Z"
   },
   {
    "duration": 15,
    "start_time": "2022-04-13T11:03:35.520Z"
   },
   {
    "duration": 11,
    "start_time": "2022-04-13T11:03:35.537Z"
   },
   {
    "duration": 33,
    "start_time": "2022-04-13T11:03:35.550Z"
   },
   {
    "duration": 10,
    "start_time": "2022-04-13T11:03:35.585Z"
   },
   {
    "duration": 27,
    "start_time": "2022-04-13T11:03:35.598Z"
   },
   {
    "duration": 9,
    "start_time": "2022-04-13T11:03:35.627Z"
   },
   {
    "duration": 44,
    "start_time": "2022-04-13T11:03:35.638Z"
   },
   {
    "duration": 7,
    "start_time": "2022-04-13T11:03:35.685Z"
   },
   {
    "duration": 15,
    "start_time": "2022-04-13T11:03:35.702Z"
   },
   {
    "duration": 99,
    "start_time": "2022-04-13T11:03:35.720Z"
   },
   {
    "duration": 5,
    "start_time": "2022-04-13T11:03:35.822Z"
   },
   {
    "duration": 78,
    "start_time": "2022-04-13T11:03:35.831Z"
   },
   {
    "duration": 5,
    "start_time": "2022-04-13T11:03:35.912Z"
   },
   {
    "duration": 66,
    "start_time": "2022-04-13T11:03:35.920Z"
   },
   {
    "duration": 5,
    "start_time": "2022-04-13T11:03:35.989Z"
   },
   {
    "duration": 33,
    "start_time": "2022-04-13T11:03:35.997Z"
   },
   {
    "duration": 19,
    "start_time": "2022-04-13T11:03:36.033Z"
   },
   {
    "duration": 32,
    "start_time": "2022-04-13T11:03:36.054Z"
   },
   {
    "duration": 7,
    "start_time": "2022-04-13T11:03:36.088Z"
   },
   {
    "duration": 32,
    "start_time": "2022-04-13T11:03:36.098Z"
   },
   {
    "duration": 12,
    "start_time": "2022-04-13T11:03:36.132Z"
   },
   {
    "duration": 43,
    "start_time": "2022-04-13T11:03:36.146Z"
   },
   {
    "duration": 4,
    "start_time": "2022-04-13T11:03:36.192Z"
   },
   {
    "duration": 4,
    "start_time": "2022-04-13T11:04:57.377Z"
   },
   {
    "duration": 4,
    "start_time": "2022-04-13T11:05:07.936Z"
   },
   {
    "duration": 326,
    "start_time": "2022-04-13T11:05:07.943Z"
   },
   {
    "duration": 183,
    "start_time": "2022-04-13T11:05:08.273Z"
   },
   {
    "duration": 168,
    "start_time": "2022-04-13T11:05:08.459Z"
   },
   {
    "duration": 15,
    "start_time": "2022-04-13T11:05:08.631Z"
   },
   {
    "duration": 20,
    "start_time": "2022-04-13T11:05:08.648Z"
   },
   {
    "duration": 24,
    "start_time": "2022-04-13T11:05:08.671Z"
   },
   {
    "duration": 76,
    "start_time": "2022-04-13T11:05:08.698Z"
   },
   {
    "duration": 19,
    "start_time": "2022-04-13T11:05:08.777Z"
   },
   {
    "duration": 57,
    "start_time": "2022-04-13T11:05:08.799Z"
   },
   {
    "duration": 31,
    "start_time": "2022-04-13T11:05:08.860Z"
   },
   {
    "duration": 36,
    "start_time": "2022-04-13T11:05:08.895Z"
   },
   {
    "duration": 12,
    "start_time": "2022-04-13T11:05:08.934Z"
   },
   {
    "duration": 52,
    "start_time": "2022-04-13T11:05:08.949Z"
   },
   {
    "duration": 22,
    "start_time": "2022-04-13T11:05:09.004Z"
   },
   {
    "duration": 15,
    "start_time": "2022-04-13T11:05:09.028Z"
   },
   {
    "duration": 78,
    "start_time": "2022-04-13T11:05:09.045Z"
   },
   {
    "duration": 84,
    "start_time": "2022-04-13T11:05:09.125Z"
   },
   {
    "duration": 27,
    "start_time": "2022-04-13T11:05:09.212Z"
   },
   {
    "duration": 132,
    "start_time": "2022-04-13T11:05:09.243Z"
   },
   {
    "duration": 22,
    "start_time": "2022-04-13T11:05:09.378Z"
   },
   {
    "duration": 8,
    "start_time": "2022-04-13T11:05:09.404Z"
   },
   {
    "duration": 195,
    "start_time": "2022-04-13T11:05:09.414Z"
   },
   {
    "duration": 25,
    "start_time": "2022-04-13T11:05:09.611Z"
   },
   {
    "duration": 73,
    "start_time": "2022-04-13T11:05:09.640Z"
   },
   {
    "duration": 14,
    "start_time": "2022-04-13T11:05:09.715Z"
   },
   {
    "duration": 23,
    "start_time": "2022-04-13T11:05:09.731Z"
   },
   {
    "duration": 79,
    "start_time": "2022-04-13T11:05:09.757Z"
   },
   {
    "duration": 8,
    "start_time": "2022-04-13T11:05:09.842Z"
   },
   {
    "duration": 35,
    "start_time": "2022-04-13T11:05:09.852Z"
   },
   {
    "duration": 78,
    "start_time": "2022-04-13T11:05:09.890Z"
   },
   {
    "duration": 28,
    "start_time": "2022-04-13T11:05:09.982Z"
   },
   {
    "duration": 83,
    "start_time": "2022-04-13T11:05:10.012Z"
   },
   {
    "duration": 9,
    "start_time": "2022-04-13T11:05:10.098Z"
   },
   {
    "duration": 20,
    "start_time": "2022-04-13T11:05:10.110Z"
   },
   {
    "duration": 64,
    "start_time": "2022-04-13T11:05:10.132Z"
   },
   {
    "duration": 85,
    "start_time": "2022-04-13T11:05:10.198Z"
   },
   {
    "duration": 10,
    "start_time": "2022-04-13T11:05:10.286Z"
   },
   {
    "duration": 17,
    "start_time": "2022-04-13T11:05:10.298Z"
   },
   {
    "duration": 9,
    "start_time": "2022-04-13T11:05:10.316Z"
   },
   {
    "duration": 12,
    "start_time": "2022-04-13T11:05:10.328Z"
   },
   {
    "duration": 42,
    "start_time": "2022-04-13T11:05:10.342Z"
   },
   {
    "duration": 18,
    "start_time": "2022-04-13T11:05:10.386Z"
   },
   {
    "duration": 6,
    "start_time": "2022-04-13T11:05:10.407Z"
   },
   {
    "duration": 11,
    "start_time": "2022-04-13T11:05:10.416Z"
   },
   {
    "duration": 15,
    "start_time": "2022-04-13T11:05:10.429Z"
   },
   {
    "duration": 51,
    "start_time": "2022-04-13T11:05:10.447Z"
   },
   {
    "duration": 13,
    "start_time": "2022-04-13T11:05:10.501Z"
   },
   {
    "duration": 24,
    "start_time": "2022-04-13T11:05:10.517Z"
   },
   {
    "duration": 9,
    "start_time": "2022-04-13T11:05:10.543Z"
   },
   {
    "duration": 7,
    "start_time": "2022-04-13T11:05:10.582Z"
   },
   {
    "duration": 18,
    "start_time": "2022-04-13T11:05:10.591Z"
   },
   {
    "duration": 11,
    "start_time": "2022-04-13T11:05:10.612Z"
   },
   {
    "duration": 107,
    "start_time": "2022-04-13T11:05:10.625Z"
   },
   {
    "duration": 4,
    "start_time": "2022-04-13T11:05:10.734Z"
   },
   {
    "duration": 63,
    "start_time": "2022-04-13T11:05:10.741Z"
   },
   {
    "duration": 4,
    "start_time": "2022-04-13T11:05:10.807Z"
   },
   {
    "duration": 43,
    "start_time": "2022-04-13T11:05:10.813Z"
   },
   {
    "duration": 31,
    "start_time": "2022-04-13T11:05:10.859Z"
   },
   {
    "duration": 20,
    "start_time": "2022-04-13T11:05:10.892Z"
   },
   {
    "duration": 12,
    "start_time": "2022-04-13T11:05:10.914Z"
   },
   {
    "duration": 13,
    "start_time": "2022-04-13T11:05:10.929Z"
   },
   {
    "duration": 5,
    "start_time": "2022-04-13T11:05:10.944Z"
   },
   {
    "duration": 4,
    "start_time": "2022-04-13T11:05:10.983Z"
   },
   {
    "duration": 22,
    "start_time": "2022-04-13T11:05:10.989Z"
   },
   {
    "duration": 17,
    "start_time": "2022-04-13T11:05:13.917Z"
   },
   {
    "duration": 23,
    "start_time": "2022-04-13T11:06:00.830Z"
   },
   {
    "duration": 4,
    "start_time": "2022-04-13T11:06:40.641Z"
   },
   {
    "duration": 311,
    "start_time": "2022-04-13T11:06:40.648Z"
   },
   {
    "duration": 184,
    "start_time": "2022-04-13T11:06:40.962Z"
   },
   {
    "duration": 117,
    "start_time": "2022-04-13T11:06:41.148Z"
   },
   {
    "duration": 13,
    "start_time": "2022-04-13T11:06:41.269Z"
   },
   {
    "duration": 35,
    "start_time": "2022-04-13T11:06:41.285Z"
   },
   {
    "duration": 12,
    "start_time": "2022-04-13T11:06:41.323Z"
   },
   {
    "duration": 33,
    "start_time": "2022-04-13T11:06:41.337Z"
   },
   {
    "duration": 27,
    "start_time": "2022-04-13T11:06:41.381Z"
   },
   {
    "duration": 33,
    "start_time": "2022-04-13T11:06:41.411Z"
   },
   {
    "duration": 10,
    "start_time": "2022-04-13T11:06:41.448Z"
   },
   {
    "duration": 59,
    "start_time": "2022-04-13T11:06:41.461Z"
   },
   {
    "duration": 15,
    "start_time": "2022-04-13T11:06:41.523Z"
   },
   {
    "duration": 47,
    "start_time": "2022-04-13T11:06:41.540Z"
   },
   {
    "duration": 29,
    "start_time": "2022-04-13T11:06:41.589Z"
   },
   {
    "duration": 27,
    "start_time": "2022-04-13T11:06:41.621Z"
   },
   {
    "duration": 54,
    "start_time": "2022-04-13T11:06:41.651Z"
   },
   {
    "duration": 90,
    "start_time": "2022-04-13T11:06:41.707Z"
   },
   {
    "duration": 31,
    "start_time": "2022-04-13T11:06:41.800Z"
   },
   {
    "duration": 136,
    "start_time": "2022-04-13T11:06:41.835Z"
   },
   {
    "duration": 18,
    "start_time": "2022-04-13T11:06:41.974Z"
   },
   {
    "duration": 11,
    "start_time": "2022-04-13T11:06:42.000Z"
   },
   {
    "duration": 156,
    "start_time": "2022-04-13T11:06:42.014Z"
   },
   {
    "duration": 40,
    "start_time": "2022-04-13T11:06:42.172Z"
   },
   {
    "duration": 34,
    "start_time": "2022-04-13T11:06:42.214Z"
   },
   {
    "duration": 44,
    "start_time": "2022-04-13T11:06:42.251Z"
   },
   {
    "duration": 29,
    "start_time": "2022-04-13T11:06:42.297Z"
   },
   {
    "duration": 82,
    "start_time": "2022-04-13T11:06:42.328Z"
   },
   {
    "duration": 9,
    "start_time": "2022-04-13T11:06:42.417Z"
   },
   {
    "duration": 12,
    "start_time": "2022-04-13T11:06:42.428Z"
   },
   {
    "duration": 120,
    "start_time": "2022-04-13T11:06:42.443Z"
   },
   {
    "duration": 22,
    "start_time": "2022-04-13T11:06:42.565Z"
   },
   {
    "duration": 46,
    "start_time": "2022-04-13T11:06:42.590Z"
   },
   {
    "duration": 7,
    "start_time": "2022-04-13T11:06:42.638Z"
   },
   {
    "duration": 62,
    "start_time": "2022-04-13T11:06:42.647Z"
   },
   {
    "duration": 42,
    "start_time": "2022-04-13T11:06:42.711Z"
   },
   {
    "duration": 92,
    "start_time": "2022-04-13T11:06:42.755Z"
   },
   {
    "duration": 8,
    "start_time": "2022-04-13T11:06:42.850Z"
   },
   {
    "duration": 24,
    "start_time": "2022-04-13T11:06:42.890Z"
   },
   {
    "duration": 10,
    "start_time": "2022-04-13T11:06:42.916Z"
   },
   {
    "duration": 11,
    "start_time": "2022-04-13T11:06:42.928Z"
   },
   {
    "duration": 6,
    "start_time": "2022-04-13T11:06:42.942Z"
   },
   {
    "duration": 51,
    "start_time": "2022-04-13T11:06:42.951Z"
   },
   {
    "duration": 8,
    "start_time": "2022-04-13T11:06:43.008Z"
   },
   {
    "duration": 11,
    "start_time": "2022-04-13T11:06:43.018Z"
   },
   {
    "duration": 13,
    "start_time": "2022-04-13T11:06:43.032Z"
   },
   {
    "duration": 38,
    "start_time": "2022-04-13T11:06:43.047Z"
   },
   {
    "duration": 15,
    "start_time": "2022-04-13T11:06:43.088Z"
   },
   {
    "duration": 25,
    "start_time": "2022-04-13T11:06:43.106Z"
   },
   {
    "duration": 8,
    "start_time": "2022-04-13T11:06:43.134Z"
   },
   {
    "duration": 45,
    "start_time": "2022-04-13T11:06:43.145Z"
   },
   {
    "duration": 13,
    "start_time": "2022-04-13T11:06:43.197Z"
   },
   {
    "duration": 15,
    "start_time": "2022-04-13T11:06:43.213Z"
   },
   {
    "duration": 104,
    "start_time": "2022-04-13T11:06:43.230Z"
   },
   {
    "duration": 4,
    "start_time": "2022-04-13T11:06:43.336Z"
   },
   {
    "duration": 65,
    "start_time": "2022-04-13T11:06:43.343Z"
   },
   {
    "duration": 4,
    "start_time": "2022-04-13T11:06:43.411Z"
   },
   {
    "duration": 43,
    "start_time": "2022-04-13T11:06:43.417Z"
   },
   {
    "duration": 4,
    "start_time": "2022-04-13T11:06:43.486Z"
   },
   {
    "duration": 24,
    "start_time": "2022-04-13T11:06:43.493Z"
   },
   {
    "duration": 15,
    "start_time": "2022-04-13T11:06:43.520Z"
   },
   {
    "duration": 52,
    "start_time": "2022-04-13T11:06:43.538Z"
   },
   {
    "duration": 6,
    "start_time": "2022-04-13T11:06:43.592Z"
   },
   {
    "duration": 8,
    "start_time": "2022-04-13T11:06:43.601Z"
   },
   {
    "duration": 14,
    "start_time": "2022-04-13T11:06:43.611Z"
   },
   {
    "duration": 30,
    "start_time": "2022-04-13T11:06:43.628Z"
   },
   {
    "duration": 7,
    "start_time": "2022-04-13T11:06:43.687Z"
   },
   {
    "duration": 22,
    "start_time": "2022-04-13T11:07:43.591Z"
   },
   {
    "duration": 5,
    "start_time": "2022-04-13T11:07:52.255Z"
   },
   {
    "duration": 254,
    "start_time": "2022-04-13T11:07:52.263Z"
   },
   {
    "duration": 163,
    "start_time": "2022-04-13T11:07:52.519Z"
   },
   {
    "duration": 154,
    "start_time": "2022-04-13T11:07:52.688Z"
   },
   {
    "duration": 15,
    "start_time": "2022-04-13T11:07:52.846Z"
   },
   {
    "duration": 24,
    "start_time": "2022-04-13T11:07:52.863Z"
   },
   {
    "duration": 16,
    "start_time": "2022-04-13T11:07:52.891Z"
   },
   {
    "duration": 76,
    "start_time": "2022-04-13T11:07:52.910Z"
   },
   {
    "duration": 22,
    "start_time": "2022-04-13T11:07:52.990Z"
   },
   {
    "duration": 31,
    "start_time": "2022-04-13T11:07:53.015Z"
   },
   {
    "duration": 41,
    "start_time": "2022-04-13T11:07:53.051Z"
   },
   {
    "duration": 43,
    "start_time": "2022-04-13T11:07:53.095Z"
   },
   {
    "duration": 16,
    "start_time": "2022-04-13T11:07:53.141Z"
   },
   {
    "duration": 25,
    "start_time": "2022-04-13T11:07:53.182Z"
   },
   {
    "duration": 23,
    "start_time": "2022-04-13T11:07:53.209Z"
   },
   {
    "duration": 53,
    "start_time": "2022-04-13T11:07:53.235Z"
   },
   {
    "duration": 32,
    "start_time": "2022-04-13T11:07:53.291Z"
   },
   {
    "duration": 109,
    "start_time": "2022-04-13T11:07:53.325Z"
   },
   {
    "duration": 28,
    "start_time": "2022-04-13T11:07:53.436Z"
   },
   {
    "duration": 74,
    "start_time": "2022-04-13T11:07:53.483Z"
   },
   {
    "duration": 31,
    "start_time": "2022-04-13T11:07:53.559Z"
   },
   {
    "duration": 12,
    "start_time": "2022-04-13T11:07:53.593Z"
   },
   {
    "duration": 181,
    "start_time": "2022-04-13T11:07:53.608Z"
   },
   {
    "duration": 27,
    "start_time": "2022-04-13T11:07:53.792Z"
   },
   {
    "duration": 60,
    "start_time": "2022-04-13T11:07:53.821Z"
   },
   {
    "duration": 17,
    "start_time": "2022-04-13T11:07:53.884Z"
   },
   {
    "duration": 26,
    "start_time": "2022-04-13T11:07:53.904Z"
   },
   {
    "duration": 87,
    "start_time": "2022-04-13T11:07:53.933Z"
   },
   {
    "duration": 8,
    "start_time": "2022-04-13T11:07:54.026Z"
   },
   {
    "duration": 11,
    "start_time": "2022-04-13T11:07:54.037Z"
   },
   {
    "duration": 117,
    "start_time": "2022-04-13T11:07:54.050Z"
   },
   {
    "duration": 38,
    "start_time": "2022-04-13T11:07:54.169Z"
   },
   {
    "duration": 39,
    "start_time": "2022-04-13T11:07:54.210Z"
   },
   {
    "duration": 32,
    "start_time": "2022-04-13T11:07:54.251Z"
   },
   {
    "duration": 27,
    "start_time": "2022-04-13T11:07:54.290Z"
   },
   {
    "duration": 70,
    "start_time": "2022-04-13T11:07:54.319Z"
   },
   {
    "duration": 73,
    "start_time": "2022-04-13T11:07:54.392Z"
   },
   {
    "duration": 21,
    "start_time": "2022-04-13T11:07:54.467Z"
   },
   {
    "duration": 11,
    "start_time": "2022-04-13T11:07:54.490Z"
   },
   {
    "duration": 12,
    "start_time": "2022-04-13T11:07:54.504Z"
   },
   {
    "duration": 10,
    "start_time": "2022-04-13T11:07:54.519Z"
   },
   {
    "duration": 11,
    "start_time": "2022-04-13T11:07:54.531Z"
   },
   {
    "duration": 9,
    "start_time": "2022-04-13T11:07:54.589Z"
   },
   {
    "duration": 21,
    "start_time": "2022-04-13T11:07:54.601Z"
   },
   {
    "duration": 11,
    "start_time": "2022-04-13T11:07:54.626Z"
   },
   {
    "duration": 13,
    "start_time": "2022-04-13T11:07:54.640Z"
   },
   {
    "duration": 48,
    "start_time": "2022-04-13T11:07:54.656Z"
   },
   {
    "duration": 15,
    "start_time": "2022-04-13T11:07:54.708Z"
   },
   {
    "duration": 25,
    "start_time": "2022-04-13T11:07:54.726Z"
   },
   {
    "duration": 35,
    "start_time": "2022-04-13T11:07:54.754Z"
   },
   {
    "duration": 13,
    "start_time": "2022-04-13T11:07:54.793Z"
   },
   {
    "duration": 9,
    "start_time": "2022-04-13T11:07:54.809Z"
   },
   {
    "duration": 9,
    "start_time": "2022-04-13T11:07:54.821Z"
   },
   {
    "duration": 121,
    "start_time": "2022-04-13T11:07:54.833Z"
   },
   {
    "duration": 3,
    "start_time": "2022-04-13T11:07:54.957Z"
   },
   {
    "duration": 70,
    "start_time": "2022-04-13T11:07:54.963Z"
   },
   {
    "duration": 4,
    "start_time": "2022-04-13T11:07:55.036Z"
   },
   {
    "duration": 74,
    "start_time": "2022-04-13T11:07:55.042Z"
   },
   {
    "duration": 5,
    "start_time": "2022-04-13T11:07:55.119Z"
   },
   {
    "duration": 29,
    "start_time": "2022-04-13T11:07:55.127Z"
   },
   {
    "duration": 32,
    "start_time": "2022-04-13T11:07:55.159Z"
   },
   {
    "duration": 16,
    "start_time": "2022-04-13T11:07:55.194Z"
   },
   {
    "duration": 9,
    "start_time": "2022-04-13T11:07:55.213Z"
   },
   {
    "duration": 8,
    "start_time": "2022-04-13T11:07:55.225Z"
   },
   {
    "duration": 64,
    "start_time": "2022-04-13T11:07:55.236Z"
   },
   {
    "duration": 17,
    "start_time": "2022-04-13T11:09:42.621Z"
   },
   {
    "duration": 35,
    "start_time": "2022-04-13T11:09:46.600Z"
   },
   {
    "duration": 134,
    "start_time": "2022-04-13T11:11:20.963Z"
   },
   {
    "duration": 19,
    "start_time": "2022-04-13T11:11:29.058Z"
   },
   {
    "duration": 5,
    "start_time": "2022-04-13T11:11:44.568Z"
   },
   {
    "duration": 258,
    "start_time": "2022-04-13T11:11:44.577Z"
   },
   {
    "duration": 265,
    "start_time": "2022-04-13T11:11:44.838Z"
   },
   {
    "duration": 170,
    "start_time": "2022-04-13T11:11:45.107Z"
   },
   {
    "duration": 14,
    "start_time": "2022-04-13T11:11:45.282Z"
   },
   {
    "duration": 22,
    "start_time": "2022-04-13T11:11:45.302Z"
   },
   {
    "duration": 16,
    "start_time": "2022-04-13T11:11:45.326Z"
   },
   {
    "duration": 72,
    "start_time": "2022-04-13T11:11:45.345Z"
   },
   {
    "duration": 17,
    "start_time": "2022-04-13T11:11:45.422Z"
   },
   {
    "duration": 29,
    "start_time": "2022-04-13T11:11:45.441Z"
   },
   {
    "duration": 15,
    "start_time": "2022-04-13T11:11:45.487Z"
   },
   {
    "duration": 56,
    "start_time": "2022-04-13T11:11:45.505Z"
   },
   {
    "duration": 27,
    "start_time": "2022-04-13T11:11:45.564Z"
   },
   {
    "duration": 27,
    "start_time": "2022-04-13T11:11:45.601Z"
   },
   {
    "duration": 26,
    "start_time": "2022-04-13T11:11:45.631Z"
   },
   {
    "duration": 42,
    "start_time": "2022-04-13T11:11:45.660Z"
   },
   {
    "duration": 51,
    "start_time": "2022-04-13T11:11:45.707Z"
   },
   {
    "duration": 146,
    "start_time": "2022-04-13T11:11:45.761Z"
   },
   {
    "duration": 31,
    "start_time": "2022-04-13T11:11:45.911Z"
   },
   {
    "duration": 105,
    "start_time": "2022-04-13T11:11:45.944Z"
   },
   {
    "duration": 17,
    "start_time": "2022-04-13T11:11:46.051Z"
   },
   {
    "duration": 11,
    "start_time": "2022-04-13T11:11:46.082Z"
   },
   {
    "duration": 187,
    "start_time": "2022-04-13T11:11:46.096Z"
   },
   {
    "duration": 24,
    "start_time": "2022-04-13T11:11:46.291Z"
   },
   {
    "duration": 35,
    "start_time": "2022-04-13T11:11:46.318Z"
   },
   {
    "duration": 16,
    "start_time": "2022-04-13T11:11:46.382Z"
   },
   {
    "duration": 29,
    "start_time": "2022-04-13T11:11:46.401Z"
   },
   {
    "duration": 78,
    "start_time": "2022-04-13T11:11:46.433Z"
   },
   {
    "duration": 9,
    "start_time": "2022-04-13T11:11:46.514Z"
   },
   {
    "duration": 14,
    "start_time": "2022-04-13T11:11:46.526Z"
   },
   {
    "duration": 110,
    "start_time": "2022-04-13T11:11:46.542Z"
   },
   {
    "duration": 39,
    "start_time": "2022-04-13T11:11:46.655Z"
   },
   {
    "duration": 42,
    "start_time": "2022-04-13T11:11:46.697Z"
   },
   {
    "duration": 7,
    "start_time": "2022-04-13T11:11:46.742Z"
   },
   {
    "duration": 57,
    "start_time": "2022-04-13T11:11:46.751Z"
   },
   {
    "duration": 43,
    "start_time": "2022-04-13T11:11:46.811Z"
   },
   {
    "duration": 126,
    "start_time": "2022-04-13T11:11:46.857Z"
   },
   {
    "duration": 13,
    "start_time": "2022-04-13T11:11:46.987Z"
   },
   {
    "duration": 13,
    "start_time": "2022-04-13T11:11:47.003Z"
   },
   {
    "duration": 13,
    "start_time": "2022-04-13T11:11:47.018Z"
   },
   {
    "duration": 10,
    "start_time": "2022-04-13T11:11:47.034Z"
   },
   {
    "duration": 49,
    "start_time": "2022-04-13T11:11:47.046Z"
   },
   {
    "duration": 9,
    "start_time": "2022-04-13T11:11:47.098Z"
   },
   {
    "duration": 7,
    "start_time": "2022-04-13T11:11:47.110Z"
   },
   {
    "duration": 10,
    "start_time": "2022-04-13T11:11:47.119Z"
   },
   {
    "duration": 10,
    "start_time": "2022-04-13T11:11:47.131Z"
   },
   {
    "duration": 11,
    "start_time": "2022-04-13T11:11:47.190Z"
   },
   {
    "duration": 13,
    "start_time": "2022-04-13T11:11:47.204Z"
   },
   {
    "duration": 21,
    "start_time": "2022-04-13T11:11:47.220Z"
   },
   {
    "duration": 48,
    "start_time": "2022-04-13T11:11:47.244Z"
   },
   {
    "duration": 20,
    "start_time": "2022-04-13T11:11:47.295Z"
   },
   {
    "duration": 19,
    "start_time": "2022-04-13T11:11:47.318Z"
   },
   {
    "duration": 13,
    "start_time": "2022-04-13T11:11:47.340Z"
   },
   {
    "duration": 110,
    "start_time": "2022-04-13T11:11:47.355Z"
   },
   {
    "duration": 4,
    "start_time": "2022-04-13T11:11:47.467Z"
   },
   {
    "duration": 68,
    "start_time": "2022-04-13T11:11:47.483Z"
   },
   {
    "duration": 5,
    "start_time": "2022-04-13T11:11:47.554Z"
   },
   {
    "duration": 60,
    "start_time": "2022-04-13T11:11:47.584Z"
   },
   {
    "duration": 5,
    "start_time": "2022-04-13T11:11:47.647Z"
   },
   {
    "duration": 51,
    "start_time": "2022-04-13T11:11:47.655Z"
   },
   {
    "duration": 22,
    "start_time": "2022-04-13T11:11:47.709Z"
   },
   {
    "duration": 48,
    "start_time": "2022-04-13T11:11:47.734Z"
   },
   {
    "duration": 7,
    "start_time": "2022-04-13T11:12:02.668Z"
   },
   {
    "duration": 9,
    "start_time": "2022-04-13T11:12:09.232Z"
   },
   {
    "duration": 26,
    "start_time": "2022-04-13T11:12:10.994Z"
   },
   {
    "duration": 17,
    "start_time": "2022-04-13T11:12:55.037Z"
   },
   {
    "duration": 22,
    "start_time": "2022-04-13T11:12:58.240Z"
   },
   {
    "duration": 6,
    "start_time": "2022-04-13T11:13:05.123Z"
   },
   {
    "duration": 24,
    "start_time": "2022-04-13T11:26:24.598Z"
   },
   {
    "duration": 14,
    "start_time": "2022-04-13T11:27:51.853Z"
   },
   {
    "duration": 27,
    "start_time": "2022-04-13T11:28:08.309Z"
   },
   {
    "duration": 14,
    "start_time": "2022-04-13T11:30:41.401Z"
   },
   {
    "duration": 13,
    "start_time": "2022-04-13T11:30:54.272Z"
   },
   {
    "duration": 28,
    "start_time": "2022-04-13T11:31:19.939Z"
   },
   {
    "duration": 2938,
    "start_time": "2022-04-13T11:32:31.957Z"
   },
   {
    "duration": 14,
    "start_time": "2022-04-13T11:32:43.533Z"
   },
   {
    "duration": 14,
    "start_time": "2022-04-13T11:32:57.793Z"
   },
   {
    "duration": 3,
    "start_time": "2022-04-13T11:34:03.052Z"
   },
   {
    "duration": 275,
    "start_time": "2022-04-13T11:34:03.058Z"
   },
   {
    "duration": 254,
    "start_time": "2022-04-13T11:34:03.337Z"
   },
   {
    "duration": 170,
    "start_time": "2022-04-13T11:34:03.594Z"
   },
   {
    "duration": 16,
    "start_time": "2022-04-13T11:34:03.768Z"
   },
   {
    "duration": 28,
    "start_time": "2022-04-13T11:34:03.786Z"
   },
   {
    "duration": 13,
    "start_time": "2022-04-13T11:34:03.817Z"
   },
   {
    "duration": 66,
    "start_time": "2022-04-13T11:34:03.833Z"
   },
   {
    "duration": 16,
    "start_time": "2022-04-13T11:34:03.902Z"
   },
   {
    "duration": 74,
    "start_time": "2022-04-13T11:34:03.922Z"
   },
   {
    "duration": 15,
    "start_time": "2022-04-13T11:34:04.003Z"
   },
   {
    "duration": 28,
    "start_time": "2022-04-13T11:34:04.021Z"
   },
   {
    "duration": 16,
    "start_time": "2022-04-13T11:34:04.082Z"
   },
   {
    "duration": 25,
    "start_time": "2022-04-13T11:34:04.101Z"
   },
   {
    "duration": 57,
    "start_time": "2022-04-13T11:34:04.129Z"
   },
   {
    "duration": 22,
    "start_time": "2022-04-13T11:34:04.189Z"
   },
   {
    "duration": 73,
    "start_time": "2022-04-13T11:34:04.214Z"
   },
   {
    "duration": 130,
    "start_time": "2022-04-13T11:34:04.290Z"
   },
   {
    "duration": 40,
    "start_time": "2022-04-13T11:34:04.424Z"
   },
   {
    "duration": 68,
    "start_time": "2022-04-13T11:34:04.482Z"
   },
   {
    "duration": 34,
    "start_time": "2022-04-13T11:34:04.552Z"
   },
   {
    "duration": 12,
    "start_time": "2022-04-13T11:34:04.588Z"
   },
   {
    "duration": 183,
    "start_time": "2022-04-13T11:34:04.603Z"
   },
   {
    "duration": 23,
    "start_time": "2022-04-13T11:34:04.789Z"
   },
   {
    "duration": 77,
    "start_time": "2022-04-13T11:34:04.815Z"
   },
   {
    "duration": 17,
    "start_time": "2022-04-13T11:34:04.895Z"
   },
   {
    "duration": 67,
    "start_time": "2022-04-13T11:34:04.915Z"
   },
   {
    "duration": 54,
    "start_time": "2022-04-13T11:34:04.985Z"
   },
   {
    "duration": 9,
    "start_time": "2022-04-13T11:34:05.045Z"
   },
   {
    "duration": 19,
    "start_time": "2022-04-13T11:34:05.081Z"
   },
   {
    "duration": 146,
    "start_time": "2022-04-13T11:34:05.103Z"
   },
   {
    "duration": 30,
    "start_time": "2022-04-13T11:34:05.252Z"
   },
   {
    "duration": 57,
    "start_time": "2022-04-13T11:34:05.285Z"
   },
   {
    "duration": 40,
    "start_time": "2022-04-13T11:34:05.344Z"
   },
   {
    "duration": 32,
    "start_time": "2022-04-13T11:34:05.387Z"
   },
   {
    "duration": 72,
    "start_time": "2022-04-13T11:34:05.422Z"
   },
   {
    "duration": 113,
    "start_time": "2022-04-13T11:34:05.496Z"
   },
   {
    "duration": 11,
    "start_time": "2022-04-13T11:34:05.613Z"
   },
   {
    "duration": 10,
    "start_time": "2022-04-13T11:34:05.627Z"
   },
   {
    "duration": 43,
    "start_time": "2022-04-13T11:34:05.640Z"
   },
   {
    "duration": 13,
    "start_time": "2022-04-13T11:34:05.686Z"
   },
   {
    "duration": 10,
    "start_time": "2022-04-13T11:34:05.702Z"
   },
   {
    "duration": 10,
    "start_time": "2022-04-13T11:34:05.714Z"
   },
   {
    "duration": 11,
    "start_time": "2022-04-13T11:34:05.727Z"
   },
   {
    "duration": 42,
    "start_time": "2022-04-13T11:34:05.741Z"
   },
   {
    "duration": 9,
    "start_time": "2022-04-13T11:34:05.786Z"
   },
   {
    "duration": 13,
    "start_time": "2022-04-13T11:34:05.798Z"
   },
   {
    "duration": 14,
    "start_time": "2022-04-13T11:34:05.813Z"
   },
   {
    "duration": 56,
    "start_time": "2022-04-13T11:34:05.829Z"
   },
   {
    "duration": 15,
    "start_time": "2022-04-13T11:34:05.888Z"
   },
   {
    "duration": 18,
    "start_time": "2022-04-13T11:34:05.906Z"
   },
   {
    "duration": 9,
    "start_time": "2022-04-13T11:34:05.927Z"
   },
   {
    "duration": 17,
    "start_time": "2022-04-13T11:34:05.939Z"
   },
   {
    "duration": 130,
    "start_time": "2022-04-13T11:34:05.983Z"
   },
   {
    "duration": 5,
    "start_time": "2022-04-13T11:34:06.115Z"
   },
   {
    "duration": 92,
    "start_time": "2022-04-13T11:34:06.123Z"
   },
   {
    "duration": 4,
    "start_time": "2022-04-13T11:34:06.218Z"
   },
   {
    "duration": 66,
    "start_time": "2022-04-13T11:34:06.225Z"
   },
   {
    "duration": 4,
    "start_time": "2022-04-13T11:34:06.294Z"
   },
   {
    "duration": 26,
    "start_time": "2022-04-13T11:34:06.302Z"
   },
   {
    "duration": 16,
    "start_time": "2022-04-13T11:34:06.331Z"
   },
   {
    "duration": 39,
    "start_time": "2022-04-13T11:34:06.349Z"
   },
   {
    "duration": 6,
    "start_time": "2022-04-13T11:34:06.390Z"
   },
   {
    "duration": 23,
    "start_time": "2022-04-13T11:34:06.399Z"
   },
   {
    "duration": 24,
    "start_time": "2022-04-13T11:34:06.424Z"
   },
   {
    "duration": 2188,
    "start_time": "2022-04-13T11:38:44.562Z"
   },
   {
    "duration": 150,
    "start_time": "2022-04-13T11:39:08.227Z"
   },
   {
    "duration": 2098,
    "start_time": "2022-04-13T11:39:12.686Z"
   },
   {
    "duration": 16,
    "start_time": "2022-04-13T11:40:23.186Z"
   },
   {
    "duration": 11,
    "start_time": "2022-04-13T11:50:30.468Z"
   },
   {
    "duration": 23,
    "start_time": "2022-04-13T12:06:15.283Z"
   },
   {
    "duration": 4,
    "start_time": "2022-04-13T12:07:42.905Z"
   },
   {
    "duration": 4,
    "start_time": "2022-04-13T12:08:02.496Z"
   },
   {
    "duration": 306,
    "start_time": "2022-04-13T12:08:02.504Z"
   },
   {
    "duration": 209,
    "start_time": "2022-04-13T12:08:02.813Z"
   },
   {
    "duration": 110,
    "start_time": "2022-04-13T12:08:03.025Z"
   },
   {
    "duration": 12,
    "start_time": "2022-04-13T12:08:03.138Z"
   },
   {
    "duration": 17,
    "start_time": "2022-04-13T12:08:03.153Z"
   },
   {
    "duration": 18,
    "start_time": "2022-04-13T12:08:03.172Z"
   },
   {
    "duration": 38,
    "start_time": "2022-04-13T12:08:03.193Z"
   },
   {
    "duration": 17,
    "start_time": "2022-04-13T12:08:03.234Z"
   },
   {
    "duration": 64,
    "start_time": "2022-04-13T12:08:03.253Z"
   },
   {
    "duration": 14,
    "start_time": "2022-04-13T12:08:03.321Z"
   },
   {
    "duration": 62,
    "start_time": "2022-04-13T12:08:03.338Z"
   },
   {
    "duration": 12,
    "start_time": "2022-04-13T12:08:03.404Z"
   },
   {
    "duration": 16,
    "start_time": "2022-04-13T12:08:03.419Z"
   },
   {
    "duration": 48,
    "start_time": "2022-04-13T12:08:03.437Z"
   },
   {
    "duration": 19,
    "start_time": "2022-04-13T12:08:03.489Z"
   },
   {
    "duration": 27,
    "start_time": "2022-04-13T12:08:03.511Z"
   },
   {
    "duration": 111,
    "start_time": "2022-04-13T12:08:03.541Z"
   },
   {
    "duration": 39,
    "start_time": "2022-04-13T12:08:03.654Z"
   },
   {
    "duration": 94,
    "start_time": "2022-04-13T12:08:03.696Z"
   },
   {
    "duration": 16,
    "start_time": "2022-04-13T12:08:03.792Z"
   },
   {
    "duration": 8,
    "start_time": "2022-04-13T12:08:03.811Z"
   },
   {
    "duration": 192,
    "start_time": "2022-04-13T12:08:03.822Z"
   },
   {
    "duration": 22,
    "start_time": "2022-04-13T12:08:04.017Z"
   },
   {
    "duration": 61,
    "start_time": "2022-04-13T12:08:04.042Z"
   },
   {
    "duration": 13,
    "start_time": "2022-04-13T12:08:04.106Z"
   },
   {
    "duration": 23,
    "start_time": "2022-04-13T12:08:04.121Z"
   },
   {
    "duration": 104,
    "start_time": "2022-04-13T12:08:04.146Z"
   },
   {
    "duration": 12,
    "start_time": "2022-04-13T12:08:04.252Z"
   },
   {
    "duration": 32,
    "start_time": "2022-04-13T12:08:04.267Z"
   },
   {
    "duration": 106,
    "start_time": "2022-04-13T12:08:04.302Z"
   },
   {
    "duration": 21,
    "start_time": "2022-04-13T12:08:04.410Z"
   },
   {
    "duration": 62,
    "start_time": "2022-04-13T12:08:04.434Z"
   },
   {
    "duration": 8,
    "start_time": "2022-04-13T12:08:04.498Z"
   },
   {
    "duration": 21,
    "start_time": "2022-04-13T12:08:04.508Z"
   },
   {
    "duration": 77,
    "start_time": "2022-04-13T12:08:04.532Z"
   },
   {
    "duration": 87,
    "start_time": "2022-04-13T12:08:04.617Z"
   },
   {
    "duration": 10,
    "start_time": "2022-04-13T12:08:04.707Z"
   },
   {
    "duration": 12,
    "start_time": "2022-04-13T12:08:04.720Z"
   },
   {
    "duration": 9,
    "start_time": "2022-04-13T12:08:04.734Z"
   },
   {
    "duration": 45,
    "start_time": "2022-04-13T12:08:04.745Z"
   },
   {
    "duration": 7,
    "start_time": "2022-04-13T12:08:04.793Z"
   },
   {
    "duration": 9,
    "start_time": "2022-04-13T12:08:04.803Z"
   },
   {
    "duration": 9,
    "start_time": "2022-04-13T12:08:04.814Z"
   },
   {
    "duration": 11,
    "start_time": "2022-04-13T12:08:04.825Z"
   },
   {
    "duration": 48,
    "start_time": "2022-04-13T12:08:04.838Z"
   },
   {
    "duration": 18,
    "start_time": "2022-04-13T12:08:04.889Z"
   },
   {
    "duration": 13,
    "start_time": "2022-04-13T12:08:04.910Z"
   },
   {
    "duration": 22,
    "start_time": "2022-04-13T12:08:04.925Z"
   },
   {
    "duration": 8,
    "start_time": "2022-04-13T12:08:04.949Z"
   },
   {
    "duration": 9,
    "start_time": "2022-04-13T12:08:04.987Z"
   },
   {
    "duration": 7,
    "start_time": "2022-04-13T12:08:04.998Z"
   },
   {
    "duration": 15,
    "start_time": "2022-04-13T12:08:05.007Z"
   },
   {
    "duration": 148,
    "start_time": "2022-04-13T12:08:05.025Z"
   },
   {
    "duration": 10,
    "start_time": "2022-04-13T12:08:05.176Z"
   },
   {
    "duration": 17,
    "start_time": "2022-04-13T12:08:05.189Z"
   },
   {
    "duration": 176,
    "start_time": "2022-04-13T12:08:05.209Z"
   },
   {
    "duration": 5,
    "start_time": "2022-04-13T12:08:05.388Z"
   },
   {
    "duration": 47,
    "start_time": "2022-04-13T12:08:05.396Z"
   },
   {
    "duration": 5,
    "start_time": "2022-04-13T12:08:05.446Z"
   },
   {
    "duration": 26,
    "start_time": "2022-04-13T12:08:05.482Z"
   },
   {
    "duration": 12,
    "start_time": "2022-04-13T12:08:05.512Z"
   },
   {
    "duration": 17,
    "start_time": "2022-04-13T12:08:05.527Z"
   },
   {
    "duration": 6,
    "start_time": "2022-04-13T12:08:05.546Z"
   },
   {
    "duration": 22,
    "start_time": "2022-04-13T12:08:05.586Z"
   },
   {
    "duration": 26,
    "start_time": "2022-04-13T12:08:05.610Z"
   },
   {
    "duration": 4,
    "start_time": "2022-04-13T12:10:58.546Z"
   },
   {
    "duration": 26,
    "start_time": "2022-04-13T12:11:09.672Z"
   },
   {
    "duration": 5,
    "start_time": "2022-04-13T12:11:20.639Z"
   },
   {
    "duration": 254,
    "start_time": "2022-04-13T12:11:20.647Z"
   },
   {
    "duration": 174,
    "start_time": "2022-04-13T12:11:20.903Z"
   },
   {
    "duration": 118,
    "start_time": "2022-04-13T12:11:21.080Z"
   },
   {
    "duration": 13,
    "start_time": "2022-04-13T12:11:21.201Z"
   },
   {
    "duration": 22,
    "start_time": "2022-04-13T12:11:21.216Z"
   },
   {
    "duration": 12,
    "start_time": "2022-04-13T12:11:21.240Z"
   },
   {
    "duration": 56,
    "start_time": "2022-04-13T12:11:21.254Z"
   },
   {
    "duration": 13,
    "start_time": "2022-04-13T12:11:21.312Z"
   },
   {
    "duration": 29,
    "start_time": "2022-04-13T12:11:21.329Z"
   },
   {
    "duration": 38,
    "start_time": "2022-04-13T12:11:21.360Z"
   },
   {
    "duration": 27,
    "start_time": "2022-04-13T12:11:21.401Z"
   },
   {
    "duration": 12,
    "start_time": "2022-04-13T12:11:21.431Z"
   },
   {
    "duration": 61,
    "start_time": "2022-04-13T12:11:21.445Z"
   },
   {
    "duration": 27,
    "start_time": "2022-04-13T12:11:21.510Z"
   },
   {
    "duration": 21,
    "start_time": "2022-04-13T12:11:21.541Z"
   },
   {
    "duration": 57,
    "start_time": "2022-04-13T12:11:21.582Z"
   },
   {
    "duration": 128,
    "start_time": "2022-04-13T12:11:21.642Z"
   },
   {
    "duration": 37,
    "start_time": "2022-04-13T12:11:21.772Z"
   },
   {
    "duration": 116,
    "start_time": "2022-04-13T12:11:21.811Z"
   },
   {
    "duration": 13,
    "start_time": "2022-04-13T12:11:21.929Z"
   },
   {
    "duration": 8,
    "start_time": "2022-04-13T12:11:21.944Z"
   },
   {
    "duration": 202,
    "start_time": "2022-04-13T12:11:21.954Z"
   },
   {
    "duration": 32,
    "start_time": "2022-04-13T12:11:22.159Z"
   },
   {
    "duration": 62,
    "start_time": "2022-04-13T12:11:22.193Z"
   },
   {
    "duration": 43,
    "start_time": "2022-04-13T12:11:22.259Z"
   },
   {
    "duration": 22,
    "start_time": "2022-04-13T12:11:22.305Z"
   },
   {
    "duration": 67,
    "start_time": "2022-04-13T12:11:22.333Z"
   },
   {
    "duration": 12,
    "start_time": "2022-04-13T12:11:22.403Z"
   },
   {
    "duration": 13,
    "start_time": "2022-04-13T12:11:22.417Z"
   },
   {
    "duration": 105,
    "start_time": "2022-04-13T12:11:22.433Z"
   },
   {
    "duration": 19,
    "start_time": "2022-04-13T12:11:22.540Z"
   },
   {
    "duration": 63,
    "start_time": "2022-04-13T12:11:22.562Z"
   },
   {
    "duration": 8,
    "start_time": "2022-04-13T12:11:22.627Z"
   },
   {
    "duration": 23,
    "start_time": "2022-04-13T12:11:22.638Z"
   },
   {
    "duration": 48,
    "start_time": "2022-04-13T12:11:22.685Z"
   },
   {
    "duration": 105,
    "start_time": "2022-04-13T12:11:22.735Z"
   },
   {
    "duration": 9,
    "start_time": "2022-04-13T12:11:22.842Z"
   },
   {
    "duration": 10,
    "start_time": "2022-04-13T12:11:22.853Z"
   },
   {
    "duration": 9,
    "start_time": "2022-04-13T12:11:22.887Z"
   },
   {
    "duration": 14,
    "start_time": "2022-04-13T12:11:22.900Z"
   },
   {
    "duration": 8,
    "start_time": "2022-04-13T12:11:22.917Z"
   },
   {
    "duration": 11,
    "start_time": "2022-04-13T12:11:22.928Z"
   },
   {
    "duration": 50,
    "start_time": "2022-04-13T12:11:22.942Z"
   },
   {
    "duration": 12,
    "start_time": "2022-04-13T12:11:22.996Z"
   },
   {
    "duration": 10,
    "start_time": "2022-04-13T12:11:23.011Z"
   },
   {
    "duration": 11,
    "start_time": "2022-04-13T12:11:23.024Z"
   },
   {
    "duration": 54,
    "start_time": "2022-04-13T12:11:23.037Z"
   },
   {
    "duration": 25,
    "start_time": "2022-04-13T12:11:23.095Z"
   },
   {
    "duration": 11,
    "start_time": "2022-04-13T12:11:23.122Z"
   },
   {
    "duration": 7,
    "start_time": "2022-04-13T12:11:23.136Z"
   },
   {
    "duration": 41,
    "start_time": "2022-04-13T12:11:23.146Z"
   },
   {
    "duration": 13,
    "start_time": "2022-04-13T12:11:23.190Z"
   },
   {
    "duration": 118,
    "start_time": "2022-04-13T12:11:23.206Z"
   },
   {
    "duration": 5,
    "start_time": "2022-04-13T12:11:23.327Z"
   },
   {
    "duration": 8,
    "start_time": "2022-04-13T12:11:23.334Z"
   },
   {
    "duration": 57,
    "start_time": "2022-04-13T12:11:23.344Z"
   },
   {
    "duration": 5,
    "start_time": "2022-04-13T12:11:23.403Z"
   },
   {
    "duration": 44,
    "start_time": "2022-04-13T12:11:23.410Z"
   },
   {
    "duration": 4,
    "start_time": "2022-04-13T12:11:23.456Z"
   },
   {
    "duration": 21,
    "start_time": "2022-04-13T12:11:23.486Z"
   },
   {
    "duration": 15,
    "start_time": "2022-04-13T12:11:23.509Z"
   },
   {
    "duration": 16,
    "start_time": "2022-04-13T12:11:23.526Z"
   },
   {
    "duration": 41,
    "start_time": "2022-04-13T12:11:23.545Z"
   },
   {
    "duration": 21,
    "start_time": "2022-04-13T12:11:23.588Z"
   },
   {
    "duration": 25,
    "start_time": "2022-04-13T12:11:23.611Z"
   },
   {
    "duration": 227,
    "start_time": "2022-04-13T12:11:23.638Z"
   },
   {
    "duration": 0,
    "start_time": "2022-04-13T12:11:23.867Z"
   },
   {
    "duration": 12,
    "start_time": "2022-04-13T12:12:40.743Z"
   },
   {
    "duration": 124,
    "start_time": "2022-04-13T12:56:18.255Z"
   },
   {
    "duration": 4,
    "start_time": "2022-04-13T12:56:25.323Z"
   },
   {
    "duration": 23,
    "start_time": "2022-04-13T12:57:51.082Z"
   },
   {
    "duration": 4,
    "start_time": "2022-04-13T12:58:34.998Z"
   },
   {
    "duration": 132,
    "start_time": "2022-04-13T12:58:36.675Z"
   },
   {
    "duration": 126,
    "start_time": "2022-04-13T13:00:11.999Z"
   },
   {
    "duration": 125,
    "start_time": "2022-04-13T13:00:35.698Z"
   },
   {
    "duration": 136,
    "start_time": "2022-04-13T13:01:51.894Z"
   },
   {
    "duration": 5,
    "start_time": "2022-04-13T13:02:33.361Z"
   },
   {
    "duration": 135,
    "start_time": "2022-04-13T13:02:36.441Z"
   },
   {
    "duration": 160,
    "start_time": "2022-04-13T13:03:05.707Z"
   },
   {
    "duration": 157,
    "start_time": "2022-04-13T13:03:17.876Z"
   },
   {
    "duration": 154,
    "start_time": "2022-04-13T13:03:25.778Z"
   },
   {
    "duration": 5,
    "start_time": "2022-04-13T13:05:08.191Z"
   },
   {
    "duration": 158,
    "start_time": "2022-04-13T13:05:10.807Z"
   },
   {
    "duration": 170,
    "start_time": "2022-04-13T13:05:26.235Z"
   },
   {
    "duration": 162,
    "start_time": "2022-04-13T13:06:11.967Z"
   },
   {
    "duration": 164,
    "start_time": "2022-04-13T13:06:34.613Z"
   },
   {
    "duration": 152,
    "start_time": "2022-04-13T13:07:13.755Z"
   },
   {
    "duration": 219,
    "start_time": "2022-04-13T13:08:07.094Z"
   },
   {
    "duration": 159,
    "start_time": "2022-04-13T13:08:14.624Z"
   },
   {
    "duration": 157,
    "start_time": "2022-04-13T13:08:18.493Z"
   },
   {
    "duration": 182,
    "start_time": "2022-04-13T13:08:21.984Z"
   },
   {
    "duration": 143,
    "start_time": "2022-04-13T13:09:11.708Z"
   },
   {
    "duration": 153,
    "start_time": "2022-04-13T13:09:34.452Z"
   },
   {
    "duration": 166,
    "start_time": "2022-04-13T13:09:41.845Z"
   },
   {
    "duration": 5,
    "start_time": "2022-04-13T13:15:14.044Z"
   },
   {
    "duration": 6,
    "start_time": "2022-04-13T13:17:45.659Z"
   },
   {
    "duration": 6,
    "start_time": "2022-04-13T13:19:26.741Z"
   },
   {
    "duration": 5,
    "start_time": "2022-04-13T13:19:30.329Z"
   },
   {
    "duration": 6,
    "start_time": "2022-04-13T13:21:19.021Z"
   },
   {
    "duration": 419,
    "start_time": "2022-04-13T13:21:21.170Z"
   },
   {
    "duration": 424,
    "start_time": "2022-04-13T13:24:47.603Z"
   },
   {
    "duration": 4,
    "start_time": "2022-04-13T13:28:06.845Z"
   },
   {
    "duration": 195,
    "start_time": "2022-04-13T13:28:06.855Z"
   },
   {
    "duration": 189,
    "start_time": "2022-04-13T13:28:07.052Z"
   },
   {
    "duration": 118,
    "start_time": "2022-04-13T13:28:07.243Z"
   },
   {
    "duration": 11,
    "start_time": "2022-04-13T13:28:07.364Z"
   },
   {
    "duration": 22,
    "start_time": "2022-04-13T13:28:07.383Z"
   },
   {
    "duration": 11,
    "start_time": "2022-04-13T13:28:07.408Z"
   },
   {
    "duration": 37,
    "start_time": "2022-04-13T13:28:07.422Z"
   },
   {
    "duration": 25,
    "start_time": "2022-04-13T13:28:07.461Z"
   },
   {
    "duration": 30,
    "start_time": "2022-04-13T13:28:07.488Z"
   },
   {
    "duration": 11,
    "start_time": "2022-04-13T13:28:07.520Z"
   },
   {
    "duration": 63,
    "start_time": "2022-04-13T13:28:07.533Z"
   },
   {
    "duration": 12,
    "start_time": "2022-04-13T13:28:07.598Z"
   },
   {
    "duration": 14,
    "start_time": "2022-04-13T13:28:07.612Z"
   },
   {
    "duration": 50,
    "start_time": "2022-04-13T13:28:07.631Z"
   },
   {
    "duration": 16,
    "start_time": "2022-04-13T13:28:07.683Z"
   },
   {
    "duration": 46,
    "start_time": "2022-04-13T13:28:07.701Z"
   },
   {
    "duration": 108,
    "start_time": "2022-04-13T13:28:07.749Z"
   },
   {
    "duration": 53,
    "start_time": "2022-04-13T13:28:07.859Z"
   },
   {
    "duration": 84,
    "start_time": "2022-04-13T13:28:07.914Z"
   },
   {
    "duration": 14,
    "start_time": "2022-04-13T13:28:08.000Z"
   },
   {
    "duration": 7,
    "start_time": "2022-04-13T13:28:08.016Z"
   },
   {
    "duration": 175,
    "start_time": "2022-04-13T13:28:08.025Z"
   },
   {
    "duration": 22,
    "start_time": "2022-04-13T13:28:08.202Z"
   },
   {
    "duration": 56,
    "start_time": "2022-04-13T13:28:08.227Z"
   },
   {
    "duration": 12,
    "start_time": "2022-04-13T13:28:08.285Z"
   },
   {
    "duration": 22,
    "start_time": "2022-04-13T13:28:08.299Z"
   },
   {
    "duration": 79,
    "start_time": "2022-04-13T13:28:08.323Z"
   },
   {
    "duration": 9,
    "start_time": "2022-04-13T13:28:08.404Z"
   },
   {
    "duration": 16,
    "start_time": "2022-04-13T13:28:08.415Z"
   },
   {
    "duration": 92,
    "start_time": "2022-04-13T13:28:08.433Z"
   },
   {
    "duration": 19,
    "start_time": "2022-04-13T13:28:08.527Z"
   },
   {
    "duration": 60,
    "start_time": "2022-04-13T13:28:08.548Z"
   },
   {
    "duration": 10,
    "start_time": "2022-04-13T13:28:08.611Z"
   },
   {
    "duration": 23,
    "start_time": "2022-04-13T13:28:08.623Z"
   },
   {
    "duration": 75,
    "start_time": "2022-04-13T13:28:08.648Z"
   },
   {
    "duration": 82,
    "start_time": "2022-04-13T13:28:08.725Z"
   },
   {
    "duration": 8,
    "start_time": "2022-04-13T13:28:08.809Z"
   },
   {
    "duration": 8,
    "start_time": "2022-04-13T13:28:08.819Z"
   },
   {
    "duration": 8,
    "start_time": "2022-04-13T13:28:08.830Z"
   },
   {
    "duration": 47,
    "start_time": "2022-04-13T13:28:08.841Z"
   },
   {
    "duration": 6,
    "start_time": "2022-04-13T13:28:08.897Z"
   },
   {
    "duration": 12,
    "start_time": "2022-04-13T13:28:08.905Z"
   },
   {
    "duration": 10,
    "start_time": "2022-04-13T13:28:08.919Z"
   },
   {
    "duration": 14,
    "start_time": "2022-04-13T13:28:08.931Z"
   },
   {
    "duration": 10,
    "start_time": "2022-04-13T13:28:08.981Z"
   },
   {
    "duration": 12,
    "start_time": "2022-04-13T13:28:08.993Z"
   },
   {
    "duration": 12,
    "start_time": "2022-04-13T13:28:09.007Z"
   },
   {
    "duration": 62,
    "start_time": "2022-04-13T13:28:09.021Z"
   },
   {
    "duration": 11,
    "start_time": "2022-04-13T13:28:09.086Z"
   },
   {
    "duration": 8,
    "start_time": "2022-04-13T13:28:09.100Z"
   },
   {
    "duration": 8,
    "start_time": "2022-04-13T13:28:09.110Z"
   },
   {
    "duration": 10,
    "start_time": "2022-04-13T13:28:09.121Z"
   },
   {
    "duration": 121,
    "start_time": "2022-04-13T13:28:09.133Z"
   },
   {
    "duration": 4,
    "start_time": "2022-04-13T13:28:09.256Z"
   },
   {
    "duration": 21,
    "start_time": "2022-04-13T13:28:09.263Z"
   },
   {
    "duration": 44,
    "start_time": "2022-04-13T13:28:09.286Z"
   },
   {
    "duration": 4,
    "start_time": "2022-04-13T13:28:09.332Z"
   },
   {
    "duration": 72,
    "start_time": "2022-04-13T13:28:09.338Z"
   },
   {
    "duration": 3,
    "start_time": "2022-04-13T13:28:09.413Z"
   },
   {
    "duration": 20,
    "start_time": "2022-04-13T13:28:09.419Z"
   },
   {
    "duration": 12,
    "start_time": "2022-04-13T13:28:09.441Z"
   },
   {
    "duration": 39,
    "start_time": "2022-04-13T13:28:09.456Z"
   },
   {
    "duration": 6,
    "start_time": "2022-04-13T13:28:09.497Z"
   },
   {
    "duration": 14,
    "start_time": "2022-04-13T13:28:09.505Z"
   },
   {
    "duration": 24,
    "start_time": "2022-04-13T13:28:09.521Z"
   },
   {
    "duration": 5,
    "start_time": "2022-04-13T13:28:09.583Z"
   },
   {
    "duration": 7,
    "start_time": "2022-04-13T13:28:09.591Z"
   },
   {
    "duration": 6,
    "start_time": "2022-04-13T13:28:09.600Z"
   },
   {
    "duration": 5,
    "start_time": "2022-04-13T13:28:09.608Z"
   },
   {
    "duration": 668,
    "start_time": "2022-04-13T13:28:09.615Z"
   },
   {
    "duration": 15,
    "start_time": "2022-04-13T13:28:10.285Z"
   },
   {
    "duration": 837,
    "start_time": "2022-04-13T15:47:13.779Z"
   },
   {
    "duration": 154,
    "start_time": "2022-04-13T15:47:14.618Z"
   },
   {
    "duration": 124,
    "start_time": "2022-04-13T15:47:14.774Z"
   },
   {
    "duration": 81,
    "start_time": "2022-04-13T15:47:14.900Z"
   },
   {
    "duration": 15,
    "start_time": "2022-04-13T15:47:14.983Z"
   },
   {
    "duration": 36,
    "start_time": "2022-04-13T15:47:14.999Z"
   },
   {
    "duration": 15,
    "start_time": "2022-04-13T15:47:15.037Z"
   },
   {
    "duration": 25,
    "start_time": "2022-04-13T15:47:15.054Z"
   },
   {
    "duration": 7,
    "start_time": "2022-04-13T15:47:15.081Z"
   },
   {
    "duration": 18,
    "start_time": "2022-04-13T15:47:15.092Z"
   },
   {
    "duration": 7,
    "start_time": "2022-04-13T15:47:15.112Z"
   },
   {
    "duration": 18,
    "start_time": "2022-04-13T15:47:15.120Z"
   },
   {
    "duration": 8,
    "start_time": "2022-04-13T15:47:15.139Z"
   },
   {
    "duration": 12,
    "start_time": "2022-04-13T15:47:15.148Z"
   },
   {
    "duration": 10,
    "start_time": "2022-04-13T15:47:15.161Z"
   },
   {
    "duration": 30,
    "start_time": "2022-04-13T15:47:15.172Z"
   },
   {
    "duration": 19,
    "start_time": "2022-04-13T15:47:15.204Z"
   },
   {
    "duration": 78,
    "start_time": "2022-04-13T15:47:15.225Z"
   },
   {
    "duration": 20,
    "start_time": "2022-04-13T15:47:15.304Z"
   },
   {
    "duration": 50,
    "start_time": "2022-04-13T15:47:15.325Z"
   },
   {
    "duration": 24,
    "start_time": "2022-04-13T15:47:15.377Z"
   },
   {
    "duration": 5,
    "start_time": "2022-04-13T15:47:15.403Z"
   },
   {
    "duration": 109,
    "start_time": "2022-04-13T15:47:15.409Z"
   },
   {
    "duration": 16,
    "start_time": "2022-04-13T15:47:15.520Z"
   },
   {
    "duration": 22,
    "start_time": "2022-04-13T15:47:15.537Z"
   },
   {
    "duration": 8,
    "start_time": "2022-04-13T15:47:15.561Z"
   },
   {
    "duration": 38,
    "start_time": "2022-04-13T15:47:15.570Z"
   },
   {
    "duration": 32,
    "start_time": "2022-04-13T15:47:15.612Z"
   },
   {
    "duration": 6,
    "start_time": "2022-04-13T15:47:15.645Z"
   },
   {
    "duration": 13,
    "start_time": "2022-04-13T15:47:15.652Z"
   },
   {
    "duration": 67,
    "start_time": "2022-04-13T15:47:15.666Z"
   },
   {
    "duration": 13,
    "start_time": "2022-04-13T15:47:15.734Z"
   },
   {
    "duration": 27,
    "start_time": "2022-04-13T15:47:15.749Z"
   },
   {
    "duration": 24,
    "start_time": "2022-04-13T15:47:15.778Z"
   },
   {
    "duration": 13,
    "start_time": "2022-04-13T15:47:15.803Z"
   },
   {
    "duration": 32,
    "start_time": "2022-04-13T15:47:15.818Z"
   },
   {
    "duration": 57,
    "start_time": "2022-04-13T15:47:15.852Z"
   },
   {
    "duration": 6,
    "start_time": "2022-04-13T15:47:15.910Z"
   },
   {
    "duration": 6,
    "start_time": "2022-04-13T15:47:15.917Z"
   },
   {
    "duration": 7,
    "start_time": "2022-04-13T15:47:15.924Z"
   },
   {
    "duration": 7,
    "start_time": "2022-04-13T15:47:15.933Z"
   },
   {
    "duration": 6,
    "start_time": "2022-04-13T15:47:15.941Z"
   },
   {
    "duration": 7,
    "start_time": "2022-04-13T15:47:15.948Z"
   },
   {
    "duration": 8,
    "start_time": "2022-04-13T15:47:15.957Z"
   },
   {
    "duration": 35,
    "start_time": "2022-04-13T15:47:15.966Z"
   },
   {
    "duration": 8,
    "start_time": "2022-04-13T15:47:16.002Z"
   },
   {
    "duration": 8,
    "start_time": "2022-04-13T15:47:16.012Z"
   },
   {
    "duration": 10,
    "start_time": "2022-04-13T15:47:16.021Z"
   },
   {
    "duration": 12,
    "start_time": "2022-04-13T15:47:16.032Z"
   },
   {
    "duration": 9,
    "start_time": "2022-04-13T15:47:16.045Z"
   },
   {
    "duration": 13,
    "start_time": "2022-04-13T15:47:16.056Z"
   },
   {
    "duration": 11,
    "start_time": "2022-04-13T15:47:16.070Z"
   },
   {
    "duration": 20,
    "start_time": "2022-04-13T15:47:16.083Z"
   },
   {
    "duration": 58,
    "start_time": "2022-04-13T15:47:16.104Z"
   },
   {
    "duration": 2,
    "start_time": "2022-04-13T15:47:16.164Z"
   },
   {
    "duration": 7,
    "start_time": "2022-04-13T15:47:16.168Z"
   },
   {
    "duration": 43,
    "start_time": "2022-04-13T15:47:16.176Z"
   },
   {
    "duration": 3,
    "start_time": "2022-04-13T15:47:16.220Z"
   },
   {
    "duration": 29,
    "start_time": "2022-04-13T15:47:16.224Z"
   },
   {
    "duration": 3,
    "start_time": "2022-04-13T15:47:16.254Z"
   },
   {
    "duration": 16,
    "start_time": "2022-04-13T15:47:16.258Z"
   },
   {
    "duration": 31,
    "start_time": "2022-04-13T15:47:16.275Z"
   },
   {
    "duration": 9,
    "start_time": "2022-04-13T15:47:16.307Z"
   },
   {
    "duration": 3,
    "start_time": "2022-04-13T15:47:16.318Z"
   },
   {
    "duration": 10,
    "start_time": "2022-04-13T15:47:16.323Z"
   },
   {
    "duration": 14,
    "start_time": "2022-04-13T15:47:16.335Z"
   },
   {
    "duration": 4,
    "start_time": "2022-04-13T15:47:16.350Z"
   },
   {
    "duration": 8,
    "start_time": "2022-04-13T15:47:16.355Z"
   },
   {
    "duration": 7,
    "start_time": "2022-04-13T15:47:16.364Z"
   },
   {
    "duration": 28,
    "start_time": "2022-04-13T15:47:16.372Z"
   },
   {
    "duration": 217,
    "start_time": "2022-04-13T15:47:16.402Z"
   },
   {
    "duration": 19,
    "start_time": "2022-04-13T15:47:57.721Z"
   },
   {
    "duration": 4,
    "start_time": "2022-04-13T15:48:31.131Z"
   },
   {
    "duration": 19,
    "start_time": "2022-04-13T15:57:31.302Z"
   },
   {
    "duration": 14,
    "start_time": "2022-04-13T16:01:37.622Z"
   },
   {
    "duration": 14,
    "start_time": "2022-04-13T16:01:44.105Z"
   },
   {
    "duration": 9,
    "start_time": "2022-04-13T16:13:10.153Z"
   },
   {
    "duration": 16,
    "start_time": "2022-04-13T16:13:19.749Z"
   },
   {
    "duration": 7,
    "start_time": "2022-04-13T16:13:29.899Z"
   },
   {
    "duration": 11,
    "start_time": "2022-04-13T16:14:01.490Z"
   },
   {
    "duration": 421,
    "start_time": "2022-04-13T16:23:57.315Z"
   },
   {
    "duration": 10,
    "start_time": "2022-04-13T16:24:27.993Z"
   },
   {
    "duration": 12,
    "start_time": "2022-04-13T16:24:29.629Z"
   },
   {
    "duration": 4,
    "start_time": "2022-04-13T16:26:04.892Z"
   },
   {
    "duration": 6,
    "start_time": "2022-04-13T16:26:13.474Z"
   },
   {
    "duration": 5,
    "start_time": "2022-04-13T16:27:08.076Z"
   },
   {
    "duration": 5,
    "start_time": "2022-04-13T16:29:36.867Z"
   },
   {
    "duration": 13,
    "start_time": "2022-04-13T16:31:31.759Z"
   },
   {
    "duration": 17,
    "start_time": "2022-04-13T16:51:27.873Z"
   },
   {
    "duration": 17,
    "start_time": "2022-04-13T16:53:16.403Z"
   },
   {
    "duration": 2651,
    "start_time": "2022-04-13T16:53:50.085Z"
   },
   {
    "duration": 2,
    "start_time": "2022-04-13T16:55:18.922Z"
   },
   {
    "duration": 13,
    "start_time": "2022-04-13T16:55:20.666Z"
   },
   {
    "duration": 2530,
    "start_time": "2022-04-13T16:55:39.847Z"
   },
   {
    "duration": 4,
    "start_time": "2022-04-13T16:55:56.301Z"
   },
   {
    "duration": 5,
    "start_time": "2022-04-13T16:56:33.550Z"
   },
   {
    "duration": 171,
    "start_time": "2022-04-13T17:03:30.443Z"
   },
   {
    "duration": 2679,
    "start_time": "2022-04-13T17:07:49.329Z"
   },
   {
    "duration": 4340,
    "start_time": "2022-04-13T17:08:46.518Z"
   },
   {
    "duration": 12,
    "start_time": "2022-04-13T17:09:34.062Z"
   },
   {
    "duration": 177,
    "start_time": "2022-04-13T17:09:57.042Z"
   },
   {
    "duration": 174,
    "start_time": "2022-04-13T17:10:26.217Z"
   },
   {
    "duration": 30,
    "start_time": "2022-04-13T17:13:28.816Z"
   },
   {
    "duration": 8,
    "start_time": "2022-04-13T17:13:57.840Z"
   },
   {
    "duration": 11,
    "start_time": "2022-04-13T17:14:08.668Z"
   },
   {
    "duration": 9,
    "start_time": "2022-04-13T17:14:24.939Z"
   },
   {
    "duration": 9,
    "start_time": "2022-04-13T17:15:27.081Z"
   },
   {
    "duration": 7,
    "start_time": "2022-04-13T17:15:33.770Z"
   },
   {
    "duration": 6,
    "start_time": "2022-04-13T17:16:25.917Z"
   },
   {
    "duration": 11,
    "start_time": "2022-04-13T17:17:29.751Z"
   },
   {
    "duration": 7,
    "start_time": "2022-04-13T17:17:46.477Z"
   },
   {
    "duration": 5,
    "start_time": "2022-04-13T17:18:12.163Z"
   },
   {
    "duration": 5,
    "start_time": "2022-04-13T17:18:20.098Z"
   },
   {
    "duration": 7,
    "start_time": "2022-04-13T17:19:28.942Z"
   },
   {
    "duration": 7,
    "start_time": "2022-04-13T17:19:56.878Z"
   },
   {
    "duration": 19,
    "start_time": "2022-04-13T17:24:01.442Z"
   },
   {
    "duration": 19,
    "start_time": "2022-04-13T17:24:23.154Z"
   },
   {
    "duration": 5,
    "start_time": "2022-04-13T17:25:27.636Z"
   },
   {
    "duration": 3,
    "start_time": "2022-04-13T17:27:13.377Z"
   },
   {
    "duration": 18,
    "start_time": "2022-04-13T17:27:14.018Z"
   },
   {
    "duration": 4,
    "start_time": "2022-04-13T17:28:14.281Z"
   },
   {
    "duration": 5,
    "start_time": "2022-04-13T17:28:39.086Z"
   },
   {
    "duration": 4,
    "start_time": "2022-04-13T17:28:41.028Z"
   },
   {
    "duration": 166,
    "start_time": "2022-04-13T17:29:32.175Z"
   },
   {
    "duration": 17,
    "start_time": "2022-04-13T17:33:24.079Z"
   },
   {
    "duration": 3,
    "start_time": "2022-04-13T17:33:59.680Z"
   },
   {
    "duration": 20,
    "start_time": "2022-04-13T17:34:05.806Z"
   },
   {
    "duration": 4,
    "start_time": "2022-04-13T17:34:29.225Z"
   },
   {
    "duration": 5,
    "start_time": "2022-04-13T17:34:29.757Z"
   },
   {
    "duration": 17,
    "start_time": "2022-04-13T17:36:32.469Z"
   },
   {
    "duration": 3,
    "start_time": "2022-04-13T17:36:41.267Z"
   },
   {
    "duration": 14,
    "start_time": "2022-04-13T17:36:46.294Z"
   },
   {
    "duration": 5,
    "start_time": "2022-04-13T17:37:05.440Z"
   },
   {
    "duration": 5,
    "start_time": "2022-04-13T17:37:22.960Z"
   },
   {
    "duration": 171,
    "start_time": "2022-04-13T17:38:04.823Z"
   },
   {
    "duration": 195,
    "start_time": "2022-04-13T17:42:58.305Z"
   },
   {
    "duration": 6,
    "start_time": "2022-04-13T17:46:26.083Z"
   },
   {
    "duration": 8,
    "start_time": "2022-04-13T17:46:29.897Z"
   },
   {
    "duration": 7,
    "start_time": "2022-04-13T17:46:34.721Z"
   },
   {
    "duration": 6,
    "start_time": "2022-04-13T17:46:39.312Z"
   },
   {
    "duration": 7,
    "start_time": "2022-04-13T17:46:50.605Z"
   },
   {
    "duration": 1343,
    "start_time": "2022-04-14T06:27:10.778Z"
   },
   {
    "duration": 173,
    "start_time": "2022-04-14T06:27:12.124Z"
   },
   {
    "duration": 142,
    "start_time": "2022-04-14T06:27:12.299Z"
   },
   {
    "duration": 93,
    "start_time": "2022-04-14T06:27:12.443Z"
   },
   {
    "duration": 16,
    "start_time": "2022-04-14T06:27:12.537Z"
   },
   {
    "duration": 26,
    "start_time": "2022-04-14T06:27:12.554Z"
   },
   {
    "duration": 14,
    "start_time": "2022-04-14T06:27:12.582Z"
   },
   {
    "duration": 28,
    "start_time": "2022-04-14T06:27:12.597Z"
   },
   {
    "duration": 9,
    "start_time": "2022-04-14T06:27:12.627Z"
   },
   {
    "duration": 23,
    "start_time": "2022-04-14T06:27:12.639Z"
   },
   {
    "duration": 7,
    "start_time": "2022-04-14T06:27:12.664Z"
   },
   {
    "duration": 24,
    "start_time": "2022-04-14T06:27:12.673Z"
   },
   {
    "duration": 8,
    "start_time": "2022-04-14T06:27:12.699Z"
   },
   {
    "duration": 34,
    "start_time": "2022-04-14T06:27:12.708Z"
   },
   {
    "duration": 13,
    "start_time": "2022-04-14T06:27:12.744Z"
   },
   {
    "duration": 17,
    "start_time": "2022-04-14T06:27:12.759Z"
   },
   {
    "duration": 24,
    "start_time": "2022-04-14T06:27:12.777Z"
   },
   {
    "duration": 96,
    "start_time": "2022-04-14T06:27:12.803Z"
   },
   {
    "duration": 35,
    "start_time": "2022-04-14T06:27:12.900Z"
   },
   {
    "duration": 56,
    "start_time": "2022-04-14T06:27:12.936Z"
   },
   {
    "duration": 12,
    "start_time": "2022-04-14T06:27:12.993Z"
   },
   {
    "duration": 6,
    "start_time": "2022-04-14T06:27:13.007Z"
   },
   {
    "duration": 133,
    "start_time": "2022-04-14T06:27:13.034Z"
   },
   {
    "duration": 18,
    "start_time": "2022-04-14T06:27:13.169Z"
   },
   {
    "duration": 45,
    "start_time": "2022-04-14T06:27:13.189Z"
   },
   {
    "duration": 10,
    "start_time": "2022-04-14T06:27:13.236Z"
   },
   {
    "duration": 18,
    "start_time": "2022-04-14T06:27:13.248Z"
   },
   {
    "duration": 63,
    "start_time": "2022-04-14T06:27:13.270Z"
   },
   {
    "duration": 6,
    "start_time": "2022-04-14T06:27:13.335Z"
   },
   {
    "duration": 15,
    "start_time": "2022-04-14T06:27:13.343Z"
   },
   {
    "duration": 76,
    "start_time": "2022-04-14T06:27:13.360Z"
   },
   {
    "duration": 16,
    "start_time": "2022-04-14T06:27:13.438Z"
   },
   {
    "duration": 35,
    "start_time": "2022-04-14T06:27:13.456Z"
   },
   {
    "duration": 7,
    "start_time": "2022-04-14T06:27:13.493Z"
   },
   {
    "duration": 44,
    "start_time": "2022-04-14T06:27:13.503Z"
   },
   {
    "duration": 34,
    "start_time": "2022-04-14T06:27:13.549Z"
   },
   {
    "duration": 78,
    "start_time": "2022-04-14T06:27:13.585Z"
   },
   {
    "duration": 6,
    "start_time": "2022-04-14T06:27:13.665Z"
   },
   {
    "duration": 9,
    "start_time": "2022-04-14T06:27:13.673Z"
   },
   {
    "duration": 8,
    "start_time": "2022-04-14T06:27:13.684Z"
   },
   {
    "duration": 10,
    "start_time": "2022-04-14T06:27:13.694Z"
   },
   {
    "duration": 29,
    "start_time": "2022-04-14T06:27:13.706Z"
   },
   {
    "duration": 6,
    "start_time": "2022-04-14T06:27:13.736Z"
   },
   {
    "duration": 7,
    "start_time": "2022-04-14T06:27:13.744Z"
   },
   {
    "duration": 10,
    "start_time": "2022-04-14T06:27:13.753Z"
   },
   {
    "duration": 10,
    "start_time": "2022-04-14T06:27:13.764Z"
   },
   {
    "duration": 9,
    "start_time": "2022-04-14T06:27:13.775Z"
   },
   {
    "duration": 10,
    "start_time": "2022-04-14T06:27:13.785Z"
   },
   {
    "duration": 38,
    "start_time": "2022-04-14T06:27:13.796Z"
   },
   {
    "duration": 11,
    "start_time": "2022-04-14T06:27:13.836Z"
   },
   {
    "duration": 17,
    "start_time": "2022-04-14T06:27:13.849Z"
   },
   {
    "duration": 69,
    "start_time": "2022-04-14T06:27:13.868Z"
   },
   {
    "duration": 3,
    "start_time": "2022-04-14T06:27:13.939Z"
   },
   {
    "duration": 7,
    "start_time": "2022-04-14T06:27:13.944Z"
   },
   {
    "duration": 34,
    "start_time": "2022-04-14T06:27:13.953Z"
   },
   {
    "duration": 3,
    "start_time": "2022-04-14T06:27:13.988Z"
   },
   {
    "duration": 48,
    "start_time": "2022-04-14T06:27:13.993Z"
   },
   {
    "duration": 2,
    "start_time": "2022-04-14T06:27:14.043Z"
   },
   {
    "duration": 12,
    "start_time": "2022-04-14T06:27:14.048Z"
   },
   {
    "duration": 15,
    "start_time": "2022-04-14T06:27:14.062Z"
   },
   {
    "duration": 13,
    "start_time": "2022-04-14T06:27:14.079Z"
   },
   {
    "duration": 5,
    "start_time": "2022-04-14T06:27:14.094Z"
   },
   {
    "duration": 41,
    "start_time": "2022-04-14T06:27:14.101Z"
   },
   {
    "duration": 12,
    "start_time": "2022-04-14T06:27:14.144Z"
   },
   {
    "duration": 6,
    "start_time": "2022-04-14T06:27:14.157Z"
   },
   {
    "duration": 6,
    "start_time": "2022-04-14T06:27:14.164Z"
   },
   {
    "duration": 8,
    "start_time": "2022-04-14T06:27:14.171Z"
   },
   {
    "duration": 5,
    "start_time": "2022-04-14T06:27:14.181Z"
   },
   {
    "duration": 254,
    "start_time": "2022-04-14T06:27:14.188Z"
   },
   {
    "duration": 8,
    "start_time": "2022-04-14T06:27:14.444Z"
   },
   {
    "duration": 23,
    "start_time": "2022-04-14T06:27:14.454Z"
   },
   {
    "duration": 3,
    "start_time": "2022-04-14T06:27:14.479Z"
   },
   {
    "duration": 19,
    "start_time": "2022-04-14T06:27:14.483Z"
   },
   {
    "duration": 32,
    "start_time": "2022-04-14T06:27:14.503Z"
   },
   {
    "duration": 8,
    "start_time": "2022-04-14T06:27:14.537Z"
   },
   {
    "duration": 246,
    "start_time": "2022-04-14T06:27:14.547Z"
   },
   {
    "duration": 20,
    "start_time": "2022-04-14T06:27:14.795Z"
   },
   {
    "duration": 17,
    "start_time": "2022-04-14T06:27:14.817Z"
   },
   {
    "duration": 16,
    "start_time": "2022-04-14T06:27:14.835Z"
   },
   {
    "duration": 7,
    "start_time": "2022-04-14T06:27:14.853Z"
   },
   {
    "duration": 7,
    "start_time": "2022-04-14T06:27:14.861Z"
   },
   {
    "duration": 246,
    "start_time": "2022-04-14T06:27:14.875Z"
   },
   {
    "duration": 21,
    "start_time": "2022-04-14T06:27:15.123Z"
   },
   {
    "duration": 4,
    "start_time": "2022-04-14T06:27:15.146Z"
   },
   {
    "duration": 20,
    "start_time": "2022-04-14T06:27:15.152Z"
   },
   {
    "duration": 7,
    "start_time": "2022-04-14T06:27:15.174Z"
   },
   {
    "duration": 7,
    "start_time": "2022-04-14T06:27:15.183Z"
   },
   {
    "duration": 249,
    "start_time": "2022-04-14T06:27:15.192Z"
   },
   {
    "duration": 11,
    "start_time": "2022-04-14T06:27:15.443Z"
   },
   {
    "duration": 10,
    "start_time": "2022-04-14T06:28:07.476Z"
   },
   {
    "duration": 219,
    "start_time": "2022-04-14T06:30:33.411Z"
   },
   {
    "duration": 422,
    "start_time": "2022-04-14T06:31:56.690Z"
   },
   {
    "duration": 425,
    "start_time": "2022-04-14T06:40:12.150Z"
   },
   {
    "duration": 327,
    "start_time": "2022-04-14T06:42:57.632Z"
   },
   {
    "duration": 215,
    "start_time": "2022-04-14T06:45:28.315Z"
   },
   {
    "duration": 410,
    "start_time": "2022-04-14T06:46:09.472Z"
   },
   {
    "duration": 414,
    "start_time": "2022-04-14T06:46:56.005Z"
   },
   {
    "duration": 425,
    "start_time": "2022-04-14T06:47:03.643Z"
   },
   {
    "duration": 400,
    "start_time": "2022-04-14T06:47:09.344Z"
   },
   {
    "duration": 413,
    "start_time": "2022-04-14T06:47:40.236Z"
   },
   {
    "duration": 411,
    "start_time": "2022-04-14T06:48:06.642Z"
   },
   {
    "duration": 423,
    "start_time": "2022-04-14T06:51:49.785Z"
   },
   {
    "duration": 424,
    "start_time": "2022-04-14T06:52:45.495Z"
   },
   {
    "duration": 665,
    "start_time": "2022-04-14T06:52:55.616Z"
   },
   {
    "duration": 206,
    "start_time": "2022-04-14T06:53:12.266Z"
   },
   {
    "duration": 228,
    "start_time": "2022-04-14T06:53:48.073Z"
   },
   {
    "duration": 19,
    "start_time": "2022-04-14T07:24:49.065Z"
   },
   {
    "duration": 3,
    "start_time": "2022-04-14T07:24:54.528Z"
   },
   {
    "duration": 17,
    "start_time": "2022-04-14T07:24:55.445Z"
   },
   {
    "duration": 38,
    "start_time": "2022-04-14T07:27:28.367Z"
   },
   {
    "duration": 20,
    "start_time": "2022-04-14T07:36:26.801Z"
   },
   {
    "duration": 17,
    "start_time": "2022-04-14T07:37:16.910Z"
   },
   {
    "duration": 156,
    "start_time": "2022-04-14T07:38:00.338Z"
   },
   {
    "duration": 143,
    "start_time": "2022-04-14T07:38:11.930Z"
   },
   {
    "duration": 133,
    "start_time": "2022-04-14T07:51:06.817Z"
   },
   {
    "duration": 138,
    "start_time": "2022-04-14T07:51:41.175Z"
   },
   {
    "duration": 1782,
    "start_time": "2022-04-14T10:45:24.963Z"
   },
   {
    "duration": 204,
    "start_time": "2022-04-14T10:45:26.748Z"
   },
   {
    "duration": 200,
    "start_time": "2022-04-14T10:45:26.955Z"
   },
   {
    "duration": 158,
    "start_time": "2022-04-14T10:45:27.159Z"
   },
   {
    "duration": 12,
    "start_time": "2022-04-14T10:45:27.319Z"
   },
   {
    "duration": 29,
    "start_time": "2022-04-14T10:45:27.333Z"
   },
   {
    "duration": 26,
    "start_time": "2022-04-14T10:45:27.364Z"
   },
   {
    "duration": 40,
    "start_time": "2022-04-14T10:45:27.393Z"
   },
   {
    "duration": 17,
    "start_time": "2022-04-14T10:45:27.436Z"
   },
   {
    "duration": 41,
    "start_time": "2022-04-14T10:45:27.458Z"
   },
   {
    "duration": 10,
    "start_time": "2022-04-14T10:45:27.502Z"
   },
   {
    "duration": 43,
    "start_time": "2022-04-14T10:45:27.515Z"
   },
   {
    "duration": 17,
    "start_time": "2022-04-14T10:45:27.561Z"
   },
   {
    "duration": 29,
    "start_time": "2022-04-14T10:45:27.580Z"
   },
   {
    "duration": 39,
    "start_time": "2022-04-14T10:45:27.611Z"
   },
   {
    "duration": 48,
    "start_time": "2022-04-14T10:45:27.653Z"
   },
   {
    "duration": 50,
    "start_time": "2022-04-14T10:45:27.705Z"
   },
   {
    "duration": 125,
    "start_time": "2022-04-14T10:45:27.758Z"
   },
   {
    "duration": 39,
    "start_time": "2022-04-14T10:45:27.885Z"
   },
   {
    "duration": 98,
    "start_time": "2022-04-14T10:45:27.927Z"
   },
   {
    "duration": 28,
    "start_time": "2022-04-14T10:45:28.027Z"
   },
   {
    "duration": 9,
    "start_time": "2022-04-14T10:45:28.057Z"
   },
   {
    "duration": 194,
    "start_time": "2022-04-14T10:45:28.068Z"
   },
   {
    "duration": 37,
    "start_time": "2022-04-14T10:45:28.265Z"
   },
   {
    "duration": 78,
    "start_time": "2022-04-14T10:45:28.304Z"
   },
   {
    "duration": 17,
    "start_time": "2022-04-14T10:45:28.384Z"
   },
   {
    "duration": 56,
    "start_time": "2022-04-14T10:45:28.403Z"
   },
   {
    "duration": 99,
    "start_time": "2022-04-14T10:45:28.470Z"
   },
   {
    "duration": 11,
    "start_time": "2022-04-14T10:45:28.572Z"
   },
   {
    "duration": 17,
    "start_time": "2022-04-14T10:45:28.585Z"
   },
   {
    "duration": 108,
    "start_time": "2022-04-14T10:45:28.605Z"
   },
   {
    "duration": 37,
    "start_time": "2022-04-14T10:45:28.716Z"
   },
   {
    "duration": 52,
    "start_time": "2022-04-14T10:45:28.756Z"
   },
   {
    "duration": 7,
    "start_time": "2022-04-14T10:45:28.811Z"
   },
   {
    "duration": 46,
    "start_time": "2022-04-14T10:45:28.820Z"
   },
   {
    "duration": 45,
    "start_time": "2022-04-14T10:45:28.868Z"
   },
   {
    "duration": 92,
    "start_time": "2022-04-14T10:45:28.916Z"
   },
   {
    "duration": 9,
    "start_time": "2022-04-14T10:45:29.011Z"
   },
   {
    "duration": 30,
    "start_time": "2022-04-14T10:45:29.023Z"
   },
   {
    "duration": 7,
    "start_time": "2022-04-14T10:45:29.055Z"
   },
   {
    "duration": 10,
    "start_time": "2022-04-14T10:45:29.065Z"
   },
   {
    "duration": 10,
    "start_time": "2022-04-14T10:45:29.078Z"
   },
   {
    "duration": 12,
    "start_time": "2022-04-14T10:45:29.091Z"
   },
   {
    "duration": 52,
    "start_time": "2022-04-14T10:45:29.106Z"
   },
   {
    "duration": 18,
    "start_time": "2022-04-14T10:45:29.161Z"
   },
   {
    "duration": 14,
    "start_time": "2022-04-14T10:45:29.182Z"
   },
   {
    "duration": 13,
    "start_time": "2022-04-14T10:45:29.198Z"
   },
   {
    "duration": 43,
    "start_time": "2022-04-14T10:45:29.213Z"
   },
   {
    "duration": 8,
    "start_time": "2022-04-14T10:45:29.258Z"
   },
   {
    "duration": 11,
    "start_time": "2022-04-14T10:45:29.268Z"
   },
   {
    "duration": 9,
    "start_time": "2022-04-14T10:45:29.281Z"
   },
   {
    "duration": 191,
    "start_time": "2022-04-14T10:45:29.292Z"
   },
   {
    "duration": 4,
    "start_time": "2022-04-14T10:45:29.486Z"
   },
   {
    "duration": 9,
    "start_time": "2022-04-14T10:45:29.493Z"
   },
   {
    "duration": 70,
    "start_time": "2022-04-14T10:45:29.505Z"
   },
   {
    "duration": 5,
    "start_time": "2022-04-14T10:45:29.577Z"
   },
   {
    "duration": 49,
    "start_time": "2022-04-14T10:45:29.584Z"
   },
   {
    "duration": 17,
    "start_time": "2022-04-14T10:45:29.635Z"
   },
   {
    "duration": 18,
    "start_time": "2022-04-14T10:45:29.655Z"
   },
   {
    "duration": 14,
    "start_time": "2022-04-14T10:45:29.675Z"
   },
   {
    "duration": 16,
    "start_time": "2022-04-14T10:45:29.691Z"
   },
   {
    "duration": 5,
    "start_time": "2022-04-14T10:45:29.709Z"
   },
   {
    "duration": 15,
    "start_time": "2022-04-14T10:45:29.752Z"
   },
   {
    "duration": 17,
    "start_time": "2022-04-14T10:45:29.769Z"
   },
   {
    "duration": 5,
    "start_time": "2022-04-14T10:45:29.789Z"
   },
   {
    "duration": 7,
    "start_time": "2022-04-14T10:45:29.796Z"
   },
   {
    "duration": 51,
    "start_time": "2022-04-14T10:45:29.805Z"
   },
   {
    "duration": 17,
    "start_time": "2022-04-14T10:45:29.858Z"
   },
   {
    "duration": 436,
    "start_time": "2022-04-14T10:45:29.877Z"
   },
   {
    "duration": 10,
    "start_time": "2022-04-14T10:45:30.315Z"
   },
   {
    "duration": 30,
    "start_time": "2022-04-14T10:45:30.328Z"
   },
   {
    "duration": 35,
    "start_time": "2022-04-14T10:45:30.360Z"
   },
   {
    "duration": 39,
    "start_time": "2022-04-14T10:45:30.397Z"
   },
   {
    "duration": 455,
    "start_time": "2022-04-14T10:45:30.439Z"
   },
   {
    "duration": 12,
    "start_time": "2022-04-14T10:45:30.896Z"
   },
   {
    "duration": 27,
    "start_time": "2022-04-14T10:45:30.912Z"
   },
   {
    "duration": 284,
    "start_time": "2022-04-14T10:45:41.647Z"
   },
   {
    "duration": 226,
    "start_time": "2022-04-14T10:46:13.043Z"
   },
   {
    "duration": 222,
    "start_time": "2022-04-14T10:46:23.593Z"
   },
   {
    "duration": 372,
    "start_time": "2022-04-14T10:46:39.993Z"
   },
   {
    "duration": 239,
    "start_time": "2022-04-14T10:46:51.424Z"
   },
   {
    "duration": 23,
    "start_time": "2022-04-14T10:56:05.765Z"
   },
   {
    "duration": 354,
    "start_time": "2022-04-14T10:56:59.265Z"
   },
   {
    "duration": 409,
    "start_time": "2022-04-14T10:59:08.633Z"
   },
   {
    "duration": 323,
    "start_time": "2022-04-14T11:01:37.589Z"
   },
   {
    "duration": 20,
    "start_time": "2022-04-14T11:11:00.788Z"
   },
   {
    "duration": 13,
    "start_time": "2022-04-14T11:11:11.410Z"
   },
   {
    "duration": 342,
    "start_time": "2022-04-14T11:13:10.941Z"
   },
   {
    "duration": 311,
    "start_time": "2022-04-14T11:17:55.394Z"
   },
   {
    "duration": 140,
    "start_time": "2022-04-14T11:18:31.212Z"
   },
   {
    "duration": 10,
    "start_time": "2022-04-14T11:18:37.841Z"
   },
   {
    "duration": 352,
    "start_time": "2022-04-14T11:21:51.323Z"
   },
   {
    "duration": 367,
    "start_time": "2022-04-14T11:23:13.942Z"
   },
   {
    "duration": 11,
    "start_time": "2022-04-14T11:23:45.079Z"
   },
   {
    "duration": 4,
    "start_time": "2022-04-14T11:25:35.632Z"
   },
   {
    "duration": 250,
    "start_time": "2022-04-14T11:25:35.638Z"
   },
   {
    "duration": 211,
    "start_time": "2022-04-14T11:25:35.892Z"
   },
   {
    "duration": 114,
    "start_time": "2022-04-14T11:25:36.105Z"
   },
   {
    "duration": 11,
    "start_time": "2022-04-14T11:25:36.222Z"
   },
   {
    "duration": 21,
    "start_time": "2022-04-14T11:25:36.235Z"
   },
   {
    "duration": 21,
    "start_time": "2022-04-14T11:25:36.259Z"
   },
   {
    "duration": 34,
    "start_time": "2022-04-14T11:25:36.283Z"
   },
   {
    "duration": 35,
    "start_time": "2022-04-14T11:25:36.320Z"
   },
   {
    "duration": 33,
    "start_time": "2022-04-14T11:25:36.358Z"
   },
   {
    "duration": 11,
    "start_time": "2022-04-14T11:25:36.398Z"
   },
   {
    "duration": 60,
    "start_time": "2022-04-14T11:25:36.412Z"
   },
   {
    "duration": 14,
    "start_time": "2022-04-14T11:25:36.475Z"
   },
   {
    "duration": 17,
    "start_time": "2022-04-14T11:25:36.491Z"
   },
   {
    "duration": 49,
    "start_time": "2022-04-14T11:25:36.510Z"
   },
   {
    "duration": 25,
    "start_time": "2022-04-14T11:25:36.561Z"
   },
   {
    "duration": 45,
    "start_time": "2022-04-14T11:25:36.588Z"
   },
   {
    "duration": 86,
    "start_time": "2022-04-14T11:25:36.635Z"
   },
   {
    "duration": 39,
    "start_time": "2022-04-14T11:25:36.723Z"
   },
   {
    "duration": 73,
    "start_time": "2022-04-14T11:25:36.765Z"
   },
   {
    "duration": 15,
    "start_time": "2022-04-14T11:25:36.861Z"
   },
   {
    "duration": 7,
    "start_time": "2022-04-14T11:25:36.878Z"
   },
   {
    "duration": 181,
    "start_time": "2022-04-14T11:25:36.887Z"
   },
   {
    "duration": 27,
    "start_time": "2022-04-14T11:25:37.070Z"
   },
   {
    "duration": 64,
    "start_time": "2022-04-14T11:25:37.099Z"
   },
   {
    "duration": 14,
    "start_time": "2022-04-14T11:25:37.166Z"
   },
   {
    "duration": 23,
    "start_time": "2022-04-14T11:25:37.182Z"
   },
   {
    "duration": 83,
    "start_time": "2022-04-14T11:25:37.207Z"
   },
   {
    "duration": 9,
    "start_time": "2022-04-14T11:25:37.297Z"
   },
   {
    "duration": 16,
    "start_time": "2022-04-14T11:25:37.309Z"
   },
   {
    "duration": 108,
    "start_time": "2022-04-14T11:25:37.327Z"
   },
   {
    "duration": 34,
    "start_time": "2022-04-14T11:25:37.437Z"
   },
   {
    "duration": 36,
    "start_time": "2022-04-14T11:25:37.473Z"
   },
   {
    "duration": 7,
    "start_time": "2022-04-14T11:25:37.511Z"
   },
   {
    "duration": 24,
    "start_time": "2022-04-14T11:25:37.559Z"
   },
   {
    "duration": 44,
    "start_time": "2022-04-14T11:25:37.585Z"
   },
   {
    "duration": 84,
    "start_time": "2022-04-14T11:25:37.631Z"
   },
   {
    "duration": 9,
    "start_time": "2022-04-14T11:25:37.717Z"
   },
   {
    "duration": 31,
    "start_time": "2022-04-14T11:25:37.728Z"
   },
   {
    "duration": 20,
    "start_time": "2022-04-14T11:25:37.761Z"
   },
   {
    "duration": 9,
    "start_time": "2022-04-14T11:25:37.783Z"
   },
   {
    "duration": 19,
    "start_time": "2022-04-14T11:25:37.794Z"
   },
   {
    "duration": 12,
    "start_time": "2022-04-14T11:25:37.815Z"
   },
   {
    "duration": 32,
    "start_time": "2022-04-14T11:25:37.829Z"
   },
   {
    "duration": 12,
    "start_time": "2022-04-14T11:25:37.864Z"
   },
   {
    "duration": 11,
    "start_time": "2022-04-14T11:25:37.878Z"
   },
   {
    "duration": 15,
    "start_time": "2022-04-14T11:25:37.891Z"
   },
   {
    "duration": 10,
    "start_time": "2022-04-14T11:25:37.908Z"
   },
   {
    "duration": 37,
    "start_time": "2022-04-14T11:25:37.919Z"
   },
   {
    "duration": 26,
    "start_time": "2022-04-14T11:25:37.959Z"
   },
   {
    "duration": 13,
    "start_time": "2022-04-14T11:25:37.987Z"
   },
   {
    "duration": 81,
    "start_time": "2022-04-14T11:25:38.002Z"
   },
   {
    "duration": 5,
    "start_time": "2022-04-14T11:25:38.086Z"
   },
   {
    "duration": 9,
    "start_time": "2022-04-14T11:25:38.093Z"
   },
   {
    "duration": 65,
    "start_time": "2022-04-14T11:25:38.104Z"
   },
   {
    "duration": 4,
    "start_time": "2022-04-14T11:25:38.171Z"
   },
   {
    "duration": 45,
    "start_time": "2022-04-14T11:25:38.177Z"
   },
   {
    "duration": 4,
    "start_time": "2022-04-14T11:25:38.225Z"
   },
   {
    "duration": 35,
    "start_time": "2022-04-14T11:25:38.231Z"
   },
   {
    "duration": 33,
    "start_time": "2022-04-14T11:25:38.268Z"
   },
   {
    "duration": 16,
    "start_time": "2022-04-14T11:25:38.304Z"
   },
   {
    "duration": 18,
    "start_time": "2022-04-14T11:25:38.322Z"
   },
   {
    "duration": 36,
    "start_time": "2022-04-14T11:25:38.342Z"
   },
   {
    "duration": 24,
    "start_time": "2022-04-14T11:25:38.380Z"
   },
   {
    "duration": 19,
    "start_time": "2022-04-14T11:25:38.407Z"
   },
   {
    "duration": 9,
    "start_time": "2022-04-14T11:25:38.428Z"
   },
   {
    "duration": 35,
    "start_time": "2022-04-14T11:25:38.439Z"
   },
   {
    "duration": 26,
    "start_time": "2022-04-14T11:25:38.476Z"
   },
   {
    "duration": 464,
    "start_time": "2022-04-14T11:25:38.504Z"
   },
   {
    "duration": 10,
    "start_time": "2022-04-14T11:25:38.970Z"
   },
   {
    "duration": 19,
    "start_time": "2022-04-14T11:25:38.982Z"
   },
   {
    "duration": 29,
    "start_time": "2022-04-14T11:25:39.003Z"
   },
   {
    "duration": 371,
    "start_time": "2022-04-14T11:25:39.034Z"
   },
   {
    "duration": 13,
    "start_time": "2022-04-14T11:25:39.408Z"
   },
   {
    "duration": 0,
    "start_time": "2022-04-14T11:25:39.424Z"
   },
   {
    "duration": 0,
    "start_time": "2022-04-14T11:25:39.425Z"
   },
   {
    "duration": 0,
    "start_time": "2022-04-14T11:25:39.427Z"
   },
   {
    "duration": 0,
    "start_time": "2022-04-14T11:25:39.456Z"
   },
   {
    "duration": 0,
    "start_time": "2022-04-14T11:25:39.458Z"
   },
   {
    "duration": 0,
    "start_time": "2022-04-14T11:25:39.460Z"
   },
   {
    "duration": 0,
    "start_time": "2022-04-14T11:25:39.462Z"
   },
   {
    "duration": 0,
    "start_time": "2022-04-14T11:25:39.464Z"
   },
   {
    "duration": 0,
    "start_time": "2022-04-14T11:25:39.466Z"
   },
   {
    "duration": 11,
    "start_time": "2022-04-14T11:29:51.995Z"
   },
   {
    "duration": 12,
    "start_time": "2022-04-14T11:30:42.392Z"
   },
   {
    "duration": 23,
    "start_time": "2022-04-14T11:30:51.641Z"
   },
   {
    "duration": 355,
    "start_time": "2022-04-14T11:30:52.294Z"
   },
   {
    "duration": 4,
    "start_time": "2022-04-14T11:30:56.765Z"
   },
   {
    "duration": 3432,
    "start_time": "2022-04-14T11:30:59.223Z"
   },
   {
    "duration": 0,
    "start_time": "2022-04-14T11:31:02.657Z"
   },
   {
    "duration": 19,
    "start_time": "2022-04-14T11:31:58.604Z"
   },
   {
    "duration": 11,
    "start_time": "2022-04-14T11:32:05.098Z"
   },
   {
    "duration": 10,
    "start_time": "2022-04-14T11:32:13.303Z"
   },
   {
    "duration": 24,
    "start_time": "2022-04-14T11:32:17.907Z"
   },
   {
    "duration": 6,
    "start_time": "2022-04-14T11:33:17.508Z"
   },
   {
    "duration": 7,
    "start_time": "2022-04-14T11:33:18.821Z"
   },
   {
    "duration": 5,
    "start_time": "2022-04-14T11:37:23.225Z"
   },
   {
    "duration": 280,
    "start_time": "2022-04-14T11:37:23.233Z"
   },
   {
    "duration": 244,
    "start_time": "2022-04-14T11:37:23.515Z"
   },
   {
    "duration": 168,
    "start_time": "2022-04-14T11:37:23.763Z"
   },
   {
    "duration": 20,
    "start_time": "2022-04-14T11:37:23.934Z"
   },
   {
    "duration": 19,
    "start_time": "2022-04-14T11:37:23.957Z"
   },
   {
    "duration": 14,
    "start_time": "2022-04-14T11:37:23.979Z"
   },
   {
    "duration": 42,
    "start_time": "2022-04-14T11:37:23.995Z"
   },
   {
    "duration": 35,
    "start_time": "2022-04-14T11:37:24.042Z"
   },
   {
    "duration": 59,
    "start_time": "2022-04-14T11:37:24.080Z"
   },
   {
    "duration": 22,
    "start_time": "2022-04-14T11:37:24.142Z"
   },
   {
    "duration": 40,
    "start_time": "2022-04-14T11:37:24.167Z"
   },
   {
    "duration": 19,
    "start_time": "2022-04-14T11:37:24.209Z"
   },
   {
    "duration": 38,
    "start_time": "2022-04-14T11:37:24.231Z"
   },
   {
    "duration": 19,
    "start_time": "2022-04-14T11:37:24.271Z"
   },
   {
    "duration": 27,
    "start_time": "2022-04-14T11:37:24.292Z"
   },
   {
    "duration": 48,
    "start_time": "2022-04-14T11:37:24.321Z"
   },
   {
    "duration": 98,
    "start_time": "2022-04-14T11:37:24.372Z"
   },
   {
    "duration": 31,
    "start_time": "2022-04-14T11:37:24.472Z"
   },
   {
    "duration": 106,
    "start_time": "2022-04-14T11:37:24.506Z"
   },
   {
    "duration": 12,
    "start_time": "2022-04-14T11:37:24.614Z"
   },
   {
    "duration": 12,
    "start_time": "2022-04-14T11:37:24.629Z"
   },
   {
    "duration": 165,
    "start_time": "2022-04-14T11:37:24.657Z"
   },
   {
    "duration": 36,
    "start_time": "2022-04-14T11:37:24.830Z"
   },
   {
    "duration": 49,
    "start_time": "2022-04-14T11:37:24.868Z"
   },
   {
    "duration": 13,
    "start_time": "2022-04-14T11:37:24.919Z"
   },
   {
    "duration": 41,
    "start_time": "2022-04-14T11:37:24.934Z"
   },
   {
    "duration": 88,
    "start_time": "2022-04-14T11:37:24.977Z"
   },
   {
    "duration": 10,
    "start_time": "2022-04-14T11:37:25.068Z"
   },
   {
    "duration": 23,
    "start_time": "2022-04-14T11:37:25.081Z"
   },
   {
    "duration": 92,
    "start_time": "2022-04-14T11:37:25.106Z"
   },
   {
    "duration": 19,
    "start_time": "2022-04-14T11:37:25.200Z"
   },
   {
    "duration": 69,
    "start_time": "2022-04-14T11:37:25.221Z"
   },
   {
    "duration": 8,
    "start_time": "2022-04-14T11:37:25.293Z"
   },
   {
    "duration": 26,
    "start_time": "2022-04-14T11:37:25.302Z"
   },
   {
    "duration": 69,
    "start_time": "2022-04-14T11:37:25.330Z"
   },
   {
    "duration": 79,
    "start_time": "2022-04-14T11:37:25.402Z"
   },
   {
    "duration": 8,
    "start_time": "2022-04-14T11:37:25.483Z"
   },
   {
    "duration": 29,
    "start_time": "2022-04-14T11:37:25.493Z"
   },
   {
    "duration": 66,
    "start_time": "2022-04-14T11:37:25.524Z"
   },
   {
    "duration": 16,
    "start_time": "2022-04-14T11:37:25.593Z"
   },
   {
    "duration": 60,
    "start_time": "2022-04-14T11:37:25.611Z"
   },
   {
    "duration": 19,
    "start_time": "2022-04-14T11:37:25.673Z"
   },
   {
    "duration": 15,
    "start_time": "2022-04-14T11:37:25.694Z"
   },
   {
    "duration": 28,
    "start_time": "2022-04-14T11:37:25.711Z"
   },
   {
    "duration": 19,
    "start_time": "2022-04-14T11:37:25.742Z"
   },
   {
    "duration": 30,
    "start_time": "2022-04-14T11:37:25.764Z"
   },
   {
    "duration": 14,
    "start_time": "2022-04-14T11:37:25.797Z"
   },
   {
    "duration": 24,
    "start_time": "2022-04-14T11:37:25.813Z"
   },
   {
    "duration": 52,
    "start_time": "2022-04-14T11:37:25.840Z"
   },
   {
    "duration": 22,
    "start_time": "2022-04-14T11:37:25.894Z"
   },
   {
    "duration": 96,
    "start_time": "2022-04-14T11:37:25.918Z"
   },
   {
    "duration": 4,
    "start_time": "2022-04-14T11:37:26.016Z"
   },
   {
    "duration": 16,
    "start_time": "2022-04-14T11:37:26.023Z"
   },
   {
    "duration": 80,
    "start_time": "2022-04-14T11:37:26.042Z"
   },
   {
    "duration": 4,
    "start_time": "2022-04-14T11:37:26.125Z"
   },
   {
    "duration": 55,
    "start_time": "2022-04-14T11:37:26.131Z"
   },
   {
    "duration": 4,
    "start_time": "2022-04-14T11:37:26.188Z"
   },
   {
    "duration": 19,
    "start_time": "2022-04-14T11:37:26.194Z"
   },
   {
    "duration": 22,
    "start_time": "2022-04-14T11:37:26.215Z"
   },
   {
    "duration": 19,
    "start_time": "2022-04-14T11:37:26.252Z"
   },
   {
    "duration": 10,
    "start_time": "2022-04-14T11:37:26.273Z"
   },
   {
    "duration": 35,
    "start_time": "2022-04-14T11:37:26.285Z"
   },
   {
    "duration": 42,
    "start_time": "2022-04-14T11:37:26.323Z"
   },
   {
    "duration": 20,
    "start_time": "2022-04-14T11:37:26.368Z"
   },
   {
    "duration": 27,
    "start_time": "2022-04-14T11:37:26.391Z"
   },
   {
    "duration": 24,
    "start_time": "2022-04-14T11:37:26.420Z"
   },
   {
    "duration": 20,
    "start_time": "2022-04-14T11:37:26.446Z"
   },
   {
    "duration": 508,
    "start_time": "2022-04-14T11:37:26.477Z"
   },
   {
    "duration": 10,
    "start_time": "2022-04-14T11:37:26.987Z"
   },
   {
    "duration": 19,
    "start_time": "2022-04-14T11:37:26.999Z"
   },
   {
    "duration": 362,
    "start_time": "2022-04-14T11:37:27.020Z"
   },
   {
    "duration": 4,
    "start_time": "2022-04-14T11:37:27.384Z"
   },
   {
    "duration": 24,
    "start_time": "2022-04-14T11:37:27.390Z"
   },
   {
    "duration": 8,
    "start_time": "2022-04-14T11:37:27.417Z"
   },
   {
    "duration": 37,
    "start_time": "2022-04-14T11:37:27.428Z"
   },
   {
    "duration": 19,
    "start_time": "2022-04-14T11:37:27.468Z"
   },
   {
    "duration": 346,
    "start_time": "2022-04-14T11:37:27.489Z"
   },
   {
    "duration": 15,
    "start_time": "2022-04-14T11:37:27.837Z"
   },
   {
    "duration": 26,
    "start_time": "2022-04-14T11:37:27.855Z"
   },
   {
    "duration": 8,
    "start_time": "2022-04-14T11:37:27.884Z"
   },
   {
    "duration": 11,
    "start_time": "2022-04-14T11:37:27.895Z"
   },
   {
    "duration": 388,
    "start_time": "2022-04-14T11:37:27.908Z"
   },
   {
    "duration": 5,
    "start_time": "2022-04-14T11:37:28.299Z"
   },
   {
    "duration": 33,
    "start_time": "2022-04-14T11:37:28.306Z"
   },
   {
    "duration": 2688,
    "start_time": "2022-04-14T11:37:28.342Z"
   },
   {
    "duration": 0,
    "start_time": "2022-04-14T11:37:31.032Z"
   },
   {
    "duration": 46,
    "start_time": "2022-04-14T14:54:49.021Z"
   },
   {
    "duration": 1250,
    "start_time": "2022-04-15T07:06:08.467Z"
   },
   {
    "duration": 143,
    "start_time": "2022-04-15T07:06:09.719Z"
   },
   {
    "duration": 123,
    "start_time": "2022-04-15T07:06:09.864Z"
   },
   {
    "duration": 82,
    "start_time": "2022-04-15T07:06:09.989Z"
   },
   {
    "duration": 16,
    "start_time": "2022-04-15T07:06:10.073Z"
   },
   {
    "duration": 29,
    "start_time": "2022-04-15T07:06:10.090Z"
   },
   {
    "duration": 12,
    "start_time": "2022-04-15T07:06:10.120Z"
   },
   {
    "duration": 34,
    "start_time": "2022-04-15T07:06:10.134Z"
   },
   {
    "duration": 11,
    "start_time": "2022-04-15T07:06:10.170Z"
   },
   {
    "duration": 33,
    "start_time": "2022-04-15T07:06:10.184Z"
   },
   {
    "duration": 8,
    "start_time": "2022-04-15T07:06:10.219Z"
   },
   {
    "duration": 31,
    "start_time": "2022-04-15T07:06:10.229Z"
   },
   {
    "duration": 10,
    "start_time": "2022-04-15T07:06:10.261Z"
   },
   {
    "duration": 24,
    "start_time": "2022-04-15T07:06:10.273Z"
   },
   {
    "duration": 21,
    "start_time": "2022-04-15T07:06:10.298Z"
   },
   {
    "duration": 36,
    "start_time": "2022-04-15T07:06:10.320Z"
   },
   {
    "duration": 36,
    "start_time": "2022-04-15T07:06:10.358Z"
   },
   {
    "duration": 68,
    "start_time": "2022-04-15T07:06:10.395Z"
   },
   {
    "duration": 22,
    "start_time": "2022-04-15T07:06:10.464Z"
   },
   {
    "duration": 76,
    "start_time": "2022-04-15T07:06:10.487Z"
   },
   {
    "duration": 10,
    "start_time": "2022-04-15T07:06:10.565Z"
   },
   {
    "duration": 29,
    "start_time": "2022-04-15T07:06:10.577Z"
   },
   {
    "duration": 123,
    "start_time": "2022-04-15T07:06:10.607Z"
   },
   {
    "duration": 17,
    "start_time": "2022-04-15T07:06:10.732Z"
   },
   {
    "duration": 37,
    "start_time": "2022-04-15T07:06:10.750Z"
   },
   {
    "duration": 13,
    "start_time": "2022-04-15T07:06:10.788Z"
   },
   {
    "duration": 26,
    "start_time": "2022-04-15T07:06:10.802Z"
   },
   {
    "duration": 47,
    "start_time": "2022-04-15T07:06:10.832Z"
   },
   {
    "duration": 5,
    "start_time": "2022-04-15T07:06:10.881Z"
   },
   {
    "duration": 22,
    "start_time": "2022-04-15T07:06:10.888Z"
   },
   {
    "duration": 52,
    "start_time": "2022-04-15T07:06:10.912Z"
   },
   {
    "duration": 14,
    "start_time": "2022-04-15T07:06:10.966Z"
   },
   {
    "duration": 47,
    "start_time": "2022-04-15T07:06:10.981Z"
   },
   {
    "duration": 6,
    "start_time": "2022-04-15T07:06:11.030Z"
   },
   {
    "duration": 17,
    "start_time": "2022-04-15T07:06:11.037Z"
   },
   {
    "duration": 45,
    "start_time": "2022-04-15T07:06:11.055Z"
   },
   {
    "duration": 41,
    "start_time": "2022-04-15T07:06:11.101Z"
   },
   {
    "duration": 5,
    "start_time": "2022-04-15T07:06:11.144Z"
   },
   {
    "duration": 16,
    "start_time": "2022-04-15T07:06:11.151Z"
   },
   {
    "duration": 33,
    "start_time": "2022-04-15T07:06:11.168Z"
   },
   {
    "duration": 26,
    "start_time": "2022-04-15T07:06:11.203Z"
   },
   {
    "duration": 23,
    "start_time": "2022-04-15T07:06:11.231Z"
   },
   {
    "duration": 17,
    "start_time": "2022-04-15T07:06:11.255Z"
   },
   {
    "duration": 25,
    "start_time": "2022-04-15T07:06:11.274Z"
   },
   {
    "duration": 20,
    "start_time": "2022-04-15T07:06:11.300Z"
   },
   {
    "duration": 24,
    "start_time": "2022-04-15T07:06:11.322Z"
   },
   {
    "duration": 28,
    "start_time": "2022-04-15T07:06:11.347Z"
   },
   {
    "duration": 17,
    "start_time": "2022-04-15T07:06:11.376Z"
   },
   {
    "duration": 32,
    "start_time": "2022-04-15T07:06:11.395Z"
   },
   {
    "duration": 19,
    "start_time": "2022-04-15T07:06:11.429Z"
   },
   {
    "duration": 30,
    "start_time": "2022-04-15T07:06:11.450Z"
   },
   {
    "duration": 61,
    "start_time": "2022-04-15T07:06:11.481Z"
   },
   {
    "duration": 3,
    "start_time": "2022-04-15T07:06:11.543Z"
   },
   {
    "duration": 19,
    "start_time": "2022-04-15T07:06:11.547Z"
   },
   {
    "duration": 42,
    "start_time": "2022-04-15T07:06:11.568Z"
   },
   {
    "duration": 4,
    "start_time": "2022-04-15T07:06:11.612Z"
   },
   {
    "duration": 35,
    "start_time": "2022-04-15T07:06:11.618Z"
   },
   {
    "duration": 5,
    "start_time": "2022-04-15T07:06:11.655Z"
   },
   {
    "duration": 19,
    "start_time": "2022-04-15T07:06:11.661Z"
   },
   {
    "duration": 14,
    "start_time": "2022-04-15T07:06:11.681Z"
   },
   {
    "duration": 24,
    "start_time": "2022-04-15T07:06:11.697Z"
   },
   {
    "duration": 14,
    "start_time": "2022-04-15T07:06:11.722Z"
   },
   {
    "duration": 19,
    "start_time": "2022-04-15T07:06:11.737Z"
   },
   {
    "duration": 23,
    "start_time": "2022-04-15T07:06:11.758Z"
   },
   {
    "duration": 17,
    "start_time": "2022-04-15T07:06:11.783Z"
   },
   {
    "duration": 21,
    "start_time": "2022-04-15T07:06:11.802Z"
   },
   {
    "duration": 21,
    "start_time": "2022-04-15T07:06:11.825Z"
   },
   {
    "duration": 23,
    "start_time": "2022-04-15T07:06:11.848Z"
   },
   {
    "duration": 239,
    "start_time": "2022-04-15T07:06:11.872Z"
   },
   {
    "duration": 11,
    "start_time": "2022-04-15T07:06:12.113Z"
   },
   {
    "duration": 35,
    "start_time": "2022-04-15T07:06:12.126Z"
   },
   {
    "duration": 199,
    "start_time": "2022-04-15T07:06:12.163Z"
   },
   {
    "duration": 3,
    "start_time": "2022-04-15T07:06:12.363Z"
   },
   {
    "duration": 29,
    "start_time": "2022-04-15T07:06:12.368Z"
   },
   {
    "duration": 4,
    "start_time": "2022-04-15T07:06:12.399Z"
   },
   {
    "duration": 5,
    "start_time": "2022-04-15T07:06:12.405Z"
   },
   {
    "duration": 16,
    "start_time": "2022-04-15T07:06:12.412Z"
   },
   {
    "duration": 195,
    "start_time": "2022-04-15T07:06:12.429Z"
   },
   {
    "duration": 3,
    "start_time": "2022-04-15T07:06:12.626Z"
   },
   {
    "duration": 16,
    "start_time": "2022-04-15T07:06:12.630Z"
   },
   {
    "duration": 6,
    "start_time": "2022-04-15T07:06:12.648Z"
   },
   {
    "duration": 5,
    "start_time": "2022-04-15T07:06:12.659Z"
   },
   {
    "duration": 210,
    "start_time": "2022-04-15T07:06:12.665Z"
   },
   {
    "duration": 4,
    "start_time": "2022-04-15T07:06:12.876Z"
   },
   {
    "duration": 14,
    "start_time": "2022-04-15T07:06:12.881Z"
   },
   {
    "duration": 2688,
    "start_time": "2022-04-15T07:06:12.897Z"
   },
   {
    "duration": 0,
    "start_time": "2022-04-15T07:06:15.586Z"
   },
   {
    "duration": 4,
    "start_time": "2022-04-15T07:06:32.101Z"
   },
   {
    "duration": 5,
    "start_time": "2022-04-15T07:06:33.167Z"
   },
   {
    "duration": 16,
    "start_time": "2022-04-15T07:11:44.850Z"
   },
   {
    "duration": 536,
    "start_time": "2022-04-15T07:14:12.336Z"
   },
   {
    "duration": 20,
    "start_time": "2022-04-15T07:34:48.301Z"
   },
   {
    "duration": 19,
    "start_time": "2022-04-15T07:35:30.987Z"
   },
   {
    "duration": 3,
    "start_time": "2022-04-15T07:36:29.186Z"
   },
   {
    "duration": 6,
    "start_time": "2022-04-15T07:39:15.436Z"
   },
   {
    "duration": 7,
    "start_time": "2022-04-15T07:41:08.382Z"
   },
   {
    "duration": 7,
    "start_time": "2022-04-15T07:41:08.972Z"
   },
   {
    "duration": 199,
    "start_time": "2022-04-15T07:41:31.923Z"
   },
   {
    "duration": 22,
    "start_time": "2022-04-15T07:42:07.305Z"
   },
   {
    "duration": 6,
    "start_time": "2022-04-15T07:42:35.651Z"
   },
   {
    "duration": 5,
    "start_time": "2022-04-15T07:42:54.014Z"
   },
   {
    "duration": 6,
    "start_time": "2022-04-15T08:04:53.828Z"
   },
   {
    "duration": 5,
    "start_time": "2022-04-15T08:04:54.528Z"
   },
   {
    "duration": 5,
    "start_time": "2022-04-15T08:08:28.966Z"
   },
   {
    "duration": 10,
    "start_time": "2022-04-15T08:18:53.981Z"
   },
   {
    "duration": 10,
    "start_time": "2022-04-15T08:19:01.853Z"
   },
   {
    "duration": 5,
    "start_time": "2022-04-15T08:19:32.106Z"
   },
   {
    "duration": 4,
    "start_time": "2022-04-15T09:55:35.850Z"
   },
   {
    "duration": 191,
    "start_time": "2022-04-15T09:55:35.856Z"
   },
   {
    "duration": 125,
    "start_time": "2022-04-15T09:55:36.049Z"
   },
   {
    "duration": 86,
    "start_time": "2022-04-15T09:55:36.176Z"
   },
   {
    "duration": 16,
    "start_time": "2022-04-15T09:55:36.264Z"
   },
   {
    "duration": 28,
    "start_time": "2022-04-15T09:55:36.282Z"
   },
   {
    "duration": 8,
    "start_time": "2022-04-15T09:55:36.312Z"
   },
   {
    "duration": 27,
    "start_time": "2022-04-15T09:55:36.322Z"
   },
   {
    "duration": 7,
    "start_time": "2022-04-15T09:55:36.351Z"
   },
   {
    "duration": 25,
    "start_time": "2022-04-15T09:55:36.360Z"
   },
   {
    "duration": 7,
    "start_time": "2022-04-15T09:55:36.388Z"
   },
   {
    "duration": 42,
    "start_time": "2022-04-15T09:55:36.396Z"
   },
   {
    "duration": 8,
    "start_time": "2022-04-15T09:55:36.439Z"
   },
   {
    "duration": 12,
    "start_time": "2022-04-15T09:55:36.449Z"
   },
   {
    "duration": 10,
    "start_time": "2022-04-15T09:55:36.463Z"
   },
   {
    "duration": 10,
    "start_time": "2022-04-15T09:55:36.474Z"
   },
   {
    "duration": 45,
    "start_time": "2022-04-15T09:55:36.486Z"
   },
   {
    "duration": 56,
    "start_time": "2022-04-15T09:55:36.532Z"
   },
   {
    "duration": 33,
    "start_time": "2022-04-15T09:55:36.590Z"
   },
   {
    "duration": 46,
    "start_time": "2022-04-15T09:55:36.625Z"
   },
   {
    "duration": 10,
    "start_time": "2022-04-15T09:55:36.672Z"
   },
   {
    "duration": 5,
    "start_time": "2022-04-15T09:55:36.684Z"
   },
   {
    "duration": 143,
    "start_time": "2022-04-15T09:55:36.690Z"
   },
   {
    "duration": 17,
    "start_time": "2022-04-15T09:55:36.834Z"
   },
   {
    "duration": 24,
    "start_time": "2022-04-15T09:55:36.852Z"
   },
   {
    "duration": 9,
    "start_time": "2022-04-15T09:55:36.877Z"
   },
   {
    "duration": 41,
    "start_time": "2022-04-15T09:55:36.887Z"
   },
   {
    "duration": 38,
    "start_time": "2022-04-15T09:55:36.930Z"
   },
   {
    "duration": 7,
    "start_time": "2022-04-15T09:55:36.972Z"
   },
   {
    "duration": 11,
    "start_time": "2022-04-15T09:55:36.981Z"
   },
   {
    "duration": 77,
    "start_time": "2022-04-15T09:55:36.994Z"
   },
   {
    "duration": 16,
    "start_time": "2022-04-15T09:55:37.073Z"
   },
   {
    "duration": 56,
    "start_time": "2022-04-15T09:55:37.090Z"
   },
   {
    "duration": 7,
    "start_time": "2022-04-15T09:55:37.148Z"
   },
   {
    "duration": 14,
    "start_time": "2022-04-15T09:55:37.157Z"
   },
   {
    "duration": 54,
    "start_time": "2022-04-15T09:55:37.173Z"
   },
   {
    "duration": 50,
    "start_time": "2022-04-15T09:55:37.229Z"
   },
   {
    "duration": 6,
    "start_time": "2022-04-15T09:55:37.281Z"
   },
   {
    "duration": 6,
    "start_time": "2022-04-15T09:55:37.288Z"
   },
   {
    "duration": 28,
    "start_time": "2022-04-15T09:55:37.296Z"
   },
   {
    "duration": 8,
    "start_time": "2022-04-15T09:55:37.325Z"
   },
   {
    "duration": 6,
    "start_time": "2022-04-15T09:55:37.335Z"
   },
   {
    "duration": 13,
    "start_time": "2022-04-15T09:55:37.343Z"
   },
   {
    "duration": 5,
    "start_time": "2022-04-15T09:55:37.358Z"
   },
   {
    "duration": 7,
    "start_time": "2022-04-15T09:55:37.365Z"
   },
   {
    "duration": 14,
    "start_time": "2022-04-15T09:55:37.374Z"
   },
   {
    "duration": 10,
    "start_time": "2022-04-15T09:55:37.390Z"
   },
   {
    "duration": 25,
    "start_time": "2022-04-15T09:55:37.401Z"
   },
   {
    "duration": 6,
    "start_time": "2022-04-15T09:55:37.428Z"
   },
   {
    "duration": 11,
    "start_time": "2022-04-15T09:55:37.436Z"
   },
   {
    "duration": 10,
    "start_time": "2022-04-15T09:55:37.448Z"
   },
   {
    "duration": 52,
    "start_time": "2022-04-15T09:55:37.459Z"
   },
   {
    "duration": 3,
    "start_time": "2022-04-15T09:55:37.523Z"
   },
   {
    "duration": 6,
    "start_time": "2022-04-15T09:55:37.528Z"
   },
   {
    "duration": 30,
    "start_time": "2022-04-15T09:55:37.535Z"
   },
   {
    "duration": 3,
    "start_time": "2022-04-15T09:55:37.567Z"
   },
   {
    "duration": 51,
    "start_time": "2022-04-15T09:55:37.572Z"
   },
   {
    "duration": 3,
    "start_time": "2022-04-15T09:55:37.625Z"
   },
   {
    "duration": 10,
    "start_time": "2022-04-15T09:55:37.630Z"
   },
   {
    "duration": 8,
    "start_time": "2022-04-15T09:55:37.642Z"
   },
   {
    "duration": 10,
    "start_time": "2022-04-15T09:55:37.652Z"
   },
   {
    "duration": 4,
    "start_time": "2022-04-15T09:55:37.664Z"
   },
   {
    "duration": 13,
    "start_time": "2022-04-15T09:55:37.669Z"
   },
   {
    "duration": 11,
    "start_time": "2022-04-15T09:55:56.211Z"
   },
   {
    "duration": 11,
    "start_time": "2022-04-15T09:56:05.571Z"
   },
   {
    "duration": 10,
    "start_time": "2022-04-15T09:56:12.539Z"
   },
   {
    "duration": 12,
    "start_time": "2022-04-15T09:56:13.488Z"
   },
   {
    "duration": 9,
    "start_time": "2022-04-15T09:56:31.136Z"
   },
   {
    "duration": 13,
    "start_time": "2022-04-15T09:56:31.651Z"
   },
   {
    "duration": 3,
    "start_time": "2022-04-15T09:56:43.152Z"
   },
   {
    "duration": 145,
    "start_time": "2022-04-15T09:56:43.156Z"
   },
   {
    "duration": 129,
    "start_time": "2022-04-15T09:56:43.303Z"
   },
   {
    "duration": 88,
    "start_time": "2022-04-15T09:56:43.434Z"
   },
   {
    "duration": 16,
    "start_time": "2022-04-15T09:56:43.524Z"
   },
   {
    "duration": 32,
    "start_time": "2022-04-15T09:56:43.542Z"
   },
   {
    "duration": 8,
    "start_time": "2022-04-15T09:56:43.576Z"
   },
   {
    "duration": 33,
    "start_time": "2022-04-15T09:56:43.586Z"
   },
   {
    "duration": 8,
    "start_time": "2022-04-15T09:56:43.621Z"
   },
   {
    "duration": 22,
    "start_time": "2022-04-15T09:56:43.630Z"
   },
   {
    "duration": 7,
    "start_time": "2022-04-15T09:56:43.655Z"
   },
   {
    "duration": 19,
    "start_time": "2022-04-15T09:56:43.663Z"
   },
   {
    "duration": 7,
    "start_time": "2022-04-15T09:56:43.684Z"
   },
   {
    "duration": 37,
    "start_time": "2022-04-15T09:56:43.692Z"
   },
   {
    "duration": 9,
    "start_time": "2022-04-15T09:56:43.731Z"
   },
   {
    "duration": 11,
    "start_time": "2022-04-15T09:56:43.741Z"
   },
   {
    "duration": 21,
    "start_time": "2022-04-15T09:56:43.754Z"
   },
   {
    "duration": 88,
    "start_time": "2022-04-15T09:56:43.776Z"
   },
   {
    "duration": 21,
    "start_time": "2022-04-15T09:56:43.865Z"
   },
   {
    "duration": 59,
    "start_time": "2022-04-15T09:56:43.887Z"
   },
   {
    "duration": 9,
    "start_time": "2022-04-15T09:56:43.947Z"
   },
   {
    "duration": 6,
    "start_time": "2022-04-15T09:56:43.958Z"
   },
   {
    "duration": 122,
    "start_time": "2022-04-15T09:56:43.966Z"
   },
   {
    "duration": 18,
    "start_time": "2022-04-15T09:56:44.090Z"
   },
   {
    "duration": 34,
    "start_time": "2022-04-15T09:56:44.109Z"
   },
   {
    "duration": 11,
    "start_time": "2022-04-15T09:56:44.145Z"
   },
   {
    "duration": 17,
    "start_time": "2022-04-15T09:56:44.158Z"
   },
   {
    "duration": 66,
    "start_time": "2022-04-15T09:56:44.177Z"
   },
   {
    "duration": 5,
    "start_time": "2022-04-15T09:56:44.247Z"
   },
   {
    "duration": 9,
    "start_time": "2022-04-15T09:56:44.253Z"
   },
   {
    "duration": 67,
    "start_time": "2022-04-15T09:56:44.264Z"
   },
   {
    "duration": 15,
    "start_time": "2022-04-15T09:56:44.333Z"
   },
   {
    "duration": 31,
    "start_time": "2022-04-15T09:56:44.350Z"
   },
   {
    "duration": 6,
    "start_time": "2022-04-15T09:56:44.382Z"
   },
   {
    "duration": 36,
    "start_time": "2022-04-15T09:56:44.389Z"
   },
   {
    "duration": 29,
    "start_time": "2022-04-15T09:56:44.427Z"
   },
   {
    "duration": 48,
    "start_time": "2022-04-15T09:56:44.457Z"
   },
   {
    "duration": 7,
    "start_time": "2022-04-15T09:56:44.522Z"
   },
   {
    "duration": 8,
    "start_time": "2022-04-15T09:56:44.531Z"
   },
   {
    "duration": 10,
    "start_time": "2022-04-15T09:56:44.540Z"
   },
   {
    "duration": 10,
    "start_time": "2022-04-15T09:56:44.551Z"
   },
   {
    "duration": 6,
    "start_time": "2022-04-15T09:56:44.562Z"
   },
   {
    "duration": 6,
    "start_time": "2022-04-15T09:56:44.569Z"
   },
   {
    "duration": 4,
    "start_time": "2022-04-15T09:56:44.577Z"
   },
   {
    "duration": 10,
    "start_time": "2022-04-15T09:56:44.583Z"
   },
   {
    "duration": 6,
    "start_time": "2022-04-15T09:56:44.623Z"
   },
   {
    "duration": 7,
    "start_time": "2022-04-15T09:56:44.631Z"
   },
   {
    "duration": 9,
    "start_time": "2022-04-15T09:56:44.640Z"
   },
   {
    "duration": 8,
    "start_time": "2022-04-15T09:56:44.651Z"
   },
   {
    "duration": 8,
    "start_time": "2022-04-15T09:56:44.660Z"
   },
   {
    "duration": 14,
    "start_time": "2022-04-15T09:56:44.670Z"
   },
   {
    "duration": 64,
    "start_time": "2022-04-15T09:56:44.685Z"
   },
   {
    "duration": 2,
    "start_time": "2022-04-15T09:56:44.751Z"
   },
   {
    "duration": 8,
    "start_time": "2022-04-15T09:56:44.755Z"
   },
   {
    "duration": 28,
    "start_time": "2022-04-15T09:56:44.764Z"
   },
   {
    "duration": 2,
    "start_time": "2022-04-15T09:56:44.794Z"
   },
   {
    "duration": 44,
    "start_time": "2022-04-15T09:56:44.798Z"
   },
   {
    "duration": 3,
    "start_time": "2022-04-15T09:56:44.845Z"
   },
   {
    "duration": 12,
    "start_time": "2022-04-15T09:56:44.850Z"
   },
   {
    "duration": 12,
    "start_time": "2022-04-15T09:56:44.864Z"
   },
   {
    "duration": 12,
    "start_time": "2022-04-15T09:56:44.878Z"
   },
   {
    "duration": 34,
    "start_time": "2022-04-15T09:56:44.892Z"
   },
   {
    "duration": 10,
    "start_time": "2022-04-15T09:56:44.928Z"
   },
   {
    "duration": 2,
    "start_time": "2022-04-15T10:13:39.855Z"
   },
   {
    "duration": 188,
    "start_time": "2022-04-15T10:13:39.859Z"
   },
   {
    "duration": 138,
    "start_time": "2022-04-15T10:13:40.049Z"
   },
   {
    "duration": 100,
    "start_time": "2022-04-15T10:13:40.189Z"
   },
   {
    "duration": 17,
    "start_time": "2022-04-15T10:13:40.291Z"
   },
   {
    "duration": 31,
    "start_time": "2022-04-15T10:13:40.310Z"
   },
   {
    "duration": 9,
    "start_time": "2022-04-15T10:13:40.342Z"
   },
   {
    "duration": 33,
    "start_time": "2022-04-15T10:13:40.353Z"
   },
   {
    "duration": 9,
    "start_time": "2022-04-15T10:13:40.388Z"
   },
   {
    "duration": 31,
    "start_time": "2022-04-15T10:13:40.399Z"
   },
   {
    "duration": 8,
    "start_time": "2022-04-15T10:13:40.433Z"
   },
   {
    "duration": 18,
    "start_time": "2022-04-15T10:13:40.443Z"
   },
   {
    "duration": 8,
    "start_time": "2022-04-15T10:13:40.463Z"
   },
   {
    "duration": 17,
    "start_time": "2022-04-15T10:13:40.473Z"
   },
   {
    "duration": 36,
    "start_time": "2022-04-15T10:13:40.492Z"
   },
   {
    "duration": 25,
    "start_time": "2022-04-15T10:13:40.531Z"
   },
   {
    "duration": 27,
    "start_time": "2022-04-15T10:13:40.558Z"
   },
   {
    "duration": 57,
    "start_time": "2022-04-15T10:13:40.587Z"
   },
   {
    "duration": 22,
    "start_time": "2022-04-15T10:13:40.645Z"
   },
   {
    "duration": 62,
    "start_time": "2022-04-15T10:13:40.668Z"
   },
   {
    "duration": 12,
    "start_time": "2022-04-15T10:13:40.731Z"
   },
   {
    "duration": 6,
    "start_time": "2022-04-15T10:13:40.745Z"
   },
   {
    "duration": 120,
    "start_time": "2022-04-15T10:13:40.752Z"
   },
   {
    "duration": 17,
    "start_time": "2022-04-15T10:13:40.873Z"
   },
   {
    "duration": 32,
    "start_time": "2022-04-15T10:13:40.892Z"
   },
   {
    "duration": 12,
    "start_time": "2022-04-15T10:13:40.925Z"
   },
   {
    "duration": 22,
    "start_time": "2022-04-15T10:13:40.939Z"
   },
   {
    "duration": 43,
    "start_time": "2022-04-15T10:13:40.963Z"
   },
   {
    "duration": 19,
    "start_time": "2022-04-15T10:13:41.011Z"
   },
   {
    "duration": 10,
    "start_time": "2022-04-15T10:13:41.032Z"
   },
   {
    "duration": 48,
    "start_time": "2022-04-15T10:13:41.043Z"
   },
   {
    "duration": 40,
    "start_time": "2022-04-15T10:13:41.093Z"
   },
   {
    "duration": 26,
    "start_time": "2022-04-15T10:13:41.135Z"
   },
   {
    "duration": 5,
    "start_time": "2022-04-15T10:13:41.162Z"
   },
   {
    "duration": 27,
    "start_time": "2022-04-15T10:13:41.168Z"
   },
   {
    "duration": 41,
    "start_time": "2022-04-15T10:13:41.197Z"
   },
   {
    "duration": 49,
    "start_time": "2022-04-15T10:13:41.240Z"
   },
   {
    "duration": 6,
    "start_time": "2022-04-15T10:13:41.291Z"
   },
   {
    "duration": 19,
    "start_time": "2022-04-15T10:13:41.298Z"
   },
   {
    "duration": 10,
    "start_time": "2022-04-15T10:13:41.321Z"
   },
   {
    "duration": 9,
    "start_time": "2022-04-15T10:13:41.333Z"
   },
   {
    "duration": 5,
    "start_time": "2022-04-15T10:13:41.344Z"
   },
   {
    "duration": 12,
    "start_time": "2022-04-15T10:13:41.350Z"
   },
   {
    "duration": 5,
    "start_time": "2022-04-15T10:13:41.364Z"
   },
   {
    "duration": 93,
    "start_time": "2022-04-15T10:13:41.370Z"
   },
   {
    "duration": 13,
    "start_time": "2022-04-15T10:13:41.465Z"
   },
   {
    "duration": 11,
    "start_time": "2022-04-15T10:13:41.479Z"
   },
   {
    "duration": 9,
    "start_time": "2022-04-15T10:13:41.492Z"
   },
   {
    "duration": 15,
    "start_time": "2022-04-15T10:13:41.502Z"
   },
   {
    "duration": 11,
    "start_time": "2022-04-15T10:13:41.522Z"
   },
   {
    "duration": 22,
    "start_time": "2022-04-15T10:13:41.534Z"
   },
   {
    "duration": 63,
    "start_time": "2022-04-15T10:13:41.558Z"
   },
   {
    "duration": 3,
    "start_time": "2022-04-15T10:13:41.625Z"
   },
   {
    "duration": 9,
    "start_time": "2022-04-15T10:13:41.629Z"
   },
   {
    "duration": 32,
    "start_time": "2022-04-15T10:13:41.640Z"
   },
   {
    "duration": 2,
    "start_time": "2022-04-15T10:13:41.674Z"
   },
   {
    "duration": 28,
    "start_time": "2022-04-15T10:13:41.678Z"
   },
   {
    "duration": 16,
    "start_time": "2022-04-15T10:13:41.708Z"
   },
   {
    "duration": 20,
    "start_time": "2022-04-15T10:13:41.726Z"
   },
   {
    "duration": 25,
    "start_time": "2022-04-15T10:13:41.748Z"
   },
   {
    "duration": 6,
    "start_time": "2022-04-15T10:13:41.775Z"
   },
   {
    "duration": 21,
    "start_time": "2022-04-15T10:13:41.783Z"
   },
   {
    "duration": 11,
    "start_time": "2022-04-15T10:13:41.806Z"
   },
   {
    "duration": 27,
    "start_time": "2022-04-15T10:13:41.819Z"
   },
   {
    "duration": 13,
    "start_time": "2022-04-15T10:13:41.848Z"
   },
   {
    "duration": 14,
    "start_time": "2022-04-15T10:13:41.862Z"
   },
   {
    "duration": 13,
    "start_time": "2022-04-15T10:13:41.878Z"
   },
   {
    "duration": 10,
    "start_time": "2022-04-15T10:13:41.893Z"
   },
   {
    "duration": 11,
    "start_time": "2022-04-15T10:13:41.904Z"
   },
   {
    "duration": 32,
    "start_time": "2022-04-15T10:13:41.917Z"
   },
   {
    "duration": 0,
    "start_time": "2022-04-15T10:13:41.951Z"
   },
   {
    "duration": 0,
    "start_time": "2022-04-15T10:13:41.952Z"
   },
   {
    "duration": 0,
    "start_time": "2022-04-15T10:13:41.954Z"
   },
   {
    "duration": 0,
    "start_time": "2022-04-15T10:13:41.955Z"
   },
   {
    "duration": 0,
    "start_time": "2022-04-15T10:13:41.957Z"
   },
   {
    "duration": 0,
    "start_time": "2022-04-15T10:13:41.959Z"
   },
   {
    "duration": 0,
    "start_time": "2022-04-15T10:13:41.960Z"
   },
   {
    "duration": 0,
    "start_time": "2022-04-15T10:13:41.961Z"
   },
   {
    "duration": 0,
    "start_time": "2022-04-15T10:13:41.963Z"
   },
   {
    "duration": 0,
    "start_time": "2022-04-15T10:13:41.964Z"
   },
   {
    "duration": 0,
    "start_time": "2022-04-15T10:13:41.966Z"
   },
   {
    "duration": 0,
    "start_time": "2022-04-15T10:13:41.967Z"
   },
   {
    "duration": 0,
    "start_time": "2022-04-15T10:13:41.968Z"
   },
   {
    "duration": 0,
    "start_time": "2022-04-15T10:13:41.970Z"
   },
   {
    "duration": 0,
    "start_time": "2022-04-15T10:13:41.972Z"
   },
   {
    "duration": 0,
    "start_time": "2022-04-15T10:13:41.973Z"
   },
   {
    "duration": 0,
    "start_time": "2022-04-15T10:13:41.975Z"
   },
   {
    "duration": 0,
    "start_time": "2022-04-15T10:13:41.976Z"
   },
   {
    "duration": 0,
    "start_time": "2022-04-15T10:13:41.977Z"
   },
   {
    "duration": 0,
    "start_time": "2022-04-15T10:13:41.979Z"
   },
   {
    "duration": 0,
    "start_time": "2022-04-15T10:13:41.980Z"
   },
   {
    "duration": 0,
    "start_time": "2022-04-15T10:13:41.982Z"
   },
   {
    "duration": 13,
    "start_time": "2022-04-15T10:15:26.035Z"
   },
   {
    "duration": 8,
    "start_time": "2022-04-15T10:15:51.122Z"
   },
   {
    "duration": 18,
    "start_time": "2022-04-15T10:16:16.431Z"
   },
   {
    "duration": 3,
    "start_time": "2022-04-15T10:17:40.417Z"
   },
   {
    "duration": 175,
    "start_time": "2022-04-15T10:17:40.422Z"
   },
   {
    "duration": 147,
    "start_time": "2022-04-15T10:17:40.599Z"
   },
   {
    "duration": 91,
    "start_time": "2022-04-15T10:17:40.748Z"
   },
   {
    "duration": 16,
    "start_time": "2022-04-15T10:17:40.841Z"
   },
   {
    "duration": 32,
    "start_time": "2022-04-15T10:17:40.859Z"
   },
   {
    "duration": 8,
    "start_time": "2022-04-15T10:17:40.893Z"
   },
   {
    "duration": 50,
    "start_time": "2022-04-15T10:17:40.902Z"
   },
   {
    "duration": 8,
    "start_time": "2022-04-15T10:17:40.954Z"
   },
   {
    "duration": 47,
    "start_time": "2022-04-15T10:17:40.964Z"
   },
   {
    "duration": 7,
    "start_time": "2022-04-15T10:17:41.014Z"
   },
   {
    "duration": 36,
    "start_time": "2022-04-15T10:17:41.025Z"
   },
   {
    "duration": 16,
    "start_time": "2022-04-15T10:17:41.063Z"
   },
   {
    "duration": 14,
    "start_time": "2022-04-15T10:17:41.081Z"
   },
   {
    "duration": 26,
    "start_time": "2022-04-15T10:17:41.096Z"
   },
   {
    "duration": 27,
    "start_time": "2022-04-15T10:17:41.124Z"
   },
   {
    "duration": 34,
    "start_time": "2022-04-15T10:17:41.152Z"
   },
   {
    "duration": 61,
    "start_time": "2022-04-15T10:17:41.188Z"
   },
   {
    "duration": 21,
    "start_time": "2022-04-15T10:17:41.250Z"
   },
   {
    "duration": 68,
    "start_time": "2022-04-15T10:17:41.272Z"
   },
   {
    "duration": 10,
    "start_time": "2022-04-15T10:17:41.342Z"
   },
   {
    "duration": 17,
    "start_time": "2022-04-15T10:17:41.354Z"
   },
   {
    "duration": 110,
    "start_time": "2022-04-15T10:17:41.373Z"
   },
   {
    "duration": 17,
    "start_time": "2022-04-15T10:17:41.485Z"
   },
   {
    "duration": 34,
    "start_time": "2022-04-15T10:17:41.504Z"
   },
   {
    "duration": 8,
    "start_time": "2022-04-15T10:17:41.540Z"
   },
   {
    "duration": 31,
    "start_time": "2022-04-15T10:17:41.549Z"
   },
   {
    "duration": 46,
    "start_time": "2022-04-15T10:17:41.582Z"
   },
   {
    "duration": 6,
    "start_time": "2022-04-15T10:17:41.633Z"
   },
   {
    "duration": 24,
    "start_time": "2022-04-15T10:17:41.641Z"
   },
   {
    "duration": 60,
    "start_time": "2022-04-15T10:17:41.666Z"
   },
   {
    "duration": 23,
    "start_time": "2022-04-15T10:17:41.728Z"
   },
   {
    "duration": 37,
    "start_time": "2022-04-15T10:17:41.752Z"
   },
   {
    "duration": 6,
    "start_time": "2022-04-15T10:17:41.791Z"
   },
   {
    "duration": 44,
    "start_time": "2022-04-15T10:17:41.799Z"
   },
   {
    "duration": 36,
    "start_time": "2022-04-15T10:17:41.845Z"
   },
   {
    "duration": 69,
    "start_time": "2022-04-15T10:17:41.882Z"
   },
   {
    "duration": 6,
    "start_time": "2022-04-15T10:17:41.952Z"
   },
   {
    "duration": 21,
    "start_time": "2022-04-15T10:17:41.959Z"
   },
   {
    "duration": 20,
    "start_time": "2022-04-15T10:17:41.982Z"
   },
   {
    "duration": 32,
    "start_time": "2022-04-15T10:17:42.003Z"
   },
   {
    "duration": 17,
    "start_time": "2022-04-15T10:17:42.038Z"
   },
   {
    "duration": 20,
    "start_time": "2022-04-15T10:17:42.057Z"
   },
   {
    "duration": 17,
    "start_time": "2022-04-15T10:17:42.079Z"
   },
   {
    "duration": 19,
    "start_time": "2022-04-15T10:17:42.098Z"
   },
   {
    "duration": 28,
    "start_time": "2022-04-15T10:17:42.119Z"
   },
   {
    "duration": 14,
    "start_time": "2022-04-15T10:17:42.149Z"
   },
   {
    "duration": 38,
    "start_time": "2022-04-15T10:17:42.165Z"
   },
   {
    "duration": 22,
    "start_time": "2022-04-15T10:17:42.205Z"
   },
   {
    "duration": 14,
    "start_time": "2022-04-15T10:17:42.228Z"
   },
   {
    "duration": 31,
    "start_time": "2022-04-15T10:17:42.243Z"
   },
   {
    "duration": 51,
    "start_time": "2022-04-15T10:17:42.276Z"
   },
   {
    "duration": 3,
    "start_time": "2022-04-15T10:17:42.329Z"
   },
   {
    "duration": 38,
    "start_time": "2022-04-15T10:17:42.334Z"
   },
   {
    "duration": 39,
    "start_time": "2022-04-15T10:17:42.374Z"
   },
   {
    "duration": 2,
    "start_time": "2022-04-15T10:17:42.415Z"
   },
   {
    "duration": 44,
    "start_time": "2022-04-15T10:17:42.418Z"
   },
   {
    "duration": 4,
    "start_time": "2022-04-15T10:17:42.463Z"
   },
   {
    "duration": 34,
    "start_time": "2022-04-15T10:17:42.468Z"
   },
   {
    "duration": 21,
    "start_time": "2022-04-15T10:17:42.504Z"
   },
   {
    "duration": 3,
    "start_time": "2022-04-15T10:17:42.528Z"
   },
   {
    "duration": 178,
    "start_time": "2022-04-15T10:17:42.533Z"
   },
   {
    "duration": 3,
    "start_time": "2022-04-15T10:19:08.004Z"
   },
   {
    "duration": 178,
    "start_time": "2022-04-15T10:19:08.009Z"
   },
   {
    "duration": 159,
    "start_time": "2022-04-15T10:19:08.189Z"
   },
   {
    "duration": 94,
    "start_time": "2022-04-15T10:19:08.350Z"
   },
   {
    "duration": 16,
    "start_time": "2022-04-15T10:19:08.447Z"
   },
   {
    "duration": 47,
    "start_time": "2022-04-15T10:19:08.465Z"
   },
   {
    "duration": 15,
    "start_time": "2022-04-15T10:19:08.514Z"
   },
   {
    "duration": 46,
    "start_time": "2022-04-15T10:19:08.531Z"
   },
   {
    "duration": 9,
    "start_time": "2022-04-15T10:19:08.578Z"
   },
   {
    "duration": 33,
    "start_time": "2022-04-15T10:19:08.588Z"
   },
   {
    "duration": 8,
    "start_time": "2022-04-15T10:19:08.625Z"
   },
   {
    "duration": 26,
    "start_time": "2022-04-15T10:19:08.635Z"
   },
   {
    "duration": 11,
    "start_time": "2022-04-15T10:19:08.662Z"
   },
   {
    "duration": 25,
    "start_time": "2022-04-15T10:19:08.674Z"
   },
   {
    "duration": 18,
    "start_time": "2022-04-15T10:19:08.701Z"
   },
   {
    "duration": 23,
    "start_time": "2022-04-15T10:19:08.720Z"
   },
   {
    "duration": 32,
    "start_time": "2022-04-15T10:19:08.745Z"
   },
   {
    "duration": 67,
    "start_time": "2022-04-15T10:19:08.779Z"
   },
   {
    "duration": 22,
    "start_time": "2022-04-15T10:19:08.848Z"
   },
   {
    "duration": 71,
    "start_time": "2022-04-15T10:19:08.871Z"
   },
   {
    "duration": 12,
    "start_time": "2022-04-15T10:19:08.943Z"
   },
   {
    "duration": 15,
    "start_time": "2022-04-15T10:19:08.958Z"
   },
   {
    "duration": 143,
    "start_time": "2022-04-15T10:19:08.976Z"
   },
   {
    "duration": 28,
    "start_time": "2022-04-15T10:19:09.121Z"
   },
   {
    "duration": 34,
    "start_time": "2022-04-15T10:19:09.150Z"
   },
   {
    "duration": 9,
    "start_time": "2022-04-15T10:19:09.186Z"
   },
   {
    "duration": 31,
    "start_time": "2022-04-15T10:19:09.196Z"
   },
   {
    "duration": 44,
    "start_time": "2022-04-15T10:19:09.232Z"
   },
   {
    "duration": 6,
    "start_time": "2022-04-15T10:19:09.280Z"
   },
   {
    "duration": 15,
    "start_time": "2022-04-15T10:19:09.288Z"
   },
   {
    "duration": 68,
    "start_time": "2022-04-15T10:19:09.305Z"
   },
   {
    "duration": 15,
    "start_time": "2022-04-15T10:19:09.375Z"
   },
   {
    "duration": 52,
    "start_time": "2022-04-15T10:19:09.392Z"
   },
   {
    "duration": 6,
    "start_time": "2022-04-15T10:19:09.446Z"
   },
   {
    "duration": 15,
    "start_time": "2022-04-15T10:19:09.454Z"
   },
   {
    "duration": 32,
    "start_time": "2022-04-15T10:19:09.470Z"
   },
   {
    "duration": 58,
    "start_time": "2022-04-15T10:19:09.524Z"
   },
   {
    "duration": 6,
    "start_time": "2022-04-15T10:19:09.584Z"
   },
   {
    "duration": 7,
    "start_time": "2022-04-15T10:19:09.592Z"
   },
   {
    "duration": 30,
    "start_time": "2022-04-15T10:19:09.601Z"
   },
   {
    "duration": 11,
    "start_time": "2022-04-15T10:19:09.633Z"
   },
   {
    "duration": 11,
    "start_time": "2022-04-15T10:19:09.646Z"
   },
   {
    "duration": 13,
    "start_time": "2022-04-15T10:19:09.659Z"
   },
   {
    "duration": 7,
    "start_time": "2022-04-15T10:19:09.674Z"
   },
   {
    "duration": 9,
    "start_time": "2022-04-15T10:19:09.683Z"
   },
   {
    "duration": 8,
    "start_time": "2022-04-15T10:19:09.693Z"
   },
   {
    "duration": 9,
    "start_time": "2022-04-15T10:19:09.726Z"
   },
   {
    "duration": 7,
    "start_time": "2022-04-15T10:19:09.737Z"
   },
   {
    "duration": 6,
    "start_time": "2022-04-15T10:19:09.746Z"
   },
   {
    "duration": 8,
    "start_time": "2022-04-15T10:19:09.754Z"
   },
   {
    "duration": 12,
    "start_time": "2022-04-15T10:19:09.763Z"
   },
   {
    "duration": 75,
    "start_time": "2022-04-15T10:19:09.777Z"
   },
   {
    "duration": 3,
    "start_time": "2022-04-15T10:19:09.854Z"
   },
   {
    "duration": 6,
    "start_time": "2022-04-15T10:19:09.859Z"
   },
   {
    "duration": 30,
    "start_time": "2022-04-15T10:19:09.867Z"
   },
   {
    "duration": 27,
    "start_time": "2022-04-15T10:19:09.899Z"
   },
   {
    "duration": 31,
    "start_time": "2022-04-15T10:19:09.928Z"
   },
   {
    "duration": 3,
    "start_time": "2022-04-15T10:19:09.961Z"
   },
   {
    "duration": 11,
    "start_time": "2022-04-15T10:19:09.966Z"
   },
   {
    "duration": 24,
    "start_time": "2022-04-15T10:19:09.978Z"
   },
   {
    "duration": 22,
    "start_time": "2022-04-15T10:19:10.004Z"
   },
   {
    "duration": 15,
    "start_time": "2022-04-15T10:19:10.028Z"
   },
   {
    "duration": 10,
    "start_time": "2022-04-15T10:21:03.952Z"
   },
   {
    "duration": 3,
    "start_time": "2022-04-15T10:23:23.325Z"
   },
   {
    "duration": 205,
    "start_time": "2022-04-15T10:23:23.331Z"
   },
   {
    "duration": 166,
    "start_time": "2022-04-15T10:23:23.539Z"
   },
   {
    "duration": 97,
    "start_time": "2022-04-15T10:23:23.707Z"
   },
   {
    "duration": 23,
    "start_time": "2022-04-15T10:23:23.807Z"
   },
   {
    "duration": 30,
    "start_time": "2022-04-15T10:23:23.832Z"
   },
   {
    "duration": 9,
    "start_time": "2022-04-15T10:23:23.863Z"
   },
   {
    "duration": 29,
    "start_time": "2022-04-15T10:23:23.873Z"
   },
   {
    "duration": 9,
    "start_time": "2022-04-15T10:23:23.903Z"
   },
   {
    "duration": 37,
    "start_time": "2022-04-15T10:23:23.914Z"
   },
   {
    "duration": 8,
    "start_time": "2022-04-15T10:23:23.954Z"
   },
   {
    "duration": 21,
    "start_time": "2022-04-15T10:23:23.964Z"
   },
   {
    "duration": 8,
    "start_time": "2022-04-15T10:23:23.987Z"
   },
   {
    "duration": 41,
    "start_time": "2022-04-15T10:23:23.997Z"
   },
   {
    "duration": 10,
    "start_time": "2022-04-15T10:23:24.040Z"
   },
   {
    "duration": 12,
    "start_time": "2022-04-15T10:23:24.052Z"
   },
   {
    "duration": 25,
    "start_time": "2022-04-15T10:23:24.066Z"
   },
   {
    "duration": 98,
    "start_time": "2022-04-15T10:23:24.093Z"
   },
   {
    "duration": 34,
    "start_time": "2022-04-15T10:23:24.192Z"
   },
   {
    "duration": 51,
    "start_time": "2022-04-15T10:23:24.228Z"
   },
   {
    "duration": 9,
    "start_time": "2022-04-15T10:23:24.281Z"
   },
   {
    "duration": 6,
    "start_time": "2022-04-15T10:23:24.291Z"
   },
   {
    "duration": 153,
    "start_time": "2022-04-15T10:23:24.298Z"
   },
   {
    "duration": 18,
    "start_time": "2022-04-15T10:23:24.453Z"
   },
   {
    "duration": 26,
    "start_time": "2022-04-15T10:23:24.473Z"
   },
   {
    "duration": 14,
    "start_time": "2022-04-15T10:23:24.522Z"
   },
   {
    "duration": 17,
    "start_time": "2022-04-15T10:23:24.538Z"
   },
   {
    "duration": 37,
    "start_time": "2022-04-15T10:23:24.557Z"
   },
   {
    "duration": 25,
    "start_time": "2022-04-15T10:23:24.599Z"
   },
   {
    "duration": 14,
    "start_time": "2022-04-15T10:23:24.626Z"
   },
   {
    "duration": 63,
    "start_time": "2022-04-15T10:23:24.641Z"
   },
   {
    "duration": 31,
    "start_time": "2022-04-15T10:23:24.705Z"
   },
   {
    "duration": 32,
    "start_time": "2022-04-15T10:23:24.738Z"
   },
   {
    "duration": 5,
    "start_time": "2022-04-15T10:23:24.771Z"
   },
   {
    "duration": 15,
    "start_time": "2022-04-15T10:23:24.778Z"
   },
   {
    "duration": 68,
    "start_time": "2022-04-15T10:23:24.795Z"
   },
   {
    "duration": 72,
    "start_time": "2022-04-15T10:23:24.865Z"
   },
   {
    "duration": 6,
    "start_time": "2022-04-15T10:23:24.939Z"
   },
   {
    "duration": 7,
    "start_time": "2022-04-15T10:23:24.947Z"
   },
   {
    "duration": 6,
    "start_time": "2022-04-15T10:23:24.956Z"
   },
   {
    "duration": 6,
    "start_time": "2022-04-15T10:23:24.964Z"
   },
   {
    "duration": 6,
    "start_time": "2022-04-15T10:23:24.971Z"
   },
   {
    "duration": 7,
    "start_time": "2022-04-15T10:23:24.978Z"
   },
   {
    "duration": 44,
    "start_time": "2022-04-15T10:23:24.986Z"
   },
   {
    "duration": 8,
    "start_time": "2022-04-15T10:23:25.032Z"
   },
   {
    "duration": 8,
    "start_time": "2022-04-15T10:23:25.041Z"
   },
   {
    "duration": 9,
    "start_time": "2022-04-15T10:23:25.051Z"
   },
   {
    "duration": 11,
    "start_time": "2022-04-15T10:23:25.061Z"
   },
   {
    "duration": 9,
    "start_time": "2022-04-15T10:23:25.073Z"
   },
   {
    "duration": 10,
    "start_time": "2022-04-15T10:23:25.084Z"
   },
   {
    "duration": 9,
    "start_time": "2022-04-15T10:23:25.095Z"
   },
   {
    "duration": 73,
    "start_time": "2022-04-15T10:23:25.106Z"
   },
   {
    "duration": 3,
    "start_time": "2022-04-15T10:23:25.181Z"
   },
   {
    "duration": 6,
    "start_time": "2022-04-15T10:23:25.185Z"
   },
   {
    "duration": 56,
    "start_time": "2022-04-15T10:23:25.192Z"
   },
   {
    "duration": 3,
    "start_time": "2022-04-15T10:23:25.250Z"
   },
   {
    "duration": 29,
    "start_time": "2022-04-15T10:23:25.255Z"
   },
   {
    "duration": 3,
    "start_time": "2022-04-15T10:23:25.285Z"
   },
   {
    "duration": 33,
    "start_time": "2022-04-15T10:23:25.290Z"
   },
   {
    "duration": 19,
    "start_time": "2022-04-15T10:23:25.326Z"
   },
   {
    "duration": 4,
    "start_time": "2022-04-15T10:23:25.347Z"
   },
   {
    "duration": 15,
    "start_time": "2022-04-15T10:23:25.352Z"
   },
   {
    "duration": 0,
    "start_time": "2022-04-15T10:23:25.369Z"
   },
   {
    "duration": 0,
    "start_time": "2022-04-15T10:23:25.371Z"
   },
   {
    "duration": 0,
    "start_time": "2022-04-15T10:23:25.372Z"
   },
   {
    "duration": 0,
    "start_time": "2022-04-15T10:23:25.373Z"
   },
   {
    "duration": 0,
    "start_time": "2022-04-15T10:23:25.374Z"
   },
   {
    "duration": 0,
    "start_time": "2022-04-15T10:23:25.375Z"
   },
   {
    "duration": 0,
    "start_time": "2022-04-15T10:23:25.376Z"
   },
   {
    "duration": 0,
    "start_time": "2022-04-15T10:23:25.377Z"
   },
   {
    "duration": 0,
    "start_time": "2022-04-15T10:23:25.378Z"
   },
   {
    "duration": 0,
    "start_time": "2022-04-15T10:23:25.379Z"
   },
   {
    "duration": 0,
    "start_time": "2022-04-15T10:23:25.380Z"
   },
   {
    "duration": 0,
    "start_time": "2022-04-15T10:23:25.381Z"
   },
   {
    "duration": 0,
    "start_time": "2022-04-15T10:23:25.383Z"
   },
   {
    "duration": 0,
    "start_time": "2022-04-15T10:23:25.384Z"
   },
   {
    "duration": 0,
    "start_time": "2022-04-15T10:23:25.385Z"
   },
   {
    "duration": 0,
    "start_time": "2022-04-15T10:23:25.423Z"
   },
   {
    "duration": 0,
    "start_time": "2022-04-15T10:23:25.425Z"
   },
   {
    "duration": 0,
    "start_time": "2022-04-15T10:23:25.430Z"
   },
   {
    "duration": 0,
    "start_time": "2022-04-15T10:23:25.432Z"
   },
   {
    "duration": 0,
    "start_time": "2022-04-15T10:23:25.433Z"
   },
   {
    "duration": 0,
    "start_time": "2022-04-15T10:23:25.436Z"
   },
   {
    "duration": 0,
    "start_time": "2022-04-15T10:23:25.437Z"
   },
   {
    "duration": 0,
    "start_time": "2022-04-15T10:23:25.439Z"
   },
   {
    "duration": 0,
    "start_time": "2022-04-15T10:23:25.440Z"
   },
   {
    "duration": 0,
    "start_time": "2022-04-15T10:23:25.441Z"
   },
   {
    "duration": 0,
    "start_time": "2022-04-15T10:23:25.442Z"
   },
   {
    "duration": 0,
    "start_time": "2022-04-15T10:23:25.443Z"
   },
   {
    "duration": 0,
    "start_time": "2022-04-15T10:23:25.444Z"
   },
   {
    "duration": 0,
    "start_time": "2022-04-15T10:23:25.445Z"
   },
   {
    "duration": 0,
    "start_time": "2022-04-15T10:23:25.446Z"
   },
   {
    "duration": 9,
    "start_time": "2022-04-15T10:24:30.138Z"
   },
   {
    "duration": 3,
    "start_time": "2022-04-15T10:25:59.469Z"
   },
   {
    "duration": 173,
    "start_time": "2022-04-15T10:25:59.475Z"
   },
   {
    "duration": 150,
    "start_time": "2022-04-15T10:25:59.650Z"
   },
   {
    "duration": 97,
    "start_time": "2022-04-15T10:25:59.802Z"
   },
   {
    "duration": 16,
    "start_time": "2022-04-15T10:25:59.901Z"
   },
   {
    "duration": 28,
    "start_time": "2022-04-15T10:25:59.918Z"
   },
   {
    "duration": 8,
    "start_time": "2022-04-15T10:25:59.948Z"
   },
   {
    "duration": 28,
    "start_time": "2022-04-15T10:25:59.957Z"
   },
   {
    "duration": 8,
    "start_time": "2022-04-15T10:25:59.987Z"
   },
   {
    "duration": 22,
    "start_time": "2022-04-15T10:25:59.996Z"
   },
   {
    "duration": 12,
    "start_time": "2022-04-15T10:26:00.024Z"
   },
   {
    "duration": 29,
    "start_time": "2022-04-15T10:26:00.039Z"
   },
   {
    "duration": 7,
    "start_time": "2022-04-15T10:26:00.070Z"
   },
   {
    "duration": 11,
    "start_time": "2022-04-15T10:26:00.079Z"
   },
   {
    "duration": 21,
    "start_time": "2022-04-15T10:26:00.092Z"
   },
   {
    "duration": 25,
    "start_time": "2022-04-15T10:26:00.115Z"
   },
   {
    "duration": 26,
    "start_time": "2022-04-15T10:26:00.142Z"
   },
   {
    "duration": 71,
    "start_time": "2022-04-15T10:26:00.170Z"
   },
   {
    "duration": 22,
    "start_time": "2022-04-15T10:26:00.243Z"
   },
   {
    "duration": 64,
    "start_time": "2022-04-15T10:26:00.267Z"
   },
   {
    "duration": 10,
    "start_time": "2022-04-15T10:26:00.336Z"
   },
   {
    "duration": 16,
    "start_time": "2022-04-15T10:26:00.347Z"
   },
   {
    "duration": 159,
    "start_time": "2022-04-15T10:26:00.365Z"
   },
   {
    "duration": 26,
    "start_time": "2022-04-15T10:26:00.526Z"
   },
   {
    "duration": 23,
    "start_time": "2022-04-15T10:26:00.554Z"
   },
   {
    "duration": 9,
    "start_time": "2022-04-15T10:26:00.578Z"
   },
   {
    "duration": 42,
    "start_time": "2022-04-15T10:26:00.589Z"
   },
   {
    "duration": 38,
    "start_time": "2022-04-15T10:26:00.633Z"
   },
   {
    "duration": 6,
    "start_time": "2022-04-15T10:26:00.675Z"
   },
   {
    "duration": 12,
    "start_time": "2022-04-15T10:26:00.682Z"
   },
   {
    "duration": 79,
    "start_time": "2022-04-15T10:26:00.696Z"
   },
   {
    "duration": 15,
    "start_time": "2022-04-15T10:26:00.776Z"
   },
   {
    "duration": 60,
    "start_time": "2022-04-15T10:26:00.793Z"
   },
   {
    "duration": 7,
    "start_time": "2022-04-15T10:26:00.855Z"
   },
   {
    "duration": 24,
    "start_time": "2022-04-15T10:26:00.864Z"
   },
   {
    "duration": 56,
    "start_time": "2022-04-15T10:26:00.890Z"
   },
   {
    "duration": 49,
    "start_time": "2022-04-15T10:26:00.948Z"
   },
   {
    "duration": 25,
    "start_time": "2022-04-15T10:26:00.999Z"
   },
   {
    "duration": 9,
    "start_time": "2022-04-15T10:26:01.027Z"
   },
   {
    "duration": 13,
    "start_time": "2022-04-15T10:26:01.037Z"
   },
   {
    "duration": 10,
    "start_time": "2022-04-15T10:26:01.052Z"
   },
   {
    "duration": 10,
    "start_time": "2022-04-15T10:26:01.063Z"
   },
   {
    "duration": 13,
    "start_time": "2022-04-15T10:26:01.075Z"
   },
   {
    "duration": 10,
    "start_time": "2022-04-15T10:26:01.090Z"
   },
   {
    "duration": 8,
    "start_time": "2022-04-15T10:26:01.102Z"
   },
   {
    "duration": 13,
    "start_time": "2022-04-15T10:26:01.112Z"
   },
   {
    "duration": 17,
    "start_time": "2022-04-15T10:26:01.127Z"
   },
   {
    "duration": 15,
    "start_time": "2022-04-15T10:26:01.146Z"
   },
   {
    "duration": 16,
    "start_time": "2022-04-15T10:26:01.163Z"
   },
   {
    "duration": 23,
    "start_time": "2022-04-15T10:26:01.181Z"
   },
   {
    "duration": 11,
    "start_time": "2022-04-15T10:26:01.206Z"
   },
   {
    "duration": 54,
    "start_time": "2022-04-15T10:26:01.219Z"
   },
   {
    "duration": 3,
    "start_time": "2022-04-15T10:26:01.274Z"
   },
   {
    "duration": 10,
    "start_time": "2022-04-15T10:26:01.278Z"
   },
   {
    "duration": 41,
    "start_time": "2022-04-15T10:26:01.290Z"
   },
   {
    "duration": 3,
    "start_time": "2022-04-15T10:26:01.333Z"
   },
   {
    "duration": 31,
    "start_time": "2022-04-15T10:26:01.337Z"
   },
   {
    "duration": 3,
    "start_time": "2022-04-15T10:26:01.369Z"
   },
   {
    "duration": 18,
    "start_time": "2022-04-15T10:26:01.374Z"
   },
   {
    "duration": 41,
    "start_time": "2022-04-15T10:26:01.394Z"
   },
   {
    "duration": 5,
    "start_time": "2022-04-15T10:26:01.437Z"
   },
   {
    "duration": 29,
    "start_time": "2022-04-15T10:26:01.444Z"
   },
   {
    "duration": 0,
    "start_time": "2022-04-15T10:26:01.475Z"
   },
   {
    "duration": 1,
    "start_time": "2022-04-15T10:26:01.476Z"
   },
   {
    "duration": 0,
    "start_time": "2022-04-15T10:26:01.478Z"
   },
   {
    "duration": 0,
    "start_time": "2022-04-15T10:26:01.480Z"
   },
   {
    "duration": 0,
    "start_time": "2022-04-15T10:26:01.481Z"
   },
   {
    "duration": 0,
    "start_time": "2022-04-15T10:26:01.482Z"
   },
   {
    "duration": 0,
    "start_time": "2022-04-15T10:26:01.483Z"
   },
   {
    "duration": 0,
    "start_time": "2022-04-15T10:26:01.485Z"
   },
   {
    "duration": 0,
    "start_time": "2022-04-15T10:26:01.486Z"
   },
   {
    "duration": 1,
    "start_time": "2022-04-15T10:26:01.487Z"
   },
   {
    "duration": 0,
    "start_time": "2022-04-15T10:26:01.488Z"
   },
   {
    "duration": 0,
    "start_time": "2022-04-15T10:26:01.490Z"
   },
   {
    "duration": 0,
    "start_time": "2022-04-15T10:26:01.491Z"
   },
   {
    "duration": 0,
    "start_time": "2022-04-15T10:26:01.493Z"
   },
   {
    "duration": 0,
    "start_time": "2022-04-15T10:26:01.495Z"
   },
   {
    "duration": 0,
    "start_time": "2022-04-15T10:26:01.496Z"
   },
   {
    "duration": 0,
    "start_time": "2022-04-15T10:26:01.497Z"
   },
   {
    "duration": 1,
    "start_time": "2022-04-15T10:26:01.522Z"
   },
   {
    "duration": 0,
    "start_time": "2022-04-15T10:26:01.523Z"
   },
   {
    "duration": 0,
    "start_time": "2022-04-15T10:26:01.525Z"
   },
   {
    "duration": 0,
    "start_time": "2022-04-15T10:26:01.526Z"
   },
   {
    "duration": 0,
    "start_time": "2022-04-15T10:26:01.527Z"
   },
   {
    "duration": 0,
    "start_time": "2022-04-15T10:26:01.531Z"
   },
   {
    "duration": 0,
    "start_time": "2022-04-15T10:26:01.540Z"
   },
   {
    "duration": 0,
    "start_time": "2022-04-15T10:26:01.541Z"
   },
   {
    "duration": 0,
    "start_time": "2022-04-15T10:26:01.542Z"
   },
   {
    "duration": 0,
    "start_time": "2022-04-15T10:26:01.542Z"
   },
   {
    "duration": 0,
    "start_time": "2022-04-15T10:26:01.543Z"
   },
   {
    "duration": 0,
    "start_time": "2022-04-15T10:26:01.544Z"
   },
   {
    "duration": 0,
    "start_time": "2022-04-15T10:26:01.544Z"
   },
   {
    "duration": 3,
    "start_time": "2022-04-15T10:28:30.299Z"
   },
   {
    "duration": 201,
    "start_time": "2022-04-15T10:28:30.305Z"
   },
   {
    "duration": 146,
    "start_time": "2022-04-15T10:28:30.522Z"
   },
   {
    "duration": 91,
    "start_time": "2022-04-15T10:28:30.669Z"
   },
   {
    "duration": 16,
    "start_time": "2022-04-15T10:28:30.762Z"
   },
   {
    "duration": 32,
    "start_time": "2022-04-15T10:28:30.779Z"
   },
   {
    "duration": 9,
    "start_time": "2022-04-15T10:28:30.814Z"
   },
   {
    "duration": 33,
    "start_time": "2022-04-15T10:28:30.829Z"
   },
   {
    "duration": 9,
    "start_time": "2022-04-15T10:28:30.863Z"
   },
   {
    "duration": 28,
    "start_time": "2022-04-15T10:28:30.874Z"
   },
   {
    "duration": 12,
    "start_time": "2022-04-15T10:28:30.905Z"
   },
   {
    "duration": 32,
    "start_time": "2022-04-15T10:28:30.919Z"
   },
   {
    "duration": 35,
    "start_time": "2022-04-15T10:28:30.952Z"
   },
   {
    "duration": 21,
    "start_time": "2022-04-15T10:28:30.988Z"
   },
   {
    "duration": 31,
    "start_time": "2022-04-15T10:28:31.011Z"
   },
   {
    "duration": 38,
    "start_time": "2022-04-15T10:28:31.043Z"
   },
   {
    "duration": 35,
    "start_time": "2022-04-15T10:28:31.083Z"
   },
   {
    "duration": 68,
    "start_time": "2022-04-15T10:28:31.120Z"
   },
   {
    "duration": 21,
    "start_time": "2022-04-15T10:28:31.190Z"
   },
   {
    "duration": 65,
    "start_time": "2022-04-15T10:28:31.213Z"
   },
   {
    "duration": 11,
    "start_time": "2022-04-15T10:28:31.280Z"
   },
   {
    "duration": 22,
    "start_time": "2022-04-15T10:28:31.292Z"
   },
   {
    "duration": 124,
    "start_time": "2022-04-15T10:28:31.317Z"
   },
   {
    "duration": 17,
    "start_time": "2022-04-15T10:28:31.443Z"
   },
   {
    "duration": 33,
    "start_time": "2022-04-15T10:28:31.462Z"
   },
   {
    "duration": 9,
    "start_time": "2022-04-15T10:28:31.496Z"
   },
   {
    "duration": 24,
    "start_time": "2022-04-15T10:28:31.506Z"
   },
   {
    "duration": 43,
    "start_time": "2022-04-15T10:28:31.532Z"
   },
   {
    "duration": 5,
    "start_time": "2022-04-15T10:28:31.579Z"
   },
   {
    "duration": 20,
    "start_time": "2022-04-15T10:28:31.586Z"
   },
   {
    "duration": 60,
    "start_time": "2022-04-15T10:28:31.607Z"
   },
   {
    "duration": 14,
    "start_time": "2022-04-15T10:28:31.669Z"
   },
   {
    "duration": 42,
    "start_time": "2022-04-15T10:28:31.685Z"
   },
   {
    "duration": 8,
    "start_time": "2022-04-15T10:28:31.729Z"
   },
   {
    "duration": 23,
    "start_time": "2022-04-15T10:28:31.739Z"
   },
   {
    "duration": 35,
    "start_time": "2022-04-15T10:28:31.764Z"
   },
   {
    "duration": 60,
    "start_time": "2022-04-15T10:28:31.801Z"
   },
   {
    "duration": 15,
    "start_time": "2022-04-15T10:28:31.862Z"
   },
   {
    "duration": 31,
    "start_time": "2022-04-15T10:28:31.878Z"
   },
   {
    "duration": 18,
    "start_time": "2022-04-15T10:28:31.911Z"
   },
   {
    "duration": 28,
    "start_time": "2022-04-15T10:28:31.931Z"
   },
   {
    "duration": 12,
    "start_time": "2022-04-15T10:28:31.961Z"
   },
   {
    "duration": 19,
    "start_time": "2022-04-15T10:28:31.974Z"
   },
   {
    "duration": 18,
    "start_time": "2022-04-15T10:28:31.994Z"
   },
   {
    "duration": 23,
    "start_time": "2022-04-15T10:28:32.014Z"
   },
   {
    "duration": 18,
    "start_time": "2022-04-15T10:28:32.038Z"
   },
   {
    "duration": 31,
    "start_time": "2022-04-15T10:28:32.058Z"
   },
   {
    "duration": 16,
    "start_time": "2022-04-15T10:28:32.091Z"
   },
   {
    "duration": 24,
    "start_time": "2022-04-15T10:28:32.109Z"
   },
   {
    "duration": 24,
    "start_time": "2022-04-15T10:28:32.135Z"
   },
   {
    "duration": 46,
    "start_time": "2022-04-15T10:28:32.161Z"
   },
   {
    "duration": 67,
    "start_time": "2022-04-15T10:28:32.209Z"
   },
   {
    "duration": 4,
    "start_time": "2022-04-15T10:28:32.277Z"
   },
   {
    "duration": 13,
    "start_time": "2022-04-15T10:28:32.282Z"
   },
   {
    "duration": 56,
    "start_time": "2022-04-15T10:28:32.296Z"
   },
   {
    "duration": 3,
    "start_time": "2022-04-15T10:28:32.354Z"
   },
   {
    "duration": 29,
    "start_time": "2022-04-15T10:28:32.359Z"
   },
   {
    "duration": 13,
    "start_time": "2022-04-15T10:28:32.389Z"
   },
   {
    "duration": 15,
    "start_time": "2022-04-15T10:28:32.404Z"
   },
   {
    "duration": 26,
    "start_time": "2022-04-15T10:28:32.420Z"
   },
   {
    "duration": 22,
    "start_time": "2022-04-15T10:28:32.448Z"
   },
   {
    "duration": 4,
    "start_time": "2022-04-15T10:28:34.752Z"
   },
   {
    "duration": 11,
    "start_time": "2022-04-15T10:28:37.811Z"
   },
   {
    "duration": 13,
    "start_time": "2022-04-15T10:28:39.830Z"
   },
   {
    "duration": 4,
    "start_time": "2022-04-15T10:29:11.579Z"
   },
   {
    "duration": 4,
    "start_time": "2022-04-15T10:29:12.290Z"
   },
   {
    "duration": 5,
    "start_time": "2022-04-15T10:29:12.934Z"
   },
   {
    "duration": 4,
    "start_time": "2022-04-15T10:29:15.835Z"
   },
   {
    "duration": 242,
    "start_time": "2022-04-15T10:29:16.558Z"
   },
   {
    "duration": 235,
    "start_time": "2022-04-15T10:29:25.828Z"
   },
   {
    "duration": 7,
    "start_time": "2022-04-15T10:29:42.307Z"
   },
   {
    "duration": 15,
    "start_time": "2022-04-15T10:29:42.316Z"
   },
   {
    "duration": 199,
    "start_time": "2022-04-15T10:29:42.333Z"
   },
   {
    "duration": 4,
    "start_time": "2022-04-15T10:29:42.535Z"
   },
   {
    "duration": 14,
    "start_time": "2022-04-15T10:29:42.540Z"
   },
   {
    "duration": 6,
    "start_time": "2022-04-15T10:29:42.555Z"
   },
   {
    "duration": 6,
    "start_time": "2022-04-15T10:29:42.562Z"
   },
   {
    "duration": 11,
    "start_time": "2022-04-15T10:29:42.570Z"
   },
   {
    "duration": 218,
    "start_time": "2022-04-15T10:29:42.582Z"
   },
   {
    "duration": 3,
    "start_time": "2022-04-15T10:29:42.802Z"
   },
   {
    "duration": 28,
    "start_time": "2022-04-15T10:29:42.807Z"
   },
   {
    "duration": 4,
    "start_time": "2022-04-15T10:29:42.836Z"
   },
   {
    "duration": 5,
    "start_time": "2022-04-15T10:29:42.841Z"
   },
   {
    "duration": 179,
    "start_time": "2022-04-15T10:29:42.847Z"
   },
   {
    "duration": 3,
    "start_time": "2022-04-15T10:29:43.028Z"
   },
   {
    "duration": 16,
    "start_time": "2022-04-15T10:29:43.033Z"
   },
   {
    "duration": 4,
    "start_time": "2022-04-15T10:29:43.050Z"
   },
   {
    "duration": 5,
    "start_time": "2022-04-15T10:29:43.056Z"
   },
   {
    "duration": 6,
    "start_time": "2022-04-15T10:29:43.063Z"
   },
   {
    "duration": 6,
    "start_time": "2022-04-15T10:29:43.071Z"
   },
   {
    "duration": 10,
    "start_time": "2022-04-15T10:29:43.079Z"
   },
   {
    "duration": 36,
    "start_time": "2022-04-15T10:29:43.090Z"
   },
   {
    "duration": 7,
    "start_time": "2022-04-15T10:29:43.128Z"
   },
   {
    "duration": 6,
    "start_time": "2022-04-15T10:29:43.136Z"
   },
   {
    "duration": 3,
    "start_time": "2022-04-15T10:44:21.322Z"
   },
   {
    "duration": 174,
    "start_time": "2022-04-15T10:44:22.587Z"
   },
   {
    "duration": 1095,
    "start_time": "2022-04-24T10:56:14.869Z"
   },
   {
    "duration": 164,
    "start_time": "2022-04-24T10:56:15.967Z"
   },
   {
    "duration": 127,
    "start_time": "2022-04-24T10:56:16.133Z"
   },
   {
    "duration": 83,
    "start_time": "2022-04-24T10:56:16.262Z"
   },
   {
    "duration": 10,
    "start_time": "2022-04-24T10:56:16.348Z"
   },
   {
    "duration": 15,
    "start_time": "2022-04-24T10:56:16.360Z"
   },
   {
    "duration": 12,
    "start_time": "2022-04-24T10:56:16.377Z"
   },
   {
    "duration": 31,
    "start_time": "2022-04-24T10:56:16.390Z"
   },
   {
    "duration": 9,
    "start_time": "2022-04-24T10:56:16.423Z"
   },
   {
    "duration": 22,
    "start_time": "2022-04-24T10:56:16.434Z"
   },
   {
    "duration": 7,
    "start_time": "2022-04-24T10:56:16.458Z"
   },
   {
    "duration": 60,
    "start_time": "2022-04-24T10:56:16.467Z"
   },
   {
    "duration": 12,
    "start_time": "2022-04-24T10:56:16.529Z"
   },
   {
    "duration": 14,
    "start_time": "2022-04-24T10:56:16.546Z"
   },
   {
    "duration": 15,
    "start_time": "2022-04-24T10:56:16.562Z"
   },
   {
    "duration": 36,
    "start_time": "2022-04-24T10:56:16.580Z"
   },
   {
    "duration": 24,
    "start_time": "2022-04-24T10:56:16.618Z"
   },
   {
    "duration": 82,
    "start_time": "2022-04-24T10:56:16.643Z"
   },
   {
    "duration": 21,
    "start_time": "2022-04-24T10:56:16.726Z"
   },
   {
    "duration": 71,
    "start_time": "2022-04-24T10:56:16.748Z"
   },
   {
    "duration": 12,
    "start_time": "2022-04-24T10:56:16.820Z"
   },
   {
    "duration": 5,
    "start_time": "2022-04-24T10:56:16.834Z"
   },
   {
    "duration": 131,
    "start_time": "2022-04-24T10:56:16.841Z"
   },
   {
    "duration": 18,
    "start_time": "2022-04-24T10:56:16.973Z"
   },
   {
    "duration": 37,
    "start_time": "2022-04-24T10:56:16.993Z"
   },
   {
    "duration": 9,
    "start_time": "2022-04-24T10:56:17.032Z"
   },
   {
    "duration": 16,
    "start_time": "2022-04-24T10:56:17.043Z"
   },
   {
    "duration": 63,
    "start_time": "2022-04-24T10:56:17.060Z"
   },
   {
    "duration": 6,
    "start_time": "2022-04-24T10:56:17.125Z"
   },
   {
    "duration": 12,
    "start_time": "2022-04-24T10:56:17.133Z"
   },
   {
    "duration": 71,
    "start_time": "2022-04-24T10:56:17.147Z"
   },
   {
    "duration": 15,
    "start_time": "2022-04-24T10:56:17.220Z"
   },
   {
    "duration": 28,
    "start_time": "2022-04-24T10:56:17.236Z"
   },
   {
    "duration": 6,
    "start_time": "2022-04-24T10:56:17.265Z"
   },
   {
    "duration": 39,
    "start_time": "2022-04-24T10:56:17.273Z"
   },
   {
    "duration": 33,
    "start_time": "2022-04-24T10:56:17.313Z"
   },
   {
    "duration": 65,
    "start_time": "2022-04-24T10:56:17.348Z"
   },
   {
    "duration": 6,
    "start_time": "2022-04-24T10:56:17.415Z"
   },
   {
    "duration": 5,
    "start_time": "2022-04-24T10:56:17.423Z"
   },
   {
    "duration": 6,
    "start_time": "2022-04-24T10:56:17.430Z"
   },
   {
    "duration": 6,
    "start_time": "2022-04-24T10:56:17.441Z"
   },
   {
    "duration": 5,
    "start_time": "2022-04-24T10:56:17.449Z"
   },
   {
    "duration": 6,
    "start_time": "2022-04-24T10:56:17.455Z"
   },
   {
    "duration": 5,
    "start_time": "2022-04-24T10:56:17.463Z"
   },
   {
    "duration": 46,
    "start_time": "2022-04-24T10:56:17.469Z"
   },
   {
    "duration": 7,
    "start_time": "2022-04-24T10:56:17.516Z"
   },
   {
    "duration": 7,
    "start_time": "2022-04-24T10:56:17.524Z"
   },
   {
    "duration": 7,
    "start_time": "2022-04-24T10:56:17.532Z"
   },
   {
    "duration": 5,
    "start_time": "2022-04-24T10:56:17.541Z"
   },
   {
    "duration": 5,
    "start_time": "2022-04-24T10:56:17.548Z"
   },
   {
    "duration": 8,
    "start_time": "2022-04-24T10:56:17.555Z"
   },
   {
    "duration": 88,
    "start_time": "2022-04-24T10:56:17.564Z"
   },
   {
    "duration": 3,
    "start_time": "2022-04-24T10:56:17.653Z"
   },
   {
    "duration": 5,
    "start_time": "2022-04-24T10:56:17.657Z"
   },
   {
    "duration": 44,
    "start_time": "2022-04-24T10:56:17.664Z"
   },
   {
    "duration": 3,
    "start_time": "2022-04-24T10:56:17.710Z"
   },
   {
    "duration": 28,
    "start_time": "2022-04-24T10:56:17.715Z"
   },
   {
    "duration": 3,
    "start_time": "2022-04-24T10:56:17.745Z"
   },
   {
    "duration": 14,
    "start_time": "2022-04-24T10:56:17.749Z"
   },
   {
    "duration": 21,
    "start_time": "2022-04-24T10:56:17.764Z"
   },
   {
    "duration": 4,
    "start_time": "2022-04-24T10:56:17.808Z"
   },
   {
    "duration": 18,
    "start_time": "2022-04-24T10:56:17.813Z"
   },
   {
    "duration": 3,
    "start_time": "2022-04-24T10:56:17.833Z"
   },
   {
    "duration": 6,
    "start_time": "2022-04-24T10:56:17.838Z"
   },
   {
    "duration": 6,
    "start_time": "2022-04-24T10:56:17.846Z"
   },
   {
    "duration": 12,
    "start_time": "2022-04-24T10:56:17.853Z"
   },
   {
    "duration": 248,
    "start_time": "2022-04-24T10:56:17.867Z"
   },
   {
    "duration": 6,
    "start_time": "2022-04-24T10:56:18.117Z"
   },
   {
    "duration": 12,
    "start_time": "2022-04-24T10:56:18.125Z"
   },
   {
    "duration": 230,
    "start_time": "2022-04-24T10:56:18.139Z"
   },
   {
    "duration": 3,
    "start_time": "2022-04-24T10:56:18.371Z"
   },
   {
    "duration": 16,
    "start_time": "2022-04-24T10:56:18.376Z"
   },
   {
    "duration": 5,
    "start_time": "2022-04-24T10:56:18.407Z"
   },
   {
    "duration": 5,
    "start_time": "2022-04-24T10:56:18.414Z"
   },
   {
    "duration": 14,
    "start_time": "2022-04-24T10:56:18.421Z"
   },
   {
    "duration": 235,
    "start_time": "2022-04-24T10:56:18.437Z"
   },
   {
    "duration": 3,
    "start_time": "2022-04-24T10:56:18.673Z"
   },
   {
    "duration": 21,
    "start_time": "2022-04-24T10:56:18.678Z"
   },
   {
    "duration": 11,
    "start_time": "2022-04-24T10:56:18.707Z"
   },
   {
    "duration": 23,
    "start_time": "2022-04-24T10:56:18.721Z"
   },
   {
    "duration": 213,
    "start_time": "2022-04-24T10:56:18.745Z"
   },
   {
    "duration": 3,
    "start_time": "2022-04-24T10:56:18.960Z"
   },
   {
    "duration": 32,
    "start_time": "2022-04-24T10:56:18.964Z"
   },
   {
    "duration": 9,
    "start_time": "2022-04-24T10:56:18.998Z"
   },
   {
    "duration": 23,
    "start_time": "2022-04-24T10:56:19.009Z"
   },
   {
    "duration": 18,
    "start_time": "2022-04-24T10:56:19.034Z"
   },
   {
    "duration": 9,
    "start_time": "2022-04-24T10:56:19.053Z"
   },
   {
    "duration": 9,
    "start_time": "2022-04-24T10:56:19.063Z"
   },
   {
    "duration": 22,
    "start_time": "2022-04-24T10:56:19.074Z"
   },
   {
    "duration": 8,
    "start_time": "2022-04-24T10:56:19.098Z"
   },
   {
    "duration": 9,
    "start_time": "2022-04-24T10:56:19.108Z"
   },
   {
    "duration": 14,
    "start_time": "2022-04-24T11:01:27.189Z"
   },
   {
    "duration": 122,
    "start_time": "2022-04-24T12:27:00.135Z"
   },
   {
    "duration": 2088,
    "start_time": "2022-04-24T12:30:44.061Z"
   },
   {
    "duration": 208,
    "start_time": "2022-04-24T12:30:46.153Z"
   },
   {
    "duration": 274,
    "start_time": "2022-04-24T12:30:46.363Z"
   },
   {
    "duration": 124,
    "start_time": "2022-04-24T12:30:46.640Z"
   },
   {
    "duration": 13,
    "start_time": "2022-04-24T12:30:46.768Z"
   },
   {
    "duration": 33,
    "start_time": "2022-04-24T12:30:46.783Z"
   },
   {
    "duration": 25,
    "start_time": "2022-04-24T12:30:46.819Z"
   },
   {
    "duration": 42,
    "start_time": "2022-04-24T12:30:46.848Z"
   },
   {
    "duration": 13,
    "start_time": "2022-04-24T12:30:46.893Z"
   },
   {
    "duration": 57,
    "start_time": "2022-04-24T12:30:46.910Z"
   },
   {
    "duration": 34,
    "start_time": "2022-04-24T12:30:46.969Z"
   },
   {
    "duration": 46,
    "start_time": "2022-04-24T12:30:47.005Z"
   },
   {
    "duration": 24,
    "start_time": "2022-04-24T12:30:47.054Z"
   },
   {
    "duration": 44,
    "start_time": "2022-04-24T12:30:47.081Z"
   },
   {
    "duration": 48,
    "start_time": "2022-04-24T12:30:47.128Z"
   },
   {
    "duration": 27,
    "start_time": "2022-04-24T12:30:47.179Z"
   },
   {
    "duration": 56,
    "start_time": "2022-04-24T12:30:47.208Z"
   },
   {
    "duration": 110,
    "start_time": "2022-04-24T12:30:47.267Z"
   },
   {
    "duration": 60,
    "start_time": "2022-04-24T12:30:47.380Z"
   },
   {
    "duration": 120,
    "start_time": "2022-04-24T12:30:47.443Z"
   },
   {
    "duration": 19,
    "start_time": "2022-04-24T12:30:47.566Z"
   },
   {
    "duration": 20,
    "start_time": "2022-04-24T12:30:47.587Z"
   },
   {
    "duration": 37,
    "start_time": "2022-04-24T12:30:47.610Z"
   },
   {
    "duration": 181,
    "start_time": "2022-04-24T12:30:47.650Z"
   },
   {
    "duration": 23,
    "start_time": "2022-04-24T12:30:47.834Z"
   },
   {
    "duration": 65,
    "start_time": "2022-04-24T12:30:47.859Z"
   },
   {
    "duration": 13,
    "start_time": "2022-04-24T12:30:47.928Z"
   },
   {
    "duration": 24,
    "start_time": "2022-04-24T12:30:47.947Z"
   },
   {
    "duration": 85,
    "start_time": "2022-04-24T12:30:47.974Z"
   },
   {
    "duration": 10,
    "start_time": "2022-04-24T12:30:48.061Z"
   },
   {
    "duration": 20,
    "start_time": "2022-04-24T12:30:48.073Z"
   },
   {
    "duration": 145,
    "start_time": "2022-04-24T12:30:48.097Z"
   },
   {
    "duration": 31,
    "start_time": "2022-04-24T12:30:48.244Z"
   },
   {
    "duration": 85,
    "start_time": "2022-04-24T12:30:48.278Z"
   },
   {
    "duration": 10,
    "start_time": "2022-04-24T12:30:48.366Z"
   },
   {
    "duration": 50,
    "start_time": "2022-04-24T12:30:48.378Z"
   },
   {
    "duration": 77,
    "start_time": "2022-04-24T12:30:48.430Z"
   },
   {
    "duration": 98,
    "start_time": "2022-04-24T12:30:48.509Z"
   },
   {
    "duration": 24,
    "start_time": "2022-04-24T12:30:48.610Z"
   },
   {
    "duration": 22,
    "start_time": "2022-04-24T12:30:48.637Z"
   },
   {
    "duration": 26,
    "start_time": "2022-04-24T12:30:48.662Z"
   },
   {
    "duration": 19,
    "start_time": "2022-04-24T12:30:48.691Z"
   },
   {
    "duration": 11,
    "start_time": "2022-04-24T12:30:48.712Z"
   },
   {
    "duration": 20,
    "start_time": "2022-04-24T12:30:48.729Z"
   },
   {
    "duration": 15,
    "start_time": "2022-04-24T12:30:48.752Z"
   },
   {
    "duration": 32,
    "start_time": "2022-04-24T12:30:48.770Z"
   },
   {
    "duration": 23,
    "start_time": "2022-04-24T12:30:48.805Z"
   },
   {
    "duration": 43,
    "start_time": "2022-04-24T12:30:48.831Z"
   },
   {
    "duration": 24,
    "start_time": "2022-04-24T12:30:48.877Z"
   },
   {
    "duration": 22,
    "start_time": "2022-04-24T12:30:48.904Z"
   },
   {
    "duration": 28,
    "start_time": "2022-04-24T12:30:48.929Z"
   },
   {
    "duration": 31,
    "start_time": "2022-04-24T12:30:48.959Z"
   },
   {
    "duration": 109,
    "start_time": "2022-04-24T12:30:48.992Z"
   },
   {
    "duration": 4,
    "start_time": "2022-04-24T12:30:49.104Z"
   },
   {
    "duration": 28,
    "start_time": "2022-04-24T12:30:49.110Z"
   },
   {
    "duration": 71,
    "start_time": "2022-04-24T12:30:49.141Z"
   },
   {
    "duration": 5,
    "start_time": "2022-04-24T12:30:49.215Z"
   },
   {
    "duration": 43,
    "start_time": "2022-04-24T12:30:49.223Z"
   },
   {
    "duration": 5,
    "start_time": "2022-04-24T12:30:49.268Z"
   },
   {
    "duration": 29,
    "start_time": "2022-04-24T12:30:49.276Z"
   },
   {
    "duration": 30,
    "start_time": "2022-04-24T12:30:49.325Z"
   },
   {
    "duration": 11,
    "start_time": "2022-04-24T12:30:49.357Z"
   },
   {
    "duration": 35,
    "start_time": "2022-04-24T12:30:49.371Z"
   },
   {
    "duration": 17,
    "start_time": "2022-04-24T12:30:49.409Z"
   },
   {
    "duration": 23,
    "start_time": "2022-04-24T12:30:49.428Z"
   },
   {
    "duration": 19,
    "start_time": "2022-04-24T12:30:49.454Z"
   },
   {
    "duration": 30,
    "start_time": "2022-04-24T12:30:49.476Z"
   },
   {
    "duration": 599,
    "start_time": "2022-04-24T12:30:49.509Z"
   },
   {
    "duration": 21,
    "start_time": "2022-04-24T12:30:50.111Z"
   },
   {
    "duration": 23,
    "start_time": "2022-04-24T12:30:50.134Z"
   },
   {
    "duration": 564,
    "start_time": "2022-04-24T12:30:50.160Z"
   },
   {
    "duration": 5,
    "start_time": "2022-04-24T12:30:50.728Z"
   },
   {
    "duration": 32,
    "start_time": "2022-04-24T12:30:50.735Z"
   },
   {
    "duration": 6,
    "start_time": "2022-04-24T12:30:50.770Z"
   },
   {
    "duration": 5,
    "start_time": "2022-04-24T12:31:01.479Z"
   },
   {
    "duration": 31,
    "start_time": "2022-04-24T12:33:51.418Z"
   },
   {
    "duration": 39,
    "start_time": "2022-04-24T12:34:09.205Z"
   },
   {
    "duration": 8,
    "start_time": "2022-04-24T12:35:32.967Z"
   },
   {
    "duration": 7,
    "start_time": "2022-04-24T12:35:33.495Z"
   },
   {
    "duration": 162,
    "start_time": "2022-04-24T12:44:40.269Z"
   },
   {
    "duration": 16,
    "start_time": "2022-04-24T12:44:44.455Z"
   },
   {
    "duration": 279,
    "start_time": "2022-04-24T12:58:21.183Z"
   },
   {
    "duration": 364,
    "start_time": "2022-04-24T12:59:04.207Z"
   },
   {
    "duration": 580,
    "start_time": "2022-04-24T13:01:56.153Z"
   },
   {
    "duration": 97,
    "start_time": "2022-04-24T13:05:19.051Z"
   },
   {
    "duration": 5,
    "start_time": "2022-04-24T13:06:56.081Z"
   },
   {
    "duration": 382,
    "start_time": "2022-04-24T13:06:56.090Z"
   },
   {
    "duration": 230,
    "start_time": "2022-04-24T13:06:56.476Z"
   },
   {
    "duration": 167,
    "start_time": "2022-04-24T13:06:56.709Z"
   },
   {
    "duration": 12,
    "start_time": "2022-04-24T13:06:56.880Z"
   },
   {
    "duration": 67,
    "start_time": "2022-04-24T13:06:56.895Z"
   },
   {
    "duration": 17,
    "start_time": "2022-04-24T13:06:56.969Z"
   },
   {
    "duration": 80,
    "start_time": "2022-04-24T13:06:56.989Z"
   },
   {
    "duration": 52,
    "start_time": "2022-04-24T13:06:57.085Z"
   },
   {
    "duration": 63,
    "start_time": "2022-04-24T13:06:57.140Z"
   },
   {
    "duration": 22,
    "start_time": "2022-04-24T13:06:57.207Z"
   },
   {
    "duration": 66,
    "start_time": "2022-04-24T13:06:57.232Z"
   },
   {
    "duration": 14,
    "start_time": "2022-04-24T13:06:57.301Z"
   },
   {
    "duration": 116,
    "start_time": "2022-04-24T13:06:57.318Z"
   },
   {
    "duration": 46,
    "start_time": "2022-04-24T13:06:57.437Z"
   },
   {
    "duration": 27,
    "start_time": "2022-04-24T13:06:57.486Z"
   },
   {
    "duration": 104,
    "start_time": "2022-04-24T13:06:57.516Z"
   },
   {
    "duration": 142,
    "start_time": "2022-04-24T13:06:57.623Z"
   },
   {
    "duration": 37,
    "start_time": "2022-04-24T13:06:57.770Z"
   },
   {
    "duration": 103,
    "start_time": "2022-04-24T13:06:57.811Z"
   },
   {
    "duration": 20,
    "start_time": "2022-04-24T13:06:57.918Z"
   },
   {
    "duration": 53,
    "start_time": "2022-04-24T13:06:57.942Z"
   },
   {
    "duration": 18,
    "start_time": "2022-04-24T13:06:57.998Z"
   },
   {
    "duration": 211,
    "start_time": "2022-04-24T13:06:58.020Z"
   },
   {
    "duration": 38,
    "start_time": "2022-04-24T13:06:58.234Z"
   },
   {
    "duration": 87,
    "start_time": "2022-04-24T13:06:58.274Z"
   },
   {
    "duration": 20,
    "start_time": "2022-04-24T13:06:58.365Z"
   },
   {
    "duration": 72,
    "start_time": "2022-04-24T13:06:58.389Z"
   },
   {
    "duration": 82,
    "start_time": "2022-04-24T13:06:58.478Z"
   },
   {
    "duration": 11,
    "start_time": "2022-04-24T13:06:58.564Z"
   },
   {
    "duration": 25,
    "start_time": "2022-04-24T13:06:58.578Z"
   },
   {
    "duration": 150,
    "start_time": "2022-04-24T13:06:58.606Z"
   },
   {
    "duration": 30,
    "start_time": "2022-04-24T13:06:58.764Z"
   },
   {
    "duration": 83,
    "start_time": "2022-04-24T13:06:58.797Z"
   },
   {
    "duration": 12,
    "start_time": "2022-04-24T13:06:58.883Z"
   },
   {
    "duration": 58,
    "start_time": "2022-04-24T13:06:58.899Z"
   },
   {
    "duration": 79,
    "start_time": "2022-04-24T13:06:58.961Z"
   },
   {
    "duration": 121,
    "start_time": "2022-04-24T13:06:59.044Z"
   },
   {
    "duration": 11,
    "start_time": "2022-04-24T13:06:59.168Z"
   },
   {
    "duration": 20,
    "start_time": "2022-04-24T13:06:59.182Z"
   },
   {
    "duration": 65,
    "start_time": "2022-04-24T13:06:59.205Z"
   },
   {
    "duration": 34,
    "start_time": "2022-04-24T13:06:59.273Z"
   },
   {
    "duration": 65,
    "start_time": "2022-04-24T13:06:59.310Z"
   },
   {
    "duration": 42,
    "start_time": "2022-04-24T13:06:59.378Z"
   },
   {
    "duration": 63,
    "start_time": "2022-04-24T13:06:59.422Z"
   },
   {
    "duration": 49,
    "start_time": "2022-04-24T13:06:59.487Z"
   },
   {
    "duration": 58,
    "start_time": "2022-04-24T13:06:59.539Z"
   },
   {
    "duration": 71,
    "start_time": "2022-04-24T13:06:59.600Z"
   },
   {
    "duration": 29,
    "start_time": "2022-04-24T13:06:59.674Z"
   },
   {
    "duration": 64,
    "start_time": "2022-04-24T13:06:59.705Z"
   },
   {
    "duration": 31,
    "start_time": "2022-04-24T13:06:59.776Z"
   },
   {
    "duration": 30,
    "start_time": "2022-04-24T13:06:59.810Z"
   },
   {
    "duration": 184,
    "start_time": "2022-04-24T13:06:59.849Z"
   },
   {
    "duration": 4,
    "start_time": "2022-04-24T13:07:00.037Z"
   },
   {
    "duration": 3,
    "start_time": "2022-04-24T13:07:00.044Z"
   },
   {
    "duration": 83,
    "start_time": "2022-04-24T13:07:00.050Z"
   },
   {
    "duration": 68,
    "start_time": "2022-04-24T13:07:00.137Z"
   },
   {
    "duration": 101,
    "start_time": "2022-04-24T13:07:00.209Z"
   },
   {
    "duration": 5,
    "start_time": "2022-04-24T13:07:00.314Z"
   },
   {
    "duration": 92,
    "start_time": "2022-04-24T13:07:00.323Z"
   },
   {
    "duration": 200,
    "start_time": "2022-04-24T13:07:00.418Z"
   },
   {
    "duration": 22,
    "start_time": "2022-04-24T13:07:00.621Z"
   },
   {
    "duration": 56,
    "start_time": "2022-04-24T13:07:00.655Z"
   },
   {
    "duration": 16,
    "start_time": "2022-04-24T13:07:00.714Z"
   },
   {
    "duration": 39,
    "start_time": "2022-04-24T13:07:00.733Z"
   },
   {
    "duration": 16,
    "start_time": "2022-04-24T13:07:00.776Z"
   },
   {
    "duration": 9,
    "start_time": "2022-04-24T13:07:00.796Z"
   },
   {
    "duration": 496,
    "start_time": "2022-04-24T13:07:00.808Z"
   },
   {
    "duration": 23,
    "start_time": "2022-04-24T13:07:01.307Z"
   },
   {
    "duration": 56,
    "start_time": "2022-04-24T13:07:01.333Z"
   },
   {
    "duration": 23,
    "start_time": "2022-04-24T13:07:01.392Z"
   },
   {
    "duration": 396,
    "start_time": "2022-04-24T13:07:01.418Z"
   },
   {
    "duration": 373,
    "start_time": "2022-04-24T13:07:01.817Z"
   },
   {
    "duration": 36,
    "start_time": "2022-04-24T13:07:02.193Z"
   },
   {
    "duration": 76,
    "start_time": "2022-04-24T13:07:02.232Z"
   },
   {
    "duration": 63,
    "start_time": "2022-04-24T13:07:02.311Z"
   },
   {
    "duration": 41,
    "start_time": "2022-04-24T13:07:02.378Z"
   },
   {
    "duration": 45,
    "start_time": "2022-04-24T13:07:02.423Z"
   },
   {
    "duration": 390,
    "start_time": "2022-04-24T13:07:02.471Z"
   },
   {
    "duration": 406,
    "start_time": "2022-04-24T13:07:02.865Z"
   },
   {
    "duration": 32,
    "start_time": "2022-04-24T13:07:03.275Z"
   },
   {
    "duration": 18,
    "start_time": "2022-04-24T13:07:03.326Z"
   },
   {
    "duration": 14,
    "start_time": "2022-04-24T13:07:03.361Z"
   },
   {
    "duration": 459,
    "start_time": "2022-04-24T13:07:03.379Z"
   },
   {
    "duration": 7,
    "start_time": "2022-04-24T13:07:03.842Z"
   },
   {
    "duration": 503,
    "start_time": "2022-04-24T13:07:03.852Z"
   },
   {
    "duration": 26,
    "start_time": "2022-04-24T13:07:04.358Z"
   },
   {
    "duration": 20,
    "start_time": "2022-04-24T13:07:04.386Z"
   },
   {
    "duration": 63,
    "start_time": "2022-04-24T13:07:04.409Z"
   },
   {
    "duration": 31,
    "start_time": "2022-04-24T13:07:04.476Z"
   },
   {
    "duration": 62,
    "start_time": "2022-04-24T13:07:04.509Z"
   },
   {
    "duration": 25,
    "start_time": "2022-04-24T13:07:04.575Z"
   },
   {
    "duration": 76,
    "start_time": "2022-04-24T13:07:04.603Z"
   },
   {
    "duration": 51,
    "start_time": "2022-04-24T13:07:04.681Z"
   },
   {
    "duration": 39,
    "start_time": "2022-04-24T13:07:04.735Z"
   }
  ],
  "kernelspec": {
   "display_name": "Python 3 (ipykernel)",
   "language": "python",
   "name": "python3"
  },
  "language_info": {
   "codemirror_mode": {
    "name": "ipython",
    "version": 3
   },
   "file_extension": ".py",
   "mimetype": "text/x-python",
   "name": "python",
   "nbconvert_exporter": "python",
   "pygments_lexer": "ipython3",
   "version": "3.9.12"
  },
  "toc": {
   "base_numbering": 1,
   "nav_menu": {},
   "number_sections": true,
   "sideBar": true,
   "skip_h1_title": true,
   "title_cell": "Table of Contents",
   "title_sidebar": "Contents",
   "toc_cell": false,
   "toc_position": {
    "height": "calc(100% - 180px)",
    "left": "10px",
    "top": "150px",
    "width": "264px"
   },
   "toc_section_display": true,
   "toc_window_display": false
  }
 },
 "nbformat": 4,
 "nbformat_minor": 2
}
