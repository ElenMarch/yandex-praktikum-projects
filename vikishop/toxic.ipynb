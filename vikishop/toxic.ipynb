{
 "cells": [
  {
   "cell_type": "markdown",
   "metadata": {
    "toc": true
   },
   "source": [
    "<h1>Содержание<span class=\"tocSkip\"></span></h1>\n",
    "<div class=\"toc\"><ul class=\"toc-item\"><li><span><a href=\"#Подготовка-данных\" data-toc-modified-id=\"Подготовка-данных-1\"><span class=\"toc-item-num\">1&nbsp;&nbsp;</span>Подготовка данных</a></span></li><li><span><a href=\"#Обучение-моделей\" data-toc-modified-id=\"Обучение-моделей-2\"><span class=\"toc-item-num\">2&nbsp;&nbsp;</span>Обучение моделей</a></span></li><li><span><a href=\"#Выводы\" data-toc-modified-id=\"Выводы-3\"><span class=\"toc-item-num\">3&nbsp;&nbsp;</span>Выводы</a></span></li><li><span><a href=\"#Чек-лист-проверки\" data-toc-modified-id=\"Чек-лист-проверки-4\"><span class=\"toc-item-num\">4&nbsp;&nbsp;</span>Чек-лист проверки</a></span></li></ul></div>"
   ]
  },
  {
   "cell_type": "markdown",
   "metadata": {},
   "source": [
    "# Проект для «Викишоп»"
   ]
  },
  {
   "cell_type": "markdown",
   "metadata": {},
   "source": [
    "**Цель проекта**\n",
    "\n",
    "Магазину нужен инструмент, который будет искать токсичные комментарии и отправлять их на модерацию. Необходимо обучить модели классифицировать комментарии на позитивные и негативные. Построить модели со значением метрики качества *F1* не меньше 0.75. \n",
    "\n",
    "**Ход выполнения**\n",
    "\n",
    "1. Анализ и подготовка данных.\n",
    "2. Обучение моделей с различными гиперпараметрами, выбор лучшей на валидационной выборке. Тестирование моделей.\n",
    "3. Выводы.\n",
    "\n",
    "**Описание данных**\n",
    "\n",
    "Данные находятся в файле `toxic_comments.csv`. Столбец *text* в нём содержит текст комментария, а *toxic* — целевой признак."
   ]
  },
  {
   "cell_type": "markdown",
   "metadata": {},
   "source": [
    "## Подготовка данных"
   ]
  },
  {
   "cell_type": "code",
   "execution_count": 4,
   "metadata": {},
   "outputs": [
    {
     "name": "stdout",
     "output_type": "stream",
     "text": [
      "Collecting catboost\n",
      "  Downloading catboost-1.0.6-cp39-none-macosx_10_6_universal2.whl (22.0 MB)\n",
      "\u001b[K     |████████████████████████████████| 22.0 MB 2.7 MB/s eta 0:00:011     |█████████████████████████████▊  | 20.4 MB 2.7 MB/s eta 0:00:01\n",
      "\u001b[?25hRequirement already satisfied: pandas>=0.24.0 in /Users/elenamarchenko/opt/anaconda3/lib/python3.9/site-packages (from catboost) (1.4.2)\n",
      "Requirement already satisfied: plotly in /Users/elenamarchenko/opt/anaconda3/lib/python3.9/site-packages (from catboost) (5.6.0)\n",
      "Requirement already satisfied: six in /Users/elenamarchenko/opt/anaconda3/lib/python3.9/site-packages (from catboost) (1.16.0)\n",
      "Requirement already satisfied: matplotlib in /Users/elenamarchenko/opt/anaconda3/lib/python3.9/site-packages (from catboost) (3.5.1)\n",
      "Requirement already satisfied: scipy in /Users/elenamarchenko/opt/anaconda3/lib/python3.9/site-packages (from catboost) (1.7.3)\n",
      "Requirement already satisfied: numpy>=1.16.0 in /Users/elenamarchenko/opt/anaconda3/lib/python3.9/site-packages (from catboost) (1.21.5)\n",
      "Collecting graphviz\n",
      "  Downloading graphviz-0.20.1-py3-none-any.whl (47 kB)\n",
      "\u001b[K     |████████████████████████████████| 47 kB 3.8 MB/s eta 0:00:01\n",
      "\u001b[?25hRequirement already satisfied: python-dateutil>=2.8.1 in /Users/elenamarchenko/opt/anaconda3/lib/python3.9/site-packages (from pandas>=0.24.0->catboost) (2.8.2)\n",
      "Requirement already satisfied: pytz>=2020.1 in /Users/elenamarchenko/opt/anaconda3/lib/python3.9/site-packages (from pandas>=0.24.0->catboost) (2021.3)\n",
      "Requirement already satisfied: pyparsing>=2.2.1 in /Users/elenamarchenko/opt/anaconda3/lib/python3.9/site-packages (from matplotlib->catboost) (3.0.4)\n",
      "Requirement already satisfied: kiwisolver>=1.0.1 in /Users/elenamarchenko/opt/anaconda3/lib/python3.9/site-packages (from matplotlib->catboost) (1.3.2)\n",
      "Requirement already satisfied: cycler>=0.10 in /Users/elenamarchenko/opt/anaconda3/lib/python3.9/site-packages (from matplotlib->catboost) (0.11.0)\n",
      "Requirement already satisfied: pillow>=6.2.0 in /Users/elenamarchenko/opt/anaconda3/lib/python3.9/site-packages (from matplotlib->catboost) (9.0.1)\n",
      "Requirement already satisfied: fonttools>=4.22.0 in /Users/elenamarchenko/opt/anaconda3/lib/python3.9/site-packages (from matplotlib->catboost) (4.25.0)\n",
      "Requirement already satisfied: packaging>=20.0 in /Users/elenamarchenko/opt/anaconda3/lib/python3.9/site-packages (from matplotlib->catboost) (21.3)\n",
      "Requirement already satisfied: tenacity>=6.2.0 in /Users/elenamarchenko/opt/anaconda3/lib/python3.9/site-packages (from plotly->catboost) (8.0.1)\n",
      "Installing collected packages: graphviz, catboost\n",
      "Successfully installed catboost-1.0.6 graphviz-0.20.1\n"
     ]
    }
   ],
   "source": [
    "import matplotlib.pyplot as plt\n",
    "import numpy as np\n",
    "import pandas as pd\n",
    "import seaborn as sns\n",
    "\n",
    "import re\n",
    "\n",
    "from sklearn.linear_model import LogisticRegression\n",
    "from sklearn.dummy import DummyClassifier\n",
    "from sklearn.model_selection import train_test_split, cross_val_score, GridSearchCV, RandomizedSearchCV\n",
    "from sklearn.feature_extraction.text import TfidfVectorizer\n",
    "from sklearn.metrics import f1_score, average_precision_score, precision_recall_curve, roc_curve\n",
    "\n",
    "from nltk.corpus import stopwords, wordnet\n",
    "import nltk\n",
    "from nltk.stem import WordNetLemmatizer \n",
    "\n",
    "try:\n",
    "    from catboost import CatBoostClassifier, Pool\n",
    "except:\n",
    "    !pip install catboost\n",
    "    from catboost import CatBoostClassifier, Pool"
   ]
  },
  {
   "cell_type": "code",
   "execution_count": 16,
   "metadata": {
    "collapsed": true
   },
   "outputs": [
    {
     "name": "stderr",
     "output_type": "stream",
     "text": [
      "[nltk_data] Downloading package stopwords to\n",
      "[nltk_data]     /Users/elenamarchenko/nltk_data...\n",
      "[nltk_data]   Package stopwords is already up-to-date!\n",
      "[nltk_data] Downloading package wordnet to\n",
      "[nltk_data]     /Users/elenamarchenko/nltk_data...\n",
      "[nltk_data]   Package wordnet is already up-to-date!\n",
      "[nltk_data] Downloading package punkt to\n",
      "[nltk_data]     /Users/elenamarchenko/nltk_data...\n",
      "[nltk_data]   Package punkt is already up-to-date!\n",
      "[nltk_data] Downloading package averaged_perceptron_tagger to\n",
      "[nltk_data]     /Users/elenamarchenko/nltk_data...\n",
      "[nltk_data]   Package averaged_perceptron_tagger is already up-to-\n",
      "[nltk_data]       date!\n",
      "[nltk_data] Downloading package omw-1.4 to\n",
      "[nltk_data]     /Users/elenamarchenko/nltk_data...\n"
     ]
    },
    {
     "data": {
      "text/plain": [
       "True"
      ]
     },
     "execution_count": 16,
     "metadata": {},
     "output_type": "execute_result"
    }
   ],
   "source": [
    "nltk.download('stopwords')\n",
    "nltk.download('wordnet')\n",
    "nltk.download('punkt')\n",
    "nltk.download('averaged_perceptron_tagger')\n",
    "nltk.download('omw-1.4')"
   ]
  },
  {
   "cell_type": "code",
   "execution_count": 11,
   "metadata": {},
   "outputs": [],
   "source": [
    "try:\n",
    "    df = pd.read_csv('/datasets/toxic_comments.csv', index_col=False)\n",
    "except:\n",
    "    df = pd.read_csv('https://code.s3.yandex.net/datasets/toxic_comments.csv', index_col=False)"
   ]
  },
  {
   "cell_type": "code",
   "execution_count": 12,
   "metadata": {
    "scrolled": true
   },
   "outputs": [
    {
     "data": {
      "text/html": [
       "<div>\n",
       "<style scoped>\n",
       "    .dataframe tbody tr th:only-of-type {\n",
       "        vertical-align: middle;\n",
       "    }\n",
       "\n",
       "    .dataframe tbody tr th {\n",
       "        vertical-align: top;\n",
       "    }\n",
       "\n",
       "    .dataframe thead th {\n",
       "        text-align: right;\n",
       "    }\n",
       "</style>\n",
       "<table border=\"1\" class=\"dataframe\">\n",
       "  <thead>\n",
       "    <tr style=\"text-align: right;\">\n",
       "      <th></th>\n",
       "      <th>Unnamed: 0</th>\n",
       "      <th>text</th>\n",
       "      <th>toxic</th>\n",
       "    </tr>\n",
       "  </thead>\n",
       "  <tbody>\n",
       "    <tr>\n",
       "      <th>0</th>\n",
       "      <td>0</td>\n",
       "      <td>Explanation\\nWhy the edits made under my usern...</td>\n",
       "      <td>0</td>\n",
       "    </tr>\n",
       "    <tr>\n",
       "      <th>1</th>\n",
       "      <td>1</td>\n",
       "      <td>D'aww! He matches this background colour I'm s...</td>\n",
       "      <td>0</td>\n",
       "    </tr>\n",
       "    <tr>\n",
       "      <th>2</th>\n",
       "      <td>2</td>\n",
       "      <td>Hey man, I'm really not trying to edit war. It...</td>\n",
       "      <td>0</td>\n",
       "    </tr>\n",
       "    <tr>\n",
       "      <th>3</th>\n",
       "      <td>3</td>\n",
       "      <td>\"\\nMore\\nI can't make any real suggestions on ...</td>\n",
       "      <td>0</td>\n",
       "    </tr>\n",
       "    <tr>\n",
       "      <th>4</th>\n",
       "      <td>4</td>\n",
       "      <td>You, sir, are my hero. Any chance you remember...</td>\n",
       "      <td>0</td>\n",
       "    </tr>\n",
       "  </tbody>\n",
       "</table>\n",
       "</div>"
      ],
      "text/plain": [
       "   Unnamed: 0                                               text  toxic\n",
       "0           0  Explanation\\nWhy the edits made under my usern...      0\n",
       "1           1  D'aww! He matches this background colour I'm s...      0\n",
       "2           2  Hey man, I'm really not trying to edit war. It...      0\n",
       "3           3  \"\\nMore\\nI can't make any real suggestions on ...      0\n",
       "4           4  You, sir, are my hero. Any chance you remember...      0"
      ]
     },
     "execution_count": 12,
     "metadata": {},
     "output_type": "execute_result"
    }
   ],
   "source": [
    "df.head()"
   ]
  },
  {
   "cell_type": "code",
   "execution_count": 8,
   "metadata": {},
   "outputs": [
    {
     "name": "stdout",
     "output_type": "stream",
     "text": [
      "<class 'pandas.core.frame.DataFrame'>\n",
      "RangeIndex: 159292 entries, 0 to 159291\n",
      "Data columns (total 3 columns):\n",
      " #   Column      Non-Null Count   Dtype \n",
      "---  ------      --------------   ----- \n",
      " 0   Unnamed: 0  159292 non-null  int64 \n",
      " 1   text        159292 non-null  object\n",
      " 2   toxic       159292 non-null  int64 \n",
      "dtypes: int64(2), object(1)\n",
      "memory usage: 3.6+ MB\n"
     ]
    }
   ],
   "source": [
    "df.info()"
   ]
  },
  {
   "cell_type": "markdown",
   "metadata": {},
   "source": [
    "Датафрейм содержит текст комментариев и целевой признак тонкичности/нетоксичности для 159571 объекта исследования. Проверка на дубликаты не нужна, пропуски в данных отсутствуют. Так же необходимо:\n",
    "\n",
    "- перейти к векторному представлению слов;\n",
    "- очистить тексты от знаков препинания и лишних символов."
   ]
  },
  {
   "cell_type": "code",
   "execution_count": 6,
   "metadata": {},
   "outputs": [
    {
     "data": {
      "text/html": [
       "<div>\n",
       "<style scoped>\n",
       "    .dataframe tbody tr th:only-of-type {\n",
       "        vertical-align: middle;\n",
       "    }\n",
       "\n",
       "    .dataframe tbody tr th {\n",
       "        vertical-align: top;\n",
       "    }\n",
       "\n",
       "    .dataframe thead th {\n",
       "        text-align: right;\n",
       "    }\n",
       "</style>\n",
       "<table border=\"1\" class=\"dataframe\">\n",
       "  <thead>\n",
       "    <tr style=\"text-align: right;\">\n",
       "      <th></th>\n",
       "      <th>toxic</th>\n",
       "    </tr>\n",
       "  </thead>\n",
       "  <tbody>\n",
       "    <tr>\n",
       "      <th>count</th>\n",
       "      <td>159571.000000</td>\n",
       "    </tr>\n",
       "    <tr>\n",
       "      <th>mean</th>\n",
       "      <td>0.101679</td>\n",
       "    </tr>\n",
       "    <tr>\n",
       "      <th>std</th>\n",
       "      <td>0.302226</td>\n",
       "    </tr>\n",
       "    <tr>\n",
       "      <th>min</th>\n",
       "      <td>0.000000</td>\n",
       "    </tr>\n",
       "    <tr>\n",
       "      <th>25%</th>\n",
       "      <td>0.000000</td>\n",
       "    </tr>\n",
       "    <tr>\n",
       "      <th>50%</th>\n",
       "      <td>0.000000</td>\n",
       "    </tr>\n",
       "    <tr>\n",
       "      <th>75%</th>\n",
       "      <td>0.000000</td>\n",
       "    </tr>\n",
       "    <tr>\n",
       "      <th>max</th>\n",
       "      <td>1.000000</td>\n",
       "    </tr>\n",
       "  </tbody>\n",
       "</table>\n",
       "</div>"
      ],
      "text/plain": [
       "               toxic\n",
       "count  159571.000000\n",
       "mean        0.101679\n",
       "std         0.302226\n",
       "min         0.000000\n",
       "25%         0.000000\n",
       "50%         0.000000\n",
       "75%         0.000000\n",
       "max         1.000000"
      ]
     },
     "execution_count": 6,
     "metadata": {},
     "output_type": "execute_result"
    }
   ],
   "source": [
    "df.describe()"
   ]
  },
  {
   "cell_type": "markdown",
   "metadata": {},
   "source": [
    "Согласно данным, 90% комментариев имеют тип \"0\" («отрицательный»). Таким образом, работа будет производиться с несбалансированными классами."
   ]
  },
  {
   "cell_type": "code",
   "execution_count": 13,
   "metadata": {},
   "outputs": [],
   "source": [
    "df['text'] = df['text'].str.lower().values"
   ]
  },
  {
   "cell_type": "code",
   "execution_count": 14,
   "metadata": {},
   "outputs": [],
   "source": [
    "def get_wordnet_pos(word):\n",
    "    tag = nltk.pos_tag([word])[0][1][0].upper()\n",
    "    tag_dict = {\"J\": wordnet.ADJ,\n",
    "                \"N\": wordnet.NOUN,\n",
    "                \"V\": wordnet.VERB,\n",
    "                \"R\": wordnet.ADV}\n",
    "    return tag_dict.get(tag, wordnet.NOUN)"
   ]
  },
  {
   "cell_type": "code",
   "execution_count": 17,
   "metadata": {},
   "outputs": [
    {
     "name": "stdout",
     "output_type": "stream",
     "text": [
      "hero\n"
     ]
    }
   ],
   "source": [
    "w_n = WordNetLemmatizer()\n",
    "word = 'heros'\n",
    "print(w_n.lemmatize(word, get_wordnet_pos(word)))"
   ]
  },
  {
   "cell_type": "code",
   "execution_count": 21,
   "metadata": {},
   "outputs": [],
   "source": [
    "def lemmatizer(text):\n",
    "    lemm_list = nltk.word_tokenize(text)\n",
    "    lemm_text = \" \".join([w_n.lemmatize(w, get_wordnet_pos(w)) for w in lemm_list])\n",
    "    return lemm_text\n",
    "\n",
    "def clear_text(text):\n",
    "    re_text = re.sub(r'[^a-z]', \" \", text)\n",
    "    clear_text = \" \".join(re_text.split())\n",
    "    \n",
    "    return clear_text"
   ]
  },
  {
   "cell_type": "code",
   "execution_count": 22,
   "metadata": {},
   "outputs": [
    {
     "name": "stdout",
     "output_type": "stream",
     "text": [
      "CPU times: user 15min 27s, sys: 52.9 s, total: 16min 19s\n",
      "Wall time: 16min 20s\n"
     ]
    }
   ],
   "source": [
    "%%time\n",
    "df['text_lemm'] = df['text'].apply(lambda t: lemmatizer(clear_text(t)))"
   ]
  },
  {
   "cell_type": "code",
   "execution_count": 12,
   "metadata": {},
   "outputs": [
    {
     "data": {
      "text/html": [
       "<div>\n",
       "<style scoped>\n",
       "    .dataframe tbody tr th:only-of-type {\n",
       "        vertical-align: middle;\n",
       "    }\n",
       "\n",
       "    .dataframe tbody tr th {\n",
       "        vertical-align: top;\n",
       "    }\n",
       "\n",
       "    .dataframe thead th {\n",
       "        text-align: right;\n",
       "    }\n",
       "</style>\n",
       "<table border=\"1\" class=\"dataframe\">\n",
       "  <thead>\n",
       "    <tr style=\"text-align: right;\">\n",
       "      <th></th>\n",
       "      <th>text</th>\n",
       "      <th>toxic</th>\n",
       "      <th>text_lemm</th>\n",
       "    </tr>\n",
       "  </thead>\n",
       "  <tbody>\n",
       "    <tr>\n",
       "      <th>0</th>\n",
       "      <td>explanation\\nwhy the edits made under my usern...</td>\n",
       "      <td>0</td>\n",
       "      <td>explanation why the edits make under my userna...</td>\n",
       "    </tr>\n",
       "    <tr>\n",
       "      <th>1</th>\n",
       "      <td>d'aww! he matches this background colour i'm s...</td>\n",
       "      <td>0</td>\n",
       "      <td>d aww he match this background colour i m seem...</td>\n",
       "    </tr>\n",
       "    <tr>\n",
       "      <th>2</th>\n",
       "      <td>hey man, i'm really not trying to edit war. it...</td>\n",
       "      <td>0</td>\n",
       "      <td>hey man i m really not try to edit war it s ju...</td>\n",
       "    </tr>\n",
       "  </tbody>\n",
       "</table>\n",
       "</div>"
      ],
      "text/plain": [
       "                                                text  toxic  \\\n",
       "0  explanation\\nwhy the edits made under my usern...      0   \n",
       "1  d'aww! he matches this background colour i'm s...      0   \n",
       "2  hey man, i'm really not trying to edit war. it...      0   \n",
       "\n",
       "                                           text_lemm  \n",
       "0  explanation why the edits make under my userna...  \n",
       "1  d aww he match this background colour i m seem...  \n",
       "2  hey man i m really not try to edit war it s ju...  "
      ]
     },
     "execution_count": 12,
     "metadata": {},
     "output_type": "execute_result"
    }
   ],
   "source": [
    "df.head(3)"
   ]
  },
  {
   "cell_type": "code",
   "execution_count": 13,
   "metadata": {},
   "outputs": [
    {
     "data": {
      "text/plain": [
       "45"
      ]
     },
     "execution_count": 13,
     "metadata": {},
     "output_type": "execute_result"
    }
   ],
   "source": [
    "df.duplicated().sum()"
   ]
  },
  {
   "cell_type": "code",
   "execution_count": 14,
   "metadata": {},
   "outputs": [],
   "source": [
    "df = df.drop_duplicates()"
   ]
  },
  {
   "cell_type": "markdown",
   "metadata": {},
   "source": [
    "*Вывод*\n",
    "\n",
    "На данном этапе мы ознакомились с данными, кроме того:\n",
    "\n",
    "- тексты очищены от ненужных символов\n",
    "- создан лемматизированный столбец `text_lemm`\n",
    "- удалены дубликаты"
   ]
  },
  {
   "cell_type": "markdown",
   "metadata": {},
   "source": [
    "## Обучение моделей"
   ]
  },
  {
   "cell_type": "code",
   "execution_count": 15,
   "metadata": {},
   "outputs": [],
   "source": [
    "stop_words = set(stopwords.words('english'))"
   ]
  },
  {
   "cell_type": "markdown",
   "metadata": {},
   "source": [
    "Метрика $f1$ будет показателем качества моделирования, ее значения должно быть не менее 0,75.\n",
    "\n",
    "Разобьем данный в соотношении 3:2 для дальнейшего обучения:"
   ]
  },
  {
   "cell_type": "code",
   "execution_count": 16,
   "metadata": {},
   "outputs": [],
   "source": [
    "train, test = train_test_split(df, test_size= 0.4, random_state = 147)"
   ]
  },
  {
   "cell_type": "code",
   "execution_count": 17,
   "metadata": {},
   "outputs": [
    {
     "data": {
      "text/plain": [
       "((95715, 3), (63811, 3))"
      ]
     },
     "execution_count": 17,
     "metadata": {},
     "output_type": "execute_result"
    }
   ],
   "source": [
    "train.shape, test.shape"
   ]
  },
  {
   "cell_type": "code",
   "execution_count": 18,
   "metadata": {},
   "outputs": [],
   "source": [
    "corpus = train['text_lemm'].values"
   ]
  },
  {
   "cell_type": "code",
   "execution_count": 19,
   "metadata": {},
   "outputs": [],
   "source": [
    "count_tf_idf = TfidfVectorizer(stop_words=stop_words)"
   ]
  },
  {
   "cell_type": "code",
   "execution_count": 20,
   "metadata": {},
   "outputs": [],
   "source": [
    "tf_idf = count_tf_idf.fit_transform(corpus)"
   ]
  },
  {
   "cell_type": "code",
   "execution_count": 21,
   "metadata": {},
   "outputs": [],
   "source": [
    "features_train = tf_idf\n",
    "target_train = train['toxic']"
   ]
  },
  {
   "cell_type": "code",
   "execution_count": 22,
   "metadata": {},
   "outputs": [],
   "source": [
    "features_test = count_tf_idf.transform(test['text_lemm'])\n",
    "target_test = test['toxic']"
   ]
  },
  {
   "cell_type": "markdown",
   "metadata": {},
   "source": [
    "Для записи результатов моделирования создам таблицу:"
   ]
  },
  {
   "cell_type": "code",
   "execution_count": 23,
   "metadata": {},
   "outputs": [],
   "source": [
    "models = pd.DataFrame(columns = ['parameters', 'f1_train', 'f1_test'])"
   ]
  },
  {
   "cell_type": "code",
   "execution_count": 24,
   "metadata": {},
   "outputs": [],
   "source": [
    "predictions = pd.DataFrame(columns = ['y_true'], data= test['toxic'].values)"
   ]
  },
  {
   "cell_type": "code",
   "execution_count": 25,
   "metadata": {},
   "outputs": [],
   "source": [
    "def model_metrics(df, model_name: str, f1_train: float, f1_test: float, parameters: np.array):\n",
    "    \n",
    "    df.loc[model_name, 'parameters'] = parameters\n",
    "    df.loc[model_name, 'f1_train'] = round(f1_train, 5)\n",
    "    df.loc[model_name, 'f1_test'] = round(f1_test, 5)"
   ]
  },
  {
   "cell_type": "markdown",
   "metadata": {},
   "source": [
    "**CatBoostClassifier**"
   ]
  },
  {
   "cell_type": "code",
   "execution_count": 26,
   "metadata": {},
   "outputs": [],
   "source": [
    "text_feat = ['text_lemm']\n",
    "features = ['text_lemm']\n",
    "target = ['toxic']"
   ]
  },
  {
   "cell_type": "code",
   "execution_count": 27,
   "metadata": {},
   "outputs": [],
   "source": [
    "train_data = Pool(data=train[features],\n",
    "                  label=train[target],\n",
    "                  text_features=text_feat\n",
    "                 )"
   ]
  },
  {
   "cell_type": "code",
   "execution_count": 28,
   "metadata": {
    "scrolled": true
   },
   "outputs": [],
   "source": [
    "test_data = Pool(data=test[features],\n",
    "                  label=test[target],\n",
    "                  text_features=text_feat\n",
    "                 )"
   ]
  },
  {
   "cell_type": "code",
   "execution_count": 29,
   "metadata": {
    "scrolled": true
   },
   "outputs": [
    {
     "name": "stdout",
     "output_type": "stream",
     "text": [
      "0:\tlearn: 0.7078581\ttotal: 300ms\tremaining: 4m 59s\n",
      "500:\tlearn: 0.8267983\ttotal: 1m 11s\tremaining: 1m 11s\n",
      "999:\tlearn: 0.8598290\ttotal: 2m 23s\tremaining: 0us\n",
      "Wall time: 2min 27s\n"
     ]
    },
    {
     "data": {
      "text/plain": [
       "<catboost.core.CatBoostClassifier at 0x1fd142ca2e0>"
      ]
     },
     "execution_count": 29,
     "metadata": {},
     "output_type": "execute_result"
    }
   ],
   "source": [
    "%%time\n",
    "params=  {'text_features': text_feat,\n",
    "          'eval_metric': 'F1',\n",
    "          'learning_rate': 0.15,\n",
    "          'l2_leaf_reg': 5,\n",
    "          'random_seed': 147,\n",
    "          'verbose': 500\n",
    "         }\n",
    "cat_model = CatBoostClassifier(**params)\n",
    "cat_model.fit(train_data)"
   ]
  },
  {
   "cell_type": "code",
   "execution_count": 30,
   "metadata": {},
   "outputs": [],
   "source": [
    "predictions['cat_pred'] = cat_model.predict(test_data)"
   ]
  },
  {
   "cell_type": "code",
   "execution_count": 31,
   "metadata": {},
   "outputs": [],
   "source": [
    "cat_train = f1_score(train['toxic'], cat_model.predict(train_data))\n",
    "cat_test = f1_score(test['toxic'], predictions['cat_pred'])"
   ]
  },
  {
   "cell_type": "code",
   "execution_count": 32,
   "metadata": {
    "scrolled": true
   },
   "outputs": [
    {
     "name": "stdout",
     "output_type": "stream",
     "text": [
      "Оценка F1 на тренировочных данных: 0.8824667071890369\n",
      "Оценка F1 на тестовых данных: 0.7913918205804749\n"
     ]
    }
   ],
   "source": [
    "print('Оценка F1 на тренировочных данных:', cat_train)\n",
    "print('Оценка F1 на тестовых данных:', cat_test)"
   ]
  },
  {
   "cell_type": "code",
   "execution_count": 33,
   "metadata": {
    "scrolled": false
   },
   "outputs": [],
   "source": [
    "model_metrics(models, 'CatBoostClassifier', cat_train, cat_test, [params])"
   ]
  },
  {
   "cell_type": "code",
   "execution_count": 34,
   "metadata": {},
   "outputs": [],
   "source": [
    "#%%time\n",
    "#grid = {'text_features': [text_feat],\n",
    "#        'eval_metric': ['F1'],\n",
    "#        'learning_rate': [0.15, 0.3],\n",
    "#        'random_seed': [147],\n",
    "#        'l2_leaf_reg': [3, 5],\n",
    "#        'verbose': [500] \n",
    "#       }\n",
    "#\n",
    "#catboost = GridSearchCV(CatBoostClassifier(), grid, scoring = 'f1', cv=3)\n",
    "#catboost.fit(train[features], train[target])"
   ]
  },
  {
   "cell_type": "markdown",
   "metadata": {},
   "source": [
    "**LogisticRegression**"
   ]
  },
  {
   "cell_type": "code",
   "execution_count": 36,
   "metadata": {},
   "outputs": [
    {
     "name": "stdout",
     "output_type": "stream",
     "text": [
      "Гиперпараметры модели: {'C': 9, 'max_iter': 50, 'random_state': 147, 'solver': 'newton-cg'}\n",
      "Оценка F1 на тренировочных данных: 0.7549209037742493\n",
      "Wall time: 3min 37s\n"
     ]
    }
   ],
   "source": [
    "%%time\n",
    "log_reg = LogisticRegression()\n",
    "params = {'C':  range(5,11,2),\n",
    "          'solver': ['newton-cg', 'sag', 'liblinear'],\n",
    "          'max_iter': range(50, 151, 50),\n",
    "          'random_state': [147]\n",
    "         }\n",
    "log_model = GridSearchCV(log_reg, params, scoring= 'f1', cv=5)\n",
    "log_model.fit(features_train, target_train)\n",
    "print('Гиперпараметры модели:', log_model.best_params_)\n",
    "print('Оценка F1 на тренировочных данных:', log_model.best_score_)"
   ]
  },
  {
   "cell_type": "code",
   "execution_count": 37,
   "metadata": {},
   "outputs": [],
   "source": [
    "predictions['log_pred'] = log_model.predict(features_test)"
   ]
  },
  {
   "cell_type": "code",
   "execution_count": 38,
   "metadata": {},
   "outputs": [
    {
     "name": "stdout",
     "output_type": "stream",
     "text": [
      "Оценка F1 на тестовых данных: 0.7654977278573265\n"
     ]
    }
   ],
   "source": [
    "log_test = f1_score(target_test, predictions['log_pred'])\n",
    "print('Оценка F1 на тестовых данных:', log_test)"
   ]
  },
  {
   "cell_type": "code",
   "execution_count": 39,
   "metadata": {},
   "outputs": [],
   "source": [
    "model_metrics(models, 'LogisticRegression', log_model.best_score_, log_test, [log_model.best_params_])"
   ]
  },
  {
   "cell_type": "markdown",
   "metadata": {},
   "source": [
    "**LGBMClassifier**"
   ]
  },
  {
   "cell_type": "code",
   "execution_count": 40,
   "metadata": {},
   "outputs": [
    {
     "name": "stdout",
     "output_type": "stream",
     "text": [
      "Гиперпараметры модели: {'random_state': 147, 'objective': 'binary', 'n_estimators': 100, 'learning_rate': 0.5}\n",
      "Оценка F1 на тренировочных данных: 0.7569490723274969\n",
      "Wall time: 9min 45s\n"
     ]
    }
   ],
   "source": [
    "%%time\n",
    "lgbm = LGBMClassifier()\n",
    "params= {'n_estimators': range(50, 210, 50),\n",
    "        'learning_rate': [0.1, 0.5, 0.8],\n",
    "         'objective': ['binary'], \n",
    "         'random_state': [147]\n",
    "        }\n",
    "\n",
    "lgbm_model = RandomizedSearchCV(lgbm, params, scoring= 'f1', cv=5)\n",
    "lgbm_model.fit(features_train, target_train)\n",
    "print('Гиперпараметры модели:', lgbm_model.best_params_)\n",
    "print('Оценка F1 на тренировочных данных:', lgbm_model.best_score_)"
   ]
  },
  {
   "cell_type": "code",
   "execution_count": 41,
   "metadata": {},
   "outputs": [],
   "source": [
    "predictions['lgbm_pred'] = lgbm_model.predict(features_test)"
   ]
  },
  {
   "cell_type": "code",
   "execution_count": 42,
   "metadata": {},
   "outputs": [
    {
     "name": "stdout",
     "output_type": "stream",
     "text": [
      "Оценка F1 на тестовых данных: 0.7628968253968254\n"
     ]
    }
   ],
   "source": [
    "lgbm_test = f1_score(target_test, predictions['lgbm_pred'])\n",
    "print('Оценка F1 на тестовых данных:', lgbm_test)"
   ]
  },
  {
   "cell_type": "code",
   "execution_count": 43,
   "metadata": {},
   "outputs": [],
   "source": [
    "model_metrics(models, 'LGBMClassifier', lgbm_model.best_score_, lgbm_test, [lgbm_model.best_params_])"
   ]
  },
  {
   "cell_type": "markdown",
   "metadata": {},
   "source": [
    "**XGBClassifier**"
   ]
  },
  {
   "cell_type": "code",
   "execution_count": 44,
   "metadata": {
    "scrolled": true
   },
   "outputs": [
    {
     "name": "stdout",
     "output_type": "stream",
     "text": [
      "Гиперпараметры модели: {'booster': 'dart', 'eta': 1, 'gamma': 4, 'objective': 'reg:logistic', 'random_state': 147, 'use_label_encoder': False, 'verbosity': 0}\n",
      "Оценка F1 на тренировочных данных: 0.7344688244116249\n",
      "Wall time: 14min 2s\n"
     ]
    }
   ],
   "source": [
    "%%time\n",
    "xgb = XGBClassifier()\n",
    "params= {'booster': ['dart', 'gbtree'],\n",
    "         'eta': [0.3, 1],\n",
    "         'gamma': [2, 4],\n",
    "         'objective': ['reg:logistic'], \n",
    "         'use_label_encoder': [False],\n",
    "         'verbosity': [0],\n",
    "         'random_state': [147]\n",
    "        }\n",
    "\n",
    "xgb_model = GridSearchCV(xgb, params, scoring= 'f1', cv=3)\n",
    "xgb_model.fit(features_train, target_train)\n",
    "print('Гиперпараметры модели:', xgb_model.best_params_)\n",
    "print('Оценка F1 на тренировочных данных:', xgb_model.best_score_)"
   ]
  },
  {
   "cell_type": "code",
   "execution_count": 45,
   "metadata": {},
   "outputs": [],
   "source": [
    "predictions['xgb_pred'] = xgb_model.predict(features_test)"
   ]
  },
  {
   "cell_type": "code",
   "execution_count": 46,
   "metadata": {},
   "outputs": [
    {
     "name": "stdout",
     "output_type": "stream",
     "text": [
      "Оценка F1 на тестовых данных: 0.7418550398198053\n"
     ]
    }
   ],
   "source": [
    "xgb_test = f1_score(target_test, predictions['xgb_pred'])\n",
    "print('Оценка F1 на тестовых данных:', xgb_test)"
   ]
  },
  {
   "cell_type": "code",
   "execution_count": 47,
   "metadata": {},
   "outputs": [],
   "source": [
    "model_metrics(models, 'XGBClassifier', xgb_model.best_score_, xgb_test, [xgb_model.best_params_])"
   ]
  },
  {
   "cell_type": "markdown",
   "metadata": {},
   "source": [
    "**DummyClassifier**"
   ]
  },
  {
   "cell_type": "code",
   "execution_count": 48,
   "metadata": {},
   "outputs": [
    {
     "name": "stdout",
     "output_type": "stream",
     "text": [
      "Оценка F1 на тренировочных данных: 0.16781455323812605\n",
      "Оценка F1 на тестовых данных: 0.16850567463299576\n"
     ]
    }
   ],
   "source": [
    "dummy_clf= DummyClassifier(strategy = 'uniform') \n",
    "dummy_train_score = cross_val_score(dummy_clf, features_train, target_train, scoring='f1', cv=5).mean()\n",
    "dummy_test_score = cross_val_score(dummy_clf, features_test, target_test, scoring='f1', cv=5).mean()\n",
    "print('Оценка F1 на тренировочных данных:', dummy_train_score)\n",
    "print('Оценка F1 на тестовых данных:', dummy_test_score)"
   ]
  },
  {
   "cell_type": "code",
   "execution_count": 49,
   "metadata": {},
   "outputs": [],
   "source": [
    "model_metrics(models, 'DummyClassifier', dummy_train_score, dummy_test_score, ['uniform'])"
   ]
  },
  {
   "cell_type": "code",
   "execution_count": 50,
   "metadata": {
    "scrolled": true
   },
   "outputs": [
    {
     "data": {
      "text/html": [
       "<div>\n",
       "<style scoped>\n",
       "    .dataframe tbody tr th:only-of-type {\n",
       "        vertical-align: middle;\n",
       "    }\n",
       "\n",
       "    .dataframe tbody tr th {\n",
       "        vertical-align: top;\n",
       "    }\n",
       "\n",
       "    .dataframe thead th {\n",
       "        text-align: right;\n",
       "    }\n",
       "</style>\n",
       "<table border=\"1\" class=\"dataframe\">\n",
       "  <thead>\n",
       "    <tr style=\"text-align: right;\">\n",
       "      <th></th>\n",
       "      <th>parameters</th>\n",
       "      <th>f1_train</th>\n",
       "      <th>f1_test</th>\n",
       "    </tr>\n",
       "  </thead>\n",
       "  <tbody>\n",
       "    <tr>\n",
       "      <th>CatBoostClassifier</th>\n",
       "      <td>[{'text_features': ['text_lemm'], 'eval_metric...</td>\n",
       "      <td>0.88247</td>\n",
       "      <td>0.79139</td>\n",
       "    </tr>\n",
       "    <tr>\n",
       "      <th>LogisticRegression</th>\n",
       "      <td>[{'C': 9, 'max_iter': 50, 'random_state': 147,...</td>\n",
       "      <td>0.75492</td>\n",
       "      <td>0.7655</td>\n",
       "    </tr>\n",
       "    <tr>\n",
       "      <th>LGBMClassifier</th>\n",
       "      <td>[{'random_state': 147, 'objective': 'binary', ...</td>\n",
       "      <td>0.75695</td>\n",
       "      <td>0.7629</td>\n",
       "    </tr>\n",
       "    <tr>\n",
       "      <th>XGBClassifier</th>\n",
       "      <td>[{'booster': 'dart', 'eta': 1, 'gamma': 4, 'ob...</td>\n",
       "      <td>0.73447</td>\n",
       "      <td>0.74186</td>\n",
       "    </tr>\n",
       "    <tr>\n",
       "      <th>DummyClassifier</th>\n",
       "      <td>[uniform]</td>\n",
       "      <td>0.16781</td>\n",
       "      <td>0.16851</td>\n",
       "    </tr>\n",
       "  </tbody>\n",
       "</table>\n",
       "</div>"
      ],
      "text/plain": [
       "                                                           parameters  \\\n",
       "CatBoostClassifier  [{'text_features': ['text_lemm'], 'eval_metric...   \n",
       "LogisticRegression  [{'C': 9, 'max_iter': 50, 'random_state': 147,...   \n",
       "LGBMClassifier      [{'random_state': 147, 'objective': 'binary', ...   \n",
       "XGBClassifier       [{'booster': 'dart', 'eta': 1, 'gamma': 4, 'ob...   \n",
       "DummyClassifier                                             [uniform]   \n",
       "\n",
       "                   f1_train  f1_test  \n",
       "CatBoostClassifier  0.88247  0.79139  \n",
       "LogisticRegression  0.75492   0.7655  \n",
       "LGBMClassifier      0.75695   0.7629  \n",
       "XGBClassifier       0.73447  0.74186  \n",
       "DummyClassifier     0.16781  0.16851  "
      ]
     },
     "execution_count": 50,
     "metadata": {},
     "output_type": "execute_result"
    }
   ],
   "source": [
    "models"
   ]
  },
  {
   "cell_type": "markdown",
   "metadata": {},
   "source": [
    "**Выводы**\n",
    "\n",
    "На данном этапе были рассмотрены несколько моделей. Результаты моделирования записаны в датафрейм. \n",
    "\n",
    "Далее рассмотрим какая из выбранных моделей лучше всего показала себя на тренировочных и тестовых данных."
   ]
  },
  {
   "cell_type": "markdown",
   "metadata": {},
   "source": [
    "## Выводы"
   ]
  },
  {
   "cell_type": "markdown",
   "metadata": {},
   "source": [
    "Рассмотрим предсказанные значения:"
   ]
  },
  {
   "cell_type": "code",
   "execution_count": 51,
   "metadata": {},
   "outputs": [
    {
     "data": {
      "text/html": [
       "<div>\n",
       "<style scoped>\n",
       "    .dataframe tbody tr th:only-of-type {\n",
       "        vertical-align: middle;\n",
       "    }\n",
       "\n",
       "    .dataframe tbody tr th {\n",
       "        vertical-align: top;\n",
       "    }\n",
       "\n",
       "    .dataframe thead th {\n",
       "        text-align: right;\n",
       "    }\n",
       "</style>\n",
       "<table border=\"1\" class=\"dataframe\">\n",
       "  <thead>\n",
       "    <tr style=\"text-align: right;\">\n",
       "      <th></th>\n",
       "      <th>y_true</th>\n",
       "      <th>cat_pred</th>\n",
       "      <th>log_pred</th>\n",
       "      <th>lgbm_pred</th>\n",
       "      <th>xgb_pred</th>\n",
       "    </tr>\n",
       "  </thead>\n",
       "  <tbody>\n",
       "    <tr>\n",
       "      <th>count</th>\n",
       "      <td>63811.000000</td>\n",
       "      <td>63811.000000</td>\n",
       "      <td>63811.000000</td>\n",
       "      <td>63811.000000</td>\n",
       "      <td>63811.000000</td>\n",
       "    </tr>\n",
       "    <tr>\n",
       "      <th>mean</th>\n",
       "      <td>0.103681</td>\n",
       "      <td>0.086380</td>\n",
       "      <td>0.079093</td>\n",
       "      <td>0.085879</td>\n",
       "      <td>0.091128</td>\n",
       "    </tr>\n",
       "    <tr>\n",
       "      <th>std</th>\n",
       "      <td>0.304849</td>\n",
       "      <td>0.280927</td>\n",
       "      <td>0.269886</td>\n",
       "      <td>0.280187</td>\n",
       "      <td>0.287794</td>\n",
       "    </tr>\n",
       "    <tr>\n",
       "      <th>min</th>\n",
       "      <td>0.000000</td>\n",
       "      <td>0.000000</td>\n",
       "      <td>0.000000</td>\n",
       "      <td>0.000000</td>\n",
       "      <td>0.000000</td>\n",
       "    </tr>\n",
       "    <tr>\n",
       "      <th>25%</th>\n",
       "      <td>0.000000</td>\n",
       "      <td>0.000000</td>\n",
       "      <td>0.000000</td>\n",
       "      <td>0.000000</td>\n",
       "      <td>0.000000</td>\n",
       "    </tr>\n",
       "    <tr>\n",
       "      <th>50%</th>\n",
       "      <td>0.000000</td>\n",
       "      <td>0.000000</td>\n",
       "      <td>0.000000</td>\n",
       "      <td>0.000000</td>\n",
       "      <td>0.000000</td>\n",
       "    </tr>\n",
       "    <tr>\n",
       "      <th>75%</th>\n",
       "      <td>0.000000</td>\n",
       "      <td>0.000000</td>\n",
       "      <td>0.000000</td>\n",
       "      <td>0.000000</td>\n",
       "      <td>0.000000</td>\n",
       "    </tr>\n",
       "    <tr>\n",
       "      <th>max</th>\n",
       "      <td>1.000000</td>\n",
       "      <td>1.000000</td>\n",
       "      <td>1.000000</td>\n",
       "      <td>1.000000</td>\n",
       "      <td>1.000000</td>\n",
       "    </tr>\n",
       "  </tbody>\n",
       "</table>\n",
       "</div>"
      ],
      "text/plain": [
       "             y_true      cat_pred      log_pred     lgbm_pred      xgb_pred\n",
       "count  63811.000000  63811.000000  63811.000000  63811.000000  63811.000000\n",
       "mean       0.103681      0.086380      0.079093      0.085879      0.091128\n",
       "std        0.304849      0.280927      0.269886      0.280187      0.287794\n",
       "min        0.000000      0.000000      0.000000      0.000000      0.000000\n",
       "25%        0.000000      0.000000      0.000000      0.000000      0.000000\n",
       "50%        0.000000      0.000000      0.000000      0.000000      0.000000\n",
       "75%        0.000000      0.000000      0.000000      0.000000      0.000000\n",
       "max        1.000000      1.000000      1.000000      1.000000      1.000000"
      ]
     },
     "execution_count": 51,
     "metadata": {},
     "output_type": "execute_result"
    }
   ],
   "source": [
    "predictions.describe()"
   ]
  },
  {
   "cell_type": "markdown",
   "metadata": {},
   "source": [
    "Как видно из предсказаний, модель *XGBClassifier* имеет наибольшую долю \"1\" из всех моделей, но, судя по низкому значению метрики $F1$, проставлены они не всегда верно. Модель сработала неточно."
   ]
  },
  {
   "cell_type": "code",
   "execution_count": 52,
   "metadata": {},
   "outputs": [
    {
     "data": {
      "text/plain": [
       "<matplotlib.legend.Legend at 0x1fd13fbfd60>"
      ]
     },
     "execution_count": 52,
     "metadata": {},
     "output_type": "execute_result"
    },
    {
     "data": {
      "image/png": "[encoded data removed]",
      "text/plain": [
       "<Figure size 1080x288 with 1 Axes>"
      ]
     },
     "metadata": {
      "needs_background": "light"
     },
     "output_type": "display_data"
    }
   ],
   "source": [
    "score = models.sort_values(by='f1_train', ascending=True).plot.barh(\n",
    "    grid=True, xlim=(0.15,0.91), cmap='Set2', figsize=(15, 4))\n",
    "score.set_title('Распределение оценок моделей', fontsize= 15)\n",
    "score.axvline(x = 0.75, c='red', lw=3)\n",
    "plt.legend(loc='lower right')"
   ]
  },
  {
   "cell_type": "markdown",
   "metadata": {},
   "source": [
    "Итак, по итогам моделирования можно сделать следующие выводы:\n",
    "\n",
    "- модель *XGBClassifier* не преодолела порог 0,75. \n",
    "- Из всех моделей лучше всего на тренировочных и тестовых данных показала себя - модель *CatBoostClassifier* со значениями метрики $F1$ 0,88 и 0,79 соответственно."
   ]
  },
  {
   "cell_type": "markdown",
   "metadata": {},
   "source": [
    "Построим кривые *Precision-Recall* и *Roc* для визуализации результатов предсказаний:"
   ]
  },
  {
   "cell_type": "code",
   "execution_count": 53,
   "metadata": {},
   "outputs": [],
   "source": [
    "def pr_roc(model, x_test, y_test):\n",
    "    proba_test = model.predict_proba(x_test)\n",
    "    proba_one_test = proba_test[:, 1]\n",
    "    precision, recall, thresholds = precision_recall_curve(y_test, proba_one_test)\n",
    "    fpr, tpr, thresholds = roc_curve(y_test, proba_one_test)\n",
    "        \n",
    "    _, ax = plt.subplots(1, 2, figsize=(15,7))\n",
    "    ax[0].plot(recall, precision)\n",
    "    ax[0].set_xlabel('Recall')\n",
    "    ax[0].set_ylabel('Precision')\n",
    "    ax[0].set_title('Кривая P-R')\n",
    "    \n",
    "    ax[1].plot(fpr, tpr)\n",
    "    ax[1].plot([0, 1], [0, 1], linestyle='--')\n",
    "    ax[1].set_xlabel('False Positive Rate')\n",
    "    ax[1].set_ylabel(\"True Positive Rate\")\n",
    "    ax[1].set_title(\"ROC-кривая\")\n",
    "    plt.suptitle(\"Метрики PR и ROC для модели классификации\", fontsize=15)\n",
    "    plt.show()    "
   ]
  },
  {
   "cell_type": "code",
   "execution_count": 54,
   "metadata": {
    "scrolled": false
   },
   "outputs": [
    {
     "data": {
      "image/png": "[encoded data removed]",
      "text/plain": [
       "<Figure size 1080x504 with 2 Axes>"
      ]
     },
     "metadata": {
      "needs_background": "light"
     },
     "output_type": "display_data"
    },
    {
     "data": {
      "text/plain": [
       "0.6600087983199427"
      ]
     },
     "execution_count": 54,
     "metadata": {},
     "output_type": "execute_result"
    }
   ],
   "source": [
    "pr_roc(cat_model, test[features], test[target])\n",
    "average_precision_score(predictions['y_true'],predictions['cat_pred'])"
   ]
  },
  {
   "cell_type": "code",
   "execution_count": 55,
   "metadata": {},
   "outputs": [
    {
     "data": {
      "image/png": "[encoded data removed]",
      "text/plain": [
       "<Figure size 1080x504 with 2 Axes>"
      ]
     },
     "metadata": {
      "needs_background": "light"
     },
     "output_type": "display_data"
    },
    {
     "data": {
      "text/plain": [
       "0.6305118902878154"
      ]
     },
     "execution_count": 55,
     "metadata": {},
     "output_type": "execute_result"
    }
   ],
   "source": [
    "pr_roc(log_model, features_test, target_test)\n",
    "average_precision_score(predictions['y_true'],predictions['log_pred'])"
   ]
  },
  {
   "cell_type": "code",
   "execution_count": 56,
   "metadata": {},
   "outputs": [
    {
     "data": {
      "image/png": "[encoded data removed]",
      "text/plain": [
       "<Figure size 1080x504 with 2 Axes>"
      ]
     },
     "metadata": {
      "needs_background": "light"
     },
     "output_type": "display_data"
    },
    {
     "data": {
      "text/plain": [
       "0.6185645426282558"
      ]
     },
     "execution_count": 56,
     "metadata": {},
     "output_type": "execute_result"
    }
   ],
   "source": [
    "pr_roc(lgbm_model, features_test, target_test)\n",
    "average_precision_score(predictions['y_true'],predictions['lgbm_pred'])"
   ]
  },
  {
   "cell_type": "code",
   "execution_count": 57,
   "metadata": {},
   "outputs": [
    {
     "data": {
      "image/png": "[encoded data removed]",
      "text/plain": [
       "<Figure size 1080x504 with 2 Axes>"
      ]
     },
     "metadata": {
      "needs_background": "light"
     },
     "output_type": "display_data"
    },
    {
     "data": {
      "text/plain": [
       "0.584064367121085"
      ]
     },
     "execution_count": 57,
     "metadata": {},
     "output_type": "execute_result"
    }
   ],
   "source": [
    "pr_roc(xgb_model, features_test, target_test)\n",
    "average_precision_score(predictions['y_true'],predictions['xgb_pred'])"
   ]
  },
  {
   "cell_type": "markdown",
   "metadata": {},
   "source": [
    "Для *XGBClassifier* метрика $average-precision-score$ приняла значение 0,59. На графике полноты и точности можно заметить, что модель плохо работает на несбалансированной выборке.\n",
    "\n",
    "Высокое положение кривой $roc$ подтверждает выводы о том, что лучше всего комментарии класифицирует модель *CatBoostClassifier*. "
   ]
  },
  {
   "cell_type": "markdown",
   "metadata": {},
   "source": [
    "**Общий вывод**\n",
    "\n",
    "Проведена работа по построению моделей классификации для поиска позитивных и негативных комментариев для последующей модерации токсичных комментариев.\n",
    "\n",
    "В ходе исследовательского анализа данных:\n",
    "\n",
    "* тексты были очищены от знаков препинания. ненужных символов;\n",
    "* проведена лемматизация\n",
    "* удалены дубликаты.\n",
    "\n",
    "На этапе машинного обучения были использованы модели LogisticRegression, LGBMClassifier, XGBClassifier и CatBoostClassifier. По результатам вычисления получено, что:\n",
    "\n",
    "- относительно метрик $F1$ и $roc$ лучше всего показала себя модель *CatBoost*;\n",
    "- модель *XGBClassifier* не прошла порог в 0,75 и хуже всех справилась с классификацией."
   ]
  },
  {
   "cell_type": "code",
   "execution_count": null,
   "metadata": {},
   "outputs": [],
   "source": []
  }
 ],
 "metadata": {
  "ExecuteTimeLog": [
   {
    "duration": 1889,
    "start_time": "2022-08-03T09:40:41.055Z"
   },
   {
    "duration": 0,
    "start_time": "2022-08-03T09:40:42.946Z"
   },
   {
    "duration": 1949,
    "start_time": "2022-08-20T07:33:32.714Z"
   },
   {
    "duration": 2760,
    "start_time": "2022-08-20T07:33:34.667Z"
   },
   {
    "duration": 3273,
    "start_time": "2022-08-20T07:33:37.430Z"
   },
   {
    "duration": 10,
    "start_time": "2022-08-20T07:33:40.705Z"
   },
   {
    "duration": 35,
    "start_time": "2022-08-20T07:33:40.717Z"
   },
   {
    "duration": 21,
    "start_time": "2022-08-20T07:33:40.754Z"
   },
   {
    "duration": 290,
    "start_time": "2022-08-20T07:33:40.777Z"
   },
   {
    "duration": 5,
    "start_time": "2022-08-20T07:33:41.069Z"
   },
   {
    "duration": 170,
    "start_time": "2022-08-20T07:33:41.075Z"
   },
   {
    "duration": 0,
    "start_time": "2022-08-20T07:33:41.248Z"
   },
   {
    "duration": 0,
    "start_time": "2022-08-20T07:33:41.249Z"
   },
   {
    "duration": 0,
    "start_time": "2022-08-20T07:33:41.250Z"
   },
   {
    "duration": 0,
    "start_time": "2022-08-20T07:33:41.251Z"
   },
   {
    "duration": 0,
    "start_time": "2022-08-20T07:33:41.252Z"
   },
   {
    "duration": 0,
    "start_time": "2022-08-20T07:33:41.253Z"
   },
   {
    "duration": 0,
    "start_time": "2022-08-20T07:33:41.254Z"
   },
   {
    "duration": 0,
    "start_time": "2022-08-20T07:33:41.255Z"
   },
   {
    "duration": 0,
    "start_time": "2022-08-20T07:33:41.256Z"
   },
   {
    "duration": 0,
    "start_time": "2022-08-20T07:33:41.257Z"
   },
   {
    "duration": 0,
    "start_time": "2022-08-20T07:33:41.270Z"
   },
   {
    "duration": 0,
    "start_time": "2022-08-20T07:33:41.272Z"
   },
   {
    "duration": 0,
    "start_time": "2022-08-20T07:33:41.272Z"
   },
   {
    "duration": 335,
    "start_time": "2022-08-20T07:34:11.975Z"
   },
   {
    "duration": 1329,
    "start_time": "2022-08-20T07:34:17.750Z"
   },
   {
    "duration": 4,
    "start_time": "2022-08-20T07:34:21.824Z"
   },
   {
    "duration": 1161982,
    "start_time": "2022-08-20T07:34:26.832Z"
   },
   {
    "duration": 0,
    "start_time": "2022-08-20T07:53:48.816Z"
   },
   {
    "duration": 0,
    "start_time": "2022-08-20T07:53:48.817Z"
   },
   {
    "duration": 0,
    "start_time": "2022-08-20T07:53:48.819Z"
   }
  ],
  "kernelspec": {
   "display_name": "Python 3 (ipykernel)",
   "language": "python",
   "name": "python3"
  },
  "language_info": {
   "codemirror_mode": {
    "name": "ipython",
    "version": 3
   },
   "file_extension": ".py",
   "mimetype": "text/x-python",
   "name": "python",
   "nbconvert_exporter": "python",
   "pygments_lexer": "ipython3",
   "version": "3.9.12"
  },
  "toc": {
   "base_numbering": 1,
   "nav_menu": {},
   "number_sections": true,
   "sideBar": true,
   "skip_h1_title": true,
   "title_cell": "Содержание",
   "title_sidebar": "Contents",
   "toc_cell": true,
   "toc_position": {
    "height": "calc(100% - 180px)",
    "left": "10px",
    "top": "150px",
    "width": "302.391px"
   },
   "toc_section_display": true,
   "toc_window_display": false
  }
 },
 "nbformat": 4,
 "nbformat_minor": 2
}
