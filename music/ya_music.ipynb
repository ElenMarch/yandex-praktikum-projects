{
 "cells": [
  {
   "cell_type": "markdown",
   "metadata": {
    "id": "E0vqbgi9ay0H"
   },
   "source": [
    "# Яндекс.Музыка"
   ]
  },
  {
   "cell_type": "markdown",
   "metadata": {
    "id": "VUC88oWjTJw2"
   },
   "source": [
    "Сравнение Москвы и Петербурга окружено мифами. Например:\n",
    " * Москва — мегаполис, подчинённый жёсткому ритму рабочей недели;\n",
    " * Петербург — культурная столица, со своими вкусами.\n",
    "\n",
    "На данных Яндекс.Музыки вы сравните поведение пользователей двух столиц.\n",
    "\n",
    "**Цель исследования** — проверить три гипотезы:\n",
    "1. Активность пользователей зависит от дня недели. Причём в Москве и Петербурге это проявляется по-разному.\n",
    "2. В понедельник утром в Москве преобладают одни жанры, а в Петербурге — другие. Так же и вечером пятницы преобладают разные жанры — в зависимости от города. \n",
    "3. Москва и Петербург предпочитают разные жанры музыки. В Москве чаще слушают поп-музыку, в Петербурге — русский рэп.\n",
    "\n",
    "**Ход исследования**\n",
    "\n",
    "Данные о поведении пользователей находятся файле `yandex_music_project.csv`. О качестве данных ничего не известно. Поэтому перед проверкой гипотез понадобится обзор данных. \n",
    "\n",
    "Таким образом, исследование пройдёт в три этапа:\n",
    " 1. Обзор данных.\n",
    " 2. Предобработка данных.\n",
    " 3. Проверка гипотез.\n",
    "\n"
   ]
  },
  {
   "cell_type": "markdown",
   "metadata": {
    "id": "Ml1hmfXC_Zcs"
   },
   "source": [
    "## Обзор данных"
   ]
  },
  {
   "cell_type": "code",
   "execution_count": 2,
   "metadata": {
    "id": "AXN7PHPN_Zcs"
   },
   "outputs": [],
   "source": [
    "import pandas as pd"
   ]
  },
  {
   "cell_type": "code",
   "execution_count": 3,
   "metadata": {
    "id": "fFVu7vqh_Zct"
   },
   "outputs": [],
   "source": [
    "df = pd.read_csv('/datasets/yandex_music_project.csv')"
   ]
  },
  {
   "cell_type": "code",
   "execution_count": 4,
   "metadata": {
    "id": "oWTVX3gW_Zct"
   },
   "outputs": [
    {
     "data": {
      "text/html": [
       "<div>\n",
       "<style scoped>\n",
       "    .dataframe tbody tr th:only-of-type {\n",
       "        vertical-align: middle;\n",
       "    }\n",
       "\n",
       "    .dataframe tbody tr th {\n",
       "        vertical-align: top;\n",
       "    }\n",
       "\n",
       "    .dataframe thead th {\n",
       "        text-align: right;\n",
       "    }\n",
       "</style>\n",
       "<table border=\"1\" class=\"dataframe\">\n",
       "  <thead>\n",
       "    <tr style=\"text-align: right;\">\n",
       "      <th></th>\n",
       "      <th>userID</th>\n",
       "      <th>Track</th>\n",
       "      <th>artist</th>\n",
       "      <th>genre</th>\n",
       "      <th>City</th>\n",
       "      <th>time</th>\n",
       "      <th>Day</th>\n",
       "    </tr>\n",
       "  </thead>\n",
       "  <tbody>\n",
       "    <tr>\n",
       "      <td>0</td>\n",
       "      <td>FFB692EC</td>\n",
       "      <td>Kamigata To Boots</td>\n",
       "      <td>The Mass Missile</td>\n",
       "      <td>rock</td>\n",
       "      <td>Saint-Petersburg</td>\n",
       "      <td>20:28:33</td>\n",
       "      <td>Wednesday</td>\n",
       "    </tr>\n",
       "    <tr>\n",
       "      <td>1</td>\n",
       "      <td>55204538</td>\n",
       "      <td>Delayed Because of Accident</td>\n",
       "      <td>Andreas Rönnberg</td>\n",
       "      <td>rock</td>\n",
       "      <td>Moscow</td>\n",
       "      <td>14:07:09</td>\n",
       "      <td>Friday</td>\n",
       "    </tr>\n",
       "    <tr>\n",
       "      <td>2</td>\n",
       "      <td>20EC38</td>\n",
       "      <td>Funiculì funiculà</td>\n",
       "      <td>Mario Lanza</td>\n",
       "      <td>pop</td>\n",
       "      <td>Saint-Petersburg</td>\n",
       "      <td>20:58:07</td>\n",
       "      <td>Wednesday</td>\n",
       "    </tr>\n",
       "    <tr>\n",
       "      <td>3</td>\n",
       "      <td>A3DD03C9</td>\n",
       "      <td>Dragons in the Sunset</td>\n",
       "      <td>Fire + Ice</td>\n",
       "      <td>folk</td>\n",
       "      <td>Saint-Petersburg</td>\n",
       "      <td>08:37:09</td>\n",
       "      <td>Monday</td>\n",
       "    </tr>\n",
       "    <tr>\n",
       "      <td>4</td>\n",
       "      <td>E2DC1FAE</td>\n",
       "      <td>Soul People</td>\n",
       "      <td>Space Echo</td>\n",
       "      <td>dance</td>\n",
       "      <td>Moscow</td>\n",
       "      <td>08:34:34</td>\n",
       "      <td>Monday</td>\n",
       "    </tr>\n",
       "    <tr>\n",
       "      <td>5</td>\n",
       "      <td>842029A1</td>\n",
       "      <td>Преданная</td>\n",
       "      <td>IMPERVTOR</td>\n",
       "      <td>rusrap</td>\n",
       "      <td>Saint-Petersburg</td>\n",
       "      <td>13:09:41</td>\n",
       "      <td>Friday</td>\n",
       "    </tr>\n",
       "    <tr>\n",
       "      <td>6</td>\n",
       "      <td>4CB90AA5</td>\n",
       "      <td>True</td>\n",
       "      <td>Roman Messer</td>\n",
       "      <td>dance</td>\n",
       "      <td>Moscow</td>\n",
       "      <td>13:00:07</td>\n",
       "      <td>Wednesday</td>\n",
       "    </tr>\n",
       "    <tr>\n",
       "      <td>7</td>\n",
       "      <td>F03E1C1F</td>\n",
       "      <td>Feeling This Way</td>\n",
       "      <td>Polina Griffith</td>\n",
       "      <td>dance</td>\n",
       "      <td>Moscow</td>\n",
       "      <td>20:47:49</td>\n",
       "      <td>Wednesday</td>\n",
       "    </tr>\n",
       "    <tr>\n",
       "      <td>8</td>\n",
       "      <td>8FA1D3BE</td>\n",
       "      <td>И вновь продолжается бой</td>\n",
       "      <td>NaN</td>\n",
       "      <td>ruspop</td>\n",
       "      <td>Moscow</td>\n",
       "      <td>09:17:40</td>\n",
       "      <td>Friday</td>\n",
       "    </tr>\n",
       "    <tr>\n",
       "      <td>9</td>\n",
       "      <td>E772D5C0</td>\n",
       "      <td>Pessimist</td>\n",
       "      <td>NaN</td>\n",
       "      <td>dance</td>\n",
       "      <td>Saint-Petersburg</td>\n",
       "      <td>21:20:49</td>\n",
       "      <td>Wednesday</td>\n",
       "    </tr>\n",
       "  </tbody>\n",
       "</table>\n",
       "</div>"
      ],
      "text/plain": [
       "     userID                        Track            artist   genre  \\\n",
       "0  FFB692EC            Kamigata To Boots  The Mass Missile    rock   \n",
       "1  55204538  Delayed Because of Accident  Andreas Rönnberg    rock   \n",
       "2    20EC38            Funiculì funiculà       Mario Lanza     pop   \n",
       "3  A3DD03C9        Dragons in the Sunset        Fire + Ice    folk   \n",
       "4  E2DC1FAE                  Soul People        Space Echo   dance   \n",
       "5  842029A1                    Преданная         IMPERVTOR  rusrap   \n",
       "6  4CB90AA5                         True      Roman Messer   dance   \n",
       "7  F03E1C1F             Feeling This Way   Polina Griffith   dance   \n",
       "8  8FA1D3BE     И вновь продолжается бой               NaN  ruspop   \n",
       "9  E772D5C0                    Pessimist               NaN   dance   \n",
       "\n",
       "             City        time        Day  \n",
       "0  Saint-Petersburg  20:28:33  Wednesday  \n",
       "1            Moscow  14:07:09     Friday  \n",
       "2  Saint-Petersburg  20:58:07  Wednesday  \n",
       "3  Saint-Petersburg  08:37:09     Monday  \n",
       "4            Moscow  08:34:34     Monday  \n",
       "5  Saint-Petersburg  13:09:41     Friday  \n",
       "6            Moscow  13:00:07  Wednesday  \n",
       "7            Moscow  20:47:49  Wednesday  \n",
       "8            Moscow  09:17:40     Friday  \n",
       "9  Saint-Petersburg  21:20:49  Wednesday  "
      ]
     },
     "execution_count": 4,
     "metadata": {},
     "output_type": "execute_result"
    }
   ],
   "source": [
    "df.head(10)"
   ]
  },
  {
   "cell_type": "markdown",
   "metadata": {
    "id": "EO73Kwic_Zct"
   },
   "source": [
    "Одной командой получить общую информацию о таблице:"
   ]
  },
  {
   "cell_type": "code",
   "execution_count": 4,
   "metadata": {
    "id": "DSf2kIb-_Zct"
   },
   "outputs": [
    {
     "name": "stdout",
     "output_type": "stream",
     "text": [
      "<class 'pandas.core.frame.DataFrame'>\n",
      "RangeIndex: 65079 entries, 0 to 65078\n",
      "Data columns (total 7 columns):\n",
      "  userID    65079 non-null object\n",
      "Track       63848 non-null object\n",
      "artist      57876 non-null object\n",
      "genre       63881 non-null object\n",
      "  City      65079 non-null object\n",
      "time        65079 non-null object\n",
      "Day         65079 non-null object\n",
      "dtypes: object(7)\n",
      "memory usage: 3.5+ MB\n"
     ]
    }
   ],
   "source": [
    "df.info()"
   ]
  },
  {
   "cell_type": "markdown",
   "metadata": {
    "id": "TaQ2Iwbr_Zct"
   },
   "source": [
    "Итак, в таблице семь столбцов. Тип данных во всех столбцах — `object`.\n",
    "\n",
    "Согласно документации к данным:\n",
    "* `userID` — идентификатор пользователя;\n",
    "* `Track` — название трека;  \n",
    "* `artist` — имя исполнителя;\n",
    "* `genre` — название жанра;\n",
    "* `City` — город пользователя;\n",
    "* `time` — время начала прослушивания;\n",
    "* `Day` — день недели.\n",
    "\n",
    "В названиях колонок видны три нарушения стиля:\n",
    "1. Строчные буквы сочетаются с прописными.\n",
    "2. Встречаются пробелы.\n",
    "3. Составное имя написано не в змеином регистре.\n",
    "\n",
    "\n",
    "\n",
    "Количество значений в столбцах различается. Значит, в данных есть пропущенные значения.\n"
   ]
  },
  {
   "cell_type": "markdown",
   "metadata": {
    "id": "MCB6-dXG_Zct"
   },
   "source": [
    "**Выводы**\n",
    "\n",
    "В каждой строке таблицы — данные о прослушанном треке. Часть колонок описывает саму композицию: название, исполнителя и жанр. Остальные данные рассказывают о пользователе: из какого он города, когда он слушал музыку. \n",
    "\n",
    "Предварительно можно утверждать, что, данных достаточно для проверки гипотез. Но встречаются пропуски в данных, а в названиях колонок — расхождения с хорошим стилем.\n",
    "\n",
    "Чтобы двигаться дальше, нужно устранить проблемы в данных."
   ]
  },
  {
   "cell_type": "markdown",
   "metadata": {
    "id": "SjYF6Ub9_Zct"
   },
   "source": [
    "## Предобработка данных"
   ]
  },
  {
   "cell_type": "markdown",
   "metadata": {
    "id": "dIaKXr29_Zct"
   },
   "source": [
    "### Стиль заголовков\n",
    "Выведите на экран названия столбцов:"
   ]
  },
  {
   "cell_type": "code",
   "execution_count": 5,
   "metadata": {
    "id": "oKOTdF_Q_Zct"
   },
   "outputs": [
    {
     "data": {
      "text/plain": [
       "Index(['  userID', 'Track', 'artist', 'genre', '  City  ', 'time', 'Day'], dtype='object')"
      ]
     },
     "execution_count": 5,
     "metadata": {},
     "output_type": "execute_result"
    }
   ],
   "source": [
    "# перечень названий столбцов таблицы df\n",
    "df.columns"
   ]
  },
  {
   "cell_type": "markdown",
   "metadata": {
    "id": "zj5534cv_Zct"
   },
   "source": [
    "Приведем названия в соответствие с хорошим стилем:\n",
    "Для этого переименуйте колонки так:\n",
    "* `'  userID'` → `'user_id'`;\n",
    "* `'Track'` → `'track'`;\n",
    "* `'  City  '` → `'city'`;\n",
    "* `'Day'` → `'day'`."
   ]
  },
  {
   "cell_type": "code",
   "execution_count": 6,
   "metadata": {
    "id": "ISlFqs5y_Zct"
   },
   "outputs": [],
   "source": [
    "df = df.rename(columns = {'  userID': 'user_id', 'Track': 'track', '  City  ': 'city', 'Day': 'day'})"
   ]
  },
  {
   "cell_type": "markdown",
   "metadata": {
    "id": "1dqbh00J_Zct"
   },
   "source": [
    "Проверьте результат. Для этого ещё раз выведите на экран названия столбцов:"
   ]
  },
  {
   "cell_type": "code",
   "execution_count": 7,
   "metadata": {
    "id": "d4NOAmTW_Zct"
   },
   "outputs": [
    {
     "data": {
      "text/plain": [
       "Index(['user_id', 'track', 'artist', 'genre', 'city', 'time', 'day'], dtype='object')"
      ]
     },
     "execution_count": 7,
     "metadata": {},
     "output_type": "execute_result"
    }
   ],
   "source": [
    "df.columns"
   ]
  },
  {
   "cell_type": "markdown",
   "metadata": {
    "id": "5ISfbcfY_Zct"
   },
   "source": [
    "### Пропуски значений"
   ]
  },
  {
   "cell_type": "code",
   "execution_count": 8,
   "metadata": {
    "id": "RskX29qr_Zct"
   },
   "outputs": [
    {
     "data": {
      "text/plain": [
       "user_id       0\n",
       "track      1231\n",
       "artist     7203\n",
       "genre      1198\n",
       "city          0\n",
       "time          0\n",
       "day           0\n",
       "dtype: int64"
      ]
     },
     "execution_count": 8,
     "metadata": {},
     "output_type": "execute_result"
    }
   ],
   "source": [
    "# подсчёт пропусков\n",
    "df.isna().sum()"
   ]
  },
  {
   "cell_type": "markdown",
   "metadata": {
    "id": "qubhgnlO_Zct"
   },
   "source": [
    "Не все пропущенные значения влияют на исследование. Так в `track` и `artist` пропуски достаточно заменить явными обозначениями.\n",
    "\n",
    "Но пропуски в `genre` могут помешать сравнению музыкальных вкусов в Москве и Санкт-Петербурге. На практике было бы правильно установить причину пропусков и восстановить данные. Такой возможности нет в учебном проекте. Придётся:\n",
    "* заполнить и эти пропуски явными обозначениями,\n",
    "* оценить, насколько они повредят расчётам. "
   ]
  },
  {
   "cell_type": "code",
   "execution_count": 9,
   "metadata": {
    "id": "KplB5qWs_Zct",
    "scrolled": true
   },
   "outputs": [],
   "source": [
    "columns_to_replace = ['track', 'artist', 'genre']\n",
    "for column in columns_to_replace:\n",
    "    df[column] = df[column].fillna('unknown')"
   ]
  },
  {
   "cell_type": "code",
   "execution_count": 10,
   "metadata": {
    "id": "Tq4nYRX4_Zct"
   },
   "outputs": [
    {
     "data": {
      "text/plain": [
       "user_id    0\n",
       "track      0\n",
       "artist     0\n",
       "genre      0\n",
       "city       0\n",
       "time       0\n",
       "day        0\n",
       "dtype: int64"
      ]
     },
     "execution_count": 10,
     "metadata": {},
     "output_type": "execute_result"
    }
   ],
   "source": [
    "# подсчёт пропусков\n",
    "df.isna().sum()"
   ]
  },
  {
   "cell_type": "markdown",
   "metadata": {},
   "source": [
    "Отлично, проверка показала, что пропусков не осталось."
   ]
  },
  {
   "cell_type": "markdown",
   "metadata": {
    "id": "BWKRtBJ3_Zct"
   },
   "source": [
    "### Дубликаты"
   ]
  },
  {
   "cell_type": "code",
   "execution_count": 11,
   "metadata": {
    "id": "36eES_S0_Zct"
   },
   "outputs": [
    {
     "data": {
      "text/plain": [
       "3826"
      ]
     },
     "execution_count": 11,
     "metadata": {},
     "output_type": "execute_result"
    }
   ],
   "source": [
    "# подсчёт явных дубликатов\n",
    "df.duplicated().sum()"
   ]
  },
  {
   "cell_type": "code",
   "execution_count": 12,
   "metadata": {
    "id": "exFHq6tt_Zct"
   },
   "outputs": [],
   "source": [
    "df = df.drop_duplicates().reset_index(drop = True)"
   ]
  },
  {
   "cell_type": "code",
   "execution_count": 13,
   "metadata": {
    "id": "-8PuNWQ0_Zct"
   },
   "outputs": [
    {
     "data": {
      "text/plain": [
       "0"
      ]
     },
     "execution_count": 13,
     "metadata": {},
     "output_type": "execute_result"
    }
   ],
   "source": [
    "# проверка на отсутствие дубликатов\n",
    "df.duplicated().sum()"
   ]
  },
  {
   "cell_type": "code",
   "execution_count": 5,
   "metadata": {
    "id": "JIUcqzZN_Zct"
   },
   "outputs": [
    {
     "data": {
      "text/plain": [
       "array(['acid', 'acoustic', 'action', 'adult', 'africa', 'afrikaans',\n",
       "       'alternative', 'alternativepunk', 'ambient', 'americana',\n",
       "       'animated', 'anime', 'arabesk', 'arabic', 'arena',\n",
       "       'argentinetango', 'art', 'audiobook', 'author', 'avantgarde',\n",
       "       'axé', 'baile', 'balkan', 'beats', 'bigroom', 'black', 'bluegrass',\n",
       "       'blues', 'bollywood', 'bossa', 'brazilian', 'breakbeat', 'breaks',\n",
       "       'broadway', 'cantautori', 'cantopop', 'canzone', 'caribbean',\n",
       "       'caucasian', 'celtic', 'chamber', 'chanson', 'children', 'chill',\n",
       "       'chinese', 'choral', 'christian', 'christmas', 'classical',\n",
       "       'classicmetal', 'club', 'colombian', 'comedy', 'conjazz',\n",
       "       'contemporary', 'country', 'cuban', 'dance', 'dancehall',\n",
       "       'dancepop', 'dark', 'death', 'deep', 'deutschrock', 'deutschspr',\n",
       "       'dirty', 'disco', 'dnb', 'documentary', 'downbeat', 'downtempo',\n",
       "       'drum', 'dub', 'dubstep', 'eastern', 'easy', 'electronic',\n",
       "       'electropop', 'emo', 'entehno', 'epicmetal', 'estrada', 'ethnic',\n",
       "       'eurofolk', 'european', 'experimental', 'extrememetal', 'fado',\n",
       "       'fairytail', 'film', 'fitness', 'flamenco', 'folk', 'folklore',\n",
       "       'folkmetal', 'folkrock', 'folktronica', 'forró', 'frankreich',\n",
       "       'französisch', 'french', 'funk', 'future', 'gangsta', 'garage',\n",
       "       'german', 'ghazal', 'gitarre', 'glitch', 'gospel', 'gothic',\n",
       "       'grime', 'grunge', 'gypsy', 'handsup', \"hard'n'heavy\", 'hardcore',\n",
       "       'hardstyle', 'hardtechno', 'hip', 'hip-hop', 'hiphop',\n",
       "       'historisch', 'holiday', 'hop', 'horror', 'house', 'hymn', 'idm',\n",
       "       'independent', 'indian', 'indie', 'indipop', 'industrial',\n",
       "       'inspirational', 'instrumental', 'international', 'irish', 'jam',\n",
       "       'japanese', 'jazz', 'jewish', 'jpop', 'jungle', 'k-pop',\n",
       "       'karadeniz', 'karaoke', 'kayokyoku', 'korean', 'laiko', 'latin',\n",
       "       'latino', 'leftfield', 'local', 'lounge', 'loungeelectronic',\n",
       "       'lovers', 'malaysian', 'mandopop', 'marschmusik', 'meditative',\n",
       "       'mediterranean', 'melodic', 'metal', 'metalcore', 'mexican',\n",
       "       'middle', 'minimal', 'miscellaneous', 'modern', 'mood', 'mpb',\n",
       "       'muslim', 'native', 'neoklassik', 'neue', 'new', 'newage',\n",
       "       'newwave', 'nu', 'nujazz', 'numetal', 'oceania', 'old', 'opera',\n",
       "       'orchestral', 'other', 'piano', 'podcasts', 'pop', 'popdance',\n",
       "       'popelectronic', 'popeurodance', 'poprussian', 'post',\n",
       "       'posthardcore', 'postrock', 'power', 'progmetal', 'progressive',\n",
       "       'psychedelic', 'punjabi', 'punk', 'quebecois', 'ragga', 'ram',\n",
       "       'rancheras', 'rap', 'rave', 'reggae', 'reggaeton', 'regional',\n",
       "       'relax', 'religious', 'retro', 'rhythm', 'rnb', 'rnr', 'rock',\n",
       "       'rockabilly', 'rockalternative', 'rockindie', 'rockother',\n",
       "       'romance', 'roots', 'ruspop', 'rusrap', 'rusrock', 'russian',\n",
       "       'salsa', 'samba', 'scenic', 'schlager', 'self', 'sertanejo',\n",
       "       'shanson', 'shoegazing', 'showtunes', 'singer', 'ska', 'skarock',\n",
       "       'slow', 'smooth', 'soft', 'soul', 'soulful', 'sound', 'soundtrack',\n",
       "       'southern', 'specialty', 'speech', 'spiritual', 'sport',\n",
       "       'stonerrock', 'surf', 'swing', 'synthpop', 'synthrock',\n",
       "       'sängerportrait', 'tango', 'tanzorchester', 'taraftar', 'tatar',\n",
       "       'tech', 'techno', 'teen', 'thrash', 'top', 'traditional',\n",
       "       'tradjazz', 'trance', 'tribal', 'trip', 'triphop', 'tropical',\n",
       "       'türk', 'türkçe', 'ukrrock', 'urban', 'uzbek', 'variété', 'vi',\n",
       "       'videogame', 'vocal', 'western', 'world', 'worldbeat', 'ïîï',\n",
       "       'электроника', nan], dtype=object)"
      ]
     },
     "execution_count": 5,
     "metadata": {},
     "output_type": "execute_result"
    }
   ],
   "source": [
    "# Просмотр уникальных названий жанров\n",
    "df['genre'].sort_values().unique()"
   ]
  },
  {
   "cell_type": "markdown",
   "metadata": {
    "id": "QlFBsxAr_Zct"
   },
   "source": [
    "Теперь избавимся от неявных дубликатов в колонке `genre`. Например, название одного и того же жанра может быть записано немного по-разному. Такие ошибки тоже повлияют на результат исследования."
   ]
  },
  {
   "cell_type": "code",
   "execution_count": 15,
   "metadata": {
    "id": "ErNDkmns_Zct"
   },
   "outputs": [],
   "source": [
    "# Функция для замены неявных дубликатов\n",
    "def replace_wrong_genres(wrong_genres, correct_genre):\n",
    "    for wrong_genre in wrong_genres:\n",
    "        df['genre'] = df['genre'].replace(wrong_genre, correct_genre)\n",
    "    return df['genre']"
   ]
  },
  {
   "cell_type": "code",
   "execution_count": 16,
   "metadata": {
    "id": "YN5i2hpmSo09"
   },
   "outputs": [
    {
     "data": {
      "text/plain": [
       "0              rock\n",
       "1              rock\n",
       "2               pop\n",
       "3              folk\n",
       "4             dance\n",
       "            ...    \n",
       "61248           rnb\n",
       "61249        hiphop\n",
       "61250    industrial\n",
       "61251          rock\n",
       "61252       country\n",
       "Name: genre, Length: 61253, dtype: object"
      ]
     },
     "execution_count": 16,
     "metadata": {},
     "output_type": "execute_result"
    }
   ],
   "source": [
    "# Устранение неявных дубликатов\n",
    "replace_wrong_genres(['hip', 'hop', 'hip-hop'], 'hiphop')"
   ]
  },
  {
   "cell_type": "code",
   "execution_count": 6,
   "metadata": {
    "id": "wvixALnFG15m"
   },
   "outputs": [
    {
     "data": {
      "text/plain": [
       "array(['acid', 'acoustic', 'action', 'adult', 'africa', 'afrikaans',\n",
       "       'alternative', 'alternativepunk', 'ambient', 'americana',\n",
       "       'animated', 'anime', 'arabesk', 'arabic', 'arena',\n",
       "       'argentinetango', 'art', 'audiobook', 'author', 'avantgarde',\n",
       "       'axé', 'baile', 'balkan', 'beats', 'bigroom', 'black', 'bluegrass',\n",
       "       'blues', 'bollywood', 'bossa', 'brazilian', 'breakbeat', 'breaks',\n",
       "       'broadway', 'cantautori', 'cantopop', 'canzone', 'caribbean',\n",
       "       'caucasian', 'celtic', 'chamber', 'chanson', 'children', 'chill',\n",
       "       'chinese', 'choral', 'christian', 'christmas', 'classical',\n",
       "       'classicmetal', 'club', 'colombian', 'comedy', 'conjazz',\n",
       "       'contemporary', 'country', 'cuban', 'dance', 'dancehall',\n",
       "       'dancepop', 'dark', 'death', 'deep', 'deutschrock', 'deutschspr',\n",
       "       'dirty', 'disco', 'dnb', 'documentary', 'downbeat', 'downtempo',\n",
       "       'drum', 'dub', 'dubstep', 'eastern', 'easy', 'electronic',\n",
       "       'electropop', 'emo', 'entehno', 'epicmetal', 'estrada', 'ethnic',\n",
       "       'eurofolk', 'european', 'experimental', 'extrememetal', 'fado',\n",
       "       'fairytail', 'film', 'fitness', 'flamenco', 'folk', 'folklore',\n",
       "       'folkmetal', 'folkrock', 'folktronica', 'forró', 'frankreich',\n",
       "       'französisch', 'french', 'funk', 'future', 'gangsta', 'garage',\n",
       "       'german', 'ghazal', 'gitarre', 'glitch', 'gospel', 'gothic',\n",
       "       'grime', 'grunge', 'gypsy', 'handsup', \"hard'n'heavy\", 'hardcore',\n",
       "       'hardstyle', 'hardtechno', 'hip', 'hip-hop', 'hiphop',\n",
       "       'historisch', 'holiday', 'hop', 'horror', 'house', 'hymn', 'idm',\n",
       "       'independent', 'indian', 'indie', 'indipop', 'industrial',\n",
       "       'inspirational', 'instrumental', 'international', 'irish', 'jam',\n",
       "       'japanese', 'jazz', 'jewish', 'jpop', 'jungle', 'k-pop',\n",
       "       'karadeniz', 'karaoke', 'kayokyoku', 'korean', 'laiko', 'latin',\n",
       "       'latino', 'leftfield', 'local', 'lounge', 'loungeelectronic',\n",
       "       'lovers', 'malaysian', 'mandopop', 'marschmusik', 'meditative',\n",
       "       'mediterranean', 'melodic', 'metal', 'metalcore', 'mexican',\n",
       "       'middle', 'minimal', 'miscellaneous', 'modern', 'mood', 'mpb',\n",
       "       'muslim', 'native', 'neoklassik', 'neue', 'new', 'newage',\n",
       "       'newwave', 'nu', 'nujazz', 'numetal', 'oceania', 'old', 'opera',\n",
       "       'orchestral', 'other', 'piano', 'podcasts', 'pop', 'popdance',\n",
       "       'popelectronic', 'popeurodance', 'poprussian', 'post',\n",
       "       'posthardcore', 'postrock', 'power', 'progmetal', 'progressive',\n",
       "       'psychedelic', 'punjabi', 'punk', 'quebecois', 'ragga', 'ram',\n",
       "       'rancheras', 'rap', 'rave', 'reggae', 'reggaeton', 'regional',\n",
       "       'relax', 'religious', 'retro', 'rhythm', 'rnb', 'rnr', 'rock',\n",
       "       'rockabilly', 'rockalternative', 'rockindie', 'rockother',\n",
       "       'romance', 'roots', 'ruspop', 'rusrap', 'rusrock', 'russian',\n",
       "       'salsa', 'samba', 'scenic', 'schlager', 'self', 'sertanejo',\n",
       "       'shanson', 'shoegazing', 'showtunes', 'singer', 'ska', 'skarock',\n",
       "       'slow', 'smooth', 'soft', 'soul', 'soulful', 'sound', 'soundtrack',\n",
       "       'southern', 'specialty', 'speech', 'spiritual', 'sport',\n",
       "       'stonerrock', 'surf', 'swing', 'synthpop', 'synthrock',\n",
       "       'sängerportrait', 'tango', 'tanzorchester', 'taraftar', 'tatar',\n",
       "       'tech', 'techno', 'teen', 'thrash', 'top', 'traditional',\n",
       "       'tradjazz', 'trance', 'tribal', 'trip', 'triphop', 'tropical',\n",
       "       'türk', 'türkçe', 'ukrrock', 'urban', 'uzbek', 'variété', 'vi',\n",
       "       'videogame', 'vocal', 'western', 'world', 'worldbeat', 'ïîï',\n",
       "       'электроника', nan], dtype=object)"
      ]
     },
     "execution_count": 6,
     "metadata": {},
     "output_type": "execute_result"
    }
   ],
   "source": [
    "# Проверка на неявные дубликаты\n",
    "df['genre'].sort_values().unique()"
   ]
  },
  {
   "cell_type": "markdown",
   "metadata": {
    "id": "jz6a9-7HQUDd"
   },
   "source": [
    "**Выводы**\n",
    "\n",
    "Предобработка обнаружила три проблемы в данных:\n",
    "\n",
    "- нарушения в стиле заголовков,\n",
    "- пропущенные значения,\n",
    "- дубликаты — явные и неявные.\n",
    "\n",
    "Вы исправили заголовки, чтобы упростить работу с таблицей. Без дубликатов исследование станет более точным.\n",
    "\n",
    "Пропущенные значения вы заменили на `'unknown'`. Ещё предстоит увидеть, не повредят ли исследованию пропуски в колонке `genre`.\n",
    "\n",
    "Теперь можно перейти к проверке гипотез. "
   ]
  },
  {
   "cell_type": "markdown",
   "metadata": {
    "id": "WttZHXH0SqKk"
   },
   "source": [
    "## Проверка гипотез"
   ]
  },
  {
   "cell_type": "markdown",
   "metadata": {
    "id": "Im936VVi_Zcu"
   },
   "source": [
    "### Сравнение поведения пользователей двух столиц"
   ]
  },
  {
   "cell_type": "markdown",
   "metadata": {
    "id": "nwt_MuaL_Zcu"
   },
   "source": [
    "Первая гипотеза утверждает, что пользователи по-разному слушают музыку в Москве и Санкт-Петербурге. Проверьте это предположение по данным о трёх днях недели — понедельнике, среде и пятнице. Для этого:\n",
    "\n",
    "* Разделите пользователей Москвы и Санкт-Петербурга\n",
    "* Сравните, сколько треков послушала каждая группа пользователей в понедельник, среду и пятницу.\n"
   ]
  },
  {
   "cell_type": "markdown",
   "metadata": {
    "id": "8Dw_YMmT_Zcu"
   },
   "source": [
    "Оценим активность пользователей в каждом городе. Сгруппирую данные по городу и посчитаю прослушивания в каждой группе."
   ]
  },
  {
   "cell_type": "code",
   "execution_count": 18,
   "metadata": {
    "id": "0_Qs96oh_Zcu"
   },
   "outputs": [
    {
     "data": {
      "text/plain": [
       "city\n",
       "Moscow              42741\n",
       "Saint-Petersburg    18512\n",
       "Name: user_id, dtype: int64"
      ]
     },
     "execution_count": 18,
     "metadata": {},
     "output_type": "execute_result"
    }
   ],
   "source": [
    "# Подсчёт прослушиваний в каждом городе\n",
    "df.groupby('city')['user_id'].count()"
   ]
  },
  {
   "cell_type": "markdown",
   "metadata": {
    "id": "dzli3w8o_Zcu"
   },
   "source": [
    "В Москве прослушиваний больше, чем в Петербурге. Из этого не следует, что московские пользователи чаще слушают музыку. Просто самих пользователей в Москве больше.\n",
    "\n",
    "Теперь сгруппирую данные по дню недели и подсчитайте прослушивания в понедельник, среду и пятницу."
   ]
  },
  {
   "cell_type": "code",
   "execution_count": 19,
   "metadata": {
    "id": "uZMKjiJz_Zcu"
   },
   "outputs": [
    {
     "data": {
      "text/plain": [
       "day\n",
       "Friday       21840\n",
       "Monday       21354\n",
       "Wednesday    18059\n",
       "Name: user_id, dtype: int64"
      ]
     },
     "execution_count": 19,
     "metadata": {},
     "output_type": "execute_result"
    }
   ],
   "source": [
    "# Подсчёт прослушиваний в каждый из трёх дней\n",
    "df.groupby('day')['user_id'].count()"
   ]
  },
  {
   "cell_type": "markdown",
   "metadata": {
    "id": "cC2tNrlL_Zcu"
   },
   "source": [
    "В среднем пользователи из двух городов менее активны по средам. Но картина может измениться, если рассмотреть каждый город в отдельности."
   ]
  },
  {
   "cell_type": "code",
   "execution_count": 20,
   "metadata": {
    "id": "Nz3GdQB1_Zcu"
   },
   "outputs": [],
   "source": [
    "def number_tracks(day, city):\n",
    "    track_list = df[df['day'] == day]\n",
    "    track_list = track_list[track_list['city'] == city]\n",
    "    track_list_count = track_list['user_id'].count()\n",
    "    return track_list_count\n"
   ]
  },
  {
   "cell_type": "markdown",
   "metadata": {
    "id": "ytf7xFrFJQ2r"
   },
   "source": [
    "Необходимо теперь получить данные для каждого города в каждый из трёх дней."
   ]
  },
  {
   "cell_type": "code",
   "execution_count": 21,
   "metadata": {
    "id": "rJcRATNQ_Zcu"
   },
   "outputs": [
    {
     "data": {
      "text/plain": [
       "15740"
      ]
     },
     "execution_count": 21,
     "metadata": {},
     "output_type": "execute_result"
    }
   ],
   "source": [
    "# количество прослушиваний в Москве по понедельникам\n",
    "number_tracks('Monday', 'Moscow')"
   ]
  },
  {
   "cell_type": "code",
   "execution_count": 22,
   "metadata": {
    "id": "hq_ncZ5T_Zcu"
   },
   "outputs": [
    {
     "data": {
      "text/plain": [
       "5614"
      ]
     },
     "execution_count": 22,
     "metadata": {},
     "output_type": "execute_result"
    }
   ],
   "source": [
    "# количество прослушиваний в Санкт-Петербурге по понедельникам\n",
    "number_tracks('Monday', 'Saint-Petersburg')"
   ]
  },
  {
   "cell_type": "code",
   "execution_count": 23,
   "metadata": {
    "id": "_NTy2VPU_Zcu"
   },
   "outputs": [
    {
     "data": {
      "text/plain": [
       "11056"
      ]
     },
     "execution_count": 23,
     "metadata": {},
     "output_type": "execute_result"
    }
   ],
   "source": [
    "# количество прослушиваний в Москве по средам\n",
    "number_tracks('Wednesday', 'Moscow')"
   ]
  },
  {
   "cell_type": "code",
   "execution_count": 24,
   "metadata": {
    "id": "j2y3TAwo_Zcu"
   },
   "outputs": [
    {
     "data": {
      "text/plain": [
       "7003"
      ]
     },
     "execution_count": 24,
     "metadata": {},
     "output_type": "execute_result"
    }
   ],
   "source": [
    "# количество прослушиваний в Санкт-Петербурге по средам\n",
    "number_tracks('Wednesday', 'Saint-Petersburg')"
   ]
  },
  {
   "cell_type": "code",
   "execution_count": 25,
   "metadata": {
    "id": "vYDw5u_K_Zcu"
   },
   "outputs": [
    {
     "data": {
      "text/plain": [
       "15945"
      ]
     },
     "execution_count": 25,
     "metadata": {},
     "output_type": "execute_result"
    }
   ],
   "source": [
    "# количество прослушиваний в Москве по пятницам\n",
    "number_tracks('Friday', 'Moscow')"
   ]
  },
  {
   "cell_type": "code",
   "execution_count": 26,
   "metadata": {
    "id": "8_yzFtW3_Zcu"
   },
   "outputs": [
    {
     "data": {
      "text/plain": [
       "5895"
      ]
     },
     "execution_count": 26,
     "metadata": {},
     "output_type": "execute_result"
    }
   ],
   "source": [
    "# количество прослушиваний в Санкт-Петербурге по пятницам\n",
    "number_tracks('Friday', 'Saint-Petersburg')"
   ]
  },
  {
   "cell_type": "markdown",
   "metadata": {
    "id": "7QXffbO-_Zcu"
   },
   "source": [
    "Создадимтаблицу, где\n",
    "* названия колонок — `['city', 'monday', 'wednesday', 'friday']`;\n",
    "* данные — результаты, которые вы получены с помощью `number_tracks`."
   ]
  },
  {
   "cell_type": "code",
   "execution_count": null,
   "metadata": {
    "id": "APAcLpOr_Zcu"
   },
   "outputs": [],
   "source": [
    "# Таблица с результатами\n",
    "columns = ['city', 'monday', 'wednesday', 'friday']\n",
    "data = [\n",
    "    ['Moscow', 15740, 11056, 15945],\n",
    "    ['Saint-Petersburg', 5614, 7003, 5895]\n",
    "]"
   ]
  },
  {
   "cell_type": "code",
   "execution_count": 27,
   "metadata": {
    "id": "APAcLpOr_Zcu"
   },
   "outputs": [],
   "source": [
    "moscow_spb = pd.DataFrame(data=data, columns=columns)\n",
    "moscow_spb"
   ]
  },
  {
   "cell_type": "markdown",
   "metadata": {
    "id": "-EgPIHYu_Zcu"
   },
   "source": [
    "**Выводы**\n",
    "\n",
    "Данные показывают разницу поведения пользователей:\n",
    "\n",
    "- В Москве пик прослушиваний приходится на понедельник и пятницу, а в среду заметен спад.\n",
    "- В Петербурге, наоборот, больше слушают музыку по средам. Активность в понедельник и пятницу здесь почти в равной мере уступает среде.\n",
    "\n",
    "Значит, данные говорят в пользу первой гипотезы."
   ]
  },
  {
   "cell_type": "markdown",
   "metadata": {
    "id": "atZAxtq4_Zcu"
   },
   "source": [
    "### Музыка в начале и в конце недели"
   ]
  },
  {
   "cell_type": "markdown",
   "metadata": {
    "id": "eXrQqXFH_Zcu"
   },
   "source": [
    "Согласно второй гипотезе, утром в понедельник в Москве преобладают одни жанры, а в Петербурге — другие. Так же и вечером пятницы преобладают разные жанры — в зависимости от города."
   ]
  },
  {
   "cell_type": "code",
   "execution_count": 28,
   "metadata": {
    "id": "qeaFfM_P_Zcu"
   },
   "outputs": [],
   "source": [
    "moscow_general = df[df['city'] == 'Moscow']"
   ]
  },
  {
   "cell_type": "code",
   "execution_count": 29,
   "metadata": {
    "id": "ORaVRKto_Zcu"
   },
   "outputs": [],
   "source": [
    "spb_general = df[df['city'] == 'Saint-Petersburg']"
   ]
  },
  {
   "cell_type": "code",
   "execution_count": 30,
   "metadata": {
    "id": "laJT9BYl_Zcu"
   },
   "outputs": [],
   "source": [
    "def genre_weekday(table, day, time1, time2):\n",
    "    genre_df = table[table['day'] == day]\n",
    "    genre_df = genre_df[genre_df['time'] > time1]\n",
    "    genre_df = genre_df[genre_df['time'] < time2]\n",
    "    genre_df_count = genre_df.groupby('genre')['user_id'].count()\n",
    "    genre_df_sorted = genre_df_count.sort_values(ascending = False)\n",
    "    return genre_df_sorted.head(10)"
   ]
  },
  {
   "cell_type": "markdown",
   "metadata": {
    "id": "la2s2_PF_Zcu"
   },
   "source": [
    "Cравним результаты функции `genre_weekday()` для Москвы и Санкт-Петербурга в понедельник утром (с 7:00 до 11:00) и в пятницу вечером (с 17:00 до 23:00):"
   ]
  },
  {
   "cell_type": "code",
   "execution_count": 31,
   "metadata": {
    "id": "yz7itPUQ_Zcu"
   },
   "outputs": [
    {
     "data": {
      "text/plain": [
       "genre\n",
       "pop            781\n",
       "dance          549\n",
       "electronic     480\n",
       "rock           474\n",
       "hiphop         286\n",
       "ruspop         186\n",
       "world          181\n",
       "rusrap         175\n",
       "alternative    164\n",
       "unknown        161\n",
       "Name: user_id, dtype: int64"
      ]
     },
     "execution_count": 31,
     "metadata": {},
     "output_type": "execute_result"
    }
   ],
   "source": [
    "genre_weekday(moscow_general, 'Monday', '07:00', '11:00')"
   ]
  },
  {
   "cell_type": "code",
   "execution_count": 32,
   "metadata": {
    "id": "kwUcHPdy_Zcu"
   },
   "outputs": [
    {
     "data": {
      "text/plain": [
       "genre\n",
       "pop            218\n",
       "dance          182\n",
       "rock           162\n",
       "electronic     147\n",
       "hiphop          80\n",
       "ruspop          64\n",
       "alternative     58\n",
       "rusrap          55\n",
       "jazz            44\n",
       "classical       40\n",
       "Name: user_id, dtype: int64"
      ]
     },
     "execution_count": 32,
     "metadata": {},
     "output_type": "execute_result"
    }
   ],
   "source": [
    "genre_weekday(spb_general, 'Monday', '07:00', '11:00')"
   ]
  },
  {
   "cell_type": "code",
   "execution_count": 33,
   "metadata": {
    "id": "EzXVRE1o_Zcu"
   },
   "outputs": [
    {
     "data": {
      "text/plain": [
       "genre\n",
       "pop            713\n",
       "rock           517\n",
       "dance          495\n",
       "electronic     482\n",
       "hiphop         273\n",
       "world          208\n",
       "ruspop         170\n",
       "alternative    163\n",
       "classical      163\n",
       "rusrap         142\n",
       "Name: user_id, dtype: int64"
      ]
     },
     "execution_count": 33,
     "metadata": {},
     "output_type": "execute_result"
    }
   ],
   "source": [
    "genre_weekday(moscow_general, 'Friday', '17:00', '23:00')"
   ]
  },
  {
   "cell_type": "code",
   "execution_count": 34,
   "metadata": {
    "id": "JZaEKu5v_Zcu"
   },
   "outputs": [
    {
     "data": {
      "text/plain": [
       "genre\n",
       "pop            256\n",
       "rock           216\n",
       "electronic     216\n",
       "dance          210\n",
       "hiphop          97\n",
       "alternative     63\n",
       "jazz            61\n",
       "classical       60\n",
       "rusrap          59\n",
       "world           54\n",
       "Name: user_id, dtype: int64"
      ]
     },
     "execution_count": 34,
     "metadata": {},
     "output_type": "execute_result"
    }
   ],
   "source": [
    "genre_weekday(spb_general, 'Friday', '17:00', '23:00')"
   ]
  },
  {
   "cell_type": "markdown",
   "metadata": {
    "id": "wrCe4MNX_Zcu"
   },
   "source": [
    "**Выводы**\n",
    "\n",
    "Если сравнить топ-10 жанров в понедельник утром, можно сделать такие выводы:\n",
    "\n",
    "1. В Москве и Петербурге слушают похожую музыку. Единственное отличие — в московский рейтинг вошёл жанр “world”, а в петербургский — джаз и классика.\n",
    "\n",
    "2. В Москве пропущенных значений оказалось так много, что значение `'unknown'` заняло десятое место среди самых популярных жанров. Значит, пропущенные значения занимают существенную долю в данных и угрожают достоверности исследования.\n",
    "\n",
    "Вечер пятницы не меняет эту картину. Некоторые жанры поднимаются немного выше, другие спускаются, но в целом топ-10 остаётся тем же самым.\n",
    "\n",
    "Таким образом, вторая гипотеза подтвердилась лишь частично:\n",
    "* Пользователи слушают похожую музыку в начале недели и в конце.\n",
    "* Разница между Москвой и Петербургом не слишком выражена. В Москве чаще слушают русскую популярную музыку, в Петербурге — джаз.\n",
    "\n",
    "Однако пропуски в данных ставят под сомнение этот результат. В Москве их так много, что рейтинг топ-10 мог бы выглядеть иначе, если бы не утерянные  данные о жанрах."
   ]
  },
  {
   "cell_type": "markdown",
   "metadata": {
    "id": "JolODAqr_Zcu"
   },
   "source": [
    "### Жанровые предпочтения в Москве и Петербурге\n",
    "\n",
    "Гипотеза: Петербург — столица рэпа, музыку этого жанра там слушают чаще, чем в Москве.  А Москва — город контрастов, в котором, тем не менее, преобладает поп-музыка."
   ]
  },
  {
   "cell_type": "markdown",
   "metadata": {
    "id": "DlegSvaT_Zcu"
   },
   "source": [
    "Сгруппируем таблицу `moscow_general` по жанру и отсортируем результат в порядке убывания, сохранив его в таблице `moscow_genres`."
   ]
  },
  {
   "cell_type": "code",
   "execution_count": 35,
   "metadata": {
    "id": "r19lIPke_Zcu"
   },
   "outputs": [],
   "source": [
    "moscow_genres = moscow_general.groupby('genre')['user_id'].count().sort_values(ascending = False)"
   ]
  },
  {
   "cell_type": "code",
   "execution_count": 36,
   "metadata": {
    "id": "WhCSooF8_Zcv"
   },
   "outputs": [
    {
     "data": {
      "text/plain": [
       "genre\n",
       "pop            5892\n",
       "dance          4435\n",
       "rock           3965\n",
       "electronic     3786\n",
       "hiphop         2096\n",
       "classical      1616\n",
       "world          1432\n",
       "alternative    1379\n",
       "ruspop         1372\n",
       "rusrap         1161\n",
       "Name: user_id, dtype: int64"
      ]
     },
     "execution_count": 36,
     "metadata": {},
     "output_type": "execute_result"
    }
   ],
   "source": [
    "moscow_genres.head(10)"
   ]
  },
  {
   "cell_type": "markdown",
   "metadata": {
    "id": "cnPG2vnN_Zcv"
   },
   "source": [
    "Теперь повторим то же и для Петербурга."
   ]
  },
  {
   "cell_type": "code",
   "execution_count": 37,
   "metadata": {
    "id": "gluLIpE7_Zcv"
   },
   "outputs": [],
   "source": [
    "spb_genres = spb_general.groupby('genre')['user_id'].count().sort_values(ascending = False)"
   ]
  },
  {
   "cell_type": "markdown",
   "metadata": {
    "id": "5Doha_ODgyQ8"
   },
   "source": [
    "Выведите на экран первые десять строк `spb_genres`:"
   ]
  },
  {
   "cell_type": "code",
   "execution_count": 38,
   "metadata": {
    "id": "uaGJHjVU_Zcv"
   },
   "outputs": [
    {
     "data": {
      "text/plain": [
       "genre\n",
       "pop            2431\n",
       "dance          1932\n",
       "rock           1879\n",
       "electronic     1736\n",
       "hiphop          960\n",
       "alternative     649\n",
       "classical       646\n",
       "rusrap          564\n",
       "ruspop          538\n",
       "world           515\n",
       "Name: user_id, dtype: int64"
      ]
     },
     "execution_count": 38,
     "metadata": {},
     "output_type": "execute_result"
    }
   ],
   "source": [
    "spb_genres.head(10)"
   ]
  },
  {
   "cell_type": "markdown",
   "metadata": {
    "id": "RY51YJYu_Zcv"
   },
   "source": [
    "**Выводы**"
   ]
  },
  {
   "cell_type": "markdown",
   "metadata": {
    "id": "nVhnJEm__Zcv"
   },
   "source": [
    "Гипотеза частично подтвердилась:\n",
    "* Поп-музыка — самый популярный жанр в Москве, как и предполагала гипотеза. Более того, в топ-10 жанров встречается близкий жанр — русская популярная музыка.\n",
    "* Вопреки ожиданиям, рэп одинаково популярен в Москве и Петербурге. \n"
   ]
  },
  {
   "cell_type": "markdown",
   "metadata": {
    "id": "ykKQ0N65_Zcv"
   },
   "source": [
    "## Итоги исследования"
   ]
  },
  {
   "cell_type": "markdown",
   "metadata": {
    "id": "tjUwbHb3_Zcv"
   },
   "source": [
    "Вы проверили три гипотезы и установили:\n",
    "\n",
    "1. День недели по-разному влияет на активность пользователей в Москве и Петербурге. \n",
    "\n",
    "Первая гипотеза полностью подтвердилась.\n",
    "\n",
    "2. Музыкальные предпочтения не сильно меняются в течение недели — будь то Москва или Петербург. Небольшие различия заметны в начале недели, по понедельникам:\n",
    "* в Москве слушают музыку жанра “world”,\n",
    "* в Петербурге — джаз и классику.\n",
    "\n",
    "Таким образом, вторая гипотеза подтвердилась лишь отчасти. Этот результат мог оказаться иным, если бы не пропуски в данных.\n",
    "\n",
    "3. Во вкусах пользователей Москвы и Петербурга больше общего чем различий. Вопреки ожиданиям, предпочтения жанров в Петербурге напоминают московские.\n",
    "\n",
    "Третья гипотеза не подтвердилась. Если различия в предпочтениях и существуют, на основной массе пользователей они незаметны."
   ]
  }
 ],
 "metadata": {
  "ExecuteTimeLog": [
   {
    "duration": 579,
    "start_time": "2022-03-01T15:47:25.282Z"
   },
   {
    "duration": 126,
    "start_time": "2022-03-01T15:49:43.688Z"
   },
   {
    "duration": 15,
    "start_time": "2022-03-01T15:49:49.911Z"
   },
   {
    "duration": 22,
    "start_time": "2022-03-01T15:50:32.602Z"
   },
   {
    "duration": 286,
    "start_time": "2022-03-01T15:56:32.672Z"
   },
   {
    "duration": 3,
    "start_time": "2022-03-01T15:57:02.587Z"
   },
   {
    "duration": 19,
    "start_time": "2022-03-01T16:00:28.515Z"
   },
   {
    "duration": 3,
    "start_time": "2022-03-01T16:00:52.057Z"
   },
   {
    "duration": 3,
    "start_time": "2022-03-01T16:01:11.681Z"
   },
   {
    "duration": 3,
    "start_time": "2022-03-01T16:01:18.416Z"
   },
   {
    "duration": 25,
    "start_time": "2022-03-01T16:03:48.188Z"
   },
   {
    "duration": 7,
    "start_time": "2022-03-01T16:05:46.190Z"
   },
   {
    "duration": 4,
    "start_time": "2022-03-01T16:05:56.765Z"
   },
   {
    "duration": 7,
    "start_time": "2022-03-01T16:14:04.558Z"
   },
   {
    "duration": 5,
    "start_time": "2022-03-01T16:14:29.789Z"
   },
   {
    "duration": 10,
    "start_time": "2022-03-01T16:17:14.610Z"
   },
   {
    "duration": 3,
    "start_time": "2022-03-01T16:20:41.729Z"
   },
   {
    "duration": 9,
    "start_time": "2022-03-01T16:20:51.957Z"
   },
   {
    "duration": 9,
    "start_time": "2022-03-01T16:21:04.763Z"
   },
   {
    "duration": 124,
    "start_time": "2022-03-01T16:21:09.382Z"
   },
   {
    "duration": 10,
    "start_time": "2022-03-01T16:21:12.326Z"
   },
   {
    "duration": 9,
    "start_time": "2022-03-01T16:21:26.278Z"
   },
   {
    "duration": 3,
    "start_time": "2022-03-01T16:21:33.406Z"
   },
   {
    "duration": 20,
    "start_time": "2022-03-01T16:21:36.255Z"
   },
   {
    "duration": -237,
    "start_time": "2022-03-01T16:22:07.411Z"
   },
   {
    "duration": 6280,
    "start_time": "2022-03-01T16:22:18.508Z"
   },
   {
    "duration": -236,
    "start_time": "2022-03-01T16:22:25.027Z"
   },
   {
    "duration": 6067,
    "start_time": "2022-03-01T16:22:37.171Z"
   },
   {
    "duration": 80,
    "start_time": "2022-03-01T16:23:00.161Z"
   },
   {
    "duration": 5705,
    "start_time": "2022-03-01T16:23:05.374Z"
   },
   {
    "duration": 5489,
    "start_time": "2022-03-01T16:24:18.834Z"
   },
   {
    "duration": 17,
    "start_time": "2022-03-01T16:25:11.458Z"
   },
   {
    "duration": 3,
    "start_time": "2022-03-01T16:25:14.474Z"
   },
   {
    "duration": 20,
    "start_time": "2022-03-01T16:25:18.248Z"
   },
   {
    "duration": 15,
    "start_time": "2022-03-01T16:25:21.590Z"
   },
   {
    "duration": 10,
    "start_time": "2022-03-01T16:25:37.055Z"
   },
   {
    "duration": 86,
    "start_time": "2022-03-01T16:26:04.963Z"
   },
   {
    "duration": 22,
    "start_time": "2022-03-01T16:26:11.860Z"
   },
   {
    "duration": 51,
    "start_time": "2022-03-01T16:27:15.337Z"
   },
   {
    "duration": 57,
    "start_time": "2022-03-01T16:28:32.620Z"
   },
   {
    "duration": 45,
    "start_time": "2022-03-01T16:29:15.712Z"
   },
   {
    "duration": 35,
    "start_time": "2022-03-01T16:31:45.111Z"
   },
   {
    "duration": 37,
    "start_time": "2022-03-01T16:33:44.286Z"
   },
   {
    "duration": 36,
    "start_time": "2022-03-01T16:51:33.768Z"
   },
   {
    "duration": 3,
    "start_time": "2022-03-01T16:52:29.179Z"
   },
   {
    "duration": 624,
    "start_time": "2022-03-02T07:34:49.736Z"
   },
   {
    "duration": 149,
    "start_time": "2022-03-02T07:34:50.362Z"
   },
   {
    "duration": 20,
    "start_time": "2022-03-02T07:34:50.513Z"
   },
   {
    "duration": 36,
    "start_time": "2022-03-02T07:34:50.535Z"
   },
   {
    "duration": 6,
    "start_time": "2022-03-02T07:34:50.573Z"
   },
   {
    "duration": 40,
    "start_time": "2022-03-02T07:34:50.581Z"
   },
   {
    "duration": 4,
    "start_time": "2022-03-02T07:34:50.623Z"
   },
   {
    "duration": 48,
    "start_time": "2022-03-02T07:34:50.631Z"
   },
   {
    "duration": 43,
    "start_time": "2022-03-02T07:34:50.683Z"
   },
   {
    "duration": 37,
    "start_time": "2022-03-02T07:34:50.729Z"
   },
   {
    "duration": 82,
    "start_time": "2022-03-02T07:34:50.768Z"
   },
   {
    "duration": 83,
    "start_time": "2022-03-02T07:34:50.852Z"
   },
   {
    "duration": 65,
    "start_time": "2022-03-02T07:34:50.937Z"
   },
   {
    "duration": 41,
    "start_time": "2022-03-02T07:34:51.004Z"
   },
   {
    "duration": 3,
    "start_time": "2022-03-02T07:34:51.047Z"
   },
   {
    "duration": 5,
    "start_time": "2022-03-02T07:34:51.052Z"
   },
   {
    "duration": 7,
    "start_time": "2022-03-02T07:34:51.059Z"
   },
   {
    "duration": 8,
    "start_time": "2022-03-02T07:34:51.067Z"
   },
   {
    "duration": 9,
    "start_time": "2022-03-02T07:34:51.077Z"
   },
   {
    "duration": 9,
    "start_time": "2022-03-02T07:34:51.102Z"
   },
   {
    "duration": 7,
    "start_time": "2022-03-02T07:34:51.113Z"
   },
   {
    "duration": 8,
    "start_time": "2022-03-02T07:34:51.122Z"
   },
   {
    "duration": 7,
    "start_time": "2022-03-02T07:34:51.134Z"
   },
   {
    "duration": 10,
    "start_time": "2022-03-02T07:34:51.143Z"
   },
   {
    "duration": 12,
    "start_time": "2022-03-02T07:34:51.155Z"
   },
   {
    "duration": 8,
    "start_time": "2022-03-02T07:34:51.169Z"
   },
   {
    "duration": 8,
    "start_time": "2022-03-02T07:34:51.179Z"
   },
   {
    "duration": 8,
    "start_time": "2022-03-02T07:34:51.189Z"
   },
   {
    "duration": 9,
    "start_time": "2022-03-02T07:34:51.199Z"
   },
   {
    "duration": 8,
    "start_time": "2022-03-02T07:34:51.210Z"
   },
   {
    "duration": 14,
    "start_time": "2022-03-02T07:34:51.220Z"
   },
   {
    "duration": 9,
    "start_time": "2022-03-02T07:34:51.236Z"
   },
   {
    "duration": 12,
    "start_time": "2022-03-02T07:34:51.247Z"
   },
   {
    "duration": 8,
    "start_time": "2022-03-02T07:34:51.261Z"
   },
   {
    "duration": 10,
    "start_time": "2022-03-02T07:34:51.271Z"
   },
   {
    "duration": 11,
    "start_time": "2022-03-02T07:34:51.283Z"
   },
   {
    "duration": 9,
    "start_time": "2022-03-02T07:34:51.296Z"
   },
   {
    "duration": 11,
    "start_time": "2022-03-02T07:34:51.307Z"
   },
   {
    "duration": 407,
    "start_time": "2022-03-02T07:37:50.624Z"
   },
   {
    "duration": 4,
    "start_time": "2022-03-02T07:38:38.635Z"
   },
   {
    "duration": 411,
    "start_time": "2022-03-02T07:38:43.891Z"
   },
   {
    "duration": 360,
    "start_time": "2022-03-02T07:38:48.428Z"
   },
   {
    "duration": 4,
    "start_time": "2022-03-02T07:40:46.049Z"
   },
   {
    "duration": 383,
    "start_time": "2022-03-02T07:40:53.338Z"
   },
   {
    "duration": 4,
    "start_time": "2022-03-02T07:41:44.804Z"
   },
   {
    "duration": 370,
    "start_time": "2022-03-02T07:41:46.924Z"
   },
   {
    "duration": 3,
    "start_time": "2022-03-02T07:42:11.698Z"
   },
   {
    "duration": 359,
    "start_time": "2022-03-02T07:42:13.571Z"
   },
   {
    "duration": 4,
    "start_time": "2022-03-02T07:42:57.789Z"
   },
   {
    "duration": 437,
    "start_time": "2022-03-02T07:42:59.323Z"
   },
   {
    "duration": 4,
    "start_time": "2022-03-02T07:43:25.380Z"
   },
   {
    "duration": 345,
    "start_time": "2022-03-02T07:43:26.278Z"
   },
   {
    "duration": 5,
    "start_time": "2022-03-02T07:43:36.842Z"
   },
   {
    "duration": 380,
    "start_time": "2022-03-02T07:43:38.503Z"
   },
   {
    "duration": 4,
    "start_time": "2022-03-02T07:44:33.816Z"
   },
   {
    "duration": 345,
    "start_time": "2022-03-02T07:44:36.935Z"
   },
   {
    "duration": 4,
    "start_time": "2022-03-02T07:44:56.720Z"
   },
   {
    "duration": 391,
    "start_time": "2022-03-02T07:45:04.706Z"
   },
   {
    "duration": 57,
    "start_time": "2022-03-02T07:45:18.824Z"
   },
   {
    "duration": 57,
    "start_time": "2022-03-02T07:54:07.243Z"
   },
   {
    "duration": 56,
    "start_time": "2022-03-02T07:57:15.266Z"
   },
   {
    "duration": 4,
    "start_time": "2022-03-02T08:01:14.696Z"
   },
   {
    "duration": 356,
    "start_time": "2022-03-02T08:01:22.255Z"
   },
   {
    "duration": 4,
    "start_time": "2022-03-02T08:01:26.815Z"
   },
   {
    "duration": 371,
    "start_time": "2022-03-02T08:01:54.180Z"
   },
   {
    "duration": 3,
    "start_time": "2022-03-02T08:04:41.513Z"
   },
   {
    "duration": 348,
    "start_time": "2022-03-02T08:04:47.271Z"
   },
   {
    "duration": 3,
    "start_time": "2022-03-02T08:05:47.479Z"
   },
   {
    "duration": 366,
    "start_time": "2022-03-02T08:05:52.127Z"
   },
   {
    "duration": 5,
    "start_time": "2022-03-02T11:03:09.241Z"
   },
   {
    "duration": 566,
    "start_time": "2022-03-02T11:03:12.215Z"
   },
   {
    "duration": 267,
    "start_time": "2022-03-02T11:06:37.904Z"
   },
   {
    "duration": 722,
    "start_time": "2022-03-02T11:06:56.999Z"
   },
   {
    "duration": 173,
    "start_time": "2022-03-02T11:06:57.724Z"
   },
   {
    "duration": 24,
    "start_time": "2022-03-02T11:06:57.899Z"
   },
   {
    "duration": 33,
    "start_time": "2022-03-02T11:06:57.926Z"
   },
   {
    "duration": 29,
    "start_time": "2022-03-02T11:06:57.961Z"
   },
   {
    "duration": 27,
    "start_time": "2022-03-02T11:06:57.992Z"
   },
   {
    "duration": 8,
    "start_time": "2022-03-02T11:06:58.021Z"
   },
   {
    "duration": 28,
    "start_time": "2022-03-02T11:06:58.032Z"
   },
   {
    "duration": 21,
    "start_time": "2022-03-02T11:06:58.087Z"
   },
   {
    "duration": 27,
    "start_time": "2022-03-02T11:06:58.111Z"
   },
   {
    "duration": 102,
    "start_time": "2022-03-02T11:06:58.141Z"
   },
   {
    "duration": 105,
    "start_time": "2022-03-02T11:06:58.245Z"
   },
   {
    "duration": 80,
    "start_time": "2022-03-02T11:06:58.353Z"
   },
   {
    "duration": 61,
    "start_time": "2022-03-02T11:06:58.435Z"
   },
   {
    "duration": 4,
    "start_time": "2022-03-02T11:06:58.499Z"
   },
   {
    "duration": 558,
    "start_time": "2022-03-02T11:06:58.505Z"
   },
   {
    "duration": -510,
    "start_time": "2022-03-02T11:06:59.576Z"
   },
   {
    "duration": -522,
    "start_time": "2022-03-02T11:06:59.590Z"
   },
   {
    "duration": -529,
    "start_time": "2022-03-02T11:06:59.598Z"
   },
   {
    "duration": -534,
    "start_time": "2022-03-02T11:06:59.604Z"
   },
   {
    "duration": -534,
    "start_time": "2022-03-02T11:06:59.606Z"
   },
   {
    "duration": -536,
    "start_time": "2022-03-02T11:06:59.609Z"
   },
   {
    "duration": -541,
    "start_time": "2022-03-02T11:06:59.616Z"
   },
   {
    "duration": -542,
    "start_time": "2022-03-02T11:06:59.618Z"
   },
   {
    "duration": -543,
    "start_time": "2022-03-02T11:06:59.621Z"
   },
   {
    "duration": -545,
    "start_time": "2022-03-02T11:06:59.624Z"
   },
   {
    "duration": -548,
    "start_time": "2022-03-02T11:06:59.628Z"
   },
   {
    "duration": -552,
    "start_time": "2022-03-02T11:06:59.634Z"
   },
   {
    "duration": -554,
    "start_time": "2022-03-02T11:06:59.637Z"
   },
   {
    "duration": -555,
    "start_time": "2022-03-02T11:06:59.639Z"
   },
   {
    "duration": -556,
    "start_time": "2022-03-02T11:06:59.642Z"
   },
   {
    "duration": -559,
    "start_time": "2022-03-02T11:06:59.646Z"
   },
   {
    "duration": -563,
    "start_time": "2022-03-02T11:06:59.651Z"
   },
   {
    "duration": -564,
    "start_time": "2022-03-02T11:06:59.654Z"
   },
   {
    "duration": -566,
    "start_time": "2022-03-02T11:06:59.657Z"
   },
   {
    "duration": -568,
    "start_time": "2022-03-02T11:06:59.660Z"
   },
   {
    "duration": -572,
    "start_time": "2022-03-02T11:06:59.666Z"
   },
   {
    "duration": -574,
    "start_time": "2022-03-02T11:06:59.669Z"
   },
   {
    "duration": 55,
    "start_time": "2022-03-02T11:10:17.298Z"
   },
   {
    "duration": 55,
    "start_time": "2022-03-02T11:13:23.796Z"
   },
   {
    "duration": 90,
    "start_time": "2022-03-02T11:21:33.506Z"
   },
   {
    "duration": 4,
    "start_time": "2022-03-02T11:21:39.273Z"
   },
   {
    "duration": 609,
    "start_time": "2022-03-02T11:23:59.948Z"
   },
   {
    "duration": 278,
    "start_time": "2022-03-02T11:32:09.980Z"
   },
   {
    "duration": 5,
    "start_time": "2022-03-02T11:33:47.246Z"
   },
   {
    "duration": 5,
    "start_time": "2022-03-02T11:34:04.618Z"
   },
   {
    "duration": 5,
    "start_time": "2022-03-02T11:36:13.253Z"
   },
   {
    "duration": 5,
    "start_time": "2022-03-02T11:36:47.146Z"
   },
   {
    "duration": 59,
    "start_time": "2022-03-02T11:38:20.733Z"
   },
   {
    "duration": 39,
    "start_time": "2022-03-02T11:41:48.330Z"
   },
   {
    "duration": 13,
    "start_time": "2022-03-02T11:42:42.442Z"
   },
   {
    "duration": 4,
    "start_time": "2022-03-02T11:49:51.950Z"
   },
   {
    "duration": 530,
    "start_time": "2022-03-02T11:49:54.573Z"
   },
   {
    "duration": 303,
    "start_time": "2022-03-02T11:56:39.384Z"
   },
   {
    "duration": 4,
    "start_time": "2022-03-02T11:56:52.540Z"
   },
   {
    "duration": 6,
    "start_time": "2022-03-02T11:58:26.929Z"
   },
   {
    "duration": 565,
    "start_time": "2022-03-02T11:58:29.029Z"
   },
   {
    "duration": 4,
    "start_time": "2022-03-02T11:59:09.169Z"
   },
   {
    "duration": 536,
    "start_time": "2022-03-02T11:59:10.958Z"
   },
   {
    "duration": 4,
    "start_time": "2022-03-02T12:03:40.191Z"
   },
   {
    "duration": 540,
    "start_time": "2022-03-02T12:03:41.890Z"
   },
   {
    "duration": 4,
    "start_time": "2022-03-02T12:05:37.770Z"
   },
   {
    "duration": 519,
    "start_time": "2022-03-02T12:05:39.855Z"
   },
   {
    "duration": 5,
    "start_time": "2022-03-02T12:11:03.652Z"
   },
   {
    "duration": 17,
    "start_time": "2022-03-02T12:11:05.230Z"
   },
   {
    "duration": 55,
    "start_time": "2022-03-02T12:11:16.254Z"
   },
   {
    "duration": 3,
    "start_time": "2022-03-02T12:13:21.637Z"
   },
   {
    "duration": 184,
    "start_time": "2022-03-02T12:13:21.643Z"
   },
   {
    "duration": 15,
    "start_time": "2022-03-02T12:13:21.830Z"
   },
   {
    "duration": 49,
    "start_time": "2022-03-02T12:13:21.848Z"
   },
   {
    "duration": 6,
    "start_time": "2022-03-02T12:13:21.899Z"
   },
   {
    "duration": 29,
    "start_time": "2022-03-02T12:13:21.907Z"
   },
   {
    "duration": 5,
    "start_time": "2022-03-02T12:13:21.939Z"
   },
   {
    "duration": 62,
    "start_time": "2022-03-02T12:13:21.948Z"
   },
   {
    "duration": 25,
    "start_time": "2022-03-02T12:13:22.013Z"
   },
   {
    "duration": 56,
    "start_time": "2022-03-02T12:13:22.040Z"
   },
   {
    "duration": 94,
    "start_time": "2022-03-02T12:13:22.099Z"
   },
   {
    "duration": 105,
    "start_time": "2022-03-02T12:13:22.196Z"
   },
   {
    "duration": 84,
    "start_time": "2022-03-02T12:13:22.304Z"
   },
   {
    "duration": 60,
    "start_time": "2022-03-02T12:13:22.391Z"
   },
   {
    "duration": 5,
    "start_time": "2022-03-02T12:13:22.454Z"
   },
   {
    "duration": 18,
    "start_time": "2022-03-02T12:13:22.488Z"
   },
   {
    "duration": 78,
    "start_time": "2022-03-02T12:13:22.509Z"
   },
   {
    "duration": 14,
    "start_time": "2022-03-02T12:13:22.589Z"
   },
   {
    "duration": 101,
    "start_time": "2022-03-02T12:13:22.607Z"
   },
   {
    "duration": -498,
    "start_time": "2022-03-02T12:13:23.208Z"
   },
   {
    "duration": -499,
    "start_time": "2022-03-02T12:13:23.211Z"
   },
   {
    "duration": -501,
    "start_time": "2022-03-02T12:13:23.214Z"
   },
   {
    "duration": -504,
    "start_time": "2022-03-02T12:13:23.219Z"
   },
   {
    "duration": -506,
    "start_time": "2022-03-02T12:13:23.223Z"
   },
   {
    "duration": -507,
    "start_time": "2022-03-02T12:13:23.225Z"
   },
   {
    "duration": -507,
    "start_time": "2022-03-02T12:13:23.227Z"
   },
   {
    "duration": -510,
    "start_time": "2022-03-02T12:13:23.231Z"
   },
   {
    "duration": -516,
    "start_time": "2022-03-02T12:13:23.239Z"
   },
   {
    "duration": -519,
    "start_time": "2022-03-02T12:13:23.243Z"
   },
   {
    "duration": -521,
    "start_time": "2022-03-02T12:13:23.246Z"
   },
   {
    "duration": -523,
    "start_time": "2022-03-02T12:13:23.250Z"
   },
   {
    "duration": -529,
    "start_time": "2022-03-02T12:13:23.257Z"
   },
   {
    "duration": -531,
    "start_time": "2022-03-02T12:13:23.260Z"
   },
   {
    "duration": -533,
    "start_time": "2022-03-02T12:13:23.263Z"
   },
   {
    "duration": -537,
    "start_time": "2022-03-02T12:13:23.269Z"
   },
   {
    "duration": -539,
    "start_time": "2022-03-02T12:13:23.272Z"
   },
   {
    "duration": -540,
    "start_time": "2022-03-02T12:13:23.274Z"
   },
   {
    "duration": -542,
    "start_time": "2022-03-02T12:13:23.277Z"
   },
   {
    "duration": 134,
    "start_time": "2022-03-02T12:16:30.762Z"
   },
   {
    "duration": 315,
    "start_time": "2022-03-02T12:17:01.420Z"
   },
   {
    "duration": 45,
    "start_time": "2022-03-02T12:18:45.750Z"
   },
   {
    "duration": 41,
    "start_time": "2022-03-02T12:18:58.936Z"
   },
   {
    "duration": 14,
    "start_time": "2022-03-02T12:20:12.731Z"
   },
   {
    "duration": 12,
    "start_time": "2022-03-02T12:20:16.094Z"
   },
   {
    "duration": 5,
    "start_time": "2022-03-02T12:28:00.680Z"
   },
   {
    "duration": 283,
    "start_time": "2022-03-02T12:31:42.755Z"
   },
   {
    "duration": 18,
    "start_time": "2022-03-02T12:31:56.504Z"
   },
   {
    "duration": 19,
    "start_time": "2022-03-02T12:32:13.317Z"
   },
   {
    "duration": 17,
    "start_time": "2022-03-02T12:32:43.907Z"
   },
   {
    "duration": 17,
    "start_time": "2022-03-02T12:33:08.185Z"
   },
   {
    "duration": 18,
    "start_time": "2022-03-02T12:33:26.038Z"
   },
   {
    "duration": 18,
    "start_time": "2022-03-02T12:33:40.787Z"
   },
   {
    "duration": 276,
    "start_time": "2022-03-02T12:40:09.482Z"
   },
   {
    "duration": 4,
    "start_time": "2022-03-02T12:41:11.449Z"
   },
   {
    "duration": 11,
    "start_time": "2022-03-02T12:41:15.874Z"
   },
   {
    "duration": 11,
    "start_time": "2022-03-02T12:41:16.684Z"
   },
   {
    "duration": 11,
    "start_time": "2022-03-02T12:41:18.272Z"
   },
   {
    "duration": 16,
    "start_time": "2022-03-02T12:41:18.967Z"
   },
   {
    "duration": 16,
    "start_time": "2022-03-02T12:41:21.686Z"
   },
   {
    "duration": 6,
    "start_time": "2022-03-02T12:41:47.664Z"
   },
   {
    "duration": 27,
    "start_time": "2022-03-02T12:41:51.128Z"
   },
   {
    "duration": 20,
    "start_time": "2022-03-02T12:41:53.709Z"
   },
   {
    "duration": 23,
    "start_time": "2022-03-02T12:41:54.683Z"
   },
   {
    "duration": 26,
    "start_time": "2022-03-02T12:41:57.589Z"
   },
   {
    "duration": 29,
    "start_time": "2022-03-02T12:41:58.525Z"
   },
   {
    "duration": 27,
    "start_time": "2022-03-02T12:41:59.343Z"
   },
   {
    "duration": 9,
    "start_time": "2022-03-02T12:45:07.070Z"
   },
   {
    "duration": 233,
    "start_time": "2022-03-02T16:15:34.726Z"
   },
   {
    "duration": 695,
    "start_time": "2022-03-02T16:15:41.289Z"
   },
   {
    "duration": 167,
    "start_time": "2022-03-02T16:15:41.986Z"
   },
   {
    "duration": 30,
    "start_time": "2022-03-02T16:15:42.156Z"
   },
   {
    "duration": 35,
    "start_time": "2022-03-02T16:15:42.189Z"
   },
   {
    "duration": 6,
    "start_time": "2022-03-02T16:15:42.227Z"
   },
   {
    "duration": 53,
    "start_time": "2022-03-02T16:15:42.235Z"
   },
   {
    "duration": 5,
    "start_time": "2022-03-02T16:15:42.291Z"
   },
   {
    "duration": 28,
    "start_time": "2022-03-02T16:15:42.301Z"
   },
   {
    "duration": 52,
    "start_time": "2022-03-02T16:15:42.332Z"
   },
   {
    "duration": 29,
    "start_time": "2022-03-02T16:15:42.387Z"
   },
   {
    "duration": 91,
    "start_time": "2022-03-02T16:15:42.418Z"
   },
   {
    "duration": 104,
    "start_time": "2022-03-02T16:15:42.512Z"
   },
   {
    "duration": 79,
    "start_time": "2022-03-02T16:15:42.619Z"
   },
   {
    "duration": 56,
    "start_time": "2022-03-02T16:15:42.701Z"
   },
   {
    "duration": 4,
    "start_time": "2022-03-02T16:15:42.760Z"
   },
   {
    "duration": 18,
    "start_time": "2022-03-02T16:15:42.783Z"
   },
   {
    "duration": 81,
    "start_time": "2022-03-02T16:15:42.803Z"
   },
   {
    "duration": 13,
    "start_time": "2022-03-02T16:15:42.886Z"
   },
   {
    "duration": 13,
    "start_time": "2022-03-02T16:15:42.901Z"
   },
   {
    "duration": 5,
    "start_time": "2022-03-02T16:15:42.916Z"
   },
   {
    "duration": 24,
    "start_time": "2022-03-02T16:15:42.923Z"
   },
   {
    "duration": 18,
    "start_time": "2022-03-02T16:15:42.982Z"
   },
   {
    "duration": 22,
    "start_time": "2022-03-02T16:15:43.005Z"
   },
   {
    "duration": 17,
    "start_time": "2022-03-02T16:15:43.030Z"
   },
   {
    "duration": 46,
    "start_time": "2022-03-02T16:15:43.049Z"
   },
   {
    "duration": 18,
    "start_time": "2022-03-02T16:15:43.097Z"
   },
   {
    "duration": 226,
    "start_time": "2022-03-02T16:15:43.117Z"
   },
   {
    "duration": -212,
    "start_time": "2022-03-02T16:15:43.557Z"
   },
   {
    "duration": -219,
    "start_time": "2022-03-02T16:15:43.565Z"
   },
   {
    "duration": -221,
    "start_time": "2022-03-02T16:15:43.569Z"
   },
   {
    "duration": -225,
    "start_time": "2022-03-02T16:15:43.574Z"
   },
   {
    "duration": -231,
    "start_time": "2022-03-02T16:15:43.582Z"
   },
   {
    "duration": -234,
    "start_time": "2022-03-02T16:15:43.586Z"
   },
   {
    "duration": -237,
    "start_time": "2022-03-02T16:15:43.590Z"
   },
   {
    "duration": -243,
    "start_time": "2022-03-02T16:15:43.598Z"
   },
   {
    "duration": -246,
    "start_time": "2022-03-02T16:15:43.602Z"
   },
   {
    "duration": -248,
    "start_time": "2022-03-02T16:15:43.605Z"
   },
   {
    "duration": -251,
    "start_time": "2022-03-02T16:15:43.610Z"
   },
   {
    "duration": 14,
    "start_time": "2022-03-02T16:15:50.767Z"
   },
   {
    "duration": 18,
    "start_time": "2022-03-02T16:16:47.494Z"
   },
   {
    "duration": 5,
    "start_time": "2022-03-02T16:21:11.597Z"
   },
   {
    "duration": 182,
    "start_time": "2022-03-02T16:21:25.226Z"
   },
   {
    "duration": 9,
    "start_time": "2022-03-02T16:21:46.548Z"
   },
   {
    "duration": 6,
    "start_time": "2022-03-02T16:22:10.629Z"
   },
   {
    "duration": 16,
    "start_time": "2022-03-02T16:22:16.883Z"
   },
   {
    "duration": 15,
    "start_time": "2022-03-02T16:22:18.997Z"
   },
   {
    "duration": 6,
    "start_time": "2022-03-02T16:31:21.565Z"
   },
   {
    "duration": 25,
    "start_time": "2022-03-02T16:35:11.934Z"
   },
   {
    "duration": 15,
    "start_time": "2022-03-02T16:35:14.611Z"
   },
   {
    "duration": 23,
    "start_time": "2022-03-02T16:35:15.921Z"
   },
   {
    "duration": 61,
    "start_time": "2022-03-02T16:35:16.734Z"
   },
   {
    "duration": 16,
    "start_time": "2022-03-02T16:35:24.987Z"
   },
   {
    "duration": 205,
    "start_time": "2022-03-02T16:39:04.669Z"
   },
   {
    "duration": 200,
    "start_time": "2022-03-02T16:39:24.402Z"
   },
   {
    "duration": 29,
    "start_time": "2022-03-02T16:41:32.529Z"
   },
   {
    "duration": 11,
    "start_time": "2022-03-02T16:41:48.463Z"
   },
   {
    "duration": 188,
    "start_time": "2022-03-02T16:42:37.343Z"
   },
   {
    "duration": 186,
    "start_time": "2022-03-02T16:42:54.573Z"
   },
   {
    "duration": 28,
    "start_time": "2022-03-02T16:43:02.606Z"
   },
   {
    "duration": 183,
    "start_time": "2022-03-02T16:47:56.281Z"
   },
   {
    "duration": 237,
    "start_time": "2022-03-02T16:48:07.717Z"
   },
   {
    "duration": 17,
    "start_time": "2022-03-02T16:48:15.895Z"
   },
   {
    "duration": 11,
    "start_time": "2022-03-02T16:48:19.092Z"
   },
   {
    "duration": 11,
    "start_time": "2022-03-02T16:49:59.411Z"
   },
   {
    "duration": 14,
    "start_time": "2022-03-02T16:51:29.132Z"
   },
   {
    "duration": 30,
    "start_time": "2022-03-02T16:51:32.414Z"
   },
   {
    "duration": 13,
    "start_time": "2022-03-02T16:51:34.459Z"
   },
   {
    "duration": 29,
    "start_time": "2022-03-02T16:53:40.221Z"
   },
   {
    "duration": 13,
    "start_time": "2022-03-02T16:53:41.524Z"
   },
   {
    "duration": 15,
    "start_time": "2022-03-02T16:53:54.167Z"
   },
   {
    "duration": 12,
    "start_time": "2022-03-02T16:55:18.343Z"
   },
   {
    "duration": 7,
    "start_time": "2022-03-02T16:55:21.228Z"
   },
   {
    "duration": 55,
    "start_time": "2022-03-02T16:55:41.365Z"
   },
   {
    "duration": 9,
    "start_time": "2022-03-02T16:55:47.537Z"
   },
   {
    "duration": 8,
    "start_time": "2022-03-02T16:55:48.770Z"
   },
   {
    "duration": 3,
    "start_time": "2022-03-02T16:58:24.063Z"
   },
   {
    "duration": 231,
    "start_time": "2022-03-02T16:58:24.070Z"
   },
   {
    "duration": 17,
    "start_time": "2022-03-02T16:58:24.305Z"
   },
   {
    "duration": 56,
    "start_time": "2022-03-02T16:58:24.326Z"
   },
   {
    "duration": 6,
    "start_time": "2022-03-02T16:58:24.385Z"
   },
   {
    "duration": 21,
    "start_time": "2022-03-02T16:58:24.394Z"
   },
   {
    "duration": 5,
    "start_time": "2022-03-02T16:58:24.419Z"
   },
   {
    "duration": 73,
    "start_time": "2022-03-02T16:58:24.428Z"
   },
   {
    "duration": 25,
    "start_time": "2022-03-02T16:58:24.504Z"
   },
   {
    "duration": 52,
    "start_time": "2022-03-02T16:58:24.532Z"
   },
   {
    "duration": 102,
    "start_time": "2022-03-02T16:58:24.587Z"
   },
   {
    "duration": 112,
    "start_time": "2022-03-02T16:58:24.692Z"
   },
   {
    "duration": 82,
    "start_time": "2022-03-02T16:58:24.806Z"
   },
   {
    "duration": 56,
    "start_time": "2022-03-02T16:58:24.891Z"
   },
   {
    "duration": 32,
    "start_time": "2022-03-02T16:58:24.950Z"
   },
   {
    "duration": 17,
    "start_time": "2022-03-02T16:58:24.986Z"
   },
   {
    "duration": 83,
    "start_time": "2022-03-02T16:58:25.006Z"
   },
   {
    "duration": 14,
    "start_time": "2022-03-02T16:58:25.091Z"
   },
   {
    "duration": 13,
    "start_time": "2022-03-02T16:58:25.110Z"
   },
   {
    "duration": 5,
    "start_time": "2022-03-02T16:58:25.126Z"
   },
   {
    "duration": 63,
    "start_time": "2022-03-02T16:58:25.133Z"
   },
   {
    "duration": 21,
    "start_time": "2022-03-02T16:58:25.199Z"
   },
   {
    "duration": 25,
    "start_time": "2022-03-02T16:58:25.222Z"
   },
   {
    "duration": 43,
    "start_time": "2022-03-02T16:58:25.249Z"
   },
   {
    "duration": 21,
    "start_time": "2022-03-02T16:58:25.294Z"
   },
   {
    "duration": 18,
    "start_time": "2022-03-02T16:58:25.317Z"
   },
   {
    "duration": 6,
    "start_time": "2022-03-02T16:58:25.338Z"
   },
   {
    "duration": 48,
    "start_time": "2022-03-02T16:58:25.346Z"
   },
   {
    "duration": 14,
    "start_time": "2022-03-02T16:58:25.396Z"
   },
   {
    "duration": 5,
    "start_time": "2022-03-02T16:58:25.413Z"
   },
   {
    "duration": 35,
    "start_time": "2022-03-02T16:58:25.420Z"
   },
   {
    "duration": 39,
    "start_time": "2022-03-02T16:58:25.457Z"
   },
   {
    "duration": 24,
    "start_time": "2022-03-02T16:58:25.499Z"
   },
   {
    "duration": 17,
    "start_time": "2022-03-02T16:58:25.526Z"
   },
   {
    "duration": 48,
    "start_time": "2022-03-02T16:58:25.545Z"
   },
   {
    "duration": 17,
    "start_time": "2022-03-02T16:58:25.596Z"
   },
   {
    "duration": 12,
    "start_time": "2022-03-02T16:58:25.615Z"
   },
   {
    "duration": 28,
    "start_time": "2022-03-02T16:58:25.630Z"
   },
   {
    "duration": 42,
    "start_time": "2022-03-02T17:03:47.605Z"
   },
   {
    "duration": 47,
    "start_time": "2022-03-02T17:04:06.867Z"
   },
   {
    "duration": 22,
    "start_time": "2022-03-02T17:05:59.173Z"
   },
   {
    "duration": 31,
    "start_time": "2022-03-02T17:06:06.932Z"
   },
   {
    "duration": 77,
    "start_time": "2022-03-02T17:06:14.490Z"
   },
   {
    "duration": 77,
    "start_time": "2022-03-02T17:06:18.312Z"
   },
   {
    "duration": 3,
    "start_time": "2022-03-02T17:06:38.232Z"
   },
   {
    "duration": 195,
    "start_time": "2022-03-02T17:06:38.238Z"
   },
   {
    "duration": 16,
    "start_time": "2022-03-02T17:06:38.436Z"
   },
   {
    "duration": 54,
    "start_time": "2022-03-02T17:06:38.456Z"
   },
   {
    "duration": 5,
    "start_time": "2022-03-02T17:06:38.513Z"
   },
   {
    "duration": 31,
    "start_time": "2022-03-02T17:06:38.521Z"
   },
   {
    "duration": 29,
    "start_time": "2022-03-02T17:06:38.555Z"
   },
   {
    "duration": 47,
    "start_time": "2022-03-02T17:06:38.588Z"
   },
   {
    "duration": 59,
    "start_time": "2022-03-02T17:06:38.638Z"
   },
   {
    "duration": 45,
    "start_time": "2022-03-02T17:06:38.700Z"
   },
   {
    "duration": 100,
    "start_time": "2022-03-02T17:06:38.747Z"
   },
   {
    "duration": 93,
    "start_time": "2022-03-02T17:06:38.849Z"
   },
   {
    "duration": 86,
    "start_time": "2022-03-02T17:06:38.944Z"
   },
   {
    "duration": 65,
    "start_time": "2022-03-02T17:06:39.032Z"
   },
   {
    "duration": 6,
    "start_time": "2022-03-02T17:06:39.100Z"
   },
   {
    "duration": 19,
    "start_time": "2022-03-02T17:06:39.109Z"
   },
   {
    "duration": 88,
    "start_time": "2022-03-02T17:06:39.131Z"
   },
   {
    "duration": 16,
    "start_time": "2022-03-02T17:06:39.222Z"
   },
   {
    "duration": 38,
    "start_time": "2022-03-02T17:06:39.244Z"
   },
   {
    "duration": 5,
    "start_time": "2022-03-02T17:06:39.285Z"
   },
   {
    "duration": 25,
    "start_time": "2022-03-02T17:06:39.292Z"
   },
   {
    "duration": 18,
    "start_time": "2022-03-02T17:06:39.319Z"
   },
   {
    "duration": 52,
    "start_time": "2022-03-02T17:06:39.340Z"
   },
   {
    "duration": 17,
    "start_time": "2022-03-02T17:06:39.394Z"
   },
   {
    "duration": 19,
    "start_time": "2022-03-02T17:06:39.413Z"
   },
   {
    "duration": 55,
    "start_time": "2022-03-02T17:06:39.435Z"
   },
   {
    "duration": 6,
    "start_time": "2022-03-02T17:06:39.492Z"
   },
   {
    "duration": 19,
    "start_time": "2022-03-02T17:06:39.500Z"
   },
   {
    "duration": 12,
    "start_time": "2022-03-02T17:06:39.522Z"
   },
   {
    "duration": 6,
    "start_time": "2022-03-02T17:06:39.536Z"
   },
   {
    "duration": 56,
    "start_time": "2022-03-02T17:06:39.544Z"
   },
   {
    "duration": 16,
    "start_time": "2022-03-02T17:06:39.603Z"
   },
   {
    "duration": 62,
    "start_time": "2022-03-02T17:06:39.621Z"
   },
   {
    "duration": 16,
    "start_time": "2022-03-02T17:06:39.686Z"
   },
   {
    "duration": 12,
    "start_time": "2022-03-02T17:06:39.704Z"
   },
   {
    "duration": 6,
    "start_time": "2022-03-02T17:06:39.718Z"
   },
   {
    "duration": 9,
    "start_time": "2022-03-02T17:06:39.726Z"
   },
   {
    "duration": 50,
    "start_time": "2022-03-02T17:06:39.738Z"
   },
   {
    "duration": 5,
    "start_time": "2022-03-02T17:10:11.046Z"
   },
   {
    "duration": 13,
    "start_time": "2022-03-02T17:12:22.378Z"
   },
   {
    "duration": 14,
    "start_time": "2022-03-02T17:13:08.852Z"
   },
   {
    "duration": 17,
    "start_time": "2022-03-02T17:13:18.629Z"
   },
   {
    "duration": 3,
    "start_time": "2022-03-02T17:30:31.398Z"
   },
   {
    "duration": 207,
    "start_time": "2022-03-02T17:30:31.404Z"
   },
   {
    "duration": 15,
    "start_time": "2022-03-02T17:30:31.614Z"
   },
   {
    "duration": 50,
    "start_time": "2022-03-02T17:30:31.632Z"
   },
   {
    "duration": 6,
    "start_time": "2022-03-02T17:30:31.685Z"
   },
   {
    "duration": 32,
    "start_time": "2022-03-02T17:30:31.694Z"
   },
   {
    "duration": 5,
    "start_time": "2022-03-02T17:30:31.730Z"
   },
   {
    "duration": 54,
    "start_time": "2022-03-02T17:30:31.739Z"
   },
   {
    "duration": 24,
    "start_time": "2022-03-02T17:30:31.795Z"
   },
   {
    "duration": 30,
    "start_time": "2022-03-02T17:30:31.822Z"
   },
   {
    "duration": 103,
    "start_time": "2022-03-02T17:30:31.854Z"
   },
   {
    "duration": 101,
    "start_time": "2022-03-02T17:30:31.960Z"
   },
   {
    "duration": 84,
    "start_time": "2022-03-02T17:30:32.064Z"
   },
   {
    "duration": 63,
    "start_time": "2022-03-02T17:30:32.151Z"
   },
   {
    "duration": 4,
    "start_time": "2022-03-02T17:30:32.216Z"
   },
   {
    "duration": 19,
    "start_time": "2022-03-02T17:30:32.222Z"
   },
   {
    "duration": 86,
    "start_time": "2022-03-02T17:30:32.243Z"
   },
   {
    "duration": 13,
    "start_time": "2022-03-02T17:30:32.332Z"
   },
   {
    "duration": 33,
    "start_time": "2022-03-02T17:30:32.350Z"
   },
   {
    "duration": 4,
    "start_time": "2022-03-02T17:30:32.386Z"
   },
   {
    "duration": 28,
    "start_time": "2022-03-02T17:30:32.393Z"
   },
   {
    "duration": 18,
    "start_time": "2022-03-02T17:30:32.423Z"
   },
   {
    "duration": 47,
    "start_time": "2022-03-02T17:30:32.444Z"
   },
   {
    "duration": 19,
    "start_time": "2022-03-02T17:30:32.493Z"
   },
   {
    "duration": 20,
    "start_time": "2022-03-02T17:30:32.515Z"
   },
   {
    "duration": 47,
    "start_time": "2022-03-02T17:30:32.538Z"
   },
   {
    "duration": 7,
    "start_time": "2022-03-02T17:30:32.587Z"
   },
   {
    "duration": 20,
    "start_time": "2022-03-02T17:30:32.597Z"
   },
   {
    "duration": 15,
    "start_time": "2022-03-02T17:30:32.620Z"
   },
   {
    "duration": 47,
    "start_time": "2022-03-02T17:30:32.638Z"
   },
   {
    "duration": 38,
    "start_time": "2022-03-02T17:30:32.688Z"
   },
   {
    "duration": 18,
    "start_time": "2022-03-02T17:30:32.728Z"
   },
   {
    "duration": 47,
    "start_time": "2022-03-02T17:30:32.749Z"
   },
   {
    "duration": 16,
    "start_time": "2022-03-02T17:30:32.799Z"
   },
   {
    "duration": 12,
    "start_time": "2022-03-02T17:30:32.817Z"
   },
   {
    "duration": 7,
    "start_time": "2022-03-02T17:30:32.831Z"
   },
   {
    "duration": 48,
    "start_time": "2022-03-02T17:30:32.840Z"
   },
   {
    "duration": 7,
    "start_time": "2022-03-02T17:30:32.891Z"
   },
   {
    "duration": 57,
    "start_time": "2022-03-02T17:31:33.114Z"
   },
   {
    "duration": 726,
    "start_time": "2022-03-03T06:24:40.656Z"
   },
   {
    "duration": 188,
    "start_time": "2022-03-03T06:24:41.385Z"
   },
   {
    "duration": 25,
    "start_time": "2022-03-03T06:24:41.576Z"
   },
   {
    "duration": 49,
    "start_time": "2022-03-03T06:24:41.604Z"
   },
   {
    "duration": 5,
    "start_time": "2022-03-03T06:24:41.655Z"
   },
   {
    "duration": 27,
    "start_time": "2022-03-03T06:24:41.662Z"
   },
   {
    "duration": 5,
    "start_time": "2022-03-03T06:24:41.691Z"
   },
   {
    "duration": 33,
    "start_time": "2022-03-03T06:24:41.733Z"
   },
   {
    "duration": 21,
    "start_time": "2022-03-03T06:24:41.770Z"
   },
   {
    "duration": 49,
    "start_time": "2022-03-03T06:24:41.794Z"
   },
   {
    "duration": 97,
    "start_time": "2022-03-03T06:24:41.845Z"
   },
   {
    "duration": 97,
    "start_time": "2022-03-03T06:24:41.945Z"
   },
   {
    "duration": 70,
    "start_time": "2022-03-03T06:24:42.045Z"
   },
   {
    "duration": 67,
    "start_time": "2022-03-03T06:24:42.118Z"
   },
   {
    "duration": 4,
    "start_time": "2022-03-03T06:24:42.187Z"
   },
   {
    "duration": 40,
    "start_time": "2022-03-03T06:24:42.193Z"
   },
   {
    "duration": 60,
    "start_time": "2022-03-03T06:24:42.236Z"
   },
   {
    "duration": 35,
    "start_time": "2022-03-03T06:24:42.299Z"
   },
   {
    "duration": 14,
    "start_time": "2022-03-03T06:24:42.336Z"
   },
   {
    "duration": 5,
    "start_time": "2022-03-03T06:24:42.352Z"
   },
   {
    "duration": 30,
    "start_time": "2022-03-03T06:24:42.359Z"
   },
   {
    "duration": 51,
    "start_time": "2022-03-03T06:24:42.391Z"
   },
   {
    "duration": 18,
    "start_time": "2022-03-03T06:24:42.447Z"
   },
   {
    "duration": 17,
    "start_time": "2022-03-03T06:24:42.468Z"
   },
   {
    "duration": 56,
    "start_time": "2022-03-03T06:24:42.488Z"
   },
   {
    "duration": 20,
    "start_time": "2022-03-03T06:24:42.547Z"
   },
   {
    "duration": 6,
    "start_time": "2022-03-03T06:24:42.570Z"
   },
   {
    "duration": 39,
    "start_time": "2022-03-03T06:24:42.578Z"
   },
   {
    "duration": 22,
    "start_time": "2022-03-03T06:24:42.619Z"
   },
   {
    "duration": 10,
    "start_time": "2022-03-03T06:24:42.643Z"
   },
   {
    "duration": 36,
    "start_time": "2022-03-03T06:24:42.655Z"
   },
   {
    "duration": 15,
    "start_time": "2022-03-03T06:24:42.693Z"
   },
   {
    "duration": 37,
    "start_time": "2022-03-03T06:24:42.711Z"
   },
   {
    "duration": 15,
    "start_time": "2022-03-03T06:24:42.751Z"
   },
   {
    "duration": 12,
    "start_time": "2022-03-03T06:24:42.768Z"
   },
   {
    "duration": 12,
    "start_time": "2022-03-03T06:24:42.782Z"
   },
   {
    "duration": 40,
    "start_time": "2022-03-03T06:24:42.796Z"
   },
   {
    "duration": 8,
    "start_time": "2022-03-03T06:24:42.838Z"
   },
   {
    "duration": 55,
    "start_time": "2022-03-08T08:46:24.441Z"
   },
   {
    "duration": 364,
    "start_time": "2022-03-09T12:04:18.214Z"
   },
   {
    "duration": 943,
    "start_time": "2022-03-09T12:04:25.627Z"
   },
   {
    "duration": 232,
    "start_time": "2022-03-09T12:04:28.683Z"
   },
   {
    "duration": 38,
    "start_time": "2022-03-09T12:04:33.246Z"
   },
   {
    "duration": 105,
    "start_time": "2022-03-09T12:06:40.588Z"
   },
   {
    "duration": 63,
    "start_time": "2022-03-09T12:06:57.811Z"
   }
  ],
  "colab": {
   "collapsed_sections": [
    "E0vqbgi9ay0H",
    "VUC88oWjTJw2"
   ],
   "name": "yandex_music_project_2021.2.ipynb",
   "provenance": []
  },
  "kernelspec": {
   "display_name": "Python 3 (ipykernel)",
   "language": "python",
   "name": "python3"
  },
  "language_info": {
   "codemirror_mode": {
    "name": "ipython",
    "version": 3
   },
   "file_extension": ".py",
   "mimetype": "text/x-python",
   "name": "python",
   "nbconvert_exporter": "python",
   "pygments_lexer": "ipython3",
   "version": "3.9.12"
  },
  "toc": {
   "base_numbering": 1,
   "nav_menu": {},
   "number_sections": true,
   "sideBar": true,
   "skip_h1_title": true,
   "title_cell": "Table of Contents",
   "title_sidebar": "Contents",
   "toc_cell": false,
   "toc_position": {
    "height": "calc(100% - 180px)",
    "left": "10px",
    "top": "150px",
    "width": "289.6px"
   },
   "toc_section_display": true,
   "toc_window_display": true
  }
 },
 "nbformat": 4,
 "nbformat_minor": 1
}
