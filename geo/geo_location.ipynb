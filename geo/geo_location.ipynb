{
 "cells": [
  {
   "cell_type": "markdown",
   "metadata": {},
   "source": [
    "# Выбор локации для скважины"
   ]
  },
  {
   "cell_type": "markdown",
   "metadata": {},
   "source": [
    "Допустим, вы работаете в добывающей компании «ГлавРосГосНефть». Нужно решить, где бурить новую скважину.\n",
    "\n",
    "Предоставлены пробы нефти в трёх регионах: в каждом 10 000 месторождений, где измерили качество нефти и объём её запасов. \n",
    "\n",
    "Шаги для выбора локации:\n",
    "\n",
    "- В избранном регионе ищут месторождения, для каждого определяют значения признаков;\n",
    "- Строят модель и оценивают объём запасов;\n",
    "- Выбирают месторождения с самым высокими оценками значений. Количество месторождений зависит от бюджета компании и стоимости разработки одной скважины;\n",
    "- Прибыль равна суммарной прибыли отобранных месторождений.\n",
    "\n",
    "**Цель исследования:** Построить модель машинного обучения, которая поможет определить регион, где добыча принесёт наибольшую прибыль. Проанализировать возможную прибыль и риски техникой *Bootstrap*.\n",
    "\n",
    "**Ход исследования**\n",
    "\n",
    "Исследование пройдёт в 4 этапa:\n",
    "\n",
    "  - Загрузка и подготовка данных, поиск аномалий и дубликатов в данных;\n",
    "  - Обучение и проверка модели\n",
    "  - Подготовка к расчету прибыли\n",
    "  - Расчет прибыли и рисков"
   ]
  },
  {
   "cell_type": "markdown",
   "metadata": {},
   "source": [
    "## Загрузка и подготовка данных"
   ]
  },
  {
   "cell_type": "code",
   "execution_count": 1,
   "metadata": {},
   "outputs": [],
   "source": [
    "import pandas as pd\n",
    "import numpy as np\n",
    "import seaborn as sns\n",
    "import matplotlib.pyplot as plt\n",
    "from sklearn.preprocessing import StandardScaler\n",
    "from sklearn.linear_model import LinearRegression\n",
    "from sklearn.model_selection import train_test_split\n",
    "from sklearn.metrics import mean_squared_error\n",
    "from numpy.random import RandomState"
   ]
  },
  {
   "cell_type": "code",
   "execution_count": 2,
   "metadata": {},
   "outputs": [],
   "source": [
    "try:\n",
    "    geo_0=pd.read_csv('/datasets/geo_data_0.csv')\n",
    "    geo_1=pd.read_csv('/datasets/geo_data_1.csv')\n",
    "    geo_2=pd.read_csv('/datasets/geo_data_2.csv')\n",
    "except:\n",
    "    geo_0=pd.read_csv('https://code.s3.yandex.net/datasets/geo_data_0.csv')\n",
    "    geo_1=pd.read_csv('https://code.s3.yandex.net/datasets/geo_data_1.csv')\n",
    "    geo_2=pd.read_csv('https://code.s3.yandex.net/datasets/geo_data_2.csv')"
   ]
  },
  {
   "cell_type": "code",
   "execution_count": 3,
   "metadata": {},
   "outputs": [
    {
     "data": {
      "text/html": [
       "<div>\n",
       "<style scoped>\n",
       "    .dataframe tbody tr th:only-of-type {\n",
       "        vertical-align: middle;\n",
       "    }\n",
       "\n",
       "    .dataframe tbody tr th {\n",
       "        vertical-align: top;\n",
       "    }\n",
       "\n",
       "    .dataframe thead th {\n",
       "        text-align: right;\n",
       "    }\n",
       "</style>\n",
       "<table border=\"1\" class=\"dataframe\">\n",
       "  <thead>\n",
       "    <tr style=\"text-align: right;\">\n",
       "      <th></th>\n",
       "      <th>id</th>\n",
       "      <th>f0</th>\n",
       "      <th>f1</th>\n",
       "      <th>f2</th>\n",
       "      <th>product</th>\n",
       "    </tr>\n",
       "  </thead>\n",
       "  <tbody>\n",
       "    <tr>\n",
       "      <th>0</th>\n",
       "      <td>txEyH</td>\n",
       "      <td>0.705745</td>\n",
       "      <td>-0.497823</td>\n",
       "      <td>1.221170</td>\n",
       "      <td>105.280062</td>\n",
       "    </tr>\n",
       "    <tr>\n",
       "      <th>1</th>\n",
       "      <td>2acmU</td>\n",
       "      <td>1.334711</td>\n",
       "      <td>-0.340164</td>\n",
       "      <td>4.365080</td>\n",
       "      <td>73.037750</td>\n",
       "    </tr>\n",
       "    <tr>\n",
       "      <th>2</th>\n",
       "      <td>409Wp</td>\n",
       "      <td>1.022732</td>\n",
       "      <td>0.151990</td>\n",
       "      <td>1.419926</td>\n",
       "      <td>85.265647</td>\n",
       "    </tr>\n",
       "    <tr>\n",
       "      <th>3</th>\n",
       "      <td>iJLyR</td>\n",
       "      <td>-0.032172</td>\n",
       "      <td>0.139033</td>\n",
       "      <td>2.978566</td>\n",
       "      <td>168.620776</td>\n",
       "    </tr>\n",
       "    <tr>\n",
       "      <th>4</th>\n",
       "      <td>Xdl7t</td>\n",
       "      <td>1.988431</td>\n",
       "      <td>0.155413</td>\n",
       "      <td>4.751769</td>\n",
       "      <td>154.036647</td>\n",
       "    </tr>\n",
       "  </tbody>\n",
       "</table>\n",
       "</div>"
      ],
      "text/plain": [
       "      id        f0        f1        f2     product\n",
       "0  txEyH  0.705745 -0.497823  1.221170  105.280062\n",
       "1  2acmU  1.334711 -0.340164  4.365080   73.037750\n",
       "2  409Wp  1.022732  0.151990  1.419926   85.265647\n",
       "3  iJLyR -0.032172  0.139033  2.978566  168.620776\n",
       "4  Xdl7t  1.988431  0.155413  4.751769  154.036647"
      ]
     },
     "execution_count": 3,
     "metadata": {},
     "output_type": "execute_result"
    }
   ],
   "source": [
    "geo_0.head()"
   ]
  },
  {
   "cell_type": "code",
   "execution_count": 4,
   "metadata": {},
   "outputs": [
    {
     "name": "stdout",
     "output_type": "stream",
     "text": [
      "<class 'pandas.core.frame.DataFrame'>\n",
      "RangeIndex: 100000 entries, 0 to 99999\n",
      "Data columns (total 5 columns):\n",
      " #   Column   Non-Null Count   Dtype  \n",
      "---  ------   --------------   -----  \n",
      " 0   id       100000 non-null  object \n",
      " 1   f0       100000 non-null  float64\n",
      " 2   f1       100000 non-null  float64\n",
      " 3   f2       100000 non-null  float64\n",
      " 4   product  100000 non-null  float64\n",
      "dtypes: float64(4), object(1)\n",
      "memory usage: 3.8+ MB\n"
     ]
    }
   ],
   "source": [
    "geo_0.info()"
   ]
  },
  {
   "cell_type": "code",
   "execution_count": 5,
   "metadata": {},
   "outputs": [
    {
     "data": {
      "text/html": [
       "<div>\n",
       "<style scoped>\n",
       "    .dataframe tbody tr th:only-of-type {\n",
       "        vertical-align: middle;\n",
       "    }\n",
       "\n",
       "    .dataframe tbody tr th {\n",
       "        vertical-align: top;\n",
       "    }\n",
       "\n",
       "    .dataframe thead th {\n",
       "        text-align: right;\n",
       "    }\n",
       "</style>\n",
       "<table border=\"1\" class=\"dataframe\">\n",
       "  <thead>\n",
       "    <tr style=\"text-align: right;\">\n",
       "      <th></th>\n",
       "      <th>id</th>\n",
       "      <th>f0</th>\n",
       "      <th>f1</th>\n",
       "      <th>f2</th>\n",
       "      <th>product</th>\n",
       "    </tr>\n",
       "  </thead>\n",
       "  <tbody>\n",
       "    <tr>\n",
       "      <th>0</th>\n",
       "      <td>kBEdx</td>\n",
       "      <td>-15.001348</td>\n",
       "      <td>-8.276000</td>\n",
       "      <td>-0.005876</td>\n",
       "      <td>3.179103</td>\n",
       "    </tr>\n",
       "    <tr>\n",
       "      <th>1</th>\n",
       "      <td>62mP7</td>\n",
       "      <td>14.272088</td>\n",
       "      <td>-3.475083</td>\n",
       "      <td>0.999183</td>\n",
       "      <td>26.953261</td>\n",
       "    </tr>\n",
       "    <tr>\n",
       "      <th>2</th>\n",
       "      <td>vyE1P</td>\n",
       "      <td>6.263187</td>\n",
       "      <td>-5.948386</td>\n",
       "      <td>5.001160</td>\n",
       "      <td>134.766305</td>\n",
       "    </tr>\n",
       "    <tr>\n",
       "      <th>3</th>\n",
       "      <td>KcrkZ</td>\n",
       "      <td>-13.081196</td>\n",
       "      <td>-11.506057</td>\n",
       "      <td>4.999415</td>\n",
       "      <td>137.945408</td>\n",
       "    </tr>\n",
       "    <tr>\n",
       "      <th>4</th>\n",
       "      <td>AHL4O</td>\n",
       "      <td>12.702195</td>\n",
       "      <td>-8.147433</td>\n",
       "      <td>5.004363</td>\n",
       "      <td>134.766305</td>\n",
       "    </tr>\n",
       "  </tbody>\n",
       "</table>\n",
       "</div>"
      ],
      "text/plain": [
       "      id         f0         f1        f2     product\n",
       "0  kBEdx -15.001348  -8.276000 -0.005876    3.179103\n",
       "1  62mP7  14.272088  -3.475083  0.999183   26.953261\n",
       "2  vyE1P   6.263187  -5.948386  5.001160  134.766305\n",
       "3  KcrkZ -13.081196 -11.506057  4.999415  137.945408\n",
       "4  AHL4O  12.702195  -8.147433  5.004363  134.766305"
      ]
     },
     "execution_count": 5,
     "metadata": {},
     "output_type": "execute_result"
    }
   ],
   "source": [
    "geo_1.head()"
   ]
  },
  {
   "cell_type": "code",
   "execution_count": 6,
   "metadata": {},
   "outputs": [
    {
     "name": "stdout",
     "output_type": "stream",
     "text": [
      "<class 'pandas.core.frame.DataFrame'>\n",
      "RangeIndex: 100000 entries, 0 to 99999\n",
      "Data columns (total 5 columns):\n",
      " #   Column   Non-Null Count   Dtype  \n",
      "---  ------   --------------   -----  \n",
      " 0   id       100000 non-null  object \n",
      " 1   f0       100000 non-null  float64\n",
      " 2   f1       100000 non-null  float64\n",
      " 3   f2       100000 non-null  float64\n",
      " 4   product  100000 non-null  float64\n",
      "dtypes: float64(4), object(1)\n",
      "memory usage: 3.8+ MB\n"
     ]
    }
   ],
   "source": [
    "geo_1.info()"
   ]
  },
  {
   "cell_type": "code",
   "execution_count": 7,
   "metadata": {},
   "outputs": [
    {
     "data": {
      "text/html": [
       "<div>\n",
       "<style scoped>\n",
       "    .dataframe tbody tr th:only-of-type {\n",
       "        vertical-align: middle;\n",
       "    }\n",
       "\n",
       "    .dataframe tbody tr th {\n",
       "        vertical-align: top;\n",
       "    }\n",
       "\n",
       "    .dataframe thead th {\n",
       "        text-align: right;\n",
       "    }\n",
       "</style>\n",
       "<table border=\"1\" class=\"dataframe\">\n",
       "  <thead>\n",
       "    <tr style=\"text-align: right;\">\n",
       "      <th></th>\n",
       "      <th>id</th>\n",
       "      <th>f0</th>\n",
       "      <th>f1</th>\n",
       "      <th>f2</th>\n",
       "      <th>product</th>\n",
       "    </tr>\n",
       "  </thead>\n",
       "  <tbody>\n",
       "    <tr>\n",
       "      <th>0</th>\n",
       "      <td>fwXo0</td>\n",
       "      <td>-1.146987</td>\n",
       "      <td>0.963328</td>\n",
       "      <td>-0.828965</td>\n",
       "      <td>27.758673</td>\n",
       "    </tr>\n",
       "    <tr>\n",
       "      <th>1</th>\n",
       "      <td>WJtFt</td>\n",
       "      <td>0.262778</td>\n",
       "      <td>0.269839</td>\n",
       "      <td>-2.530187</td>\n",
       "      <td>56.069697</td>\n",
       "    </tr>\n",
       "    <tr>\n",
       "      <th>2</th>\n",
       "      <td>ovLUW</td>\n",
       "      <td>0.194587</td>\n",
       "      <td>0.289035</td>\n",
       "      <td>-5.586433</td>\n",
       "      <td>62.871910</td>\n",
       "    </tr>\n",
       "    <tr>\n",
       "      <th>3</th>\n",
       "      <td>q6cA6</td>\n",
       "      <td>2.236060</td>\n",
       "      <td>-0.553760</td>\n",
       "      <td>0.930038</td>\n",
       "      <td>114.572842</td>\n",
       "    </tr>\n",
       "    <tr>\n",
       "      <th>4</th>\n",
       "      <td>WPMUX</td>\n",
       "      <td>-0.515993</td>\n",
       "      <td>1.716266</td>\n",
       "      <td>5.899011</td>\n",
       "      <td>149.600746</td>\n",
       "    </tr>\n",
       "  </tbody>\n",
       "</table>\n",
       "</div>"
      ],
      "text/plain": [
       "      id        f0        f1        f2     product\n",
       "0  fwXo0 -1.146987  0.963328 -0.828965   27.758673\n",
       "1  WJtFt  0.262778  0.269839 -2.530187   56.069697\n",
       "2  ovLUW  0.194587  0.289035 -5.586433   62.871910\n",
       "3  q6cA6  2.236060 -0.553760  0.930038  114.572842\n",
       "4  WPMUX -0.515993  1.716266  5.899011  149.600746"
      ]
     },
     "execution_count": 7,
     "metadata": {},
     "output_type": "execute_result"
    }
   ],
   "source": [
    "geo_2.head()"
   ]
  },
  {
   "cell_type": "code",
   "execution_count": 8,
   "metadata": {},
   "outputs": [
    {
     "name": "stdout",
     "output_type": "stream",
     "text": [
      "<class 'pandas.core.frame.DataFrame'>\n",
      "RangeIndex: 100000 entries, 0 to 99999\n",
      "Data columns (total 5 columns):\n",
      " #   Column   Non-Null Count   Dtype  \n",
      "---  ------   --------------   -----  \n",
      " 0   id       100000 non-null  object \n",
      " 1   f0       100000 non-null  float64\n",
      " 2   f1       100000 non-null  float64\n",
      " 3   f2       100000 non-null  float64\n",
      " 4   product  100000 non-null  float64\n",
      "dtypes: float64(4), object(1)\n",
      "memory usage: 3.8+ MB\n"
     ]
    }
   ],
   "source": [
    "geo_2.info()"
   ]
  },
  {
   "cell_type": "markdown",
   "metadata": {},
   "source": [
    "**Описание данных**\n",
    "\n",
    "В таблицах приведены данные геологоразведки трёх регионов, в каждой по 5 колонок типа -float64- и -object-.\n",
    "\n",
    "**Признаки**\n",
    "\n",
    "* `id` - уникальный идентификатор скважины;\n",
    "* `f0`, `f1`, `f2` - значимые признаки.\n",
    "* `product` - объём запасов в скважине (тыс. баррелей)."
   ]
  },
  {
   "cell_type": "code",
   "execution_count": 9,
   "metadata": {
    "scrolled": true
   },
   "outputs": [
    {
     "data": {
      "text/plain": [
       "id         0\n",
       "f0         0\n",
       "f1         0\n",
       "f2         0\n",
       "product    0\n",
       "dtype: int64"
      ]
     },
     "execution_count": 9,
     "metadata": {},
     "output_type": "execute_result"
    }
   ],
   "source": [
    "geo_0.isna().sum()"
   ]
  },
  {
   "cell_type": "code",
   "execution_count": 10,
   "metadata": {
    "scrolled": true
   },
   "outputs": [
    {
     "data": {
      "text/plain": [
       "id         0\n",
       "f0         0\n",
       "f1         0\n",
       "f2         0\n",
       "product    0\n",
       "dtype: int64"
      ]
     },
     "execution_count": 10,
     "metadata": {},
     "output_type": "execute_result"
    }
   ],
   "source": [
    "geo_1.isna().sum()"
   ]
  },
  {
   "cell_type": "code",
   "execution_count": 11,
   "metadata": {},
   "outputs": [
    {
     "data": {
      "text/plain": [
       "id         0\n",
       "f0         0\n",
       "f1         0\n",
       "f2         0\n",
       "product    0\n",
       "dtype: int64"
      ]
     },
     "execution_count": 11,
     "metadata": {},
     "output_type": "execute_result"
    }
   ],
   "source": [
    "geo_2.isna().sum()"
   ]
  },
  {
   "cell_type": "markdown",
   "metadata": {},
   "source": [
    "Пропусков в данных нет, проверим их на наличие дубликатов и избавимся от аномалий."
   ]
  },
  {
   "cell_type": "markdown",
   "metadata": {},
   "source": [
    "### Aномалии, дубликаты"
   ]
  },
  {
   "cell_type": "markdown",
   "metadata": {},
   "source": [
    "**Рассмотрим каждую таблицу. Начнем с первого региона:**"
   ]
  },
  {
   "cell_type": "code",
   "execution_count": 12,
   "metadata": {
    "scrolled": false
   },
   "outputs": [
    {
     "data": {
      "text/plain": [
       "99990"
      ]
     },
     "execution_count": 12,
     "metadata": {},
     "output_type": "execute_result"
    }
   ],
   "source": [
    "geo_0['id'].nunique()"
   ]
  },
  {
   "cell_type": "code",
   "execution_count": 13,
   "metadata": {
    "scrolled": false
   },
   "outputs": [
    {
     "data": {
      "text/plain": [
       "QcMuo    2\n",
       "bsk9y    2\n",
       "A5aEY    2\n",
       "fiKDv    2\n",
       "HZww2    2\n",
       "        ..\n",
       "qJEEl    1\n",
       "NPqf3    1\n",
       "csZvJ    1\n",
       "v558w    1\n",
       "E6v56    1\n",
       "Name: id, Length: 99990, dtype: int64"
      ]
     },
     "execution_count": 13,
     "metadata": {},
     "output_type": "execute_result"
    }
   ],
   "source": [
    "geo_0['id'].value_counts(ascending=False)"
   ]
  },
  {
   "cell_type": "code",
   "execution_count": 14,
   "metadata": {},
   "outputs": [
    {
     "data": {
      "text/html": [
       "<div>\n",
       "<style scoped>\n",
       "    .dataframe tbody tr th:only-of-type {\n",
       "        vertical-align: middle;\n",
       "    }\n",
       "\n",
       "    .dataframe tbody tr th {\n",
       "        vertical-align: top;\n",
       "    }\n",
       "\n",
       "    .dataframe thead th {\n",
       "        text-align: right;\n",
       "    }\n",
       "</style>\n",
       "<table border=\"1\" class=\"dataframe\">\n",
       "  <thead>\n",
       "    <tr style=\"text-align: right;\">\n",
       "      <th></th>\n",
       "      <th>id</th>\n",
       "      <th>f0</th>\n",
       "      <th>f1</th>\n",
       "      <th>f2</th>\n",
       "      <th>product</th>\n",
       "    </tr>\n",
       "  </thead>\n",
       "  <tbody>\n",
       "    <tr>\n",
       "      <th>42529</th>\n",
       "      <td>AGS9W</td>\n",
       "      <td>1.454747</td>\n",
       "      <td>-0.479651</td>\n",
       "      <td>0.683380</td>\n",
       "      <td>126.370504</td>\n",
       "    </tr>\n",
       "    <tr>\n",
       "      <th>69163</th>\n",
       "      <td>AGS9W</td>\n",
       "      <td>-0.933795</td>\n",
       "      <td>0.116194</td>\n",
       "      <td>-3.655896</td>\n",
       "      <td>19.230453</td>\n",
       "    </tr>\n",
       "  </tbody>\n",
       "</table>\n",
       "</div>"
      ],
      "text/plain": [
       "          id        f0        f1        f2     product\n",
       "42529  AGS9W  1.454747 -0.479651  0.683380  126.370504\n",
       "69163  AGS9W -0.933795  0.116194 -3.655896   19.230453"
      ]
     },
     "execution_count": 14,
     "metadata": {},
     "output_type": "execute_result"
    }
   ],
   "source": [
    "geo_0[geo_0['id'] == 'AGS9W']"
   ]
  },
  {
   "cell_type": "markdown",
   "metadata": {},
   "source": [
    "В данной таблице есть дубликаты  `id`, удалим все вхождения, кроме первого."
   ]
  },
  {
   "cell_type": "code",
   "execution_count": 15,
   "metadata": {},
   "outputs": [],
   "source": [
    "geo_0['id'] = geo_0['id'].drop_duplicates(keep='first')\n",
    "geo_0 = geo_0.dropna(subset=['id']).reset_index(drop=True)"
   ]
  },
  {
   "cell_type": "code",
   "execution_count": 16,
   "metadata": {
    "scrolled": true
   },
   "outputs": [
    {
     "data": {
      "text/html": [
       "<div>\n",
       "<style scoped>\n",
       "    .dataframe tbody tr th:only-of-type {\n",
       "        vertical-align: middle;\n",
       "    }\n",
       "\n",
       "    .dataframe tbody tr th {\n",
       "        vertical-align: top;\n",
       "    }\n",
       "\n",
       "    .dataframe thead th {\n",
       "        text-align: right;\n",
       "    }\n",
       "</style>\n",
       "<table border=\"1\" class=\"dataframe\">\n",
       "  <thead>\n",
       "    <tr style=\"text-align: right;\">\n",
       "      <th></th>\n",
       "      <th>f0</th>\n",
       "      <th>f1</th>\n",
       "      <th>f2</th>\n",
       "      <th>product</th>\n",
       "    </tr>\n",
       "  </thead>\n",
       "  <tbody>\n",
       "    <tr>\n",
       "      <th>count</th>\n",
       "      <td>99990.000000</td>\n",
       "      <td>99990.000000</td>\n",
       "      <td>99990.000000</td>\n",
       "      <td>99990.000000</td>\n",
       "    </tr>\n",
       "    <tr>\n",
       "      <th>mean</th>\n",
       "      <td>0.500454</td>\n",
       "      <td>0.250141</td>\n",
       "      <td>2.502629</td>\n",
       "      <td>92.499684</td>\n",
       "    </tr>\n",
       "    <tr>\n",
       "      <th>std</th>\n",
       "      <td>0.871844</td>\n",
       "      <td>0.504430</td>\n",
       "      <td>3.248149</td>\n",
       "      <td>44.288304</td>\n",
       "    </tr>\n",
       "    <tr>\n",
       "      <th>min</th>\n",
       "      <td>-1.408605</td>\n",
       "      <td>-0.848218</td>\n",
       "      <td>-12.088328</td>\n",
       "      <td>0.000000</td>\n",
       "    </tr>\n",
       "    <tr>\n",
       "      <th>25%</th>\n",
       "      <td>-0.072572</td>\n",
       "      <td>-0.200877</td>\n",
       "      <td>0.287784</td>\n",
       "      <td>56.497069</td>\n",
       "    </tr>\n",
       "    <tr>\n",
       "      <th>50%</th>\n",
       "      <td>0.502405</td>\n",
       "      <td>0.250252</td>\n",
       "      <td>2.515969</td>\n",
       "      <td>91.847928</td>\n",
       "    </tr>\n",
       "    <tr>\n",
       "      <th>75%</th>\n",
       "      <td>1.073626</td>\n",
       "      <td>0.700640</td>\n",
       "      <td>4.715035</td>\n",
       "      <td>128.563699</td>\n",
       "    </tr>\n",
       "    <tr>\n",
       "      <th>max</th>\n",
       "      <td>2.362331</td>\n",
       "      <td>1.343769</td>\n",
       "      <td>16.003790</td>\n",
       "      <td>185.364347</td>\n",
       "    </tr>\n",
       "  </tbody>\n",
       "</table>\n",
       "</div>"
      ],
      "text/plain": [
       "                 f0            f1            f2       product\n",
       "count  99990.000000  99990.000000  99990.000000  99990.000000\n",
       "mean       0.500454      0.250141      2.502629     92.499684\n",
       "std        0.871844      0.504430      3.248149     44.288304\n",
       "min       -1.408605     -0.848218    -12.088328      0.000000\n",
       "25%       -0.072572     -0.200877      0.287784     56.497069\n",
       "50%        0.502405      0.250252      2.515969     91.847928\n",
       "75%        1.073626      0.700640      4.715035    128.563699\n",
       "max        2.362331      1.343769     16.003790    185.364347"
      ]
     },
     "execution_count": 16,
     "metadata": {},
     "output_type": "execute_result"
    }
   ],
   "source": [
    "geo_0.describe()"
   ]
  },
  {
   "cell_type": "code",
   "execution_count": 17,
   "metadata": {},
   "outputs": [
    {
     "data": {
      "text/html": [
       "<div>\n",
       "<style scoped>\n",
       "    .dataframe tbody tr th:only-of-type {\n",
       "        vertical-align: middle;\n",
       "    }\n",
       "\n",
       "    .dataframe tbody tr th {\n",
       "        vertical-align: top;\n",
       "    }\n",
       "\n",
       "    .dataframe thead th {\n",
       "        text-align: right;\n",
       "    }\n",
       "</style>\n",
       "<table border=\"1\" class=\"dataframe\">\n",
       "  <thead>\n",
       "    <tr style=\"text-align: right;\">\n",
       "      <th></th>\n",
       "      <th>f0</th>\n",
       "      <th>f1</th>\n",
       "      <th>f2</th>\n",
       "      <th>product</th>\n",
       "    </tr>\n",
       "  </thead>\n",
       "  <tbody>\n",
       "    <tr>\n",
       "      <th>f0</th>\n",
       "      <td>1.000000</td>\n",
       "      <td>-0.440717</td>\n",
       "      <td>-0.003211</td>\n",
       "      <td>0.143504</td>\n",
       "    </tr>\n",
       "    <tr>\n",
       "      <th>f1</th>\n",
       "      <td>-0.440717</td>\n",
       "      <td>1.000000</td>\n",
       "      <td>0.001764</td>\n",
       "      <td>-0.192351</td>\n",
       "    </tr>\n",
       "    <tr>\n",
       "      <th>f2</th>\n",
       "      <td>-0.003211</td>\n",
       "      <td>0.001764</td>\n",
       "      <td>1.000000</td>\n",
       "      <td>0.483631</td>\n",
       "    </tr>\n",
       "    <tr>\n",
       "      <th>product</th>\n",
       "      <td>0.143504</td>\n",
       "      <td>-0.192351</td>\n",
       "      <td>0.483631</td>\n",
       "      <td>1.000000</td>\n",
       "    </tr>\n",
       "  </tbody>\n",
       "</table>\n",
       "</div>"
      ],
      "text/plain": [
       "               f0        f1        f2   product\n",
       "f0       1.000000 -0.440717 -0.003211  0.143504\n",
       "f1      -0.440717  1.000000  0.001764 -0.192351\n",
       "f2      -0.003211  0.001764  1.000000  0.483631\n",
       "product  0.143504 -0.192351  0.483631  1.000000"
      ]
     },
     "execution_count": 17,
     "metadata": {},
     "output_type": "execute_result"
    }
   ],
   "source": [
    "geo_0.corr()"
   ]
  },
  {
   "cell_type": "markdown",
   "metadata": {},
   "source": [
    "Корреляция объема запасов и признаков *f0* и *f1* отсутствует. C признаком *f2*, чьи значения имеют наибольший разброс, слабая положительная корреляция."
   ]
  },
  {
   "cell_type": "code",
   "execution_count": 18,
   "metadata": {
    "scrolled": true
   },
   "outputs": [
    {
     "data": {
      "text/plain": [
       "0"
      ]
     },
     "execution_count": 18,
     "metadata": {},
     "output_type": "execute_result"
    }
   ],
   "source": [
    "geo_0.duplicated().sum()"
   ]
  },
  {
   "cell_type": "markdown",
   "metadata": {},
   "source": [
    "**Рассмотрим следующий регион:**"
   ]
  },
  {
   "cell_type": "code",
   "execution_count": 19,
   "metadata": {},
   "outputs": [
    {
     "data": {
      "text/plain": [
       "99996"
      ]
     },
     "execution_count": 19,
     "metadata": {},
     "output_type": "execute_result"
    }
   ],
   "source": [
    "geo_1['id'].nunique()"
   ]
  },
  {
   "cell_type": "code",
   "execution_count": 20,
   "metadata": {
    "scrolled": false
   },
   "outputs": [
    {
     "data": {
      "text/plain": [
       "wt4Uk    2\n",
       "bfPNe    2\n",
       "5ltQ6    2\n",
       "LHZR0    2\n",
       "5Iyzi    1\n",
       "        ..\n",
       "sUvmI    1\n",
       "ivIzf    1\n",
       "Ubnvb    1\n",
       "HssUH    1\n",
       "pcfAn    1\n",
       "Name: id, Length: 99996, dtype: int64"
      ]
     },
     "execution_count": 20,
     "metadata": {},
     "output_type": "execute_result"
    }
   ],
   "source": [
    "geo_1['id'].value_counts(ascending=False)"
   ]
  },
  {
   "cell_type": "markdown",
   "metadata": {},
   "source": [
    "В данной таблице есть дубликаты  `id`, удалим все вхождения, кроме первого."
   ]
  },
  {
   "cell_type": "code",
   "execution_count": 21,
   "metadata": {},
   "outputs": [],
   "source": [
    "geo_1['id'] = geo_1['id'].drop_duplicates(keep='first')\n",
    "geo_1 = geo_1.dropna(subset=['id']).reset_index(drop=True)"
   ]
  },
  {
   "cell_type": "code",
   "execution_count": 22,
   "metadata": {
    "scrolled": true
   },
   "outputs": [
    {
     "data": {
      "text/plain": [
       "0"
      ]
     },
     "execution_count": 22,
     "metadata": {},
     "output_type": "execute_result"
    }
   ],
   "source": [
    "geo_1.duplicated().sum()"
   ]
  },
  {
   "cell_type": "code",
   "execution_count": 23,
   "metadata": {},
   "outputs": [
    {
     "data": {
      "text/html": [
       "<div>\n",
       "<style scoped>\n",
       "    .dataframe tbody tr th:only-of-type {\n",
       "        vertical-align: middle;\n",
       "    }\n",
       "\n",
       "    .dataframe tbody tr th {\n",
       "        vertical-align: top;\n",
       "    }\n",
       "\n",
       "    .dataframe thead th {\n",
       "        text-align: right;\n",
       "    }\n",
       "</style>\n",
       "<table border=\"1\" class=\"dataframe\">\n",
       "  <thead>\n",
       "    <tr style=\"text-align: right;\">\n",
       "      <th></th>\n",
       "      <th>f0</th>\n",
       "      <th>f1</th>\n",
       "      <th>f2</th>\n",
       "      <th>product</th>\n",
       "    </tr>\n",
       "  </thead>\n",
       "  <tbody>\n",
       "    <tr>\n",
       "      <th>count</th>\n",
       "      <td>99996.000000</td>\n",
       "      <td>99996.000000</td>\n",
       "      <td>99996.000000</td>\n",
       "      <td>99996.000000</td>\n",
       "    </tr>\n",
       "    <tr>\n",
       "      <th>mean</th>\n",
       "      <td>1.141209</td>\n",
       "      <td>-4.796608</td>\n",
       "      <td>2.494501</td>\n",
       "      <td>68.823916</td>\n",
       "    </tr>\n",
       "    <tr>\n",
       "      <th>std</th>\n",
       "      <td>8.965815</td>\n",
       "      <td>5.119906</td>\n",
       "      <td>1.703579</td>\n",
       "      <td>45.944663</td>\n",
       "    </tr>\n",
       "    <tr>\n",
       "      <th>min</th>\n",
       "      <td>-31.609576</td>\n",
       "      <td>-26.358598</td>\n",
       "      <td>-0.018144</td>\n",
       "      <td>0.000000</td>\n",
       "    </tr>\n",
       "    <tr>\n",
       "      <th>25%</th>\n",
       "      <td>-6.298551</td>\n",
       "      <td>-8.267985</td>\n",
       "      <td>1.000021</td>\n",
       "      <td>26.953261</td>\n",
       "    </tr>\n",
       "    <tr>\n",
       "      <th>50%</th>\n",
       "      <td>1.153055</td>\n",
       "      <td>-4.813172</td>\n",
       "      <td>2.011475</td>\n",
       "      <td>57.085625</td>\n",
       "    </tr>\n",
       "    <tr>\n",
       "      <th>75%</th>\n",
       "      <td>8.620964</td>\n",
       "      <td>-1.332816</td>\n",
       "      <td>3.999904</td>\n",
       "      <td>107.813044</td>\n",
       "    </tr>\n",
       "    <tr>\n",
       "      <th>max</th>\n",
       "      <td>29.421755</td>\n",
       "      <td>18.734063</td>\n",
       "      <td>5.019721</td>\n",
       "      <td>137.945408</td>\n",
       "    </tr>\n",
       "  </tbody>\n",
       "</table>\n",
       "</div>"
      ],
      "text/plain": [
       "                 f0            f1            f2       product\n",
       "count  99996.000000  99996.000000  99996.000000  99996.000000\n",
       "mean       1.141209     -4.796608      2.494501     68.823916\n",
       "std        8.965815      5.119906      1.703579     45.944663\n",
       "min      -31.609576    -26.358598     -0.018144      0.000000\n",
       "25%       -6.298551     -8.267985      1.000021     26.953261\n",
       "50%        1.153055     -4.813172      2.011475     57.085625\n",
       "75%        8.620964     -1.332816      3.999904    107.813044\n",
       "max       29.421755     18.734063      5.019721    137.945408"
      ]
     },
     "execution_count": 23,
     "metadata": {},
     "output_type": "execute_result"
    }
   ],
   "source": [
    "geo_1.describe()"
   ]
  },
  {
   "cell_type": "code",
   "execution_count": 24,
   "metadata": {},
   "outputs": [
    {
     "data": {
      "text/html": [
       "<div>\n",
       "<style scoped>\n",
       "    .dataframe tbody tr th:only-of-type {\n",
       "        vertical-align: middle;\n",
       "    }\n",
       "\n",
       "    .dataframe tbody tr th {\n",
       "        vertical-align: top;\n",
       "    }\n",
       "\n",
       "    .dataframe thead th {\n",
       "        text-align: right;\n",
       "    }\n",
       "</style>\n",
       "<table border=\"1\" class=\"dataframe\">\n",
       "  <thead>\n",
       "    <tr style=\"text-align: right;\">\n",
       "      <th></th>\n",
       "      <th>f0</th>\n",
       "      <th>f1</th>\n",
       "      <th>f2</th>\n",
       "      <th>product</th>\n",
       "    </tr>\n",
       "  </thead>\n",
       "  <tbody>\n",
       "    <tr>\n",
       "      <th>f0</th>\n",
       "      <td>1.000000</td>\n",
       "      <td>0.182279</td>\n",
       "      <td>-0.001810</td>\n",
       "      <td>-0.030523</td>\n",
       "    </tr>\n",
       "    <tr>\n",
       "      <th>f1</th>\n",
       "      <td>0.182279</td>\n",
       "      <td>1.000000</td>\n",
       "      <td>-0.002594</td>\n",
       "      <td>-0.010154</td>\n",
       "    </tr>\n",
       "    <tr>\n",
       "      <th>f2</th>\n",
       "      <td>-0.001810</td>\n",
       "      <td>-0.002594</td>\n",
       "      <td>1.000000</td>\n",
       "      <td>0.999397</td>\n",
       "    </tr>\n",
       "    <tr>\n",
       "      <th>product</th>\n",
       "      <td>-0.030523</td>\n",
       "      <td>-0.010154</td>\n",
       "      <td>0.999397</td>\n",
       "      <td>1.000000</td>\n",
       "    </tr>\n",
       "  </tbody>\n",
       "</table>\n",
       "</div>"
      ],
      "text/plain": [
       "               f0        f1        f2   product\n",
       "f0       1.000000  0.182279 -0.001810 -0.030523\n",
       "f1       0.182279  1.000000 -0.002594 -0.010154\n",
       "f2      -0.001810 -0.002594  1.000000  0.999397\n",
       "product -0.030523 -0.010154  0.999397  1.000000"
      ]
     },
     "execution_count": 24,
     "metadata": {},
     "output_type": "execute_result"
    }
   ],
   "source": [
    "geo_1.corr()"
   ]
  },
  {
   "cell_type": "markdown",
   "metadata": {},
   "source": [
    "В этом регионе объем запасов сильно зависит от признака *f2*, с остальными связь отсутствует. У признаков *f0*, *f1* больший разброс значений."
   ]
  },
  {
   "cell_type": "markdown",
   "metadata": {},
   "source": [
    "**Рассмотрим последний регион:**"
   ]
  },
  {
   "cell_type": "code",
   "execution_count": 25,
   "metadata": {
    "scrolled": true
   },
   "outputs": [
    {
     "data": {
      "text/plain": [
       "99996"
      ]
     },
     "execution_count": 25,
     "metadata": {},
     "output_type": "execute_result"
    }
   ],
   "source": [
    "geo_2['id'].nunique()"
   ]
  },
  {
   "cell_type": "code",
   "execution_count": 26,
   "metadata": {
    "scrolled": false
   },
   "outputs": [
    {
     "data": {
      "text/plain": [
       "xCHr8    2\n",
       "KUPhW    2\n",
       "VF7Jo    2\n",
       "Vcm5J    2\n",
       "pgfzQ    1\n",
       "        ..\n",
       "fk6Zt    1\n",
       "3UA68    1\n",
       "N3hxr    1\n",
       "Sbw8P    1\n",
       "lIEiW    1\n",
       "Name: id, Length: 99996, dtype: int64"
      ]
     },
     "execution_count": 26,
     "metadata": {},
     "output_type": "execute_result"
    }
   ],
   "source": [
    "geo_2['id'].value_counts(ascending=False)"
   ]
  },
  {
   "cell_type": "markdown",
   "metadata": {},
   "source": [
    "В данной таблице есть дубликаты  `id`, удалим все вхождения, кроме первого."
   ]
  },
  {
   "cell_type": "code",
   "execution_count": 27,
   "metadata": {},
   "outputs": [],
   "source": [
    "geo_2['id'] = geo_2['id'].drop_duplicates(keep='first')\n",
    "geo_2 = geo_2.dropna(subset=['id']).reset_index(drop=True)"
   ]
  },
  {
   "cell_type": "code",
   "execution_count": 28,
   "metadata": {},
   "outputs": [
    {
     "data": {
      "text/plain": [
       "0"
      ]
     },
     "execution_count": 28,
     "metadata": {},
     "output_type": "execute_result"
    }
   ],
   "source": [
    "geo_2.duplicated().sum()"
   ]
  },
  {
   "cell_type": "code",
   "execution_count": 29,
   "metadata": {
    "scrolled": true
   },
   "outputs": [
    {
     "data": {
      "text/html": [
       "<div>\n",
       "<style scoped>\n",
       "    .dataframe tbody tr th:only-of-type {\n",
       "        vertical-align: middle;\n",
       "    }\n",
       "\n",
       "    .dataframe tbody tr th {\n",
       "        vertical-align: top;\n",
       "    }\n",
       "\n",
       "    .dataframe thead th {\n",
       "        text-align: right;\n",
       "    }\n",
       "</style>\n",
       "<table border=\"1\" class=\"dataframe\">\n",
       "  <thead>\n",
       "    <tr style=\"text-align: right;\">\n",
       "      <th></th>\n",
       "      <th>f0</th>\n",
       "      <th>f1</th>\n",
       "      <th>f2</th>\n",
       "      <th>product</th>\n",
       "    </tr>\n",
       "  </thead>\n",
       "  <tbody>\n",
       "    <tr>\n",
       "      <th>count</th>\n",
       "      <td>99996.000000</td>\n",
       "      <td>99996.000000</td>\n",
       "      <td>99996.000000</td>\n",
       "      <td>99996.000000</td>\n",
       "    </tr>\n",
       "    <tr>\n",
       "      <th>mean</th>\n",
       "      <td>0.002002</td>\n",
       "      <td>-0.002159</td>\n",
       "      <td>2.495084</td>\n",
       "      <td>94.998342</td>\n",
       "    </tr>\n",
       "    <tr>\n",
       "      <th>std</th>\n",
       "      <td>1.732052</td>\n",
       "      <td>1.730397</td>\n",
       "      <td>3.473482</td>\n",
       "      <td>44.749573</td>\n",
       "    </tr>\n",
       "    <tr>\n",
       "      <th>min</th>\n",
       "      <td>-8.760004</td>\n",
       "      <td>-7.084020</td>\n",
       "      <td>-11.970335</td>\n",
       "      <td>0.000000</td>\n",
       "    </tr>\n",
       "    <tr>\n",
       "      <th>25%</th>\n",
       "      <td>-1.162328</td>\n",
       "      <td>-1.174841</td>\n",
       "      <td>0.130269</td>\n",
       "      <td>59.450028</td>\n",
       "    </tr>\n",
       "    <tr>\n",
       "      <th>50%</th>\n",
       "      <td>0.009424</td>\n",
       "      <td>-0.009661</td>\n",
       "      <td>2.484236</td>\n",
       "      <td>94.925026</td>\n",
       "    </tr>\n",
       "    <tr>\n",
       "      <th>75%</th>\n",
       "      <td>1.158477</td>\n",
       "      <td>1.163523</td>\n",
       "      <td>4.858720</td>\n",
       "      <td>130.586815</td>\n",
       "    </tr>\n",
       "    <tr>\n",
       "      <th>max</th>\n",
       "      <td>7.238262</td>\n",
       "      <td>7.844801</td>\n",
       "      <td>16.739402</td>\n",
       "      <td>190.029838</td>\n",
       "    </tr>\n",
       "  </tbody>\n",
       "</table>\n",
       "</div>"
      ],
      "text/plain": [
       "                 f0            f1            f2       product\n",
       "count  99996.000000  99996.000000  99996.000000  99996.000000\n",
       "mean       0.002002     -0.002159      2.495084     94.998342\n",
       "std        1.732052      1.730397      3.473482     44.749573\n",
       "min       -8.760004     -7.084020    -11.970335      0.000000\n",
       "25%       -1.162328     -1.174841      0.130269     59.450028\n",
       "50%        0.009424     -0.009661      2.484236     94.925026\n",
       "75%        1.158477      1.163523      4.858720    130.586815\n",
       "max        7.238262      7.844801     16.739402    190.029838"
      ]
     },
     "execution_count": 29,
     "metadata": {},
     "output_type": "execute_result"
    }
   ],
   "source": [
    "geo_2.describe()"
   ]
  },
  {
   "cell_type": "code",
   "execution_count": 30,
   "metadata": {},
   "outputs": [
    {
     "data": {
      "text/html": [
       "<div>\n",
       "<style scoped>\n",
       "    .dataframe tbody tr th:only-of-type {\n",
       "        vertical-align: middle;\n",
       "    }\n",
       "\n",
       "    .dataframe tbody tr th {\n",
       "        vertical-align: top;\n",
       "    }\n",
       "\n",
       "    .dataframe thead th {\n",
       "        text-align: right;\n",
       "    }\n",
       "</style>\n",
       "<table border=\"1\" class=\"dataframe\">\n",
       "  <thead>\n",
       "    <tr style=\"text-align: right;\">\n",
       "      <th></th>\n",
       "      <th>f0</th>\n",
       "      <th>f1</th>\n",
       "      <th>f2</th>\n",
       "      <th>product</th>\n",
       "    </tr>\n",
       "  </thead>\n",
       "  <tbody>\n",
       "    <tr>\n",
       "      <th>f0</th>\n",
       "      <td>1.000000</td>\n",
       "      <td>0.000506</td>\n",
       "      <td>-0.000452</td>\n",
       "      <td>-0.001978</td>\n",
       "    </tr>\n",
       "    <tr>\n",
       "      <th>f1</th>\n",
       "      <td>0.000506</td>\n",
       "      <td>1.000000</td>\n",
       "      <td>0.000753</td>\n",
       "      <td>-0.001055</td>\n",
       "    </tr>\n",
       "    <tr>\n",
       "      <th>f2</th>\n",
       "      <td>-0.000452</td>\n",
       "      <td>0.000753</td>\n",
       "      <td>1.000000</td>\n",
       "      <td>0.445867</td>\n",
       "    </tr>\n",
       "    <tr>\n",
       "      <th>product</th>\n",
       "      <td>-0.001978</td>\n",
       "      <td>-0.001055</td>\n",
       "      <td>0.445867</td>\n",
       "      <td>1.000000</td>\n",
       "    </tr>\n",
       "  </tbody>\n",
       "</table>\n",
       "</div>"
      ],
      "text/plain": [
       "               f0        f1        f2   product\n",
       "f0       1.000000  0.000506 -0.000452 -0.001978\n",
       "f1       0.000506  1.000000  0.000753 -0.001055\n",
       "f2      -0.000452  0.000753  1.000000  0.445867\n",
       "product -0.001978 -0.001055  0.445867  1.000000"
      ]
     },
     "execution_count": 30,
     "metadata": {},
     "output_type": "execute_result"
    }
   ],
   "source": [
    "geo_2.corr()"
   ]
  },
  {
   "cell_type": "markdown",
   "metadata": {},
   "source": [
    "В данном регионе, как и в остальных наблюдается слабая корреляция с признаком *f2*, имеющим наибольший разброс. Удалим в этом столбце сильно выбивающиеся значения:"
   ]
  },
  {
   "cell_type": "markdown",
   "metadata": {},
   "source": [
    "***Вывод***\n",
    "\n",
    "На данном этапе удалены повторяющиеся номера месторождений.\n",
    "Явных дубликатов в данных нет, наибольшая корреляция во всех регионах имеется с признаком *f2*."
   ]
  },
  {
   "cell_type": "markdown",
   "metadata": {},
   "source": [
    "## Обучение и проверка модели"
   ]
  },
  {
   "cell_type": "markdown",
   "metadata": {},
   "source": [
    "Обучим модель Линейной регрессии на имеющихся данных. Необходимо маштабирование признаков `f0`, `f1`, `f2`"
   ]
  },
  {
   "cell_type": "code",
   "execution_count": 31,
   "metadata": {},
   "outputs": [],
   "source": [
    "# Подготовка данных:\n",
    "def spliting(row):\n",
    "    target = row['product']\n",
    "    features = row.drop(['product', 'id'] , axis=1)\n",
    "    features_train, features_valid, target_train, target_valid = train_test_split(\n",
    "        features, target, test_size=0.25, random_state=12345)\n",
    "    return features_train, features_valid, target_train, target_valid\n",
    "    \n",
    "def const_model(row):\n",
    "    features_train, features_valid, target_train, target_valid = spliting(row)\n",
    "    predicted_valid_const = pd.Series(target_train.median(), index=target_valid.index)\n",
    "    error = mean_squared_error(target_valid, predicted_valid_const)**0.5\n",
    "    print(f'Ошибка константной модели: {error}')\n",
    "    return error\n",
    "\n",
    "def scalaring(row):\n",
    "    features_train, features_valid, target_train, target_valid = spliting(row)\n",
    "    scaler = StandardScaler()\n",
    "    scaler.fit(features_train)\n",
    "    features_train = scaler.transform(features_train)\n",
    "    features_valid = scaler.transform(features_valid)\n",
    "    return features_train, features_valid, target_train, target_valid\n",
    "\n",
    "def fit_predict(row):\n",
    "    features_train, features_valid, target_train, target_valid = scalaring(row)\n",
    "    model = LinearRegression()\n",
    "    model.fit(features_train, target_train)\n",
    "    predicted_valid = model.predict(features_valid)\n",
    "    return predicted_valid, model\n",
    "\n",
    "reserve_all = []\n",
    "def metrics(row):\n",
    "    features_train, features_valid, target_train, target_valid = scalaring(row)\n",
    "    predicted_valid, model = fit_predict(row)\n",
    "    \n",
    "    mean_reserve = pd.Series(predicted_valid).mean()\n",
    "    reserve_all.append(mean_reserve)\n",
    "    rmse = mean_squared_error(target_valid, pd.Series(predicted_valid))** 0.5\n",
    "    print('Cредний запас предсказанного сырья:', mean_reserve)\n",
    "    print('rmse:', rmse)\n",
    "    print('-----------')\n",
    "    if rmse < const_model(row):\n",
    "        print('Данная модель лучше константной')\n",
    "    else:\n",
    "        print('Данная модель не адекватна')\n",
    "    return mean_reserve, rmse"
   ]
  },
  {
   "cell_type": "markdown",
   "metadata": {},
   "source": [
    "**РЕГИОНЫ** Рассмотрим каждый регион и предсказания по модели:"
   ]
  },
  {
   "cell_type": "code",
   "execution_count": 32,
   "metadata": {},
   "outputs": [],
   "source": [
    "# Предсказания для каждого региона\n",
    "p_valid_0, _ = fit_predict(geo_0)\n",
    "p_valid_1, _ = fit_predict(geo_1)\n",
    "p_valid_2, _ = fit_predict(geo_2)"
   ]
  },
  {
   "cell_type": "code",
   "execution_count": 33,
   "metadata": {
    "scrolled": true
   },
   "outputs": [
    {
     "name": "stdout",
     "output_type": "stream",
     "text": [
      "Cредний запас предсказанного сырья: 92.78915638280621\n",
      "rmse: 37.853527328872964\n",
      "-----------\n",
      "Ошибка константной модели: 44.37708333688604\n",
      "Данная модель лучше константной\n"
     ]
    }
   ],
   "source": [
    "region_0 = metrics(geo_0)"
   ]
  },
  {
   "cell_type": "code",
   "execution_count": 34,
   "metadata": {},
   "outputs": [
    {
     "name": "stdout",
     "output_type": "stream",
     "text": [
      "Cредний запас предсказанного сырья: 69.1783195703043\n",
      "rmse: 0.8920592647717033\n",
      "-----------\n",
      "Ошибка константной модели: 47.46890162326147\n",
      "Данная модель лучше константной\n"
     ]
    }
   ],
   "source": [
    "region_1 = metrics(geo_1)"
   ]
  },
  {
   "cell_type": "code",
   "execution_count": 35,
   "metadata": {},
   "outputs": [
    {
     "name": "stdout",
     "output_type": "stream",
     "text": [
      "Cредний запас предсказанного сырья: 94.86572480562035\n",
      "rmse: 40.07585073246016\n",
      "-----------\n",
      "Ошибка константной модели: 44.68304659574556\n",
      "Данная модель лучше константной\n"
     ]
    }
   ],
   "source": [
    "region_2 = metrics(geo_2)"
   ]
  },
  {
   "cell_type": "markdown",
   "metadata": {},
   "source": [
    "***Вывод***\n",
    "\n",
    "Согласно данным, каждая обученная модель показала себя лучше константной, при этом:\n",
    "\n",
    "* наибольший средний запас предсказанного сырья достигнут во 2-м Регионе;\n",
    "* лучше всего модель работает по данным Региона №1, где наименьшее значение rmse и сильной корреляции с признаком *f2*"
   ]
  },
  {
   "cell_type": "markdown",
   "metadata": {},
   "source": [
    "## Подготовка к расчёту прибыли"
   ]
  },
  {
   "cell_type": "code",
   "execution_count": 36,
   "metadata": {},
   "outputs": [],
   "source": [
    "# значения для расчётов (в миллионах)\n",
    "BEST_COUNT = 200\n",
    "N = 500\n",
    "INCOME = 0.45\n",
    "BUDGET = 10**4\n",
    "LOSS_PR = 0.025"
   ]
  },
  {
   "cell_type": "code",
   "execution_count": 37,
   "metadata": {},
   "outputs": [
    {
     "name": "stdout",
     "output_type": "stream",
     "text": [
      "Oбъём сырья для безубыточной разработки составил 111.11 баррель(ей)\n"
     ]
    }
   ],
   "source": [
    "breakeven_reserve = round(BUDGET/(BEST_COUNT*INCOME), 2)\n",
    "print(f'Oбъём сырья для безубыточной разработки составил {breakeven_reserve} баррель(ей)')"
   ]
  },
  {
   "cell_type": "code",
   "execution_count": 38,
   "metadata": {},
   "outputs": [
    {
     "data": {
      "text/plain": [
       "[92.78915638280621, 69.1783195703043, 94.86572480562035]"
      ]
     },
     "execution_count": 38,
     "metadata": {},
     "output_type": "execute_result"
    }
   ],
   "source": [
    "# средние запасы по регионам\n",
    "reserve_all"
   ]
  },
  {
   "cell_type": "markdown",
   "metadata": {},
   "source": [
    "Итак, средний запас предсказанного сырья в каждом регионе не превышает уровня безубыточной разработки. Это означает, что половина всех месторождений Регионов в перспективе убыточна. Рассмотри далее, найдутся ли 200 точек, способных обеспечить потенциальную прибыль."
   ]
  },
  {
   "cell_type": "markdown",
   "metadata": {},
   "source": [
    "## Расчёт прибыли и рисков "
   ]
  },
  {
   "cell_type": "code",
   "execution_count": 39,
   "metadata": {},
   "outputs": [],
   "source": [
    "# функция для расчёта прибыли по выбранным скважинам\n",
    "def profit(row, predictions):\n",
    "    count = BEST_COUNT\n",
    "    _,_,_, target_valid = spliting(row)\n",
    "    p_sorted = pd.Series(predictions).sort_values(ascending=False)[:count]\n",
    "    selected = target_valid.reset_index(drop=True)[p_sorted.index]\n",
    "    region_revenue = round((selected.sum()*INCOME - BUDGET), 3)\n",
    "    return region_revenue"
   ]
  },
  {
   "cell_type": "code",
   "execution_count": 40,
   "metadata": {},
   "outputs": [
    {
     "name": "stdout",
     "output_type": "stream",
     "text": [
      "Прибыль двухсот лучших скважин данного Региона №0 составила 3365.187 млн.руб.\n"
     ]
    }
   ],
   "source": [
    "reg_0_income = profit(geo_0, p_valid_0)\n",
    "print(f'Прибыль двухсот лучших скважин данного Региона №0 составила {reg_0_income} млн.руб.')"
   ]
  },
  {
   "cell_type": "code",
   "execution_count": 41,
   "metadata": {},
   "outputs": [
    {
     "name": "stdout",
     "output_type": "stream",
     "text": [
      "Прибыль двухсот лучших скважин данного Региона №1 составила 2415.087 млн.руб.\n"
     ]
    }
   ],
   "source": [
    "reg_1_income = profit(geo_1, p_valid_1)\n",
    "print(f'Прибыль двухсот лучших скважин данного Региона №1 составила {reg_1_income} млн.руб.')"
   ]
  },
  {
   "cell_type": "code",
   "execution_count": 42,
   "metadata": {},
   "outputs": [
    {
     "name": "stdout",
     "output_type": "stream",
     "text": [
      "Прибыль двухсот лучших скважин данного Региона №2 составила 2501.284 млн.руб.\n"
     ]
    }
   ],
   "source": [
    "reg_2_income = profit(geo_2, p_valid_2)\n",
    "print(f'Прибыль двухсот лучших скважин данного Региона №2 составила {reg_2_income} млн.руб.')"
   ]
  },
  {
   "cell_type": "markdown",
   "metadata": {},
   "source": [
    "Согласно модели, наибольшую прибыль с двухсот лучших скважин можно достич в Регионе №0. Определим далее 95%-й доверительный интервал:"
   ]
  },
  {
   "cell_type": "code",
   "execution_count": 47,
   "metadata": {},
   "outputs": [],
   "source": [
    "state = RandomState(12345)\n",
    "def confidence_interval(row, predictions):\n",
    "    values = []\n",
    "    for i in range(1000):\n",
    "        predict_subs = pd.Series(predictions).sample(N, replace=True, random_state=state)\n",
    "        values.append(profit(row, predict_subs))\n",
    "    \n",
    "    values = pd.Series(values)\n",
    "    lower = values.quantile(0.025)\n",
    "    upper = values.quantile(0.975)\n",
    "    risks = (values < 0).mean()\n",
    "    mean = values.mean()\n",
    "    print(f\"Средняя выручка: {round(mean, 3)} млн.руб\")\n",
    "    print(f'95% доверительный интервал: ({round(lower,3)}, {round(upper,3)})')\n",
    "    print(f'Риск убытков составил {risks * 100}%')\n",
    "    if risks > LOSS_PR:\n",
    "        print('---Вероятность убытков высока!---')\n",
    "    else:\n",
    "        print('Регион подходит для разработки!')\n",
    "    return lower, upper"
   ]
  },
  {
   "cell_type": "code",
   "execution_count": 44,
   "metadata": {},
   "outputs": [
    {
     "name": "stdout",
     "output_type": "stream",
     "text": [
      "Средняя выручка: 380.613 млн.руб\n",
      "95% доверительный интервал: (-142.942, 890.977)\n",
      "Риск убытков составил 7.7%\n",
      "---Вероятность убытков высока!---\n"
     ]
    }
   ],
   "source": [
    "interval_0 = confidence_interval(geo_0, p_valid_0)"
   ]
  },
  {
   "cell_type": "code",
   "execution_count": 48,
   "metadata": {},
   "outputs": [
    {
     "name": "stdout",
     "output_type": "stream",
     "text": [
      "Средняя выручка: 478.485 млн.руб\n",
      "95% доверительный интервал: (89.525, 866.604)\n",
      "Риск убытков составил 1.2%\n",
      "Регион подходит для разработки!\n"
     ]
    }
   ],
   "source": [
    "interval_1 = confidence_interval(geo_1, p_valid_1)"
   ]
  },
  {
   "cell_type": "code",
   "execution_count": 46,
   "metadata": {},
   "outputs": [
    {
     "name": "stdout",
     "output_type": "stream",
     "text": [
      "Средняя выручка: 315.442 млн.руб\n",
      "95% доверительный интервал: (-216.265, 811.061)\n",
      "Риск убытков составил 12.4%\n",
      "---Вероятность убытков высока!---\n"
     ]
    }
   ],
   "source": [
    "interval_2 = confidence_interval(geo_2, p_valid_2)"
   ]
  },
  {
   "cell_type": "markdown",
   "metadata": {},
   "source": [
    "Итак, можно говорить, что добыча в Регионах №0 и №2 потенциально убыточна, риски превышают уровень 2,5%. Наименьший риск убытков(1,2%) наблюдается в Регионе №1, где 1) средняя выручка составила 478,485 млн. рублей; 2) с вероятностью 95% истинные значения прибыли находятся в интервале (89.525, 866.604)"
   ]
  },
  {
   "cell_type": "markdown",
   "metadata": {},
   "source": [
    "**Общий вывод**\n",
    "\n",
    "Обучив и проверив модель Линейной регрессии на данных о добыче нефти в трех регионах было установлено следующее:\n",
    "\n",
    "- средний запас предсказанного сырья в каждом регионе не превышает уровня безубыточной разработки; наибольшее среднее достигнуто в Регионе №2\n",
    "- лучше всего модель работает по данным Региона №1, где наименьшее значение rmse\n",
    "- Добыча в Регионе №1 потенциально прибыльна, риски не превышают уровень 2,5%. Поэтому только его можно рекомендовать для разработки."
   ]
  },
  {
   "cell_type": "code",
   "execution_count": null,
   "metadata": {},
   "outputs": [],
   "source": []
  }
 ],
 "metadata": {
  "ExecuteTimeLog": [
   {
    "duration": 399,
    "start_time": "2022-05-31T16:02:31.145Z"
   },
   {
    "duration": 705,
    "start_time": "2022-05-31T16:04:40.511Z"
   },
   {
    "duration": 1124,
    "start_time": "2022-05-31T16:08:48.510Z"
   },
   {
    "duration": 15,
    "start_time": "2022-05-31T16:09:47.754Z"
   },
   {
    "duration": 23,
    "start_time": "2022-05-31T16:09:58.364Z"
   },
   {
    "duration": 9,
    "start_time": "2022-05-31T16:10:35.072Z"
   },
   {
    "duration": 19,
    "start_time": "2022-05-31T16:10:42.071Z"
   },
   {
    "duration": 9,
    "start_time": "2022-05-31T16:11:10.163Z"
   },
   {
    "duration": 15,
    "start_time": "2022-05-31T16:11:20.800Z"
   },
   {
    "duration": 27,
    "start_time": "2022-05-31T16:12:08.066Z"
   },
   {
    "duration": 27,
    "start_time": "2022-05-31T16:12:19.633Z"
   },
   {
    "duration": 21,
    "start_time": "2022-05-31T16:12:27.615Z"
   },
   {
    "duration": 379,
    "start_time": "2022-05-31T16:19:07.200Z"
   },
   {
    "duration": 9,
    "start_time": "2022-05-31T16:19:22.110Z"
   },
   {
    "duration": 13,
    "start_time": "2022-05-31T16:19:30.043Z"
   },
   {
    "duration": 8,
    "start_time": "2022-05-31T16:19:49.158Z"
   },
   {
    "duration": 14,
    "start_time": "2022-05-31T16:20:10.437Z"
   },
   {
    "duration": 8,
    "start_time": "2022-05-31T16:20:22.368Z"
   },
   {
    "duration": 13,
    "start_time": "2022-05-31T16:20:35.039Z"
   },
   {
    "duration": 35,
    "start_time": "2022-05-31T16:36:24.967Z"
   },
   {
    "duration": 15,
    "start_time": "2022-05-31T17:11:04.529Z"
   },
   {
    "duration": 32,
    "start_time": "2022-05-31T17:25:37.472Z"
   },
   {
    "duration": 15,
    "start_time": "2022-05-31T17:25:55.184Z"
   },
   {
    "duration": 104,
    "start_time": "2022-05-31T17:31:13.138Z"
   },
   {
    "duration": 32,
    "start_time": "2022-05-31T17:31:19.297Z"
   },
   {
    "duration": 13,
    "start_time": "2022-05-31T17:31:32.017Z"
   },
   {
    "duration": 37,
    "start_time": "2022-05-31T17:35:23.874Z"
   },
   {
    "duration": 21,
    "start_time": "2022-05-31T17:35:38.556Z"
   },
   {
    "duration": 9,
    "start_time": "2022-05-31T17:36:41.826Z"
   },
   {
    "duration": 11,
    "start_time": "2022-05-31T17:37:00.973Z"
   },
   {
    "duration": 13,
    "start_time": "2022-05-31T17:37:51.759Z"
   },
   {
    "duration": 44,
    "start_time": "2022-05-31T17:38:14.553Z"
   },
   {
    "duration": 23,
    "start_time": "2022-05-31T17:42:05.326Z"
   },
   {
    "duration": 55,
    "start_time": "2022-05-31T17:42:06.282Z"
   },
   {
    "duration": 19,
    "start_time": "2022-05-31T17:43:29.372Z"
   },
   {
    "duration": 42,
    "start_time": "2022-05-31T17:43:39.783Z"
   },
   {
    "duration": 25,
    "start_time": "2022-05-31T17:44:25.091Z"
   },
   {
    "duration": 14,
    "start_time": "2022-05-31T17:44:29.526Z"
   },
   {
    "duration": 30,
    "start_time": "2022-05-31T17:44:39.564Z"
   },
   {
    "duration": 15,
    "start_time": "2022-05-31T17:46:33.922Z"
   },
   {
    "duration": 23,
    "start_time": "2022-05-31T17:46:42.441Z"
   },
   {
    "duration": 50,
    "start_time": "2022-06-02T08:30:29.620Z"
   },
   {
    "duration": 1504,
    "start_time": "2022-06-02T08:30:35.644Z"
   },
   {
    "duration": 717,
    "start_time": "2022-06-02T08:30:37.150Z"
   },
   {
    "duration": 14,
    "start_time": "2022-06-02T08:30:37.869Z"
   },
   {
    "duration": 15,
    "start_time": "2022-06-02T08:30:37.885Z"
   },
   {
    "duration": 8,
    "start_time": "2022-06-02T08:30:37.902Z"
   },
   {
    "duration": 15,
    "start_time": "2022-06-02T08:30:37.911Z"
   },
   {
    "duration": 8,
    "start_time": "2022-06-02T08:30:37.928Z"
   },
   {
    "duration": 19,
    "start_time": "2022-06-02T08:30:37.938Z"
   },
   {
    "duration": 35,
    "start_time": "2022-06-02T08:30:37.958Z"
   },
   {
    "duration": 10,
    "start_time": "2022-06-02T08:30:37.995Z"
   },
   {
    "duration": 9,
    "start_time": "2022-06-02T08:30:38.007Z"
   },
   {
    "duration": 20,
    "start_time": "2022-06-02T08:30:38.017Z"
   },
   {
    "duration": 53,
    "start_time": "2022-06-02T08:30:40.566Z"
   },
   {
    "duration": 13,
    "start_time": "2022-06-02T08:31:20.742Z"
   },
   {
    "duration": 14,
    "start_time": "2022-06-02T08:33:37.828Z"
   },
   {
    "duration": 14,
    "start_time": "2022-06-02T08:33:51.007Z"
   },
   {
    "duration": 13,
    "start_time": "2022-06-02T08:40:42.095Z"
   },
   {
    "duration": 9,
    "start_time": "2022-06-02T08:41:01.943Z"
   },
   {
    "duration": 18,
    "start_time": "2022-06-02T08:43:01.117Z"
   },
   {
    "duration": 76,
    "start_time": "2022-06-02T08:44:07.543Z"
   },
   {
    "duration": 13,
    "start_time": "2022-06-02T08:44:11.796Z"
   },
   {
    "duration": 9,
    "start_time": "2022-06-02T08:44:12.557Z"
   },
   {
    "duration": 7,
    "start_time": "2022-06-02T08:44:20.019Z"
   },
   {
    "duration": 9,
    "start_time": "2022-06-02T08:44:20.506Z"
   },
   {
    "duration": 8,
    "start_time": "2022-06-02T08:44:31.850Z"
   },
   {
    "duration": 9,
    "start_time": "2022-06-02T08:44:33.301Z"
   },
   {
    "duration": 7,
    "start_time": "2022-06-02T08:44:34.130Z"
   },
   {
    "duration": 3,
    "start_time": "2022-06-02T08:44:40.364Z"
   },
   {
    "duration": 350,
    "start_time": "2022-06-02T08:44:40.369Z"
   },
   {
    "duration": 9,
    "start_time": "2022-06-02T08:44:40.721Z"
   },
   {
    "duration": 14,
    "start_time": "2022-06-02T08:44:40.732Z"
   },
   {
    "duration": 8,
    "start_time": "2022-06-02T08:44:40.748Z"
   },
   {
    "duration": 34,
    "start_time": "2022-06-02T08:44:40.758Z"
   },
   {
    "duration": 8,
    "start_time": "2022-06-02T08:44:40.793Z"
   },
   {
    "duration": 14,
    "start_time": "2022-06-02T08:44:40.803Z"
   },
   {
    "duration": 10,
    "start_time": "2022-06-02T08:44:40.818Z"
   },
   {
    "duration": 9,
    "start_time": "2022-06-02T08:44:40.829Z"
   },
   {
    "duration": 10,
    "start_time": "2022-06-02T08:44:40.840Z"
   },
   {
    "duration": 56,
    "start_time": "2022-06-02T08:44:40.851Z"
   },
   {
    "duration": 53,
    "start_time": "2022-06-02T08:44:40.908Z"
   },
   {
    "duration": 35,
    "start_time": "2022-06-02T08:44:40.963Z"
   },
   {
    "duration": 19,
    "start_time": "2022-06-02T08:44:52.118Z"
   },
   {
    "duration": 9,
    "start_time": "2022-06-02T08:44:53.013Z"
   },
   {
    "duration": 21,
    "start_time": "2022-06-02T08:45:40.759Z"
   },
   {
    "duration": 8,
    "start_time": "2022-06-02T08:45:41.470Z"
   },
   {
    "duration": 4,
    "start_time": "2022-06-02T08:45:53.556Z"
   },
   {
    "duration": 347,
    "start_time": "2022-06-02T08:45:53.561Z"
   },
   {
    "duration": 12,
    "start_time": "2022-06-02T08:45:53.910Z"
   },
   {
    "duration": 27,
    "start_time": "2022-06-02T08:45:53.923Z"
   },
   {
    "duration": 8,
    "start_time": "2022-06-02T08:45:53.953Z"
   },
   {
    "duration": 35,
    "start_time": "2022-06-02T08:45:53.963Z"
   },
   {
    "duration": 16,
    "start_time": "2022-06-02T08:45:54.000Z"
   },
   {
    "duration": 19,
    "start_time": "2022-06-02T08:45:54.017Z"
   },
   {
    "duration": 8,
    "start_time": "2022-06-02T08:45:54.038Z"
   },
   {
    "duration": 17,
    "start_time": "2022-06-02T08:45:54.047Z"
   },
   {
    "duration": 10,
    "start_time": "2022-06-02T08:45:54.066Z"
   },
   {
    "duration": 20,
    "start_time": "2022-06-02T08:45:56.578Z"
   },
   {
    "duration": 56,
    "start_time": "2022-06-02T08:45:57.974Z"
   },
   {
    "duration": 14,
    "start_time": "2022-06-02T08:46:27.854Z"
   },
   {
    "duration": 13,
    "start_time": "2022-06-02T08:46:42.666Z"
   },
   {
    "duration": 20,
    "start_time": "2022-06-02T08:47:11.294Z"
   },
   {
    "duration": 20,
    "start_time": "2022-06-02T08:47:22.550Z"
   },
   {
    "duration": 412,
    "start_time": "2022-06-02T08:48:19.207Z"
   },
   {
    "duration": 367,
    "start_time": "2022-06-02T08:48:30.703Z"
   },
   {
    "duration": 803,
    "start_time": "2022-06-02T08:48:52.742Z"
   },
   {
    "duration": 11,
    "start_time": "2022-06-02T08:49:05.561Z"
   },
   {
    "duration": 10,
    "start_time": "2022-06-02T08:49:16.044Z"
   },
   {
    "duration": 3,
    "start_time": "2022-06-02T08:49:43.029Z"
   },
   {
    "duration": 346,
    "start_time": "2022-06-02T08:49:43.034Z"
   },
   {
    "duration": 10,
    "start_time": "2022-06-02T08:49:43.382Z"
   },
   {
    "duration": 24,
    "start_time": "2022-06-02T08:49:43.394Z"
   },
   {
    "duration": 12,
    "start_time": "2022-06-02T08:49:43.421Z"
   },
   {
    "duration": 27,
    "start_time": "2022-06-02T08:49:43.434Z"
   },
   {
    "duration": 10,
    "start_time": "2022-06-02T08:49:43.463Z"
   },
   {
    "duration": 13,
    "start_time": "2022-06-02T08:49:43.492Z"
   },
   {
    "duration": 8,
    "start_time": "2022-06-02T08:49:43.506Z"
   },
   {
    "duration": 9,
    "start_time": "2022-06-02T08:49:43.515Z"
   },
   {
    "duration": 9,
    "start_time": "2022-06-02T08:49:43.525Z"
   },
   {
    "duration": 58,
    "start_time": "2022-06-02T08:49:43.535Z"
   },
   {
    "duration": 62,
    "start_time": "2022-06-02T08:49:43.595Z"
   },
   {
    "duration": 34,
    "start_time": "2022-06-02T08:49:43.658Z"
   },
   {
    "duration": 25,
    "start_time": "2022-06-02T08:49:55.293Z"
   },
   {
    "duration": 570,
    "start_time": "2022-06-02T08:49:56.458Z"
   },
   {
    "duration": 9,
    "start_time": "2022-06-02T08:50:00.138Z"
   },
   {
    "duration": 490,
    "start_time": "2022-06-02T08:50:13.816Z"
   },
   {
    "duration": 9,
    "start_time": "2022-06-02T08:50:46.323Z"
   },
   {
    "duration": 456,
    "start_time": "2022-06-02T08:50:55.667Z"
   },
   {
    "duration": 7,
    "start_time": "2022-06-02T08:51:08.342Z"
   },
   {
    "duration": 4,
    "start_time": "2022-06-02T08:51:22.959Z"
   },
   {
    "duration": 6,
    "start_time": "2022-06-02T08:51:51.296Z"
   },
   {
    "duration": 19,
    "start_time": "2022-06-02T08:53:57.232Z"
   },
   {
    "duration": 25,
    "start_time": "2022-06-02T08:54:23.335Z"
   },
   {
    "duration": 5,
    "start_time": "2022-06-02T08:54:25.035Z"
   },
   {
    "duration": 4,
    "start_time": "2022-06-02T08:54:39.721Z"
   },
   {
    "duration": 376,
    "start_time": "2022-06-02T08:54:39.727Z"
   },
   {
    "duration": 8,
    "start_time": "2022-06-02T08:54:40.105Z"
   },
   {
    "duration": 14,
    "start_time": "2022-06-02T08:54:40.114Z"
   },
   {
    "duration": 10,
    "start_time": "2022-06-02T08:54:40.130Z"
   },
   {
    "duration": 14,
    "start_time": "2022-06-02T08:54:40.141Z"
   },
   {
    "duration": 9,
    "start_time": "2022-06-02T08:54:40.156Z"
   },
   {
    "duration": 13,
    "start_time": "2022-06-02T08:54:40.192Z"
   },
   {
    "duration": 8,
    "start_time": "2022-06-02T08:54:40.206Z"
   },
   {
    "duration": 10,
    "start_time": "2022-06-02T08:54:40.215Z"
   },
   {
    "duration": 8,
    "start_time": "2022-06-02T08:54:40.226Z"
   },
   {
    "duration": 19,
    "start_time": "2022-06-02T08:54:40.235Z"
   },
   {
    "duration": 82,
    "start_time": "2022-06-02T08:54:40.255Z"
   },
   {
    "duration": 13,
    "start_time": "2022-06-02T08:54:40.338Z"
   },
   {
    "duration": 40,
    "start_time": "2022-06-02T08:54:40.352Z"
   },
   {
    "duration": 5,
    "start_time": "2022-06-02T08:54:43.573Z"
   },
   {
    "duration": 9,
    "start_time": "2022-06-02T08:54:58.103Z"
   },
   {
    "duration": 4,
    "start_time": "2022-06-02T08:56:28.804Z"
   },
   {
    "duration": 4,
    "start_time": "2022-06-02T08:56:39.230Z"
   },
   {
    "duration": 16,
    "start_time": "2022-06-02T08:56:49.698Z"
   },
   {
    "duration": 2158,
    "start_time": "2022-06-02T08:56:50.218Z"
   },
   {
    "duration": 4,
    "start_time": "2022-06-02T08:57:02.841Z"
   },
   {
    "duration": 268,
    "start_time": "2022-06-02T08:57:18.010Z"
   },
   {
    "duration": 4,
    "start_time": "2022-06-02T08:58:48.406Z"
   },
   {
    "duration": 354,
    "start_time": "2022-06-02T08:58:48.412Z"
   },
   {
    "duration": 8,
    "start_time": "2022-06-02T08:58:48.768Z"
   },
   {
    "duration": 16,
    "start_time": "2022-06-02T08:58:48.778Z"
   },
   {
    "duration": 10,
    "start_time": "2022-06-02T08:58:48.796Z"
   },
   {
    "duration": 20,
    "start_time": "2022-06-02T08:58:48.808Z"
   },
   {
    "duration": 11,
    "start_time": "2022-06-02T08:58:48.829Z"
   },
   {
    "duration": 14,
    "start_time": "2022-06-02T08:58:48.842Z"
   },
   {
    "duration": 40,
    "start_time": "2022-06-02T08:58:48.857Z"
   },
   {
    "duration": 12,
    "start_time": "2022-06-02T08:58:48.899Z"
   },
   {
    "duration": 13,
    "start_time": "2022-06-02T08:58:48.914Z"
   },
   {
    "duration": 23,
    "start_time": "2022-06-02T08:58:48.929Z"
   },
   {
    "duration": 79,
    "start_time": "2022-06-02T08:58:48.953Z"
   },
   {
    "duration": 14,
    "start_time": "2022-06-02T08:58:49.033Z"
   },
   {
    "duration": 14,
    "start_time": "2022-06-02T08:58:54.374Z"
   },
   {
    "duration": 4,
    "start_time": "2022-06-02T08:58:57.950Z"
   },
   {
    "duration": 16,
    "start_time": "2022-06-02T09:01:55.318Z"
   },
   {
    "duration": 123,
    "start_time": "2022-06-02T09:02:17.688Z"
   },
   {
    "duration": 28,
    "start_time": "2022-06-02T09:02:19.250Z"
   },
   {
    "duration": 25,
    "start_time": "2022-06-02T09:02:29.441Z"
   },
   {
    "duration": 3,
    "start_time": "2022-06-02T09:02:41.030Z"
   },
   {
    "duration": 381,
    "start_time": "2022-06-02T09:02:41.037Z"
   },
   {
    "duration": 8,
    "start_time": "2022-06-02T09:02:41.420Z"
   },
   {
    "duration": 14,
    "start_time": "2022-06-02T09:02:41.430Z"
   },
   {
    "duration": 8,
    "start_time": "2022-06-02T09:02:41.445Z"
   },
   {
    "duration": 15,
    "start_time": "2022-06-02T09:02:41.454Z"
   },
   {
    "duration": 23,
    "start_time": "2022-06-02T09:02:41.470Z"
   },
   {
    "duration": 17,
    "start_time": "2022-06-02T09:02:41.494Z"
   },
   {
    "duration": 8,
    "start_time": "2022-06-02T09:02:41.512Z"
   },
   {
    "duration": 8,
    "start_time": "2022-06-02T09:02:41.522Z"
   },
   {
    "duration": 8,
    "start_time": "2022-06-02T09:02:41.532Z"
   },
   {
    "duration": 19,
    "start_time": "2022-06-02T09:02:41.541Z"
   },
   {
    "duration": 75,
    "start_time": "2022-06-02T09:02:41.561Z"
   },
   {
    "duration": 14,
    "start_time": "2022-06-02T09:02:41.637Z"
   },
   {
    "duration": 19,
    "start_time": "2022-06-02T09:02:45.098Z"
   },
   {
    "duration": 31,
    "start_time": "2022-06-02T09:02:46.606Z"
   },
   {
    "duration": 6,
    "start_time": "2022-06-02T09:02:56.731Z"
   },
   {
    "duration": 27,
    "start_time": "2022-06-02T09:02:57.193Z"
   },
   {
    "duration": 7,
    "start_time": "2022-06-02T09:03:00.807Z"
   },
   {
    "duration": 4,
    "start_time": "2022-06-02T09:03:13.900Z"
   },
   {
    "duration": 363,
    "start_time": "2022-06-02T09:03:13.906Z"
   },
   {
    "duration": 9,
    "start_time": "2022-06-02T09:03:14.271Z"
   },
   {
    "duration": 16,
    "start_time": "2022-06-02T09:03:14.281Z"
   },
   {
    "duration": 8,
    "start_time": "2022-06-02T09:03:14.299Z"
   },
   {
    "duration": 16,
    "start_time": "2022-06-02T09:03:14.308Z"
   },
   {
    "duration": 10,
    "start_time": "2022-06-02T09:03:14.326Z"
   },
   {
    "duration": 17,
    "start_time": "2022-06-02T09:03:14.338Z"
   },
   {
    "duration": 35,
    "start_time": "2022-06-02T09:03:14.357Z"
   },
   {
    "duration": 9,
    "start_time": "2022-06-02T09:03:14.394Z"
   },
   {
    "duration": 8,
    "start_time": "2022-06-02T09:03:14.405Z"
   },
   {
    "duration": 19,
    "start_time": "2022-06-02T09:03:14.415Z"
   },
   {
    "duration": 76,
    "start_time": "2022-06-02T09:03:14.436Z"
   },
   {
    "duration": 13,
    "start_time": "2022-06-02T09:03:14.514Z"
   },
   {
    "duration": 30,
    "start_time": "2022-06-02T09:03:14.528Z"
   },
   {
    "duration": 7,
    "start_time": "2022-06-02T09:03:53.210Z"
   },
   {
    "duration": 10,
    "start_time": "2022-06-02T09:03:57.475Z"
   },
   {
    "duration": 2132,
    "start_time": "2022-06-02T09:04:11.738Z"
   },
   {
    "duration": 13,
    "start_time": "2022-06-02T09:04:34.331Z"
   },
   {
    "duration": 29,
    "start_time": "2022-06-02T09:05:50.093Z"
   },
   {
    "duration": 9,
    "start_time": "2022-06-02T09:05:51.299Z"
   },
   {
    "duration": 10,
    "start_time": "2022-06-02T09:06:28.723Z"
   },
   {
    "duration": 9,
    "start_time": "2022-06-02T09:07:25.685Z"
   },
   {
    "duration": 4,
    "start_time": "2022-06-02T09:07:31.472Z"
   },
   {
    "duration": 361,
    "start_time": "2022-06-02T09:07:31.478Z"
   },
   {
    "duration": 9,
    "start_time": "2022-06-02T09:07:31.841Z"
   },
   {
    "duration": 19,
    "start_time": "2022-06-02T09:07:31.852Z"
   },
   {
    "duration": 20,
    "start_time": "2022-06-02T09:07:31.872Z"
   },
   {
    "duration": 14,
    "start_time": "2022-06-02T09:07:31.894Z"
   },
   {
    "duration": 9,
    "start_time": "2022-06-02T09:07:31.910Z"
   },
   {
    "duration": 16,
    "start_time": "2022-06-02T09:07:31.921Z"
   },
   {
    "duration": 10,
    "start_time": "2022-06-02T09:07:31.939Z"
   },
   {
    "duration": 10,
    "start_time": "2022-06-02T09:07:31.950Z"
   },
   {
    "duration": 40,
    "start_time": "2022-06-02T09:07:31.961Z"
   },
   {
    "duration": 19,
    "start_time": "2022-06-02T09:07:32.003Z"
   },
   {
    "duration": 70,
    "start_time": "2022-06-02T09:07:32.024Z"
   },
   {
    "duration": 13,
    "start_time": "2022-06-02T09:07:32.096Z"
   },
   {
    "duration": 8,
    "start_time": "2022-06-02T09:07:32.111Z"
   },
   {
    "duration": 35,
    "start_time": "2022-06-02T09:07:32.120Z"
   },
   {
    "duration": 27,
    "start_time": "2022-06-02T09:09:32.525Z"
   },
   {
    "duration": 9,
    "start_time": "2022-06-02T09:09:33.738Z"
   },
   {
    "duration": 27,
    "start_time": "2022-06-02T09:10:02.304Z"
   },
   {
    "duration": 8,
    "start_time": "2022-06-02T09:10:03.031Z"
   },
   {
    "duration": 9,
    "start_time": "2022-06-02T09:10:08.464Z"
   },
   {
    "duration": 30,
    "start_time": "2022-06-02T09:10:09.528Z"
   },
   {
    "duration": 9,
    "start_time": "2022-06-02T09:10:10.130Z"
   },
   {
    "duration": 3,
    "start_time": "2022-06-02T09:10:27.823Z"
   },
   {
    "duration": 366,
    "start_time": "2022-06-02T09:10:27.829Z"
   },
   {
    "duration": 8,
    "start_time": "2022-06-02T09:10:28.197Z"
   },
   {
    "duration": 17,
    "start_time": "2022-06-02T09:10:28.207Z"
   },
   {
    "duration": 9,
    "start_time": "2022-06-02T09:10:28.226Z"
   },
   {
    "duration": 14,
    "start_time": "2022-06-02T09:10:28.237Z"
   },
   {
    "duration": 8,
    "start_time": "2022-06-02T09:10:28.252Z"
   },
   {
    "duration": 39,
    "start_time": "2022-06-02T09:10:28.261Z"
   },
   {
    "duration": 9,
    "start_time": "2022-06-02T09:10:28.302Z"
   },
   {
    "duration": 8,
    "start_time": "2022-06-02T09:10:28.313Z"
   },
   {
    "duration": 8,
    "start_time": "2022-06-02T09:10:28.323Z"
   },
   {
    "duration": 21,
    "start_time": "2022-06-02T09:10:28.333Z"
   },
   {
    "duration": 85,
    "start_time": "2022-06-02T09:10:28.355Z"
   },
   {
    "duration": 13,
    "start_time": "2022-06-02T09:10:28.441Z"
   },
   {
    "duration": 11,
    "start_time": "2022-06-02T09:10:28.455Z"
   },
   {
    "duration": 34,
    "start_time": "2022-06-02T09:10:35.337Z"
   },
   {
    "duration": 9,
    "start_time": "2022-06-02T09:10:36.119Z"
   },
   {
    "duration": 11,
    "start_time": "2022-06-02T09:11:01.241Z"
   },
   {
    "duration": 8,
    "start_time": "2022-06-02T09:11:37.696Z"
   },
   {
    "duration": 32,
    "start_time": "2022-06-02T09:11:40.867Z"
   },
   {
    "duration": 14,
    "start_time": "2022-06-02T09:11:54.921Z"
   },
   {
    "duration": 42,
    "start_time": "2022-06-02T09:12:18.344Z"
   },
   {
    "duration": 55,
    "start_time": "2022-06-02T09:14:09.723Z"
   },
   {
    "duration": 41,
    "start_time": "2022-06-02T09:14:45.236Z"
   },
   {
    "duration": 31,
    "start_time": "2022-06-02T09:14:49.510Z"
   },
   {
    "duration": 15,
    "start_time": "2022-06-02T09:14:53.643Z"
   },
   {
    "duration": 52,
    "start_time": "2022-06-02T09:17:35.411Z"
   },
   {
    "duration": 30,
    "start_time": "2022-06-02T09:17:58.287Z"
   },
   {
    "duration": 32,
    "start_time": "2022-06-02T09:17:59.298Z"
   },
   {
    "duration": 14,
    "start_time": "2022-06-02T09:18:01.998Z"
   },
   {
    "duration": 38,
    "start_time": "2022-06-02T09:18:24.682Z"
   },
   {
    "duration": 13,
    "start_time": "2022-06-02T09:29:44.816Z"
   },
   {
    "duration": 3,
    "start_time": "2022-06-02T10:49:06.317Z"
   },
   {
    "duration": 10,
    "start_time": "2022-06-02T10:51:24.071Z"
   },
   {
    "duration": 18,
    "start_time": "2022-06-02T10:51:30.318Z"
   },
   {
    "duration": 24,
    "start_time": "2022-06-02T10:51:45.772Z"
   },
   {
    "duration": 21,
    "start_time": "2022-06-02T10:51:55.670Z"
   },
   {
    "duration": 45,
    "start_time": "2022-06-02T10:52:36.282Z"
   },
   {
    "duration": 19,
    "start_time": "2022-06-02T10:52:42.471Z"
   },
   {
    "duration": 4,
    "start_time": "2022-06-02T10:54:07.426Z"
   },
   {
    "duration": 32,
    "start_time": "2022-06-02T10:55:03.370Z"
   },
   {
    "duration": 17,
    "start_time": "2022-06-02T10:55:31.487Z"
   },
   {
    "duration": 11,
    "start_time": "2022-06-02T10:57:20.244Z"
   },
   {
    "duration": 43,
    "start_time": "2022-06-02T10:59:47.810Z"
   },
   {
    "duration": 8,
    "start_time": "2022-06-02T11:01:57.371Z"
   },
   {
    "duration": 5,
    "start_time": "2022-06-02T11:02:05.967Z"
   },
   {
    "duration": 4,
    "start_time": "2022-06-02T11:02:15.378Z"
   },
   {
    "duration": 4,
    "start_time": "2022-06-02T11:03:45.383Z"
   },
   {
    "duration": 4,
    "start_time": "2022-06-02T11:06:12.041Z"
   },
   {
    "duration": 4,
    "start_time": "2022-06-02T11:06:14.693Z"
   },
   {
    "duration": 11,
    "start_time": "2022-06-02T11:07:29.211Z"
   },
   {
    "duration": 5,
    "start_time": "2022-06-02T11:07:44.987Z"
   },
   {
    "duration": 3,
    "start_time": "2022-06-02T11:08:46.875Z"
   },
   {
    "duration": 7,
    "start_time": "2022-06-02T11:12:00.723Z"
   },
   {
    "duration": 5,
    "start_time": "2022-06-02T11:13:03.437Z"
   },
   {
    "duration": 7,
    "start_time": "2022-06-02T11:13:26.270Z"
   },
   {
    "duration": 12,
    "start_time": "2022-06-02T11:13:29.870Z"
   },
   {
    "duration": 5,
    "start_time": "2022-06-02T11:14:06.988Z"
   },
   {
    "duration": 4,
    "start_time": "2022-06-02T11:14:32.111Z"
   },
   {
    "duration": 35,
    "start_time": "2022-06-02T11:14:43.470Z"
   },
   {
    "duration": 5,
    "start_time": "2022-06-02T11:14:47.186Z"
   },
   {
    "duration": 7,
    "start_time": "2022-06-02T11:16:02.570Z"
   },
   {
    "duration": 8,
    "start_time": "2022-06-02T11:17:17.222Z"
   },
   {
    "duration": 8,
    "start_time": "2022-06-02T11:18:00.583Z"
   },
   {
    "duration": 10,
    "start_time": "2022-06-02T11:19:34.303Z"
   },
   {
    "duration": 5,
    "start_time": "2022-06-02T11:19:37.178Z"
   },
   {
    "duration": 350,
    "start_time": "2022-06-02T11:23:37.702Z"
   },
   {
    "duration": 115,
    "start_time": "2022-06-02T11:23:57.289Z"
   },
   {
    "duration": 125,
    "start_time": "2022-06-02T11:24:15.072Z"
   },
   {
    "duration": 128,
    "start_time": "2022-06-02T11:25:58.818Z"
   },
   {
    "duration": 133,
    "start_time": "2022-06-02T11:26:07.393Z"
   },
   {
    "duration": 10,
    "start_time": "2022-06-02T11:26:26.435Z"
   },
   {
    "duration": 355,
    "start_time": "2022-06-02T11:27:03.429Z"
   },
   {
    "duration": 376,
    "start_time": "2022-06-02T11:27:45.288Z"
   },
   {
    "duration": 360,
    "start_time": "2022-06-02T11:27:57.581Z"
   },
   {
    "duration": 1489,
    "start_time": "2022-06-05T13:45:21.543Z"
   },
   {
    "duration": 796,
    "start_time": "2022-06-05T13:45:23.034Z"
   },
   {
    "duration": 15,
    "start_time": "2022-06-05T13:45:23.832Z"
   },
   {
    "duration": 25,
    "start_time": "2022-06-05T13:45:23.848Z"
   },
   {
    "duration": 12,
    "start_time": "2022-06-05T13:45:23.877Z"
   },
   {
    "duration": 22,
    "start_time": "2022-06-05T13:45:23.890Z"
   },
   {
    "duration": 11,
    "start_time": "2022-06-05T13:45:23.914Z"
   },
   {
    "duration": 38,
    "start_time": "2022-06-05T13:45:23.927Z"
   },
   {
    "duration": 14,
    "start_time": "2022-06-05T13:45:23.967Z"
   },
   {
    "duration": 17,
    "start_time": "2022-06-05T13:45:23.983Z"
   },
   {
    "duration": 15,
    "start_time": "2022-06-05T13:45:24.002Z"
   },
   {
    "duration": 55,
    "start_time": "2022-06-05T13:45:24.019Z"
   },
   {
    "duration": 63,
    "start_time": "2022-06-05T13:45:24.076Z"
   },
   {
    "duration": 26,
    "start_time": "2022-06-05T13:45:24.142Z"
   },
   {
    "duration": 45,
    "start_time": "2022-06-05T13:45:24.170Z"
   },
   {
    "duration": 53,
    "start_time": "2022-06-05T13:45:24.217Z"
   },
   {
    "duration": 15,
    "start_time": "2022-06-05T13:45:24.272Z"
   },
   {
    "duration": 47,
    "start_time": "2022-06-05T13:45:24.288Z"
   },
   {
    "duration": 59,
    "start_time": "2022-06-05T13:45:24.337Z"
   },
   {
    "duration": 81,
    "start_time": "2022-06-05T13:45:24.398Z"
   },
   {
    "duration": 33,
    "start_time": "2022-06-05T13:45:24.481Z"
   },
   {
    "duration": 62,
    "start_time": "2022-06-05T13:45:24.516Z"
   },
   {
    "duration": 37,
    "start_time": "2022-06-05T13:45:24.580Z"
   },
   {
    "duration": 16,
    "start_time": "2022-06-05T13:45:24.619Z"
   },
   {
    "duration": 60,
    "start_time": "2022-06-05T13:45:24.637Z"
   },
   {
    "duration": 95,
    "start_time": "2022-06-05T13:45:24.699Z"
   },
   {
    "duration": 36,
    "start_time": "2022-06-05T13:45:24.796Z"
   },
   {
    "duration": 68,
    "start_time": "2022-06-05T13:45:24.834Z"
   },
   {
    "duration": 42,
    "start_time": "2022-06-05T13:45:24.905Z"
   },
   {
    "duration": 29,
    "start_time": "2022-06-05T13:45:24.949Z"
   },
   {
    "duration": 12,
    "start_time": "2022-06-05T13:45:24.979Z"
   },
   {
    "duration": 4,
    "start_time": "2022-06-05T13:45:24.993Z"
   },
   {
    "duration": 17,
    "start_time": "2022-06-05T13:45:24.999Z"
   },
   {
    "duration": 57,
    "start_time": "2022-06-05T13:45:25.018Z"
   },
   {
    "duration": 94,
    "start_time": "2022-06-05T13:45:25.077Z"
   },
   {
    "duration": 95,
    "start_time": "2022-06-05T13:45:25.173Z"
   },
   {
    "duration": 8,
    "start_time": "2022-06-05T13:45:25.272Z"
   },
   {
    "duration": 5,
    "start_time": "2022-06-05T13:45:29.601Z"
   },
   {
    "duration": 111,
    "start_time": "2022-06-05T13:45:42.975Z"
   },
   {
    "duration": 5,
    "start_time": "2022-06-05T13:45:49.022Z"
   },
   {
    "duration": 12,
    "start_time": "2022-06-05T13:49:34.775Z"
   },
   {
    "duration": 10,
    "start_time": "2022-06-05T13:49:44.579Z"
   },
   {
    "duration": 5,
    "start_time": "2022-06-05T14:09:02.889Z"
   },
   {
    "duration": 3,
    "start_time": "2022-06-05T14:22:51.393Z"
   },
   {
    "duration": 16,
    "start_time": "2022-06-05T14:23:26.145Z"
   },
   {
    "duration": 4,
    "start_time": "2022-06-05T14:25:03.295Z"
   },
   {
    "duration": 9,
    "start_time": "2022-06-05T14:29:03.893Z"
   },
   {
    "duration": 9,
    "start_time": "2022-06-05T14:29:25.594Z"
   },
   {
    "duration": 3,
    "start_time": "2022-06-05T14:32:47.954Z"
   },
   {
    "duration": 5,
    "start_time": "2022-06-05T14:32:55.054Z"
   },
   {
    "duration": 11,
    "start_time": "2022-06-05T14:32:55.199Z"
   },
   {
    "duration": 1392,
    "start_time": "2022-06-05T14:33:18.955Z"
   },
   {
    "duration": 10,
    "start_time": "2022-06-05T14:33:29.294Z"
   },
   {
    "duration": 4,
    "start_time": "2022-06-05T14:33:33.106Z"
   },
   {
    "duration": 6,
    "start_time": "2022-06-05T16:17:59.089Z"
   },
   {
    "duration": 5,
    "start_time": "2022-06-05T16:18:08.323Z"
   },
   {
    "duration": 4,
    "start_time": "2022-06-05T16:18:14.841Z"
   },
   {
    "duration": 4,
    "start_time": "2022-06-05T16:18:24.122Z"
   },
   {
    "duration": 7,
    "start_time": "2022-06-05T16:20:56.597Z"
   },
   {
    "duration": 9,
    "start_time": "2022-06-05T16:25:51.537Z"
   },
   {
    "duration": 240,
    "start_time": "2022-06-05T16:25:59.275Z"
   },
   {
    "duration": 13,
    "start_time": "2022-06-05T16:31:03.582Z"
   },
   {
    "duration": 6,
    "start_time": "2022-06-05T16:34:27.281Z"
   },
   {
    "duration": 30,
    "start_time": "2022-06-05T16:34:35.796Z"
   },
   {
    "duration": 6,
    "start_time": "2022-06-05T16:34:40.115Z"
   },
   {
    "duration": 7,
    "start_time": "2022-06-05T16:34:46.250Z"
   },
   {
    "duration": 6,
    "start_time": "2022-06-05T16:34:56.306Z"
   },
   {
    "duration": 3,
    "start_time": "2022-06-05T16:52:27.757Z"
   },
   {
    "duration": 3,
    "start_time": "2022-06-05T16:54:09.506Z"
   },
   {
    "duration": 4,
    "start_time": "2022-06-05T16:54:21.253Z"
   },
   {
    "duration": 13,
    "start_time": "2022-06-05T16:56:03.138Z"
   },
   {
    "duration": 13,
    "start_time": "2022-06-05T16:56:21.438Z"
   },
   {
    "duration": 5,
    "start_time": "2022-06-05T16:56:34.887Z"
   },
   {
    "duration": 4,
    "start_time": "2022-06-05T16:58:17.483Z"
   },
   {
    "duration": 5,
    "start_time": "2022-06-05T17:00:51.294Z"
   },
   {
    "duration": 9,
    "start_time": "2022-06-05T17:00:52.720Z"
   },
   {
    "duration": 8,
    "start_time": "2022-06-05T17:01:37.143Z"
   },
   {
    "duration": 15,
    "start_time": "2022-06-05T17:02:13.110Z"
   },
   {
    "duration": 1329,
    "start_time": "2022-06-05T17:08:16.853Z"
   },
   {
    "duration": 1358,
    "start_time": "2022-06-05T17:08:46.387Z"
   },
   {
    "duration": 414,
    "start_time": "2022-06-05T17:09:12.000Z"
   },
   {
    "duration": 417,
    "start_time": "2022-06-05T17:09:23.509Z"
   },
   {
    "duration": 421,
    "start_time": "2022-06-05T17:09:28.259Z"
   },
   {
    "duration": 400,
    "start_time": "2022-06-05T17:10:00.899Z"
   },
   {
    "duration": 410,
    "start_time": "2022-06-05T17:10:26.053Z"
   },
   {
    "duration": 9,
    "start_time": "2022-06-05T17:29:05.548Z"
   },
   {
    "duration": 4,
    "start_time": "2022-06-05T17:29:09.600Z"
   },
   {
    "duration": 13,
    "start_time": "2022-06-05T17:29:10.506Z"
   },
   {
    "duration": 2,
    "start_time": "2022-06-05T17:29:13.459Z"
   },
   {
    "duration": 13,
    "start_time": "2022-06-05T17:29:15.330Z"
   },
   {
    "duration": 7,
    "start_time": "2022-06-05T17:29:46.162Z"
   },
   {
    "duration": 3,
    "start_time": "2022-06-05T17:33:03.519Z"
   },
   {
    "duration": 3,
    "start_time": "2022-06-05T17:33:29.860Z"
   },
   {
    "duration": 5,
    "start_time": "2022-06-05T17:33:30.614Z"
   },
   {
    "duration": 1532,
    "start_time": "2022-06-06T11:21:48.560Z"
   },
   {
    "duration": 1816,
    "start_time": "2022-06-06T11:21:50.094Z"
   },
   {
    "duration": 15,
    "start_time": "2022-06-06T11:21:51.911Z"
   },
   {
    "duration": 15,
    "start_time": "2022-06-06T11:21:51.929Z"
   },
   {
    "duration": 10,
    "start_time": "2022-06-06T11:21:51.946Z"
   },
   {
    "duration": 27,
    "start_time": "2022-06-06T11:21:51.957Z"
   },
   {
    "duration": 15,
    "start_time": "2022-06-06T11:21:51.986Z"
   },
   {
    "duration": 17,
    "start_time": "2022-06-06T11:21:52.003Z"
   },
   {
    "duration": 9,
    "start_time": "2022-06-06T11:21:52.021Z"
   },
   {
    "duration": 9,
    "start_time": "2022-06-06T11:21:52.033Z"
   },
   {
    "duration": 10,
    "start_time": "2022-06-06T11:21:52.043Z"
   },
   {
    "duration": 53,
    "start_time": "2022-06-06T11:21:52.054Z"
   },
   {
    "duration": 59,
    "start_time": "2022-06-06T11:21:52.109Z"
   },
   {
    "duration": 31,
    "start_time": "2022-06-06T11:21:52.170Z"
   },
   {
    "duration": 38,
    "start_time": "2022-06-06T11:21:52.202Z"
   },
   {
    "duration": 37,
    "start_time": "2022-06-06T11:21:52.241Z"
   },
   {
    "duration": 33,
    "start_time": "2022-06-06T11:21:52.280Z"
   },
   {
    "duration": 51,
    "start_time": "2022-06-06T11:21:52.314Z"
   },
   {
    "duration": 45,
    "start_time": "2022-06-06T11:21:52.367Z"
   },
   {
    "duration": 89,
    "start_time": "2022-06-06T11:21:52.414Z"
   },
   {
    "duration": 48,
    "start_time": "2022-06-06T11:21:52.505Z"
   },
   {
    "duration": 64,
    "start_time": "2022-06-06T11:21:52.555Z"
   },
   {
    "duration": 40,
    "start_time": "2022-06-06T11:21:52.621Z"
   },
   {
    "duration": 15,
    "start_time": "2022-06-06T11:21:52.663Z"
   },
   {
    "duration": 22,
    "start_time": "2022-06-06T11:21:52.700Z"
   },
   {
    "duration": 60,
    "start_time": "2022-06-06T11:21:52.723Z"
   },
   {
    "duration": 43,
    "start_time": "2022-06-06T11:21:52.800Z"
   },
   {
    "duration": 59,
    "start_time": "2022-06-06T11:21:52.846Z"
   },
   {
    "duration": 36,
    "start_time": "2022-06-06T11:21:52.907Z"
   },
   {
    "duration": 15,
    "start_time": "2022-06-06T11:21:52.945Z"
   },
   {
    "duration": 40,
    "start_time": "2022-06-06T11:21:52.962Z"
   },
   {
    "duration": 6,
    "start_time": "2022-06-06T11:21:53.003Z"
   },
   {
    "duration": 7,
    "start_time": "2022-06-06T11:21:53.012Z"
   },
   {
    "duration": 16,
    "start_time": "2022-06-06T11:21:53.020Z"
   },
   {
    "duration": 71,
    "start_time": "2022-06-06T11:21:53.038Z"
   },
   {
    "duration": 7,
    "start_time": "2022-06-06T11:21:53.202Z"
   },
   {
    "duration": 93,
    "start_time": "2022-06-06T11:21:53.210Z"
   },
   {
    "duration": 99,
    "start_time": "2022-06-06T11:21:53.305Z"
   },
   {
    "duration": 7,
    "start_time": "2022-06-06T11:21:53.406Z"
   },
   {
    "duration": 130,
    "start_time": "2022-06-06T11:22:00.315Z"
   },
   {
    "duration": 127,
    "start_time": "2022-06-06T11:22:11.550Z"
   },
   {
    "duration": 9,
    "start_time": "2022-06-06T11:23:39.471Z"
   },
   {
    "duration": 4,
    "start_time": "2022-06-06T11:23:45.566Z"
   },
   {
    "duration": 10,
    "start_time": "2022-06-06T11:24:28.880Z"
   },
   {
    "duration": 13,
    "start_time": "2022-06-06T11:24:47.713Z"
   },
   {
    "duration": 9,
    "start_time": "2022-06-06T11:25:18.068Z"
   },
   {
    "duration": 9,
    "start_time": "2022-06-06T11:25:31.278Z"
   },
   {
    "duration": 4,
    "start_time": "2022-06-06T11:28:51.753Z"
   },
   {
    "duration": 3,
    "start_time": "2022-06-06T11:28:52.555Z"
   },
   {
    "duration": 6,
    "start_time": "2022-06-06T11:28:53.253Z"
   },
   {
    "duration": 3,
    "start_time": "2022-06-06T11:29:21.545Z"
   },
   {
    "duration": 5,
    "start_time": "2022-06-06T11:29:21.989Z"
   },
   {
    "duration": 7,
    "start_time": "2022-06-06T14:15:54.671Z"
   },
   {
    "duration": 9,
    "start_time": "2022-06-06T14:17:28.027Z"
   },
   {
    "duration": 10,
    "start_time": "2022-06-06T14:18:40.945Z"
   },
   {
    "duration": 16,
    "start_time": "2022-06-06T14:18:54.223Z"
   },
   {
    "duration": 11,
    "start_time": "2022-06-06T14:19:04.092Z"
   },
   {
    "duration": 3,
    "start_time": "2022-06-06T16:47:08.077Z"
   },
   {
    "duration": 4,
    "start_time": "2022-06-06T16:47:15.555Z"
   },
   {
    "duration": 4,
    "start_time": "2022-06-06T16:48:59.812Z"
   },
   {
    "duration": 4,
    "start_time": "2022-06-06T16:49:18.053Z"
   },
   {
    "duration": 4,
    "start_time": "2022-06-06T16:55:29.577Z"
   },
   {
    "duration": 12,
    "start_time": "2022-06-06T16:56:02.059Z"
   },
   {
    "duration": 13,
    "start_time": "2022-06-06T16:56:53.101Z"
   },
   {
    "duration": 5,
    "start_time": "2022-06-06T16:57:05.590Z"
   },
   {
    "duration": 3,
    "start_time": "2022-06-06T16:57:37.917Z"
   },
   {
    "duration": 25,
    "start_time": "2022-06-06T16:57:38.587Z"
   },
   {
    "duration": 4,
    "start_time": "2022-06-06T16:57:43.131Z"
   },
   {
    "duration": 3,
    "start_time": "2022-06-06T16:57:43.967Z"
   },
   {
    "duration": 11,
    "start_time": "2022-06-06T16:57:44.346Z"
   },
   {
    "duration": 4,
    "start_time": "2022-06-06T17:24:37.048Z"
   },
   {
    "duration": 5,
    "start_time": "2022-06-06T17:24:43.659Z"
   },
   {
    "duration": 25,
    "start_time": "2022-06-06T17:28:06.197Z"
   },
   {
    "duration": 6,
    "start_time": "2022-06-06T17:28:25.300Z"
   },
   {
    "duration": 31,
    "start_time": "2022-06-06T17:39:24.161Z"
   },
   {
    "duration": 23,
    "start_time": "2022-06-06T17:39:35.299Z"
   },
   {
    "duration": 10,
    "start_time": "2022-06-06T17:40:07.180Z"
   },
   {
    "duration": 21,
    "start_time": "2022-06-06T17:40:11.465Z"
   },
   {
    "duration": 43,
    "start_time": "2022-06-06T17:43:51.618Z"
   },
   {
    "duration": 18,
    "start_time": "2022-06-06T17:47:27.215Z"
   },
   {
    "duration": 5,
    "start_time": "2022-06-06T17:47:51.153Z"
   },
   {
    "duration": 10,
    "start_time": "2022-06-06T17:57:47.983Z"
   },
   {
    "duration": 19,
    "start_time": "2022-06-06T18:04:14.992Z"
   },
   {
    "duration": 47,
    "start_time": "2022-06-06T18:05:33.190Z"
   },
   {
    "duration": 9,
    "start_time": "2022-06-06T18:06:26.293Z"
   },
   {
    "duration": 15,
    "start_time": "2022-06-06T18:06:29.351Z"
   },
   {
    "duration": 12,
    "start_time": "2022-06-06T18:06:55.754Z"
   },
   {
    "duration": 14,
    "start_time": "2022-06-06T18:06:58.629Z"
   },
   {
    "duration": 159,
    "start_time": "2022-06-06T18:07:00.952Z"
   },
   {
    "duration": 8,
    "start_time": "2022-06-06T18:10:24.888Z"
   },
   {
    "duration": 207,
    "start_time": "2022-06-06T18:10:30.295Z"
   },
   {
    "duration": 80,
    "start_time": "2022-06-06T18:10:39.093Z"
   },
   {
    "duration": 9,
    "start_time": "2022-06-06T18:11:02.933Z"
   },
   {
    "duration": 128,
    "start_time": "2022-06-06T18:11:06.589Z"
   },
   {
    "duration": 171,
    "start_time": "2022-06-06T18:11:49.842Z"
   },
   {
    "duration": 227,
    "start_time": "2022-06-06T18:12:27.452Z"
   },
   {
    "duration": 5,
    "start_time": "2022-06-06T18:13:54.356Z"
   },
   {
    "duration": 15,
    "start_time": "2022-06-06T18:14:09.830Z"
   },
   {
    "duration": 4,
    "start_time": "2022-06-06T18:14:10.740Z"
   },
   {
    "duration": 4,
    "start_time": "2022-06-06T18:14:11.457Z"
   },
   {
    "duration": 12,
    "start_time": "2022-06-06T18:14:13.981Z"
   },
   {
    "duration": 76,
    "start_time": "2022-06-06T18:14:14.829Z"
   },
   {
    "duration": 13,
    "start_time": "2022-06-06T18:14:15.583Z"
   },
   {
    "duration": 5,
    "start_time": "2022-06-06T18:14:18.245Z"
   },
   {
    "duration": 8,
    "start_time": "2022-06-06T18:14:20.435Z"
   },
   {
    "duration": 7,
    "start_time": "2022-06-06T18:14:21.240Z"
   },
   {
    "duration": 6,
    "start_time": "2022-06-06T18:16:17.025Z"
   },
   {
    "duration": 6,
    "start_time": "2022-06-06T18:16:17.576Z"
   },
   {
    "duration": 32,
    "start_time": "2022-06-06T18:16:18.297Z"
   },
   {
    "duration": 16,
    "start_time": "2022-06-06T18:16:37.282Z"
   },
   {
    "duration": 190,
    "start_time": "2022-06-06T18:16:53.118Z"
   },
   {
    "duration": 95,
    "start_time": "2022-06-06T18:16:53.946Z"
   },
   {
    "duration": 312,
    "start_time": "2022-06-06T18:16:54.796Z"
   },
   {
    "duration": 14,
    "start_time": "2022-06-06T18:17:38.073Z"
   },
   {
    "duration": 12,
    "start_time": "2022-06-06T18:17:42.959Z"
   },
   {
    "duration": 13,
    "start_time": "2022-06-06T18:17:44.843Z"
   },
   {
    "duration": 16,
    "start_time": "2022-06-06T18:17:46.842Z"
   },
   {
    "duration": 6,
    "start_time": "2022-06-06T18:18:09.632Z"
   },
   {
    "duration": 23,
    "start_time": "2022-06-06T18:18:18.998Z"
   },
   {
    "duration": 7,
    "start_time": "2022-06-06T18:18:21.351Z"
   },
   {
    "duration": 151,
    "start_time": "2022-06-06T18:18:33.078Z"
   },
   {
    "duration": 201,
    "start_time": "2022-06-06T18:18:37.330Z"
   },
   {
    "duration": 4,
    "start_time": "2022-06-06T18:18:39.872Z"
   },
   {
    "duration": 9,
    "start_time": "2022-06-06T18:19:06.882Z"
   },
   {
    "duration": 164,
    "start_time": "2022-06-06T18:19:08.151Z"
   },
   {
    "duration": 162,
    "start_time": "2022-06-06T18:19:11.059Z"
   },
   {
    "duration": 178,
    "start_time": "2022-06-06T18:19:12.355Z"
   },
   {
    "duration": 18,
    "start_time": "2022-06-06T18:19:19.199Z"
   },
   {
    "duration": 5,
    "start_time": "2022-06-06T18:19:30.994Z"
   },
   {
    "duration": 8,
    "start_time": "2022-06-06T18:19:37.127Z"
   },
   {
    "duration": 1406,
    "start_time": "2022-06-07T07:11:45.294Z"
   },
   {
    "duration": 1143,
    "start_time": "2022-06-07T07:11:46.702Z"
   },
   {
    "duration": 13,
    "start_time": "2022-06-07T07:11:47.847Z"
   },
   {
    "duration": 14,
    "start_time": "2022-06-07T07:11:47.862Z"
   },
   {
    "duration": 8,
    "start_time": "2022-06-07T07:11:47.878Z"
   },
   {
    "duration": 18,
    "start_time": "2022-06-07T07:11:47.888Z"
   },
   {
    "duration": 15,
    "start_time": "2022-06-07T07:11:47.908Z"
   },
   {
    "duration": 14,
    "start_time": "2022-06-07T07:11:47.925Z"
   },
   {
    "duration": 10,
    "start_time": "2022-06-07T07:11:47.941Z"
   },
   {
    "duration": 10,
    "start_time": "2022-06-07T07:11:47.953Z"
   },
   {
    "duration": 17,
    "start_time": "2022-06-07T07:11:47.964Z"
   },
   {
    "duration": 53,
    "start_time": "2022-06-07T07:11:47.982Z"
   },
   {
    "duration": 60,
    "start_time": "2022-06-07T07:11:48.037Z"
   },
   {
    "duration": 27,
    "start_time": "2022-06-07T07:11:48.098Z"
   },
   {
    "duration": 38,
    "start_time": "2022-06-07T07:11:48.126Z"
   },
   {
    "duration": 36,
    "start_time": "2022-06-07T07:11:48.166Z"
   },
   {
    "duration": 31,
    "start_time": "2022-06-07T07:11:48.203Z"
   },
   {
    "duration": 43,
    "start_time": "2022-06-07T07:11:48.236Z"
   },
   {
    "duration": 21,
    "start_time": "2022-06-07T07:11:48.281Z"
   },
   {
    "duration": 66,
    "start_time": "2022-06-07T07:11:48.322Z"
   },
   {
    "duration": 49,
    "start_time": "2022-06-07T07:11:48.390Z"
   },
   {
    "duration": 37,
    "start_time": "2022-06-07T07:11:48.440Z"
   },
   {
    "duration": 51,
    "start_time": "2022-06-07T07:11:48.479Z"
   },
   {
    "duration": 16,
    "start_time": "2022-06-07T07:11:48.531Z"
   },
   {
    "duration": 23,
    "start_time": "2022-06-07T07:11:48.549Z"
   },
   {
    "duration": 95,
    "start_time": "2022-06-07T07:11:48.574Z"
   },
   {
    "duration": 35,
    "start_time": "2022-06-07T07:11:48.671Z"
   },
   {
    "duration": 55,
    "start_time": "2022-06-07T07:11:48.709Z"
   },
   {
    "duration": 34,
    "start_time": "2022-06-07T07:11:48.766Z"
   },
   {
    "duration": 34,
    "start_time": "2022-06-07T07:11:48.801Z"
   },
   {
    "duration": 9,
    "start_time": "2022-06-07T07:11:48.836Z"
   },
   {
    "duration": 210,
    "start_time": "2022-06-07T07:12:00.718Z"
   },
   {
    "duration": 59,
    "start_time": "2022-06-07T07:12:05.667Z"
   },
   {
    "duration": 38,
    "start_time": "2022-06-07T07:12:07.587Z"
   },
   {
    "duration": 369,
    "start_time": "2022-06-07T07:14:19.755Z"
   },
   {
    "duration": 4,
    "start_time": "2022-06-07T07:15:20.916Z"
   },
   {
    "duration": 410,
    "start_time": "2022-06-07T07:15:20.922Z"
   },
   {
    "duration": 10,
    "start_time": "2022-06-07T07:15:21.334Z"
   },
   {
    "duration": 26,
    "start_time": "2022-06-07T07:15:21.345Z"
   },
   {
    "duration": 9,
    "start_time": "2022-06-07T07:15:21.374Z"
   },
   {
    "duration": 21,
    "start_time": "2022-06-07T07:15:21.385Z"
   },
   {
    "duration": 18,
    "start_time": "2022-06-07T07:15:21.408Z"
   },
   {
    "duration": 21,
    "start_time": "2022-06-07T07:15:21.427Z"
   },
   {
    "duration": 10,
    "start_time": "2022-06-07T07:15:21.450Z"
   },
   {
    "duration": 10,
    "start_time": "2022-06-07T07:15:21.461Z"
   },
   {
    "duration": 10,
    "start_time": "2022-06-07T07:15:21.473Z"
   },
   {
    "duration": 54,
    "start_time": "2022-06-07T07:15:21.485Z"
   },
   {
    "duration": 83,
    "start_time": "2022-06-07T07:15:21.541Z"
   },
   {
    "duration": 16,
    "start_time": "2022-06-07T07:15:21.626Z"
   },
   {
    "duration": 36,
    "start_time": "2022-06-07T07:15:21.643Z"
   },
   {
    "duration": 58,
    "start_time": "2022-06-07T07:15:21.681Z"
   },
   {
    "duration": 15,
    "start_time": "2022-06-07T07:15:21.741Z"
   },
   {
    "duration": 66,
    "start_time": "2022-06-07T07:15:21.758Z"
   },
   {
    "duration": 21,
    "start_time": "2022-06-07T07:15:21.826Z"
   },
   {
    "duration": 86,
    "start_time": "2022-06-07T07:15:21.849Z"
   },
   {
    "duration": 34,
    "start_time": "2022-06-07T07:15:21.937Z"
   },
   {
    "duration": 52,
    "start_time": "2022-06-07T07:15:21.973Z"
   },
   {
    "duration": 35,
    "start_time": "2022-06-07T07:15:22.027Z"
   },
   {
    "duration": 13,
    "start_time": "2022-06-07T07:15:22.064Z"
   },
   {
    "duration": 44,
    "start_time": "2022-06-07T07:15:22.079Z"
   },
   {
    "duration": 73,
    "start_time": "2022-06-07T07:15:22.125Z"
   },
   {
    "duration": 49,
    "start_time": "2022-06-07T07:15:22.199Z"
   },
   {
    "duration": 41,
    "start_time": "2022-06-07T07:15:22.250Z"
   },
   {
    "duration": 50,
    "start_time": "2022-06-07T07:15:22.294Z"
   },
   {
    "duration": 14,
    "start_time": "2022-06-07T07:15:22.346Z"
   },
   {
    "duration": 335,
    "start_time": "2022-06-07T07:15:26.243Z"
   },
   {
    "duration": 405,
    "start_time": "2022-06-07T07:16:37.664Z"
   },
   {
    "duration": 152,
    "start_time": "2022-06-07T07:16:48.588Z"
   },
   {
    "duration": 7,
    "start_time": "2022-06-07T07:17:47.942Z"
   },
   {
    "duration": 7,
    "start_time": "2022-06-07T07:17:55.142Z"
   },
   {
    "duration": 7,
    "start_time": "2022-06-07T07:18:24.356Z"
   },
   {
    "duration": 7,
    "start_time": "2022-06-07T07:18:56.104Z"
   },
   {
    "duration": 117,
    "start_time": "2022-06-07T07:18:57.807Z"
   },
   {
    "duration": 178,
    "start_time": "2022-06-07T07:19:00.346Z"
   },
   {
    "duration": 107,
    "start_time": "2022-06-07T07:19:02.020Z"
   },
   {
    "duration": 4,
    "start_time": "2022-06-07T07:20:09.567Z"
   },
   {
    "duration": 3,
    "start_time": "2022-06-07T07:20:20.499Z"
   },
   {
    "duration": 5,
    "start_time": "2022-06-07T07:20:22.716Z"
   },
   {
    "duration": 4,
    "start_time": "2022-06-07T07:20:28.715Z"
   },
   {
    "duration": 3,
    "start_time": "2022-06-07T07:26:00.994Z"
   },
   {
    "duration": 112,
    "start_time": "2022-06-07T07:26:01.662Z"
   },
   {
    "duration": 3,
    "start_time": "2022-06-07T07:29:27.913Z"
   },
   {
    "duration": 248,
    "start_time": "2022-06-07T07:29:29.175Z"
   },
   {
    "duration": 10,
    "start_time": "2022-06-07T07:30:01.023Z"
   },
   {
    "duration": 1434,
    "start_time": "2022-06-09T11:01:06.179Z"
   },
   {
    "duration": 1468,
    "start_time": "2022-06-09T11:01:07.615Z"
   },
   {
    "duration": 14,
    "start_time": "2022-06-09T11:01:09.085Z"
   },
   {
    "duration": 15,
    "start_time": "2022-06-09T11:01:09.100Z"
   },
   {
    "duration": 7,
    "start_time": "2022-06-09T11:01:09.117Z"
   },
   {
    "duration": 22,
    "start_time": "2022-06-09T11:01:09.126Z"
   },
   {
    "duration": 8,
    "start_time": "2022-06-09T11:01:09.150Z"
   },
   {
    "duration": 17,
    "start_time": "2022-06-09T11:01:09.160Z"
   },
   {
    "duration": 16,
    "start_time": "2022-06-09T11:01:09.178Z"
   },
   {
    "duration": 10,
    "start_time": "2022-06-09T11:01:09.195Z"
   },
   {
    "duration": 8,
    "start_time": "2022-06-09T11:01:09.206Z"
   },
   {
    "duration": 20,
    "start_time": "2022-06-09T11:01:09.215Z"
   },
   {
    "duration": 74,
    "start_time": "2022-06-09T11:01:09.236Z"
   },
   {
    "duration": 13,
    "start_time": "2022-06-09T11:01:09.312Z"
   },
   {
    "duration": 39,
    "start_time": "2022-06-09T11:01:09.326Z"
   },
   {
    "duration": 41,
    "start_time": "2022-06-09T11:01:09.367Z"
   },
   {
    "duration": 11,
    "start_time": "2022-06-09T11:01:09.410Z"
   },
   {
    "duration": 12,
    "start_time": "2022-06-09T11:01:09.422Z"
   },
   {
    "duration": 38,
    "start_time": "2022-06-09T11:01:13.155Z"
   },
   {
    "duration": 25,
    "start_time": "2022-06-09T11:02:07.681Z"
   },
   {
    "duration": 59,
    "start_time": "2022-06-09T11:02:08.185Z"
   },
   {
    "duration": 31,
    "start_time": "2022-06-09T11:02:10.902Z"
   },
   {
    "duration": 36,
    "start_time": "2022-06-09T11:02:11.419Z"
   },
   {
    "duration": 30,
    "start_time": "2022-06-09T11:02:11.973Z"
   },
   {
    "duration": 12,
    "start_time": "2022-06-09T11:02:13.910Z"
   },
   {
    "duration": 6,
    "start_time": "2022-06-09T11:03:38.441Z"
   },
   {
    "duration": 20,
    "start_time": "2022-06-09T11:03:57.374Z"
   },
   {
    "duration": 50,
    "start_time": "2022-06-09T11:03:58.051Z"
   },
   {
    "duration": 30,
    "start_time": "2022-06-09T11:04:01.079Z"
   },
   {
    "duration": 38,
    "start_time": "2022-06-09T11:04:01.636Z"
   },
   {
    "duration": 34,
    "start_time": "2022-06-09T11:04:02.188Z"
   },
   {
    "duration": 13,
    "start_time": "2022-06-09T11:05:03.208Z"
   },
   {
    "duration": 8,
    "start_time": "2022-06-09T11:08:23.902Z"
   },
   {
    "duration": 206,
    "start_time": "2022-06-09T11:08:25.386Z"
   },
   {
    "duration": 57,
    "start_time": "2022-06-09T11:08:25.741Z"
   },
   {
    "duration": 208,
    "start_time": "2022-06-09T11:08:26.184Z"
   },
   {
    "duration": 3,
    "start_time": "2022-06-09T11:08:32.621Z"
   },
   {
    "duration": 8,
    "start_time": "2022-06-09T11:16:23.429Z"
   },
   {
    "duration": 7,
    "start_time": "2022-06-09T11:20:49.205Z"
   },
   {
    "duration": 121,
    "start_time": "2022-06-09T11:20:50.870Z"
   },
   {
    "duration": 70,
    "start_time": "2022-06-09T11:20:52.022Z"
   },
   {
    "duration": 118,
    "start_time": "2022-06-09T11:20:53.781Z"
   },
   {
    "duration": 12,
    "start_time": "2022-06-09T11:21:13.027Z"
   },
   {
    "duration": 11,
    "start_time": "2022-06-09T11:21:15.254Z"
   },
   {
    "duration": 9,
    "start_time": "2022-06-09T11:21:16.008Z"
   },
   {
    "duration": 6,
    "start_time": "2022-06-09T11:21:17.600Z"
   },
   {
    "duration": 4,
    "start_time": "2022-06-09T11:21:35.570Z"
   },
   {
    "duration": 4,
    "start_time": "2022-06-09T11:21:36.253Z"
   },
   {
    "duration": 5,
    "start_time": "2022-06-09T11:21:38.332Z"
   },
   {
    "duration": 2,
    "start_time": "2022-06-09T11:22:13.551Z"
   },
   {
    "duration": 3,
    "start_time": "2022-06-09T11:22:26.140Z"
   },
   {
    "duration": 3,
    "start_time": "2022-06-09T11:22:59.437Z"
   },
   {
    "duration": 3,
    "start_time": "2022-06-09T11:23:20.740Z"
   },
   {
    "duration": 3,
    "start_time": "2022-06-09T11:24:05.106Z"
   },
   {
    "duration": 91,
    "start_time": "2022-06-09T11:24:20.230Z"
   },
   {
    "duration": 344,
    "start_time": "2022-06-09T11:25:36.847Z"
   },
   {
    "duration": 19,
    "start_time": "2022-06-09T11:26:10.682Z"
   },
   {
    "duration": 17,
    "start_time": "2022-06-09T11:26:11.683Z"
   },
   {
    "duration": 13,
    "start_time": "2022-06-09T11:26:20.180Z"
   },
   {
    "duration": 5,
    "start_time": "2022-06-09T11:26:34.457Z"
   },
   {
    "duration": 5508,
    "start_time": "2022-06-09T11:26:44.302Z"
   },
   {
    "duration": 5342,
    "start_time": "2022-06-09T11:26:55.676Z"
   },
   {
    "duration": 5763,
    "start_time": "2022-06-09T11:27:04.018Z"
   },
   {
    "duration": 2,
    "start_time": "2022-06-09T11:32:38.605Z"
   },
   {
    "duration": 3,
    "start_time": "2022-06-09T11:33:04.751Z"
   },
   {
    "duration": 6,
    "start_time": "2022-06-09T11:34:22.357Z"
   },
   {
    "duration": 5701,
    "start_time": "2022-06-09T11:34:23.160Z"
   },
   {
    "duration": 5465,
    "start_time": "2022-06-09T11:34:28.863Z"
   },
   {
    "duration": 5807,
    "start_time": "2022-06-09T11:34:34.330Z"
   },
   {
    "duration": 4,
    "start_time": "2022-06-09T12:44:48.936Z"
   },
   {
    "duration": 8,
    "start_time": "2022-06-09T12:45:11.167Z"
   },
   {
    "duration": 6,
    "start_time": "2022-06-09T12:45:29.534Z"
   },
   {
    "duration": 6,
    "start_time": "2022-06-09T12:45:35.388Z"
   },
   {
    "duration": 6,
    "start_time": "2022-06-09T12:45:40.284Z"
   },
   {
    "duration": 12,
    "start_time": "2022-06-09T12:50:59.448Z"
   },
   {
    "duration": 5,
    "start_time": "2022-06-09T12:51:12.184Z"
   },
   {
    "duration": 5,
    "start_time": "2022-06-09T12:51:28.043Z"
   },
   {
    "duration": 3,
    "start_time": "2022-06-09T13:18:26.135Z"
   },
   {
    "duration": 1195,
    "start_time": "2022-06-09T13:20:48.209Z"
   },
   {
    "duration": 326,
    "start_time": "2022-06-09T13:20:49.406Z"
   },
   {
    "duration": 11,
    "start_time": "2022-06-09T13:20:49.734Z"
   },
   {
    "duration": 12,
    "start_time": "2022-06-09T13:20:49.747Z"
   },
   {
    "duration": 8,
    "start_time": "2022-06-09T13:20:49.761Z"
   },
   {
    "duration": 29,
    "start_time": "2022-06-09T13:20:49.770Z"
   },
   {
    "duration": 8,
    "start_time": "2022-06-09T13:20:49.800Z"
   },
   {
    "duration": 15,
    "start_time": "2022-06-09T13:20:49.809Z"
   },
   {
    "duration": 8,
    "start_time": "2022-06-09T13:20:49.825Z"
   },
   {
    "duration": 7,
    "start_time": "2022-06-09T13:20:49.835Z"
   },
   {
    "duration": 7,
    "start_time": "2022-06-09T13:20:49.844Z"
   },
   {
    "duration": 52,
    "start_time": "2022-06-09T13:20:49.852Z"
   },
   {
    "duration": 60,
    "start_time": "2022-06-09T13:20:49.905Z"
   },
   {
    "duration": 26,
    "start_time": "2022-06-09T13:20:49.966Z"
   },
   {
    "duration": 37,
    "start_time": "2022-06-09T13:20:49.994Z"
   },
   {
    "duration": 33,
    "start_time": "2022-06-09T13:20:50.032Z"
   },
   {
    "duration": 28,
    "start_time": "2022-06-09T13:20:50.067Z"
   },
   {
    "duration": 12,
    "start_time": "2022-06-09T13:20:50.096Z"
   },
   {
    "duration": 40,
    "start_time": "2022-06-09T13:20:50.110Z"
   },
   {
    "duration": 54,
    "start_time": "2022-06-09T13:20:50.151Z"
   },
   {
    "duration": 62,
    "start_time": "2022-06-09T13:20:50.207Z"
   },
   {
    "duration": 42,
    "start_time": "2022-06-09T13:20:50.270Z"
   },
   {
    "duration": 35,
    "start_time": "2022-06-09T13:20:50.313Z"
   },
   {
    "duration": 46,
    "start_time": "2022-06-09T13:20:50.349Z"
   },
   {
    "duration": 13,
    "start_time": "2022-06-09T13:20:50.396Z"
   },
   {
    "duration": 7,
    "start_time": "2022-06-09T13:20:50.410Z"
   },
   {
    "duration": 25,
    "start_time": "2022-06-09T13:20:50.419Z"
   },
   {
    "duration": 78,
    "start_time": "2022-06-09T13:20:50.447Z"
   },
   {
    "duration": 31,
    "start_time": "2022-06-09T13:20:50.527Z"
   },
   {
    "duration": 60,
    "start_time": "2022-06-09T13:20:50.560Z"
   },
   {
    "duration": 30,
    "start_time": "2022-06-09T13:20:50.622Z"
   },
   {
    "duration": 12,
    "start_time": "2022-06-09T13:20:50.653Z"
   },
   {
    "duration": 35,
    "start_time": "2022-06-09T13:20:50.666Z"
   },
   {
    "duration": 7,
    "start_time": "2022-06-09T13:20:50.702Z"
   },
   {
    "duration": 292,
    "start_time": "2022-06-09T13:20:50.710Z"
   },
   {
    "duration": 300,
    "start_time": "2022-06-09T13:20:51.004Z"
   },
   {
    "duration": 202,
    "start_time": "2022-06-09T13:20:51.391Z"
   },
   {
    "duration": 204,
    "start_time": "2022-06-09T13:20:51.595Z"
   },
   {
    "duration": 3,
    "start_time": "2022-06-09T13:20:51.801Z"
   },
   {
    "duration": 7,
    "start_time": "2022-06-09T13:20:51.806Z"
   },
   {
    "duration": 6,
    "start_time": "2022-06-09T13:20:51.814Z"
   },
   {
    "duration": 6,
    "start_time": "2022-06-09T13:20:51.822Z"
   },
   {
    "duration": 77,
    "start_time": "2022-06-09T13:20:51.829Z"
   },
   {
    "duration": 15,
    "start_time": "2022-06-09T13:20:51.908Z"
   },
   {
    "duration": 13,
    "start_time": "2022-06-09T13:20:51.924Z"
   },
   {
    "duration": 5,
    "start_time": "2022-06-09T13:20:51.939Z"
   },
   {
    "duration": 6143,
    "start_time": "2022-06-09T13:20:51.946Z"
   },
   {
    "duration": 5695,
    "start_time": "2022-06-09T13:20:58.091Z"
   },
   {
    "duration": 5777,
    "start_time": "2022-06-09T13:21:03.790Z"
   },
   {
    "duration": 1446,
    "start_time": "2022-06-10T08:55:39.903Z"
   },
   {
    "duration": 721,
    "start_time": "2022-06-10T08:55:41.351Z"
   },
   {
    "duration": 12,
    "start_time": "2022-06-10T08:55:42.074Z"
   },
   {
    "duration": 13,
    "start_time": "2022-06-10T08:55:42.088Z"
   },
   {
    "duration": 7,
    "start_time": "2022-06-10T08:55:42.103Z"
   },
   {
    "duration": 25,
    "start_time": "2022-06-10T08:55:42.111Z"
   },
   {
    "duration": 11,
    "start_time": "2022-06-10T08:55:42.138Z"
   },
   {
    "duration": 19,
    "start_time": "2022-06-10T08:55:42.151Z"
   },
   {
    "duration": 16,
    "start_time": "2022-06-10T08:55:42.172Z"
   },
   {
    "duration": 8,
    "start_time": "2022-06-10T08:55:42.190Z"
   },
   {
    "duration": 33,
    "start_time": "2022-06-10T08:55:42.199Z"
   },
   {
    "duration": 22,
    "start_time": "2022-06-10T08:55:42.233Z"
   },
   {
    "duration": 53,
    "start_time": "2022-06-10T08:55:42.256Z"
   },
   {
    "duration": 27,
    "start_time": "2022-06-10T08:55:42.310Z"
   },
   {
    "duration": 39,
    "start_time": "2022-06-10T08:55:42.339Z"
   },
   {
    "duration": 51,
    "start_time": "2022-06-10T08:55:42.380Z"
   },
   {
    "duration": 14,
    "start_time": "2022-06-10T08:55:42.432Z"
   },
   {
    "duration": 49,
    "start_time": "2022-06-10T08:55:42.447Z"
   },
   {
    "duration": 31,
    "start_time": "2022-06-10T08:55:42.497Z"
   },
   {
    "duration": 54,
    "start_time": "2022-06-10T08:55:42.530Z"
   },
   {
    "duration": 47,
    "start_time": "2022-06-10T08:55:42.586Z"
   },
   {
    "duration": 40,
    "start_time": "2022-06-10T08:55:42.635Z"
   },
   {
    "duration": 32,
    "start_time": "2022-06-10T08:55:42.676Z"
   },
   {
    "duration": 26,
    "start_time": "2022-06-10T08:55:42.710Z"
   },
   {
    "duration": 19,
    "start_time": "2022-06-10T08:55:42.737Z"
   },
   {
    "duration": 72,
    "start_time": "2022-06-10T08:55:42.758Z"
   },
   {
    "duration": 30,
    "start_time": "2022-06-10T08:55:42.831Z"
   },
   {
    "duration": 35,
    "start_time": "2022-06-10T08:55:42.864Z"
   },
   {
    "duration": 48,
    "start_time": "2022-06-10T08:55:42.901Z"
   },
   {
    "duration": 12,
    "start_time": "2022-06-10T08:55:42.951Z"
   },
   {
    "duration": 7,
    "start_time": "2022-06-10T08:55:42.964Z"
   },
   {
    "duration": 269,
    "start_time": "2022-06-10T08:55:42.972Z"
   },
   {
    "duration": 291,
    "start_time": "2022-06-10T08:55:43.244Z"
   },
   {
    "duration": 191,
    "start_time": "2022-06-10T08:55:43.537Z"
   },
   {
    "duration": 204,
    "start_time": "2022-06-10T08:55:43.730Z"
   },
   {
    "duration": 92,
    "start_time": "2022-06-10T08:55:43.936Z"
   },
   {
    "duration": 7,
    "start_time": "2022-06-10T08:55:44.029Z"
   },
   {
    "duration": 5,
    "start_time": "2022-06-10T08:55:44.037Z"
   },
   {
    "duration": 5,
    "start_time": "2022-06-10T08:55:44.044Z"
   },
   {
    "duration": 16,
    "start_time": "2022-06-10T08:55:44.050Z"
   },
   {
    "duration": 12,
    "start_time": "2022-06-10T08:55:44.068Z"
   },
   {
    "duration": 13,
    "start_time": "2022-06-10T08:55:44.081Z"
   },
   {
    "duration": 34,
    "start_time": "2022-06-10T08:55:44.096Z"
   },
   {
    "duration": 5721,
    "start_time": "2022-06-10T08:55:44.132Z"
   },
   {
    "duration": 5860,
    "start_time": "2022-06-10T08:55:49.854Z"
   },
   {
    "duration": 5666,
    "start_time": "2022-06-10T08:55:55.715Z"
   },
   {
    "duration": 5,
    "start_time": "2022-06-10T09:01:11.579Z"
   },
   {
    "duration": 5725,
    "start_time": "2022-06-10T09:01:14.506Z"
   },
   {
    "duration": 26,
    "start_time": "2022-06-10T09:05:27.492Z"
   }
  ],
  "kernelspec": {
   "display_name": "Python 3 (ipykernel)",
   "language": "python",
   "name": "python3"
  },
  "language_info": {
   "codemirror_mode": {
    "name": "ipython",
    "version": 3
   },
   "file_extension": ".py",
   "mimetype": "text/x-python",
   "name": "python",
   "nbconvert_exporter": "python",
   "pygments_lexer": "ipython3",
   "version": "3.9.12"
  },
  "toc": {
   "base_numbering": 1,
   "nav_menu": {},
   "number_sections": true,
   "sideBar": true,
   "skip_h1_title": true,
   "title_cell": "Table of Contents",
   "title_sidebar": "Contents",
   "toc_cell": false,
   "toc_position": {},
   "toc_section_display": true,
   "toc_window_display": true
  }
 },
 "nbformat": 4,
 "nbformat_minor": 2
}
