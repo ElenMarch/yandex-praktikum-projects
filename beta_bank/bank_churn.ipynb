{
 "cells": [
  {
   "cell_type": "markdown",
   "metadata": {
    "toc": true
   },
   "source": [
    "<h1>Содержание<span class=\"tocSkip\"></span></h1>\n",
    "<div class=\"toc\"><ul class=\"toc-item\"><li><span><a href=\"#Подготовка-данных\" data-toc-modified-id=\"Подготовка-данных-1\"><span class=\"toc-item-num\">1&nbsp;&nbsp;</span>Подготовка данных</a></span><ul class=\"toc-item\"><li><span><a href=\"#Пропуски\" data-toc-modified-id=\"Пропуски-1.1\"><span class=\"toc-item-num\">1.1&nbsp;&nbsp;</span>Пропуски</a></span></li><li><span><a href=\"#Кодирование-и-масштабирование\" data-toc-modified-id=\"Кодирование-и-масштабирование-1.2\"><span class=\"toc-item-num\">1.2&nbsp;&nbsp;</span>Кодирование и масштабирование</a></span></li></ul></li><li><span><a href=\"#Исследование-задачи\" data-toc-modified-id=\"Исследование-задачи-2\"><span class=\"toc-item-num\">2&nbsp;&nbsp;</span>Исследование задачи</a></span></li><li><span><a href=\"#Борьба-с-дисбалансом\" data-toc-modified-id=\"Борьба-с-дисбалансом-3\"><span class=\"toc-item-num\">3&nbsp;&nbsp;</span>Борьба с дисбалансом</a></span><ul class=\"toc-item\"><li><span><a href=\"#Увеличение-выборки\" data-toc-modified-id=\"Увеличение-выборки-3.1\"><span class=\"toc-item-num\">3.1&nbsp;&nbsp;</span>Увеличение выборки</a></span></li><li><span><a href=\"#Уменьшение-выборки\" data-toc-modified-id=\"Уменьшение-выборки-3.2\"><span class=\"toc-item-num\">3.2&nbsp;&nbsp;</span>Уменьшение выборки</a></span></li></ul></li><li><span><a href=\"#Тестирование-модели\" data-toc-modified-id=\"Тестирование-модели-4\"><span class=\"toc-item-num\">4&nbsp;&nbsp;</span>Тестирование модели</a></span></li><li><span><a href=\"#Чек-лист-готовности-проекта\" data-toc-modified-id=\"Чек-лист-готовности-проекта-5\"><span class=\"toc-item-num\">5&nbsp;&nbsp;</span>Чек-лист готовности проекта</a></span></li></ul></div>"
   ]
  },
  {
   "cell_type": "markdown",
   "metadata": {},
   "source": [
    "# Отток клиентов"
   ]
  },
  {
   "cell_type": "markdown",
   "metadata": {},
   "source": [
    "Из «Бета-Банка» стали уходить клиенты. Каждый месяц. Немного, но заметно. Банковские маркетологи посчитали: сохранять текущих клиентов дешевле, чем привлекать новых.\n",
    "\n",
    "Нужно спрогнозировать, уйдёт клиент из банка в ближайшее время или нет. Вам предоставлены исторические данные о поведении клиентов и расторжении договоров с банком. \n",
    "\n",
    "**Цель исследования**:\n",
    "Построить модель с предельно большим значением *F1*-меры. Чтобы сдать проект успешно, нужно довести метрику до 0.59. Проверьте *F1*-меру на тестовой выборке самостоятельно.\n",
    "\n",
    "Дополнительно измеряйте *AUC-ROC*, сравнивайте её значение с *F1*-мерой.\n",
    "\n",
    "**Ход исследования**\n",
    "\n",
    "Исследование пройдёт в 4 этапa:\n",
    "\n",
    "- Подготовка данных\n",
    "- Исследование задачи\n",
    "- Борьба с дисбалансом\n",
    "- Тестирование модели\n",
    "\n",
    "Источник данных: [https://www.kaggle.com/barelydedicated/bank-customer-churn-modeling](https://www.kaggle.com/barelydedicated/bank-customer-churn-modeling)"
   ]
  },
  {
   "cell_type": "markdown",
   "metadata": {},
   "source": [
    "## Подготовка данных"
   ]
  },
  {
   "cell_type": "code",
   "execution_count": 1,
   "metadata": {},
   "outputs": [],
   "source": [
    "import pandas as pd\n",
    "import numpy as np\n",
    "import seaborn as sns\n",
    "import matplotlib.pyplot as plt\n",
    "\n",
    "from sklearn.model_selection import GridSearchCV\n",
    "from sklearn.utils import shuffle\n",
    "from sklearn.tree import DecisionTreeClassifier\n",
    "from sklearn.ensemble import RandomForestClassifier\n",
    "from sklearn.linear_model import LogisticRegression\n",
    "from sklearn.preprocessing import StandardScaler\n",
    "from sklearn.model_selection import train_test_split\n",
    "\n",
    "from sklearn.metrics import accuracy_score, precision_score, recall_score, f1_score\n",
    "from sklearn.metrics import confusion_matrix, precision_recall_curve, roc_curve, roc_auc_score"
   ]
  },
  {
   "cell_type": "code",
   "execution_count": 2,
   "metadata": {},
   "outputs": [],
   "source": [
    "users = pd.read_csv('/datasets/Churn.csv')"
   ]
  },
  {
   "cell_type": "code",
   "execution_count": 3,
   "metadata": {},
   "outputs": [
    {
     "data": {
      "text/html": [
       "<div>\n",
       "<style scoped>\n",
       "    .dataframe tbody tr th:only-of-type {\n",
       "        vertical-align: middle;\n",
       "    }\n",
       "\n",
       "    .dataframe tbody tr th {\n",
       "        vertical-align: top;\n",
       "    }\n",
       "\n",
       "    .dataframe thead th {\n",
       "        text-align: right;\n",
       "    }\n",
       "</style>\n",
       "<table border=\"1\" class=\"dataframe\">\n",
       "  <thead>\n",
       "    <tr style=\"text-align: right;\">\n",
       "      <th></th>\n",
       "      <th>RowNumber</th>\n",
       "      <th>CustomerId</th>\n",
       "      <th>Surname</th>\n",
       "      <th>CreditScore</th>\n",
       "      <th>Geography</th>\n",
       "      <th>Gender</th>\n",
       "      <th>Age</th>\n",
       "      <th>Tenure</th>\n",
       "      <th>Balance</th>\n",
       "      <th>NumOfProducts</th>\n",
       "      <th>HasCrCard</th>\n",
       "      <th>IsActiveMember</th>\n",
       "      <th>EstimatedSalary</th>\n",
       "      <th>Exited</th>\n",
       "    </tr>\n",
       "  </thead>\n",
       "  <tbody>\n",
       "    <tr>\n",
       "      <th>0</th>\n",
       "      <td>1</td>\n",
       "      <td>15634602</td>\n",
       "      <td>Hargrave</td>\n",
       "      <td>619</td>\n",
       "      <td>France</td>\n",
       "      <td>Female</td>\n",
       "      <td>42</td>\n",
       "      <td>2.0</td>\n",
       "      <td>0.00</td>\n",
       "      <td>1</td>\n",
       "      <td>1</td>\n",
       "      <td>1</td>\n",
       "      <td>101348.88</td>\n",
       "      <td>1</td>\n",
       "    </tr>\n",
       "    <tr>\n",
       "      <th>1</th>\n",
       "      <td>2</td>\n",
       "      <td>15647311</td>\n",
       "      <td>Hill</td>\n",
       "      <td>608</td>\n",
       "      <td>Spain</td>\n",
       "      <td>Female</td>\n",
       "      <td>41</td>\n",
       "      <td>1.0</td>\n",
       "      <td>83807.86</td>\n",
       "      <td>1</td>\n",
       "      <td>0</td>\n",
       "      <td>1</td>\n",
       "      <td>112542.58</td>\n",
       "      <td>0</td>\n",
       "    </tr>\n",
       "    <tr>\n",
       "      <th>2</th>\n",
       "      <td>3</td>\n",
       "      <td>15619304</td>\n",
       "      <td>Onio</td>\n",
       "      <td>502</td>\n",
       "      <td>France</td>\n",
       "      <td>Female</td>\n",
       "      <td>42</td>\n",
       "      <td>8.0</td>\n",
       "      <td>159660.80</td>\n",
       "      <td>3</td>\n",
       "      <td>1</td>\n",
       "      <td>0</td>\n",
       "      <td>113931.57</td>\n",
       "      <td>1</td>\n",
       "    </tr>\n",
       "    <tr>\n",
       "      <th>3</th>\n",
       "      <td>4</td>\n",
       "      <td>15701354</td>\n",
       "      <td>Boni</td>\n",
       "      <td>699</td>\n",
       "      <td>France</td>\n",
       "      <td>Female</td>\n",
       "      <td>39</td>\n",
       "      <td>1.0</td>\n",
       "      <td>0.00</td>\n",
       "      <td>2</td>\n",
       "      <td>0</td>\n",
       "      <td>0</td>\n",
       "      <td>93826.63</td>\n",
       "      <td>0</td>\n",
       "    </tr>\n",
       "    <tr>\n",
       "      <th>4</th>\n",
       "      <td>5</td>\n",
       "      <td>15737888</td>\n",
       "      <td>Mitchell</td>\n",
       "      <td>850</td>\n",
       "      <td>Spain</td>\n",
       "      <td>Female</td>\n",
       "      <td>43</td>\n",
       "      <td>2.0</td>\n",
       "      <td>125510.82</td>\n",
       "      <td>1</td>\n",
       "      <td>1</td>\n",
       "      <td>1</td>\n",
       "      <td>79084.10</td>\n",
       "      <td>0</td>\n",
       "    </tr>\n",
       "  </tbody>\n",
       "</table>\n",
       "</div>"
      ],
      "text/plain": [
       "   RowNumber  CustomerId   Surname  CreditScore Geography  Gender  Age  \\\n",
       "0          1    15634602  Hargrave          619    France  Female   42   \n",
       "1          2    15647311      Hill          608     Spain  Female   41   \n",
       "2          3    15619304      Onio          502    France  Female   42   \n",
       "3          4    15701354      Boni          699    France  Female   39   \n",
       "4          5    15737888  Mitchell          850     Spain  Female   43   \n",
       "\n",
       "   Tenure    Balance  NumOfProducts  HasCrCard  IsActiveMember  \\\n",
       "0     2.0       0.00              1          1               1   \n",
       "1     1.0   83807.86              1          0               1   \n",
       "2     8.0  159660.80              3          1               0   \n",
       "3     1.0       0.00              2          0               0   \n",
       "4     2.0  125510.82              1          1               1   \n",
       "\n",
       "   EstimatedSalary  Exited  \n",
       "0        101348.88       1  \n",
       "1        112542.58       0  \n",
       "2        113931.57       1  \n",
       "3         93826.63       0  \n",
       "4         79084.10       0  "
      ]
     },
     "execution_count": 3,
     "metadata": {},
     "output_type": "execute_result"
    }
   ],
   "source": [
    "users.head()"
   ]
  },
  {
   "cell_type": "code",
   "execution_count": 4,
   "metadata": {},
   "outputs": [
    {
     "name": "stdout",
     "output_type": "stream",
     "text": [
      "<class 'pandas.core.frame.DataFrame'>\n",
      "RangeIndex: 10000 entries, 0 to 9999\n",
      "Data columns (total 14 columns):\n",
      " #   Column           Non-Null Count  Dtype  \n",
      "---  ------           --------------  -----  \n",
      " 0   RowNumber        10000 non-null  int64  \n",
      " 1   CustomerId       10000 non-null  int64  \n",
      " 2   Surname          10000 non-null  object \n",
      " 3   CreditScore      10000 non-null  int64  \n",
      " 4   Geography        10000 non-null  object \n",
      " 5   Gender           10000 non-null  object \n",
      " 6   Age              10000 non-null  int64  \n",
      " 7   Tenure           9091 non-null   float64\n",
      " 8   Balance          10000 non-null  float64\n",
      " 9   NumOfProducts    10000 non-null  int64  \n",
      " 10  HasCrCard        10000 non-null  int64  \n",
      " 11  IsActiveMember   10000 non-null  int64  \n",
      " 12  EstimatedSalary  10000 non-null  float64\n",
      " 13  Exited           10000 non-null  int64  \n",
      "dtypes: float64(3), int64(8), object(3)\n",
      "memory usage: 1.1+ MB\n"
     ]
    }
   ],
   "source": [
    "users.info()"
   ]
  },
  {
   "cell_type": "markdown",
   "metadata": {},
   "source": [
    "**Описание данных**\n",
    "\n",
    "Итак, в таблице 14 колонок.Признаки имеют типы int64, object и float64.\n",
    "\n",
    "**Признаки**\n",
    "\n",
    "- *RowNumber —* индекс строки в данных\n",
    "- *CustomerId* — уникальный идентификатор клиента\n",
    "- *Surname —* фамилия\n",
    "- *CreditScore —* кредитный рейтинг\n",
    "- *Geography —* страна проживания\n",
    "- *Gender —* пол\n",
    "- *Age —* возраст\n",
    "- *Tenure —* сколько лет человек является клиентом банка\n",
    "- *Balance —* баланс на счёте\n",
    "- *NumOfProducts —* количество продуктов банка, используемых клиентом\n",
    "- *HasCrCard —* наличие кредитной карты\n",
    "- *IsActiveMember —* активность клиента\n",
    "- *EstimatedSalary —* предполагаемая зарплата\n",
    "\n",
    "**Целевой признак**\n",
    "\n",
    "- *Exited* — факт ухода клиента"
   ]
  },
  {
   "cell_type": "markdown",
   "metadata": {},
   "source": [
    "### Пропуски"
   ]
  },
  {
   "cell_type": "markdown",
   "metadata": {},
   "source": [
    "В данных присутствуют пропуски,кроме того:\n",
    "- заголовки столбцов необходимо привести к нижнему регистру;\n",
    "- *RowNumber* дублирует индексы;\n",
    "- *CustomerId* и *Surname* не влияют на отток клиентов. Эти столбцы следует удалить."
   ]
  },
  {
   "cell_type": "code",
   "execution_count": 5,
   "metadata": {},
   "outputs": [],
   "source": [
    "users = users.drop(['RowNumber', 'CustomerId', 'Surname'], axis=1)"
   ]
  },
  {
   "cell_type": "code",
   "execution_count": 6,
   "metadata": {},
   "outputs": [],
   "source": [
    "users.columns = users.columns.str.lower()\n",
    "users = users.rename(columns={'creditscore': 'credit_score', 'numofproducts': 'num_of_products', 'hascrcard': 'has_cr_card', 'isactivemember': 'is_active_member', 'estimatedsalary': 'estimated_salary'})"
   ]
  },
  {
   "cell_type": "code",
   "execution_count": 7,
   "metadata": {},
   "outputs": [
    {
     "data": {
      "text/plain": [
       "array([ 2.,  1.,  8.,  7.,  4.,  6.,  3., 10.,  5.,  9.,  0., nan])"
      ]
     },
     "execution_count": 7,
     "metadata": {},
     "output_type": "execute_result"
    }
   ],
   "source": [
    "users['tenure'].unique()"
   ]
  },
  {
   "cell_type": "code",
   "execution_count": 8,
   "metadata": {},
   "outputs": [
    {
     "data": {
      "text/html": [
       "<div>\n",
       "<style scoped>\n",
       "    .dataframe tbody tr th:only-of-type {\n",
       "        vertical-align: middle;\n",
       "    }\n",
       "\n",
       "    .dataframe tbody tr th {\n",
       "        vertical-align: top;\n",
       "    }\n",
       "\n",
       "    .dataframe thead th {\n",
       "        text-align: right;\n",
       "    }\n",
       "</style>\n",
       "<table border=\"1\" class=\"dataframe\">\n",
       "  <thead>\n",
       "    <tr style=\"text-align: right;\">\n",
       "      <th></th>\n",
       "      <th>credit_score</th>\n",
       "      <th>geography</th>\n",
       "      <th>gender</th>\n",
       "      <th>age</th>\n",
       "      <th>tenure</th>\n",
       "      <th>balance</th>\n",
       "      <th>num_of_products</th>\n",
       "      <th>has_cr_card</th>\n",
       "      <th>is_active_member</th>\n",
       "      <th>estimated_salary</th>\n",
       "      <th>exited</th>\n",
       "    </tr>\n",
       "  </thead>\n",
       "  <tbody>\n",
       "    <tr>\n",
       "      <th>48</th>\n",
       "      <td>550</td>\n",
       "      <td>Germany</td>\n",
       "      <td>Male</td>\n",
       "      <td>38</td>\n",
       "      <td>NaN</td>\n",
       "      <td>103391.38</td>\n",
       "      <td>1</td>\n",
       "      <td>0</td>\n",
       "      <td>1</td>\n",
       "      <td>90878.13</td>\n",
       "      <td>0</td>\n",
       "    </tr>\n",
       "    <tr>\n",
       "      <th>51</th>\n",
       "      <td>585</td>\n",
       "      <td>Germany</td>\n",
       "      <td>Male</td>\n",
       "      <td>36</td>\n",
       "      <td>NaN</td>\n",
       "      <td>146050.97</td>\n",
       "      <td>2</td>\n",
       "      <td>0</td>\n",
       "      <td>0</td>\n",
       "      <td>86424.57</td>\n",
       "      <td>0</td>\n",
       "    </tr>\n",
       "    <tr>\n",
       "      <th>60</th>\n",
       "      <td>742</td>\n",
       "      <td>Germany</td>\n",
       "      <td>Male</td>\n",
       "      <td>35</td>\n",
       "      <td>NaN</td>\n",
       "      <td>136857.00</td>\n",
       "      <td>1</td>\n",
       "      <td>0</td>\n",
       "      <td>0</td>\n",
       "      <td>84509.57</td>\n",
       "      <td>0</td>\n",
       "    </tr>\n",
       "    <tr>\n",
       "      <th>82</th>\n",
       "      <td>543</td>\n",
       "      <td>France</td>\n",
       "      <td>Female</td>\n",
       "      <td>36</td>\n",
       "      <td>NaN</td>\n",
       "      <td>0.00</td>\n",
       "      <td>2</td>\n",
       "      <td>0</td>\n",
       "      <td>0</td>\n",
       "      <td>26019.59</td>\n",
       "      <td>0</td>\n",
       "    </tr>\n",
       "    <tr>\n",
       "      <th>94</th>\n",
       "      <td>730</td>\n",
       "      <td>Spain</td>\n",
       "      <td>Male</td>\n",
       "      <td>42</td>\n",
       "      <td>NaN</td>\n",
       "      <td>0.00</td>\n",
       "      <td>2</td>\n",
       "      <td>0</td>\n",
       "      <td>1</td>\n",
       "      <td>85982.47</td>\n",
       "      <td>0</td>\n",
       "    </tr>\n",
       "    <tr>\n",
       "      <th>...</th>\n",
       "      <td>...</td>\n",
       "      <td>...</td>\n",
       "      <td>...</td>\n",
       "      <td>...</td>\n",
       "      <td>...</td>\n",
       "      <td>...</td>\n",
       "      <td>...</td>\n",
       "      <td>...</td>\n",
       "      <td>...</td>\n",
       "      <td>...</td>\n",
       "      <td>...</td>\n",
       "    </tr>\n",
       "    <tr>\n",
       "      <th>9925</th>\n",
       "      <td>694</td>\n",
       "      <td>France</td>\n",
       "      <td>Female</td>\n",
       "      <td>38</td>\n",
       "      <td>NaN</td>\n",
       "      <td>195926.39</td>\n",
       "      <td>1</td>\n",
       "      <td>1</td>\n",
       "      <td>1</td>\n",
       "      <td>85522.84</td>\n",
       "      <td>0</td>\n",
       "    </tr>\n",
       "    <tr>\n",
       "      <th>9931</th>\n",
       "      <td>850</td>\n",
       "      <td>France</td>\n",
       "      <td>Female</td>\n",
       "      <td>34</td>\n",
       "      <td>NaN</td>\n",
       "      <td>101266.51</td>\n",
       "      <td>1</td>\n",
       "      <td>1</td>\n",
       "      <td>0</td>\n",
       "      <td>33501.98</td>\n",
       "      <td>0</td>\n",
       "    </tr>\n",
       "    <tr>\n",
       "      <th>9938</th>\n",
       "      <td>526</td>\n",
       "      <td>Spain</td>\n",
       "      <td>Female</td>\n",
       "      <td>36</td>\n",
       "      <td>NaN</td>\n",
       "      <td>91132.18</td>\n",
       "      <td>1</td>\n",
       "      <td>0</td>\n",
       "      <td>0</td>\n",
       "      <td>58111.71</td>\n",
       "      <td>0</td>\n",
       "    </tr>\n",
       "    <tr>\n",
       "      <th>9985</th>\n",
       "      <td>659</td>\n",
       "      <td>France</td>\n",
       "      <td>Male</td>\n",
       "      <td>36</td>\n",
       "      <td>NaN</td>\n",
       "      <td>123841.49</td>\n",
       "      <td>2</td>\n",
       "      <td>1</td>\n",
       "      <td>0</td>\n",
       "      <td>96833.00</td>\n",
       "      <td>0</td>\n",
       "    </tr>\n",
       "    <tr>\n",
       "      <th>9999</th>\n",
       "      <td>792</td>\n",
       "      <td>France</td>\n",
       "      <td>Female</td>\n",
       "      <td>28</td>\n",
       "      <td>NaN</td>\n",
       "      <td>130142.79</td>\n",
       "      <td>1</td>\n",
       "      <td>1</td>\n",
       "      <td>0</td>\n",
       "      <td>38190.78</td>\n",
       "      <td>0</td>\n",
       "    </tr>\n",
       "  </tbody>\n",
       "</table>\n",
       "<p>456 rows × 11 columns</p>\n",
       "</div>"
      ],
      "text/plain": [
       "      credit_score geography  gender  age  tenure    balance  num_of_products  \\\n",
       "48             550   Germany    Male   38     NaN  103391.38                1   \n",
       "51             585   Germany    Male   36     NaN  146050.97                2   \n",
       "60             742   Germany    Male   35     NaN  136857.00                1   \n",
       "82             543    France  Female   36     NaN       0.00                2   \n",
       "94             730     Spain    Male   42     NaN       0.00                2   \n",
       "...            ...       ...     ...  ...     ...        ...              ...   \n",
       "9925           694    France  Female   38     NaN  195926.39                1   \n",
       "9931           850    France  Female   34     NaN  101266.51                1   \n",
       "9938           526     Spain  Female   36     NaN   91132.18                1   \n",
       "9985           659    France    Male   36     NaN  123841.49                2   \n",
       "9999           792    France  Female   28     NaN  130142.79                1   \n",
       "\n",
       "      has_cr_card  is_active_member  estimated_salary  exited  \n",
       "48              0                 1          90878.13       0  \n",
       "51              0                 0          86424.57       0  \n",
       "60              0                 0          84509.57       0  \n",
       "82              0                 0          26019.59       0  \n",
       "94              0                 1          85982.47       0  \n",
       "...           ...               ...               ...     ...  \n",
       "9925            1                 1          85522.84       0  \n",
       "9931            1                 0          33501.98       0  \n",
       "9938            0                 0          58111.71       0  \n",
       "9985            1                 0          96833.00       0  \n",
       "9999            1                 0          38190.78       0  \n",
       "\n",
       "[456 rows x 11 columns]"
      ]
     },
     "execution_count": 8,
     "metadata": {},
     "output_type": "execute_result"
    }
   ],
   "source": [
    "users[(users['tenure'].isna()) & (users['estimated_salary']< 100000)]"
   ]
  },
  {
   "cell_type": "code",
   "execution_count": 9,
   "metadata": {},
   "outputs": [
    {
     "data": {
      "text/plain": [
       "<AxesSubplot:>"
      ]
     },
     "execution_count": 9,
     "metadata": {},
     "output_type": "execute_result"
    },
    {
     "data": {
      "image/png": "[encoded data removed]",
      "text/plain": [
       "<Figure size 432x288 with 1 Axes>"
      ]
     },
     "metadata": {
      "needs_background": "light"
     },
     "output_type": "display_data"
    }
   ],
   "source": [
    "users['tenure'].hist(bins=11)"
   ]
  },
  {
   "cell_type": "markdown",
   "metadata": {},
   "source": [
    "Данные в колонке `tenure` пропущены вероятно при некорректной выгрузке данных. \n",
    "Заменим пропуски на медианное значение, тогда распределение значений будет близко к нормальному."
   ]
  },
  {
   "cell_type": "code",
   "execution_count": 10,
   "metadata": {},
   "outputs": [],
   "source": [
    "m = users['tenure'].median()"
   ]
  },
  {
   "cell_type": "code",
   "execution_count": 11,
   "metadata": {},
   "outputs": [],
   "source": [
    "users['tenure'] = users['tenure'].fillna(m)"
   ]
  },
  {
   "cell_type": "code",
   "execution_count": 12,
   "metadata": {},
   "outputs": [
    {
     "data": {
      "text/html": [
       "<div>\n",
       "<style scoped>\n",
       "    .dataframe tbody tr th:only-of-type {\n",
       "        vertical-align: middle;\n",
       "    }\n",
       "\n",
       "    .dataframe tbody tr th {\n",
       "        vertical-align: top;\n",
       "    }\n",
       "\n",
       "    .dataframe thead th {\n",
       "        text-align: right;\n",
       "    }\n",
       "</style>\n",
       "<table border=\"1\" class=\"dataframe\">\n",
       "  <thead>\n",
       "    <tr style=\"text-align: right;\">\n",
       "      <th></th>\n",
       "      <th>credit_score</th>\n",
       "      <th>age</th>\n",
       "      <th>tenure</th>\n",
       "      <th>balance</th>\n",
       "      <th>num_of_products</th>\n",
       "      <th>has_cr_card</th>\n",
       "      <th>is_active_member</th>\n",
       "      <th>estimated_salary</th>\n",
       "      <th>exited</th>\n",
       "    </tr>\n",
       "  </thead>\n",
       "  <tbody>\n",
       "    <tr>\n",
       "      <th>count</th>\n",
       "      <td>10000.000000</td>\n",
       "      <td>10000.000000</td>\n",
       "      <td>10000.00000</td>\n",
       "      <td>10000.000000</td>\n",
       "      <td>10000.000000</td>\n",
       "      <td>10000.00000</td>\n",
       "      <td>10000.000000</td>\n",
       "      <td>10000.000000</td>\n",
       "      <td>10000.000000</td>\n",
       "    </tr>\n",
       "    <tr>\n",
       "      <th>mean</th>\n",
       "      <td>650.528800</td>\n",
       "      <td>38.921800</td>\n",
       "      <td>4.99790</td>\n",
       "      <td>76485.889288</td>\n",
       "      <td>1.530200</td>\n",
       "      <td>0.70550</td>\n",
       "      <td>0.515100</td>\n",
       "      <td>100090.239881</td>\n",
       "      <td>0.203700</td>\n",
       "    </tr>\n",
       "    <tr>\n",
       "      <th>std</th>\n",
       "      <td>96.653299</td>\n",
       "      <td>10.487806</td>\n",
       "      <td>2.76001</td>\n",
       "      <td>62397.405202</td>\n",
       "      <td>0.581654</td>\n",
       "      <td>0.45584</td>\n",
       "      <td>0.499797</td>\n",
       "      <td>57510.492818</td>\n",
       "      <td>0.402769</td>\n",
       "    </tr>\n",
       "    <tr>\n",
       "      <th>min</th>\n",
       "      <td>350.000000</td>\n",
       "      <td>18.000000</td>\n",
       "      <td>0.00000</td>\n",
       "      <td>0.000000</td>\n",
       "      <td>1.000000</td>\n",
       "      <td>0.00000</td>\n",
       "      <td>0.000000</td>\n",
       "      <td>11.580000</td>\n",
       "      <td>0.000000</td>\n",
       "    </tr>\n",
       "    <tr>\n",
       "      <th>25%</th>\n",
       "      <td>584.000000</td>\n",
       "      <td>32.000000</td>\n",
       "      <td>3.00000</td>\n",
       "      <td>0.000000</td>\n",
       "      <td>1.000000</td>\n",
       "      <td>0.00000</td>\n",
       "      <td>0.000000</td>\n",
       "      <td>51002.110000</td>\n",
       "      <td>0.000000</td>\n",
       "    </tr>\n",
       "    <tr>\n",
       "      <th>50%</th>\n",
       "      <td>652.000000</td>\n",
       "      <td>37.000000</td>\n",
       "      <td>5.00000</td>\n",
       "      <td>97198.540000</td>\n",
       "      <td>1.000000</td>\n",
       "      <td>1.00000</td>\n",
       "      <td>1.000000</td>\n",
       "      <td>100193.915000</td>\n",
       "      <td>0.000000</td>\n",
       "    </tr>\n",
       "    <tr>\n",
       "      <th>75%</th>\n",
       "      <td>718.000000</td>\n",
       "      <td>44.000000</td>\n",
       "      <td>7.00000</td>\n",
       "      <td>127644.240000</td>\n",
       "      <td>2.000000</td>\n",
       "      <td>1.00000</td>\n",
       "      <td>1.000000</td>\n",
       "      <td>149388.247500</td>\n",
       "      <td>0.000000</td>\n",
       "    </tr>\n",
       "    <tr>\n",
       "      <th>max</th>\n",
       "      <td>850.000000</td>\n",
       "      <td>92.000000</td>\n",
       "      <td>10.00000</td>\n",
       "      <td>250898.090000</td>\n",
       "      <td>4.000000</td>\n",
       "      <td>1.00000</td>\n",
       "      <td>1.000000</td>\n",
       "      <td>199992.480000</td>\n",
       "      <td>1.000000</td>\n",
       "    </tr>\n",
       "  </tbody>\n",
       "</table>\n",
       "</div>"
      ],
      "text/plain": [
       "       credit_score           age       tenure        balance  \\\n",
       "count  10000.000000  10000.000000  10000.00000   10000.000000   \n",
       "mean     650.528800     38.921800      4.99790   76485.889288   \n",
       "std       96.653299     10.487806      2.76001   62397.405202   \n",
       "min      350.000000     18.000000      0.00000       0.000000   \n",
       "25%      584.000000     32.000000      3.00000       0.000000   \n",
       "50%      652.000000     37.000000      5.00000   97198.540000   \n",
       "75%      718.000000     44.000000      7.00000  127644.240000   \n",
       "max      850.000000     92.000000     10.00000  250898.090000   \n",
       "\n",
       "       num_of_products  has_cr_card  is_active_member  estimated_salary  \\\n",
       "count     10000.000000  10000.00000      10000.000000      10000.000000   \n",
       "mean          1.530200      0.70550          0.515100     100090.239881   \n",
       "std           0.581654      0.45584          0.499797      57510.492818   \n",
       "min           1.000000      0.00000          0.000000         11.580000   \n",
       "25%           1.000000      0.00000          0.000000      51002.110000   \n",
       "50%           1.000000      1.00000          1.000000     100193.915000   \n",
       "75%           2.000000      1.00000          1.000000     149388.247500   \n",
       "max           4.000000      1.00000          1.000000     199992.480000   \n",
       "\n",
       "             exited  \n",
       "count  10000.000000  \n",
       "mean       0.203700  \n",
       "std        0.402769  \n",
       "min        0.000000  \n",
       "25%        0.000000  \n",
       "50%        0.000000  \n",
       "75%        0.000000  \n",
       "max        1.000000  "
      ]
     },
     "execution_count": 12,
     "metadata": {},
     "output_type": "execute_result"
    }
   ],
   "source": [
    "users.describe()"
   ]
  },
  {
   "cell_type": "markdown",
   "metadata": {},
   "source": [
    "В признаках `balance` и `estimated_salary` можно отметить большой разброс значений. В данных 25% клиентов с нулевым балансом, чья предполагаемая зарплата ниже 51 000. Так же есть четверть всех клиентов были возрастом от 44 до 92 лет."
   ]
  },
  {
   "cell_type": "code",
   "execution_count": 13,
   "metadata": {},
   "outputs": [
    {
     "data": {
      "text/plain": [
       "credit_score        0\n",
       "geography           0\n",
       "gender              0\n",
       "age                 0\n",
       "tenure              0\n",
       "balance             0\n",
       "num_of_products     0\n",
       "has_cr_card         0\n",
       "is_active_member    0\n",
       "estimated_salary    0\n",
       "exited              0\n",
       "dtype: int64"
      ]
     },
     "execution_count": 13,
     "metadata": {},
     "output_type": "execute_result"
    }
   ],
   "source": [
    "users.isna().sum()"
   ]
  },
  {
   "cell_type": "code",
   "execution_count": 14,
   "metadata": {},
   "outputs": [
    {
     "data": {
      "text/plain": [
       "0"
      ]
     },
     "execution_count": 14,
     "metadata": {},
     "output_type": "execute_result"
    }
   ],
   "source": [
    "users.duplicated().sum()"
   ]
  },
  {
   "cell_type": "markdown",
   "metadata": {},
   "source": [
    "### Кодирование и масштабирование"
   ]
  },
  {
   "cell_type": "markdown",
   "metadata": {},
   "source": [
    "Преобразуем категориальные признаки в численные методом *ОНЕ*:"
   ]
  },
  {
   "cell_type": "code",
   "execution_count": 15,
   "metadata": {},
   "outputs": [
    {
     "data": {
      "text/plain": [
       "Index(['credit_score', 'age', 'tenure', 'balance', 'num_of_products',\n",
       "       'has_cr_card', 'is_active_member', 'estimated_salary', 'exited',\n",
       "       'geography_Germany', 'geography_Spain', 'gender_Male'],\n",
       "      dtype='object')"
      ]
     },
     "execution_count": 15,
     "metadata": {},
     "output_type": "execute_result"
    }
   ],
   "source": [
    "users_ohe = pd.get_dummies(users, drop_first=True)\n",
    "users_ohe.columns"
   ]
  },
  {
   "cell_type": "markdown",
   "metadata": {},
   "source": [
    "Чтобы получить тестовую выборку, разобъем данные в отношении 3:1:1."
   ]
  },
  {
   "cell_type": "code",
   "execution_count": 16,
   "metadata": {},
   "outputs": [],
   "source": [
    "target = users_ohe['exited']\n",
    "features = users_ohe.drop(['exited'], axis=1)"
   ]
  },
  {
   "cell_type": "code",
   "execution_count": 17,
   "metadata": {},
   "outputs": [],
   "source": [
    "features_train, features_valid, target_train, target_valid = train_test_split(\n",
    "    features, target, test_size=0.4, random_state=12345)\n",
    "features_valid, features_test, target_valid, target_test = train_test_split(\n",
    "    features_valid, target_valid, test_size=0.5, random_state=12345)"
   ]
  },
  {
   "cell_type": "code",
   "execution_count": 18,
   "metadata": {},
   "outputs": [
    {
     "data": {
      "text/plain": [
       "(2000, 11)"
      ]
     },
     "execution_count": 18,
     "metadata": {},
     "output_type": "execute_result"
    }
   ],
   "source": [
    "features_valid.shape"
   ]
  },
  {
   "cell_type": "code",
   "execution_count": 19,
   "metadata": {},
   "outputs": [
    {
     "data": {
      "text/plain": [
       "(2000, 11)"
      ]
     },
     "execution_count": 19,
     "metadata": {},
     "output_type": "execute_result"
    }
   ],
   "source": [
    "features_test.shape"
   ]
  },
  {
   "cell_type": "markdown",
   "metadata": {},
   "source": [
    "Разбиение произведено.\n",
    "Масштабируем все численные признаки:"
   ]
  },
  {
   "cell_type": "code",
   "execution_count": 20,
   "metadata": {
    "scrolled": false
   },
   "outputs": [
    {
     "name": "stderr",
     "output_type": "stream",
     "text": [
      "C:\\Users\\Anton\\anaconda3\\lib\\site-packages\\pandas\\core\\indexing.py:1835: SettingWithCopyWarning: \n",
      "A value is trying to be set on a copy of a slice from a DataFrame.\n",
      "Try using .loc[row_indexer,col_indexer] = value instead\n",
      "\n",
      "See the caveats in the documentation: https://pandas.pydata.org/pandas-docs/stable/user_guide/indexing.html#returning-a-view-versus-a-copy\n",
      "  self._setitem_single_column(loc, value[:, i].tolist(), pi)\n"
     ]
    }
   ],
   "source": [
    "numeric = ['credit_score', 'balance', 'estimated_salary', 'num_of_products', 'age']\n",
    "\n",
    "scaler = StandardScaler()\n",
    "scaler.fit(features_train[numeric])\n",
    "features_train.loc[:, numeric] = scaler.transform(features_train[numeric])\n",
    "features_valid.loc[:, numeric] = scaler.transform(features_valid[numeric])\n",
    "features_test.loc[:, numeric] = scaler.transform(features_test[numeric])"
   ]
  },
  {
   "cell_type": "markdown",
   "metadata": {},
   "source": [
    "**Вывод**\n",
    "\n",
    "Итак, на данном этапе:\n",
    "* был удален лишние столбцы;\n",
    "* заголовки приведены к нижнему регистру;\n",
    "* преобразованы категориальные и масштабированы остальные признаки;\n",
    "\n",
    "Можно приступать к исследованию задачи."
   ]
  },
  {
   "cell_type": "markdown",
   "metadata": {},
   "source": [
    "## Исследование задачи"
   ]
  },
  {
   "cell_type": "code",
   "execution_count": 21,
   "metadata": {},
   "outputs": [
    {
     "data": {
      "text/plain": [
       "0    0.7963\n",
       "1    0.2037\n",
       "Name: exited, dtype: float64"
      ]
     },
     "execution_count": 21,
     "metadata": {},
     "output_type": "execute_result"
    }
   ],
   "source": [
    "class_frequency = users['exited'].value_counts(normalize=True)\n",
    "class_frequency"
   ]
  },
  {
   "cell_type": "markdown",
   "metadata": {},
   "source": [
    "Классы несбалансированы. Обучим модели без учета дисбаланса."
   ]
  },
  {
   "cell_type": "markdown",
   "metadata": {},
   "source": [
    "Для решения задачи бинарной классификации подберем подходящую модель:"
   ]
  },
  {
   "cell_type": "code",
   "execution_count": 22,
   "metadata": {},
   "outputs": [
    {
     "name": "stdout",
     "output_type": "stream",
     "text": [
      "Наилучшая модель для решающего дерева: 0.857500 с параметрами {'criterion': 'entropy', 'max_depth': 5, 'min_samples_split': 10}\n"
     ]
    }
   ],
   "source": [
    "tree_model = DecisionTreeClassifier(random_state=12345)\n",
    "params= {'criterion': ['gini', 'entropy'],\n",
    "         'min_samples_split': [2,5,10],\n",
    "         'max_depth': [5,9,12,15]}\n",
    "tree_grid = GridSearchCV(tree_model, params, cv=3)\n",
    "tree_grid.fit(features_train, target_train)\n",
    "print(\"Наилучшая модель для решающего дерева: %f с параметрами %s\" %(tree_grid.best_score_, tree_grid.best_params_))"
   ]
  },
  {
   "cell_type": "code",
   "execution_count": 23,
   "metadata": {},
   "outputs": [],
   "source": [
    "model_scores = pd.DataFrame({\"name\": 'Decision Tree', 'params': [tree_grid.best_params_], 'score':tree_grid.best_score_})"
   ]
  },
  {
   "cell_type": "code",
   "execution_count": 24,
   "metadata": {},
   "outputs": [
    {
     "name": "stdout",
     "output_type": "stream",
     "text": [
      "Наилучшая модель для случайного леса: 0.867333 с параметрами {'max_depth': 10, 'min_samples_leaf': 2, 'min_samples_split': 10, 'n_estimators': 120}\n"
     ]
    }
   ],
   "source": [
    "forest_model = RandomForestClassifier(random_state=12345)\n",
    "param = { 'n_estimators': [60, 80, 100,120],\n",
    "              'max_depth': [10,20,30],\n",
    "              'min_samples_leaf': [2,4],\n",
    "              'min_samples_split': [2,5,10]}\n",
    "# Grid Search CV implementation\n",
    "forest = GridSearchCV(forest_model, param, cv=3)\n",
    "forest.fit(features_train, target_train)\n",
    "print(\"Наилучшая модель для случайного леса: %f с параметрами %s\" % (forest.best_score_, forest.best_params_))"
   ]
  },
  {
   "cell_type": "code",
   "execution_count": 25,
   "metadata": {},
   "outputs": [],
   "source": [
    "model_scores = model_scores.append({'name':'Random Forest', 'params':forest.best_params_, 'score':forest.best_score_}, ignore_index=True)"
   ]
  },
  {
   "cell_type": "code",
   "execution_count": 26,
   "metadata": {},
   "outputs": [
    {
     "name": "stdout",
     "output_type": "stream",
     "text": [
      "Наилучшая модель Логистической регрессии: 0.817333 с параметрами {'max_iter': 1000, 'solver': 'liblinear'}\n"
     ]
    }
   ],
   "source": [
    "logic_model = LogisticRegression(random_state=12345)\n",
    "parameters = { 'solver': ['liblinear','newton-cg', 'lbfgs', 'sag'],\n",
    "               'max_iter': [1000]}\n",
    "# Grid Search CV implementation\n",
    "logic = GridSearchCV(logic_model, parameters, cv=3)\n",
    "logic.fit(features_train, target_train)\n",
    "print(\"Наилучшая модель Логистической регрессии: %f с параметрами %s\" % (logic.best_score_, logic.best_params_))"
   ]
  },
  {
   "cell_type": "code",
   "execution_count": 27,
   "metadata": {},
   "outputs": [],
   "source": [
    "model_scores = model_scores.append({'name':'Logistic Regression', 'params':logic.best_params_, 'score':logic.best_score_}, ignore_index=True)"
   ]
  },
  {
   "cell_type": "markdown",
   "metadata": {},
   "source": [
    "Из всех имеющихся моделей выберем ту, что имеет самое высокое качество и узнаем ее параметры:"
   ]
  },
  {
   "cell_type": "code",
   "execution_count": 28,
   "metadata": {
    "scrolled": true
   },
   "outputs": [
    {
     "data": {
      "text/plain": [
       "'Наилучшая модель:'"
      ]
     },
     "metadata": {},
     "output_type": "display_data"
    },
    {
     "data": {
      "text/html": [
       "<div>\n",
       "<style scoped>\n",
       "    .dataframe tbody tr th:only-of-type {\n",
       "        vertical-align: middle;\n",
       "    }\n",
       "\n",
       "    .dataframe tbody tr th {\n",
       "        vertical-align: top;\n",
       "    }\n",
       "\n",
       "    .dataframe thead th {\n",
       "        text-align: right;\n",
       "    }\n",
       "</style>\n",
       "<table border=\"1\" class=\"dataframe\">\n",
       "  <thead>\n",
       "    <tr style=\"text-align: right;\">\n",
       "      <th></th>\n",
       "      <th>name</th>\n",
       "      <th>params</th>\n",
       "      <th>score</th>\n",
       "    </tr>\n",
       "  </thead>\n",
       "  <tbody>\n",
       "    <tr>\n",
       "      <th>1</th>\n",
       "      <td>Random Forest</td>\n",
       "      <td>{'max_depth': 10, 'min_samples_leaf': 2, 'min_...</td>\n",
       "      <td>0.867333</td>\n",
       "    </tr>\n",
       "  </tbody>\n",
       "</table>\n",
       "</div>"
      ],
      "text/plain": [
       "            name                                             params     score\n",
       "1  Random Forest  {'max_depth': 10, 'min_samples_leaf': 2, 'min_...  0.867333"
      ]
     },
     "metadata": {},
     "output_type": "display_data"
    }
   ],
   "source": [
    "display('Наилучшая модель:', model_scores.sort_values(by='score', ascending=False).head(1))"
   ]
  },
  {
   "cell_type": "markdown",
   "metadata": {},
   "source": [
    "Поскольку классы несбалансированны, оценка может быть недостаточно адекватной. Рассчитаем матрицу ошибок для модели:"
   ]
  },
  {
   "cell_type": "code",
   "execution_count": 29,
   "metadata": {},
   "outputs": [
    {
     "data": {
      "text/plain": [
       "<AxesSubplot:>"
      ]
     },
     "execution_count": 29,
     "metadata": {},
     "output_type": "execute_result"
    },
    {
     "data": {
      "image/png": "[encoded data removed]",
      "text/plain": [
       "<Figure size 432x288 with 2 Axes>"
      ]
     },
     "metadata": {
      "needs_background": "light"
     },
     "output_type": "display_data"
    }
   ],
   "source": [
    "tn_fp_fn_tp = confusion_matrix(target_valid, forest.predict(features_valid), labels=[0,1])\n",
    "sns.heatmap(tn_fp_fn_tp, annot=True, annot_kws={\"size\": 8}, fmt='.4g', square=True, cmap='coolwarm')"
   ]
  },
  {
   "cell_type": "markdown",
   "metadata": {},
   "source": [
    "Заметим, что в данной модели 234 ложноотрицательных ответов, когда вместо 1 предсказан 0."
   ]
  },
  {
   "cell_type": "code",
   "execution_count": 31,
   "metadata": {
    "scrolled": true
   },
   "outputs": [
    {
     "data": {
      "text/plain": [
       "0.8141592920353983"
      ]
     },
     "execution_count": 31,
     "metadata": {},
     "output_type": "execute_result"
    }
   ],
   "source": [
    "# точность\n",
    "precision = precision_score(target_valid, forest.predict(features_valid), pos_label=1)\n",
    "precision"
   ]
  },
  {
   "cell_type": "code",
   "execution_count": 32,
   "metadata": {},
   "outputs": [
    {
     "data": {
      "text/plain": [
       "0.44019138755980863"
      ]
     },
     "execution_count": 32,
     "metadata": {},
     "output_type": "execute_result"
    }
   ],
   "source": [
    "# полнота\n",
    "recall = recall_score(target_valid, forest.predict(features_valid), pos_label=1)\n",
    "recall"
   ]
  },
  {
   "cell_type": "code",
   "execution_count": 34,
   "metadata": {},
   "outputs": [
    {
     "data": {
      "text/plain": [
       "0.5714285714285714"
      ]
     },
     "execution_count": 34,
     "metadata": {},
     "output_type": "execute_result"
    }
   ],
   "source": [
    "f1 = f1_score(target_valid, forest.predict(features_valid), pos_label=1)\n",
    "f1"
   ]
  },
  {
   "cell_type": "markdown",
   "metadata": {},
   "source": [
    "Итак, модель имеет точность выше 0,81, но полнота низкая. Вследствие этого *f1-мера* приняла значение 0,57. Модель требует доработки."
   ]
  },
  {
   "cell_type": "markdown",
   "metadata": {},
   "source": [
    "**Вывод**\n",
    "\n",
    "Были рассмотрены три модели, каждой подобраны оптимальные параметры.\n",
    "Таким образом, без учета дисбаланса лучше всей показала себя модель RandomForest:\n",
    "- {'max_depth': 10,\n",
    "  'min_samples_leaf': 2,\n",
    "  'min_samples_split': 10,\n",
    "  'n_estimators': 120})"
   ]
  },
  {
   "cell_type": "markdown",
   "metadata": {},
   "source": [
    "## Борьба с дисбалансом"
   ]
  },
  {
   "cell_type": "markdown",
   "metadata": {},
   "source": [
    "Обратимся еще раз к распределению классов в модели:"
   ]
  },
  {
   "cell_type": "code",
   "execution_count": 35,
   "metadata": {},
   "outputs": [
    {
     "data": {
      "text/plain": [
       "0    0.7963\n",
       "1    0.2037\n",
       "Name: exited, dtype: float64"
      ]
     },
     "execution_count": 35,
     "metadata": {},
     "output_type": "execute_result"
    }
   ],
   "source": [
    "class_frequency"
   ]
  },
  {
   "cell_type": "markdown",
   "metadata": {},
   "source": [
    "### Увеличение выборки"
   ]
  },
  {
   "cell_type": "markdown",
   "metadata": {},
   "source": [
    "Для уменьшения дисбаланса, применим увеличение выборки:"
   ]
  },
  {
   "cell_type": "code",
   "execution_count": 56,
   "metadata": {},
   "outputs": [],
   "source": [
    "def upsample(features, target, repeat):\n",
    "    features_zeros = features[target == 0]\n",
    "    features_ones = features[target == 1]\n",
    "    target_zeros = target[target == 0]\n",
    "    target_ones = target[target == 1]\n",
    "\n",
    "    features_upsampled = pd.concat([features_zeros] + [features_ones] * repeat)\n",
    "    target_upsampled = pd.concat([target_zeros] + [target_ones] * repeat)\n",
    "    \n",
    "    features_upsampled, target_upsampled = shuffle(\n",
    "        features_upsampled, target_upsampled, random_state=12345)\n",
    "    \n",
    "    return features_upsampled, target_upsampled"
   ]
  },
  {
   "cell_type": "code",
   "execution_count": 58,
   "metadata": {},
   "outputs": [],
   "source": [
    "features_upsampled, target_upsampled = upsample(features_train, target_train, 3)"
   ]
  },
  {
   "cell_type": "markdown",
   "metadata": {},
   "source": [
    "Обучим модели на новых данных:"
   ]
  },
  {
   "cell_type": "code",
   "execution_count": 59,
   "metadata": {},
   "outputs": [
    {
     "name": "stdout",
     "output_type": "stream",
     "text": [
      "Оценка наилучшей модели Логистической регрессии: 0.702\n"
     ]
    }
   ],
   "source": [
    "logic_up = LogisticRegression(random_state=12345, solver='liblinear', class_weight='balanced')\n",
    "logic_up.fit(features_upsampled, target_upsampled)\n",
    "l_score = logic_up.score(features_valid, target_valid)\n",
    "print(\"Оценка наилучшей модели Логистической регрессии:\", l_score)"
   ]
  },
  {
   "cell_type": "code",
   "execution_count": 60,
   "metadata": {},
   "outputs": [
    {
     "name": "stdout",
     "output_type": "stream",
     "text": [
      "Наилучшая модель Pешающего дерева: 0.891921 имеет параметры {'criterion': 'gini', 'max_depth': 15, 'min_samples_split': 2}\n"
     ]
    }
   ],
   "source": [
    "tree_model = DecisionTreeClassifier(random_state=12345)\n",
    "params= {'criterion': ['gini', 'entropy'],\n",
    "         'min_samples_split': [2,5,10],\n",
    "         'max_depth': [5,9,12,15]}\n",
    "tree_up = GridSearchCV(tree_model, params, cv=5)\n",
    "tree_up.fit(features_upsampled, target_upsampled)\n",
    "print(\"Наилучшая модель Pешающего дерева: %f имеет параметры %s\" %(tree_up.best_score_, tree_up.best_params_))"
   ]
  },
  {
   "cell_type": "code",
   "execution_count": 61,
   "metadata": {},
   "outputs": [
    {
     "name": "stdout",
     "output_type": "stream",
     "text": [
      "Наилучшая модель Случайного леса: 0.916229 с параметрами {'max_depth': 15, 'min_samples_leaf': 2, 'min_samples_split': 2, 'n_estimators': 100}\n"
     ]
    }
   ],
   "source": [
    "forest_model = RandomForestClassifier(random_state=12345)\n",
    "param = { 'n_estimators': [60, 80, 100],\n",
    "              'max_depth': [5,10,15],\n",
    "              'min_samples_leaf': [2,4],\n",
    "              'min_samples_split': [2,4]}\n",
    "forest_up = GridSearchCV(forest_model, param, cv=5)\n",
    "forest_up.fit(features_upsampled, target_upsampled)\n",
    "print(\"Наилучшая модель Случайного леса: %f с параметрами %s\" % (forest_up.best_score_, forest_up.best_params_))"
   ]
  },
  {
   "cell_type": "markdown",
   "metadata": {},
   "source": [
    "При увеличении выборки лучше всего показала себя модель Случайного леса *forest_up* с параметрами:\n",
    "- {'max_depth': 15, 'min_samples_leaf': 2, 'min_samples_split': 2, 'n_estimators': 100}"
   ]
  },
  {
   "cell_type": "code",
   "execution_count": 62,
   "metadata": {
    "scrolled": false
   },
   "outputs": [
    {
     "data": {
      "text/plain": [
       "0.991845196959226"
      ]
     },
     "execution_count": 62,
     "metadata": {},
     "output_type": "execute_result"
    }
   ],
   "source": [
    "f1_up = f1_score(target_upsampled, forest_up.predict(features_upsampled), pos_label=1)\n",
    "f1_up"
   ]
  },
  {
   "cell_type": "code",
   "execution_count": 63,
   "metadata": {},
   "outputs": [],
   "source": [
    "up_probabilities_valid = forest_up.predict_proba(features_upsampled)"
   ]
  },
  {
   "cell_type": "code",
   "execution_count": 64,
   "metadata": {},
   "outputs": [
    {
     "data": {
      "text/plain": [
       "0.9998687687796401"
      ]
     },
     "execution_count": 64,
     "metadata": {},
     "output_type": "execute_result"
    }
   ],
   "source": [
    "auc_roc_up = roc_auc_score(target_upsampled, up_probabilities_valid[:, 1])\n",
    "auc_roc_up"
   ]
  },
  {
   "cell_type": "markdown",
   "metadata": {},
   "source": [
    "*f1_мера* достигла значения 0,98 при увеличении выборки, *auc_roc_up* приняла значение 0.999"
   ]
  },
  {
   "cell_type": "markdown",
   "metadata": {},
   "source": [
    "### Уменьшение выборки"
   ]
  },
  {
   "cell_type": "code",
   "execution_count": 44,
   "metadata": {},
   "outputs": [],
   "source": [
    "def downsample(features, target, fraction):\n",
    "    features_zeros = features[target == 0]\n",
    "    features_ones = features[target == 1]\n",
    "    target_zeros = target[target == 0]\n",
    "    target_ones = target[target == 1]\n",
    "    \n",
    "    features_zeros = features_zeros.sample(frac = fraction, random_state=12345)\n",
    "    target_zeros = target_zeros.sample(frac= fraction, random_state=12345)\n",
    "\n",
    "    features_downsampled = pd.concat([features_zeros] + [features_ones])\n",
    "    target_downsampled = pd.concat([target_zeros] + [target_ones])\n",
    "    features_downsampled, target_downsampled = shuffle(features_downsampled, target_downsampled, random_state=12345)\n",
    "    return features_downsampled, target_downsampled"
   ]
  },
  {
   "cell_type": "code",
   "execution_count": 45,
   "metadata": {},
   "outputs": [],
   "source": [
    "features_downsampled, target_downsampled = downsample(features_train, target_train, 0.5)"
   ]
  },
  {
   "cell_type": "markdown",
   "metadata": {},
   "source": [
    "На уменьшенной выборке обучим модель:"
   ]
  },
  {
   "cell_type": "code",
   "execution_count": 46,
   "metadata": {},
   "outputs": [
    {
     "name": "stdout",
     "output_type": "stream",
     "text": [
      "Оценка наилучшей модели Логистической регрессии: 0.7035\n"
     ]
    }
   ],
   "source": [
    "logic_down = LogisticRegression(random_state=12345, solver='liblinear', class_weight='balanced')\n",
    "logic_down.fit(features_downsampled, target_downsampled)\n",
    "l_score = logic_down.score(features_valid, target_valid)\n",
    "print(\"Оценка наилучшей модели Логистической регрессии:\", l_score)"
   ]
  },
  {
   "cell_type": "code",
   "execution_count": 47,
   "metadata": {},
   "outputs": [
    {
     "name": "stdout",
     "output_type": "stream",
     "text": [
      "Наилучшая модель Pешающего дерева: 0.787658 имеет параметры {'criterion': 'gini', 'max_depth': 5, 'min_samples_split': 10}\n"
     ]
    }
   ],
   "source": [
    "tree_model = DecisionTreeClassifier(random_state=12345)\n",
    "params= {'criterion': ['gini', 'entropy'],\n",
    "         'min_samples_split': [2,5,10],\n",
    "         'max_depth': [5,9,12,15]}\n",
    "tree_down = GridSearchCV(tree_model, params, cv=3)\n",
    "tree_down.fit(features_downsampled, target_downsampled)\n",
    "print(\"Наилучшая модель Pешающего дерева: %f имеет параметры %s\" %(tree_down.best_score_, tree_down.best_params_))"
   ]
  },
  {
   "cell_type": "code",
   "execution_count": 48,
   "metadata": {},
   "outputs": [
    {
     "name": "stdout",
     "output_type": "stream",
     "text": [
      "Наилучшая модель Случайного леса: 0.809617 с параметрами {'max_depth': 15, 'min_samples_leaf': 2, 'min_samples_split': 2, 'n_estimators': 100}\n"
     ]
    }
   ],
   "source": [
    "forest_model = RandomForestClassifier(random_state=12345)\n",
    "param = { 'n_estimators': [60, 80, 100],\n",
    "              'max_depth': [5,10,15],\n",
    "              'min_samples_leaf': [2,4],\n",
    "              'min_samples_split': [2,4]}\n",
    "forest_down = GridSearchCV(forest_model, param, cv=3)\n",
    "forest_down.fit(features_downsampled, target_downsampled)\n",
    "print(\"Наилучшая модель Случайного леса: %f с параметрами %s\" % (forest_down.best_score_, forest_down.best_params_))"
   ]
  },
  {
   "cell_type": "markdown",
   "metadata": {},
   "source": [
    "Итак, заметим что уменьшение и без того незначительного набора данных привело к тому, что лучшая модель *forest_down* Случайного леса имеет гиперпараметры:\n",
    "- {'max_depth': 15, 'min_samples_leaf': 2, 'min_samples_split': 2, 'n_estimators': 100}"
   ]
  },
  {
   "cell_type": "code",
   "execution_count": 49,
   "metadata": {},
   "outputs": [
    {
     "data": {
      "text/plain": [
       "0.9407634927599824"
      ]
     },
     "execution_count": 49,
     "metadata": {},
     "output_type": "execute_result"
    }
   ],
   "source": [
    "f1_down = f1_score(target_downsampled, forest_down.predict(features_downsampled), pos_label=1)\n",
    "f1_down"
   ]
  },
  {
   "cell_type": "code",
   "execution_count": 50,
   "metadata": {},
   "outputs": [],
   "source": [
    "down_probabilities_valid = forest_down.predict_proba(features_downsampled)"
   ]
  },
  {
   "cell_type": "code",
   "execution_count": 51,
   "metadata": {},
   "outputs": [
    {
     "data": {
      "text/plain": [
       "0.997592585888571"
      ]
     },
     "execution_count": 51,
     "metadata": {},
     "output_type": "execute_result"
    }
   ],
   "source": [
    "auc_roc_down = roc_auc_score(target_downsampled, down_probabilities_valid[:, 1])\n",
    "auc_roc_down"
   ]
  },
  {
   "cell_type": "code",
   "execution_count": 52,
   "metadata": {},
   "outputs": [
    {
     "data": {
      "text/plain": [
       "True"
      ]
     },
     "execution_count": 52,
     "metadata": {},
     "output_type": "execute_result"
    }
   ],
   "source": [
    "(f1_up > f1_down) & (auc_roc_up > auc_roc_down)"
   ]
  },
  {
   "cell_type": "markdown",
   "metadata": {},
   "source": [
    "Итак, при уменьшении выборки значения *f1* и *auc_roc* ухудшились. Поэтому, остановимся на способе увеличения выборки. Где лучшей оказалась модель forest_up."
   ]
  },
  {
   "cell_type": "markdown",
   "metadata": {},
   "source": [
    "## Тестирование модели"
   ]
  },
  {
   "cell_type": "markdown",
   "metadata": {},
   "source": [
    "Протестируем модель *forest_up*, обученную в результате увеличения выборки:"
   ]
  },
  {
   "cell_type": "code",
   "execution_count": 65,
   "metadata": {},
   "outputs": [],
   "source": [
    "predict_test = forest_up.predict(features_test)\n",
    "probabilities_test = forest_up.predict_proba(features_test)"
   ]
  },
  {
   "cell_type": "code",
   "execution_count": 66,
   "metadata": {
    "scrolled": true
   },
   "outputs": [
    {
     "name": "stdout",
     "output_type": "stream",
     "text": [
      "F1 наилучшей модели на тестовой выборке: 0.6155778894472361\n"
     ]
    }
   ],
   "source": [
    "f1_test = f1_score(target_test, predict_test)\n",
    "print(\"F1 наилучшей модели на тестовой выборке:\", f1_test)"
   ]
  },
  {
   "cell_type": "code",
   "execution_count": 67,
   "metadata": {},
   "outputs": [
    {
     "data": {
      "text/plain": [
       "0.8536827414173304"
      ]
     },
     "execution_count": 67,
     "metadata": {},
     "output_type": "execute_result"
    }
   ],
   "source": [
    "auc_roc_test = roc_auc_score(target_test, probabilities_test[:, 1])\n",
    "auc_roc_test"
   ]
  },
  {
   "cell_type": "markdown",
   "metadata": {},
   "source": [
    "Итак, при тестировании f1 достиг значения 0,61; auc_roc - 0,85."
   ]
  },
  {
   "cell_type": "markdown",
   "metadata": {},
   "source": [
    "**Вывод**\n",
    "Для прогнозирования отока клиентов была решена задача бинарной классификации:\n",
    "\n",
    "- на этапе исследования несбалансированных данных лучшая модель Случайного леса с параметрами\n",
    " {'max_depth': 10, 'min_samples_leaf': 2, 'min_samples_split': 10, 'n_estimators': 120}\n",
    "  Здесь f1 = 0,57.\n",
    "- на этапе балансирования данных выяснилось, что модели лучше реагируют на увеличение выборки. Лучше всех показала себя модель Случайного леса с параметрами \n",
    "{'max_depth': 15, 'min_samples_leaf': 2, 'min_samples_split': 2, 'n_estimators': 100}\n",
    "Здесь f1-мера достигла значения 0,98.\n",
    "- при тестировании данной модели f1 достиг значения 0,61; auc_roc - 0,85.\n",
    "\n",
    "Таким образом, модель далека от случайной, а значит пригодна для прогнозирования."
   ]
  },
  {
   "cell_type": "markdown",
   "metadata": {},
   "source": [
    "## Чек-лист готовности проекта"
   ]
  },
  {
   "cell_type": "markdown",
   "metadata": {},
   "source": [
    "Поставьте 'x' в выполненных пунктах. Далее нажмите Shift+Enter."
   ]
  },
  {
   "cell_type": "markdown",
   "metadata": {},
   "source": [
    "- [x]  Jupyter Notebook открыт\n",
    "- [x]  Весь код выполняется без ошибок\n",
    "- [x]  Ячейки с кодом расположены в порядке исполнения\n",
    "- [x]  Выполнен шаг 1: данные подготовлены\n",
    "- [x]  Выполнен шаг 2: задача исследована\n",
    "    - [x]  Исследован баланс классов\n",
    "    - [x]  Изучены модели без учёта дисбаланса\n",
    "    - [x]  Написаны выводы по результатам исследования\n",
    "- [x]  Выполнен шаг 3: учтён дисбаланс\n",
    "    - [x]  Применено несколько способов борьбы с дисбалансом\n",
    "    - [x]  Написаны выводы по результатам исследования\n",
    "- [x]  Выполнен шаг 4: проведено тестирование\n",
    "- [x]  Удалось достичь *F1*-меры не менее 0.59\n",
    "- [x]  Исследована метрика *AUC-ROC*"
   ]
  },
  {
   "cell_type": "code",
   "execution_count": null,
   "metadata": {},
   "outputs": [],
   "source": []
  }
 ],
 "metadata": {
  "ExecuteTimeLog": [
   {
    "duration": 1531,
    "start_time": "2022-05-18T12:06:05.975Z"
   },
   {
    "duration": 158,
    "start_time": "2022-05-18T12:06:13.193Z"
   },
   {
    "duration": 23,
    "start_time": "2022-05-18T12:06:22.805Z"
   },
   {
    "duration": 15,
    "start_time": "2022-05-18T12:06:34.572Z"
   },
   {
    "duration": 114,
    "start_time": "2022-05-18T12:07:45.703Z"
   },
   {
    "duration": 9,
    "start_time": "2022-05-18T12:08:23.947Z"
   },
   {
    "duration": 133,
    "start_time": "2022-05-18T12:13:41.177Z"
   },
   {
    "duration": 125,
    "start_time": "2022-05-18T12:36:05.726Z"
   },
   {
    "duration": 13,
    "start_time": "2022-05-18T12:36:10.822Z"
   },
   {
    "duration": 11,
    "start_time": "2022-05-18T12:36:14.808Z"
   },
   {
    "duration": 13,
    "start_time": "2022-05-18T12:37:32.234Z"
   },
   {
    "duration": 12,
    "start_time": "2022-05-18T12:40:13.664Z"
   },
   {
    "duration": 10,
    "start_time": "2022-05-18T12:40:20.980Z"
   },
   {
    "duration": 42,
    "start_time": "2022-05-18T12:40:36.064Z"
   },
   {
    "duration": 12,
    "start_time": "2022-05-18T12:48:23.273Z"
   },
   {
    "duration": 22,
    "start_time": "2022-05-18T12:48:31.146Z"
   },
   {
    "duration": 20,
    "start_time": "2022-05-18T12:48:46.413Z"
   },
   {
    "duration": 4,
    "start_time": "2022-05-18T12:49:02.417Z"
   },
   {
    "duration": 24,
    "start_time": "2022-05-18T12:49:09.046Z"
   },
   {
    "duration": 32,
    "start_time": "2022-05-18T12:49:23.350Z"
   },
   {
    "duration": 4,
    "start_time": "2022-05-18T12:49:32.695Z"
   },
   {
    "duration": 50,
    "start_time": "2022-05-18T12:49:32.701Z"
   },
   {
    "duration": 19,
    "start_time": "2022-05-18T12:49:32.753Z"
   },
   {
    "duration": 24,
    "start_time": "2022-05-18T12:49:32.773Z"
   },
   {
    "duration": 5,
    "start_time": "2022-05-18T12:49:32.800Z"
   },
   {
    "duration": 285,
    "start_time": "2022-05-18T12:49:32.808Z"
   },
   {
    "duration": 646,
    "start_time": "2022-05-18T12:49:33.095Z"
   },
   {
    "duration": 0,
    "start_time": "2022-05-18T12:49:33.743Z"
   },
   {
    "duration": 31,
    "start_time": "2022-05-18T12:50:06.323Z"
   },
   {
    "duration": 19,
    "start_time": "2022-05-18T12:50:50.884Z"
   },
   {
    "duration": 21,
    "start_time": "2022-05-18T12:51:18.643Z"
   },
   {
    "duration": 17,
    "start_time": "2022-05-18T12:52:56.948Z"
   },
   {
    "duration": 25,
    "start_time": "2022-05-18T12:53:28.954Z"
   },
   {
    "duration": 20,
    "start_time": "2022-05-18T13:02:23.688Z"
   },
   {
    "duration": 10,
    "start_time": "2022-05-18T13:10:15.573Z"
   },
   {
    "duration": 5,
    "start_time": "2022-05-18T13:10:51.785Z"
   },
   {
    "duration": 12,
    "start_time": "2022-05-18T13:10:54.424Z"
   },
   {
    "duration": 13,
    "start_time": "2022-05-18T13:11:09.093Z"
   },
   {
    "duration": 12,
    "start_time": "2022-05-18T13:11:27.207Z"
   },
   {
    "duration": 3,
    "start_time": "2022-05-18T13:16:14.098Z"
   },
   {
    "duration": 41,
    "start_time": "2022-05-18T13:16:14.105Z"
   },
   {
    "duration": 11,
    "start_time": "2022-05-18T13:16:14.148Z"
   },
   {
    "duration": 16,
    "start_time": "2022-05-18T13:16:14.161Z"
   },
   {
    "duration": 3,
    "start_time": "2022-05-18T13:16:14.180Z"
   },
   {
    "duration": 18,
    "start_time": "2022-05-18T13:16:14.184Z"
   },
   {
    "duration": 8,
    "start_time": "2022-05-18T13:16:14.205Z"
   },
   {
    "duration": 24,
    "start_time": "2022-05-18T13:16:14.214Z"
   },
   {
    "duration": 22,
    "start_time": "2022-05-18T13:17:39.306Z"
   },
   {
    "duration": 4,
    "start_time": "2022-05-18T13:17:59.421Z"
   },
   {
    "duration": 12,
    "start_time": "2022-05-18T13:18:00.286Z"
   },
   {
    "duration": 50,
    "start_time": "2022-05-18T15:38:39.409Z"
   },
   {
    "duration": 1584,
    "start_time": "2022-05-18T15:38:44.467Z"
   },
   {
    "duration": 167,
    "start_time": "2022-05-18T15:38:46.053Z"
   },
   {
    "duration": 19,
    "start_time": "2022-05-18T15:38:46.221Z"
   },
   {
    "duration": 13,
    "start_time": "2022-05-18T15:38:46.241Z"
   },
   {
    "duration": 23,
    "start_time": "2022-05-18T15:38:46.256Z"
   },
   {
    "duration": 4,
    "start_time": "2022-05-18T15:38:46.281Z"
   },
   {
    "duration": 120,
    "start_time": "2022-05-18T15:38:46.287Z"
   },
   {
    "duration": 25,
    "start_time": "2022-05-18T15:39:29.728Z"
   },
   {
    "duration": 786,
    "start_time": "2022-05-18T15:39:54.423Z"
   },
   {
    "duration": 747,
    "start_time": "2022-05-18T15:40:20.381Z"
   },
   {
    "duration": 860,
    "start_time": "2022-05-18T15:40:35.137Z"
   },
   {
    "duration": 21,
    "start_time": "2022-05-18T15:40:44.466Z"
   },
   {
    "duration": 5,
    "start_time": "2022-05-18T15:41:24.412Z"
   },
   {
    "duration": 5,
    "start_time": "2022-05-18T15:41:26.144Z"
   },
   {
    "duration": 7,
    "start_time": "2022-05-18T15:41:30.972Z"
   },
   {
    "duration": 5,
    "start_time": "2022-05-18T15:41:47.044Z"
   },
   {
    "duration": 5,
    "start_time": "2022-05-18T15:42:12.304Z"
   },
   {
    "duration": 5,
    "start_time": "2022-05-18T15:42:38.293Z"
   },
   {
    "duration": 5,
    "start_time": "2022-05-18T15:42:53.754Z"
   },
   {
    "duration": 4,
    "start_time": "2022-05-18T15:43:12.234Z"
   },
   {
    "duration": 6,
    "start_time": "2022-05-18T15:43:41.412Z"
   },
   {
    "duration": 5,
    "start_time": "2022-05-18T15:43:59.742Z"
   },
   {
    "duration": 5,
    "start_time": "2022-05-18T15:44:07.121Z"
   },
   {
    "duration": 5,
    "start_time": "2022-05-18T15:44:16.421Z"
   },
   {
    "duration": 5,
    "start_time": "2022-05-18T15:44:24.285Z"
   },
   {
    "duration": 4,
    "start_time": "2022-05-18T15:44:37.090Z"
   },
   {
    "duration": 6,
    "start_time": "2022-05-18T15:48:54.122Z"
   },
   {
    "duration": 6,
    "start_time": "2022-05-18T15:49:01.163Z"
   },
   {
    "duration": 4,
    "start_time": "2022-05-18T15:49:18.863Z"
   },
   {
    "duration": 6,
    "start_time": "2022-05-18T15:50:23.157Z"
   },
   {
    "duration": 9,
    "start_time": "2022-05-18T15:50:43.445Z"
   },
   {
    "duration": 21,
    "start_time": "2022-05-18T15:51:05.097Z"
   },
   {
    "duration": 310,
    "start_time": "2022-05-18T15:52:32.356Z"
   },
   {
    "duration": 22,
    "start_time": "2022-05-18T15:52:55.746Z"
   },
   {
    "duration": 17,
    "start_time": "2022-05-18T15:57:14.179Z"
   },
   {
    "duration": 20,
    "start_time": "2022-05-18T15:57:23.272Z"
   },
   {
    "duration": 242,
    "start_time": "2022-05-18T15:57:31.817Z"
   },
   {
    "duration": 14,
    "start_time": "2022-05-18T15:57:41.273Z"
   },
   {
    "duration": 30,
    "start_time": "2022-05-18T15:57:45.719Z"
   },
   {
    "duration": 5,
    "start_time": "2022-05-18T15:58:22.562Z"
   },
   {
    "duration": 9,
    "start_time": "2022-05-18T15:58:32.641Z"
   },
   {
    "duration": 6,
    "start_time": "2022-05-18T15:58:46.369Z"
   },
   {
    "duration": 270,
    "start_time": "2022-05-18T15:59:25.916Z"
   },
   {
    "duration": 21,
    "start_time": "2022-05-18T15:59:34.743Z"
   },
   {
    "duration": 21,
    "start_time": "2022-05-18T15:59:49.288Z"
   },
   {
    "duration": 22,
    "start_time": "2022-05-18T16:00:48.440Z"
   },
   {
    "duration": 22,
    "start_time": "2022-05-18T16:01:36.600Z"
   },
   {
    "duration": 23,
    "start_time": "2022-05-18T16:02:15.167Z"
   },
   {
    "duration": 22,
    "start_time": "2022-05-18T16:02:34.555Z"
   },
   {
    "duration": 22,
    "start_time": "2022-05-18T16:03:26.280Z"
   },
   {
    "duration": 28,
    "start_time": "2022-05-18T16:03:29.542Z"
   },
   {
    "duration": 22,
    "start_time": "2022-05-18T16:03:42.864Z"
   },
   {
    "duration": 5,
    "start_time": "2022-05-18T16:04:20.592Z"
   },
   {
    "duration": 5,
    "start_time": "2022-05-18T16:05:38.815Z"
   },
   {
    "duration": 24,
    "start_time": "2022-05-18T16:06:21.618Z"
   },
   {
    "duration": 24,
    "start_time": "2022-05-18T16:06:32.593Z"
   },
   {
    "duration": 5,
    "start_time": "2022-05-18T16:07:42.579Z"
   },
   {
    "duration": 5,
    "start_time": "2022-05-18T16:07:47.357Z"
   },
   {
    "duration": 23,
    "start_time": "2022-05-18T16:10:05.898Z"
   },
   {
    "duration": 14,
    "start_time": "2022-05-18T16:16:05.983Z"
   },
   {
    "duration": 3,
    "start_time": "2022-05-18T16:16:12.255Z"
   },
   {
    "duration": 52,
    "start_time": "2022-05-18T16:16:12.259Z"
   },
   {
    "duration": 11,
    "start_time": "2022-05-18T16:16:12.313Z"
   },
   {
    "duration": 13,
    "start_time": "2022-05-18T16:16:12.326Z"
   },
   {
    "duration": 3,
    "start_time": "2022-05-18T16:16:12.341Z"
   },
   {
    "duration": 8,
    "start_time": "2022-05-18T16:16:12.346Z"
   },
   {
    "duration": 5,
    "start_time": "2022-05-18T16:16:12.355Z"
   },
   {
    "duration": 21,
    "start_time": "2022-05-18T16:16:12.361Z"
   },
   {
    "duration": 20,
    "start_time": "2022-05-18T16:16:37.836Z"
   },
   {
    "duration": 4,
    "start_time": "2022-05-18T16:17:34.246Z"
   },
   {
    "duration": 5,
    "start_time": "2022-05-18T16:17:49.776Z"
   },
   {
    "duration": 10,
    "start_time": "2022-05-18T16:18:07.283Z"
   },
   {
    "duration": 3,
    "start_time": "2022-05-18T16:18:14.764Z"
   },
   {
    "duration": 45,
    "start_time": "2022-05-18T16:18:14.769Z"
   },
   {
    "duration": 11,
    "start_time": "2022-05-18T16:18:14.816Z"
   },
   {
    "duration": 13,
    "start_time": "2022-05-18T16:18:14.828Z"
   },
   {
    "duration": 3,
    "start_time": "2022-05-18T16:18:14.843Z"
   },
   {
    "duration": 5,
    "start_time": "2022-05-18T16:18:14.847Z"
   },
   {
    "duration": 5,
    "start_time": "2022-05-18T16:18:14.853Z"
   },
   {
    "duration": 17,
    "start_time": "2022-05-18T16:18:14.859Z"
   },
   {
    "duration": 28,
    "start_time": "2022-05-18T16:18:14.878Z"
   },
   {
    "duration": 19,
    "start_time": "2022-05-18T16:18:14.912Z"
   },
   {
    "duration": 212,
    "start_time": "2022-05-18T16:21:56.322Z"
   },
   {
    "duration": 4,
    "start_time": "2022-05-18T16:23:30.952Z"
   },
   {
    "duration": 204,
    "start_time": "2022-05-18T16:23:32.574Z"
   },
   {
    "duration": 3,
    "start_time": "2022-05-18T16:24:35.191Z"
   },
   {
    "duration": 43,
    "start_time": "2022-05-18T16:24:35.195Z"
   },
   {
    "duration": 12,
    "start_time": "2022-05-18T16:24:35.240Z"
   },
   {
    "duration": 13,
    "start_time": "2022-05-18T16:24:35.253Z"
   },
   {
    "duration": 3,
    "start_time": "2022-05-18T16:24:35.268Z"
   },
   {
    "duration": 6,
    "start_time": "2022-05-18T16:24:35.273Z"
   },
   {
    "duration": 6,
    "start_time": "2022-05-18T16:24:35.280Z"
   },
   {
    "duration": 28,
    "start_time": "2022-05-18T16:24:35.288Z"
   },
   {
    "duration": 3,
    "start_time": "2022-05-18T16:24:35.318Z"
   },
   {
    "duration": 214,
    "start_time": "2022-05-18T16:24:35.322Z"
   },
   {
    "duration": 3,
    "start_time": "2022-05-18T16:28:26.742Z"
   },
   {
    "duration": 216,
    "start_time": "2022-05-18T16:28:28.795Z"
   },
   {
    "duration": 4,
    "start_time": "2022-05-18T16:28:48.017Z"
   },
   {
    "duration": 47,
    "start_time": "2022-05-18T16:28:48.022Z"
   },
   {
    "duration": 12,
    "start_time": "2022-05-18T16:28:48.070Z"
   },
   {
    "duration": 12,
    "start_time": "2022-05-18T16:28:48.083Z"
   },
   {
    "duration": 6,
    "start_time": "2022-05-18T16:28:48.097Z"
   },
   {
    "duration": 11,
    "start_time": "2022-05-18T16:28:48.106Z"
   },
   {
    "duration": 7,
    "start_time": "2022-05-18T16:28:48.119Z"
   },
   {
    "duration": 19,
    "start_time": "2022-05-18T16:28:48.127Z"
   },
   {
    "duration": 4,
    "start_time": "2022-05-18T16:28:48.147Z"
   },
   {
    "duration": 215,
    "start_time": "2022-05-18T16:28:48.152Z"
   },
   {
    "duration": 4,
    "start_time": "2022-05-18T16:29:02.018Z"
   },
   {
    "duration": 225,
    "start_time": "2022-05-18T16:29:03.542Z"
   },
   {
    "duration": 3,
    "start_time": "2022-05-18T16:29:10.340Z"
   },
   {
    "duration": 49,
    "start_time": "2022-05-18T16:29:10.345Z"
   },
   {
    "duration": 21,
    "start_time": "2022-05-18T16:29:10.396Z"
   },
   {
    "duration": 19,
    "start_time": "2022-05-18T16:29:10.419Z"
   },
   {
    "duration": 26,
    "start_time": "2022-05-18T16:29:10.440Z"
   },
   {
    "duration": 8,
    "start_time": "2022-05-18T16:29:10.468Z"
   },
   {
    "duration": 7,
    "start_time": "2022-05-18T16:29:10.478Z"
   },
   {
    "duration": 26,
    "start_time": "2022-05-18T16:29:10.487Z"
   },
   {
    "duration": 4,
    "start_time": "2022-05-18T16:29:10.514Z"
   },
   {
    "duration": 217,
    "start_time": "2022-05-18T16:29:10.520Z"
   },
   {
    "duration": 3,
    "start_time": "2022-05-18T16:37:00.464Z"
   },
   {
    "duration": 190,
    "start_time": "2022-05-18T16:41:56.226Z"
   },
   {
    "duration": 127,
    "start_time": "2022-05-18T16:42:47.661Z"
   },
   {
    "duration": 1539,
    "start_time": "2022-05-19T07:40:30.935Z"
   },
   {
    "duration": 166,
    "start_time": "2022-05-19T07:40:32.480Z"
   },
   {
    "duration": 24,
    "start_time": "2022-05-19T07:40:32.648Z"
   },
   {
    "duration": 48,
    "start_time": "2022-05-19T07:40:32.674Z"
   },
   {
    "duration": 22,
    "start_time": "2022-05-19T07:40:32.723Z"
   },
   {
    "duration": 61,
    "start_time": "2022-05-19T07:40:32.747Z"
   },
   {
    "duration": 31,
    "start_time": "2022-05-19T07:40:32.810Z"
   },
   {
    "duration": 60,
    "start_time": "2022-05-19T07:40:32.843Z"
   },
   {
    "duration": 21,
    "start_time": "2022-05-19T07:40:32.904Z"
   },
   {
    "duration": 218,
    "start_time": "2022-05-19T07:40:32.928Z"
   },
   {
    "duration": 149,
    "start_time": "2022-05-19T07:40:33.148Z"
   },
   {
    "duration": 144,
    "start_time": "2022-05-19T07:40:33.300Z"
   },
   {
    "duration": 1648,
    "start_time": "2022-05-20T11:45:34.091Z"
   },
   {
    "duration": 144,
    "start_time": "2022-05-20T11:45:35.741Z"
   },
   {
    "duration": 15,
    "start_time": "2022-05-20T11:45:35.887Z"
   },
   {
    "duration": 39,
    "start_time": "2022-05-20T11:45:35.904Z"
   },
   {
    "duration": 30,
    "start_time": "2022-05-20T11:45:35.945Z"
   },
   {
    "duration": 26,
    "start_time": "2022-05-20T11:45:35.977Z"
   },
   {
    "duration": 28,
    "start_time": "2022-05-20T11:45:36.004Z"
   },
   {
    "duration": 45,
    "start_time": "2022-05-20T11:45:36.034Z"
   },
   {
    "duration": 115,
    "start_time": "2022-05-20T11:45:36.081Z"
   },
   {
    "duration": 0,
    "start_time": "2022-05-20T11:45:36.197Z"
   },
   {
    "duration": 0,
    "start_time": "2022-05-20T11:45:36.198Z"
   },
   {
    "duration": 0,
    "start_time": "2022-05-20T11:45:36.199Z"
   },
   {
    "duration": 0,
    "start_time": "2022-05-20T11:45:36.200Z"
   },
   {
    "duration": 5,
    "start_time": "2022-05-20T11:46:47.925Z"
   },
   {
    "duration": 200,
    "start_time": "2022-05-20T11:48:25.909Z"
   },
   {
    "duration": 69,
    "start_time": "2022-05-20T11:48:37.234Z"
   },
   {
    "duration": 134,
    "start_time": "2022-05-20T11:48:38.085Z"
   },
   {
    "duration": 47,
    "start_time": "2022-05-20T11:53:03.178Z"
   },
   {
    "duration": 29,
    "start_time": "2022-05-20T11:54:42.000Z"
   },
   {
    "duration": 32,
    "start_time": "2022-05-20T11:55:44.273Z"
   },
   {
    "duration": 3,
    "start_time": "2022-05-20T11:56:09.665Z"
   },
   {
    "duration": 4,
    "start_time": "2022-05-20T12:03:40.259Z"
   },
   {
    "duration": 17998,
    "start_time": "2022-05-20T12:36:11.190Z"
   },
   {
    "duration": 17961,
    "start_time": "2022-05-20T12:36:38.743Z"
   },
   {
    "duration": 17982,
    "start_time": "2022-05-20T12:44:32.289Z"
   },
   {
    "duration": 17838,
    "start_time": "2022-05-20T12:58:51.369Z"
   },
   {
    "duration": 8,
    "start_time": "2022-05-20T13:02:09.212Z"
   },
   {
    "duration": 3,
    "start_time": "2022-05-20T13:02:14.198Z"
   },
   {
    "duration": 3,
    "start_time": "2022-05-20T13:02:17.915Z"
   },
   {
    "duration": 96,
    "start_time": "2022-05-20T13:02:20.127Z"
   },
   {
    "duration": 242942,
    "start_time": "2022-05-20T13:02:41.959Z"
   },
   {
    "duration": 95,
    "start_time": "2022-05-20T13:06:56.183Z"
   },
   {
    "duration": 18290,
    "start_time": "2022-05-20T13:08:19.422Z"
   },
   {
    "duration": 2,
    "start_time": "2022-05-20T13:08:40.943Z"
   },
   {
    "duration": 92,
    "start_time": "2022-05-20T13:08:42.522Z"
   },
   {
    "duration": 153393,
    "start_time": "2022-05-20T13:08:51.666Z"
   },
   {
    "duration": 3,
    "start_time": "2022-05-20T13:12:16.746Z"
   },
   {
    "duration": 171164,
    "start_time": "2022-05-20T13:19:23.742Z"
   },
   {
    "duration": 9,
    "start_time": "2022-05-20T13:23:52.536Z"
   },
   {
    "duration": 141,
    "start_time": "2022-05-20T13:24:04.902Z"
   },
   {
    "duration": 73,
    "start_time": "2022-05-20T13:25:07.451Z"
   },
   {
    "duration": 3,
    "start_time": "2022-05-20T13:26:00.105Z"
   },
   {
    "duration": 3,
    "start_time": "2022-05-20T13:26:02.301Z"
   },
   {
    "duration": 20638,
    "start_time": "2022-05-20T13:33:36.177Z"
   },
   {
    "duration": 2,
    "start_time": "2022-05-20T13:34:55.327Z"
   },
   {
    "duration": 3,
    "start_time": "2022-05-20T13:34:58.895Z"
   },
   {
    "duration": 161577,
    "start_time": "2022-05-20T13:35:01.362Z"
   },
   {
    "duration": 3,
    "start_time": "2022-05-20T13:38:04.656Z"
   },
   {
    "duration": 6,
    "start_time": "2022-05-20T13:43:07.600Z"
   },
   {
    "duration": 169323,
    "start_time": "2022-05-20T13:48:50.453Z"
   },
   {
    "duration": 219999,
    "start_time": "2022-05-20T13:52:29.458Z"
   },
   {
    "duration": 172856,
    "start_time": "2022-05-20T13:56:29.377Z"
   },
   {
    "duration": 3,
    "start_time": "2022-05-20T13:59:29.810Z"
   },
   {
    "duration": 3,
    "start_time": "2022-05-20T13:59:32.838Z"
   },
   {
    "duration": 6,
    "start_time": "2022-05-20T14:06:22.664Z"
   },
   {
    "duration": 10,
    "start_time": "2022-05-20T14:06:31.980Z"
   },
   {
    "duration": 25,
    "start_time": "2022-05-20T14:07:10.363Z"
   },
   {
    "duration": 37,
    "start_time": "2022-05-20T14:07:35.654Z"
   },
   {
    "duration": 611,
    "start_time": "2022-05-20T14:07:51.192Z"
   },
   {
    "duration": 363,
    "start_time": "2022-05-20T14:08:01.735Z"
   },
   {
    "duration": 91,
    "start_time": "2022-05-20T14:10:19.475Z"
   },
   {
    "duration": 273,
    "start_time": "2022-05-20T14:10:20.081Z"
   },
   {
    "duration": 6,
    "start_time": "2022-05-20T14:12:38.523Z"
   },
   {
    "duration": 8,
    "start_time": "2022-05-20T14:12:45.346Z"
   },
   {
    "duration": 5,
    "start_time": "2022-05-20T14:12:51.166Z"
   },
   {
    "duration": 6,
    "start_time": "2022-05-20T14:12:56.249Z"
   },
   {
    "duration": 10,
    "start_time": "2022-05-20T14:13:04.819Z"
   },
   {
    "duration": 4,
    "start_time": "2022-05-20T14:13:41.267Z"
   },
   {
    "duration": 1671,
    "start_time": "2022-05-21T07:25:27.178Z"
   },
   {
    "duration": 368,
    "start_time": "2022-05-21T07:25:28.851Z"
   },
   {
    "duration": 16,
    "start_time": "2022-05-21T07:25:29.220Z"
   },
   {
    "duration": 14,
    "start_time": "2022-05-21T07:25:29.238Z"
   },
   {
    "duration": 8,
    "start_time": "2022-05-21T07:25:29.253Z"
   },
   {
    "duration": 11,
    "start_time": "2022-05-21T07:25:29.262Z"
   },
   {
    "duration": 21,
    "start_time": "2022-05-21T07:25:29.275Z"
   },
   {
    "duration": 27,
    "start_time": "2022-05-21T07:25:29.298Z"
   },
   {
    "duration": 4,
    "start_time": "2022-05-21T07:25:29.326Z"
   },
   {
    "duration": 200,
    "start_time": "2022-05-21T07:25:29.332Z"
   },
   {
    "duration": 77,
    "start_time": "2022-05-21T07:25:29.533Z"
   },
   {
    "duration": 140,
    "start_time": "2022-05-21T07:25:29.611Z"
   },
   {
    "duration": 32,
    "start_time": "2022-05-21T07:25:29.753Z"
   },
   {
    "duration": 3,
    "start_time": "2022-05-21T07:25:29.786Z"
   },
   {
    "duration": 21,
    "start_time": "2022-05-21T07:25:29.802Z"
   },
   {
    "duration": 20392,
    "start_time": "2022-05-21T07:25:29.824Z"
   },
   {
    "duration": 3,
    "start_time": "2022-05-21T07:25:50.223Z"
   },
   {
    "duration": 156018,
    "start_time": "2022-05-21T07:25:50.227Z"
   },
   {
    "duration": 3,
    "start_time": "2022-05-21T07:28:26.246Z"
   },
   {
    "duration": 207531,
    "start_time": "2022-05-21T07:28:26.251Z"
   },
   {
    "duration": 4,
    "start_time": "2022-05-21T07:31:53.784Z"
   },
   {
    "duration": 18,
    "start_time": "2022-05-21T07:31:53.790Z"
   },
   {
    "duration": 98,
    "start_time": "2022-05-21T07:31:53.810Z"
   },
   {
    "duration": 144,
    "start_time": "2022-05-21T07:31:53.910Z"
   },
   {
    "duration": 0,
    "start_time": "2022-05-21T07:31:54.056Z"
   },
   {
    "duration": 0,
    "start_time": "2022-05-21T07:31:54.057Z"
   },
   {
    "duration": 0,
    "start_time": "2022-05-21T07:31:54.058Z"
   },
   {
    "duration": 0,
    "start_time": "2022-05-21T07:31:54.059Z"
   },
   {
    "duration": 0,
    "start_time": "2022-05-21T07:31:54.060Z"
   },
   {
    "duration": 0,
    "start_time": "2022-05-21T07:31:54.061Z"
   },
   {
    "duration": 71498,
    "start_time": "2022-05-21T07:35:17.384Z"
   },
   {
    "duration": 10059,
    "start_time": "2022-05-21T07:45:59.374Z"
   },
   {
    "duration": 72762,
    "start_time": "2022-05-21T07:46:27.017Z"
   },
   {
    "duration": 2,
    "start_time": "2022-05-21T07:48:52.006Z"
   },
   {
    "duration": 7,
    "start_time": "2022-05-21T07:48:53.735Z"
   },
   {
    "duration": 468,
    "start_time": "2022-05-21T07:48:56.594Z"
   },
   {
    "duration": 92,
    "start_time": "2022-05-21T07:49:00.767Z"
   },
   {
    "duration": 13,
    "start_time": "2022-05-21T07:49:05.086Z"
   },
   {
    "duration": 3,
    "start_time": "2022-05-21T07:49:31.584Z"
   },
   {
    "duration": 121,
    "start_time": "2022-05-21T07:49:37.670Z"
   },
   {
    "duration": 4,
    "start_time": "2022-05-21T07:51:16.413Z"
   },
   {
    "duration": 104,
    "start_time": "2022-05-21T07:52:06.722Z"
   },
   {
    "duration": 6,
    "start_time": "2022-05-21T07:52:11.505Z"
   },
   {
    "duration": 7,
    "start_time": "2022-05-21T07:52:19.383Z"
   },
   {
    "duration": 5,
    "start_time": "2022-05-21T08:03:29.463Z"
   },
   {
    "duration": 39,
    "start_time": "2022-05-21T08:04:32.420Z"
   },
   {
    "duration": 108,
    "start_time": "2022-05-21T08:04:46.500Z"
   },
   {
    "duration": 5,
    "start_time": "2022-05-21T08:05:21.933Z"
   },
   {
    "duration": 99,
    "start_time": "2022-05-21T08:09:54.896Z"
   },
   {
    "duration": 96,
    "start_time": "2022-05-21T08:10:02.077Z"
   },
   {
    "duration": 8,
    "start_time": "2022-05-21T08:11:02.928Z"
   },
   {
    "duration": 9,
    "start_time": "2022-05-21T08:11:03.364Z"
   },
   {
    "duration": 102,
    "start_time": "2022-05-21T08:11:20.607Z"
   },
   {
    "duration": 112,
    "start_time": "2022-05-21T08:11:21.085Z"
   },
   {
    "duration": 5,
    "start_time": "2022-05-21T08:24:57.015Z"
   },
   {
    "duration": 6,
    "start_time": "2022-05-21T08:53:48.471Z"
   },
   {
    "duration": 4,
    "start_time": "2022-05-21T10:01:42.339Z"
   },
   {
    "duration": 38,
    "start_time": "2022-05-21T10:01:43.991Z"
   },
   {
    "duration": 52,
    "start_time": "2022-05-21T10:01:56.486Z"
   },
   {
    "duration": 154,
    "start_time": "2022-05-21T10:02:24.695Z"
   },
   {
    "duration": 3,
    "start_time": "2022-05-21T10:05:02.116Z"
   },
   {
    "duration": 5,
    "start_time": "2022-05-21T10:05:09.010Z"
   },
   {
    "duration": 4,
    "start_time": "2022-05-21T10:05:23.906Z"
   },
   {
    "duration": 50,
    "start_time": "2022-05-21T10:05:34.406Z"
   },
   {
    "duration": 177,
    "start_time": "2022-05-21T10:05:47.179Z"
   },
   {
    "duration": 35196,
    "start_time": "2022-05-21T10:08:12.024Z"
   },
   {
    "duration": 0,
    "start_time": "2022-05-21T10:16:12.457Z"
   },
   {
    "duration": 121765,
    "start_time": "2022-05-21T10:16:14.168Z"
   },
   {
    "duration": 53403,
    "start_time": "2022-05-21T10:18:59.606Z"
   },
   {
    "duration": 13007,
    "start_time": "2022-05-21T10:20:26.614Z"
   },
   {
    "duration": 18702,
    "start_time": "2022-05-21T10:22:05.227Z"
   },
   {
    "duration": 51739,
    "start_time": "2022-05-21T10:22:47.365Z"
   },
   {
    "duration": 76974,
    "start_time": "2022-05-21T10:23:42.966Z"
   },
   {
    "duration": 74829,
    "start_time": "2022-05-21T10:26:03.174Z"
   },
   {
    "duration": 951,
    "start_time": "2022-05-21T10:27:19.563Z"
   },
   {
    "duration": 110973,
    "start_time": "2022-05-21T10:32:58.436Z"
   },
   {
    "duration": 107,
    "start_time": "2022-05-21T10:35:46.837Z"
   },
   {
    "duration": 130,
    "start_time": "2022-05-21T10:36:09.818Z"
   },
   {
    "duration": 121,
    "start_time": "2022-05-21T10:36:30.525Z"
   },
   {
    "duration": 130,
    "start_time": "2022-05-21T10:36:46.387Z"
   },
   {
    "duration": 7,
    "start_time": "2022-05-21T10:36:58.132Z"
   },
   {
    "duration": 2858,
    "start_time": "2022-05-21T10:40:54.865Z"
   },
   {
    "duration": 856,
    "start_time": "2022-05-21T10:41:26.629Z"
   },
   {
    "duration": 5,
    "start_time": "2022-05-21T10:41:49.224Z"
   },
   {
    "duration": 98,
    "start_time": "2022-05-21T10:43:34.087Z"
   },
   {
    "duration": 109,
    "start_time": "2022-05-21T10:43:41.682Z"
   },
   {
    "duration": 1833,
    "start_time": "2022-05-22T16:58:10.740Z"
   },
   {
    "duration": 157,
    "start_time": "2022-05-22T16:58:12.575Z"
   },
   {
    "duration": 25,
    "start_time": "2022-05-22T16:58:12.734Z"
   },
   {
    "duration": 23,
    "start_time": "2022-05-22T16:58:12.761Z"
   },
   {
    "duration": 27,
    "start_time": "2022-05-22T16:58:12.786Z"
   },
   {
    "duration": 40,
    "start_time": "2022-05-22T16:58:12.815Z"
   },
   {
    "duration": 34,
    "start_time": "2022-05-22T16:58:12.857Z"
   },
   {
    "duration": 49,
    "start_time": "2022-05-22T16:58:12.893Z"
   },
   {
    "duration": 23,
    "start_time": "2022-05-22T16:58:12.943Z"
   },
   {
    "duration": 49,
    "start_time": "2022-05-22T17:02:21.809Z"
   },
   {
    "duration": 259,
    "start_time": "2022-05-22T17:02:25.599Z"
   },
   {
    "duration": 5,
    "start_time": "2022-05-22T17:02:38.152Z"
   },
   {
    "duration": 122,
    "start_time": "2022-05-22T17:02:43.667Z"
   },
   {
    "duration": 4,
    "start_time": "2022-05-22T17:03:12.836Z"
   },
   {
    "duration": 132,
    "start_time": "2022-05-22T17:03:17.561Z"
   },
   {
    "duration": 9,
    "start_time": "2022-05-22T17:03:50.470Z"
   },
   {
    "duration": 26,
    "start_time": "2022-05-22T17:04:22.361Z"
   },
   {
    "duration": 143,
    "start_time": "2022-05-22T17:04:27.112Z"
   },
   {
    "duration": 42,
    "start_time": "2022-05-22T17:04:36.518Z"
   },
   {
    "duration": 121,
    "start_time": "2022-05-22T17:04:40.628Z"
   },
   {
    "duration": 8,
    "start_time": "2022-05-22T17:04:46.441Z"
   },
   {
    "duration": 9,
    "start_time": "2022-05-22T17:04:50.371Z"
   },
   {
    "duration": 135,
    "start_time": "2022-05-22T17:06:45.742Z"
   },
   {
    "duration": 652,
    "start_time": "2022-05-22T17:07:09.340Z"
   },
   {
    "duration": 163,
    "start_time": "2022-05-22T17:07:13.802Z"
   },
   {
    "duration": 11,
    "start_time": "2022-05-22T17:07:54.440Z"
   },
   {
    "duration": 6,
    "start_time": "2022-05-22T17:08:15.790Z"
   },
   {
    "duration": 167,
    "start_time": "2022-05-22T17:08:49.027Z"
   },
   {
    "duration": 135,
    "start_time": "2022-05-22T17:09:02.344Z"
   },
   {
    "duration": 5,
    "start_time": "2022-05-22T17:09:12.807Z"
   },
   {
    "duration": 13,
    "start_time": "2022-05-22T17:09:50.145Z"
   },
   {
    "duration": 225,
    "start_time": "2022-05-22T17:10:02.153Z"
   },
   {
    "duration": 13,
    "start_time": "2022-05-22T17:15:36.532Z"
   },
   {
    "duration": 7,
    "start_time": "2022-05-22T17:16:19.710Z"
   },
   {
    "duration": 11,
    "start_time": "2022-05-22T17:16:20.306Z"
   },
   {
    "duration": 13,
    "start_time": "2022-05-22T17:16:21.960Z"
   },
   {
    "duration": 47,
    "start_time": "2022-05-22T17:16:30.031Z"
   },
   {
    "duration": 3,
    "start_time": "2022-05-22T17:16:35.217Z"
   },
   {
    "duration": 6,
    "start_time": "2022-05-22T17:16:35.843Z"
   },
   {
    "duration": 287,
    "start_time": "2022-05-22T17:16:39.168Z"
   },
   {
    "duration": 4,
    "start_time": "2022-05-22T17:17:07.848Z"
   },
   {
    "duration": 8,
    "start_time": "2022-05-22T17:17:28.308Z"
   },
   {
    "duration": 11,
    "start_time": "2022-05-22T17:18:00.918Z"
   },
   {
    "duration": 14,
    "start_time": "2022-05-22T17:18:34.111Z"
   },
   {
    "duration": 3,
    "start_time": "2022-05-22T17:19:39.465Z"
   },
   {
    "duration": 5,
    "start_time": "2022-05-22T17:19:51.691Z"
   },
   {
    "duration": 734,
    "start_time": "2022-05-22T17:20:04.702Z"
   },
   {
    "duration": 18,
    "start_time": "2022-05-22T17:21:47.323Z"
   },
   {
    "duration": 3,
    "start_time": "2022-05-22T17:21:59.957Z"
   },
   {
    "duration": 29,
    "start_time": "2022-05-22T17:22:05.670Z"
   },
   {
    "duration": 18,
    "start_time": "2022-05-22T17:22:10.942Z"
   },
   {
    "duration": 4,
    "start_time": "2022-05-22T17:22:35.268Z"
   },
   {
    "duration": 40,
    "start_time": "2022-05-22T17:22:35.274Z"
   },
   {
    "duration": 13,
    "start_time": "2022-05-22T17:22:35.316Z"
   },
   {
    "duration": 15,
    "start_time": "2022-05-22T17:22:35.331Z"
   },
   {
    "duration": 4,
    "start_time": "2022-05-22T17:22:35.349Z"
   },
   {
    "duration": 10,
    "start_time": "2022-05-22T17:22:35.355Z"
   },
   {
    "duration": 8,
    "start_time": "2022-05-22T17:22:35.367Z"
   },
   {
    "duration": 55,
    "start_time": "2022-05-22T17:22:35.377Z"
   },
   {
    "duration": 153,
    "start_time": "2022-05-22T17:22:35.434Z"
   },
   {
    "duration": 4,
    "start_time": "2022-05-22T17:22:35.589Z"
   },
   {
    "duration": 16,
    "start_time": "2022-05-22T17:22:35.596Z"
   },
   {
    "duration": 7,
    "start_time": "2022-05-22T17:22:35.613Z"
   },
   {
    "duration": 10,
    "start_time": "2022-05-22T17:22:35.622Z"
   },
   {
    "duration": 11,
    "start_time": "2022-05-22T17:22:35.633Z"
   },
   {
    "duration": 4,
    "start_time": "2022-05-22T17:22:35.646Z"
   },
   {
    "duration": 8,
    "start_time": "2022-05-22T17:22:35.652Z"
   },
   {
    "duration": 69,
    "start_time": "2022-05-22T17:22:35.661Z"
   },
   {
    "duration": 18,
    "start_time": "2022-05-22T17:22:35.732Z"
   },
   {
    "duration": 3,
    "start_time": "2022-05-22T17:22:35.752Z"
   },
   {
    "duration": 10,
    "start_time": "2022-05-22T17:22:35.756Z"
   },
   {
    "duration": 1358,
    "start_time": "2022-05-22T17:22:35.767Z"
   },
   {
    "duration": 3,
    "start_time": "2022-05-22T17:22:37.126Z"
   },
   {
    "duration": 83887,
    "start_time": "2022-05-22T17:22:37.131Z"
   },
   {
    "duration": 3,
    "start_time": "2022-05-22T17:24:01.020Z"
   },
   {
    "duration": 3491,
    "start_time": "2022-05-22T17:24:01.024Z"
   },
   {
    "duration": 3,
    "start_time": "2022-05-22T17:24:04.517Z"
   },
   {
    "duration": 12,
    "start_time": "2022-05-22T17:24:04.522Z"
   },
   {
    "duration": 352,
    "start_time": "2022-05-22T17:24:04.535Z"
   },
   {
    "duration": 9,
    "start_time": "2022-05-22T17:24:04.890Z"
   },
   {
    "duration": 9,
    "start_time": "2022-05-22T17:24:04.912Z"
   },
   {
    "duration": 8,
    "start_time": "2022-05-22T17:24:04.923Z"
   },
   {
    "duration": 5,
    "start_time": "2022-05-22T17:24:04.933Z"
   },
   {
    "duration": 6,
    "start_time": "2022-05-22T17:24:04.939Z"
   },
   {
    "duration": 4,
    "start_time": "2022-05-22T17:24:04.947Z"
   },
   {
    "duration": 17,
    "start_time": "2022-05-22T17:24:04.953Z"
   },
   {
    "duration": 1817,
    "start_time": "2022-05-22T17:24:04.972Z"
   },
   {
    "duration": 36,
    "start_time": "2022-05-22T17:24:06.791Z"
   },
   {
    "duration": 47424,
    "start_time": "2022-05-22T17:24:06.829Z"
   },
   {
    "duration": 6,
    "start_time": "2022-05-22T17:24:54.255Z"
   },
   {
    "duration": 135,
    "start_time": "2022-05-22T17:24:54.262Z"
   },
   {
    "duration": 16,
    "start_time": "2022-05-22T17:24:54.399Z"
   },
   {
    "duration": 135,
    "start_time": "2022-05-22T17:24:54.417Z"
   },
   {
    "duration": 8,
    "start_time": "2022-05-22T17:24:54.553Z"
   },
   {
    "duration": 70,
    "start_time": "2022-05-22T17:24:54.562Z"
   },
   {
    "duration": 4,
    "start_time": "2022-05-22T17:24:54.633Z"
   },
   {
    "duration": 850,
    "start_time": "2022-05-22T17:30:36.224Z"
   },
   {
    "duration": 5,
    "start_time": "2022-05-22T17:30:37.506Z"
   },
   {
    "duration": 4,
    "start_time": "2022-05-22T17:32:31.624Z"
   },
   {
    "duration": 1082,
    "start_time": "2022-05-22T17:32:33.236Z"
   },
   {
    "duration": 1037,
    "start_time": "2022-05-22T17:33:40.589Z"
   },
   {
    "duration": 4,
    "start_time": "2022-05-22T17:33:43.852Z"
   },
   {
    "duration": 1611,
    "start_time": "2022-05-23T16:42:58.520Z"
   },
   {
    "duration": 79,
    "start_time": "2022-05-23T16:43:00.133Z"
   },
   {
    "duration": 16,
    "start_time": "2022-05-23T16:43:00.213Z"
   },
   {
    "duration": 12,
    "start_time": "2022-05-23T16:43:00.231Z"
   },
   {
    "duration": 4,
    "start_time": "2022-05-23T16:43:00.244Z"
   },
   {
    "duration": 8,
    "start_time": "2022-05-23T16:43:00.250Z"
   },
   {
    "duration": 10,
    "start_time": "2022-05-23T16:43:00.260Z"
   },
   {
    "duration": 28,
    "start_time": "2022-05-23T16:43:00.271Z"
   },
   {
    "duration": 132,
    "start_time": "2022-05-23T16:43:00.300Z"
   },
   {
    "duration": 4,
    "start_time": "2022-05-23T16:43:00.434Z"
   },
   {
    "duration": 13,
    "start_time": "2022-05-23T16:43:00.439Z"
   },
   {
    "duration": 19,
    "start_time": "2022-05-23T16:43:00.454Z"
   },
   {
    "duration": 13,
    "start_time": "2022-05-23T16:43:00.475Z"
   },
   {
    "duration": 13,
    "start_time": "2022-05-23T16:43:00.490Z"
   },
   {
    "duration": 5,
    "start_time": "2022-05-23T16:43:00.504Z"
   },
   {
    "duration": 38,
    "start_time": "2022-05-23T16:43:00.511Z"
   },
   {
    "duration": 52,
    "start_time": "2022-05-23T16:43:00.551Z"
   },
   {
    "duration": 2,
    "start_time": "2022-05-23T16:43:00.605Z"
   },
   {
    "duration": 22,
    "start_time": "2022-05-23T16:43:00.608Z"
   },
   {
    "duration": 1260,
    "start_time": "2022-05-23T16:43:00.631Z"
   },
   {
    "duration": 3,
    "start_time": "2022-05-23T16:43:01.893Z"
   },
   {
    "duration": 78550,
    "start_time": "2022-05-23T16:43:01.897Z"
   },
   {
    "duration": 3,
    "start_time": "2022-05-23T16:44:20.448Z"
   },
   {
    "duration": 3249,
    "start_time": "2022-05-23T16:44:20.453Z"
   },
   {
    "duration": 91,
    "start_time": "2022-05-23T16:44:23.705Z"
   },
   {
    "duration": 7,
    "start_time": "2022-05-23T16:44:23.797Z"
   },
   {
    "duration": 236,
    "start_time": "2022-05-23T16:44:23.805Z"
   },
   {
    "duration": 13,
    "start_time": "2022-05-23T16:44:24.043Z"
   },
   {
    "duration": 12,
    "start_time": "2022-05-23T16:44:24.058Z"
   },
   {
    "duration": 23,
    "start_time": "2022-05-23T16:44:24.072Z"
   },
   {
    "duration": 5,
    "start_time": "2022-05-23T16:44:24.096Z"
   },
   {
    "duration": 6,
    "start_time": "2022-05-23T16:44:24.103Z"
   },
   {
    "duration": 5,
    "start_time": "2022-05-23T16:44:24.110Z"
   },
   {
    "duration": 10,
    "start_time": "2022-05-23T16:44:24.116Z"
   },
   {
    "duration": 1671,
    "start_time": "2022-05-23T16:44:24.128Z"
   },
   {
    "duration": 29,
    "start_time": "2022-05-23T16:44:25.801Z"
   },
   {
    "duration": 43891,
    "start_time": "2022-05-23T16:44:25.897Z"
   },
   {
    "duration": 49,
    "start_time": "2022-05-23T16:45:09.790Z"
   },
   {
    "duration": 0,
    "start_time": "2022-05-23T16:45:09.840Z"
   },
   {
    "duration": 0,
    "start_time": "2022-05-23T16:45:09.842Z"
   },
   {
    "duration": 0,
    "start_time": "2022-05-23T16:45:09.843Z"
   },
   {
    "duration": 0,
    "start_time": "2022-05-23T16:45:09.844Z"
   },
   {
    "duration": 292,
    "start_time": "2022-05-23T16:48:14.660Z"
   },
   {
    "duration": 4,
    "start_time": "2022-05-23T16:50:32.352Z"
   },
   {
    "duration": 40,
    "start_time": "2022-05-23T16:50:32.366Z"
   },
   {
    "duration": 13,
    "start_time": "2022-05-23T16:50:32.408Z"
   },
   {
    "duration": 17,
    "start_time": "2022-05-23T16:50:32.422Z"
   },
   {
    "duration": 6,
    "start_time": "2022-05-23T16:50:32.440Z"
   },
   {
    "duration": 7,
    "start_time": "2022-05-23T16:50:32.448Z"
   },
   {
    "duration": 9,
    "start_time": "2022-05-23T16:50:32.457Z"
   },
   {
    "duration": 24,
    "start_time": "2022-05-23T16:50:32.494Z"
   },
   {
    "duration": 133,
    "start_time": "2022-05-23T16:50:32.520Z"
   },
   {
    "duration": 3,
    "start_time": "2022-05-23T16:50:32.655Z"
   },
   {
    "duration": 9,
    "start_time": "2022-05-23T16:50:32.659Z"
   },
   {
    "duration": 10,
    "start_time": "2022-05-23T16:50:32.670Z"
   },
   {
    "duration": 13,
    "start_time": "2022-05-23T16:50:32.682Z"
   },
   {
    "duration": 14,
    "start_time": "2022-05-23T16:50:32.696Z"
   },
   {
    "duration": 5,
    "start_time": "2022-05-23T16:50:32.712Z"
   },
   {
    "duration": 8,
    "start_time": "2022-05-23T16:50:32.718Z"
   },
   {
    "duration": 27,
    "start_time": "2022-05-23T16:50:32.727Z"
   },
   {
    "duration": 2,
    "start_time": "2022-05-23T16:50:32.756Z"
   },
   {
    "duration": 36,
    "start_time": "2022-05-23T16:50:32.759Z"
   },
   {
    "duration": 2438,
    "start_time": "2022-05-23T16:50:32.796Z"
   },
   {
    "duration": 2,
    "start_time": "2022-05-23T16:50:35.236Z"
   },
   {
    "duration": 150496,
    "start_time": "2022-05-23T16:50:35.240Z"
   },
   {
    "duration": 2,
    "start_time": "2022-05-23T16:53:05.738Z"
   },
   {
    "duration": 6061,
    "start_time": "2022-05-23T16:53:05.742Z"
   },
   {
    "duration": 90,
    "start_time": "2022-05-23T16:53:11.805Z"
   },
   {
    "duration": 100,
    "start_time": "2022-05-23T16:53:11.897Z"
   },
   {
    "duration": 4,
    "start_time": "2022-05-23T16:59:49.970Z"
   },
   {
    "duration": 291,
    "start_time": "2022-05-23T17:00:05.355Z"
   },
   {
    "duration": 82,
    "start_time": "2022-05-23T17:00:30.214Z"
   },
   {
    "duration": 81,
    "start_time": "2022-05-23T17:00:31.104Z"
   },
   {
    "duration": 80,
    "start_time": "2022-05-23T17:00:33.596Z"
   },
   {
    "duration": 4,
    "start_time": "2022-05-23T17:01:04.190Z"
   },
   {
    "duration": 41,
    "start_time": "2022-05-23T17:01:04.197Z"
   },
   {
    "duration": 11,
    "start_time": "2022-05-23T17:01:04.241Z"
   },
   {
    "duration": 16,
    "start_time": "2022-05-23T17:01:04.254Z"
   },
   {
    "duration": 3,
    "start_time": "2022-05-23T17:01:04.272Z"
   },
   {
    "duration": 7,
    "start_time": "2022-05-23T17:01:04.276Z"
   },
   {
    "duration": 7,
    "start_time": "2022-05-23T17:01:04.284Z"
   },
   {
    "duration": 20,
    "start_time": "2022-05-23T17:01:04.294Z"
   },
   {
    "duration": 114,
    "start_time": "2022-05-23T17:01:04.315Z"
   },
   {
    "duration": 4,
    "start_time": "2022-05-23T17:01:04.431Z"
   },
   {
    "duration": 7,
    "start_time": "2022-05-23T17:01:04.437Z"
   },
   {
    "duration": 10,
    "start_time": "2022-05-23T17:01:04.445Z"
   },
   {
    "duration": 8,
    "start_time": "2022-05-23T17:01:04.457Z"
   },
   {
    "duration": 27,
    "start_time": "2022-05-23T17:01:04.467Z"
   },
   {
    "duration": 4,
    "start_time": "2022-05-23T17:01:04.496Z"
   },
   {
    "duration": 15,
    "start_time": "2022-05-23T17:01:04.501Z"
   },
   {
    "duration": 29,
    "start_time": "2022-05-23T17:01:04.517Z"
   },
   {
    "duration": 3,
    "start_time": "2022-05-23T17:01:04.547Z"
   },
   {
    "duration": 7,
    "start_time": "2022-05-23T17:01:04.551Z"
   },
   {
    "duration": 2338,
    "start_time": "2022-05-23T17:01:04.560Z"
   },
   {
    "duration": 3,
    "start_time": "2022-05-23T17:01:06.900Z"
   },
   {
    "duration": 148544,
    "start_time": "2022-05-23T17:01:06.904Z"
   },
   {
    "duration": 3,
    "start_time": "2022-05-23T17:03:35.449Z"
   },
   {
    "duration": 5941,
    "start_time": "2022-05-23T17:03:35.453Z"
   },
   {
    "duration": 94,
    "start_time": "2022-05-23T17:03:41.401Z"
   },
   {
    "duration": 11,
    "start_time": "2022-05-23T17:03:41.496Z"
   },
   {
    "duration": 324,
    "start_time": "2022-05-23T17:03:41.508Z"
   },
   {
    "duration": 94,
    "start_time": "2022-05-23T17:03:41.834Z"
   },
   {
    "duration": 87,
    "start_time": "2022-05-23T17:03:41.931Z"
   },
   {
    "duration": 90,
    "start_time": "2022-05-23T17:03:42.019Z"
   },
   {
    "duration": 1254,
    "start_time": "2022-05-23T17:05:27.549Z"
   },
   {
    "duration": 3,
    "start_time": "2022-05-23T17:05:32.753Z"
   },
   {
    "duration": 78493,
    "start_time": "2022-05-23T17:05:33.452Z"
   },
   {
    "duration": 3,
    "start_time": "2022-05-23T17:09:16.897Z"
   },
   {
    "duration": 3287,
    "start_time": "2022-05-23T17:09:17.516Z"
   },
   {
    "duration": 2,
    "start_time": "2022-05-23T17:09:22.216Z"
   },
   {
    "duration": 5,
    "start_time": "2022-05-23T17:09:23.860Z"
   },
   {
    "duration": 356,
    "start_time": "2022-05-23T17:09:44.980Z"
   },
   {
    "duration": 87,
    "start_time": "2022-05-23T17:09:56.586Z"
   },
   {
    "duration": 85,
    "start_time": "2022-05-23T17:10:00.913Z"
   },
   {
    "duration": 87,
    "start_time": "2022-05-23T17:10:02.874Z"
   },
   {
    "duration": 5,
    "start_time": "2022-05-23T17:11:07.210Z"
   },
   {
    "duration": 3,
    "start_time": "2022-05-23T17:11:11.255Z"
   },
   {
    "duration": 9,
    "start_time": "2022-05-23T17:11:12.326Z"
   },
   {
    "duration": 65,
    "start_time": "2022-05-23T17:11:13.729Z"
   },
   {
    "duration": 3012,
    "start_time": "2022-05-23T17:11:16.590Z"
   },
   {
    "duration": 66492,
    "start_time": "2022-05-23T17:11:52.393Z"
   },
   {
    "duration": 53,
    "start_time": "2022-05-23T17:13:41.720Z"
   },
   {
    "duration": 78,
    "start_time": "2022-05-23T17:15:20.075Z"
   },
   {
    "duration": 4,
    "start_time": "2022-05-23T17:17:00.366Z"
   },
   {
    "duration": 9,
    "start_time": "2022-05-23T17:17:01.238Z"
   },
   {
    "duration": 4,
    "start_time": "2022-05-23T17:17:02.597Z"
   },
   {
    "duration": 3,
    "start_time": "2022-05-23T17:17:05.820Z"
   },
   {
    "duration": 11,
    "start_time": "2022-05-23T17:17:50.061Z"
   },
   {
    "duration": 3,
    "start_time": "2022-05-23T17:17:50.996Z"
   },
   {
    "duration": 4,
    "start_time": "2022-05-23T17:17:51.867Z"
   },
   {
    "duration": 69,
    "start_time": "2022-05-23T17:18:21.126Z"
   },
   {
    "duration": 834,
    "start_time": "2022-05-23T17:18:27.664Z"
   },
   {
    "duration": 23203,
    "start_time": "2022-05-23T17:18:35.753Z"
   },
   {
    "duration": 75,
    "start_time": "2022-05-23T17:21:41.250Z"
   },
   {
    "duration": 4,
    "start_time": "2022-05-23T17:22:28.188Z"
   },
   {
    "duration": 70,
    "start_time": "2022-05-23T17:25:57.947Z"
   },
   {
    "duration": 8,
    "start_time": "2022-05-23T17:25:58.702Z"
   },
   {
    "duration": 66,
    "start_time": "2022-05-23T17:27:29.360Z"
   },
   {
    "duration": 6,
    "start_time": "2022-05-23T17:27:30.090Z"
   },
   {
    "duration": 7,
    "start_time": "2022-05-23T17:27:48.101Z"
   },
   {
    "duration": 3,
    "start_time": "2022-05-23T17:28:18.421Z"
   },
   {
    "duration": 103,
    "start_time": "2022-05-23T17:34:37.969Z"
   },
   {
    "duration": 7,
    "start_time": "2022-05-23T17:34:40.822Z"
   },
   {
    "duration": 8,
    "start_time": "2022-05-23T17:34:45.316Z"
   },
   {
    "duration": 7,
    "start_time": "2022-05-23T17:34:54.289Z"
   },
   {
    "duration": 4,
    "start_time": "2022-05-23T17:43:17.966Z"
   },
   {
    "duration": 43,
    "start_time": "2022-05-23T17:43:17.972Z"
   },
   {
    "duration": 11,
    "start_time": "2022-05-23T17:43:18.017Z"
   },
   {
    "duration": 16,
    "start_time": "2022-05-23T17:43:18.029Z"
   },
   {
    "duration": 4,
    "start_time": "2022-05-23T17:43:18.047Z"
   },
   {
    "duration": 6,
    "start_time": "2022-05-23T17:43:18.052Z"
   },
   {
    "duration": 6,
    "start_time": "2022-05-23T17:43:18.059Z"
   },
   {
    "duration": 44,
    "start_time": "2022-05-23T17:43:18.066Z"
   },
   {
    "duration": 140,
    "start_time": "2022-05-23T17:43:18.112Z"
   },
   {
    "duration": 4,
    "start_time": "2022-05-23T17:43:18.254Z"
   },
   {
    "duration": 4,
    "start_time": "2022-05-23T17:43:18.261Z"
   },
   {
    "duration": 27,
    "start_time": "2022-05-23T17:43:18.267Z"
   },
   {
    "duration": 9,
    "start_time": "2022-05-23T17:43:18.296Z"
   },
   {
    "duration": 11,
    "start_time": "2022-05-23T17:43:18.307Z"
   },
   {
    "duration": 4,
    "start_time": "2022-05-23T17:43:18.320Z"
   },
   {
    "duration": 8,
    "start_time": "2022-05-23T17:43:18.326Z"
   },
   {
    "duration": 31,
    "start_time": "2022-05-23T17:43:18.335Z"
   },
   {
    "duration": 2,
    "start_time": "2022-05-23T17:43:18.394Z"
   },
   {
    "duration": 8,
    "start_time": "2022-05-23T17:43:18.398Z"
   },
   {
    "duration": 1318,
    "start_time": "2022-05-23T17:43:18.407Z"
   },
   {
    "duration": 4,
    "start_time": "2022-05-23T17:43:19.726Z"
   },
   {
    "duration": 79622,
    "start_time": "2022-05-23T17:43:19.731Z"
   },
   {
    "duration": 3,
    "start_time": "2022-05-23T17:44:39.354Z"
   },
   {
    "duration": 3337,
    "start_time": "2022-05-23T17:44:39.358Z"
   },
   {
    "duration": 3,
    "start_time": "2022-05-23T17:44:42.696Z"
   },
   {
    "duration": 11,
    "start_time": "2022-05-23T17:44:42.701Z"
   },
   {
    "duration": 346,
    "start_time": "2022-05-23T17:44:42.714Z"
   },
   {
    "duration": 96,
    "start_time": "2022-05-23T17:44:43.061Z"
   },
   {
    "duration": 96,
    "start_time": "2022-05-23T17:44:43.160Z"
   },
   {
    "duration": 96,
    "start_time": "2022-05-23T17:44:43.257Z"
   },
   {
    "duration": 5,
    "start_time": "2022-05-23T17:44:43.354Z"
   },
   {
    "duration": 6,
    "start_time": "2022-05-23T17:44:43.360Z"
   },
   {
    "duration": 10,
    "start_time": "2022-05-23T17:44:43.367Z"
   },
   {
    "duration": 35,
    "start_time": "2022-05-23T17:44:43.379Z"
   },
   {
    "duration": 2765,
    "start_time": "2022-05-23T17:44:43.415Z"
   },
   {
    "duration": 67353,
    "start_time": "2022-05-23T17:44:46.182Z"
   },
   {
    "duration": 79,
    "start_time": "2022-05-23T17:45:53.537Z"
   },
   {
    "duration": 77,
    "start_time": "2022-05-23T17:45:53.617Z"
   },
   {
    "duration": 7,
    "start_time": "2022-05-23T17:45:53.696Z"
   },
   {
    "duration": 5,
    "start_time": "2022-05-23T17:45:53.705Z"
   },
   {
    "duration": 14,
    "start_time": "2022-05-23T17:45:53.711Z"
   },
   {
    "duration": 70,
    "start_time": "2022-05-23T17:45:53.726Z"
   },
   {
    "duration": 953,
    "start_time": "2022-05-23T17:45:53.797Z"
   },
   {
    "duration": 23000,
    "start_time": "2022-05-23T17:45:54.752Z"
   },
   {
    "duration": 72,
    "start_time": "2022-05-23T17:46:17.754Z"
   },
   {
    "duration": 69,
    "start_time": "2022-05-23T17:46:17.827Z"
   },
   {
    "duration": 6,
    "start_time": "2022-05-23T17:46:17.898Z"
   },
   {
    "duration": 4,
    "start_time": "2022-05-23T17:46:17.905Z"
   },
   {
    "duration": 112,
    "start_time": "2022-05-23T17:46:17.910Z"
   },
   {
    "duration": 6,
    "start_time": "2022-05-23T17:46:18.024Z"
   },
   {
    "duration": 15,
    "start_time": "2022-05-23T17:46:18.032Z"
   },
   {
    "duration": 1465,
    "start_time": "2022-05-24T10:20:25.991Z"
   },
   {
    "duration": 152,
    "start_time": "2022-05-24T10:20:27.457Z"
   },
   {
    "duration": 15,
    "start_time": "2022-05-24T10:20:27.611Z"
   },
   {
    "duration": 13,
    "start_time": "2022-05-24T10:20:27.628Z"
   },
   {
    "duration": 4,
    "start_time": "2022-05-24T10:20:27.642Z"
   },
   {
    "duration": 7,
    "start_time": "2022-05-24T10:20:27.648Z"
   },
   {
    "duration": 6,
    "start_time": "2022-05-24T10:20:27.656Z"
   },
   {
    "duration": 28,
    "start_time": "2022-05-24T10:20:27.663Z"
   },
   {
    "duration": 131,
    "start_time": "2022-05-24T10:20:27.693Z"
   },
   {
    "duration": 3,
    "start_time": "2022-05-24T10:20:27.827Z"
   },
   {
    "duration": 5,
    "start_time": "2022-05-24T10:20:27.831Z"
   },
   {
    "duration": 8,
    "start_time": "2022-05-24T10:20:27.838Z"
   },
   {
    "duration": 11,
    "start_time": "2022-05-24T10:20:27.847Z"
   },
   {
    "duration": 17,
    "start_time": "2022-05-24T10:20:27.875Z"
   },
   {
    "duration": 4,
    "start_time": "2022-05-24T10:20:27.894Z"
   },
   {
    "duration": 7,
    "start_time": "2022-05-24T10:20:27.900Z"
   },
   {
    "duration": 29,
    "start_time": "2022-05-24T10:20:27.908Z"
   },
   {
    "duration": 2,
    "start_time": "2022-05-24T10:20:27.939Z"
   },
   {
    "duration": 8,
    "start_time": "2022-05-24T10:20:27.942Z"
   },
   {
    "duration": 1310,
    "start_time": "2022-05-24T10:20:27.963Z"
   },
   {
    "duration": 9,
    "start_time": "2022-05-24T10:20:29.277Z"
   },
   {
    "duration": 86895,
    "start_time": "2022-05-24T10:20:29.290Z"
   },
   {
    "duration": 5,
    "start_time": "2022-05-24T10:21:56.186Z"
   },
   {
    "duration": 6296,
    "start_time": "2022-05-24T10:21:56.194Z"
   },
   {
    "duration": 3,
    "start_time": "2022-05-24T10:22:02.496Z"
   },
   {
    "duration": 20,
    "start_time": "2022-05-24T10:22:02.500Z"
   },
   {
    "duration": 424,
    "start_time": "2022-05-24T10:22:02.522Z"
   },
   {
    "duration": 112,
    "start_time": "2022-05-24T10:22:02.950Z"
   },
   {
    "duration": 117,
    "start_time": "2022-05-24T10:22:03.064Z"
   },
   {
    "duration": 102,
    "start_time": "2022-05-24T10:22:03.187Z"
   },
   {
    "duration": 6,
    "start_time": "2022-05-24T10:22:03.291Z"
   },
   {
    "duration": 9,
    "start_time": "2022-05-24T10:22:03.298Z"
   },
   {
    "duration": 14,
    "start_time": "2022-05-24T10:22:03.308Z"
   },
   {
    "duration": 22,
    "start_time": "2022-05-24T10:22:03.323Z"
   },
   {
    "duration": 2903,
    "start_time": "2022-05-24T10:22:03.347Z"
   },
   {
    "duration": 73955,
    "start_time": "2022-05-24T10:22:06.251Z"
   },
   {
    "duration": 89,
    "start_time": "2022-05-24T10:23:20.208Z"
   },
   {
    "duration": 68,
    "start_time": "2022-05-24T10:23:20.298Z"
   },
   {
    "duration": 7,
    "start_time": "2022-05-24T10:23:20.375Z"
   },
   {
    "duration": 15,
    "start_time": "2022-05-24T10:23:20.383Z"
   },
   {
    "duration": 12,
    "start_time": "2022-05-24T10:23:20.399Z"
   },
   {
    "duration": 17,
    "start_time": "2022-05-24T10:23:20.412Z"
   },
   {
    "duration": 1056,
    "start_time": "2022-05-24T10:23:20.431Z"
   },
   {
    "duration": 25625,
    "start_time": "2022-05-24T10:23:21.491Z"
   },
   {
    "duration": 78,
    "start_time": "2022-05-24T10:23:47.117Z"
   },
   {
    "duration": 67,
    "start_time": "2022-05-24T10:23:47.196Z"
   },
   {
    "duration": 17,
    "start_time": "2022-05-24T10:23:47.264Z"
   },
   {
    "duration": 24,
    "start_time": "2022-05-24T10:23:47.282Z"
   },
   {
    "duration": 109,
    "start_time": "2022-05-24T10:23:47.308Z"
   },
   {
    "duration": 6,
    "start_time": "2022-05-24T10:23:47.419Z"
   },
   {
    "duration": 8,
    "start_time": "2022-05-24T10:23:47.427Z"
   },
   {
    "duration": 39,
    "start_time": "2022-05-24T10:53:24.698Z"
   },
   {
    "duration": 138,
    "start_time": "2022-05-24T10:54:05.651Z"
   },
   {
    "duration": 21,
    "start_time": "2022-05-24T10:54:13.811Z"
   },
   {
    "duration": 5,
    "start_time": "2022-05-24T11:25:18.767Z"
   },
   {
    "duration": 6,
    "start_time": "2022-05-24T11:33:49.685Z"
   },
   {
    "duration": 5,
    "start_time": "2022-05-24T11:34:07.438Z"
   },
   {
    "duration": 6,
    "start_time": "2022-05-24T11:34:12.080Z"
   },
   {
    "duration": 90,
    "start_time": "2022-05-24T17:07:36.258Z"
   },
   {
    "duration": 2016,
    "start_time": "2022-05-24T17:08:13.369Z"
   },
   {
    "duration": 105,
    "start_time": "2022-05-24T17:08:15.388Z"
   },
   {
    "duration": 26,
    "start_time": "2022-05-24T17:08:15.495Z"
   },
   {
    "duration": 19,
    "start_time": "2022-05-24T17:08:15.524Z"
   },
   {
    "duration": 16,
    "start_time": "2022-05-24T17:08:15.545Z"
   },
   {
    "duration": 38,
    "start_time": "2022-05-24T17:08:15.563Z"
   },
   {
    "duration": 7,
    "start_time": "2022-05-24T17:08:15.604Z"
   },
   {
    "duration": 37,
    "start_time": "2022-05-24T17:08:15.612Z"
   },
   {
    "duration": 236,
    "start_time": "2022-05-24T17:08:15.652Z"
   },
   {
    "duration": 6,
    "start_time": "2022-05-24T17:08:15.893Z"
   },
   {
    "duration": 6,
    "start_time": "2022-05-24T17:08:15.901Z"
   },
   {
    "duration": 14,
    "start_time": "2022-05-24T17:08:15.909Z"
   },
   {
    "duration": 17,
    "start_time": "2022-05-24T17:08:15.925Z"
   },
   {
    "duration": 50,
    "start_time": "2022-05-24T17:08:15.946Z"
   },
   {
    "duration": 10,
    "start_time": "2022-05-24T17:08:15.999Z"
   },
   {
    "duration": 13,
    "start_time": "2022-05-24T17:08:16.011Z"
   },
   {
    "duration": 6,
    "start_time": "2022-05-24T17:08:16.026Z"
   },
   {
    "duration": 13,
    "start_time": "2022-05-24T17:08:16.035Z"
   },
   {
    "duration": 4,
    "start_time": "2022-05-24T17:08:36.856Z"
   },
   {
    "duration": 13,
    "start_time": "2022-05-24T17:09:21.924Z"
   },
   {
    "duration": 7,
    "start_time": "2022-05-24T17:09:23.647Z"
   },
   {
    "duration": 6,
    "start_time": "2022-05-24T17:09:24.302Z"
   },
   {
    "duration": 5,
    "start_time": "2022-05-24T17:09:24.915Z"
   },
   {
    "duration": 36,
    "start_time": "2022-05-24T17:16:42.743Z"
   },
   {
    "duration": 2017,
    "start_time": "2022-05-25T12:39:10.084Z"
   },
   {
    "duration": 158,
    "start_time": "2022-05-25T12:39:12.103Z"
   },
   {
    "duration": 16,
    "start_time": "2022-05-25T12:39:12.262Z"
   },
   {
    "duration": 11,
    "start_time": "2022-05-25T12:39:12.280Z"
   },
   {
    "duration": 7,
    "start_time": "2022-05-25T12:39:12.293Z"
   },
   {
    "duration": 7,
    "start_time": "2022-05-25T12:39:12.301Z"
   },
   {
    "duration": 5,
    "start_time": "2022-05-25T12:39:12.310Z"
   },
   {
    "duration": 20,
    "start_time": "2022-05-25T12:39:12.317Z"
   },
   {
    "duration": 135,
    "start_time": "2022-05-25T12:39:12.338Z"
   },
   {
    "duration": 3,
    "start_time": "2022-05-25T12:39:12.475Z"
   },
   {
    "duration": 15,
    "start_time": "2022-05-25T12:39:12.480Z"
   },
   {
    "duration": 34,
    "start_time": "2022-05-25T12:39:12.497Z"
   },
   {
    "duration": 8,
    "start_time": "2022-05-25T12:48:58.002Z"
   },
   {
    "duration": 9,
    "start_time": "2022-05-25T12:48:58.695Z"
   },
   {
    "duration": 12,
    "start_time": "2022-05-25T12:49:05.238Z"
   },
   {
    "duration": 5,
    "start_time": "2022-05-25T12:49:08.013Z"
   },
   {
    "duration": 8,
    "start_time": "2022-05-25T12:49:09.484Z"
   },
   {
    "duration": 3,
    "start_time": "2022-05-25T12:49:16.250Z"
   },
   {
    "duration": 3,
    "start_time": "2022-05-25T12:49:18.199Z"
   },
   {
    "duration": 143,
    "start_time": "2022-05-25T12:49:23.063Z"
   },
   {
    "duration": 26,
    "start_time": "2022-05-25T12:49:40.378Z"
   },
   {
    "duration": 34,
    "start_time": "2022-05-25T12:51:14.040Z"
   },
   {
    "duration": 5,
    "start_time": "2022-05-25T12:53:01.688Z"
   },
   {
    "duration": 3,
    "start_time": "2022-05-25T13:13:44.083Z"
   },
   {
    "duration": 1542,
    "start_time": "2022-05-25T20:01:23.222Z"
   },
   {
    "duration": 165,
    "start_time": "2022-05-25T20:01:24.767Z"
   },
   {
    "duration": 31,
    "start_time": "2022-05-25T20:01:24.934Z"
   },
   {
    "duration": 17,
    "start_time": "2022-05-25T20:01:24.967Z"
   },
   {
    "duration": 3,
    "start_time": "2022-05-25T20:01:24.986Z"
   },
   {
    "duration": 9,
    "start_time": "2022-05-25T20:01:24.991Z"
   },
   {
    "duration": 6,
    "start_time": "2022-05-25T20:01:25.001Z"
   },
   {
    "duration": 18,
    "start_time": "2022-05-25T20:01:25.008Z"
   },
   {
    "duration": 163,
    "start_time": "2022-05-25T20:01:25.028Z"
   },
   {
    "duration": 3,
    "start_time": "2022-05-25T20:01:25.193Z"
   },
   {
    "duration": 7,
    "start_time": "2022-05-25T20:01:25.197Z"
   },
   {
    "duration": 57,
    "start_time": "2022-05-25T20:01:25.205Z"
   },
   {
    "duration": 8,
    "start_time": "2022-05-25T20:01:25.264Z"
   },
   {
    "duration": 15,
    "start_time": "2022-05-25T20:01:25.275Z"
   },
   {
    "duration": 18,
    "start_time": "2022-05-25T20:01:25.291Z"
   },
   {
    "duration": 6,
    "start_time": "2022-05-25T20:01:25.310Z"
   },
   {
    "duration": 35,
    "start_time": "2022-05-25T20:01:25.317Z"
   },
   {
    "duration": 26,
    "start_time": "2022-05-25T20:01:25.354Z"
   },
   {
    "duration": 15,
    "start_time": "2022-05-25T20:01:25.382Z"
   },
   {
    "duration": 30,
    "start_time": "2022-05-25T20:01:25.399Z"
   },
   {
    "duration": 22,
    "start_time": "2022-05-25T20:02:02.766Z"
   },
   {
    "duration": 8,
    "start_time": "2022-05-25T20:02:22.896Z"
   },
   {
    "duration": 12,
    "start_time": "2022-05-25T20:02:25.322Z"
   },
   {
    "duration": 14,
    "start_time": "2022-05-25T20:02:27.806Z"
   },
   {
    "duration": 32,
    "start_time": "2022-05-25T20:02:29.859Z"
   },
   {
    "duration": 23,
    "start_time": "2022-05-25T20:03:47.499Z"
   },
   {
    "duration": 23,
    "start_time": "2022-05-25T20:04:17.583Z"
   },
   {
    "duration": 26,
    "start_time": "2022-05-25T20:04:26.998Z"
   },
   {
    "duration": 137,
    "start_time": "2022-05-25T20:04:34.017Z"
   },
   {
    "duration": 22,
    "start_time": "2022-05-25T20:04:39.300Z"
   },
   {
    "duration": 9,
    "start_time": "2022-05-25T20:04:54.892Z"
   },
   {
    "duration": 24,
    "start_time": "2022-05-25T20:04:57.862Z"
   },
   {
    "duration": 29,
    "start_time": "2022-05-25T20:05:08.232Z"
   },
   {
    "duration": 23,
    "start_time": "2022-05-25T20:05:19.872Z"
   },
   {
    "duration": 29,
    "start_time": "2022-05-25T20:05:22.434Z"
   },
   {
    "duration": 30,
    "start_time": "2022-05-25T20:05:33.636Z"
   },
   {
    "duration": 31,
    "start_time": "2022-05-25T20:06:20.762Z"
   },
   {
    "duration": 22,
    "start_time": "2022-05-25T20:06:25.970Z"
   },
   {
    "duration": 33,
    "start_time": "2022-05-25T20:06:32.099Z"
   },
   {
    "duration": 4,
    "start_time": "2022-05-25T20:08:33.627Z"
   },
   {
    "duration": 25,
    "start_time": "2022-05-25T20:08:34.786Z"
   },
   {
    "duration": 11,
    "start_time": "2022-05-25T20:12:35.051Z"
   },
   {
    "duration": 37,
    "start_time": "2022-05-25T20:12:36.722Z"
   },
   {
    "duration": 8,
    "start_time": "2022-05-25T20:15:34.973Z"
   },
   {
    "duration": 44,
    "start_time": "2022-05-25T20:18:17.863Z"
   },
   {
    "duration": 39,
    "start_time": "2022-05-25T20:18:29.835Z"
   },
   {
    "duration": 25,
    "start_time": "2022-05-25T20:18:45.554Z"
   },
   {
    "duration": 42,
    "start_time": "2022-05-25T20:18:50.436Z"
   },
   {
    "duration": 27,
    "start_time": "2022-05-25T20:19:14.056Z"
   },
   {
    "duration": 40,
    "start_time": "2022-05-25T20:19:19.424Z"
   },
   {
    "duration": 36,
    "start_time": "2022-05-25T20:19:38.586Z"
   },
   {
    "duration": 37,
    "start_time": "2022-05-25T20:19:53.662Z"
   },
   {
    "duration": 57,
    "start_time": "2022-05-25T20:20:10.080Z"
   },
   {
    "duration": 48,
    "start_time": "2022-05-25T20:20:29.981Z"
   },
   {
    "duration": 35,
    "start_time": "2022-05-25T20:20:43.959Z"
   },
   {
    "duration": 19,
    "start_time": "2022-05-25T20:24:15.257Z"
   },
   {
    "duration": 9,
    "start_time": "2022-05-25T20:24:20.016Z"
   },
   {
    "duration": 23,
    "start_time": "2022-05-25T20:24:23.601Z"
   },
   {
    "duration": 8,
    "start_time": "2022-05-25T20:24:31.365Z"
   },
   {
    "duration": 24,
    "start_time": "2022-05-25T20:24:41.015Z"
   },
   {
    "duration": 11,
    "start_time": "2022-05-25T20:24:45.211Z"
   },
   {
    "duration": 23,
    "start_time": "2022-05-25T20:24:45.689Z"
   },
   {
    "duration": 11,
    "start_time": "2022-05-25T20:24:47.661Z"
   },
   {
    "duration": 16,
    "start_time": "2022-05-25T20:24:47.959Z"
   },
   {
    "duration": 20,
    "start_time": "2022-05-25T20:25:29.371Z"
   },
   {
    "duration": 44,
    "start_time": "2022-05-25T20:26:48.050Z"
   }
  ],
  "kernelspec": {
   "display_name": "Python 3 (ipykernel)",
   "language": "python",
   "name": "python3"
  },
  "language_info": {
   "codemirror_mode": {
    "name": "ipython",
    "version": 3
   },
   "file_extension": ".py",
   "mimetype": "text/x-python",
   "name": "python",
   "nbconvert_exporter": "python",
   "pygments_lexer": "ipython3",
   "version": "3.9.12"
  },
  "toc": {
   "base_numbering": 1,
   "nav_menu": {},
   "number_sections": true,
   "sideBar": true,
   "skip_h1_title": true,
   "title_cell": "Содержание",
   "title_sidebar": "Contents",
   "toc_cell": true,
   "toc_position": {
    "height": "calc(100% - 180px)",
    "left": "10px",
    "top": "150px",
    "width": "217.533px"
   },
   "toc_section_display": true,
   "toc_window_display": true
  }
 },
 "nbformat": 4,
 "nbformat_minor": 2
}
