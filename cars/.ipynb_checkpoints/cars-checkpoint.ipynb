{
 "cells": [
  {
   "cell_type": "markdown",
   "id": "626fc27e",
   "metadata": {
    "toc": true
   },
   "source": [
    "<h1>Table of Contents<span class=\"tocSkip\"></span></h1>\n",
    "<div class=\"toc\"><ul class=\"toc-item\"><li><span><a href=\"#Подготовка-данных\" data-toc-modified-id=\"Подготовка-данных-1\"><span class=\"toc-item-num\">1&nbsp;&nbsp;</span>Подготовка данных</a></span><ul class=\"toc-item\"><li><span><a href=\"#Обзор\" data-toc-modified-id=\"Обзор-1.1\"><span class=\"toc-item-num\">1.1&nbsp;&nbsp;</span>Обзор</a></span></li><li><span><a href=\"#Пропуски-и-аномалии\" data-toc-modified-id=\"Пропуски-и-аномалии-1.2\"><span class=\"toc-item-num\">1.2&nbsp;&nbsp;</span>Пропуски и аномалии</a></span></li></ul></li><li><span><a href=\"#Обучение-моделей\" data-toc-modified-id=\"Обучение-моделей-2\"><span class=\"toc-item-num\">2&nbsp;&nbsp;</span>Обучение моделей</a></span><ul class=\"toc-item\"><li><span><a href=\"#Линейные-модели-регресии\" data-toc-modified-id=\"Линейные-модели-регресии-2.1\"><span class=\"toc-item-num\">2.1&nbsp;&nbsp;</span>Линейные модели регресии</a></span></li><li><span><a href=\"#Деревья-и-ансамбли\" data-toc-modified-id=\"Деревья-и-ансамбли-2.2\"><span class=\"toc-item-num\">2.2&nbsp;&nbsp;</span>Деревья и ансамбли</a></span></li></ul></li><li><span><a href=\"#Анализ-моделей\" data-toc-modified-id=\"Анализ-моделей-3\"><span class=\"toc-item-num\">3&nbsp;&nbsp;</span>Анализ моделей</a></span></li></ul></div>"
   ]
  },
  {
   "cell_type": "markdown",
   "id": "4675ba6a",
   "metadata": {},
   "source": [
    "# Определение стоимости автомобилей"
   ]
  },
  {
   "cell_type": "markdown",
   "id": "f3b25dca",
   "metadata": {},
   "source": [
    "Сервис по продаже автомобилей с пробегом «Не бит, не крашен» разрабатывает приложение для привлечения новых клиентов. В нём можно быстро узнать рыночную стоимость своего автомобиля. В вашем распоряжении исторические данные: технические характеристики, комплектации и цены автомобилей. \n",
    "\n",
    "**Цели исследования**\n",
    "\n",
    "Необходимо построить модель для определения стоимости автомобиля на основе данных.\n",
    "\n",
    "Заказчику важны:\n",
    "\n",
    "- качество предсказания;\n",
    "- скорость предсказания;\n",
    "- время обучения.\n",
    "\n",
    "\n",
    "**Ход исследования**\n",
    "\n",
    "Исследование произведем в три этапа:\n",
    "\n",
    " - Подготовка данных\n",
    " - Обучение моделей\n",
    " - Анализ моделей"
   ]
  },
  {
   "cell_type": "markdown",
   "id": "890afff8",
   "metadata": {},
   "source": [
    "## Подготовка данных"
   ]
  },
  {
   "cell_type": "markdown",
   "id": "75b9a2c1",
   "metadata": {},
   "source": [
    "### Обзор"
   ]
  },
  {
   "cell_type": "code",
   "execution_count": 1,
   "id": "96ecde4e",
   "metadata": {
    "scrolled": true
   },
   "outputs": [],
   "source": [
    "import pandas as pd\n",
    "import numpy as np\n",
    "import datetime\n",
    "import seaborn as sns\n",
    "import matplotlib.pyplot as plt\n",
    "\n",
    "from sklearn.dummy import DummyRegressor\n",
    "from sklearn.linear_model import LinearRegression, Lasso, ElasticNet, Ridge\n",
    "from sklearn.tree import DecisionTreeRegressor\n",
    "from sklearn.ensemble import RandomForestRegressor, GradientBoostingRegressor\n",
    "from sklearn import linear_model\n",
    "\n",
    "from catboost import CatBoostRegressor\n",
    "from lightgbm import LGBMRegressor\n",
    "from xgboost import XGBRegressor\n",
    "\n",
    "from sklearn.model_selection import train_test_split\n",
    "from sklearn.preprocessing import StandardScaler, OrdinalEncoder\n",
    "from sklearn.model_selection import cross_val_score, RandomizedSearchCV\n",
    "from sklearn.metrics import mean_squared_error"
   ]
  },
  {
   "cell_type": "code",
   "execution_count": 2,
   "id": "2c294089",
   "metadata": {},
   "outputs": [],
   "source": [
    "try: \n",
    "    df = pd.read_csv('/datasets/autos.csv')\n",
    "except:\n",
    "    df = pd.read_csv('https://code.s3.yandex.net/datasets/autos.csv')"
   ]
  },
  {
   "cell_type": "code",
   "execution_count": 3,
   "id": "ca224ecd",
   "metadata": {},
   "outputs": [
    {
     "data": {
      "text/html": [
       "<div>\n",
       "<style scoped>\n",
       "    .dataframe tbody tr th:only-of-type {\n",
       "        vertical-align: middle;\n",
       "    }\n",
       "\n",
       "    .dataframe tbody tr th {\n",
       "        vertical-align: top;\n",
       "    }\n",
       "\n",
       "    .dataframe thead th {\n",
       "        text-align: right;\n",
       "    }\n",
       "</style>\n",
       "<table border=\"1\" class=\"dataframe\">\n",
       "  <thead>\n",
       "    <tr style=\"text-align: right;\">\n",
       "      <th></th>\n",
       "      <th>DateCrawled</th>\n",
       "      <th>Price</th>\n",
       "      <th>VehicleType</th>\n",
       "      <th>RegistrationYear</th>\n",
       "      <th>Gearbox</th>\n",
       "      <th>Power</th>\n",
       "      <th>Model</th>\n",
       "      <th>Kilometer</th>\n",
       "      <th>RegistrationMonth</th>\n",
       "      <th>FuelType</th>\n",
       "      <th>Brand</th>\n",
       "      <th>NotRepaired</th>\n",
       "      <th>DateCreated</th>\n",
       "      <th>NumberOfPictures</th>\n",
       "      <th>PostalCode</th>\n",
       "      <th>LastSeen</th>\n",
       "    </tr>\n",
       "  </thead>\n",
       "  <tbody>\n",
       "    <tr>\n",
       "      <th>0</th>\n",
       "      <td>2016-03-24 11:52:17</td>\n",
       "      <td>480</td>\n",
       "      <td>NaN</td>\n",
       "      <td>1993</td>\n",
       "      <td>manual</td>\n",
       "      <td>0</td>\n",
       "      <td>golf</td>\n",
       "      <td>150000</td>\n",
       "      <td>0</td>\n",
       "      <td>petrol</td>\n",
       "      <td>volkswagen</td>\n",
       "      <td>NaN</td>\n",
       "      <td>2016-03-24 00:00:00</td>\n",
       "      <td>0</td>\n",
       "      <td>70435</td>\n",
       "      <td>2016-04-07 03:16:57</td>\n",
       "    </tr>\n",
       "    <tr>\n",
       "      <th>1</th>\n",
       "      <td>2016-03-24 10:58:45</td>\n",
       "      <td>18300</td>\n",
       "      <td>coupe</td>\n",
       "      <td>2011</td>\n",
       "      <td>manual</td>\n",
       "      <td>190</td>\n",
       "      <td>NaN</td>\n",
       "      <td>125000</td>\n",
       "      <td>5</td>\n",
       "      <td>gasoline</td>\n",
       "      <td>audi</td>\n",
       "      <td>yes</td>\n",
       "      <td>2016-03-24 00:00:00</td>\n",
       "      <td>0</td>\n",
       "      <td>66954</td>\n",
       "      <td>2016-04-07 01:46:50</td>\n",
       "    </tr>\n",
       "    <tr>\n",
       "      <th>2</th>\n",
       "      <td>2016-03-14 12:52:21</td>\n",
       "      <td>9800</td>\n",
       "      <td>suv</td>\n",
       "      <td>2004</td>\n",
       "      <td>auto</td>\n",
       "      <td>163</td>\n",
       "      <td>grand</td>\n",
       "      <td>125000</td>\n",
       "      <td>8</td>\n",
       "      <td>gasoline</td>\n",
       "      <td>jeep</td>\n",
       "      <td>NaN</td>\n",
       "      <td>2016-03-14 00:00:00</td>\n",
       "      <td>0</td>\n",
       "      <td>90480</td>\n",
       "      <td>2016-04-05 12:47:46</td>\n",
       "    </tr>\n",
       "    <tr>\n",
       "      <th>3</th>\n",
       "      <td>2016-03-17 16:54:04</td>\n",
       "      <td>1500</td>\n",
       "      <td>small</td>\n",
       "      <td>2001</td>\n",
       "      <td>manual</td>\n",
       "      <td>75</td>\n",
       "      <td>golf</td>\n",
       "      <td>150000</td>\n",
       "      <td>6</td>\n",
       "      <td>petrol</td>\n",
       "      <td>volkswagen</td>\n",
       "      <td>no</td>\n",
       "      <td>2016-03-17 00:00:00</td>\n",
       "      <td>0</td>\n",
       "      <td>91074</td>\n",
       "      <td>2016-03-17 17:40:17</td>\n",
       "    </tr>\n",
       "    <tr>\n",
       "      <th>4</th>\n",
       "      <td>2016-03-31 17:25:20</td>\n",
       "      <td>3600</td>\n",
       "      <td>small</td>\n",
       "      <td>2008</td>\n",
       "      <td>manual</td>\n",
       "      <td>69</td>\n",
       "      <td>fabia</td>\n",
       "      <td>90000</td>\n",
       "      <td>7</td>\n",
       "      <td>gasoline</td>\n",
       "      <td>skoda</td>\n",
       "      <td>no</td>\n",
       "      <td>2016-03-31 00:00:00</td>\n",
       "      <td>0</td>\n",
       "      <td>60437</td>\n",
       "      <td>2016-04-06 10:17:21</td>\n",
       "    </tr>\n",
       "  </tbody>\n",
       "</table>\n",
       "</div>"
      ],
      "text/plain": [
       "           DateCrawled  Price VehicleType  RegistrationYear Gearbox  Power  \\\n",
       "0  2016-03-24 11:52:17    480         NaN              1993  manual      0   \n",
       "1  2016-03-24 10:58:45  18300       coupe              2011  manual    190   \n",
       "2  2016-03-14 12:52:21   9800         suv              2004    auto    163   \n",
       "3  2016-03-17 16:54:04   1500       small              2001  manual     75   \n",
       "4  2016-03-31 17:25:20   3600       small              2008  manual     69   \n",
       "\n",
       "   Model  Kilometer  RegistrationMonth  FuelType       Brand NotRepaired  \\\n",
       "0   golf     150000                  0    petrol  volkswagen         NaN   \n",
       "1    NaN     125000                  5  gasoline        audi         yes   \n",
       "2  grand     125000                  8  gasoline        jeep         NaN   \n",
       "3   golf     150000                  6    petrol  volkswagen          no   \n",
       "4  fabia      90000                  7  gasoline       skoda          no   \n",
       "\n",
       "           DateCreated  NumberOfPictures  PostalCode             LastSeen  \n",
       "0  2016-03-24 00:00:00                 0       70435  2016-04-07 03:16:57  \n",
       "1  2016-03-24 00:00:00                 0       66954  2016-04-07 01:46:50  \n",
       "2  2016-03-14 00:00:00                 0       90480  2016-04-05 12:47:46  \n",
       "3  2016-03-17 00:00:00                 0       91074  2016-03-17 17:40:17  \n",
       "4  2016-03-31 00:00:00                 0       60437  2016-04-06 10:17:21  "
      ]
     },
     "execution_count": 3,
     "metadata": {},
     "output_type": "execute_result"
    }
   ],
   "source": [
    "df.head()"
   ]
  },
  {
   "cell_type": "code",
   "execution_count": 4,
   "id": "7f981fd0",
   "metadata": {},
   "outputs": [
    {
     "name": "stdout",
     "output_type": "stream",
     "text": [
      "<class 'pandas.core.frame.DataFrame'>\n",
      "RangeIndex: 354369 entries, 0 to 354368\n",
      "Data columns (total 16 columns):\n",
      " #   Column             Non-Null Count   Dtype \n",
      "---  ------             --------------   ----- \n",
      " 0   DateCrawled        354369 non-null  object\n",
      " 1   Price              354369 non-null  int64 \n",
      " 2   VehicleType        316879 non-null  object\n",
      " 3   RegistrationYear   354369 non-null  int64 \n",
      " 4   Gearbox            334536 non-null  object\n",
      " 5   Power              354369 non-null  int64 \n",
      " 6   Model              334664 non-null  object\n",
      " 7   Kilometer          354369 non-null  int64 \n",
      " 8   RegistrationMonth  354369 non-null  int64 \n",
      " 9   FuelType           321474 non-null  object\n",
      " 10  Brand              354369 non-null  object\n",
      " 11  NotRepaired        283215 non-null  object\n",
      " 12  DateCreated        354369 non-null  object\n",
      " 13  NumberOfPictures   354369 non-null  int64 \n",
      " 14  PostalCode         354369 non-null  int64 \n",
      " 15  LastSeen           354369 non-null  object\n",
      "dtypes: int64(7), object(9)\n",
      "memory usage: 43.3+ MB\n"
     ]
    }
   ],
   "source": [
    "df.info()"
   ]
  },
  {
   "cell_type": "markdown",
   "id": "5aaa548a",
   "metadata": {},
   "source": [
    "Таблица содержит 16 признаков типа int 64 и object.\n",
    "\n",
    "Описание данных:\n",
    "\n",
    "**Признаки**\n",
    "\n",
    "- *DateCrawled* — дата скачивания анкеты из базы\n",
    "- *VehicleType* — тип автомобильного кузова\n",
    "- *RegistrationYear* — год регистрации автомобиля\n",
    "- *Gearbox* — тип коробки передач\n",
    "- *Power* — мощность (л. с.)\n",
    "- *Model* — модель автомобиля\n",
    "- *Kilometer* — пробег (км)\n",
    "- *RegistrationMonth* — месяц регистрации автомобиля\n",
    "- *FuelType* — тип топлива\n",
    "- *Brand* — марка автомобиля\n",
    "- *NotRepaired* — была машина в ремонте или нет\n",
    "- *DateCreated* — дата создания анкеты\n",
    "- *NumberOfPictures* — количество фотографий автомобиля\n",
    "- *PostalCode* — почтовый индекс владельца анкеты (пользователя)\n",
    "- *LastSeen* — дата последней активности пользователя\n",
    "\n",
    "**Целевой признак**\n",
    "\n",
    "*Price* — цена (евро)"
   ]
  },
  {
   "cell_type": "code",
   "execution_count": 5,
   "id": "de132f95",
   "metadata": {},
   "outputs": [
    {
     "data": {
      "text/plain": [
       "DateCrawled          0.000000\n",
       "Price                0.000000\n",
       "VehicleType          0.105794\n",
       "RegistrationYear     0.000000\n",
       "Gearbox              0.055967\n",
       "Power                0.000000\n",
       "Model                0.055606\n",
       "Kilometer            0.000000\n",
       "RegistrationMonth    0.000000\n",
       "FuelType             0.092827\n",
       "Brand                0.000000\n",
       "NotRepaired          0.200791\n",
       "DateCreated          0.000000\n",
       "NumberOfPictures     0.000000\n",
       "PostalCode           0.000000\n",
       "LastSeen             0.000000\n",
       "dtype: float64"
      ]
     },
     "execution_count": 5,
     "metadata": {},
     "output_type": "execute_result"
    }
   ],
   "source": [
    "df.isna().mean()"
   ]
  },
  {
   "cell_type": "markdown",
   "id": "790b34c1",
   "metadata": {},
   "source": [
    "В двух столбцах присутствуют пропуски более чем в 10% объектов исследования. Так же необходимо удалить столбцы с датами `DateCrawled`, `LastSeen`, `DateCreated `, поскольку от даты создания анкеты или активности пользователя не зависит стоимость автомобиля. Названия колонок приведем к змеиному регистру."
   ]
  },
  {
   "cell_type": "markdown",
   "id": "8982af17",
   "metadata": {},
   "source": [
    "### Пропуски и аномалии"
   ]
  },
  {
   "cell_type": "code",
   "execution_count": 6,
   "id": "35ece9b9",
   "metadata": {},
   "outputs": [],
   "source": [
    "df.columns = df.columns.str.replace(r\"([A-Z])\", r\" \\1\", regex=True).str.lower().str.replace(' ', '_').str[1:]"
   ]
  },
  {
   "cell_type": "code",
   "execution_count": 7,
   "id": "00dc032a",
   "metadata": {},
   "outputs": [
    {
     "data": {
      "text/plain": [
       "Index(['date_crawled', 'price', 'vehicle_type', 'registration_year', 'gearbox',\n",
       "       'power', 'model', 'kilometer', 'registration_month', 'fuel_type',\n",
       "       'brand', 'not_repaired', 'date_created', 'number_of_pictures',\n",
       "       'postal_code', 'last_seen'],\n",
       "      dtype='object')"
      ]
     },
     "execution_count": 7,
     "metadata": {},
     "output_type": "execute_result"
    }
   ],
   "source": [
    "df.columns"
   ]
  },
  {
   "cell_type": "code",
   "execution_count": 8,
   "id": "e55c6474",
   "metadata": {},
   "outputs": [],
   "source": [
    "df = df.drop(['date_created', 'last_seen', 'date_crawled'], axis=1)"
   ]
  },
  {
   "cell_type": "code",
   "execution_count": 9,
   "id": "6922bb5e",
   "metadata": {},
   "outputs": [
    {
     "data": {
      "text/plain": [
       "array([[<AxesSubplot:title={'center':'price'}>,\n",
       "        <AxesSubplot:title={'center':'registration_year'}>,\n",
       "        <AxesSubplot:title={'center':'power'}>],\n",
       "       [<AxesSubplot:title={'center':'kilometer'}>,\n",
       "        <AxesSubplot:title={'center':'registration_month'}>,\n",
       "        <AxesSubplot:title={'center':'number_of_pictures'}>],\n",
       "       [<AxesSubplot:title={'center':'postal_code'}>, <AxesSubplot:>,\n",
       "        <AxesSubplot:>]], dtype=object)"
      ]
     },
     "execution_count": 9,
     "metadata": {},
     "output_type": "execute_result"
    },
    {
     "data": {
      "image/png": "[encoded data removed]",
      "text/plain": [
       "<Figure size 1080x1080 with 9 Axes>"
      ]
     },
     "metadata": {
      "needs_background": "light"
     },
     "output_type": "display_data"
    }
   ],
   "source": [
    "df.hist(xrot =45, figsize=(15,15))"
   ]
  },
  {
   "cell_type": "code",
   "execution_count": 10,
   "id": "b61783da",
   "metadata": {},
   "outputs": [
    {
     "data": {
      "text/html": [
       "<div>\n",
       "<style scoped>\n",
       "    .dataframe tbody tr th:only-of-type {\n",
       "        vertical-align: middle;\n",
       "    }\n",
       "\n",
       "    .dataframe tbody tr th {\n",
       "        vertical-align: top;\n",
       "    }\n",
       "\n",
       "    .dataframe thead th {\n",
       "        text-align: right;\n",
       "    }\n",
       "</style>\n",
       "<table border=\"1\" class=\"dataframe\">\n",
       "  <thead>\n",
       "    <tr style=\"text-align: right;\">\n",
       "      <th></th>\n",
       "      <th>count</th>\n",
       "      <th>mean</th>\n",
       "      <th>std</th>\n",
       "      <th>min</th>\n",
       "      <th>25%</th>\n",
       "      <th>50%</th>\n",
       "      <th>75%</th>\n",
       "      <th>max</th>\n",
       "    </tr>\n",
       "  </thead>\n",
       "  <tbody>\n",
       "    <tr>\n",
       "      <th>price</th>\n",
       "      <td>354369.0</td>\n",
       "      <td>4416.656776</td>\n",
       "      <td>4514.158514</td>\n",
       "      <td>0.0</td>\n",
       "      <td>1050.0</td>\n",
       "      <td>2700.0</td>\n",
       "      <td>6400.0</td>\n",
       "      <td>20000.0</td>\n",
       "    </tr>\n",
       "    <tr>\n",
       "      <th>registration_year</th>\n",
       "      <td>354369.0</td>\n",
       "      <td>2004.234448</td>\n",
       "      <td>90.227958</td>\n",
       "      <td>1000.0</td>\n",
       "      <td>1999.0</td>\n",
       "      <td>2003.0</td>\n",
       "      <td>2008.0</td>\n",
       "      <td>9999.0</td>\n",
       "    </tr>\n",
       "    <tr>\n",
       "      <th>power</th>\n",
       "      <td>354369.0</td>\n",
       "      <td>110.094337</td>\n",
       "      <td>189.850405</td>\n",
       "      <td>0.0</td>\n",
       "      <td>69.0</td>\n",
       "      <td>105.0</td>\n",
       "      <td>143.0</td>\n",
       "      <td>20000.0</td>\n",
       "    </tr>\n",
       "    <tr>\n",
       "      <th>kilometer</th>\n",
       "      <td>354369.0</td>\n",
       "      <td>128211.172535</td>\n",
       "      <td>37905.341530</td>\n",
       "      <td>5000.0</td>\n",
       "      <td>125000.0</td>\n",
       "      <td>150000.0</td>\n",
       "      <td>150000.0</td>\n",
       "      <td>150000.0</td>\n",
       "    </tr>\n",
       "    <tr>\n",
       "      <th>registration_month</th>\n",
       "      <td>354369.0</td>\n",
       "      <td>5.714645</td>\n",
       "      <td>3.726421</td>\n",
       "      <td>0.0</td>\n",
       "      <td>3.0</td>\n",
       "      <td>6.0</td>\n",
       "      <td>9.0</td>\n",
       "      <td>12.0</td>\n",
       "    </tr>\n",
       "    <tr>\n",
       "      <th>number_of_pictures</th>\n",
       "      <td>354369.0</td>\n",
       "      <td>0.000000</td>\n",
       "      <td>0.000000</td>\n",
       "      <td>0.0</td>\n",
       "      <td>0.0</td>\n",
       "      <td>0.0</td>\n",
       "      <td>0.0</td>\n",
       "      <td>0.0</td>\n",
       "    </tr>\n",
       "    <tr>\n",
       "      <th>postal_code</th>\n",
       "      <td>354369.0</td>\n",
       "      <td>50508.689087</td>\n",
       "      <td>25783.096248</td>\n",
       "      <td>1067.0</td>\n",
       "      <td>30165.0</td>\n",
       "      <td>49413.0</td>\n",
       "      <td>71083.0</td>\n",
       "      <td>99998.0</td>\n",
       "    </tr>\n",
       "  </tbody>\n",
       "</table>\n",
       "</div>"
      ],
      "text/plain": [
       "                       count           mean           std     min       25%  \\\n",
       "price               354369.0    4416.656776   4514.158514     0.0    1050.0   \n",
       "registration_year   354369.0    2004.234448     90.227958  1000.0    1999.0   \n",
       "power               354369.0     110.094337    189.850405     0.0      69.0   \n",
       "kilometer           354369.0  128211.172535  37905.341530  5000.0  125000.0   \n",
       "registration_month  354369.0       5.714645      3.726421     0.0       3.0   \n",
       "number_of_pictures  354369.0       0.000000      0.000000     0.0       0.0   \n",
       "postal_code         354369.0   50508.689087  25783.096248  1067.0   30165.0   \n",
       "\n",
       "                         50%       75%       max  \n",
       "price                 2700.0    6400.0   20000.0  \n",
       "registration_year     2003.0    2008.0    9999.0  \n",
       "power                  105.0     143.0   20000.0  \n",
       "kilometer           150000.0  150000.0  150000.0  \n",
       "registration_month       6.0       9.0      12.0  \n",
       "number_of_pictures       0.0       0.0       0.0  \n",
       "postal_code          49413.0   71083.0   99998.0  "
      ]
     },
     "execution_count": 10,
     "metadata": {},
     "output_type": "execute_result"
    }
   ],
   "source": [
    "desc = df.describe().T\n",
    "desc"
   ]
  },
  {
   "cell_type": "markdown",
   "id": "c74d4c54",
   "metadata": {},
   "source": [
    "Предварительно отметим следущее:\n",
    "\n",
    "- в `registration_year` диапазон значений находится в интервале [1000, 9999];\n",
    "- в `price` и `registration_month` присутствуют нулевые значения;\n",
    "- в `power`, помимо нулевых, присутствуют так же слишком высокие значения мощности двигателя;\n",
    "- `number_of_pictures` содержит только нули, его следует удалить\n",
    "- `postal_code` не содержит информацию касательно авто, исказит моделирование. Данный столбец так же удалим."
   ]
  },
  {
   "cell_type": "code",
   "execution_count": 11,
   "id": "ba5c7aff",
   "metadata": {},
   "outputs": [
    {
     "data": {
      "text/html": [
       "<div>\n",
       "<style scoped>\n",
       "    .dataframe tbody tr th:only-of-type {\n",
       "        vertical-align: middle;\n",
       "    }\n",
       "\n",
       "    .dataframe tbody tr th {\n",
       "        vertical-align: top;\n",
       "    }\n",
       "\n",
       "    .dataframe thead th {\n",
       "        text-align: right;\n",
       "    }\n",
       "</style>\n",
       "<table border=\"1\" class=\"dataframe\">\n",
       "  <thead>\n",
       "    <tr style=\"text-align: right;\">\n",
       "      <th></th>\n",
       "      <th>price</th>\n",
       "      <th>registration_year</th>\n",
       "      <th>power</th>\n",
       "      <th>kilometer</th>\n",
       "      <th>registration_month</th>\n",
       "      <th>number_of_pictures</th>\n",
       "      <th>postal_code</th>\n",
       "    </tr>\n",
       "  </thead>\n",
       "  <tbody>\n",
       "    <tr>\n",
       "      <th>price</th>\n",
       "      <td>1.000000</td>\n",
       "      <td>0.026916</td>\n",
       "      <td>0.158872</td>\n",
       "      <td>-0.333199</td>\n",
       "      <td>0.110581</td>\n",
       "      <td>NaN</td>\n",
       "      <td>0.076055</td>\n",
       "    </tr>\n",
       "    <tr>\n",
       "      <th>registration_year</th>\n",
       "      <td>0.026916</td>\n",
       "      <td>1.000000</td>\n",
       "      <td>-0.000828</td>\n",
       "      <td>-0.053447</td>\n",
       "      <td>-0.011619</td>\n",
       "      <td>NaN</td>\n",
       "      <td>-0.003459</td>\n",
       "    </tr>\n",
       "    <tr>\n",
       "      <th>power</th>\n",
       "      <td>0.158872</td>\n",
       "      <td>-0.000828</td>\n",
       "      <td>1.000000</td>\n",
       "      <td>0.024002</td>\n",
       "      <td>0.043380</td>\n",
       "      <td>NaN</td>\n",
       "      <td>0.021665</td>\n",
       "    </tr>\n",
       "    <tr>\n",
       "      <th>kilometer</th>\n",
       "      <td>-0.333199</td>\n",
       "      <td>-0.053447</td>\n",
       "      <td>0.024002</td>\n",
       "      <td>1.000000</td>\n",
       "      <td>0.009571</td>\n",
       "      <td>NaN</td>\n",
       "      <td>-0.007698</td>\n",
       "    </tr>\n",
       "    <tr>\n",
       "      <th>registration_month</th>\n",
       "      <td>0.110581</td>\n",
       "      <td>-0.011619</td>\n",
       "      <td>0.043380</td>\n",
       "      <td>0.009571</td>\n",
       "      <td>1.000000</td>\n",
       "      <td>NaN</td>\n",
       "      <td>0.013995</td>\n",
       "    </tr>\n",
       "    <tr>\n",
       "      <th>number_of_pictures</th>\n",
       "      <td>NaN</td>\n",
       "      <td>NaN</td>\n",
       "      <td>NaN</td>\n",
       "      <td>NaN</td>\n",
       "      <td>NaN</td>\n",
       "      <td>NaN</td>\n",
       "      <td>NaN</td>\n",
       "    </tr>\n",
       "    <tr>\n",
       "      <th>postal_code</th>\n",
       "      <td>0.076055</td>\n",
       "      <td>-0.003459</td>\n",
       "      <td>0.021665</td>\n",
       "      <td>-0.007698</td>\n",
       "      <td>0.013995</td>\n",
       "      <td>NaN</td>\n",
       "      <td>1.000000</td>\n",
       "    </tr>\n",
       "  </tbody>\n",
       "</table>\n",
       "</div>"
      ],
      "text/plain": [
       "                       price  registration_year     power  kilometer  \\\n",
       "price               1.000000           0.026916  0.158872  -0.333199   \n",
       "registration_year   0.026916           1.000000 -0.000828  -0.053447   \n",
       "power               0.158872          -0.000828  1.000000   0.024002   \n",
       "kilometer          -0.333199          -0.053447  0.024002   1.000000   \n",
       "registration_month  0.110581          -0.011619  0.043380   0.009571   \n",
       "number_of_pictures       NaN                NaN       NaN        NaN   \n",
       "postal_code         0.076055          -0.003459  0.021665  -0.007698   \n",
       "\n",
       "                    registration_month  number_of_pictures  postal_code  \n",
       "price                         0.110581                 NaN     0.076055  \n",
       "registration_year            -0.011619                 NaN    -0.003459  \n",
       "power                         0.043380                 NaN     0.021665  \n",
       "kilometer                     0.009571                 NaN    -0.007698  \n",
       "registration_month            1.000000                 NaN     0.013995  \n",
       "number_of_pictures                 NaN                 NaN          NaN  \n",
       "postal_code                   0.013995                 NaN     1.000000  "
      ]
     },
     "execution_count": 11,
     "metadata": {},
     "output_type": "execute_result"
    }
   ],
   "source": [
    "df.corr()"
   ]
  },
  {
   "cell_type": "markdown",
   "id": "9e8b2498",
   "metadata": {},
   "source": [
    "Можно отметить, что с ростом пробега цена снижается - наблюдается слабая обратная зависимость. Корреляция иных числовых значений друг с другом отсутствует."
   ]
  },
  {
   "cell_type": "code",
   "execution_count": 12,
   "id": "87ad51be",
   "metadata": {},
   "outputs": [
    {
     "data": {
      "text/plain": [
       "21333"
      ]
     },
     "execution_count": 12,
     "metadata": {},
     "output_type": "execute_result"
    }
   ],
   "source": [
    "df.duplicated().sum()"
   ]
  },
  {
   "cell_type": "code",
   "execution_count": 13,
   "id": "0253bab4",
   "metadata": {},
   "outputs": [],
   "source": [
    "df = df.drop_duplicates().reset_index(drop=True)"
   ]
  },
  {
   "cell_type": "code",
   "execution_count": 14,
   "id": "876ed0f8",
   "metadata": {},
   "outputs": [],
   "source": [
    "df = df.drop(['number_of_pictures', 'postal_code'], axis=1)"
   ]
  },
  {
   "cell_type": "code",
   "execution_count": 15,
   "id": "e5cb58b5",
   "metadata": {},
   "outputs": [
    {
     "data": {
      "text/plain": [
       "0     35789\n",
       "3     32213\n",
       "6     29579\n",
       "4     27674\n",
       "5     27372\n",
       "7     25620\n",
       "10    24301\n",
       "12    22674\n",
       "11    22601\n",
       "9     22242\n",
       "1     21822\n",
       "8     21223\n",
       "2     19926\n",
       "Name: registration_month, dtype: int64"
      ]
     },
     "execution_count": 15,
     "metadata": {},
     "output_type": "execute_result"
    }
   ],
   "source": [
    "df['registration_month'].value_counts()"
   ]
  },
  {
   "cell_type": "markdown",
   "id": "e33e471f",
   "metadata": {},
   "source": [
    "Нулевое значение в `registration_month` вероятно означает остутствие информации о месяце регистрации авто. Оставим эти значения без изменений."
   ]
  },
  {
   "cell_type": "code",
   "execution_count": 16,
   "id": "23ab6b57",
   "metadata": {},
   "outputs": [
    {
     "data": {
      "text/plain": [
       "array([150000, 125000,  90000,  40000,  30000,  70000,   5000, 100000,\n",
       "        60000,  20000,  80000,  50000,  10000], dtype=int64)"
      ]
     },
     "execution_count": 16,
     "metadata": {},
     "output_type": "execute_result"
    }
   ],
   "source": [
    "df['kilometer'].unique()"
   ]
  },
  {
   "cell_type": "code",
   "execution_count": 17,
   "id": "2deadd1e",
   "metadata": {},
   "outputs": [
    {
     "data": {
      "text/plain": [
       "array(['volvo', 'volkswagen', 'trabant', 'toyota', 'suzuki', 'subaru',\n",
       "       'sonstige_autos', 'smart', 'skoda', 'seat', 'saab', 'rover',\n",
       "       'renault', 'porsche', 'peugeot', 'opel', 'nissan', 'mitsubishi',\n",
       "       'mini', 'mercedes_benz', 'mazda', 'land_rover', 'lancia', 'lada',\n",
       "       'kia', 'jeep', 'jaguar', 'hyundai', 'honda', 'ford', 'fiat',\n",
       "       'daihatsu', 'daewoo', 'dacia', 'citroen', 'chrysler', 'chevrolet',\n",
       "       'bmw', 'audi', 'alfa_romeo'], dtype=object)"
      ]
     },
     "execution_count": 17,
     "metadata": {},
     "output_type": "execute_result"
    }
   ],
   "source": [
    "df['brand'].sort_values(ascending=False).unique()"
   ]
  },
  {
   "cell_type": "code",
   "execution_count": 18,
   "id": "300ab96a",
   "metadata": {},
   "outputs": [
    {
     "data": {
      "text/plain": [
       "array(['100', '145', '147', '156', '159', '1_reihe', '1er', '200',\n",
       "       '2_reihe', '300c', '3_reihe', '3er', '4_reihe', '500', '5_reihe',\n",
       "       '5er', '601', '6_reihe', '6er', '7er', '80', '850', '90', '900',\n",
       "       '9000', '911', 'a1', 'a2', 'a3', 'a4', 'a5', 'a6', 'a8',\n",
       "       'a_klasse', 'accord', 'agila', 'alhambra', 'almera', 'altea',\n",
       "       'amarok', 'antara', 'arosa', 'astra', 'auris', 'avensis', 'aveo',\n",
       "       'aygo', 'b_klasse', 'b_max', 'beetle', 'berlingo', 'bora',\n",
       "       'boxster', 'bravo', 'c1', 'c2', 'c3', 'c4', 'c5', 'c_klasse',\n",
       "       'c_max', 'c_reihe', 'caddy', 'calibra', 'captiva', 'carisma',\n",
       "       'carnival', 'cayenne', 'cc', 'ceed', 'charade', 'cherokee',\n",
       "       'citigo', 'civic', 'cl', 'clio', 'clk', 'clubman', 'colt', 'combo',\n",
       "       'cooper', 'cordoba', 'corolla', 'corsa', 'cr_reihe', 'croma',\n",
       "       'crossfire', 'cuore', 'cx_reihe', 'defender', 'delta', 'discovery',\n",
       "       'doblo', 'ducato', 'duster', 'e_klasse', 'elefantino', 'eos',\n",
       "       'escort', 'espace', 'exeo', 'fabia', 'fiesta', 'focus', 'forester',\n",
       "       'forfour', 'fortwo', 'fox', 'freelander', 'fusion', 'g_klasse',\n",
       "       'galant', 'galaxy', 'getz', 'gl', 'glk', 'golf', 'grand', 'i3',\n",
       "       'i_reihe', 'ibiza', 'impreza', 'insignia', 'jazz', 'jetta',\n",
       "       'jimny', 'juke', 'justy', 'ka', 'kadett', 'kaefer', 'kalina',\n",
       "       'kalos', 'kangoo', 'kappa', 'kuga', 'laguna', 'lancer', 'lanos',\n",
       "       'legacy', 'leon', 'lodgy', 'logan', 'lupo', 'lybra', 'm_klasse',\n",
       "       'm_reihe', 'materia', 'matiz', 'megane', 'meriva', 'micra', 'mii',\n",
       "       'modus', 'mondeo', 'move', 'musa', 'mustang', 'mx_reihe', 'navara',\n",
       "       'niva', 'note', 'nubira', 'octavia', 'omega', 'one', 'other',\n",
       "       'outlander', 'pajero', 'panda', 'passat', 'phaeton', 'picanto',\n",
       "       'polo', 'primera', 'ptcruiser', 'punto', 'q3', 'q5', 'q7',\n",
       "       'qashqai', 'r19', 'range_rover', 'range_rover_evoque',\n",
       "       'range_rover_sport', 'rangerover', 'rav', 'rio', 'roadster',\n",
       "       'roomster', 'rx_reihe', 's60', 's_klasse', 's_max', 's_type',\n",
       "       'samara', 'sandero', 'santa', 'scenic', 'scirocco', 'seicento',\n",
       "       'serie_1', 'serie_2', 'serie_3', 'sharan', 'signum', 'sirion',\n",
       "       'sl', 'slk', 'sorento', 'spark', 'spider', 'sportage', 'sprinter',\n",
       "       'stilo', 'superb', 'swift', 'terios', 'tigra', 'tiguan', 'toledo',\n",
       "       'touareg', 'touran', 'transit', 'transporter', 'tt', 'tucson',\n",
       "       'twingo', 'up', 'v40', 'v50', 'v60', 'v70', 'v_klasse', 'vectra',\n",
       "       'verso', 'viano', 'vito', 'vivaro', 'voyager', 'wrangler',\n",
       "       'x_reihe', 'x_trail', 'x_type', 'xc_reihe', 'yaris', 'yeti',\n",
       "       'ypsilon', 'z_reihe', 'zafira', nan], dtype=object)"
      ]
     },
     "execution_count": 18,
     "metadata": {},
     "output_type": "execute_result"
    }
   ],
   "source": [
    "df['model'].sort_values(ascending=True).unique()"
   ]
  },
  {
   "cell_type": "markdown",
   "id": "4f002020",
   "metadata": {},
   "source": [
    "Заменим неявные дубликаты в названии 'rangerover' на 'range_rover'. Пропуски значений менее 6%, удалим их, поскольку восстановить наименование модели невозможно:"
   ]
  },
  {
   "cell_type": "code",
   "execution_count": 19,
   "id": "c04de73c",
   "metadata": {},
   "outputs": [],
   "source": [
    "df['model'] = df['model'].replace('rangerover', 'range_rover')"
   ]
  },
  {
   "cell_type": "code",
   "execution_count": 20,
   "id": "e47ab3c4",
   "metadata": {},
   "outputs": [],
   "source": [
    "df = df.dropna(subset=['model'])"
   ]
  },
  {
   "cell_type": "code",
   "execution_count": 21,
   "id": "ece5ade6",
   "metadata": {},
   "outputs": [
    {
     "data": {
      "text/plain": [
       "array(['petrol', 'gasoline', nan, 'lpg', 'other', 'hybrid', 'cng',\n",
       "       'electric'], dtype=object)"
      ]
     },
     "execution_count": 21,
     "metadata": {},
     "output_type": "execute_result"
    }
   ],
   "source": [
    "df['fuel_type'].unique()"
   ]
  },
  {
   "cell_type": "code",
   "execution_count": 22,
   "id": "8e453e1e",
   "metadata": {},
   "outputs": [
    {
     "data": {
      "text/plain": [
       "array(['manual', 'auto', nan], dtype=object)"
      ]
     },
     "execution_count": 22,
     "metadata": {},
     "output_type": "execute_result"
    }
   ],
   "source": [
    "df['gearbox'].unique()"
   ]
  },
  {
   "cell_type": "code",
   "execution_count": 23,
   "id": "3dbf5197",
   "metadata": {},
   "outputs": [
    {
     "data": {
      "text/plain": [
       "array([nan, 'suv', 'small', 'sedan', 'convertible', 'bus', 'wagon',\n",
       "       'coupe', 'other'], dtype=object)"
      ]
     },
     "execution_count": 23,
     "metadata": {},
     "output_type": "execute_result"
    }
   ],
   "source": [
    "df['vehicle_type'].unique()"
   ]
  },
  {
   "cell_type": "code",
   "execution_count": 24,
   "id": "214db634",
   "metadata": {},
   "outputs": [
    {
     "data": {
      "text/plain": [
       "0.1552706416613325"
      ]
     },
     "execution_count": 24,
     "metadata": {},
     "output_type": "execute_result"
    }
   ],
   "source": [
    "df[(df['fuel_type'].isna())|(df['vehicle_type'].isna())|(df['gearbox'].isna())].shape[0]/len(df)"
   ]
  },
  {
   "cell_type": "markdown",
   "id": "8b89f324",
   "metadata": {},
   "source": [
    "Совокупно пропуски в данных колонках составляют чуть более 15%."
   ]
  },
  {
   "cell_type": "code",
   "execution_count": 25,
   "id": "ed9c0097",
   "metadata": {},
   "outputs": [],
   "source": [
    "gearbox = df.pivot_table(index=['brand'], columns=['gearbox'], values='model', aggfunc=['count'])"
   ]
  },
  {
   "cell_type": "code",
   "execution_count": 26,
   "id": "1dc3c586",
   "metadata": {},
   "outputs": [
    {
     "data": {
      "image/png": "[encoded data removed]",
      "text/plain": [
       "<Figure size 504x1440 with 2 Axes>"
      ]
     },
     "metadata": {
      "needs_background": "light"
     },
     "output_type": "display_data"
    }
   ],
   "source": [
    "plt.figure(figsize=(7,20))\n",
    "auto = sns.heatmap(gearbox, annot=True, cmap='magma')"
   ]
  },
  {
   "cell_type": "markdown",
   "id": "7c6261bc",
   "metadata": {},
   "source": [
    "Для того, чтобы заполнить пропуски, используем популярное значение, зависящее от марки и модели авто:"
   ]
  },
  {
   "cell_type": "code",
   "execution_count": 27,
   "id": "8f44eae1",
   "metadata": {},
   "outputs": [],
   "source": [
    "df['gearbox'] = (df.groupby(['brand', 'model'])['gearbox']\n",
    "                     .transform(lambda x: x.fillna(value=(x.mode()[0] if not x.mode().empty else \"other\"))))"
   ]
  },
  {
   "cell_type": "code",
   "execution_count": 28,
   "id": "d55cc99c",
   "metadata": {},
   "outputs": [],
   "source": [
    "df['vehicle_type'] = (df.groupby(['brand', 'model'])['vehicle_type']\n",
    "                     .transform(lambda x: x.fillna(value=(x.mode()[0] if not x.mode().empty else \"empty\"))))"
   ]
  },
  {
   "cell_type": "code",
   "execution_count": 29,
   "id": "a98a3e48",
   "metadata": {},
   "outputs": [],
   "source": [
    "df['fuel_type'] = (df.groupby(['brand', 'model'])['fuel_type']\n",
    "                     .transform(lambda x: x.fillna(value=(x.mode()[0] if not x.mode().empty else \"no_fuel\"))))"
   ]
  },
  {
   "cell_type": "code",
   "execution_count": 30,
   "id": "3d9b8f12",
   "metadata": {},
   "outputs": [
    {
     "data": {
      "text/plain": [
       "array([nan, 'no', 'yes'], dtype=object)"
      ]
     },
     "execution_count": 30,
     "metadata": {},
     "output_type": "execute_result"
    }
   ],
   "source": [
    "df['not_repaired'].unique()"
   ]
  },
  {
   "cell_type": "markdown",
   "id": "82a54168",
   "metadata": {},
   "source": [
    "Заменим пропуски, включающие более 20% объектов исследования, на частое значение, зависящее от марки и модели:"
   ]
  },
  {
   "cell_type": "code",
   "execution_count": 31,
   "id": "7b39ae56",
   "metadata": {},
   "outputs": [],
   "source": [
    "df['not_repaired'] = (df.groupby(['brand', 'model'])['not_repaired']\n",
    "                           .transform(lambda x: x.fillna(value=(x.mode()[0] if not x.mode().empty else \"unknown\"))))"
   ]
  },
  {
   "cell_type": "code",
   "execution_count": 32,
   "id": "7ffb56ef",
   "metadata": {},
   "outputs": [
    {
     "data": {
      "text/plain": [
       "(0.0, 1000.0, 0.5, -0.5)"
      ]
     },
     "execution_count": 32,
     "metadata": {},
     "output_type": "execute_result"
    },
    {
     "data": {
      "image/png": "[encoded data removed]",
      "text/plain": [
       "<Figure size 1080x144 with 1 Axes>"
      ]
     },
     "metadata": {
      "needs_background": "light"
     },
     "output_type": "display_data"
    }
   ],
   "source": [
    "plt.figure(figsize=(15, 2))\n",
    "sns.boxplot(x=df['power']).axis(xmin=0, xmax=1000)"
   ]
  },
  {
   "cell_type": "code",
   "execution_count": 33,
   "id": "ee596cd8",
   "metadata": {},
   "outputs": [
    {
     "data": {
      "text/plain": [
       "0.00033119647912666035"
      ]
     },
     "execution_count": 33,
     "metadata": {},
     "output_type": "execute_result"
    }
   ],
   "source": [
    "df[df['power'] > 2000].shape[0] / len(df)"
   ]
  },
  {
   "cell_type": "markdown",
   "id": "4da30e63",
   "metadata": {},
   "source": [
    "Четверть значений мощности двигателя составляют до 69л.с, согласно таблице *desc* выше. Оставим низкие значения без изменений, так как их достаточно много. Кроме того, значения мощности более 2000 л.с. являются явными выбросами и не соответствуют реальным данным, так же их доля незначительна. Сократим выбросы в конце предобработки."
   ]
  },
  {
   "cell_type": "code",
   "execution_count": 34,
   "id": "6c4b348f",
   "metadata": {},
   "outputs": [
    {
     "data": {
      "text/plain": [
       "<AxesSubplot:xlabel='price'>"
      ]
     },
     "execution_count": 34,
     "metadata": {},
     "output_type": "execute_result"
    },
    {
     "data": {
      "image/png": "[encoded data removed]",
      "text/plain": [
       "<Figure size 1080x144 with 1 Axes>"
      ]
     },
     "metadata": {
      "needs_background": "light"
     },
     "output_type": "display_data"
    }
   ],
   "source": [
    "plt.figure(figsize=(15, 2))\n",
    "sns.boxplot(x=df['price'])"
   ]
  },
  {
   "cell_type": "code",
   "execution_count": 35,
   "id": "6a96714d",
   "metadata": {},
   "outputs": [
    {
     "data": {
      "text/plain": [
       "249.0"
      ]
     },
     "execution_count": 35,
     "metadata": {},
     "output_type": "execute_result"
    }
   ],
   "source": [
    "df['price'].quantile(0.05)"
   ]
  },
  {
   "cell_type": "markdown",
   "id": "7cdcc170",
   "metadata": {},
   "source": [
    "Cудя по смещению медианы и гистограмме, в данных большинство машин имеют низкую стоимость. Ниже удалим значения меньше 250, поскольку они существенно повлияют на предсказание."
   ]
  },
  {
   "cell_type": "code",
   "execution_count": 36,
   "id": "a0fb343f",
   "metadata": {},
   "outputs": [
    {
     "data": {
      "text/plain": [
       "array([1000, 1001, 1111, 1200, 1234, 1300, 1400, 1500, 1600, 1602, 1800,\n",
       "       1910, 1919, 1923, 1927, 1928, 1929, 1930, 1931, 1932, 1933, 1934,\n",
       "       1935, 1936, 1937, 1938, 1941, 1942, 1943, 1945, 1947, 1949, 1950,\n",
       "       1951, 1952, 1953, 1954, 1955, 1956, 1957, 1958, 1959, 1960, 1961,\n",
       "       1962, 1963, 1964, 1965, 1966, 1967, 1968, 1969, 1970, 1971, 1972,\n",
       "       1973, 1974, 1975, 1976, 1977, 1978, 1979, 1980, 1981, 1982, 1983,\n",
       "       1984, 1985, 1986, 1987, 1988, 1989, 1990, 1991, 1992, 1993, 1994,\n",
       "       1995, 1996, 1997, 1998, 1999, 2000, 2001, 2002, 2003, 2004, 2005,\n",
       "       2006, 2007, 2008, 2009, 2010, 2011, 2012, 2013, 2014, 2015, 2016,\n",
       "       2017, 2018, 2019, 2066, 2200, 2290, 2500, 2900, 3000, 3700, 4000,\n",
       "       4500, 5000, 5555, 5900, 5911, 6000, 6500, 7000, 7100, 7500, 7800,\n",
       "       8000, 8200, 8500, 9000, 9999], dtype=int64)"
      ]
     },
     "execution_count": 36,
     "metadata": {},
     "output_type": "execute_result"
    }
   ],
   "source": [
    "df['registration_year'].sort_values().unique()"
   ]
  },
  {
   "cell_type": "code",
   "execution_count": 37,
   "id": "d1703264",
   "metadata": {},
   "outputs": [
    {
     "data": {
      "text/plain": [
       "(1900.0, 2050.0, 0.5, -0.5)"
      ]
     },
     "execution_count": 37,
     "metadata": {},
     "output_type": "execute_result"
    },
    {
     "data": {
      "image/png": "[encoded data removed]",
      "text/plain": [
       "<Figure size 1080x144 with 1 Axes>"
      ]
     },
     "metadata": {
      "needs_background": "light"
     },
     "output_type": "display_data"
    }
   ],
   "source": [
    "plt.figure(figsize=(15, 2))\n",
    "sns.boxplot(x=df['registration_year']).axis(xmin=1900, xmax=2050)"
   ]
  },
  {
   "cell_type": "code",
   "execution_count": 38,
   "id": "f5ec5c50",
   "metadata": {},
   "outputs": [
    {
     "data": {
      "text/plain": [
       "0.042036476196845356"
      ]
     },
     "execution_count": 38,
     "metadata": {},
     "output_type": "execute_result"
    }
   ],
   "source": [
    "df[(df['registration_year'] > 2020)|(df['registration_year'] < 1920)].shape[0]*100 / len(df)"
   ]
  },
  {
   "cell_type": "markdown",
   "id": "3d3c05e7",
   "metadata": {},
   "source": [
    "Поскольку доля неадекватных значений дат менее 0,05%, удалим эти значения, а так же выбросы по мощности двигателя:"
   ]
  },
  {
   "cell_type": "code",
   "execution_count": 39,
   "id": "aeff92da",
   "metadata": {},
   "outputs": [],
   "source": [
    "df_fltr = df.query('(1920 <registration_year< 2020) and power < 2000 and price > 250')"
   ]
  },
  {
   "cell_type": "code",
   "execution_count": 40,
   "id": "17d7ee7b",
   "metadata": {},
   "outputs": [
    {
     "data": {
      "text/plain": [
       "0.9434290936999423"
      ]
     },
     "execution_count": 40,
     "metadata": {},
     "output_type": "execute_result"
    }
   ],
   "source": [
    "df_fltr.shape[0]/ len(df)"
   ]
  },
  {
   "cell_type": "code",
   "execution_count": 41,
   "id": "5628ee26",
   "metadata": {},
   "outputs": [
    {
     "data": {
      "text/plain": [
       "price                 0.0\n",
       "vehicle_type          0.0\n",
       "registration_year     0.0\n",
       "gearbox               0.0\n",
       "power                 0.0\n",
       "model                 0.0\n",
       "kilometer             0.0\n",
       "registration_month    0.0\n",
       "fuel_type             0.0\n",
       "brand                 0.0\n",
       "not_repaired          0.0\n",
       "dtype: float64"
      ]
     },
     "execution_count": 41,
     "metadata": {},
     "output_type": "execute_result"
    }
   ],
   "source": [
    "df_fltr.isna().mean()"
   ]
  },
  {
   "cell_type": "markdown",
   "id": "8ac2789a",
   "metadata": {},
   "source": [
    "На данном этапе сделано следующее:\n",
    "\n",
    "- удалены столбцы `date_created`, `last_seen`, `date_crawled`, `postal_code`, `number_of_pictures`, не несущие информации об автомобилях.\n",
    "- найденные дубликаты удалены;\n",
    "- датасет сокращен согласно условию -1920 <registration_year< 2020 and power < 2000 and price > 250-\n",
    "- пропуски в столбцах `not_repaired`,`fuel_type`,`vehicle_type`, `gearbox` заменены на моду, в зависимости от марки и модели авто."
   ]
  },
  {
   "cell_type": "markdown",
   "id": "078a296b",
   "metadata": {},
   "source": [
    "## Обучение моделей"
   ]
  },
  {
   "cell_type": "markdown",
   "id": "a39b307b",
   "metadata": {},
   "source": [
    "Преобразуем категориальные признаки в численные методом *ОНЕ*:"
   ]
  },
  {
   "cell_type": "code",
   "execution_count": 42,
   "id": "61e38799",
   "metadata": {},
   "outputs": [
    {
     "data": {
      "text/plain": [
       "Index(['price', 'registration_year', 'power', 'kilometer',\n",
       "       'registration_month', 'vehicle_type_convertible', 'vehicle_type_coupe',\n",
       "       'vehicle_type_other', 'vehicle_type_sedan', 'vehicle_type_small',\n",
       "       ...\n",
       "       'brand_skoda', 'brand_smart', 'brand_subaru', 'brand_suzuki',\n",
       "       'brand_toyota', 'brand_trabant', 'brand_volkswagen', 'brand_volvo',\n",
       "       'not_repaired_unknown', 'not_repaired_yes'],\n",
       "      dtype='object', length=307)"
      ]
     },
     "execution_count": 42,
     "metadata": {},
     "output_type": "execute_result"
    }
   ],
   "source": [
    "df_ohe = pd.get_dummies(df_fltr, drop_first=True)\n",
    "df_ohe.columns"
   ]
  },
  {
   "cell_type": "code",
   "execution_count": 43,
   "id": "b1634238",
   "metadata": {},
   "outputs": [],
   "source": [
    "features = df_ohe.drop(['price'], axis= 1)\n",
    "target = df_ohe['price']"
   ]
  },
  {
   "cell_type": "code",
   "execution_count": 44,
   "id": "3030e397",
   "metadata": {},
   "outputs": [],
   "source": [
    "features_train, features_test, target_train, target_test = train_test_split(\n",
    "    features, target, test_size=0.25, random_state=258)"
   ]
  },
  {
   "cell_type": "code",
   "execution_count": 45,
   "id": "3ffad026",
   "metadata": {
    "scrolled": true
   },
   "outputs": [
    {
     "data": {
      "text/plain": [
       "((222186, 306), (74063, 306))"
      ]
     },
     "execution_count": 45,
     "metadata": {},
     "output_type": "execute_result"
    }
   ],
   "source": [
    "features_train.shape, features_test.shape"
   ]
  },
  {
   "cell_type": "code",
   "execution_count": 46,
   "id": "cd94280f",
   "metadata": {},
   "outputs": [],
   "source": [
    "numeric_columns = ['power', 'kilometer', 'registration_year', 'registration_month']"
   ]
  },
  {
   "cell_type": "code",
   "execution_count": 47,
   "id": "6e770f22",
   "metadata": {
    "collapsed": true
   },
   "outputs": [
    {
     "name": "stderr",
     "output_type": "stream",
     "text": [
      "C:\\Users\\Anton\\anaconda3\\lib\\site-packages\\pandas\\core\\frame.py:3678: SettingWithCopyWarning: \n",
      "A value is trying to be set on a copy of a slice from a DataFrame.\n",
      "Try using .loc[row_indexer,col_indexer] = value instead\n",
      "\n",
      "See the caveats in the documentation: https://pandas.pydata.org/pandas-docs/stable/user_guide/indexing.html#returning-a-view-versus-a-copy\n",
      "  self[col] = igetitem(value, i)\n",
      "C:\\Users\\Anton\\anaconda3\\lib\\site-packages\\pandas\\core\\frame.py:3678: SettingWithCopyWarning: \n",
      "A value is trying to be set on a copy of a slice from a DataFrame.\n",
      "Try using .loc[row_indexer,col_indexer] = value instead\n",
      "\n",
      "See the caveats in the documentation: https://pandas.pydata.org/pandas-docs/stable/user_guide/indexing.html#returning-a-view-versus-a-copy\n",
      "  self[col] = igetitem(value, i)\n"
     ]
    }
   ],
   "source": [
    "scaler = StandardScaler()\n",
    "scaler.fit(features_train[numeric_columns])\n",
    "features_train[numeric_columns] = scaler.transform(features_train[numeric_columns])\n",
    "features_test[numeric_columns] = scaler.transform(features_test[numeric_columns])"
   ]
  },
  {
   "cell_type": "markdown",
   "id": "4d106196",
   "metadata": {},
   "source": [
    "Используем *OrdinalEncoder* для кодирование признаков при обучении моделей с деревьями."
   ]
  },
  {
   "cell_type": "code",
   "execution_count": 48,
   "id": "23028d00",
   "metadata": {},
   "outputs": [],
   "source": [
    "cat_columns = ['vehicle_type', 'gearbox', 'model', 'fuel_type', 'brand', 'not_repaired']"
   ]
  },
  {
   "cell_type": "code",
   "execution_count": 49,
   "id": "c50a5d06",
   "metadata": {},
   "outputs": [],
   "source": [
    "encoder = OrdinalEncoder()\n",
    "cat_ordinal = encoder.fit_transform(df_fltr[cat_columns])"
   ]
  },
  {
   "cell_type": "code",
   "execution_count": 50,
   "id": "1dfdbf50",
   "metadata": {},
   "outputs": [],
   "source": [
    "features_ord = np.concatenate([cat_ordinal, df_fltr[numeric_columns].values], axis=1)\n",
    "target_ord = df_fltr['price'].values"
   ]
  },
  {
   "cell_type": "code",
   "execution_count": 51,
   "id": "c41e0d85",
   "metadata": {},
   "outputs": [],
   "source": [
    "features_train_ord, features_test_ord, target_train_ord, target_test_ord = train_test_split(\n",
    "    features_ord, target_ord, test_size=0.25, random_state=258)"
   ]
  },
  {
   "cell_type": "markdown",
   "id": "dd072ea9",
   "metadata": {},
   "source": [
    "### Линейные модели регресии"
   ]
  },
  {
   "cell_type": "code",
   "execution_count": 52,
   "id": "ff28a62f",
   "metadata": {},
   "outputs": [],
   "source": [
    "best_models = pd.DataFrame()"
   ]
  },
  {
   "cell_type": "code",
   "execution_count": 53,
   "id": "54e31579",
   "metadata": {},
   "outputs": [
    {
     "name": "stdout",
     "output_type": "stream",
     "text": [
      "Линейная регрессия на тренировочных: 2810.8601150631043 и тестовых: 2810.8601150631043 данных.\n",
      "Wall time: 22.9 s\n"
     ]
    }
   ],
   "source": [
    "%%time\n",
    "lin_model = LinearRegression()\n",
    "score_lr_1 = cross_val_score(lin_model, features_train, target_train, scoring='neg_mean_squared_error', cv=5).mean()\n",
    "score_lr_2 = cross_val_score(lin_model, features_test, target_test, scoring='neg_mean_squared_error', cv=5).mean()\n",
    "print(f\"Линейная регрессия на тренировочных: {abs(score_lr_1)**0.5} и тестовых: {abs(score_lr_1)**0.5} данных.\")"
   ]
  },
  {
   "cell_type": "code",
   "execution_count": 54,
   "id": "84ae4bbb",
   "metadata": {},
   "outputs": [],
   "source": [
    "best_models = pd.DataFrame({'rmse_train': abs(score_lr_1)**0.5, 'rmse_test': abs(score_lr_2)**0.5,\n",
    "                            'model_name': \"LinearRegression\", 'params': [None], 'time': datetime.time(0,0,22,9)}, index=[0])"
   ]
  },
  {
   "cell_type": "code",
   "execution_count": 55,
   "id": "4528deb4",
   "metadata": {},
   "outputs": [
    {
     "name": "stdout",
     "output_type": "stream",
     "text": [
      "Модель Lasso на тренировочных: 2814.4940949517513 и тестовых: 2807.4056807603597 данных.\n",
      "Wall time: 2min 13s\n"
     ]
    }
   ],
   "source": [
    "%%time\n",
    "lasso_model = Lasso(alpha = 0.2, random_state=258)\n",
    "score_las_1 = cross_val_score(lasso_model, features_train, target_train, scoring= 'neg_mean_squared_error', cv=5).mean()\n",
    "score_las_2 = cross_val_score(lasso_model, features_test, target_test, scoring= 'neg_mean_squared_error', cv=5).mean()\n",
    "print(f\"Модель Lasso на тренировочных: {abs(score_las_1)**0.5} и тестовых: {abs(score_las_2)**0.5} данных.\")"
   ]
  },
  {
   "cell_type": "code",
   "execution_count": 56,
   "id": "8949df10",
   "metadata": {},
   "outputs": [],
   "source": [
    "best_models = pd.concat([best_models,pd.DataFrame({'rmse_train': abs(score_las_1)**0.5, 'rmse_test': abs(score_las_2)**0.5,\n",
    "                                         'model_name': \"Lasso\", 'params': [0.2], 'time':datetime.time(0,2,13,1)}, index=[1])])"
   ]
  },
  {
   "cell_type": "code",
   "execution_count": 57,
   "id": "c026b1b7",
   "metadata": {},
   "outputs": [
    {
     "name": "stdout",
     "output_type": "stream",
     "text": [
      "Модель Ridge на тренировочных: 2810.82981601224 и тестовых: 2805.030547737133 данных.\n",
      "Wall time: 7.35 s\n"
     ]
    }
   ],
   "source": [
    "%%time\n",
    "ridge_model = Ridge(alpha = 0.2, random_state=258)\n",
    "score_rdg_1 = cross_val_score(ridge_model, features_train, target_train, scoring= 'neg_mean_squared_error', cv=5).mean()\n",
    "score_rdg_2 = cross_val_score(ridge_model, features_test, target_test, scoring= 'neg_mean_squared_error', cv=5).mean()\n",
    "print(f\"Модель Ridge на тренировочных: {abs(score_rdg_1)**0.5} и тестовых: {abs(score_rdg_2)**0.5} данных.\")"
   ]
  },
  {
   "cell_type": "code",
   "execution_count": 58,
   "id": "ef004b5b",
   "metadata": {},
   "outputs": [],
   "source": [
    "best_models = pd.concat([best_models,pd.DataFrame({'rmse_train': abs(score_rdg_1)**0.5, 'rmse_test': abs(score_rdg_2)**0.5,\n",
    "                                        'model_name': \"Ridge\",'params': [0.2], 'time': datetime.time(0,0,7,35)}, index=[2])])"
   ]
  },
  {
   "cell_type": "code",
   "execution_count": 59,
   "id": "f9734e90",
   "metadata": {},
   "outputs": [
    {
     "name": "stdout",
     "output_type": "stream",
     "text": [
      "Модель ElasticNet на тренировочных: 3099.244357703313 и тестовых: 3083.0344704798285 данных.\n",
      "Wall time: 10.8 s\n"
     ]
    }
   ],
   "source": [
    "%%time\n",
    "elast_model = ElasticNet(alpha = 0.2, random_state=258)\n",
    "score_elast_1 = cross_val_score(elast_model, features_train, target_train, scoring= 'neg_mean_squared_error', cv=5).mean()\n",
    "score_elast_2 = cross_val_score(elast_model, features_test, target_test, scoring= 'neg_mean_squared_error', cv=5).mean()\n",
    "print(f\"Модель ElasticNet на тренировочных: {abs(score_elast_1)**0.5} и тестовых: {abs(score_elast_2)**0.5} данных.\")"
   ]
  },
  {
   "cell_type": "code",
   "execution_count": 60,
   "id": "bcf608ac",
   "metadata": {},
   "outputs": [],
   "source": [
    "best_models = pd.concat([best_models,pd.DataFrame({'rmse_train': abs(score_elast_1)**0.5, 'rmse_test': abs(score_elast_2)**0.5, \n",
    "                                    'model_name': \"ElasticNet\",'params': [0.2], 'time': datetime.time(0,0,10,8)}, index=[3])])"
   ]
  },
  {
   "cell_type": "markdown",
   "id": "23e7e630",
   "metadata": {},
   "source": [
    "### Деревья и ансамбли"
   ]
  },
  {
   "cell_type": "code",
   "execution_count": 61,
   "id": "ac54a7f6",
   "metadata": {},
   "outputs": [
    {
     "name": "stdout",
     "output_type": "stream",
     "text": [
      "DecisionTree с параметрами: {'min_samples_split': 4, 'max_depth': 9}\n",
      "Модель DecisionTree на тренировочных: 2083.428313812525 и тестовых: 2417.220937590158 данных.\n",
      "Wall time: 16.6 s\n"
     ]
    }
   ],
   "source": [
    "%%time\n",
    "tree_model = DecisionTreeRegressor(random_state=258)\n",
    "params= {'min_samples_split': range(2,5),\n",
    "         'max_depth': range(1,10)}\n",
    "\n",
    "tree_grid = RandomizedSearchCV(tree_model, params, scoring= 'neg_mean_squared_error', cv=5)\n",
    "tree_grid.fit(features_train_ord, target_train_ord)\n",
    "tree_test_score = cross_val_score(tree_model, features_test_ord, target_test_ord, scoring= 'neg_mean_squared_error', cv=5).mean()\n",
    "print(\"DecisionTree с параметрами:\", tree_grid.best_params_)\n",
    "print(f\"Модель DecisionTree на тренировочных: {abs(tree_grid.best_score_)**0.5} и тестовых: {abs(tree_test_score)**0.5} данных.\")"
   ]
  },
  {
   "cell_type": "code",
   "execution_count": 62,
   "id": "5270f0d4",
   "metadata": {},
   "outputs": [],
   "source": [
    "best_models = pd.concat([best_models, pd.DataFrame({\n",
    "    'rmse_train': abs(tree_grid.best_score_)**0.5, 'rmse_test': abs(tree_test_score)**0.5,\n",
    "    'model_name': \"DecisionTree\", 'params': [tree_grid.best_params_], 'time': datetime.time(0,0,16,6)}, index=[4])])"
   ]
  },
  {
   "cell_type": "code",
   "execution_count": 63,
   "id": "60731678",
   "metadata": {},
   "outputs": [
    {
     "name": "stdout",
     "output_type": "stream",
     "text": [
      "RandomForest на тренировочных: 1985.616521063042 и тестовых: 2000.2288353224783 данных.\n",
      "Wall time: 1min 35s\n"
     ]
    }
   ],
   "source": [
    "%%time\n",
    "forest_model = RandomForestRegressor(n_estimators=50, max_depth=9, random_state=258)\n",
    "score_frs_1 = cross_val_score(forest_model, features_train_ord, target_train_ord, scoring='neg_mean_squared_error', cv=5).mean()\n",
    "score_frs_2 = cross_val_score(forest_model, features_test_ord, target_test_ord, scoring='neg_mean_squared_error', cv=5).mean()\n",
    "print(f\"RandomForest на тренировочных: {abs(score_frs_1)**0.5} и тестовых: {abs(score_frs_2)**0.5} данных.\")"
   ]
  },
  {
   "cell_type": "code",
   "execution_count": 64,
   "id": "1dc1ed27",
   "metadata": {},
   "outputs": [],
   "source": [
    "best_models = pd.concat([best_models, pd.DataFrame({'rmse_train': abs(score_frs_1)**0.5, 'rmse_test': abs(score_frs_2)**0.5,\n",
    "                            'model_name': \"RandomForest\", 'params': [[50,9]], 'time': datetime.time(0,1,35,1)}, index=[5])])"
   ]
  },
  {
   "cell_type": "code",
   "execution_count": 65,
   "id": "2742e689",
   "metadata": {},
   "outputs": [
    {
     "name": "stdout",
     "output_type": "stream",
     "text": [
      "GradientBoosting на тренировочных: 1396.5617565254493 и тестовых: 1631.5578699651337 данных.\n",
      "Wall time: 1min 8s\n"
     ]
    }
   ],
   "source": [
    "%%time\n",
    "gb_model = GradientBoostingRegressor(criterion = 'mse', max_depth= 9, random_state=258)\n",
    "gb_model.fit(features_train_ord, target_train_ord)\n",
    "rmse_gb_1 = mean_squared_error(target_train_ord, gb_model.predict(features_train_ord))**0.5\n",
    "rmse_gb_2 = mean_squared_error(target_test_ord, gb_model.predict(features_test_ord))**0.5\n",
    "print(f\"GradientBoosting на тренировочных: {rmse_gb_1} и тестовых: {rmse_gb_2} данных.\")"
   ]
  },
  {
   "cell_type": "code",
   "execution_count": 66,
   "id": "39902953",
   "metadata": {},
   "outputs": [],
   "source": [
    "best_models = pd.concat([best_models, pd.DataFrame({'rmse_train': rmse_gb_1, 'rmse_test': rmse_gb_2, \n",
    "                        'model_name': \"GradientBoosting\", 'params': [['mse',9]], 'time': datetime.time(0,1,8,1)}, index=[6])])"
   ]
  },
  {
   "cell_type": "code",
   "execution_count": 79,
   "id": "68806df4",
   "metadata": {},
   "outputs": [
    {
     "name": "stdout",
     "output_type": "stream",
     "text": [
      "LGBMRegressor на тренировочных: 1396.5617565254493 и тестовых: 1631.5578699651337 данных.\n",
      "Wall time: 3.48 s\n"
     ]
    }
   ],
   "source": [
    "%%time\n",
    "lgbm_model = LGBMRegressor(boosting_type='goss',max_depth= 9, random_state=258)\n",
    "lgbm_model.fit(features_train, target_train)\n",
    "rmse_lgbm_1 = mean_squared_error(target_train, lgbm_model.predict(features_train))**0.5\n",
    "rmse_lgbm_2 = mean_squared_error(target_test, lgbm_model.predict(features_test))**0.5\n",
    "print(f\"LGBMRegressor на тренировочных: {rmse_gb_1} и тестовых: {rmse_gb_2} данных.\")"
   ]
  },
  {
   "cell_type": "code",
   "execution_count": 73,
   "id": "32292310",
   "metadata": {},
   "outputs": [],
   "source": [
    "best_models = pd.concat([best_models,pd.DataFrame({'rmse_train': rmse_lgbm_1, 'rmse_test': rmse_lgbm_2,\n",
    "                        'model_name': \"LGBMRegressor\",'params': [['goss', 9]], 'time': datetime.time(0,0,3,42)}, index=[7])])"
   ]
  },
  {
   "cell_type": "code",
   "execution_count": 75,
   "id": "82f9c7e5",
   "metadata": {},
   "outputs": [
    {
     "name": "stdout",
     "output_type": "stream",
     "text": [
      "Learning rate set to 0.5\n",
      "0:\tlearn: 3281.8171526\ttotal: 20.7ms\tremaining: 2.05s\n",
      "10:\tlearn: 1975.1128922\ttotal: 220ms\tremaining: 1.78s\n",
      "20:\tlearn: 1864.9588480\ttotal: 422ms\tremaining: 1.58s\n",
      "30:\tlearn: 1801.8690526\ttotal: 630ms\tremaining: 1.4s\n",
      "40:\tlearn: 1763.8292433\ttotal: 823ms\tremaining: 1.18s\n",
      "50:\tlearn: 1736.5948249\ttotal: 1.04s\tremaining: 999ms\n",
      "60:\tlearn: 1714.8998371\ttotal: 1.26s\tremaining: 808ms\n",
      "70:\tlearn: 1696.4238025\ttotal: 1.45s\tremaining: 593ms\n",
      "80:\tlearn: 1676.0798493\ttotal: 1.65s\tremaining: 386ms\n",
      "90:\tlearn: 1662.5097124\ttotal: 1.83s\tremaining: 181ms\n",
      "99:\tlearn: 1651.7281156\ttotal: 2s\tremaining: 0us\n",
      "CatBoostRegressor на тренировочных: 1651.7281155732976 и тестовых: 1703.89923230259 данных.\n",
      "Wall time: 2.85 s\n"
     ]
    }
   ],
   "source": [
    "%%time\n",
    "cat_model = CatBoostRegressor(loss_function='RMSE', iterations=100, random_state=258)\n",
    "cat_model.fit(features_train, target_train, verbose=10)\n",
    "rmse_cat_1 = mean_squared_error(target_train, cat_model.predict(features_train))**0.5\n",
    "rmse_cat_2 = mean_squared_error(target_test, cat_model.predict(features_test))**0.5\n",
    "print(f\"CatBoostRegressor на тренировочных: {rmse_cat_1} и тестовых: {rmse_cat_2} данных.\")"
   ]
  },
  {
   "cell_type": "code",
   "execution_count": 76,
   "id": "ee9dca36",
   "metadata": {},
   "outputs": [],
   "source": [
    "best_models = pd.concat([best_models,pd.DataFrame({'rmse_train': rmse_cat_1,'rmse_test': rmse_cat_2, 'model_name': \"CatBoost\",\n",
    "                                                   'params': [['RMSE', 100]], 'time':datetime.time(0,0,2,85)}, index=[8])])"
   ]
  },
  {
   "cell_type": "code",
   "execution_count": 80,
   "id": "3b119d13",
   "metadata": {},
   "outputs": [
    {
     "name": "stdout",
     "output_type": "stream",
     "text": [
      "XGBRegressor на тренировочных: 1241.8095668639837 и тестовых: 1614.6120184439242 данных.\n",
      "Wall time: 38.2 s\n"
     ]
    }
   ],
   "source": [
    "%%time\n",
    "xgb_model = XGBRegressor(booster = 'dart', max_depth = 9,random_state=258)\n",
    "xgb_model.fit(features_train_ord, target_train_ord)\n",
    "rmse_xgb_1 = mean_squared_error(target_train_ord, xgb_model.predict(features_train_ord))**0.5\n",
    "rmse_xgb_2 = mean_squared_error(target_test_ord, xgb_model.predict(features_test_ord))**0.5\n",
    "print(f'XGBRegressor на тренировочных: {rmse_xgb_1} и тестовых: {rmse_xgb_2} данных.')"
   ]
  },
  {
   "cell_type": "code",
   "execution_count": 81,
   "id": "75c78abc",
   "metadata": {},
   "outputs": [],
   "source": [
    "best_models = pd.concat([best_models, pd.DataFrame({'rmse_train': rmse_xgb_1, 'rmse_test': rmse_xgb_2, \n",
    "                        'model_name': \"XGBRegressor\", 'params': [['dart', 9]], 'time': datetime.time(0,0,38,2)}, index=[9])])"
   ]
  },
  {
   "cell_type": "code",
   "execution_count": 82,
   "id": "a668aae3",
   "metadata": {},
   "outputs": [
    {
     "name": "stdout",
     "output_type": "stream",
     "text": [
      "DummyRegressor на тренировочных: 4527.239506079586 и тестовых: 4503.652240496553 данных.\n",
      "Wall time: 2.13 s\n"
     ]
    }
   ],
   "source": [
    "%%time\n",
    "dummy_regr = DummyRegressor(strategy=\"mean\")\n",
    "dummy_score_1 = cross_val_score(dummy_regr, features_train, target_train, scoring='neg_mean_squared_error', cv=5).mean()\n",
    "dummy_score_2 = cross_val_score(dummy_regr, features_test, target_test, scoring='neg_mean_squared_error', cv=5).mean()\n",
    "print(f'DummyRegressor на тренировочных: {abs(dummy_score_1)**0.5} и тестовых: {abs(dummy_score_2)**0.5} данных.')"
   ]
  },
  {
   "cell_type": "code",
   "execution_count": 83,
   "id": "4e9f8763",
   "metadata": {},
   "outputs": [],
   "source": [
    "best_models = pd.concat([best_models, pd.DataFrame({'rmse_train': abs(dummy_score_1)**0.5, 'rmse_test': abs(dummy_score_2)**0.5,\n",
    "                            'model_name': \"DummyRegressor\", 'params':['mean'], 'time': datetime.time(0,0,2,13)}, index=[10])])"
   ]
  },
  {
   "cell_type": "markdown",
   "id": "8494d1dc",
   "metadata": {},
   "source": [
    "После кодирования и масштабирования мы изучили модели выше, теперь проведем их анализ."
   ]
  },
  {
   "cell_type": "markdown",
   "id": "d099318a",
   "metadata": {},
   "source": [
    "## Анализ моделей"
   ]
  },
  {
   "cell_type": "code",
   "execution_count": 84,
   "id": "9ace3a0e",
   "metadata": {
    "scrolled": true
   },
   "outputs": [
    {
     "data": {
      "text/html": [
       "<div>\n",
       "<style scoped>\n",
       "    .dataframe tbody tr th:only-of-type {\n",
       "        vertical-align: middle;\n",
       "    }\n",
       "\n",
       "    .dataframe tbody tr th {\n",
       "        vertical-align: top;\n",
       "    }\n",
       "\n",
       "    .dataframe thead th {\n",
       "        text-align: right;\n",
       "    }\n",
       "</style>\n",
       "<table border=\"1\" class=\"dataframe\">\n",
       "  <thead>\n",
       "    <tr style=\"text-align: right;\">\n",
       "      <th></th>\n",
       "      <th>rmse_train</th>\n",
       "      <th>rmse_test</th>\n",
       "      <th>model_name</th>\n",
       "      <th>params</th>\n",
       "      <th>time</th>\n",
       "    </tr>\n",
       "  </thead>\n",
       "  <tbody>\n",
       "    <tr>\n",
       "      <th>0</th>\n",
       "      <td>2810.860115</td>\n",
       "      <td>9.079216e+12</td>\n",
       "      <td>LinearRegression</td>\n",
       "      <td>NaN</td>\n",
       "      <td>00:00:22.000009</td>\n",
       "    </tr>\n",
       "    <tr>\n",
       "      <th>1</th>\n",
       "      <td>2814.494095</td>\n",
       "      <td>2.807406e+03</td>\n",
       "      <td>Lasso</td>\n",
       "      <td>0.2</td>\n",
       "      <td>00:02:13.000001</td>\n",
       "    </tr>\n",
       "    <tr>\n",
       "      <th>2</th>\n",
       "      <td>2810.829816</td>\n",
       "      <td>2.805031e+03</td>\n",
       "      <td>Ridge</td>\n",
       "      <td>0.2</td>\n",
       "      <td>00:00:07.000035</td>\n",
       "    </tr>\n",
       "    <tr>\n",
       "      <th>3</th>\n",
       "      <td>3099.244358</td>\n",
       "      <td>3.083034e+03</td>\n",
       "      <td>ElasticNet</td>\n",
       "      <td>0.2</td>\n",
       "      <td>00:00:10.000008</td>\n",
       "    </tr>\n",
       "    <tr>\n",
       "      <th>4</th>\n",
       "      <td>2083.428314</td>\n",
       "      <td>2.417221e+03</td>\n",
       "      <td>DecisionTree</td>\n",
       "      <td>{'min_samples_split': 4, 'max_depth': 9}</td>\n",
       "      <td>00:00:16.000006</td>\n",
       "    </tr>\n",
       "    <tr>\n",
       "      <th>5</th>\n",
       "      <td>1985.616521</td>\n",
       "      <td>2.000229e+03</td>\n",
       "      <td>RandomForest</td>\n",
       "      <td>[50, 9]</td>\n",
       "      <td>00:01:35.000001</td>\n",
       "    </tr>\n",
       "    <tr>\n",
       "      <th>6</th>\n",
       "      <td>1396.561757</td>\n",
       "      <td>1.631558e+03</td>\n",
       "      <td>GradientBoosting</td>\n",
       "      <td>[mse, 9]</td>\n",
       "      <td>00:01:08.000001</td>\n",
       "    </tr>\n",
       "    <tr>\n",
       "      <th>7</th>\n",
       "      <td>1694.752538</td>\n",
       "      <td>1.734514e+03</td>\n",
       "      <td>LGBMRegressor</td>\n",
       "      <td>[goss, 9]</td>\n",
       "      <td>00:00:03.000042</td>\n",
       "    </tr>\n",
       "    <tr>\n",
       "      <th>8</th>\n",
       "      <td>1651.728116</td>\n",
       "      <td>1.703899e+03</td>\n",
       "      <td>CatBoost</td>\n",
       "      <td>[RMSE, 100]</td>\n",
       "      <td>00:00:02.000085</td>\n",
       "    </tr>\n",
       "    <tr>\n",
       "      <th>9</th>\n",
       "      <td>1241.809567</td>\n",
       "      <td>1.614612e+03</td>\n",
       "      <td>XGBRegressor</td>\n",
       "      <td>[dart, 9]</td>\n",
       "      <td>00:00:38.000002</td>\n",
       "    </tr>\n",
       "    <tr>\n",
       "      <th>10</th>\n",
       "      <td>4527.239506</td>\n",
       "      <td>4.503652e+03</td>\n",
       "      <td>DummyRegressor</td>\n",
       "      <td>mean</td>\n",
       "      <td>00:00:02.000013</td>\n",
       "    </tr>\n",
       "  </tbody>\n",
       "</table>\n",
       "</div>"
      ],
      "text/plain": [
       "     rmse_train     rmse_test        model_name  \\\n",
       "0   2810.860115  9.079216e+12  LinearRegression   \n",
       "1   2814.494095  2.807406e+03             Lasso   \n",
       "2   2810.829816  2.805031e+03             Ridge   \n",
       "3   3099.244358  3.083034e+03        ElasticNet   \n",
       "4   2083.428314  2.417221e+03      DecisionTree   \n",
       "5   1985.616521  2.000229e+03      RandomForest   \n",
       "6   1396.561757  1.631558e+03  GradientBoosting   \n",
       "7   1694.752538  1.734514e+03     LGBMRegressor   \n",
       "8   1651.728116  1.703899e+03          CatBoost   \n",
       "9   1241.809567  1.614612e+03      XGBRegressor   \n",
       "10  4527.239506  4.503652e+03    DummyRegressor   \n",
       "\n",
       "                                      params             time  \n",
       "0                                        NaN  00:00:22.000009  \n",
       "1                                        0.2  00:02:13.000001  \n",
       "2                                        0.2  00:00:07.000035  \n",
       "3                                        0.2  00:00:10.000008  \n",
       "4   {'min_samples_split': 4, 'max_depth': 9}  00:00:16.000006  \n",
       "5                                    [50, 9]  00:01:35.000001  \n",
       "6                                   [mse, 9]  00:01:08.000001  \n",
       "7                                  [goss, 9]  00:00:03.000042  \n",
       "8                                [RMSE, 100]  00:00:02.000085  \n",
       "9                                  [dart, 9]  00:00:38.000002  \n",
       "10                                      mean  00:00:02.000013  "
      ]
     },
     "execution_count": 84,
     "metadata": {},
     "output_type": "execute_result"
    }
   ],
   "source": [
    "best_models"
   ]
  },
  {
   "cell_type": "markdown",
   "id": "7de35635",
   "metadata": {},
   "source": [
    "Рассмотрим модели относительно оценки *rmse* и времени выполнения обучения:"
   ]
  },
  {
   "cell_type": "code",
   "execution_count": 85,
   "id": "59be4cef",
   "metadata": {
    "scrolled": false
   },
   "outputs": [
    {
     "data": {
      "text/plain": [
       "Text(0.5, 1.0, 'Лучшeе время моделей')"
      ]
     },
     "execution_count": 85,
     "metadata": {},
     "output_type": "execute_result"
    },
    {
     "data": {
      "image/png": "[encoded data removed]",
      "text/plain": [
       "<Figure size 1080x288 with 2 Axes>"
      ]
     },
     "metadata": {
      "needs_background": "light"
     },
     "output_type": "display_data"
    }
   ],
   "source": [
    "scores = best_models.set_index('model_name')\n",
    "f, ax = plt.subplots(1,2, figsize=(15,4))\n",
    "scores.sort_values(by='rmse_train').head(5).plot(kind='bar', rot =45, ax = ax[0]).set_title('Лучшие оценки моделей', fontsize = 15)\n",
    "scores.sort_values(by='time').head(5).plot(kind='bar', rot =45, ax=ax[1]).set_title('Лучшeе время моделей', fontsize=15)"
   ]
  },
  {
   "cell_type": "markdown",
   "id": "1e6fcd04",
   "metadata": {},
   "source": [
    "Таким образом, самые лучшие модели:\n",
    "\n",
    "* относительно оценок rmse *XGBRegressor* имеет самые низкие показатели ошибки, замыкает пятерку модель *RandomForest* c показателями 1985,61 и 2000,23 на тренировочном датасете и тестовом соответственно;\n",
    "* относительно времени выполнения быстро справился *CatBoost*.\n",
    "* *LGBMRegressor* оказался в числе лучших и по времени и по оценкам."
   ]
  },
  {
   "cell_type": "markdown",
   "id": "80dbafcf",
   "metadata": {},
   "source": [
    "**Общий вывод**\n",
    "\n",
    "Итак, в результате предобработки получено следущее:\n",
    "\n",
    "- удалены столбцы `date_created`, `last_seen`, `date_crawled`, `postal_code`, `number_of_pictures`, не несущие информации об автомобилях.\n",
    "- найденные дубликаты удалены;\n",
    "- датасет сокращен согласно условию -1920 <registration_year< 2020 and power < 2000 and price > 250-\n",
    "- пропуски в столбцах `not_repaired`,`fuel_type`,`vehicle_type`, `gearbox` заменены на моду, в зависимости от марки и модели авто.\n",
    "\n",
    "По результатам моделирования закодированных и отмасштабированных данных получено:\n",
    "\n",
    "* относительно оценок rmse **XGBRegressor** имеет самые низкие показатели ошибки, замыкает пятерку модель **RandomForest** c показателями 1985,61 и 2000,23 на тренировочном датасете и тестовом соответственно;\n",
    "* относительно времени выполнения быстро справился **CatBoost**.\n",
    "* **LGBMRegressor** оказался в числе лучших и по времени и по оценкам."
   ]
  },
  {
   "cell_type": "markdown",
   "id": "fc44fe18",
   "metadata": {},
   "source": []
  }
 ],
 "metadata": {
  "ExecuteTimeLog": [
   {
    "duration": 2720,
    "start_time": "2022-07-23T11:45:30.666Z"
   },
   {
    "duration": 5404,
    "start_time": "2022-07-23T11:45:46.275Z"
   },
   {
    "duration": 20,
    "start_time": "2022-07-23T11:45:59.675Z"
   },
   {
    "duration": 268,
    "start_time": "2022-07-23T11:46:03.108Z"
   },
   {
    "duration": 246,
    "start_time": "2022-07-23T11:46:11.840Z"
   },
   {
    "duration": 8,
    "start_time": "2022-07-23T11:46:15.573Z"
   },
   {
    "duration": 7,
    "start_time": "2022-07-23T11:46:16.358Z"
   },
   {
    "duration": 33,
    "start_time": "2022-07-23T11:46:18.146Z"
   },
   {
    "duration": 1824,
    "start_time": "2022-07-23T11:46:19.878Z"
   },
   {
    "duration": 159,
    "start_time": "2022-07-23T11:46:24.834Z"
   },
   {
    "duration": 98,
    "start_time": "2022-07-23T11:46:27.046Z"
   },
   {
    "duration": 353,
    "start_time": "2022-07-23T11:46:29.061Z"
   },
   {
    "duration": 419,
    "start_time": "2022-07-23T11:46:30.960Z"
   },
   {
    "duration": 35,
    "start_time": "2022-07-23T11:46:34.130Z"
   },
   {
    "duration": 21,
    "start_time": "2022-07-23T11:46:35.250Z"
   },
   {
    "duration": 7,
    "start_time": "2022-07-23T11:46:37.567Z"
   },
   {
    "duration": 507,
    "start_time": "2022-07-23T11:46:39.290Z"
   },
   {
    "duration": 491,
    "start_time": "2022-07-23T11:46:42.329Z"
   },
   {
    "duration": 18,
    "start_time": "2022-07-23T11:46:48.060Z"
   },
   {
    "duration": 57,
    "start_time": "2022-07-23T11:47:11.512Z"
   },
   {
    "duration": 528,
    "start_time": "2022-07-23T11:48:15.963Z"
   },
   {
    "duration": 72,
    "start_time": "2022-07-23T11:48:28.769Z"
   },
   {
    "duration": 33,
    "start_time": "2022-07-23T11:48:30.452Z"
   },
   {
    "duration": 27,
    "start_time": "2022-07-23T11:48:31.091Z"
   },
   {
    "duration": 29,
    "start_time": "2022-07-23T11:48:31.590Z"
   },
   {
    "duration": 69,
    "start_time": "2022-07-23T11:48:33.435Z"
   },
   {
    "duration": 125,
    "start_time": "2022-07-23T11:48:35.850Z"
   },
   {
    "duration": 1379,
    "start_time": "2022-07-23T11:48:36.355Z"
   },
   {
    "duration": 489,
    "start_time": "2022-07-23T11:48:40.882Z"
   },
   {
    "duration": 453,
    "start_time": "2022-07-23T11:48:41.373Z"
   },
   {
    "duration": 503,
    "start_time": "2022-07-23T11:48:41.927Z"
   },
   {
    "duration": 39,
    "start_time": "2022-07-23T11:48:42.448Z"
   },
   {
    "duration": 484,
    "start_time": "2022-07-23T11:48:44.193Z"
   },
   {
    "duration": 171,
    "start_time": "2022-07-23T11:48:46.835Z"
   },
   {
    "duration": 5,
    "start_time": "2022-07-23T11:48:48.891Z"
   },
   {
    "duration": 204,
    "start_time": "2022-07-23T11:48:51.094Z"
   },
   {
    "duration": 13,
    "start_time": "2022-07-23T11:48:53.574Z"
   },
   {
    "duration": 41,
    "start_time": "2022-07-23T11:48:55.055Z"
   },
   {
    "duration": 169,
    "start_time": "2022-07-23T11:48:58.063Z"
   },
   {
    "duration": 7,
    "start_time": "2022-07-23T11:48:59.665Z"
   },
   {
    "duration": 33,
    "start_time": "2022-07-23T11:49:01.976Z"
   },
   {
    "duration": 6,
    "start_time": "2022-07-23T11:49:02.502Z"
   },
   {
    "duration": 178,
    "start_time": "2022-07-23T11:49:06.107Z"
   },
   {
    "duration": 1071,
    "start_time": "2022-07-23T11:49:13.759Z"
   },
   {
    "duration": 979,
    "start_time": "2022-07-23T11:52:56.156Z"
   },
   {
    "duration": 234,
    "start_time": "2022-07-23T11:53:05.297Z"
   },
   {
    "duration": 383,
    "start_time": "2022-07-23T11:53:07.933Z"
   },
   {
    "duration": 5,
    "start_time": "2022-07-23T11:53:31.573Z"
   },
   {
    "duration": 3,
    "start_time": "2022-07-23T11:53:41.474Z"
   },
   {
    "duration": 398,
    "start_time": "2022-07-23T11:53:41.974Z"
   },
   {
    "duration": 961,
    "start_time": "2022-07-23T12:05:15.295Z"
   },
   {
    "duration": 891,
    "start_time": "2022-07-23T12:06:02.911Z"
   },
   {
    "duration": 10,
    "start_time": "2022-07-23T12:06:23.278Z"
   },
   {
    "duration": 169,
    "start_time": "2022-07-23T12:06:53.942Z"
   },
   {
    "duration": 4,
    "start_time": "2022-07-23T12:10:28.899Z"
   }
  ],
  "kernelspec": {
   "display_name": "Python 3 (ipykernel)",
   "language": "python",
   "name": "python3"
  },
  "language_info": {
   "codemirror_mode": {
    "name": "ipython",
    "version": 3
   },
   "file_extension": ".py",
   "mimetype": "text/x-python",
   "name": "python",
   "nbconvert_exporter": "python",
   "pygments_lexer": "ipython3",
   "version": "3.9.12"
  },
  "toc": {
   "base_numbering": 1,
   "nav_menu": {},
   "number_sections": true,
   "sideBar": true,
   "skip_h1_title": true,
   "title_cell": "Table of Contents",
   "title_sidebar": "Contents",
   "toc_cell": true,
   "toc_position": {},
   "toc_section_display": true,
   "toc_window_display": false
  }
 },
 "nbformat": 4,
 "nbformat_minor": 5
}
