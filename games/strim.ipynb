{
 "cells": [
  {
   "cell_type": "markdown",
   "id": "13eb8665",
   "metadata": {
    "toc": true
   },
   "source": [
    "<h1>Table of Contents<span class=\"tocSkip\"></span></h1>\n",
    "<div class=\"toc\"><ul class=\"toc-item\"><li><span><a href=\"#Общая-информация\" data-toc-modified-id=\"Общая-информация-1\"><span class=\"toc-item-num\">1&nbsp;&nbsp;</span>Общая информация</a></span></li><li><span><a href=\"#Предобработка-данных\" data-toc-modified-id=\"Предобработка-данных-2\"><span class=\"toc-item-num\">2&nbsp;&nbsp;</span>Предобработка данных</a></span></li><li><span><a href=\"#Исследовательский-аналих-данных\" data-toc-modified-id=\"Исследовательский-аналих-данных-3\"><span class=\"toc-item-num\">3&nbsp;&nbsp;</span>Исследовательский аналих данных</a></span><ul class=\"toc-item\"><li><span><a href=\"#Cколько-игр-выпускалось-в-разные-годы:\" data-toc-modified-id=\"Cколько-игр-выпускалось-в-разные-годы:-3.1\"><span class=\"toc-item-num\">3.1&nbsp;&nbsp;</span>Cколько игр выпускалось в разные годы:</a></span></li><li><span><a href=\"#Продажи-по-платформам\" data-toc-modified-id=\"Продажи-по-платформам-3.2\"><span class=\"toc-item-num\">3.2&nbsp;&nbsp;</span>Продажи по платформам</a></span></li><li><span><a href=\"#Влияние--отзывов-пользователей-и-критиков-на-продажи-внутри-платформы\" data-toc-modified-id=\"Влияние--отзывов-пользователей-и-критиков-на-продажи-внутри-платформы-3.3\"><span class=\"toc-item-num\">3.3&nbsp;&nbsp;</span>Влияние  отзывов пользователей и критиков на продажи внутри платформы</a></span></li><li><span><a href=\"#Продажи-по-жанрам\" data-toc-modified-id=\"Продажи-по-жанрам-3.4\"><span class=\"toc-item-num\">3.4&nbsp;&nbsp;</span>Продажи по жанрам</a></span></li></ul></li><li><span><a href=\"#Портрет-пользователя-каждого-региона\" data-toc-modified-id=\"Портрет-пользователя-каждого-региона-4\"><span class=\"toc-item-num\">4&nbsp;&nbsp;</span>Портрет пользователя каждого региона</a></span><ul class=\"toc-item\"><li><span><a href=\"#Продажи-в-регионах\" data-toc-modified-id=\"Продажи-в-регионах-4.1\"><span class=\"toc-item-num\">4.1&nbsp;&nbsp;</span>Продажи в регионах</a></span></li><li><span><a href=\"#Популярные-жанры-в-регионах\" data-toc-modified-id=\"Популярные-жанры-в-регионах-4.2\"><span class=\"toc-item-num\">4.2&nbsp;&nbsp;</span>Популярные жанры в регионах</a></span></li><li><span><a href=\"#Влияет-ли-рейтинг-ESRB-на-продажи-в-отдельном-регионе?\" data-toc-modified-id=\"Влияет-ли-рейтинг-ESRB-на-продажи-в-отдельном-регионе?-4.3\"><span class=\"toc-item-num\">4.3&nbsp;&nbsp;</span>Влияет ли рейтинг ESRB на продажи в отдельном регионе?</a></span></li></ul></li><li><span><a href=\"#Проверка-гипотез\" data-toc-modified-id=\"Проверка-гипотез-5\"><span class=\"toc-item-num\">5&nbsp;&nbsp;</span>Проверка гипотез</a></span><ul class=\"toc-item\"><li><span><a href=\"#гипотеза-1.\" data-toc-modified-id=\"гипотеза-1.-5.1\"><span class=\"toc-item-num\">5.1&nbsp;&nbsp;</span>гипотеза 1.</a></span></li><li><span><a href=\"#гипотеза-2.\" data-toc-modified-id=\"гипотеза-2.-5.2\"><span class=\"toc-item-num\">5.2&nbsp;&nbsp;</span>гипотеза 2.</a></span></li><li><span><a href=\"#Вывод\" data-toc-modified-id=\"Вывод-5.3\"><span class=\"toc-item-num\">5.3&nbsp;&nbsp;</span>Вывод</a></span></li></ul></li><li><span><a href=\"#Общий-вывод\" data-toc-modified-id=\"Общий-вывод-6\"><span class=\"toc-item-num\">6&nbsp;&nbsp;</span>Общий вывод</a></span></li></ul></div>"
   ]
  },
  {
   "cell_type": "markdown",
   "id": "9a52a990",
   "metadata": {},
   "source": [
    "# Сборный проект\n",
    "\n",
    "Вы работаете в интернет-магазине «Стримчик», который продаёт по всему миру компьютерные игры. Из открытых источников доступны исторические данные о продажах игр, оценки пользователей и экспертов, жанры и платформы (например, Xbox или PlayStation). \n",
    "\n",
    "Вам нужно выявить определяющие успешность игры закономерности. Это позволит сделать ставку на потенциально популярный продукт и спланировать рекламные кампании. Перед вами данные до 2016 года.\n",
    "\n",
    "В наборе данных попадается аббревиатура ESRB (Entertainment Software Rating Board) — это ассоциация, определяющая возрастной рейтинг компьютерных игр. ESRB оценивает игровой контент и присваивает ему подходящую возрастную категорию, например, «Для взрослых», «Для детей младшего возраста» или «Для подростков»."
   ]
  },
  {
   "cell_type": "markdown",
   "id": "73b84058",
   "metadata": {},
   "source": [
    "\n",
    "**Цель исследования** - необходимо проверить гипотезы\n",
    " * Средние пользовательские рейтинги платформ Xbox One и PC одинаковые;\n",
    " * Средние пользовательские рейтинги жанров Action (англ. «действие», экшен-игры) и Sports (англ. «спортивные соревнования») разные.\n",
    "\n",
    "Итак, исследование пройдёт в три этапа:\n",
    " 1. Обзор и предобработка данных\n",
    " 2. Исследовательский анализ данных\n",
    " 3. Проверка гипотез"
   ]
  },
  {
   "cell_type": "markdown",
   "id": "4edfa077",
   "metadata": {},
   "source": [
    "## Общая информация"
   ]
  },
  {
   "cell_type": "code",
   "execution_count": 1,
   "id": "efe91d5d",
   "metadata": {},
   "outputs": [],
   "source": [
    "import pandas as pd\n",
    "import numpy as np\n",
    "import matplotlib.pyplot as plt\n",
    "import seaborn as sns\n",
    "\n",
    "from scipy import stats as st"
   ]
  },
  {
   "cell_type": "code",
   "execution_count": 2,
   "id": "e0c8f003",
   "metadata": {},
   "outputs": [],
   "source": [
    "games = pd.read_csv('/datasets/games.csv')"
   ]
  },
  {
   "cell_type": "code",
   "execution_count": 3,
   "id": "256ae7d9",
   "metadata": {},
   "outputs": [
    {
     "data": {
      "text/html": [
       "<div>\n",
       "<style scoped>\n",
       "    .dataframe tbody tr th:only-of-type {\n",
       "        vertical-align: middle;\n",
       "    }\n",
       "\n",
       "    .dataframe tbody tr th {\n",
       "        vertical-align: top;\n",
       "    }\n",
       "\n",
       "    .dataframe thead th {\n",
       "        text-align: right;\n",
       "    }\n",
       "</style>\n",
       "<table border=\"1\" class=\"dataframe\">\n",
       "  <thead>\n",
       "    <tr style=\"text-align: right;\">\n",
       "      <th></th>\n",
       "      <th>Name</th>\n",
       "      <th>Platform</th>\n",
       "      <th>Year_of_Release</th>\n",
       "      <th>Genre</th>\n",
       "      <th>NA_sales</th>\n",
       "      <th>EU_sales</th>\n",
       "      <th>JP_sales</th>\n",
       "      <th>Other_sales</th>\n",
       "      <th>Critic_Score</th>\n",
       "      <th>User_Score</th>\n",
       "      <th>Rating</th>\n",
       "    </tr>\n",
       "  </thead>\n",
       "  <tbody>\n",
       "    <tr>\n",
       "      <th>0</th>\n",
       "      <td>Wii Sports</td>\n",
       "      <td>Wii</td>\n",
       "      <td>2006.0</td>\n",
       "      <td>Sports</td>\n",
       "      <td>41.36</td>\n",
       "      <td>28.96</td>\n",
       "      <td>3.77</td>\n",
       "      <td>8.45</td>\n",
       "      <td>76.0</td>\n",
       "      <td>8</td>\n",
       "      <td>E</td>\n",
       "    </tr>\n",
       "    <tr>\n",
       "      <th>1</th>\n",
       "      <td>Super Mario Bros.</td>\n",
       "      <td>NES</td>\n",
       "      <td>1985.0</td>\n",
       "      <td>Platform</td>\n",
       "      <td>29.08</td>\n",
       "      <td>3.58</td>\n",
       "      <td>6.81</td>\n",
       "      <td>0.77</td>\n",
       "      <td>NaN</td>\n",
       "      <td>NaN</td>\n",
       "      <td>NaN</td>\n",
       "    </tr>\n",
       "    <tr>\n",
       "      <th>2</th>\n",
       "      <td>Mario Kart Wii</td>\n",
       "      <td>Wii</td>\n",
       "      <td>2008.0</td>\n",
       "      <td>Racing</td>\n",
       "      <td>15.68</td>\n",
       "      <td>12.76</td>\n",
       "      <td>3.79</td>\n",
       "      <td>3.29</td>\n",
       "      <td>82.0</td>\n",
       "      <td>8.3</td>\n",
       "      <td>E</td>\n",
       "    </tr>\n",
       "    <tr>\n",
       "      <th>3</th>\n",
       "      <td>Wii Sports Resort</td>\n",
       "      <td>Wii</td>\n",
       "      <td>2009.0</td>\n",
       "      <td>Sports</td>\n",
       "      <td>15.61</td>\n",
       "      <td>10.93</td>\n",
       "      <td>3.28</td>\n",
       "      <td>2.95</td>\n",
       "      <td>80.0</td>\n",
       "      <td>8</td>\n",
       "      <td>E</td>\n",
       "    </tr>\n",
       "    <tr>\n",
       "      <th>4</th>\n",
       "      <td>Pokemon Red/Pokemon Blue</td>\n",
       "      <td>GB</td>\n",
       "      <td>1996.0</td>\n",
       "      <td>Role-Playing</td>\n",
       "      <td>11.27</td>\n",
       "      <td>8.89</td>\n",
       "      <td>10.22</td>\n",
       "      <td>1.00</td>\n",
       "      <td>NaN</td>\n",
       "      <td>NaN</td>\n",
       "      <td>NaN</td>\n",
       "    </tr>\n",
       "  </tbody>\n",
       "</table>\n",
       "</div>"
      ],
      "text/plain": [
       "                       Name Platform  Year_of_Release         Genre  NA_sales  \\\n",
       "0                Wii Sports      Wii           2006.0        Sports     41.36   \n",
       "1         Super Mario Bros.      NES           1985.0      Platform     29.08   \n",
       "2            Mario Kart Wii      Wii           2008.0        Racing     15.68   \n",
       "3         Wii Sports Resort      Wii           2009.0        Sports     15.61   \n",
       "4  Pokemon Red/Pokemon Blue       GB           1996.0  Role-Playing     11.27   \n",
       "\n",
       "   EU_sales  JP_sales  Other_sales  Critic_Score User_Score Rating  \n",
       "0     28.96      3.77         8.45          76.0          8      E  \n",
       "1      3.58      6.81         0.77           NaN        NaN    NaN  \n",
       "2     12.76      3.79         3.29          82.0        8.3      E  \n",
       "3     10.93      3.28         2.95          80.0          8      E  \n",
       "4      8.89     10.22         1.00           NaN        NaN    NaN  "
      ]
     },
     "execution_count": 3,
     "metadata": {},
     "output_type": "execute_result"
    }
   ],
   "source": [
    "games.head()"
   ]
  },
  {
   "cell_type": "code",
   "execution_count": 4,
   "id": "8e64ec90",
   "metadata": {},
   "outputs": [
    {
     "name": "stdout",
     "output_type": "stream",
     "text": [
      "<class 'pandas.core.frame.DataFrame'>\n",
      "RangeIndex: 16715 entries, 0 to 16714\n",
      "Data columns (total 11 columns):\n",
      " #   Column           Non-Null Count  Dtype  \n",
      "---  ------           --------------  -----  \n",
      " 0   Name             16713 non-null  object \n",
      " 1   Platform         16715 non-null  object \n",
      " 2   Year_of_Release  16446 non-null  float64\n",
      " 3   Genre            16713 non-null  object \n",
      " 4   NA_sales         16715 non-null  float64\n",
      " 5   EU_sales         16715 non-null  float64\n",
      " 6   JP_sales         16715 non-null  float64\n",
      " 7   Other_sales      16715 non-null  float64\n",
      " 8   Critic_Score     8137 non-null   float64\n",
      " 9   User_Score       10014 non-null  object \n",
      " 10  Rating           9949 non-null   object \n",
      "dtypes: float64(6), object(5)\n",
      "memory usage: 1.4+ MB\n"
     ]
    }
   ],
   "source": [
    "games.info()"
   ]
  },
  {
   "cell_type": "markdown",
   "id": "6ea147bd",
   "metadata": {},
   "source": [
    "Таблица Games содержит 11 столбцов с данными типа float64, object.\n",
    "\n",
    "Описание данных:\n",
    "\n",
    " *\tName — название игры\n",
    " *\tPlatform — платформа\n",
    " *\tYear_of_Release — год выпуска\n",
    " *\tGenre — жанр игры\n",
    " *\tNA_sales — продажи в Северной Америке (миллионы проданных копий)\n",
    " *\tEU_sales — продажи в Европе (миллионы проданных копий)\n",
    " *\tJP_sales — продажи в Японии (миллионы проданных копий)\n",
    " *\tOther_sales — продажи в других странах (миллионы проданных копий)\n",
    " *\tCritic_Score — оценка критиков (максимум 100)\n",
    " *\tUser_Score — оценка пользователей (максимум 10)\n",
    " *\tRating — рейтинг от организации ESRB (англ. Entertainment Software Rating Board). Эта ассоциация определяет рейтинг компьютерных игр и присваивает им подходящую возрастную категорию.\n",
    "Данные за 2016 год могут быть неполными.\n",
    "\n",
    "В названиях колонок видны нарушения стиля:\n",
    "   - заглавные буквы сочетаются с прописными.\n",
    "\n",
    "Количество значений в столбцах различается. Значит, в данных есть пропущенные значения.\n"
   ]
  },
  {
   "cell_type": "markdown",
   "id": "7e678320",
   "metadata": {},
   "source": [
    "**Выводы.**\n",
    "\n",
    "Часть таблицы описывает представленные игры, а другая содержит информацию о продажах и рейтинге.\n",
    "\n",
    "Необходимо обработать пропуски в данных, привести названия колонок к нижнему змеиному регистру.\n",
    "Предварительно можно утверждать, что данных для анализа достаточно."
   ]
  },
  {
   "cell_type": "markdown",
   "id": "c8e57842",
   "metadata": {},
   "source": [
    "## Предобработка данных"
   ]
  },
  {
   "cell_type": "code",
   "execution_count": 5,
   "id": "8df672b4",
   "metadata": {},
   "outputs": [],
   "source": [
    "games.columns = games.columns.str.lower()"
   ]
  },
  {
   "cell_type": "markdown",
   "id": "876969dd",
   "metadata": {},
   "source": [
    "Обработка пропусков:"
   ]
  },
  {
   "cell_type": "code",
   "execution_count": 6,
   "id": "d21e8378",
   "metadata": {},
   "outputs": [
    {
     "data": {
      "text/plain": [
       "name                  2\n",
       "platform              0\n",
       "year_of_release     269\n",
       "genre                 2\n",
       "na_sales              0\n",
       "eu_sales              0\n",
       "jp_sales              0\n",
       "other_sales           0\n",
       "critic_score       8578\n",
       "user_score         6701\n",
       "rating             6766\n",
       "dtype: int64"
      ]
     },
     "execution_count": 6,
     "metadata": {},
     "output_type": "execute_result"
    }
   ],
   "source": [
    "games.isna().sum()"
   ]
  },
  {
   "cell_type": "code",
   "execution_count": 7,
   "id": "58b43c99",
   "metadata": {},
   "outputs": [
    {
     "data": {
      "text/plain": [
       "Need for Speed: Most Wanted                         12\n",
       "Ratatouille                                          9\n",
       "LEGO Marvel Super Heroes                             9\n",
       "FIFA 14                                              9\n",
       "Madden NFL 07                                        9\n",
       "                                                    ..\n",
       "Jewels of the Tropical Lost Island                   1\n",
       "Sherlock Holmes and the Mystery of Osborne House     1\n",
       "The King of Fighters '95 (CD)                        1\n",
       "Megamind: Mega Team Unite                            1\n",
       "Haitaka no Psychedelica                              1\n",
       "Name: name, Length: 11559, dtype: int64"
      ]
     },
     "execution_count": 7,
     "metadata": {},
     "output_type": "execute_result"
    }
   ],
   "source": [
    "games['name'].value_counts()"
   ]
  },
  {
   "cell_type": "code",
   "execution_count": 8,
   "id": "faaa0ffd",
   "metadata": {},
   "outputs": [
    {
     "data": {
      "text/html": [
       "<div>\n",
       "<style scoped>\n",
       "    .dataframe tbody tr th:only-of-type {\n",
       "        vertical-align: middle;\n",
       "    }\n",
       "\n",
       "    .dataframe tbody tr th {\n",
       "        vertical-align: top;\n",
       "    }\n",
       "\n",
       "    .dataframe thead th {\n",
       "        text-align: right;\n",
       "    }\n",
       "</style>\n",
       "<table border=\"1\" class=\"dataframe\">\n",
       "  <thead>\n",
       "    <tr style=\"text-align: right;\">\n",
       "      <th></th>\n",
       "      <th>name</th>\n",
       "      <th>platform</th>\n",
       "      <th>year_of_release</th>\n",
       "      <th>genre</th>\n",
       "      <th>na_sales</th>\n",
       "      <th>eu_sales</th>\n",
       "      <th>jp_sales</th>\n",
       "      <th>other_sales</th>\n",
       "      <th>critic_score</th>\n",
       "      <th>user_score</th>\n",
       "      <th>rating</th>\n",
       "    </tr>\n",
       "  </thead>\n",
       "  <tbody>\n",
       "    <tr>\n",
       "      <th>659</th>\n",
       "      <td>NaN</td>\n",
       "      <td>GEN</td>\n",
       "      <td>1993.0</td>\n",
       "      <td>NaN</td>\n",
       "      <td>1.78</td>\n",
       "      <td>0.53</td>\n",
       "      <td>0.00</td>\n",
       "      <td>0.08</td>\n",
       "      <td>NaN</td>\n",
       "      <td>NaN</td>\n",
       "      <td>NaN</td>\n",
       "    </tr>\n",
       "    <tr>\n",
       "      <th>14244</th>\n",
       "      <td>NaN</td>\n",
       "      <td>GEN</td>\n",
       "      <td>1993.0</td>\n",
       "      <td>NaN</td>\n",
       "      <td>0.00</td>\n",
       "      <td>0.00</td>\n",
       "      <td>0.03</td>\n",
       "      <td>0.00</td>\n",
       "      <td>NaN</td>\n",
       "      <td>NaN</td>\n",
       "      <td>NaN</td>\n",
       "    </tr>\n",
       "  </tbody>\n",
       "</table>\n",
       "</div>"
      ],
      "text/plain": [
       "      name platform  year_of_release genre  na_sales  eu_sales  jp_sales  \\\n",
       "659    NaN      GEN           1993.0   NaN      1.78      0.53      0.00   \n",
       "14244  NaN      GEN           1993.0   NaN      0.00      0.00      0.03   \n",
       "\n",
       "       other_sales  critic_score user_score rating  \n",
       "659           0.08           NaN        NaN    NaN  \n",
       "14244         0.00           NaN        NaN    NaN  "
      ]
     },
     "execution_count": 8,
     "metadata": {},
     "output_type": "execute_result"
    }
   ],
   "source": [
    "games[games['name'].isna()]"
   ]
  },
  {
   "cell_type": "markdown",
   "id": "0dd029aa",
   "metadata": {},
   "source": [
    "Пропусков по жанрам и названиям игр - 2. Избавимся от них:"
   ]
  },
  {
   "cell_type": "code",
   "execution_count": 9,
   "id": "1c594ce7",
   "metadata": {},
   "outputs": [],
   "source": [
    "games = games.dropna(subset = ['name'])"
   ]
  },
  {
   "cell_type": "code",
   "execution_count": 10,
   "id": "961b0e77",
   "metadata": {},
   "outputs": [
    {
     "data": {
      "text/plain": [
       "array(['Sports', 'Platform', 'Racing', 'Role-Playing', 'Puzzle', 'Misc',\n",
       "       'Shooter', 'Simulation', 'Action', 'Fighting', 'Adventure',\n",
       "       'Strategy'], dtype=object)"
      ]
     },
     "execution_count": 10,
     "metadata": {},
     "output_type": "execute_result"
    }
   ],
   "source": [
    "games['genre'].unique()"
   ]
  },
  {
   "cell_type": "code",
   "execution_count": 11,
   "id": "d1d9b5b1",
   "metadata": {
    "scrolled": true
   },
   "outputs": [
    {
     "data": {
      "text/plain": [
       "array(['Wii', 'NES', 'GB', 'DS', 'X360', 'PS3', 'PS2', 'SNES', 'GBA',\n",
       "       'PS4', '3DS', 'N64', 'PS', 'XB', 'PC', '2600', 'PSP', 'XOne',\n",
       "       'WiiU', 'GC', 'GEN', 'DC', 'PSV', 'SAT', 'SCD', 'WS', 'NG', 'TG16',\n",
       "       '3DO', 'GG', 'PCFX'], dtype=object)"
      ]
     },
     "execution_count": 11,
     "metadata": {},
     "output_type": "execute_result"
    }
   ],
   "source": [
    "games['platform'].unique()"
   ]
  },
  {
   "cell_type": "code",
   "execution_count": 12,
   "id": "44359b84",
   "metadata": {
    "scrolled": false
   },
   "outputs": [
    {
     "data": {
      "text/plain": [
       "array([2006., 1985., 2008., 2009., 1996., 1989., 1984., 2005., 1999.,\n",
       "       2007., 2010., 2013., 2004., 1990., 1988., 2002., 2001., 2011.,\n",
       "       1998., 2015., 2012., 2014., 1992., 1997., 1993., 1994., 1982.,\n",
       "       2016., 2003., 1986., 2000.,   nan, 1995., 1991., 1981., 1987.,\n",
       "       1980., 1983.])"
      ]
     },
     "execution_count": 12,
     "metadata": {},
     "output_type": "execute_result"
    }
   ],
   "source": [
    "games['year_of_release'].unique()"
   ]
  },
  {
   "cell_type": "code",
   "execution_count": 13,
   "id": "59ed9544",
   "metadata": {
    "scrolled": true
   },
   "outputs": [
    {
     "data": {
      "text/plain": [
       "platform\n",
       "PS2     34\n",
       "Wii     34\n",
       "DS      30\n",
       "X360    30\n",
       "PS3     25\n",
       "XB      21\n",
       "2600    17\n",
       "PC      17\n",
       "PSP     16\n",
       "GC      14\n",
       "GBA     11\n",
       "3DS      8\n",
       "PS       7\n",
       "N64      3\n",
       "GB       1\n",
       "PSV      1\n",
       "dtype: int64"
      ]
     },
     "execution_count": 13,
     "metadata": {},
     "output_type": "execute_result"
    }
   ],
   "source": [
    "games[(games['year_of_release'].isna())].value_counts('platform')"
   ]
  },
  {
   "cell_type": "code",
   "execution_count": 14,
   "id": "a88d884b",
   "metadata": {},
   "outputs": [
    {
     "data": {
      "text/plain": [
       "genre\n",
       "Action          62\n",
       "Sports          42\n",
       "Misc            29\n",
       "Shooter         27\n",
       "Racing          23\n",
       "Role-Playing    17\n",
       "Simulation      16\n",
       "Fighting        12\n",
       "Puzzle          11\n",
       "Adventure       10\n",
       "Platform        10\n",
       "Strategy        10\n",
       "dtype: int64"
      ]
     },
     "execution_count": 14,
     "metadata": {},
     "output_type": "execute_result"
    }
   ],
   "source": [
    "games[(games['year_of_release'].isna())].value_counts('genre')"
   ]
  },
  {
   "cell_type": "code",
   "execution_count": 15,
   "id": "a8c19656",
   "metadata": {
    "scrolled": false
   },
   "outputs": [
    {
     "data": {
      "text/plain": [
       "critic_score\n",
       "69.0    10\n",
       "78.0     7\n",
       "77.0     7\n",
       "76.0     7\n",
       "54.0     7\n",
       "71.0     6\n",
       "75.0     5\n",
       "84.0     5\n",
       "60.0     4\n",
       "82.0     4\n",
       "81.0     4\n",
       "70.0     4\n",
       "86.0     4\n",
       "73.0     4\n",
       "56.0     4\n",
       "66.0     3\n",
       "59.0     3\n",
       "72.0     3\n",
       "61.0     3\n",
       "74.0     3\n",
       "57.0     3\n",
       "53.0     3\n",
       "50.0     3\n",
       "48.0     3\n",
       "58.0     2\n",
       "46.0     2\n",
       "92.0     2\n",
       "91.0     2\n",
       "88.0     2\n",
       "43.0     2\n",
       "87.0     2\n",
       "47.0     2\n",
       "80.0     2\n",
       "68.0     2\n",
       "85.0     2\n",
       "64.0     2\n",
       "63.0     2\n",
       "89.0     1\n",
       "90.0     1\n",
       "83.0     1\n",
       "22.0     1\n",
       "65.0     1\n",
       "79.0     1\n",
       "26.0     1\n",
       "62.0     1\n",
       "55.0     1\n",
       "51.0     1\n",
       "49.0     1\n",
       "45.0     1\n",
       "44.0     1\n",
       "42.0     1\n",
       "35.0     1\n",
       "34.0     1\n",
       "33.0     1\n",
       "28.0     1\n",
       "94.0     1\n",
       "dtype: int64"
      ]
     },
     "execution_count": 15,
     "metadata": {},
     "output_type": "execute_result"
    }
   ],
   "source": [
    "games[(games['year_of_release'].isna())].value_counts('critic_score')"
   ]
  },
  {
   "cell_type": "markdown",
   "id": "b3a189b8",
   "metadata": {},
   "source": [
    "Пропуски в столбце `year_of_release` составляют менее 2%, кроме того нет возможности заполнить их, т.к. ни от жанра, ни от платформы они не зависят. Вероятно, пропуски появились случайно или могли отсутствовать в открытом доступе на момент выгрузки. Удалим их и сделаем значение лет целочисленным типом:"
   ]
  },
  {
   "cell_type": "code",
   "execution_count": 16,
   "id": "139eec0c",
   "metadata": {},
   "outputs": [],
   "source": [
    "games = games.dropna(subset = ['year_of_release'])"
   ]
  },
  {
   "cell_type": "code",
   "execution_count": 17,
   "id": "b741b40c",
   "metadata": {},
   "outputs": [],
   "source": [
    "games['year_of_release'] = games['year_of_release'].astype('int64')"
   ]
  },
  {
   "cell_type": "code",
   "execution_count": 18,
   "id": "ec6bb866",
   "metadata": {
    "scrolled": true
   },
   "outputs": [
    {
     "data": {
      "text/plain": [
       "array(['0', '0.2', '0.3', '0.5', '0.6', '0.7', '0.9', '1', '1.1', '1.2',\n",
       "       '1.3', '1.4', '1.5', '1.6', '1.7', '1.8', '1.9', '2', '2.1', '2.2',\n",
       "       '2.3', '2.4', '2.5', '2.6', '2.7', '2.8', '2.9', '3', '3.1', '3.2',\n",
       "       '3.3', '3.4', '3.5', '3.6', '3.7', '3.8', '3.9', '4', '4.1', '4.2',\n",
       "       '4.3', '4.4', '4.5', '4.6', '4.7', '4.8', '4.9', '5', '5.1', '5.2',\n",
       "       '5.3', '5.4', '5.5', '5.6', '5.7', '5.8', '5.9', '6', '6.1', '6.2',\n",
       "       '6.3', '6.4', '6.5', '6.6', '6.7', '6.8', '6.9', '7', '7.1', '7.2',\n",
       "       '7.3', '7.4', '7.5', '7.6', '7.7', '7.8', '7.9', '8', '8.1', '8.2',\n",
       "       '8.3', '8.4', '8.5', '8.6', '8.7', '8.8', '8.9', '9', '9.1', '9.2',\n",
       "       '9.3', '9.4', '9.5', '9.6', '9.7', 'tbd', nan], dtype=object)"
      ]
     },
     "execution_count": 18,
     "metadata": {},
     "output_type": "execute_result"
    }
   ],
   "source": [
    "games['user_score'].sort_values().unique()"
   ]
  },
  {
   "cell_type": "code",
   "execution_count": 19,
   "id": "9b1a3ebf",
   "metadata": {},
   "outputs": [
    {
     "data": {
      "text/plain": [
       "0.14449039163220628"
      ]
     },
     "execution_count": 19,
     "metadata": {},
     "output_type": "execute_result"
    }
   ],
   "source": [
    "len(games[(games['user_score'] == 'tbd')]) / len(games)"
   ]
  },
  {
   "cell_type": "markdown",
   "id": "fb16900f",
   "metadata": {},
   "source": [
    "В колонке `user_score` встречается значение *tbd*, означающее то, что оценка подлежит уточнению. Заменим это значение на nan, поскольку истинное ее значение неизвестно. После этого изменим тип столбца с *object* на *float*."
   ]
  },
  {
   "cell_type": "code",
   "execution_count": 20,
   "id": "54ab2270",
   "metadata": {},
   "outputs": [],
   "source": [
    "games.loc[(games['user_score'] == 'tbd'), 'user_score'] = np.nan"
   ]
  },
  {
   "cell_type": "code",
   "execution_count": 21,
   "id": "66504406",
   "metadata": {},
   "outputs": [],
   "source": [
    "games['user_score'] = games['user_score'].astype('float64')"
   ]
  },
  {
   "cell_type": "code",
   "execution_count": 22,
   "id": "a1eb7ce2",
   "metadata": {
    "scrolled": true
   },
   "outputs": [
    {
     "data": {
      "text/plain": [
       "8981"
      ]
     },
     "execution_count": 22,
     "metadata": {},
     "output_type": "execute_result"
    }
   ],
   "source": [
    "len(games[(games['user_score'].isna())])"
   ]
  },
  {
   "cell_type": "code",
   "execution_count": 23,
   "id": "057ed5b4",
   "metadata": {
    "scrolled": true
   },
   "outputs": [
    {
     "data": {
      "text/plain": [
       "NaN     6593\n",
       "E       1583\n",
       "T        387\n",
       "E10+     367\n",
       "M         44\n",
       "EC         7\n",
       "Name: rating, dtype: int64"
      ]
     },
     "execution_count": 23,
     "metadata": {},
     "output_type": "execute_result"
    }
   ],
   "source": [
    "games[(games['user_score'].isna())]['rating'].value_counts(dropna=False)"
   ]
  },
  {
   "cell_type": "code",
   "execution_count": 24,
   "id": "728cf0a8",
   "metadata": {
    "scrolled": true
   },
   "outputs": [
    {
     "data": {
      "text/plain": [
       "critic_score\n",
       "66.0    48\n",
       "68.0    47\n",
       "65.0    45\n",
       "70.0    42\n",
       "62.0    42\n",
       "        ..\n",
       "23.0     1\n",
       "32.0     1\n",
       "30.0     1\n",
       "28.0     1\n",
       "90.0     1\n",
       "Length: 65, dtype: int64"
      ]
     },
     "execution_count": 24,
     "metadata": {},
     "output_type": "execute_result"
    }
   ],
   "source": [
    "games[(games['user_score'].isna())].value_counts('critic_score')"
   ]
  },
  {
   "cell_type": "code",
   "execution_count": 25,
   "id": "99a3fb3e",
   "metadata": {},
   "outputs": [
    {
     "data": {
      "text/plain": [
       "0.4001459498905376"
      ]
     },
     "execution_count": 25,
     "metadata": {},
     "output_type": "execute_result"
    }
   ],
   "source": [
    "len(games[(games['user_score'].isna()) & (games['critic_score'].isna()) & (games['rating'].isna())]) / len(games)"
   ]
  },
  {
   "cell_type": "markdown",
   "id": "2d125901",
   "metadata": {},
   "source": [
    "Заметим. что в датасете  есть 40% строк, в которых одновременно пропущены значения у столбцов `user_score`, `critic_score`, `rating`. Предположительно, в открытом доступе подобных данных не оказалось."
   ]
  },
  {
   "cell_type": "code",
   "execution_count": 26,
   "id": "d31de1f9",
   "metadata": {
    "scrolled": true
   },
   "outputs": [
    {
     "data": {
      "text/plain": [
       "array([13., 17., 19., 20., 21., 23., 24., 25., 26., 27., 28., 29., 30.,\n",
       "       31., 32., 33., 34., 35., 36., 37., 38., 39., 40., 41., 42., 43.,\n",
       "       44., 45., 46., 47., 48., 49., 50., 51., 52., 53., 54., 55., 56.,\n",
       "       57., 58., 59., 60., 61., 62., 63., 64., 65., 66., 67., 68., 69.,\n",
       "       70., 71., 72., 73., 74., 75., 76., 77., 78., 79., 80., 81., 82.,\n",
       "       83., 84., 85., 86., 87., 88., 89., 90., 91., 92., 93., 94., 95.,\n",
       "       96., 97., 98., nan])"
      ]
     },
     "execution_count": 26,
     "metadata": {},
     "output_type": "execute_result"
    }
   ],
   "source": [
    "games['critic_score'].sort_values().unique()"
   ]
  },
  {
   "cell_type": "code",
   "execution_count": 27,
   "id": "c87ab319",
   "metadata": {
    "scrolled": true
   },
   "outputs": [
    {
     "data": {
      "text/plain": [
       "year_of_release\n",
       "2009    0.047130\n",
       "2010    0.045913\n",
       "2008    0.043298\n",
       "2011    0.038677\n",
       "2007    0.030710\n",
       "2006    0.023474\n",
       "2015    0.023170\n",
       "1998    0.021345\n",
       "2012    0.020190\n",
       "2014    0.019460\n",
       "1999    0.018183\n",
       "2005    0.017271\n",
       "1997    0.016541\n",
       "2013    0.016480\n",
       "2016    0.016419\n",
       "1996    0.015507\n",
       "1995    0.013318\n",
       "2000    0.012588\n",
       "2002    0.012284\n",
       "2004    0.012223\n",
       "2003    0.011554\n",
       "2001    0.009487\n",
       "1994    0.007297\n",
       "1993    0.003649\n",
       "1981    0.002797\n",
       "1992    0.002554\n",
       "1991    0.002493\n",
       "1982    0.002189\n",
       "1986    0.001277\n",
       "1989    0.001034\n",
       "1983    0.001034\n",
       "1990    0.000973\n",
       "1987    0.000973\n",
       "1988    0.000851\n",
       "1984    0.000851\n",
       "1985    0.000791\n",
       "1980    0.000547\n",
       "dtype: float64"
      ]
     },
     "execution_count": 27,
     "metadata": {},
     "output_type": "execute_result"
    }
   ],
   "source": [
    "games[(games['critic_score'].isna())].value_counts('year_of_release', ascending = False) / len(games)"
   ]
  },
  {
   "cell_type": "code",
   "execution_count": 28,
   "id": "3f5e76fc",
   "metadata": {},
   "outputs": [
    {
     "data": {
      "text/plain": [
       "na_sales\n",
       "0.00     0.233033\n",
       "0.02     0.016541\n",
       "0.03     0.015081\n",
       "0.01     0.014899\n",
       "0.04     0.014595\n",
       "           ...   \n",
       "2.06     0.000061\n",
       "2.05     0.000061\n",
       "2.01     0.000061\n",
       "2.00     0.000061\n",
       "29.08    0.000061\n",
       "Length: 269, dtype: float64"
      ]
     },
     "execution_count": 28,
     "metadata": {},
     "output_type": "execute_result"
    }
   ],
   "source": [
    "games[(games['critic_score'].isna())].value_counts('na_sales') / len(games)"
   ]
  },
  {
   "cell_type": "markdown",
   "id": "9edcec90",
   "metadata": {},
   "source": [
    "В столбце `critic_score` содержится оценка критиков, со значениями от 13 до 98. Пропуски здесь имеют неслучайный характер:\n",
    " * больше всего пропущенных оценок в колонках с нулевыми значениями продаж во всех частях света;\n",
    " * чем позже год релиза, тем больше пропусков в оценках.\n",
    "\n",
    "Итак, пропуски здесь заполнить не представляется возможным.\n",
    "Замена данных в колонках может исказить итоговый результат, поэтому пропуски в `critic_score`, `user_score` оставляем незаполненными."
   ]
  },
  {
   "cell_type": "code",
   "execution_count": 29,
   "id": "270e419b",
   "metadata": {
    "scrolled": true
   },
   "outputs": [
    {
     "data": {
      "text/plain": [
       "array(['E', nan, 'M', 'T', 'E10+', 'K-A', 'AO', 'EC', 'RP'], dtype=object)"
      ]
     },
     "execution_count": 29,
     "metadata": {},
     "output_type": "execute_result"
    }
   ],
   "source": [
    "games['rating'].unique()"
   ]
  },
  {
   "cell_type": "markdown",
   "id": "33c51984",
   "metadata": {},
   "source": [
    "Поскольку значения в колонке `rating` категориальные, заменим пропуски на значение *no rating*."
   ]
  },
  {
   "cell_type": "code",
   "execution_count": 30,
   "id": "a0f94fcc",
   "metadata": {},
   "outputs": [],
   "source": [
    "games['rating'] = games['rating'].fillna('no rating')"
   ]
  },
  {
   "cell_type": "code",
   "execution_count": 31,
   "id": "a612b4a1",
   "metadata": {},
   "outputs": [
    {
     "data": {
      "text/plain": [
       "0"
      ]
     },
     "execution_count": 31,
     "metadata": {},
     "output_type": "execute_result"
    }
   ],
   "source": [
    "games.duplicated().sum()"
   ]
  },
  {
   "cell_type": "markdown",
   "id": "bd772a14",
   "metadata": {},
   "source": [
    "Определим суммарные продажи во всех регионах:"
   ]
  },
  {
   "cell_type": "code",
   "execution_count": 32,
   "id": "43af5bc3",
   "metadata": {},
   "outputs": [
    {
     "data": {
      "text/html": [
       "<div>\n",
       "<style scoped>\n",
       "    .dataframe tbody tr th:only-of-type {\n",
       "        vertical-align: middle;\n",
       "    }\n",
       "\n",
       "    .dataframe tbody tr th {\n",
       "        vertical-align: top;\n",
       "    }\n",
       "\n",
       "    .dataframe thead th {\n",
       "        text-align: right;\n",
       "    }\n",
       "</style>\n",
       "<table border=\"1\" class=\"dataframe\">\n",
       "  <thead>\n",
       "    <tr style=\"text-align: right;\">\n",
       "      <th></th>\n",
       "      <th>name</th>\n",
       "      <th>platform</th>\n",
       "      <th>year_of_release</th>\n",
       "      <th>genre</th>\n",
       "      <th>na_sales</th>\n",
       "      <th>eu_sales</th>\n",
       "      <th>jp_sales</th>\n",
       "      <th>other_sales</th>\n",
       "      <th>critic_score</th>\n",
       "      <th>user_score</th>\n",
       "      <th>rating</th>\n",
       "      <th>total_sales</th>\n",
       "    </tr>\n",
       "  </thead>\n",
       "  <tbody>\n",
       "    <tr>\n",
       "      <th>16710</th>\n",
       "      <td>Samurai Warriors: Sanada Maru</td>\n",
       "      <td>PS3</td>\n",
       "      <td>2016</td>\n",
       "      <td>Action</td>\n",
       "      <td>0.00</td>\n",
       "      <td>0.00</td>\n",
       "      <td>0.01</td>\n",
       "      <td>0.0</td>\n",
       "      <td>NaN</td>\n",
       "      <td>NaN</td>\n",
       "      <td>no rating</td>\n",
       "      <td>0.02</td>\n",
       "    </tr>\n",
       "    <tr>\n",
       "      <th>16711</th>\n",
       "      <td>LMA Manager 2007</td>\n",
       "      <td>X360</td>\n",
       "      <td>2006</td>\n",
       "      <td>Sports</td>\n",
       "      <td>0.00</td>\n",
       "      <td>0.01</td>\n",
       "      <td>0.00</td>\n",
       "      <td>0.0</td>\n",
       "      <td>NaN</td>\n",
       "      <td>NaN</td>\n",
       "      <td>no rating</td>\n",
       "      <td>0.01</td>\n",
       "    </tr>\n",
       "    <tr>\n",
       "      <th>16712</th>\n",
       "      <td>Haitaka no Psychedelica</td>\n",
       "      <td>PSV</td>\n",
       "      <td>2016</td>\n",
       "      <td>Adventure</td>\n",
       "      <td>0.00</td>\n",
       "      <td>0.00</td>\n",
       "      <td>0.01</td>\n",
       "      <td>0.0</td>\n",
       "      <td>NaN</td>\n",
       "      <td>NaN</td>\n",
       "      <td>no rating</td>\n",
       "      <td>0.02</td>\n",
       "    </tr>\n",
       "    <tr>\n",
       "      <th>16713</th>\n",
       "      <td>Spirits &amp; Spells</td>\n",
       "      <td>GBA</td>\n",
       "      <td>2003</td>\n",
       "      <td>Platform</td>\n",
       "      <td>0.01</td>\n",
       "      <td>0.00</td>\n",
       "      <td>0.00</td>\n",
       "      <td>0.0</td>\n",
       "      <td>NaN</td>\n",
       "      <td>NaN</td>\n",
       "      <td>no rating</td>\n",
       "      <td>0.01</td>\n",
       "    </tr>\n",
       "    <tr>\n",
       "      <th>16714</th>\n",
       "      <td>Winning Post 8 2016</td>\n",
       "      <td>PSV</td>\n",
       "      <td>2016</td>\n",
       "      <td>Simulation</td>\n",
       "      <td>0.00</td>\n",
       "      <td>0.00</td>\n",
       "      <td>0.01</td>\n",
       "      <td>0.0</td>\n",
       "      <td>NaN</td>\n",
       "      <td>NaN</td>\n",
       "      <td>no rating</td>\n",
       "      <td>0.02</td>\n",
       "    </tr>\n",
       "  </tbody>\n",
       "</table>\n",
       "</div>"
      ],
      "text/plain": [
       "                                name platform  year_of_release       genre  \\\n",
       "16710  Samurai Warriors: Sanada Maru      PS3             2016      Action   \n",
       "16711               LMA Manager 2007     X360             2006      Sports   \n",
       "16712        Haitaka no Psychedelica      PSV             2016   Adventure   \n",
       "16713               Spirits & Spells      GBA             2003    Platform   \n",
       "16714            Winning Post 8 2016      PSV             2016  Simulation   \n",
       "\n",
       "       na_sales  eu_sales  jp_sales  other_sales  critic_score  user_score  \\\n",
       "16710      0.00      0.00      0.01          0.0           NaN         NaN   \n",
       "16711      0.00      0.01      0.00          0.0           NaN         NaN   \n",
       "16712      0.00      0.00      0.01          0.0           NaN         NaN   \n",
       "16713      0.01      0.00      0.00          0.0           NaN         NaN   \n",
       "16714      0.00      0.00      0.01          0.0           NaN         NaN   \n",
       "\n",
       "          rating  total_sales  \n",
       "16710  no rating         0.02  \n",
       "16711  no rating         0.01  \n",
       "16712  no rating         0.02  \n",
       "16713  no rating         0.01  \n",
       "16714  no rating         0.02  "
      ]
     },
     "execution_count": 32,
     "metadata": {},
     "output_type": "execute_result"
    }
   ],
   "source": [
    "games['total_sales'] = games['na_sales'] + games['eu_sales'] + games['jp_sales'] + games['jp_sales']\n",
    "games.tail()"
   ]
  },
  {
   "cell_type": "markdown",
   "id": "dccb5631",
   "metadata": {},
   "source": [
    "**Вывод**\n",
    "\n",
    "Таким образом, на данном этапе:\n",
    " - были удалены строки с пропусками в колонке `year_of_release`, 2 строки с пустыми значениями в `name`;\n",
    " - пропуски в  столбцах `critic_score`, `user_score` оставлены без обработки, отследим их влияние в дальнейшем анализе.\n",
    " - Пропуски в колонке `rating` заменены значением *no rating*.\n",
    " \n",
    "Добавлен столбец с общей выручкой по всем регионам.\n",
    "Дубликатов в данных нет."
   ]
  },
  {
   "cell_type": "markdown",
   "id": "2c6ac482",
   "metadata": {},
   "source": [
    "## Исследовательский аналих данных"
   ]
  },
  {
   "cell_type": "markdown",
   "id": "8c62243c",
   "metadata": {},
   "source": [
    "### Cколько игр выпускалось в разные годы:"
   ]
  },
  {
   "cell_type": "code",
   "execution_count": 33,
   "id": "13862b33",
   "metadata": {},
   "outputs": [
    {
     "data": {
      "text/plain": [
       "Text(0.5, 1.0, 'Количество выпущенных в разные годы игр')"
      ]
     },
     "execution_count": 33,
     "metadata": {},
     "output_type": "execute_result"
    },
    {
     "data": {
      "image/png": "[encoded data removed]",
      "text/plain": [
       "<Figure size 576x360 with 1 Axes>"
      ]
     },
     "metadata": {
      "needs_background": "light"
     },
     "output_type": "display_data"
    }
   ],
   "source": [
    "games.groupby('year_of_release')['name'].count().plot(grid=True, marker = 'o', figsize = (8,5))\n",
    "plt.title(\"Количество выпущенных в разные годы игр\")"
   ]
  },
  {
   "cell_type": "markdown",
   "id": "93aa79ce",
   "metadata": {},
   "source": [
    "Заметим, что c 1999г выпускалось более 300 игр. После 1995 года начался резкий рост количества игр, после 2009 рост снизился, возможно это связано с популяризацией мобильных игр. В 2016 году количество выпущенных игр подошло к значениям 2001года. "
   ]
  },
  {
   "cell_type": "markdown",
   "id": "f8ce6346",
   "metadata": {},
   "source": [
    "### Продажи по платформам"
   ]
  },
  {
   "cell_type": "code",
   "execution_count": 34,
   "id": "86c75c5a",
   "metadata": {},
   "outputs": [
    {
     "data": {
      "text/html": [
       "<div>\n",
       "<style scoped>\n",
       "    .dataframe tbody tr th:only-of-type {\n",
       "        vertical-align: middle;\n",
       "    }\n",
       "\n",
       "    .dataframe tbody tr th {\n",
       "        vertical-align: top;\n",
       "    }\n",
       "\n",
       "    .dataframe thead th {\n",
       "        text-align: right;\n",
       "    }\n",
       "</style>\n",
       "<table border=\"1\" class=\"dataframe\">\n",
       "  <thead>\n",
       "    <tr style=\"text-align: right;\">\n",
       "      <th></th>\n",
       "      <th>total_sales</th>\n",
       "    </tr>\n",
       "    <tr>\n",
       "      <th>platform</th>\n",
       "      <th></th>\n",
       "    </tr>\n",
       "  </thead>\n",
       "  <tbody>\n",
       "    <tr>\n",
       "      <th>PS2</th>\n",
       "      <td>1180.63</td>\n",
       "    </tr>\n",
       "    <tr>\n",
       "      <th>DS</th>\n",
       "      <td>918.76</td>\n",
       "    </tr>\n",
       "    <tr>\n",
       "      <th>X360</th>\n",
       "      <td>888.66</td>\n",
       "    </tr>\n",
       "    <tr>\n",
       "      <th>Wii</th>\n",
       "      <td>881.75</td>\n",
       "    </tr>\n",
       "    <tr>\n",
       "      <th>PS3</th>\n",
       "      <td>876.16</td>\n",
       "    </tr>\n",
       "    <tr>\n",
       "      <th>PS</th>\n",
       "      <td>826.67</td>\n",
       "    </tr>\n",
       "    <tr>\n",
       "      <th>GBA</th>\n",
       "      <td>351.83</td>\n",
       "    </tr>\n",
       "    <tr>\n",
       "      <th>3DS</th>\n",
       "      <td>345.16</td>\n",
       "    </tr>\n",
       "    <tr>\n",
       "      <th>NES</th>\n",
       "      <td>344.39</td>\n",
       "    </tr>\n",
       "    <tr>\n",
       "      <th>GB</th>\n",
       "      <td>331.39</td>\n",
       "    </tr>\n",
       "    <tr>\n",
       "      <th>PSP</th>\n",
       "      <td>324.65</td>\n",
       "    </tr>\n",
       "    <tr>\n",
       "      <th>SNES</th>\n",
       "      <td>313.37</td>\n",
       "    </tr>\n",
       "    <tr>\n",
       "      <th>PS4</th>\n",
       "      <td>281.75</td>\n",
       "    </tr>\n",
       "    <tr>\n",
       "      <th>N64</th>\n",
       "      <td>247.46</td>\n",
       "    </tr>\n",
       "    <tr>\n",
       "      <th>XB</th>\n",
       "      <td>244.47</td>\n",
       "    </tr>\n",
       "    <tr>\n",
       "      <th>PC</th>\n",
       "      <td>234.05</td>\n",
       "    </tr>\n",
       "    <tr>\n",
       "      <th>GC</th>\n",
       "      <td>212.94</td>\n",
       "    </tr>\n",
       "    <tr>\n",
       "      <th>XOne</th>\n",
       "      <td>145.39</td>\n",
       "    </tr>\n",
       "    <tr>\n",
       "      <th>WiiU</th>\n",
       "      <td>89.25</td>\n",
       "    </tr>\n",
       "    <tr>\n",
       "      <th>2600</th>\n",
       "      <td>85.64</td>\n",
       "    </tr>\n",
       "    <tr>\n",
       "      <th>PSV</th>\n",
       "      <td>69.22</td>\n",
       "    </tr>\n",
       "    <tr>\n",
       "      <th>SAT</th>\n",
       "      <td>65.78</td>\n",
       "    </tr>\n",
       "    <tr>\n",
       "      <th>GEN</th>\n",
       "      <td>30.13</td>\n",
       "    </tr>\n",
       "    <tr>\n",
       "      <th>DC</th>\n",
       "      <td>24.24</td>\n",
       "    </tr>\n",
       "    <tr>\n",
       "      <th>NG</th>\n",
       "      <td>2.88</td>\n",
       "    </tr>\n",
       "    <tr>\n",
       "      <th>WS</th>\n",
       "      <td>2.84</td>\n",
       "    </tr>\n",
       "    <tr>\n",
       "      <th>SCD</th>\n",
       "      <td>2.26</td>\n",
       "    </tr>\n",
       "    <tr>\n",
       "      <th>TG16</th>\n",
       "      <td>0.32</td>\n",
       "    </tr>\n",
       "    <tr>\n",
       "      <th>3DO</th>\n",
       "      <td>0.20</td>\n",
       "    </tr>\n",
       "    <tr>\n",
       "      <th>GG</th>\n",
       "      <td>0.08</td>\n",
       "    </tr>\n",
       "    <tr>\n",
       "      <th>PCFX</th>\n",
       "      <td>0.06</td>\n",
       "    </tr>\n",
       "  </tbody>\n",
       "</table>\n",
       "</div>"
      ],
      "text/plain": [
       "          total_sales\n",
       "platform             \n",
       "PS2           1180.63\n",
       "DS             918.76\n",
       "X360           888.66\n",
       "Wii            881.75\n",
       "PS3            876.16\n",
       "PS             826.67\n",
       "GBA            351.83\n",
       "3DS            345.16\n",
       "NES            344.39\n",
       "GB             331.39\n",
       "PSP            324.65\n",
       "SNES           313.37\n",
       "PS4            281.75\n",
       "N64            247.46\n",
       "XB             244.47\n",
       "PC             234.05\n",
       "GC             212.94\n",
       "XOne           145.39\n",
       "WiiU            89.25\n",
       "2600            85.64\n",
       "PSV             69.22\n",
       "SAT             65.78\n",
       "GEN             30.13\n",
       "DC              24.24\n",
       "NG               2.88\n",
       "WS               2.84\n",
       "SCD              2.26\n",
       "TG16             0.32\n",
       "3DO              0.20\n",
       "GG               0.08\n",
       "PCFX             0.06"
      ]
     },
     "execution_count": 34,
     "metadata": {},
     "output_type": "execute_result"
    }
   ],
   "source": [
    "platform_sales = games.groupby('platform').agg({'total_sales' :'sum'}).sort_values(by = 'total_sales', ascending = False)\n",
    "platform_sales"
   ]
  },
  {
   "cell_type": "markdown",
   "id": "9174a8d3",
   "metadata": {},
   "source": [
    "Выберем платформы с суммарными продажами более 85млн.копий и построим распределение по годам:"
   ]
  },
  {
   "cell_type": "code",
   "execution_count": 35,
   "id": "11ff2044",
   "metadata": {},
   "outputs": [],
   "source": [
    "platform_max_sales = platform_sales.query('total_sales > 85')"
   ]
  },
  {
   "cell_type": "code",
   "execution_count": 36,
   "id": "e9641cec",
   "metadata": {},
   "outputs": [],
   "source": [
    "sales_by_platform = (\n",
    "    games.query('platform in @platform_max_sales.index and year_of_release > 2000')\n",
    "    .pivot_table(index = 'year_of_release', columns = 'platform', values = 'total_sales', aggfunc = ['sum'])   \n",
    ")"
   ]
  },
  {
   "cell_type": "code",
   "execution_count": 37,
   "id": "8fb74c8d",
   "metadata": {
    "scrolled": false
   },
   "outputs": [
    {
     "data": {
      "text/plain": [
       "[Text(0.5, 51.0, 'Platform sales')]"
      ]
     },
     "execution_count": 37,
     "metadata": {},
     "output_type": "execute_result"
    },
    {
     "data": {
      "image/png": "[encoded data removed]",
      "text/plain": [
       "<Figure size 1296x576 with 2 Axes>"
      ]
     },
     "metadata": {
      "needs_background": "light"
     },
     "output_type": "display_data"
    }
   ],
   "source": [
    "plt.figure(figsize=(18,8))\n",
    "sns.heatmap(sales_by_platform, annot=True, annot_kws={\"size\": 10}, cmap='viridis').set(xlabel = 'Platform sales')"
   ]
  },
  {
   "cell_type": "markdown",
   "id": "391e5af4",
   "metadata": {},
   "source": [
    "Согласно данным сводной таблицы, чаще всего платформа выпускает игры в течение 5 или 10 лет. Самую долгую историю производства игр имеет платформа *РС*. Первую крупную прибыль (110) получена платформой PS в 1996 году. С 2000 года платформ стало больше и выпускаемых игр тоже, что отражено в графике выше. "
   ]
  },
  {
   "cell_type": "markdown",
   "id": "f7e7b876",
   "metadata": {},
   "source": [
    "Чтобы построить прогноз на 2017год возьмем статистику данных с 2013 года. В этот период начался новый этап выпуска игр, судя по графику выше."
   ]
  },
  {
   "cell_type": "code",
   "execution_count": 38,
   "id": "f641c67b",
   "metadata": {},
   "outputs": [
    {
     "data": {
      "text/plain": [
       "0.11402335198248602"
      ]
     },
     "execution_count": 38,
     "metadata": {},
     "output_type": "execute_result"
    }
   ],
   "source": [
    "games_best = games.query('year_of_release >= 2013 and platform in @platform_max_sales.index') \n",
    "len(games_best) / len(games)"
   ]
  },
  {
   "cell_type": "markdown",
   "id": "068b6a66",
   "metadata": {},
   "source": [
    "Итак, мы отобрали 11% данных от исходной таблицы.\n",
    "\n",
    "Далее оценим суммарные продажи и построим диаграмму размаха по глобальным продажам игр в разбивке по платформам:"
   ]
  },
  {
   "cell_type": "code",
   "execution_count": 39,
   "id": "0d5df8ff",
   "metadata": {
    "scrolled": false
   },
   "outputs": [
    {
     "data": {
      "text/html": [
       "<div>\n",
       "<style scoped>\n",
       "    .dataframe tbody tr th:only-of-type {\n",
       "        vertical-align: middle;\n",
       "    }\n",
       "\n",
       "    .dataframe tbody tr th {\n",
       "        vertical-align: top;\n",
       "    }\n",
       "\n",
       "    .dataframe thead th {\n",
       "        text-align: right;\n",
       "    }\n",
       "</style>\n",
       "<table border=\"1\" class=\"dataframe\">\n",
       "  <thead>\n",
       "    <tr style=\"text-align: right;\">\n",
       "      <th></th>\n",
       "      <th>total_sales</th>\n",
       "    </tr>\n",
       "    <tr>\n",
       "      <th>platform</th>\n",
       "      <th></th>\n",
       "    </tr>\n",
       "  </thead>\n",
       "  <tbody>\n",
       "    <tr>\n",
       "      <th>PS4</th>\n",
       "      <td>281.75</td>\n",
       "    </tr>\n",
       "    <tr>\n",
       "      <th>3DS</th>\n",
       "      <td>204.78</td>\n",
       "    </tr>\n",
       "    <tr>\n",
       "      <th>PS3</th>\n",
       "      <td>178.01</td>\n",
       "    </tr>\n",
       "    <tr>\n",
       "      <th>XOne</th>\n",
       "      <td>145.39</td>\n",
       "    </tr>\n",
       "    <tr>\n",
       "      <th>X360</th>\n",
       "      <td>125.20</td>\n",
       "    </tr>\n",
       "    <tr>\n",
       "      <th>WiiU</th>\n",
       "      <td>70.82</td>\n",
       "    </tr>\n",
       "    <tr>\n",
       "      <th>PC</th>\n",
       "      <td>36.47</td>\n",
       "    </tr>\n",
       "    <tr>\n",
       "      <th>Wii</th>\n",
       "      <td>12.59</td>\n",
       "    </tr>\n",
       "    <tr>\n",
       "      <th>PSP</th>\n",
       "      <td>6.75</td>\n",
       "    </tr>\n",
       "    <tr>\n",
       "      <th>DS</th>\n",
       "      <td>1.42</td>\n",
       "    </tr>\n",
       "  </tbody>\n",
       "</table>\n",
       "</div>"
      ],
      "text/plain": [
       "          total_sales\n",
       "platform             \n",
       "PS4            281.75\n",
       "3DS            204.78\n",
       "PS3            178.01\n",
       "XOne           145.39\n",
       "X360           125.20\n",
       "WiiU            70.82\n",
       "PC              36.47\n",
       "Wii             12.59\n",
       "PSP              6.75\n",
       "DS               1.42"
      ]
     },
     "execution_count": 39,
     "metadata": {},
     "output_type": "execute_result"
    }
   ],
   "source": [
    "platform_sales = games_best.groupby('platform').agg({'total_sales' :'sum'}).sort_values(by = 'total_sales', ascending = False)\n",
    "platform_sales"
   ]
  },
  {
   "cell_type": "code",
   "execution_count": 40,
   "id": "d8cb3dfd",
   "metadata": {},
   "outputs": [
    {
     "data": {
      "image/png": "[encoded data removed]",
      "text/plain": [
       "<Figure size 1296x576 with 1 Axes>"
      ]
     },
     "metadata": {
      "needs_background": "light"
     },
     "output_type": "display_data"
    }
   ],
   "source": [
    "plt.figure(figsize=(18, 8))\n",
    "sns.set(style = 'darkgrid')\n",
    "sns.boxplot(x = games_best['total_sales'], y = games_best['platform'])\n",
    "plt.xlim(0, 1.8)\n",
    "plt.title('Глобальные продажи игр по платформам')\n",
    "plt.show()"
   ]
  },
  {
   "cell_type": "markdown",
   "id": "f7d1cd37",
   "metadata": {},
   "source": [
    " - *PS4* лидируют по количеству продаж среди всех платформ, 75% продаж составляют менее 0,7млн. копий, но много выбивающихся значений. Вероятно, были успешно выпущенные игры с большими продажами.\n",
    " - Продажи *X360* после 2013 года стали падать, но медианные продажи каждой игры составили по 0,25млн.копий.\n",
    " - Медианные продажи *3DS* составили 60тыс.копий игры, однако множество популярных игр принесли им крупные продажи;\n",
    " - Продажи *DS* самые малочисленные, продавалось менее 0,5млн.копий каждой игры.\n",
    "\n",
    "Судя по диаграммам, у всеъ платформ есть смещение правого уса. Продажи за границами нормального размаха не встречаются только у *DS* и *Wii*, что может судить об отсутствии популярных игр у данных платформ."
   ]
  },
  {
   "cell_type": "markdown",
   "id": "c6c76b71",
   "metadata": {},
   "source": [
    "### Влияние  отзывов пользователей и критиков на продажи внутри платформы"
   ]
  },
  {
   "cell_type": "markdown",
   "id": "d8cf4212",
   "metadata": {},
   "source": [
    "Определим какие суммaрные оценки у каждой платформы:"
   ]
  },
  {
   "cell_type": "code",
   "execution_count": 41,
   "id": "b205345d",
   "metadata": {
    "scrolled": false
   },
   "outputs": [
    {
     "data": {
      "text/html": [
       "<div>\n",
       "<style scoped>\n",
       "    .dataframe tbody tr th:only-of-type {\n",
       "        vertical-align: middle;\n",
       "    }\n",
       "\n",
       "    .dataframe tbody tr th {\n",
       "        vertical-align: top;\n",
       "    }\n",
       "\n",
       "    .dataframe thead th {\n",
       "        text-align: right;\n",
       "    }\n",
       "</style>\n",
       "<table border=\"1\" class=\"dataframe\">\n",
       "  <thead>\n",
       "    <tr style=\"text-align: right;\">\n",
       "      <th></th>\n",
       "      <th>user_score</th>\n",
       "      <th>critic_score</th>\n",
       "    </tr>\n",
       "    <tr>\n",
       "      <th>platform</th>\n",
       "      <th></th>\n",
       "      <th></th>\n",
       "    </tr>\n",
       "  </thead>\n",
       "  <tbody>\n",
       "    <tr>\n",
       "      <th>3DS</th>\n",
       "      <td>6.976250</td>\n",
       "      <td>68.338028</td>\n",
       "    </tr>\n",
       "    <tr>\n",
       "      <th>DS</th>\n",
       "      <td>4.800000</td>\n",
       "      <td>NaN</td>\n",
       "    </tr>\n",
       "    <tr>\n",
       "      <th>PC</th>\n",
       "      <td>6.269677</td>\n",
       "      <td>75.550336</td>\n",
       "    </tr>\n",
       "    <tr>\n",
       "      <th>PS3</th>\n",
       "      <td>6.348387</td>\n",
       "      <td>70.198347</td>\n",
       "    </tr>\n",
       "    <tr>\n",
       "      <th>PS4</th>\n",
       "      <td>6.748249</td>\n",
       "      <td>72.091270</td>\n",
       "    </tr>\n",
       "    <tr>\n",
       "      <th>PSP</th>\n",
       "      <td>5.850000</td>\n",
       "      <td>74.000000</td>\n",
       "    </tr>\n",
       "    <tr>\n",
       "      <th>Wii</th>\n",
       "      <td>5.257143</td>\n",
       "      <td>NaN</td>\n",
       "    </tr>\n",
       "    <tr>\n",
       "      <th>WiiU</th>\n",
       "      <td>7.017500</td>\n",
       "      <td>71.642857</td>\n",
       "    </tr>\n",
       "    <tr>\n",
       "      <th>X360</th>\n",
       "      <td>5.993007</td>\n",
       "      <td>69.234568</td>\n",
       "    </tr>\n",
       "    <tr>\n",
       "      <th>XOne</th>\n",
       "      <td>6.521429</td>\n",
       "      <td>73.325444</td>\n",
       "    </tr>\n",
       "  </tbody>\n",
       "</table>\n",
       "</div>"
      ],
      "text/plain": [
       "          user_score  critic_score\n",
       "platform                          \n",
       "3DS         6.976250     68.338028\n",
       "DS          4.800000           NaN\n",
       "PC          6.269677     75.550336\n",
       "PS3         6.348387     70.198347\n",
       "PS4         6.748249     72.091270\n",
       "PSP         5.850000     74.000000\n",
       "Wii         5.257143           NaN\n",
       "WiiU        7.017500     71.642857\n",
       "X360        5.993007     69.234568\n",
       "XOne        6.521429     73.325444"
      ]
     },
     "execution_count": 41,
     "metadata": {},
     "output_type": "execute_result"
    }
   ],
   "source": [
    "platform_scores = games_best.groupby('platform').agg({'user_score' :'mean','critic_score' :'mean'})\n",
    "platform_scores.head(10)"
   ]
  },
  {
   "cell_type": "markdown",
   "id": "4e7991c7",
   "metadata": {},
   "source": [
    "Далее построим точечные диаграммы по платформам, оценкам и общими продажам:"
   ]
  },
  {
   "cell_type": "code",
   "execution_count": 42,
   "id": "825fe5da",
   "metadata": {
    "scrolled": false
   },
   "outputs": [
    {
     "data": {
      "text/plain": [
       "<seaborn.axisgrid.FacetGrid at 0x7f8c802473a0>"
      ]
     },
     "execution_count": 42,
     "metadata": {},
     "output_type": "execute_result"
    },
    {
     "data": {
      "text/plain": [
       "<Figure size 576x360 with 0 Axes>"
      ]
     },
     "metadata": {},
     "output_type": "display_data"
    },
    {
     "data": {
      "image/png": "[encoded data removed]",
      "text/plain": [
       "<Figure size 1800x720 with 10 Axes>"
      ]
     },
     "metadata": {},
     "output_type": "display_data"
    }
   ],
   "source": [
    "# Зависисмость продаж от оценок пользователей\n",
    "plt.figure(figsize=(8, 5))\n",
    "sns.relplot(data=games_best, x=\"total_sales\", y=\"user_score\", col=\"platform\", col_wrap= 5, kind=\"scatter\")"
   ]
  },
  {
   "cell_type": "markdown",
   "id": "788014e6",
   "metadata": {},
   "source": [
    "- Судя по графику платформы *X360* большинство игр с низким уровнем продаж имели как высокие, так и низкие оценки пользователей. Пара отдельных точек отражает прямую связь продаж с оценками.\n",
    "- Платформа *PS4* так же показывает, что лишь для некоторых игр большие пользовательские оценки могли дать рост продажам.\n",
    "- У *PС* игры приносят не более 2,5млн проданных копий, а оценки разнятся.\n",
    "\n",
    "Таким образом, можно утверждать, что оценки пользователей несущественно влияют на продажи."
   ]
  },
  {
   "cell_type": "code",
   "execution_count": 43,
   "id": "e7ef8aa5",
   "metadata": {},
   "outputs": [
    {
     "data": {
      "text/plain": [
       "<seaborn.axisgrid.FacetGrid at 0x7f8c739166d0>"
      ]
     },
     "execution_count": 43,
     "metadata": {},
     "output_type": "execute_result"
    },
    {
     "data": {
      "image/png": "[encoded data removed]",
      "text/plain": [
       "<Figure size 1800x720 with 10 Axes>"
      ]
     },
     "metadata": {},
     "output_type": "display_data"
    }
   ],
   "source": [
    "# Зависисмость продаж от оценок критиков\n",
    "sns.relplot(data=games_best, x=\"total_sales\", y=\"critic_score\", col=\"platform\", col_wrap= 5, kind=\"scatter\")"
   ]
  },
  {
   "cell_type": "markdown",
   "id": "a253e670",
   "metadata": {},
   "source": [
    "Из-за пропусков в данных, нельзя однозначно судить об оценках платформ *Wii*, *DS*, однако заметим, что:\n",
    "\n",
    "- у игр платформы *3DS* большинство имеет продажи менее 2,5млн. копий, при этом присутствуют как минимальные, так и максимальные оценки критиков.\n",
    "- зависимость продаж игр платформы *XOne* от оценок критиков так же слабая; лишь несколько популярных игр имели высокие оценки.\n",
    "\n",
    "Таким образом, можно говорить о слабой зависимости продаж и оценок критиков."
   ]
  },
  {
   "cell_type": "code",
   "execution_count": 44,
   "id": "20c4c49e",
   "metadata": {
    "scrolled": false
   },
   "outputs": [
    {
     "data": {
      "image/png": "[encoded data removed]",
      "text/plain": [
       "<Figure size 432x288 with 1 Axes>"
      ]
     },
     "metadata": {},
     "output_type": "display_data"
    },
    {
     "data": {
      "image/png": "[encoded data removed]",
      "text/plain": [
       "<Figure size 432x288 with 1 Axes>"
      ]
     },
     "metadata": {},
     "output_type": "display_data"
    },
    {
     "data": {
      "image/png": "[encoded data removed]",
      "text/plain": [
       "<Figure size 432x288 with 1 Axes>"
      ]
     },
     "metadata": {},
     "output_type": "display_data"
    },
    {
     "data": {
      "image/png": "[encoded data removed]",
      "text/plain": [
       "<Figure size 432x288 with 1 Axes>"
      ]
     },
     "metadata": {},
     "output_type": "display_data"
    },
    {
     "data": {
      "image/png": "[encoded data removed]",
      "text/plain": [
       "<Figure size 432x288 with 1 Axes>"
      ]
     },
     "metadata": {},
     "output_type": "display_data"
    },
    {
     "data": {
      "image/png": "[encoded data removed]",
      "text/plain": [
       "<Figure size 432x288 with 1 Axes>"
      ]
     },
     "metadata": {},
     "output_type": "display_data"
    },
    {
     "data": {
      "image/png": "[encoded data removed]",
      "text/plain": [
       "<Figure size 432x288 with 1 Axes>"
      ]
     },
     "metadata": {},
     "output_type": "display_data"
    },
    {
     "data": {
      "image/png": "[encoded data removed]",
      "text/plain": [
       "<Figure size 432x288 with 1 Axes>"
      ]
     },
     "metadata": {},
     "output_type": "display_data"
    },
    {
     "data": {
      "image/png": "[encoded data removed]",
      "text/plain": [
       "<Figure size 432x288 with 1 Axes>"
      ]
     },
     "metadata": {},
     "output_type": "display_data"
    },
    {
     "data": {
      "image/png": "[encoded data removed]",
      "text/plain": [
       "<Figure size 432x288 with 1 Axes>"
      ]
     },
     "metadata": {},
     "output_type": "display_data"
    }
   ],
   "source": [
    "for name in games_best['platform'].unique():\n",
    "    df = games_best.query('platform == @name').loc[:, ['user_score', 'critic_score', 'total_sales']]\n",
    "    sns.heatmap(df.corr(), annot=True, annot_kws={\"size\":10}, cbar=False, linewidth=.5, square=True).set(xlabel = f'Platform {name}')\n",
    "    plt.show()"
   ]
  },
  {
   "cell_type": "markdown",
   "id": "c05befe6",
   "metadata": {},
   "source": [
    "Графики матриц корреляций подтверждают выводы, приведенные выше:\n",
    "\n",
    "- у платформы *PS3* практически отсутствует(0,021) зависимость продаж от оценок пользователей, слабая зависимость от оценок критиков.\n",
    "- платформа *WiiU* единственная, у которой корреляция оценок пользователей и продаж выше. чем у остальных(0,41)\n",
    "- для платформ *Wii*, *DS* с пропусками корреляция неинформативна\n",
    "\n",
    "Вцелом можно судить о слабой зависимости оценок и продаж. Оценки критиков для одних и тех же игр чаще выше пользовательских."
   ]
  },
  {
   "cell_type": "markdown",
   "id": "a6782003",
   "metadata": {},
   "source": [
    "### Продажи по жанрам"
   ]
  },
  {
   "cell_type": "code",
   "execution_count": 45,
   "id": "88242826",
   "metadata": {},
   "outputs": [
    {
     "data": {
      "text/html": [
       "<div>\n",
       "<style scoped>\n",
       "    .dataframe tbody tr th:only-of-type {\n",
       "        vertical-align: middle;\n",
       "    }\n",
       "\n",
       "    .dataframe tbody tr th {\n",
       "        vertical-align: top;\n",
       "    }\n",
       "\n",
       "    .dataframe thead th {\n",
       "        text-align: right;\n",
       "    }\n",
       "</style>\n",
       "<table border=\"1\" class=\"dataframe\">\n",
       "  <thead>\n",
       "    <tr style=\"text-align: right;\">\n",
       "      <th></th>\n",
       "      <th>name</th>\n",
       "      <th>total_sales</th>\n",
       "    </tr>\n",
       "    <tr>\n",
       "      <th>genre</th>\n",
       "      <th></th>\n",
       "      <th></th>\n",
       "    </tr>\n",
       "  </thead>\n",
       "  <tbody>\n",
       "    <tr>\n",
       "      <th>Shooter</th>\n",
       "      <td>185</td>\n",
       "      <td>1.133243</td>\n",
       "    </tr>\n",
       "    <tr>\n",
       "      <th>Role-Playing</th>\n",
       "      <td>214</td>\n",
       "      <td>0.790467</td>\n",
       "    </tr>\n",
       "    <tr>\n",
       "      <th>Sports</th>\n",
       "      <td>197</td>\n",
       "      <td>0.680812</td>\n",
       "    </tr>\n",
       "    <tr>\n",
       "      <th>Platform</th>\n",
       "      <td>68</td>\n",
       "      <td>0.630735</td>\n",
       "    </tr>\n",
       "    <tr>\n",
       "      <th>Fighting</th>\n",
       "      <td>70</td>\n",
       "      <td>0.538286</td>\n",
       "    </tr>\n",
       "    <tr>\n",
       "      <th>Action</th>\n",
       "      <td>641</td>\n",
       "      <td>0.484306</td>\n",
       "    </tr>\n",
       "    <tr>\n",
       "      <th>Racing</th>\n",
       "      <td>82</td>\n",
       "      <td>0.458049</td>\n",
       "    </tr>\n",
       "    <tr>\n",
       "      <th>Misc</th>\n",
       "      <td>136</td>\n",
       "      <td>0.444485</td>\n",
       "    </tr>\n",
       "    <tr>\n",
       "      <th>Simulation</th>\n",
       "      <td>59</td>\n",
       "      <td>0.419153</td>\n",
       "    </tr>\n",
       "    <tr>\n",
       "      <th>Puzzle</th>\n",
       "      <td>15</td>\n",
       "      <td>0.272000</td>\n",
       "    </tr>\n",
       "    <tr>\n",
       "      <th>Strategy</th>\n",
       "      <td>49</td>\n",
       "      <td>0.213061</td>\n",
       "    </tr>\n",
       "    <tr>\n",
       "      <th>Adventure</th>\n",
       "      <td>159</td>\n",
       "      <td>0.138239</td>\n",
       "    </tr>\n",
       "  </tbody>\n",
       "</table>\n",
       "</div>"
      ],
      "text/plain": [
       "              name  total_sales\n",
       "genre                          \n",
       "Shooter        185     1.133243\n",
       "Role-Playing   214     0.790467\n",
       "Sports         197     0.680812\n",
       "Platform        68     0.630735\n",
       "Fighting        70     0.538286\n",
       "Action         641     0.484306\n",
       "Racing          82     0.458049\n",
       "Misc           136     0.444485\n",
       "Simulation      59     0.419153\n",
       "Puzzle          15     0.272000\n",
       "Strategy        49     0.213061\n",
       "Adventure      159     0.138239"
      ]
     },
     "execution_count": 45,
     "metadata": {},
     "output_type": "execute_result"
    }
   ],
   "source": [
    "genre_sales = (\n",
    "    games_best.pivot_table(index = 'genre', values=['name','total_sales'], aggfunc = {'total_sales' :'mean', 'name': 'count'})\n",
    "    .sort_values(by = 'total_sales', ascending=False)\n",
    ")\n",
    "genre_sales"
   ]
  },
  {
   "cell_type": "markdown",
   "id": "ff5122c1",
   "metadata": {},
   "source": [
    "Итак, судя по таблице больше всего игр создано в жанре *Action*, однако средние продажи выше у *Shooter*. Игры в жанре *Sports* так же многочисленны и имеют высокие показатели продаж. Жанры с самыми низкими средними продажами выпущены в жанрах *Adventure* и *Strategy*."
   ]
  },
  {
   "cell_type": "markdown",
   "id": "f791df8b",
   "metadata": {},
   "source": [
    "**Вывод**\n",
    "\n",
    "Судя по данным после 1995 года начался резкий рост количества игр, а после 2009 рост снизился, возможно это связано с популяризацией мобильных игр. В 2016 году количество выпущенных игр подошло к значениям 2001года. \n",
    "\n",
    "Согласно данным сводной таблицы, чаще всего платформа выпускает игры в течение 5 или 10 лет. Самую долгую историю производства игр имеет платформа *РС*. С 2000 года платформ стало больше и выпускаемых игр тоже. Чтобы построить прогноз на 2017год взята статистика данных с 2013 года и данные по платформам, имеющим более 85 млн проданных копий игр.\n",
    "\n",
    " - *PS4* лидируют по количеству продаж среди всех платформ, 75% продаж составляют менее 0,7млн. копий, но много выбивающихся значений. Вероятно, были успешно выпущенные игры с большими продажами.\n",
    " - Продажи *X360* после 2013 года стали падать, но медианные продажи каждой игры составили по 0,25млн.копий.\n",
    " - Медианные продажи *3DS* составили 60тыс.копий игры, однако множество популярных игр принесли им крупные продажи;\n",
    " - Продажи *DS* самые малочисленные, продавалось менее 0,5млн.копий каждой игры.\n",
    "\n",
    "Было определено, что между оценками критиков  пользователей существует слабая зависимость - одни и те же игры часто имеют разные оценки. Корреляция продаж и оценок незначительная, а значит оценки практически не влияют на продажи.\n",
    "\n",
    "Итак, судя по таблице больше всего игр создано в жанре *Action*, однако средние продажи выше у Shooter. Игры в жанре Sports так же многочисленны и имеют высокие показатели продаж. Жанры с самыми низкими средними продажами выпущены в жанрах Adventure и Strategy."
   ]
  },
  {
   "cell_type": "markdown",
   "id": "4cdba86b",
   "metadata": {},
   "source": [
    "## Портрет пользователя каждого региона"
   ]
  },
  {
   "cell_type": "markdown",
   "id": "1742803a",
   "metadata": {},
   "source": [
    "### Продажи в регионах"
   ]
  },
  {
   "cell_type": "code",
   "execution_count": 46,
   "id": "89c39c76",
   "metadata": {
    "scrolled": false
   },
   "outputs": [],
   "source": [
    "# Северная Америка\n",
    "na_best_sales = (\n",
    "    games_best.pivot_table(index = 'platform', values = 'na_sales', aggfunc = ['sum', 'mean'])\n",
    ")\n",
    "na_best_sales.columns = ['na_sales_sum', 'na_sales_mean']"
   ]
  },
  {
   "cell_type": "code",
   "execution_count": 47,
   "id": "1ac0f145",
   "metadata": {
    "scrolled": true
   },
   "outputs": [
    {
     "data": {
      "text/html": [
       "<div>\n",
       "<style scoped>\n",
       "    .dataframe tbody tr th:only-of-type {\n",
       "        vertical-align: middle;\n",
       "    }\n",
       "\n",
       "    .dataframe tbody tr th {\n",
       "        vertical-align: top;\n",
       "    }\n",
       "\n",
       "    .dataframe thead th {\n",
       "        text-align: right;\n",
       "    }\n",
       "</style>\n",
       "<table border=\"1\" class=\"dataframe\">\n",
       "  <thead>\n",
       "    <tr style=\"text-align: right;\">\n",
       "      <th></th>\n",
       "      <th>na_sales_sum</th>\n",
       "      <th>na_sales_mean</th>\n",
       "    </tr>\n",
       "    <tr>\n",
       "      <th>platform</th>\n",
       "      <th></th>\n",
       "      <th></th>\n",
       "    </tr>\n",
       "  </thead>\n",
       "  <tbody>\n",
       "    <tr>\n",
       "      <th>PS4</th>\n",
       "      <td>108.74</td>\n",
       "      <td>0.277398</td>\n",
       "    </tr>\n",
       "    <tr>\n",
       "      <th>XOne</th>\n",
       "      <td>93.12</td>\n",
       "      <td>0.377004</td>\n",
       "    </tr>\n",
       "    <tr>\n",
       "      <th>X360</th>\n",
       "      <td>81.66</td>\n",
       "      <td>0.439032</td>\n",
       "    </tr>\n",
       "    <tr>\n",
       "      <th>PS3</th>\n",
       "      <td>63.50</td>\n",
       "      <td>0.184058</td>\n",
       "    </tr>\n",
       "    <tr>\n",
       "      <th>3DS</th>\n",
       "      <td>38.20</td>\n",
       "      <td>0.126073</td>\n",
       "    </tr>\n",
       "    <tr>\n",
       "      <th>WiiU</th>\n",
       "      <td>29.21</td>\n",
       "      <td>0.254000</td>\n",
       "    </tr>\n",
       "    <tr>\n",
       "      <th>PC</th>\n",
       "      <td>11.11</td>\n",
       "      <td>0.058783</td>\n",
       "    </tr>\n",
       "    <tr>\n",
       "      <th>Wii</th>\n",
       "      <td>6.56</td>\n",
       "      <td>0.285217</td>\n",
       "    </tr>\n",
       "    <tr>\n",
       "      <th>DS</th>\n",
       "      <td>0.57</td>\n",
       "      <td>0.071250</td>\n",
       "    </tr>\n",
       "    <tr>\n",
       "      <th>PSP</th>\n",
       "      <td>0.00</td>\n",
       "      <td>0.000000</td>\n",
       "    </tr>\n",
       "  </tbody>\n",
       "</table>\n",
       "</div>"
      ],
      "text/plain": [
       "          na_sales_sum  na_sales_mean\n",
       "platform                             \n",
       "PS4             108.74       0.277398\n",
       "XOne             93.12       0.377004\n",
       "X360             81.66       0.439032\n",
       "PS3              63.50       0.184058\n",
       "3DS              38.20       0.126073\n",
       "WiiU             29.21       0.254000\n",
       "PC               11.11       0.058783\n",
       "Wii               6.56       0.285217\n",
       "DS                0.57       0.071250\n",
       "PSP               0.00       0.000000"
      ]
     },
     "execution_count": 47,
     "metadata": {},
     "output_type": "execute_result"
    }
   ],
   "source": [
    "na_best_sales = na_best_sales.sort_values(by = 'na_sales_sum', ascending=False)\n",
    "na_best_sales"
   ]
  },
  {
   "cell_type": "markdown",
   "id": "801f253e",
   "metadata": {},
   "source": [
    "*X360* - лидер по средним продажам в Северной Америке; *Wii* продали не много копий, но в среднем их продажи выше, чем у *PS4*, продавших максимальное из всех количество копий."
   ]
  },
  {
   "cell_type": "code",
   "execution_count": 48,
   "id": "dbb8fb8b",
   "metadata": {},
   "outputs": [],
   "source": [
    "# Европа\n",
    "eu_best_sales = (\n",
    "    games_best.pivot_table(index = 'platform', values = 'eu_sales', aggfunc = ['sum', 'mean'])\n",
    ")\n",
    "eu_best_sales.columns = ['eu_sales_sum', 'eu_sales_mean']"
   ]
  },
  {
   "cell_type": "code",
   "execution_count": 49,
   "id": "e3621868",
   "metadata": {
    "scrolled": false
   },
   "outputs": [
    {
     "data": {
      "text/html": [
       "<div>\n",
       "<style scoped>\n",
       "    .dataframe tbody tr th:only-of-type {\n",
       "        vertical-align: middle;\n",
       "    }\n",
       "\n",
       "    .dataframe tbody tr th {\n",
       "        vertical-align: top;\n",
       "    }\n",
       "\n",
       "    .dataframe thead th {\n",
       "        text-align: right;\n",
       "    }\n",
       "</style>\n",
       "<table border=\"1\" class=\"dataframe\">\n",
       "  <thead>\n",
       "    <tr style=\"text-align: right;\">\n",
       "      <th></th>\n",
       "      <th>eu_sales_sum</th>\n",
       "      <th>eu_sales_mean</th>\n",
       "    </tr>\n",
       "    <tr>\n",
       "      <th>platform</th>\n",
       "      <th></th>\n",
       "      <th></th>\n",
       "    </tr>\n",
       "  </thead>\n",
       "  <tbody>\n",
       "    <tr>\n",
       "      <th>PS4</th>\n",
       "      <td>141.09</td>\n",
       "      <td>0.359923</td>\n",
       "    </tr>\n",
       "    <tr>\n",
       "      <th>PS3</th>\n",
       "      <td>67.81</td>\n",
       "      <td>0.196551</td>\n",
       "    </tr>\n",
       "    <tr>\n",
       "      <th>XOne</th>\n",
       "      <td>51.59</td>\n",
       "      <td>0.208866</td>\n",
       "    </tr>\n",
       "    <tr>\n",
       "      <th>X360</th>\n",
       "      <td>42.52</td>\n",
       "      <td>0.228602</td>\n",
       "    </tr>\n",
       "    <tr>\n",
       "      <th>3DS</th>\n",
       "      <td>30.96</td>\n",
       "      <td>0.102178</td>\n",
       "    </tr>\n",
       "    <tr>\n",
       "      <th>PC</th>\n",
       "      <td>25.36</td>\n",
       "      <td>0.134180</td>\n",
       "    </tr>\n",
       "    <tr>\n",
       "      <th>WiiU</th>\n",
       "      <td>19.85</td>\n",
       "      <td>0.172609</td>\n",
       "    </tr>\n",
       "    <tr>\n",
       "      <th>Wii</th>\n",
       "      <td>5.93</td>\n",
       "      <td>0.257826</td>\n",
       "    </tr>\n",
       "    <tr>\n",
       "      <th>DS</th>\n",
       "      <td>0.85</td>\n",
       "      <td>0.106250</td>\n",
       "    </tr>\n",
       "    <tr>\n",
       "      <th>PSP</th>\n",
       "      <td>0.17</td>\n",
       "      <td>0.002537</td>\n",
       "    </tr>\n",
       "  </tbody>\n",
       "</table>\n",
       "</div>"
      ],
      "text/plain": [
       "          eu_sales_sum  eu_sales_mean\n",
       "platform                             \n",
       "PS4             141.09       0.359923\n",
       "PS3              67.81       0.196551\n",
       "XOne             51.59       0.208866\n",
       "X360             42.52       0.228602\n",
       "3DS              30.96       0.102178\n",
       "PC               25.36       0.134180\n",
       "WiiU             19.85       0.172609\n",
       "Wii               5.93       0.257826\n",
       "DS                0.85       0.106250\n",
       "PSP               0.17       0.002537"
      ]
     },
     "execution_count": 49,
     "metadata": {},
     "output_type": "execute_result"
    }
   ],
   "source": [
    "eu_best_sales = eu_best_sales.sort_values(by = 'eu_sales_sum', ascending=False)\n",
    "eu_best_sales"
   ]
  },
  {
   "cell_type": "markdown",
   "id": "e5ed6ca6",
   "metadata": {},
   "source": [
    "*PS4* - лидер продаж в Европе. *PS3* - замыкает пятерку, продав европейцам более 67 млн.копий, однако в среднем их продажи ниже, чем у *Wii* - они продали почти 6 млн.копий."
   ]
  },
  {
   "cell_type": "code",
   "execution_count": 50,
   "id": "9ca781f4",
   "metadata": {},
   "outputs": [],
   "source": [
    "# Япония\n",
    "jp_best_sales = (\n",
    "    games_best.pivot_table(index = 'platform', values = 'jp_sales', aggfunc = ['sum', 'mean'])\n",
    ")\n",
    "jp_best_sales.columns = ['jp_sales_sum', 'jp_sales_mean']"
   ]
  },
  {
   "cell_type": "code",
   "execution_count": 51,
   "id": "a899dede",
   "metadata": {},
   "outputs": [
    {
     "data": {
      "text/html": [
       "<div>\n",
       "<style scoped>\n",
       "    .dataframe tbody tr th:only-of-type {\n",
       "        vertical-align: middle;\n",
       "    }\n",
       "\n",
       "    .dataframe tbody tr th {\n",
       "        vertical-align: top;\n",
       "    }\n",
       "\n",
       "    .dataframe thead th {\n",
       "        text-align: right;\n",
       "    }\n",
       "</style>\n",
       "<table border=\"1\" class=\"dataframe\">\n",
       "  <thead>\n",
       "    <tr style=\"text-align: right;\">\n",
       "      <th></th>\n",
       "      <th>jp_sales_sum</th>\n",
       "      <th>jp_sales_mean</th>\n",
       "    </tr>\n",
       "    <tr>\n",
       "      <th>platform</th>\n",
       "      <th></th>\n",
       "      <th></th>\n",
       "    </tr>\n",
       "  </thead>\n",
       "  <tbody>\n",
       "    <tr>\n",
       "      <th>3DS</th>\n",
       "      <td>67.81</td>\n",
       "      <td>0.223795</td>\n",
       "    </tr>\n",
       "    <tr>\n",
       "      <th>PS3</th>\n",
       "      <td>23.35</td>\n",
       "      <td>0.067681</td>\n",
       "    </tr>\n",
       "    <tr>\n",
       "      <th>PS4</th>\n",
       "      <td>15.96</td>\n",
       "      <td>0.040714</td>\n",
       "    </tr>\n",
       "    <tr>\n",
       "      <th>WiiU</th>\n",
       "      <td>10.88</td>\n",
       "      <td>0.094609</td>\n",
       "    </tr>\n",
       "    <tr>\n",
       "      <th>PSP</th>\n",
       "      <td>3.29</td>\n",
       "      <td>0.049104</td>\n",
       "    </tr>\n",
       "    <tr>\n",
       "      <th>X360</th>\n",
       "      <td>0.51</td>\n",
       "      <td>0.002742</td>\n",
       "    </tr>\n",
       "    <tr>\n",
       "      <th>XOne</th>\n",
       "      <td>0.34</td>\n",
       "      <td>0.001377</td>\n",
       "    </tr>\n",
       "    <tr>\n",
       "      <th>Wii</th>\n",
       "      <td>0.05</td>\n",
       "      <td>0.002174</td>\n",
       "    </tr>\n",
       "    <tr>\n",
       "      <th>DS</th>\n",
       "      <td>0.00</td>\n",
       "      <td>0.000000</td>\n",
       "    </tr>\n",
       "    <tr>\n",
       "      <th>PC</th>\n",
       "      <td>0.00</td>\n",
       "      <td>0.000000</td>\n",
       "    </tr>\n",
       "  </tbody>\n",
       "</table>\n",
       "</div>"
      ],
      "text/plain": [
       "          jp_sales_sum  jp_sales_mean\n",
       "platform                             \n",
       "3DS              67.81       0.223795\n",
       "PS3              23.35       0.067681\n",
       "PS4              15.96       0.040714\n",
       "WiiU             10.88       0.094609\n",
       "PSP               3.29       0.049104\n",
       "X360              0.51       0.002742\n",
       "XOne              0.34       0.001377\n",
       "Wii               0.05       0.002174\n",
       "DS                0.00       0.000000\n",
       "PC                0.00       0.000000"
      ]
     },
     "execution_count": 51,
     "metadata": {},
     "output_type": "execute_result"
    }
   ],
   "source": [
    "jp_best_sales = jp_best_sales.sort_values(by = 'jp_sales_sum', ascending=False)\n",
    "jp_best_sales"
   ]
  },
  {
   "cell_type": "markdown",
   "id": "23677125",
   "metadata": {},
   "source": [
    "*3DS* - лидер по продажам в Японии. *PS4* имеет высокую долю в расчете по количеству игр и замыкает ТОП-5. *Wii* в этом регионе не очень популярен."
   ]
  },
  {
   "cell_type": "code",
   "execution_count": 52,
   "id": "2e1ed3da",
   "metadata": {
    "scrolled": true
   },
   "outputs": [
    {
     "data": {
      "text/plain": [
       "<AxesSubplot:xlabel='platform'>"
      ]
     },
     "execution_count": 52,
     "metadata": {},
     "output_type": "execute_result"
    },
    {
     "data": {
      "image/png": "[encoded data removed]",
      "text/plain": [
       "<Figure size 432x288 with 1 Axes>"
      ]
     },
     "metadata": {},
     "output_type": "display_data"
    }
   ],
   "source": [
    "na_best_sales['na_sales_sum'].head(5).plot.bar(alpha = 0.5, grid = True, label = \"Продажи в Северной Америке\")"
   ]
  },
  {
   "cell_type": "code",
   "execution_count": 53,
   "id": "c85bae1e",
   "metadata": {},
   "outputs": [
    {
     "data": {
      "text/plain": [
       "<AxesSubplot:xlabel='platform'>"
      ]
     },
     "execution_count": 53,
     "metadata": {},
     "output_type": "execute_result"
    },
    {
     "data": {
      "image/png": "[encoded data removed]",
      "text/plain": [
       "<Figure size 432x288 with 1 Axes>"
      ]
     },
     "metadata": {},
     "output_type": "display_data"
    }
   ],
   "source": [
    "eu_best_sales['eu_sales_sum'].head(5).plot.bar(alpha = 0.5, grid = True, label = \"Продажи в Европе\")"
   ]
  },
  {
   "cell_type": "code",
   "execution_count": 54,
   "id": "cb955d7d",
   "metadata": {},
   "outputs": [
    {
     "data": {
      "text/plain": [
       "<AxesSubplot:xlabel='platform'>"
      ]
     },
     "execution_count": 54,
     "metadata": {},
     "output_type": "execute_result"
    },
    {
     "data": {
      "image/png": "[encoded data removed]",
      "text/plain": [
       "<Figure size 432x288 with 1 Axes>"
      ]
     },
     "metadata": {},
     "output_type": "display_data"
    }
   ],
   "source": [
    "jp_best_sales['jp_sales_sum'].head(5).plot.bar(alpha = 0.5, grid = True, label = \"Продажи в Японии\")"
   ]
  },
  {
   "cell_type": "markdown",
   "id": "be197520",
   "metadata": {},
   "source": [
    "Как видно из графиков, больше всего продаж произвели в Северной Америке. *PS4* - одна из самых популярных платформ Европы и Северной Америки. *3DS* - лидер по продажам в Японии."
   ]
  },
  {
   "cell_type": "markdown",
   "id": "655b77f4",
   "metadata": {},
   "source": [
    "### Популярные жанры в регионах"
   ]
  },
  {
   "cell_type": "code",
   "execution_count": 55,
   "id": "877bd6b4",
   "metadata": {
    "scrolled": false
   },
   "outputs": [],
   "source": [
    "# Северная Америка\n",
    "na_best_genre = (\n",
    "    games_best.groupby('genre').agg({'na_sales': 'sum'})\n",
    "    .sort_values(by = 'na_sales', ascending=False)\n",
    ")"
   ]
  },
  {
   "cell_type": "code",
   "execution_count": 56,
   "id": "c50bfbd2",
   "metadata": {},
   "outputs": [],
   "source": [
    "# Европа\n",
    "eu_best_genre = (\n",
    "    games_best.groupby('genre').agg({'eu_sales': 'sum'})\n",
    "    .sort_values(by = 'eu_sales', ascending=False)\n",
    ")"
   ]
  },
  {
   "cell_type": "code",
   "execution_count": 57,
   "id": "f5984598",
   "metadata": {},
   "outputs": [],
   "source": [
    "# Япония\n",
    "jp_best_genre = (\n",
    "    games_best.groupby('genre').agg({'jp_sales': 'sum'})\n",
    "    .sort_values(by = 'jp_sales', ascending=False)\n",
    ")"
   ]
  },
  {
   "cell_type": "code",
   "execution_count": 58,
   "id": "223a4571",
   "metadata": {
    "scrolled": false
   },
   "outputs": [
    {
     "data": {
      "text/plain": [
       "<AxesSubplot:xlabel='genre'>"
      ]
     },
     "execution_count": 58,
     "metadata": {},
     "output_type": "execute_result"
    },
    {
     "data": {
      "image/png": "[encoded data removed]",
      "text/plain": [
       "<Figure size 432x288 with 1 Axes>"
      ]
     },
     "metadata": {},
     "output_type": "display_data"
    },
    {
     "data": {
      "image/png": "[encoded data removed]",
      "text/plain": [
       "<Figure size 432x288 with 1 Axes>"
      ]
     },
     "metadata": {},
     "output_type": "display_data"
    },
    {
     "data": {
      "image/png": "[encoded data removed]",
      "text/plain": [
       "<Figure size 432x288 with 1 Axes>"
      ]
     },
     "metadata": {},
     "output_type": "display_data"
    }
   ],
   "source": [
    "na_best_genre.head(5).plot.bar(alpha = 0.5, grid = True, label = \"Популярные жанры в Северной Америке\")\n",
    "eu_best_genre.head(5).plot.bar(alpha = 0.5, grid = True, label = \"Популярные жанры в Европе\")\n",
    "jp_best_genre.head(5).plot.bar(alpha = 0.5, grid = True, label = \"Популярные жанры в Японии\")"
   ]
  },
  {
   "cell_type": "markdown",
   "id": "fb3bf7f0",
   "metadata": {},
   "source": [
    "Согласно данным, в Северной Америке и Европе чаще предпочитают экшен-игры, в Японии они вторые по популярности. В Японии больше всего отдают предпочтение ролевым играм, в других регионах они не так популярны."
   ]
  },
  {
   "cell_type": "markdown",
   "id": "75c215d2",
   "metadata": {},
   "source": [
    "### Влияет ли рейтинг ESRB на продажи в отдельном регионе?"
   ]
  },
  {
   "cell_type": "code",
   "execution_count": 59,
   "id": "4c48aee0",
   "metadata": {},
   "outputs": [
    {
     "data": {
      "text/html": [
       "<div>\n",
       "<style scoped>\n",
       "    .dataframe tbody tr th:only-of-type {\n",
       "        vertical-align: middle;\n",
       "    }\n",
       "\n",
       "    .dataframe tbody tr th {\n",
       "        vertical-align: top;\n",
       "    }\n",
       "\n",
       "    .dataframe thead th {\n",
       "        text-align: right;\n",
       "    }\n",
       "</style>\n",
       "<table border=\"1\" class=\"dataframe\">\n",
       "  <thead>\n",
       "    <tr style=\"text-align: right;\">\n",
       "      <th></th>\n",
       "      <th>eu_sales</th>\n",
       "      <th>jp_sales</th>\n",
       "      <th>na_sales</th>\n",
       "    </tr>\n",
       "    <tr>\n",
       "      <th>rating</th>\n",
       "      <th></th>\n",
       "      <th></th>\n",
       "      <th></th>\n",
       "    </tr>\n",
       "  </thead>\n",
       "  <tbody>\n",
       "    <tr>\n",
       "      <th>E</th>\n",
       "      <td>82.36</td>\n",
       "      <td>15.08</td>\n",
       "      <td>78.52</td>\n",
       "    </tr>\n",
       "    <tr>\n",
       "      <th>E10+</th>\n",
       "      <td>41.44</td>\n",
       "      <td>5.61</td>\n",
       "      <td>53.84</td>\n",
       "    </tr>\n",
       "    <tr>\n",
       "      <th>M</th>\n",
       "      <td>144.18</td>\n",
       "      <td>12.69</td>\n",
       "      <td>163.78</td>\n",
       "    </tr>\n",
       "    <tr>\n",
       "      <th>T</th>\n",
       "      <td>40.73</td>\n",
       "      <td>15.51</td>\n",
       "      <td>48.39</td>\n",
       "    </tr>\n",
       "    <tr>\n",
       "      <th>no rating</th>\n",
       "      <td>77.42</td>\n",
       "      <td>73.30</td>\n",
       "      <td>88.14</td>\n",
       "    </tr>\n",
       "  </tbody>\n",
       "</table>\n",
       "</div>"
      ],
      "text/plain": [
       "           eu_sales  jp_sales  na_sales\n",
       "rating                                 \n",
       "E             82.36     15.08     78.52\n",
       "E10+          41.44      5.61     53.84\n",
       "M            144.18     12.69    163.78\n",
       "T             40.73     15.51     48.39\n",
       "no rating     77.42     73.30     88.14"
      ]
     },
     "execution_count": 59,
     "metadata": {},
     "output_type": "execute_result"
    }
   ],
   "source": [
    "rating_by_region  = (\n",
    "    games_best.pivot_table(index = 'rating', values = ['na_sales', 'eu_sales', 'jp_sales'], aggfunc = 'sum')\n",
    ")\n",
    "rating_by_region"
   ]
  },
  {
   "cell_type": "code",
   "execution_count": 60,
   "id": "fc8c7a79",
   "metadata": {},
   "outputs": [
    {
     "data": {
      "text/plain": [
       "Text(0.5, 1.0, 'Рейтинги и продажи в регионах')"
      ]
     },
     "execution_count": 60,
     "metadata": {},
     "output_type": "execute_result"
    },
    {
     "data": {
      "text/plain": [
       "<Figure size 864x720 with 0 Axes>"
      ]
     },
     "metadata": {},
     "output_type": "display_data"
    },
    {
     "data": {
      "image/png": "[encoded data removed]",
      "text/plain": [
       "<Figure size 432x288 with 1 Axes>"
      ]
     },
     "metadata": {},
     "output_type": "display_data"
    }
   ],
   "source": [
    "plt.figure(figsize=(12,10))\n",
    "ax = rating_by_region.plot.barh()\n",
    "ax.grid()\n",
    "plt.title('Рейтинги и продажи в регионах')"
   ]
  },
  {
   "cell_type": "markdown",
   "id": "ef7d1a67",
   "metadata": {},
   "source": [
    "В Японии лучше всего продаются игры, не имеющие рейтинга.\n",
    "Большую долю продаж в Америке и Европе мы наблюдаем для игр с рейтингом *М*, наименьшие продажи у игр с рейтингом *Т* и *Е10+*."
   ]
  },
  {
   "cell_type": "markdown",
   "id": "457a6e72",
   "metadata": {},
   "source": [
    "## Проверка гипотез"
   ]
  },
  {
   "cell_type": "markdown",
   "id": "5fc7f970",
   "metadata": {},
   "source": [
    "### гипотеза 1. "
   ]
  },
  {
   "cell_type": "markdown",
   "id": "5be79032",
   "metadata": {},
   "source": [
    "Для проверки того, что \" Средние пользовательские рейтинги платформ Xbox One и PC одинаковые\" выдвинем гипотезы:\n",
    "\n",
    "* Н0 - средние пользовательские рейтинги платформ Xbox One и PC совпадают.\n",
    "* Н1 - средние пользовательские рейтинги платформ Xbox One и PC не совпадают.\n",
    "\n",
    "Поскольку необходима проверка гипотезы о равенстве среднего двух независимых совокупностей по взятым из них выборкам - применим метод scipy.stats.ttest_ind(), добавим условие на неравенство дисперсий.\n",
    "Критический уровень значимости зададим равным 0,05."
   ]
  },
  {
   "cell_type": "code",
   "execution_count": 61,
   "id": "5e86907a",
   "metadata": {},
   "outputs": [],
   "source": [
    "xone = games_best.query('platform == \"XOne\" and user_score > 0')"
   ]
  },
  {
   "cell_type": "code",
   "execution_count": 62,
   "id": "c32827fe",
   "metadata": {},
   "outputs": [],
   "source": [
    "pc = games_best.query('platform == \"PC\" and user_score > 0')"
   ]
  },
  {
   "cell_type": "code",
   "execution_count": 63,
   "id": "b9f3dd37",
   "metadata": {
    "scrolled": true
   },
   "outputs": [
    {
     "name": "stdout",
     "output_type": "stream",
     "text": [
      "p-значение: 0.14759594013430463\n",
      "Не получилось отвергнуть нулевую гипотезу\n"
     ]
    }
   ],
   "source": [
    "results = st.ttest_ind(xone['user_score'], pc['user_score'], equal_var = False)\n",
    "alpha = 0.05\n",
    "\n",
    "print('p-значение:', results.pvalue)\n",
    "\n",
    "if results.pvalue < alpha:\n",
    "    print(\"Отвергаем нулевую гипотезу\")\n",
    "else:\n",
    "    print(\"Не получилось отвергнуть нулевую гипотезу\")\n"
   ]
  },
  {
   "cell_type": "markdown",
   "id": "ee7fa9d3",
   "metadata": {},
   "source": [
    "Значение p-value говорит о том, что вероятность случайно получить различия больше 14%. Это достаточно большая вероятность, чтобы судить о значимом различии средних. Поэтому нулевая гипотеза не отвергается.\n",
    "Можно судить о равенстве средних пользовательских рейтингов платформ Xbox One и PC.\n",
    "\n",
    "Значит, гипотеза №1 нашла свое подтверждение."
   ]
  },
  {
   "cell_type": "markdown",
   "id": "f1e1586f",
   "metadata": {},
   "source": [
    "### гипотеза 2."
   ]
  },
  {
   "cell_type": "markdown",
   "id": "3a023696",
   "metadata": {},
   "source": [
    "Для проверки того, что \"Средние пользовательские рейтинги жанров Action и Sports разные\" выдвинем гипотезы:\n",
    "\n",
    "* Н0 - средние пользовательские рейтинги жанров Action и Sports совпадают.\n",
    "* Н1 - средние пользовательские рейтинги жанров Action и Sports не совпадают.\n",
    "\n",
    "Поскольку необходима проверка гипотезы о равенстве среднего двух независимых совокупностей по взятым из них выборкам - применим метод scipy.stats.ttest_ind(), добавим условие на неравенство дисперсий.\n",
    "Критический уровень значимости  - 0,05;"
   ]
  },
  {
   "cell_type": "code",
   "execution_count": 64,
   "id": "b5a42ae6",
   "metadata": {},
   "outputs": [],
   "source": [
    "action = games_best.query('genre == \"Action\" and user_score > 0')"
   ]
  },
  {
   "cell_type": "code",
   "execution_count": 65,
   "id": "59650c20",
   "metadata": {},
   "outputs": [],
   "source": [
    "sports = games_best.query('genre == \"Sports\" and user_score > 0')"
   ]
  },
  {
   "cell_type": "code",
   "execution_count": 66,
   "id": "c6e55a0b",
   "metadata": {},
   "outputs": [
    {
     "name": "stdout",
     "output_type": "stream",
     "text": [
      "p-значение: 1.1105534658181278e-19\n",
      "Отвергаем нулевую гипотезу\n"
     ]
    }
   ],
   "source": [
    "results = st.ttest_ind(action['user_score'], sports['user_score'], equal_var = False)\n",
    "alpha = 0.05\n",
    "\n",
    "print('p-значение:', results.pvalue)\n",
    "\n",
    "if results.pvalue < alpha:\n",
    "    print(\"Отвергаем нулевую гипотезу\")\n",
    "else:\n",
    "    print(\"Не получилось отвергнуть нулевую гипотезу\")\n"
   ]
  },
  {
   "cell_type": "markdown",
   "id": "a4dcd9aa",
   "metadata": {},
   "source": [
    "Маленькое p-value говорит, что вероятность случайного совпадения средних наших выборок ничтожно мало - мы отвергаем гипотeзу Н0. Таким образом, принимаем альтернативную гипотезу  Н1 о неравенстве средних пользовательских рейтингов жанров Action и Sports.\n",
    "\n",
    "Значит, вторая гипотеза № 2 подтвердилась."
   ]
  },
  {
   "cell_type": "markdown",
   "id": "6eef24b0",
   "metadata": {},
   "source": [
    "### Вывод"
   ]
  },
  {
   "cell_type": "markdown",
   "id": "03c9dcf4",
   "metadata": {},
   "source": [
    "Каджая из выдвинутых гипотез нашла своего подтверждения, а значит:\n",
    "* средние пользовательские рейтинги платформ Xbox One и PC совпадают; \n",
    "* средние пользовательские рейтинги жанров Action и Sports не совпадают."
   ]
  },
  {
   "cell_type": "markdown",
   "id": "d7ec7c9f",
   "metadata": {},
   "source": [
    "## Общий вывод"
   ]
  },
  {
   "cell_type": "markdown",
   "id": "c8b3096f",
   "metadata": {},
   "source": [
    "Судя по данным после 1995 года начался резкий рост выпуска игр, чаще всего платформа выпускает игры в течение 5 или 10 лет. Самую долгую историю производства игр имеет платформа *РС*. С 2000 года платформ стало больше и выпускаемых игр тоже. Чтобы построить прогноз на 2017год взята статистика данных с 2013 года и данные по платформам, имеющим более 85 млн проданных копий игр.\n",
    "\n",
    "PS4 - одна из самых популярных платформ.\n",
    "Как видно из графиков, больше всего продаж в Северной Америке,потом Европе и Японии. \n",
    "При этом средним продажам в регионах:\n",
    "\n",
    "- *PS4* - лидер в Европе;\n",
    "- *X360* - лидер в Северной Америке;\n",
    "- *3DS* - лидер по средним продажам в Японии, *PS4* так же в группе лидеров и в этом регионе.\n",
    "\n",
    "Кроме того, \n",
    "\n",
    " - *PS4* лидируют по количеству продаж среди всех платформ, 75% продаж составляют менее 0,7млн. копий, но много выбивающихся значений. Вероятно, были успешно выпущенные игры с большими продажами.\n",
    " - Продажи *X360* после 2013 года стали падать, но медианные продажи каждой игры составили по 0,25млн.копий.\n",
    " - Медианные продажи *3DS* составили 60тыс.копий игры, однако множество популярных игр принесли им крупные продажи;\n",
    "\n",
    "по рейтингу:\n",
    "\n",
    "- В Японии лучше всего продаются игры, не имеющие рейтинга.\n",
    "- большую долю продаж  в Америке и Европе мы наблюдаем для игр с рейтингом *М*;наименьшие продажи у игр с рейтингом *Т* и *Е10+*. \n",
    "\n",
    "Было определено, что между оценками критиков  пользователей существует слабая зависимость - одни и те же игры часто имеют разные оценки. Корреляция продаж и оценок незначительная, а значит оценки практически не влияют на продажи.\n",
    "\n",
    "Согласно данным, в Северной Америке и Европе чаще предпочитают экшен-игры, они же имеют максимальное число продаж. В Японии жанр *Action* второй по популярности. Здесь больше всего отдают предпочтение ролевым играм, в других регионах они не так популярны.Игры в жанре *Sports* так же многочисленны.\n",
    "\n",
    "Выдвинутые гипотезы нашли своё подтверждение."
   ]
  },
  {
   "cell_type": "code",
   "execution_count": null,
   "id": "b436c712",
   "metadata": {},
   "outputs": [],
   "source": []
  }
 ],
 "metadata": {
  "ExecuteTimeLog": [
   {
    "duration": 1246,
    "start_time": "2022-05-01T19:26:44.219Z"
   },
   {
    "duration": 42,
    "start_time": "2022-05-01T19:26:45.468Z"
   },
   {
    "duration": 18,
    "start_time": "2022-05-01T19:26:45.512Z"
   },
   {
    "duration": 48,
    "start_time": "2022-05-01T19:26:45.532Z"
   },
   {
    "duration": 13,
    "start_time": "2022-05-01T19:26:45.583Z"
   },
   {
    "duration": 41,
    "start_time": "2022-05-01T19:26:45.598Z"
   },
   {
    "duration": 42,
    "start_time": "2022-05-01T19:26:45.642Z"
   },
   {
    "duration": 33,
    "start_time": "2022-05-01T19:26:45.686Z"
   },
   {
    "duration": 44,
    "start_time": "2022-05-01T19:26:45.721Z"
   },
   {
    "duration": 19,
    "start_time": "2022-05-01T19:26:45.768Z"
   },
   {
    "duration": 36,
    "start_time": "2022-05-01T19:26:45.788Z"
   },
   {
    "duration": 43,
    "start_time": "2022-05-01T19:26:45.826Z"
   },
   {
    "duration": 64,
    "start_time": "2022-05-01T19:26:45.871Z"
   },
   {
    "duration": 56,
    "start_time": "2022-05-01T19:26:45.939Z"
   },
   {
    "duration": 57,
    "start_time": "2022-05-01T19:26:45.997Z"
   },
   {
    "duration": 34,
    "start_time": "2022-05-01T19:26:46.056Z"
   },
   {
    "duration": 30,
    "start_time": "2022-05-01T19:26:46.091Z"
   },
   {
    "duration": 51,
    "start_time": "2022-05-01T19:26:46.123Z"
   },
   {
    "duration": 31,
    "start_time": "2022-05-01T19:26:46.176Z"
   },
   {
    "duration": 39,
    "start_time": "2022-05-01T19:26:46.209Z"
   },
   {
    "duration": 32,
    "start_time": "2022-05-01T19:26:46.249Z"
   },
   {
    "duration": 18,
    "start_time": "2022-05-01T19:26:46.283Z"
   },
   {
    "duration": 144,
    "start_time": "2022-05-01T19:26:46.303Z"
   },
   {
    "duration": 0,
    "start_time": "2022-05-01T19:26:46.450Z"
   },
   {
    "duration": 0,
    "start_time": "2022-05-01T19:26:46.452Z"
   },
   {
    "duration": 0,
    "start_time": "2022-05-01T19:26:46.453Z"
   },
   {
    "duration": 0,
    "start_time": "2022-05-01T19:26:46.456Z"
   },
   {
    "duration": 0,
    "start_time": "2022-05-01T19:26:46.457Z"
   },
   {
    "duration": 0,
    "start_time": "2022-05-01T19:26:46.459Z"
   },
   {
    "duration": 0,
    "start_time": "2022-05-01T19:26:46.460Z"
   },
   {
    "duration": 0,
    "start_time": "2022-05-01T19:26:46.461Z"
   },
   {
    "duration": 0,
    "start_time": "2022-05-01T19:26:46.463Z"
   },
   {
    "duration": 0,
    "start_time": "2022-05-01T19:26:46.464Z"
   },
   {
    "duration": 0,
    "start_time": "2022-05-01T19:26:46.465Z"
   },
   {
    "duration": 0,
    "start_time": "2022-05-01T19:26:46.466Z"
   },
   {
    "duration": 0,
    "start_time": "2022-05-01T19:26:46.467Z"
   },
   {
    "duration": 0,
    "start_time": "2022-05-01T19:26:46.468Z"
   },
   {
    "duration": 0,
    "start_time": "2022-05-01T19:26:46.469Z"
   },
   {
    "duration": 0,
    "start_time": "2022-05-01T19:26:46.471Z"
   },
   {
    "duration": 0,
    "start_time": "2022-05-01T19:26:46.474Z"
   },
   {
    "duration": 0,
    "start_time": "2022-05-01T19:26:46.475Z"
   },
   {
    "duration": 0,
    "start_time": "2022-05-01T19:26:46.478Z"
   },
   {
    "duration": 0,
    "start_time": "2022-05-01T19:26:46.481Z"
   },
   {
    "duration": 0,
    "start_time": "2022-05-01T19:26:46.483Z"
   },
   {
    "duration": 0,
    "start_time": "2022-05-01T19:26:46.484Z"
   },
   {
    "duration": 0,
    "start_time": "2022-05-01T19:26:46.486Z"
   },
   {
    "duration": 0,
    "start_time": "2022-05-01T19:26:46.487Z"
   },
   {
    "duration": 0,
    "start_time": "2022-05-01T19:26:46.489Z"
   },
   {
    "duration": 0,
    "start_time": "2022-05-01T19:26:46.490Z"
   },
   {
    "duration": 0,
    "start_time": "2022-05-01T19:26:46.492Z"
   },
   {
    "duration": 0,
    "start_time": "2022-05-01T19:26:46.493Z"
   },
   {
    "duration": 0,
    "start_time": "2022-05-01T19:26:46.494Z"
   },
   {
    "duration": 0,
    "start_time": "2022-05-01T19:26:46.496Z"
   },
   {
    "duration": 0,
    "start_time": "2022-05-01T19:26:46.497Z"
   },
   {
    "duration": 0,
    "start_time": "2022-05-01T19:26:46.498Z"
   },
   {
    "duration": 0,
    "start_time": "2022-05-01T19:26:46.500Z"
   },
   {
    "duration": 0,
    "start_time": "2022-05-01T19:26:46.501Z"
   },
   {
    "duration": 0,
    "start_time": "2022-05-01T19:26:46.554Z"
   },
   {
    "duration": 0,
    "start_time": "2022-05-01T19:26:46.556Z"
   },
   {
    "duration": 0,
    "start_time": "2022-05-01T19:26:46.558Z"
   },
   {
    "duration": 0,
    "start_time": "2022-05-01T19:26:46.560Z"
   },
   {
    "duration": 0,
    "start_time": "2022-05-01T19:26:46.561Z"
   },
   {
    "duration": 0,
    "start_time": "2022-05-01T19:26:46.561Z"
   },
   {
    "duration": 0,
    "start_time": "2022-05-01T19:26:46.563Z"
   },
   {
    "duration": 0,
    "start_time": "2022-05-01T19:26:46.564Z"
   },
   {
    "duration": 1302,
    "start_time": "2022-05-02T06:52:40.631Z"
   },
   {
    "duration": 41,
    "start_time": "2022-05-02T06:52:41.935Z"
   },
   {
    "duration": 18,
    "start_time": "2022-05-02T06:52:41.978Z"
   },
   {
    "duration": 23,
    "start_time": "2022-05-02T06:52:41.998Z"
   },
   {
    "duration": 4,
    "start_time": "2022-05-02T06:52:42.022Z"
   },
   {
    "duration": 12,
    "start_time": "2022-05-02T06:52:42.027Z"
   },
   {
    "duration": 11,
    "start_time": "2022-05-02T06:52:42.040Z"
   },
   {
    "duration": 13,
    "start_time": "2022-05-02T06:52:42.052Z"
   },
   {
    "duration": 11,
    "start_time": "2022-05-02T06:52:42.067Z"
   },
   {
    "duration": 5,
    "start_time": "2022-05-02T06:52:42.109Z"
   },
   {
    "duration": 6,
    "start_time": "2022-05-02T06:52:42.116Z"
   },
   {
    "duration": 5,
    "start_time": "2022-05-02T06:52:42.123Z"
   },
   {
    "duration": 7,
    "start_time": "2022-05-02T06:52:42.130Z"
   },
   {
    "duration": 7,
    "start_time": "2022-05-02T06:52:42.138Z"
   },
   {
    "duration": 9,
    "start_time": "2022-05-02T06:52:42.146Z"
   },
   {
    "duration": 7,
    "start_time": "2022-05-02T06:52:42.157Z"
   },
   {
    "duration": 43,
    "start_time": "2022-05-02T06:52:42.166Z"
   },
   {
    "duration": 12,
    "start_time": "2022-05-02T06:52:42.210Z"
   },
   {
    "duration": 6,
    "start_time": "2022-05-02T06:52:42.224Z"
   },
   {
    "duration": 5,
    "start_time": "2022-05-02T06:52:42.232Z"
   },
   {
    "duration": 6,
    "start_time": "2022-05-02T06:52:42.239Z"
   },
   {
    "duration": 8,
    "start_time": "2022-05-02T06:52:42.247Z"
   },
   {
    "duration": 137,
    "start_time": "2022-05-02T06:52:42.256Z"
   },
   {
    "duration": 0,
    "start_time": "2022-05-02T06:52:42.396Z"
   },
   {
    "duration": 0,
    "start_time": "2022-05-02T06:52:42.397Z"
   },
   {
    "duration": 0,
    "start_time": "2022-05-02T06:52:42.407Z"
   },
   {
    "duration": 0,
    "start_time": "2022-05-02T06:52:42.408Z"
   },
   {
    "duration": 0,
    "start_time": "2022-05-02T06:52:42.409Z"
   },
   {
    "duration": 0,
    "start_time": "2022-05-02T06:52:42.410Z"
   },
   {
    "duration": 0,
    "start_time": "2022-05-02T06:52:42.411Z"
   },
   {
    "duration": 0,
    "start_time": "2022-05-02T06:52:42.412Z"
   },
   {
    "duration": 0,
    "start_time": "2022-05-02T06:52:42.413Z"
   },
   {
    "duration": 0,
    "start_time": "2022-05-02T06:52:42.414Z"
   },
   {
    "duration": 1,
    "start_time": "2022-05-02T06:52:42.415Z"
   },
   {
    "duration": 0,
    "start_time": "2022-05-02T06:52:42.417Z"
   },
   {
    "duration": 1,
    "start_time": "2022-05-02T06:52:42.417Z"
   },
   {
    "duration": 0,
    "start_time": "2022-05-02T06:52:42.419Z"
   },
   {
    "duration": 0,
    "start_time": "2022-05-02T06:52:42.420Z"
   },
   {
    "duration": 0,
    "start_time": "2022-05-02T06:52:42.421Z"
   },
   {
    "duration": 0,
    "start_time": "2022-05-02T06:52:42.422Z"
   },
   {
    "duration": 0,
    "start_time": "2022-05-02T06:52:42.423Z"
   },
   {
    "duration": 0,
    "start_time": "2022-05-02T06:52:42.424Z"
   },
   {
    "duration": 0,
    "start_time": "2022-05-02T06:52:42.425Z"
   },
   {
    "duration": 0,
    "start_time": "2022-05-02T06:52:42.426Z"
   },
   {
    "duration": 0,
    "start_time": "2022-05-02T06:52:42.428Z"
   },
   {
    "duration": 0,
    "start_time": "2022-05-02T06:52:42.429Z"
   },
   {
    "duration": 0,
    "start_time": "2022-05-02T06:52:42.430Z"
   },
   {
    "duration": 0,
    "start_time": "2022-05-02T06:52:42.431Z"
   },
   {
    "duration": 0,
    "start_time": "2022-05-02T06:52:42.432Z"
   },
   {
    "duration": 0,
    "start_time": "2022-05-02T06:52:42.433Z"
   },
   {
    "duration": 0,
    "start_time": "2022-05-02T06:52:42.434Z"
   },
   {
    "duration": 0,
    "start_time": "2022-05-02T06:52:42.435Z"
   },
   {
    "duration": 0,
    "start_time": "2022-05-02T06:52:42.436Z"
   },
   {
    "duration": 0,
    "start_time": "2022-05-02T06:52:42.437Z"
   },
   {
    "duration": 0,
    "start_time": "2022-05-02T06:52:42.439Z"
   },
   {
    "duration": 0,
    "start_time": "2022-05-02T06:52:42.440Z"
   },
   {
    "duration": 0,
    "start_time": "2022-05-02T06:52:42.441Z"
   },
   {
    "duration": 0,
    "start_time": "2022-05-02T06:52:42.442Z"
   },
   {
    "duration": 0,
    "start_time": "2022-05-02T06:52:42.443Z"
   },
   {
    "duration": 0,
    "start_time": "2022-05-02T06:52:42.445Z"
   },
   {
    "duration": 0,
    "start_time": "2022-05-02T06:52:42.446Z"
   },
   {
    "duration": 0,
    "start_time": "2022-05-02T06:52:42.446Z"
   },
   {
    "duration": 0,
    "start_time": "2022-05-02T06:52:42.507Z"
   },
   {
    "duration": 0,
    "start_time": "2022-05-02T06:52:42.509Z"
   },
   {
    "duration": 0,
    "start_time": "2022-05-02T06:52:42.510Z"
   },
   {
    "duration": 9,
    "start_time": "2022-05-02T06:53:54.736Z"
   },
   {
    "duration": 10,
    "start_time": "2022-05-02T06:54:01.605Z"
   },
   {
    "duration": 9,
    "start_time": "2022-05-02T06:54:21.172Z"
   },
   {
    "duration": 8,
    "start_time": "2022-05-02T06:54:24.483Z"
   },
   {
    "duration": 6,
    "start_time": "2022-05-02T06:54:32.200Z"
   },
   {
    "duration": 9,
    "start_time": "2022-05-02T06:54:32.208Z"
   },
   {
    "duration": 9,
    "start_time": "2022-05-02T06:54:32.219Z"
   },
   {
    "duration": 4,
    "start_time": "2022-05-02T06:54:32.229Z"
   },
   {
    "duration": 5,
    "start_time": "2022-05-02T06:54:32.235Z"
   },
   {
    "duration": 17,
    "start_time": "2022-05-02T06:54:32.242Z"
   },
   {
    "duration": 53,
    "start_time": "2022-05-02T06:54:32.261Z"
   },
   {
    "duration": 197,
    "start_time": "2022-05-02T06:54:32.315Z"
   },
   {
    "duration": 12,
    "start_time": "2022-05-02T06:54:32.513Z"
   },
   {
    "duration": 4,
    "start_time": "2022-05-02T06:54:32.527Z"
   },
   {
    "duration": 22,
    "start_time": "2022-05-02T06:54:32.533Z"
   },
   {
    "duration": 1767,
    "start_time": "2022-05-02T06:54:32.556Z"
   },
   {
    "duration": 9,
    "start_time": "2022-05-02T06:54:34.325Z"
   },
   {
    "duration": 11,
    "start_time": "2022-05-02T06:54:34.335Z"
   },
   {
    "duration": 118,
    "start_time": "2022-05-02T06:54:34.347Z"
   },
   {
    "duration": 11,
    "start_time": "2022-05-02T06:54:34.467Z"
   },
   {
    "duration": 27,
    "start_time": "2022-05-02T06:54:34.480Z"
   },
   {
    "duration": 13,
    "start_time": "2022-05-02T06:54:34.510Z"
   },
   {
    "duration": 666,
    "start_time": "2022-05-02T06:54:34.525Z"
   },
   {
    "duration": 15,
    "start_time": "2022-05-02T06:54:35.192Z"
   },
   {
    "duration": 19,
    "start_time": "2022-05-02T06:54:35.208Z"
   },
   {
    "duration": 15,
    "start_time": "2022-05-02T06:54:35.229Z"
   },
   {
    "duration": 9,
    "start_time": "2022-05-02T06:54:35.246Z"
   },
   {
    "duration": 17,
    "start_time": "2022-05-02T06:54:35.256Z"
   },
   {
    "duration": 41,
    "start_time": "2022-05-02T06:54:35.275Z"
   },
   {
    "duration": 18,
    "start_time": "2022-05-02T06:54:35.317Z"
   },
   {
    "duration": 10,
    "start_time": "2022-05-02T06:54:35.336Z"
   },
   {
    "duration": 296,
    "start_time": "2022-05-02T06:54:35.347Z"
   },
   {
    "duration": 7,
    "start_time": "2022-05-02T06:54:35.644Z"
   },
   {
    "duration": 7,
    "start_time": "2022-05-02T06:54:35.652Z"
   },
   {
    "duration": 8,
    "start_time": "2022-05-02T06:54:35.660Z"
   },
   {
    "duration": 303,
    "start_time": "2022-05-02T06:54:35.669Z"
   },
   {
    "duration": 16,
    "start_time": "2022-05-02T06:54:35.974Z"
   },
   {
    "duration": 220,
    "start_time": "2022-05-02T06:54:35.991Z"
   },
   {
    "duration": 7,
    "start_time": "2022-05-02T06:54:36.213Z"
   },
   {
    "duration": 7,
    "start_time": "2022-05-02T06:54:36.221Z"
   },
   {
    "duration": 5,
    "start_time": "2022-05-02T06:54:36.230Z"
   },
   {
    "duration": 6,
    "start_time": "2022-05-02T06:54:36.237Z"
   },
   {
    "duration": 6,
    "start_time": "2022-05-02T06:54:36.244Z"
   },
   {
    "duration": 5,
    "start_time": "2022-05-02T06:54:36.252Z"
   },
   {
    "duration": 9,
    "start_time": "2022-05-02T07:06:44.357Z"
   },
   {
    "duration": 13,
    "start_time": "2022-05-02T07:09:21.058Z"
   },
   {
    "duration": 103,
    "start_time": "2022-05-02T07:09:21.073Z"
   },
   {
    "duration": 11,
    "start_time": "2022-05-02T07:09:21.178Z"
   },
   {
    "duration": 22,
    "start_time": "2022-05-02T07:09:21.191Z"
   },
   {
    "duration": 12,
    "start_time": "2022-05-02T07:09:21.215Z"
   },
   {
    "duration": 635,
    "start_time": "2022-05-02T07:09:21.229Z"
   },
   {
    "duration": 8,
    "start_time": "2022-05-02T07:09:21.866Z"
   },
   {
    "duration": 18,
    "start_time": "2022-05-02T07:09:21.876Z"
   },
   {
    "duration": 15,
    "start_time": "2022-05-02T07:09:21.908Z"
   },
   {
    "duration": 9,
    "start_time": "2022-05-02T07:09:21.926Z"
   },
   {
    "duration": 15,
    "start_time": "2022-05-02T07:09:21.936Z"
   },
   {
    "duration": 9,
    "start_time": "2022-05-02T07:09:21.953Z"
   },
   {
    "duration": 132,
    "start_time": "2022-05-02T07:09:21.964Z"
   },
   {
    "duration": 14,
    "start_time": "2022-05-02T07:09:22.098Z"
   },
   {
    "duration": 304,
    "start_time": "2022-05-02T07:09:22.114Z"
   },
   {
    "duration": 7,
    "start_time": "2022-05-02T07:09:22.419Z"
   },
   {
    "duration": 7,
    "start_time": "2022-05-02T07:09:22.428Z"
   },
   {
    "duration": 7,
    "start_time": "2022-05-02T07:09:22.436Z"
   },
   {
    "duration": 320,
    "start_time": "2022-05-02T07:09:22.445Z"
   },
   {
    "duration": 16,
    "start_time": "2022-05-02T07:09:22.766Z"
   },
   {
    "duration": 208,
    "start_time": "2022-05-02T07:09:22.784Z"
   },
   {
    "duration": 16,
    "start_time": "2022-05-02T07:09:22.994Z"
   },
   {
    "duration": 6,
    "start_time": "2022-05-02T07:09:23.013Z"
   },
   {
    "duration": 6,
    "start_time": "2022-05-02T07:09:23.020Z"
   },
   {
    "duration": 9,
    "start_time": "2022-05-02T07:09:23.028Z"
   },
   {
    "duration": 8,
    "start_time": "2022-05-02T07:09:23.039Z"
   },
   {
    "duration": 6,
    "start_time": "2022-05-02T07:09:23.048Z"
   },
   {
    "duration": 18,
    "start_time": "2022-05-02T07:15:13.793Z"
   },
   {
    "duration": 86,
    "start_time": "2022-05-02T07:37:11.679Z"
   },
   {
    "duration": 13,
    "start_time": "2022-05-02T07:37:29.310Z"
   },
   {
    "duration": 17,
    "start_time": "2022-05-02T07:37:49.357Z"
   },
   {
    "duration": 9,
    "start_time": "2022-05-02T07:47:37.275Z"
   },
   {
    "duration": 9,
    "start_time": "2022-05-02T07:51:36.664Z"
   },
   {
    "duration": 9,
    "start_time": "2022-05-02T07:54:59.477Z"
   },
   {
    "duration": 285,
    "start_time": "2022-05-02T07:56:51.976Z"
   },
   {
    "duration": 1570,
    "start_time": "2022-05-02T18:53:38.913Z"
   },
   {
    "duration": 39,
    "start_time": "2022-05-02T18:53:40.488Z"
   },
   {
    "duration": 39,
    "start_time": "2022-05-02T18:53:40.529Z"
   },
   {
    "duration": 19,
    "start_time": "2022-05-02T18:53:40.570Z"
   },
   {
    "duration": 4,
    "start_time": "2022-05-02T18:53:40.590Z"
   },
   {
    "duration": 12,
    "start_time": "2022-05-02T18:53:40.596Z"
   },
   {
    "duration": 13,
    "start_time": "2022-05-02T18:53:40.610Z"
   },
   {
    "duration": 46,
    "start_time": "2022-05-02T18:53:40.626Z"
   },
   {
    "duration": 20,
    "start_time": "2022-05-02T18:53:40.674Z"
   },
   {
    "duration": 7,
    "start_time": "2022-05-02T18:53:40.698Z"
   },
   {
    "duration": 13,
    "start_time": "2022-05-02T18:53:40.707Z"
   },
   {
    "duration": 8,
    "start_time": "2022-05-02T18:53:40.722Z"
   },
   {
    "duration": 32,
    "start_time": "2022-05-02T18:53:40.732Z"
   },
   {
    "duration": 9,
    "start_time": "2022-05-02T18:53:40.766Z"
   },
   {
    "duration": 12,
    "start_time": "2022-05-02T18:53:40.780Z"
   },
   {
    "duration": 25,
    "start_time": "2022-05-02T18:53:40.794Z"
   },
   {
    "duration": 5,
    "start_time": "2022-05-02T18:53:40.821Z"
   },
   {
    "duration": 17,
    "start_time": "2022-05-02T18:53:40.828Z"
   },
   {
    "duration": 17,
    "start_time": "2022-05-02T18:53:40.847Z"
   },
   {
    "duration": 9,
    "start_time": "2022-05-02T18:53:40.866Z"
   },
   {
    "duration": 32,
    "start_time": "2022-05-02T18:53:40.877Z"
   },
   {
    "duration": 14,
    "start_time": "2022-05-02T18:53:40.911Z"
   },
   {
    "duration": 14,
    "start_time": "2022-05-02T18:53:40.926Z"
   },
   {
    "duration": 10,
    "start_time": "2022-05-02T18:53:40.941Z"
   },
   {
    "duration": 12,
    "start_time": "2022-05-02T18:53:40.953Z"
   },
   {
    "duration": 28,
    "start_time": "2022-05-02T18:53:40.969Z"
   },
   {
    "duration": 10,
    "start_time": "2022-05-02T18:53:40.999Z"
   },
   {
    "duration": 10,
    "start_time": "2022-05-02T18:53:41.014Z"
   },
   {
    "duration": 5,
    "start_time": "2022-05-02T18:53:41.026Z"
   },
   {
    "duration": 7,
    "start_time": "2022-05-02T18:53:41.033Z"
   },
   {
    "duration": 34,
    "start_time": "2022-05-02T18:53:41.042Z"
   },
   {
    "duration": 23,
    "start_time": "2022-05-02T18:53:41.079Z"
   },
   {
    "duration": 271,
    "start_time": "2022-05-02T18:53:41.104Z"
   },
   {
    "duration": 22,
    "start_time": "2022-05-02T18:53:41.377Z"
   },
   {
    "duration": 5,
    "start_time": "2022-05-02T18:53:41.401Z"
   },
   {
    "duration": 22,
    "start_time": "2022-05-02T18:53:41.408Z"
   },
   {
    "duration": 2879,
    "start_time": "2022-05-02T18:53:41.432Z"
   },
   {
    "duration": 67,
    "start_time": "2022-05-02T18:53:44.313Z"
   },
   {
    "duration": 39,
    "start_time": "2022-05-02T18:53:44.382Z"
   },
   {
    "duration": 202,
    "start_time": "2022-05-02T18:53:44.456Z"
   },
   {
    "duration": 19,
    "start_time": "2022-05-02T18:53:44.662Z"
   },
   {
    "duration": 18,
    "start_time": "2022-05-02T18:53:44.684Z"
   },
   {
    "duration": 29,
    "start_time": "2022-05-02T18:53:44.758Z"
   },
   {
    "duration": 657,
    "start_time": "2022-05-02T18:53:44.789Z"
   },
   {
    "duration": 19,
    "start_time": "2022-05-02T18:53:45.447Z"
   },
   {
    "duration": 40,
    "start_time": "2022-05-02T18:53:45.468Z"
   },
   {
    "duration": 15,
    "start_time": "2022-05-02T18:53:45.510Z"
   },
   {
    "duration": 14,
    "start_time": "2022-05-02T18:53:45.527Z"
   },
   {
    "duration": 25,
    "start_time": "2022-05-02T18:53:45.543Z"
   },
   {
    "duration": 9,
    "start_time": "2022-05-02T18:53:45.571Z"
   },
   {
    "duration": 19,
    "start_time": "2022-05-02T18:53:45.582Z"
   },
   {
    "duration": 8,
    "start_time": "2022-05-02T18:53:45.603Z"
   },
   {
    "duration": 375,
    "start_time": "2022-05-02T18:53:45.614Z"
   },
   {
    "duration": 7,
    "start_time": "2022-05-02T18:53:45.990Z"
   },
   {
    "duration": 29,
    "start_time": "2022-05-02T18:53:45.998Z"
   },
   {
    "duration": 35,
    "start_time": "2022-05-02T18:53:46.029Z"
   },
   {
    "duration": 282,
    "start_time": "2022-05-02T18:53:46.068Z"
   },
   {
    "duration": 25,
    "start_time": "2022-05-02T18:53:46.355Z"
   },
   {
    "duration": 201,
    "start_time": "2022-05-02T18:53:46.382Z"
   },
   {
    "duration": 7,
    "start_time": "2022-05-02T18:53:46.585Z"
   },
   {
    "duration": 23,
    "start_time": "2022-05-02T18:53:46.594Z"
   },
   {
    "duration": 34,
    "start_time": "2022-05-02T18:53:46.619Z"
   },
   {
    "duration": 38,
    "start_time": "2022-05-02T18:53:46.655Z"
   },
   {
    "duration": 26,
    "start_time": "2022-05-02T18:53:46.695Z"
   },
   {
    "duration": 27,
    "start_time": "2022-05-02T18:53:46.723Z"
   },
   {
    "duration": 8,
    "start_time": "2022-05-02T18:58:36.746Z"
   },
   {
    "duration": 1263,
    "start_time": "2022-05-02T18:58:46.702Z"
   },
   {
    "duration": 39,
    "start_time": "2022-05-02T18:58:47.968Z"
   },
   {
    "duration": 23,
    "start_time": "2022-05-02T18:58:48.009Z"
   },
   {
    "duration": 68,
    "start_time": "2022-05-02T18:58:48.035Z"
   },
   {
    "duration": 30,
    "start_time": "2022-05-02T18:58:48.105Z"
   },
   {
    "duration": 51,
    "start_time": "2022-05-02T18:58:48.136Z"
   },
   {
    "duration": 56,
    "start_time": "2022-05-02T18:58:48.190Z"
   },
   {
    "duration": 53,
    "start_time": "2022-05-02T18:58:48.248Z"
   },
   {
    "duration": 15,
    "start_time": "2022-05-02T18:58:48.303Z"
   },
   {
    "duration": 30,
    "start_time": "2022-05-02T18:58:48.321Z"
   },
   {
    "duration": 42,
    "start_time": "2022-05-02T18:58:48.353Z"
   },
   {
    "duration": 16,
    "start_time": "2022-05-02T18:58:48.397Z"
   },
   {
    "duration": 18,
    "start_time": "2022-05-02T18:58:48.414Z"
   },
   {
    "duration": 17,
    "start_time": "2022-05-02T18:58:48.434Z"
   },
   {
    "duration": 13,
    "start_time": "2022-05-02T18:58:48.453Z"
   },
   {
    "duration": 20,
    "start_time": "2022-05-02T18:58:48.467Z"
   },
   {
    "duration": 5,
    "start_time": "2022-05-02T18:58:48.490Z"
   },
   {
    "duration": 19,
    "start_time": "2022-05-02T18:58:48.498Z"
   },
   {
    "duration": 8,
    "start_time": "2022-05-02T18:58:48.520Z"
   },
   {
    "duration": 7,
    "start_time": "2022-05-02T18:58:48.530Z"
   },
   {
    "duration": 11,
    "start_time": "2022-05-02T18:58:48.560Z"
   },
   {
    "duration": 18,
    "start_time": "2022-05-02T18:58:48.572Z"
   },
   {
    "duration": 12,
    "start_time": "2022-05-02T18:58:48.592Z"
   },
   {
    "duration": 9,
    "start_time": "2022-05-02T18:58:51.784Z"
   },
   {
    "duration": 8,
    "start_time": "2022-05-02T18:59:49.124Z"
   },
   {
    "duration": 10,
    "start_time": "2022-05-02T18:59:49.135Z"
   },
   {
    "duration": 9,
    "start_time": "2022-05-02T18:59:49.147Z"
   },
   {
    "duration": 10,
    "start_time": "2022-05-02T18:59:49.158Z"
   },
   {
    "duration": 19,
    "start_time": "2022-05-02T18:59:49.170Z"
   },
   {
    "duration": 11,
    "start_time": "2022-05-02T18:59:49.191Z"
   },
   {
    "duration": 6,
    "start_time": "2022-05-02T18:59:49.204Z"
   },
   {
    "duration": 5,
    "start_time": "2022-05-02T18:59:49.213Z"
   },
   {
    "duration": 42,
    "start_time": "2022-05-02T18:59:49.220Z"
   },
   {
    "duration": 16,
    "start_time": "2022-05-02T18:59:49.265Z"
   },
   {
    "duration": 275,
    "start_time": "2022-05-02T18:59:49.284Z"
   },
   {
    "duration": 19,
    "start_time": "2022-05-02T18:59:49.561Z"
   },
   {
    "duration": 6,
    "start_time": "2022-05-02T18:59:49.582Z"
   },
   {
    "duration": 28,
    "start_time": "2022-05-02T18:59:49.590Z"
   },
   {
    "duration": 3294,
    "start_time": "2022-05-02T18:59:49.621Z"
   },
   {
    "duration": 9,
    "start_time": "2022-05-02T18:59:52.917Z"
   },
   {
    "duration": 27,
    "start_time": "2022-05-02T18:59:52.927Z"
   },
   {
    "duration": 111,
    "start_time": "2022-05-02T18:59:52.956Z"
   },
   {
    "duration": 13,
    "start_time": "2022-05-02T18:59:53.069Z"
   },
   {
    "duration": 38,
    "start_time": "2022-05-02T18:59:53.084Z"
   },
   {
    "duration": 34,
    "start_time": "2022-05-02T18:59:53.123Z"
   },
   {
    "duration": 1080,
    "start_time": "2022-05-02T18:59:53.159Z"
   },
   {
    "duration": 8,
    "start_time": "2022-05-02T18:59:54.241Z"
   },
   {
    "duration": 33,
    "start_time": "2022-05-02T18:59:54.254Z"
   },
   {
    "duration": 20,
    "start_time": "2022-05-02T18:59:54.289Z"
   },
   {
    "duration": 24,
    "start_time": "2022-05-02T18:59:54.311Z"
   },
   {
    "duration": 37,
    "start_time": "2022-05-02T18:59:54.337Z"
   },
   {
    "duration": 12,
    "start_time": "2022-05-02T18:59:54.378Z"
   },
   {
    "duration": 28,
    "start_time": "2022-05-02T18:59:54.391Z"
   },
   {
    "duration": 9,
    "start_time": "2022-05-02T18:59:54.421Z"
   },
   {
    "duration": 271,
    "start_time": "2022-05-02T18:59:54.432Z"
   },
   {
    "duration": 8,
    "start_time": "2022-05-02T18:59:54.705Z"
   },
   {
    "duration": 8,
    "start_time": "2022-05-02T18:59:54.715Z"
   },
   {
    "duration": 30,
    "start_time": "2022-05-02T18:59:54.725Z"
   },
   {
    "duration": 428,
    "start_time": "2022-05-02T18:59:54.757Z"
   },
   {
    "duration": 15,
    "start_time": "2022-05-02T18:59:55.187Z"
   },
   {
    "duration": 192,
    "start_time": "2022-05-02T18:59:55.203Z"
   },
   {
    "duration": 6,
    "start_time": "2022-05-02T18:59:55.397Z"
   },
   {
    "duration": 11,
    "start_time": "2022-05-02T18:59:55.404Z"
   },
   {
    "duration": 9,
    "start_time": "2022-05-02T18:59:55.417Z"
   },
   {
    "duration": 8,
    "start_time": "2022-05-02T18:59:55.427Z"
   },
   {
    "duration": 9,
    "start_time": "2022-05-02T18:59:55.436Z"
   },
   {
    "duration": 29,
    "start_time": "2022-05-02T18:59:55.447Z"
   },
   {
    "duration": 1706,
    "start_time": "2022-05-03T04:17:24.559Z"
   },
   {
    "duration": 52,
    "start_time": "2022-05-03T04:17:26.268Z"
   },
   {
    "duration": 39,
    "start_time": "2022-05-03T04:17:26.322Z"
   },
   {
    "duration": 22,
    "start_time": "2022-05-03T04:17:26.364Z"
   },
   {
    "duration": 7,
    "start_time": "2022-05-03T04:17:26.388Z"
   },
   {
    "duration": 21,
    "start_time": "2022-05-03T04:17:26.398Z"
   },
   {
    "duration": 42,
    "start_time": "2022-05-03T04:17:26.421Z"
   },
   {
    "duration": 20,
    "start_time": "2022-05-03T04:17:26.466Z"
   },
   {
    "duration": 13,
    "start_time": "2022-05-03T04:17:26.488Z"
   },
   {
    "duration": 7,
    "start_time": "2022-05-03T04:17:26.505Z"
   },
   {
    "duration": 41,
    "start_time": "2022-05-03T04:17:26.514Z"
   },
   {
    "duration": 7,
    "start_time": "2022-05-03T04:17:26.557Z"
   },
   {
    "duration": 10,
    "start_time": "2022-05-03T04:17:26.567Z"
   },
   {
    "duration": 17,
    "start_time": "2022-05-03T04:17:26.579Z"
   },
   {
    "duration": 15,
    "start_time": "2022-05-03T04:17:26.598Z"
   },
   {
    "duration": 11,
    "start_time": "2022-05-03T04:17:26.651Z"
   },
   {
    "duration": 7,
    "start_time": "2022-05-03T04:17:26.664Z"
   },
   {
    "duration": 18,
    "start_time": "2022-05-03T04:17:26.673Z"
   },
   {
    "duration": 9,
    "start_time": "2022-05-03T04:17:26.693Z"
   },
   {
    "duration": 9,
    "start_time": "2022-05-03T04:17:26.704Z"
   },
   {
    "duration": 42,
    "start_time": "2022-05-03T04:17:26.715Z"
   },
   {
    "duration": 11,
    "start_time": "2022-05-03T04:17:26.759Z"
   },
   {
    "duration": 11,
    "start_time": "2022-05-03T04:17:26.772Z"
   },
   {
    "duration": 10,
    "start_time": "2022-05-03T04:17:26.786Z"
   },
   {
    "duration": 55,
    "start_time": "2022-05-03T04:17:26.798Z"
   },
   {
    "duration": 10,
    "start_time": "2022-05-03T04:17:26.855Z"
   },
   {
    "duration": 9,
    "start_time": "2022-05-03T04:17:26.867Z"
   },
   {
    "duration": 11,
    "start_time": "2022-05-03T04:17:26.881Z"
   },
   {
    "duration": 11,
    "start_time": "2022-05-03T04:17:26.894Z"
   },
   {
    "duration": 48,
    "start_time": "2022-05-03T04:17:26.907Z"
   },
   {
    "duration": 7,
    "start_time": "2022-05-03T04:17:26.957Z"
   },
   {
    "duration": 23,
    "start_time": "2022-05-03T04:17:26.966Z"
   },
   {
    "duration": 22,
    "start_time": "2022-05-03T04:17:26.992Z"
   },
   {
    "duration": 310,
    "start_time": "2022-05-03T04:17:27.016Z"
   },
   {
    "duration": 31,
    "start_time": "2022-05-03T04:17:27.328Z"
   },
   {
    "duration": 6,
    "start_time": "2022-05-03T04:17:27.362Z"
   },
   {
    "duration": 30,
    "start_time": "2022-05-03T04:17:27.370Z"
   },
   {
    "duration": 1630,
    "start_time": "2022-05-03T04:17:27.403Z"
   },
   {
    "duration": 14,
    "start_time": "2022-05-03T04:17:29.036Z"
   },
   {
    "duration": 20,
    "start_time": "2022-05-03T04:17:29.053Z"
   },
   {
    "duration": 194,
    "start_time": "2022-05-03T04:17:29.076Z"
   },
   {
    "duration": 157,
    "start_time": "2022-05-03T04:17:29.273Z"
   },
   {
    "duration": 17,
    "start_time": "2022-05-03T04:17:37.605Z"
   },
   {
    "duration": 17,
    "start_time": "2022-05-03T04:29:00.897Z"
   },
   {
    "duration": 17,
    "start_time": "2022-05-03T04:29:16.758Z"
   },
   {
    "duration": 17,
    "start_time": "2022-05-03T04:29:27.207Z"
   },
   {
    "duration": 17,
    "start_time": "2022-05-03T04:30:39.487Z"
   },
   {
    "duration": 20,
    "start_time": "2022-05-03T04:30:46.190Z"
   },
   {
    "duration": 879,
    "start_time": "2022-05-03T04:31:16.530Z"
   },
   {
    "duration": 12,
    "start_time": "2022-05-03T04:31:20.161Z"
   },
   {
    "duration": 27,
    "start_time": "2022-05-03T04:41:17.032Z"
   },
   {
    "duration": 23,
    "start_time": "2022-05-03T04:42:24.621Z"
   },
   {
    "duration": 13,
    "start_time": "2022-05-03T04:42:25.154Z"
   },
   {
    "duration": 22,
    "start_time": "2022-05-03T04:42:27.743Z"
   },
   {
    "duration": 13,
    "start_time": "2022-05-03T04:42:28.251Z"
   },
   {
    "duration": 23,
    "start_time": "2022-05-03T04:42:31.035Z"
   },
   {
    "duration": 13,
    "start_time": "2022-05-03T04:42:31.617Z"
   },
   {
    "duration": 455,
    "start_time": "2022-05-03T04:44:04.289Z"
   },
   {
    "duration": 417,
    "start_time": "2022-05-03T04:44:44.717Z"
   },
   {
    "duration": 404,
    "start_time": "2022-05-03T04:57:40.390Z"
   },
   {
    "duration": 413,
    "start_time": "2022-05-03T04:58:24.255Z"
   },
   {
    "duration": 462,
    "start_time": "2022-05-03T05:03:02.294Z"
   },
   {
    "duration": 13,
    "start_time": "2022-05-03T05:03:41.561Z"
   },
   {
    "duration": 565,
    "start_time": "2022-05-03T05:03:44.087Z"
   },
   {
    "duration": 503,
    "start_time": "2022-05-03T05:05:39.535Z"
   },
   {
    "duration": 12,
    "start_time": "2022-05-03T05:10:19.031Z"
   },
   {
    "duration": 378,
    "start_time": "2022-05-03T05:11:02.584Z"
   },
   {
    "duration": 382,
    "start_time": "2022-05-03T05:11:32.011Z"
   },
   {
    "duration": 120,
    "start_time": "2022-05-03T05:12:40.848Z"
   },
   {
    "duration": 406,
    "start_time": "2022-05-03T05:12:48.132Z"
   },
   {
    "duration": 382,
    "start_time": "2022-05-03T05:17:59.869Z"
   },
   {
    "duration": 592,
    "start_time": "2022-05-03T05:18:10.695Z"
   },
   {
    "duration": 711,
    "start_time": "2022-05-03T05:23:07.518Z"
   },
   {
    "duration": 226,
    "start_time": "2022-05-03T05:25:44.804Z"
   },
   {
    "duration": 270,
    "start_time": "2022-05-03T05:25:52.020Z"
   },
   {
    "duration": 23,
    "start_time": "2022-05-03T05:26:11.799Z"
   },
   {
    "duration": 177,
    "start_time": "2022-05-03T05:26:39.497Z"
   },
   {
    "duration": 13,
    "start_time": "2022-05-03T05:28:17.879Z"
   },
   {
    "duration": 12,
    "start_time": "2022-05-03T05:29:35.205Z"
   },
   {
    "duration": 14,
    "start_time": "2022-05-03T05:29:45.221Z"
   },
   {
    "duration": 228,
    "start_time": "2022-05-03T05:30:11.837Z"
   },
   {
    "duration": 172,
    "start_time": "2022-05-03T05:30:27.584Z"
   },
   {
    "duration": 164,
    "start_time": "2022-05-03T05:31:03.934Z"
   },
   {
    "duration": 441,
    "start_time": "2022-05-03T05:31:51.473Z"
   },
   {
    "duration": 550,
    "start_time": "2022-05-03T05:34:28.231Z"
   },
   {
    "duration": 168,
    "start_time": "2022-05-03T05:35:52.723Z"
   },
   {
    "duration": 184,
    "start_time": "2022-05-03T05:37:55.204Z"
   },
   {
    "duration": 173,
    "start_time": "2022-05-03T05:38:10.917Z"
   },
   {
    "duration": 191,
    "start_time": "2022-05-03T05:38:21.104Z"
   },
   {
    "duration": 327,
    "start_time": "2022-05-03T05:38:57.600Z"
   },
   {
    "duration": 191,
    "start_time": "2022-05-03T05:39:05.477Z"
   },
   {
    "duration": 9,
    "start_time": "2022-05-03T05:41:39.669Z"
   },
   {
    "duration": 9,
    "start_time": "2022-05-03T05:41:40.294Z"
   },
   {
    "duration": 9,
    "start_time": "2022-05-03T05:41:40.808Z"
   },
   {
    "duration": 382,
    "start_time": "2022-05-03T05:41:41.591Z"
   },
   {
    "duration": 407,
    "start_time": "2022-05-03T05:42:05.634Z"
   },
   {
    "duration": 383,
    "start_time": "2022-05-03T05:42:30.286Z"
   },
   {
    "duration": 641,
    "start_time": "2022-05-03T05:42:52.335Z"
   },
   {
    "duration": 774,
    "start_time": "2022-05-03T05:44:42.209Z"
   },
   {
    "duration": 1117,
    "start_time": "2022-05-03T05:44:53.402Z"
   },
   {
    "duration": 950,
    "start_time": "2022-05-03T05:45:11.614Z"
   },
   {
    "duration": 615,
    "start_time": "2022-05-03T05:45:49.186Z"
   },
   {
    "duration": 231,
    "start_time": "2022-05-03T05:46:13.413Z"
   },
   {
    "duration": 190,
    "start_time": "2022-05-03T05:52:03.756Z"
   },
   {
    "duration": 4,
    "start_time": "2022-05-03T05:52:08.865Z"
   },
   {
    "duration": 50,
    "start_time": "2022-05-03T05:52:08.875Z"
   },
   {
    "duration": 27,
    "start_time": "2022-05-03T05:52:08.929Z"
   },
   {
    "duration": 22,
    "start_time": "2022-05-03T05:52:08.959Z"
   },
   {
    "duration": 5,
    "start_time": "2022-05-03T05:52:08.986Z"
   },
   {
    "duration": 25,
    "start_time": "2022-05-03T05:52:08.993Z"
   },
   {
    "duration": 20,
    "start_time": "2022-05-03T05:52:09.053Z"
   },
   {
    "duration": 21,
    "start_time": "2022-05-03T05:52:09.076Z"
   },
   {
    "duration": 57,
    "start_time": "2022-05-03T05:52:09.100Z"
   },
   {
    "duration": 7,
    "start_time": "2022-05-03T05:52:09.160Z"
   },
   {
    "duration": 11,
    "start_time": "2022-05-03T05:52:09.171Z"
   },
   {
    "duration": 10,
    "start_time": "2022-05-03T05:52:09.184Z"
   },
   {
    "duration": 10,
    "start_time": "2022-05-03T05:52:09.196Z"
   },
   {
    "duration": 12,
    "start_time": "2022-05-03T05:52:09.209Z"
   },
   {
    "duration": 13,
    "start_time": "2022-05-03T05:52:09.252Z"
   },
   {
    "duration": 10,
    "start_time": "2022-05-03T05:52:09.267Z"
   },
   {
    "duration": 5,
    "start_time": "2022-05-03T05:52:09.279Z"
   },
   {
    "duration": 16,
    "start_time": "2022-05-03T05:52:09.286Z"
   },
   {
    "duration": 48,
    "start_time": "2022-05-03T05:52:09.305Z"
   },
   {
    "duration": 6,
    "start_time": "2022-05-03T05:52:09.356Z"
   },
   {
    "duration": 9,
    "start_time": "2022-05-03T05:52:09.365Z"
   },
   {
    "duration": 11,
    "start_time": "2022-05-03T05:52:09.376Z"
   },
   {
    "duration": 10,
    "start_time": "2022-05-03T05:52:09.389Z"
   },
   {
    "duration": 12,
    "start_time": "2022-05-03T05:52:09.401Z"
   },
   {
    "duration": 13,
    "start_time": "2022-05-03T05:52:09.452Z"
   },
   {
    "duration": 13,
    "start_time": "2022-05-03T05:52:09.467Z"
   },
   {
    "duration": 12,
    "start_time": "2022-05-03T05:52:09.482Z"
   },
   {
    "duration": 57,
    "start_time": "2022-05-03T05:52:09.496Z"
   },
   {
    "duration": 15,
    "start_time": "2022-05-03T05:52:09.560Z"
   },
   {
    "duration": 8,
    "start_time": "2022-05-03T05:52:09.577Z"
   },
   {
    "duration": 9,
    "start_time": "2022-05-03T05:52:09.587Z"
   },
   {
    "duration": 65,
    "start_time": "2022-05-03T05:52:09.598Z"
   },
   {
    "duration": 24,
    "start_time": "2022-05-03T05:52:09.666Z"
   },
   {
    "duration": 279,
    "start_time": "2022-05-03T05:52:09.693Z"
   },
   {
    "duration": 18,
    "start_time": "2022-05-03T05:52:09.974Z"
   },
   {
    "duration": 6,
    "start_time": "2022-05-03T05:52:09.995Z"
   },
   {
    "duration": 59,
    "start_time": "2022-05-03T05:52:10.003Z"
   },
   {
    "duration": 1734,
    "start_time": "2022-05-03T05:52:10.064Z"
   },
   {
    "duration": 14,
    "start_time": "2022-05-03T05:52:11.801Z"
   },
   {
    "duration": 40,
    "start_time": "2022-05-03T05:52:11.818Z"
   },
   {
    "duration": 199,
    "start_time": "2022-05-03T05:52:11.863Z"
   },
   {
    "duration": 21,
    "start_time": "2022-05-03T05:52:12.065Z"
   },
   {
    "duration": 28,
    "start_time": "2022-05-03T05:52:12.089Z"
   },
   {
    "duration": 51,
    "start_time": "2022-05-03T05:52:12.120Z"
   },
   {
    "duration": 1521,
    "start_time": "2022-05-03T05:52:12.173Z"
   },
   {
    "duration": 65,
    "start_time": "2022-05-03T05:52:13.696Z"
   },
   {
    "duration": 25,
    "start_time": "2022-05-03T05:52:13.763Z"
   },
   {
    "duration": 76,
    "start_time": "2022-05-03T05:52:13.790Z"
   },
   {
    "duration": 12,
    "start_time": "2022-05-03T05:52:13.869Z"
   },
   {
    "duration": 77,
    "start_time": "2022-05-03T05:52:13.882Z"
   },
   {
    "duration": 12,
    "start_time": "2022-05-03T05:52:13.962Z"
   },
   {
    "duration": 76,
    "start_time": "2022-05-03T05:52:13.976Z"
   },
   {
    "duration": 12,
    "start_time": "2022-05-03T05:52:14.054Z"
   },
   {
    "duration": 327,
    "start_time": "2022-05-03T05:52:14.069Z"
   },
   {
    "duration": 392,
    "start_time": "2022-05-03T05:52:14.398Z"
   },
   {
    "duration": 397,
    "start_time": "2022-05-03T05:52:14.792Z"
   },
   {
    "duration": 61,
    "start_time": "2022-05-03T05:52:15.191Z"
   },
   {
    "duration": 9,
    "start_time": "2022-05-03T05:52:15.255Z"
   },
   {
    "duration": 19,
    "start_time": "2022-05-03T05:52:15.266Z"
   },
   {
    "duration": 938,
    "start_time": "2022-05-03T05:52:15.287Z"
   },
   {
    "duration": 36,
    "start_time": "2022-05-03T05:52:16.228Z"
   },
   {
    "duration": 297,
    "start_time": "2022-05-03T05:52:16.267Z"
   },
   {
    "duration": 9,
    "start_time": "2022-05-03T05:52:16.567Z"
   },
   {
    "duration": 21,
    "start_time": "2022-05-03T05:52:16.578Z"
   },
   {
    "duration": 10,
    "start_time": "2022-05-03T05:52:16.603Z"
   },
   {
    "duration": 9,
    "start_time": "2022-05-03T05:52:16.616Z"
   },
   {
    "duration": 46,
    "start_time": "2022-05-03T05:52:16.627Z"
   },
   {
    "duration": 10,
    "start_time": "2022-05-03T05:52:16.676Z"
   },
   {
    "duration": 13,
    "start_time": "2022-05-03T05:57:41.167Z"
   },
   {
    "duration": 12,
    "start_time": "2022-05-03T05:58:00.236Z"
   },
   {
    "duration": 12,
    "start_time": "2022-05-03T05:58:05.184Z"
   },
   {
    "duration": 176,
    "start_time": "2022-05-03T05:58:10.882Z"
   },
   {
    "duration": 201,
    "start_time": "2022-05-03T05:58:13.853Z"
   },
   {
    "duration": 355,
    "start_time": "2022-05-03T05:58:17.152Z"
   },
   {
    "duration": 1983,
    "start_time": "2022-05-03T14:37:42.367Z"
   },
   {
    "duration": 77,
    "start_time": "2022-05-03T14:37:44.353Z"
   },
   {
    "duration": 27,
    "start_time": "2022-05-03T14:37:44.433Z"
   },
   {
    "duration": 27,
    "start_time": "2022-05-03T14:37:44.462Z"
   },
   {
    "duration": 37,
    "start_time": "2022-05-03T14:37:44.493Z"
   },
   {
    "duration": 19,
    "start_time": "2022-05-03T14:37:44.533Z"
   },
   {
    "duration": 17,
    "start_time": "2022-05-03T14:37:44.554Z"
   },
   {
    "duration": 26,
    "start_time": "2022-05-03T14:37:44.574Z"
   },
   {
    "duration": 26,
    "start_time": "2022-05-03T14:37:44.624Z"
   },
   {
    "duration": 9,
    "start_time": "2022-05-03T14:37:44.652Z"
   },
   {
    "duration": 16,
    "start_time": "2022-05-03T14:37:44.664Z"
   },
   {
    "duration": 7,
    "start_time": "2022-05-03T14:37:44.683Z"
   },
   {
    "duration": 39,
    "start_time": "2022-05-03T14:37:44.692Z"
   },
   {
    "duration": 18,
    "start_time": "2022-05-03T14:37:44.735Z"
   },
   {
    "duration": 21,
    "start_time": "2022-05-03T14:37:44.755Z"
   },
   {
    "duration": 13,
    "start_time": "2022-05-03T14:37:44.778Z"
   },
   {
    "duration": 32,
    "start_time": "2022-05-03T14:37:44.794Z"
   },
   {
    "duration": 24,
    "start_time": "2022-05-03T14:37:44.828Z"
   },
   {
    "duration": 13,
    "start_time": "2022-05-03T14:37:44.856Z"
   },
   {
    "duration": 9,
    "start_time": "2022-05-03T14:37:44.872Z"
   },
   {
    "duration": 44,
    "start_time": "2022-05-03T14:37:44.884Z"
   },
   {
    "duration": 17,
    "start_time": "2022-05-03T14:37:44.931Z"
   },
   {
    "duration": 21,
    "start_time": "2022-05-03T14:37:44.951Z"
   },
   {
    "duration": 16,
    "start_time": "2022-05-03T14:37:44.975Z"
   },
   {
    "duration": 17,
    "start_time": "2022-05-03T14:37:45.026Z"
   },
   {
    "duration": 34,
    "start_time": "2022-05-03T14:37:45.045Z"
   },
   {
    "duration": 18,
    "start_time": "2022-05-03T14:37:45.081Z"
   },
   {
    "duration": 42,
    "start_time": "2022-05-03T14:37:45.102Z"
   },
   {
    "duration": 13,
    "start_time": "2022-05-03T14:37:45.147Z"
   },
   {
    "duration": 39,
    "start_time": "2022-05-03T14:37:45.163Z"
   },
   {
    "duration": 20,
    "start_time": "2022-05-03T14:37:45.205Z"
   },
   {
    "duration": 35,
    "start_time": "2022-05-03T14:37:45.227Z"
   },
   {
    "duration": 23,
    "start_time": "2022-05-03T14:37:45.265Z"
   },
   {
    "duration": 285,
    "start_time": "2022-05-03T14:37:45.293Z"
   },
   {
    "duration": 20,
    "start_time": "2022-05-03T14:37:45.581Z"
   },
   {
    "duration": 7,
    "start_time": "2022-05-03T14:37:45.623Z"
   },
   {
    "duration": 36,
    "start_time": "2022-05-03T14:37:45.633Z"
   },
   {
    "duration": 1833,
    "start_time": "2022-05-03T14:37:45.672Z"
   },
   {
    "duration": 15,
    "start_time": "2022-05-03T14:37:47.509Z"
   },
   {
    "duration": 33,
    "start_time": "2022-05-03T14:37:47.526Z"
   },
   {
    "duration": 201,
    "start_time": "2022-05-03T14:37:47.569Z"
   },
   {
    "duration": 17,
    "start_time": "2022-05-03T14:37:47.772Z"
   },
   {
    "duration": 39,
    "start_time": "2022-05-03T14:37:47.792Z"
   },
   {
    "duration": 20,
    "start_time": "2022-05-03T14:37:47.834Z"
   },
   {
    "duration": 1162,
    "start_time": "2022-05-03T14:37:47.857Z"
   },
   {
    "duration": 13,
    "start_time": "2022-05-03T14:37:49.024Z"
   },
   {
    "duration": 34,
    "start_time": "2022-05-03T14:37:49.039Z"
   },
   {
    "duration": 51,
    "start_time": "2022-05-03T14:37:49.076Z"
   },
   {
    "duration": 22,
    "start_time": "2022-05-03T14:37:49.130Z"
   },
   {
    "duration": 32,
    "start_time": "2022-05-03T14:37:49.155Z"
   },
   {
    "duration": 45,
    "start_time": "2022-05-03T14:37:49.190Z"
   },
   {
    "duration": 123,
    "start_time": "2022-05-03T14:37:49.237Z"
   },
   {
    "duration": 14,
    "start_time": "2022-05-03T14:37:49.363Z"
   },
   {
    "duration": 213,
    "start_time": "2022-05-03T14:37:49.380Z"
   },
   {
    "duration": 226,
    "start_time": "2022-05-03T14:37:49.595Z"
   },
   {
    "duration": 219,
    "start_time": "2022-05-03T14:37:49.824Z"
   },
   {
    "duration": 10,
    "start_time": "2022-05-03T14:37:50.045Z"
   },
   {
    "duration": 16,
    "start_time": "2022-05-03T14:37:50.058Z"
   },
   {
    "duration": 13,
    "start_time": "2022-05-03T14:37:50.076Z"
   },
   {
    "duration": 712,
    "start_time": "2022-05-03T14:37:50.092Z"
   },
   {
    "duration": 34,
    "start_time": "2022-05-03T14:37:50.806Z"
   },
   {
    "duration": 305,
    "start_time": "2022-05-03T14:37:50.843Z"
   },
   {
    "duration": 10,
    "start_time": "2022-05-03T14:37:51.151Z"
   },
   {
    "duration": 20,
    "start_time": "2022-05-03T14:37:51.163Z"
   },
   {
    "duration": 20,
    "start_time": "2022-05-03T14:37:51.185Z"
   },
   {
    "duration": 23,
    "start_time": "2022-05-03T14:37:51.207Z"
   },
   {
    "duration": 19,
    "start_time": "2022-05-03T14:37:51.233Z"
   },
   {
    "duration": 22,
    "start_time": "2022-05-03T14:37:51.255Z"
   },
   {
    "duration": 4,
    "start_time": "2022-05-03T14:41:23.989Z"
   },
   {
    "duration": 53,
    "start_time": "2022-05-03T14:41:23.996Z"
   },
   {
    "duration": 20,
    "start_time": "2022-05-03T14:41:24.052Z"
   },
   {
    "duration": 59,
    "start_time": "2022-05-03T14:41:24.075Z"
   },
   {
    "duration": 5,
    "start_time": "2022-05-03T14:41:24.138Z"
   },
   {
    "duration": 16,
    "start_time": "2022-05-03T14:41:24.146Z"
   },
   {
    "duration": 20,
    "start_time": "2022-05-03T14:41:24.164Z"
   },
   {
    "duration": 58,
    "start_time": "2022-05-03T14:41:24.186Z"
   },
   {
    "duration": 16,
    "start_time": "2022-05-03T14:41:24.247Z"
   },
   {
    "duration": 15,
    "start_time": "2022-05-03T14:41:24.265Z"
   },
   {
    "duration": 12,
    "start_time": "2022-05-03T14:41:24.282Z"
   },
   {
    "duration": 31,
    "start_time": "2022-05-03T14:41:24.297Z"
   },
   {
    "duration": 10,
    "start_time": "2022-05-03T14:41:24.333Z"
   },
   {
    "duration": 18,
    "start_time": "2022-05-03T14:41:24.345Z"
   },
   {
    "duration": 22,
    "start_time": "2022-05-03T14:41:24.366Z"
   },
   {
    "duration": 37,
    "start_time": "2022-05-03T14:41:24.391Z"
   },
   {
    "duration": 7,
    "start_time": "2022-05-03T14:41:24.431Z"
   },
   {
    "duration": 33,
    "start_time": "2022-05-03T14:41:24.440Z"
   },
   {
    "duration": 18,
    "start_time": "2022-05-03T14:41:24.476Z"
   },
   {
    "duration": 23,
    "start_time": "2022-05-03T14:41:24.496Z"
   },
   {
    "duration": 10,
    "start_time": "2022-05-03T14:41:24.521Z"
   },
   {
    "duration": 25,
    "start_time": "2022-05-03T14:41:24.533Z"
   },
   {
    "duration": 15,
    "start_time": "2022-05-03T14:41:24.560Z"
   },
   {
    "duration": 31,
    "start_time": "2022-05-03T14:41:24.577Z"
   },
   {
    "duration": 15,
    "start_time": "2022-05-03T14:41:24.610Z"
   },
   {
    "duration": 11,
    "start_time": "2022-05-03T14:41:24.627Z"
   },
   {
    "duration": 9,
    "start_time": "2022-05-03T14:41:24.641Z"
   },
   {
    "duration": 17,
    "start_time": "2022-05-03T14:41:24.652Z"
   },
   {
    "duration": 17,
    "start_time": "2022-05-03T14:41:24.671Z"
   },
   {
    "duration": 38,
    "start_time": "2022-05-03T14:41:24.690Z"
   },
   {
    "duration": 13,
    "start_time": "2022-05-03T14:41:24.731Z"
   },
   {
    "duration": 25,
    "start_time": "2022-05-03T14:41:24.747Z"
   },
   {
    "duration": 24,
    "start_time": "2022-05-03T14:41:24.774Z"
   },
   {
    "duration": 269,
    "start_time": "2022-05-03T14:41:24.824Z"
   },
   {
    "duration": 37,
    "start_time": "2022-05-03T14:41:25.096Z"
   },
   {
    "duration": 13,
    "start_time": "2022-05-03T14:41:25.136Z"
   },
   {
    "duration": 28,
    "start_time": "2022-05-03T14:41:25.156Z"
   },
   {
    "duration": 1603,
    "start_time": "2022-05-03T14:41:25.186Z"
   },
   {
    "duration": 14,
    "start_time": "2022-05-03T14:41:26.792Z"
   },
   {
    "duration": 33,
    "start_time": "2022-05-03T14:41:26.808Z"
   },
   {
    "duration": 202,
    "start_time": "2022-05-03T14:41:26.843Z"
   },
   {
    "duration": 17,
    "start_time": "2022-05-03T14:41:27.047Z"
   },
   {
    "duration": 322,
    "start_time": "2022-05-03T14:42:26.916Z"
   },
   {
    "duration": 41,
    "start_time": "2022-05-03T14:42:52.006Z"
   },
   {
    "duration": 30,
    "start_time": "2022-05-03T14:42:56.779Z"
   },
   {
    "duration": 153,
    "start_time": "2022-05-03T14:43:56.149Z"
   },
   {
    "duration": 347,
    "start_time": "2022-05-03T14:43:58.460Z"
   },
   {
    "duration": 24,
    "start_time": "2022-05-03T14:45:01.903Z"
   },
   {
    "duration": 223,
    "start_time": "2022-05-03T14:45:52.468Z"
   },
   {
    "duration": 237,
    "start_time": "2022-05-03T14:46:26.058Z"
   },
   {
    "duration": 239,
    "start_time": "2022-05-03T14:46:44.592Z"
   },
   {
    "duration": 32,
    "start_time": "2022-05-03T14:48:10.599Z"
   },
   {
    "duration": 46,
    "start_time": "2022-05-03T14:48:55.839Z"
   },
   {
    "duration": 4279,
    "start_time": "2022-05-03T14:49:02.879Z"
   },
   {
    "duration": 903,
    "start_time": "2022-05-03T14:49:46.632Z"
   },
   {
    "duration": 1157,
    "start_time": "2022-05-03T14:49:55.527Z"
   },
   {
    "duration": 1271,
    "start_time": "2022-05-03T14:50:06.162Z"
   },
   {
    "duration": 1173,
    "start_time": "2022-05-03T14:50:52.125Z"
   },
   {
    "duration": 1317,
    "start_time": "2022-05-03T15:11:16.282Z"
   },
   {
    "duration": 41,
    "start_time": "2022-05-03T15:11:17.601Z"
   },
   {
    "duration": 17,
    "start_time": "2022-05-03T15:11:17.643Z"
   },
   {
    "duration": 14,
    "start_time": "2022-05-03T15:11:17.662Z"
   },
   {
    "duration": 3,
    "start_time": "2022-05-03T15:11:17.678Z"
   },
   {
    "duration": 10,
    "start_time": "2022-05-03T15:11:17.683Z"
   },
   {
    "duration": 36,
    "start_time": "2022-05-03T15:11:17.695Z"
   },
   {
    "duration": 13,
    "start_time": "2022-05-03T15:11:17.733Z"
   },
   {
    "duration": 8,
    "start_time": "2022-05-03T15:11:17.748Z"
   },
   {
    "duration": 5,
    "start_time": "2022-05-03T15:11:17.759Z"
   },
   {
    "duration": 5,
    "start_time": "2022-05-03T15:11:17.766Z"
   },
   {
    "duration": 6,
    "start_time": "2022-05-03T15:11:17.773Z"
   },
   {
    "duration": 8,
    "start_time": "2022-05-03T15:11:17.823Z"
   },
   {
    "duration": 8,
    "start_time": "2022-05-03T15:11:17.832Z"
   },
   {
    "duration": 9,
    "start_time": "2022-05-03T15:11:17.841Z"
   },
   {
    "duration": 6,
    "start_time": "2022-05-03T15:11:17.851Z"
   },
   {
    "duration": 6,
    "start_time": "2022-05-03T15:11:17.858Z"
   },
   {
    "duration": 12,
    "start_time": "2022-05-03T15:11:17.865Z"
   },
   {
    "duration": 6,
    "start_time": "2022-05-03T15:11:17.878Z"
   },
   {
    "duration": 6,
    "start_time": "2022-05-03T15:11:17.885Z"
   },
   {
    "duration": 31,
    "start_time": "2022-05-03T15:11:17.892Z"
   },
   {
    "duration": 5,
    "start_time": "2022-05-03T15:11:17.925Z"
   },
   {
    "duration": 6,
    "start_time": "2022-05-03T15:11:17.932Z"
   },
   {
    "duration": 7,
    "start_time": "2022-05-03T15:11:17.939Z"
   },
   {
    "duration": 8,
    "start_time": "2022-05-03T15:11:17.947Z"
   },
   {
    "duration": 6,
    "start_time": "2022-05-03T15:11:17.957Z"
   },
   {
    "duration": 6,
    "start_time": "2022-05-03T15:11:17.964Z"
   },
   {
    "duration": 6,
    "start_time": "2022-05-03T15:11:17.973Z"
   },
   {
    "duration": 44,
    "start_time": "2022-05-03T15:11:17.980Z"
   },
   {
    "duration": 4,
    "start_time": "2022-05-03T15:11:18.026Z"
   },
   {
    "duration": 5,
    "start_time": "2022-05-03T15:11:18.032Z"
   },
   {
    "duration": 16,
    "start_time": "2022-05-03T15:11:18.038Z"
   },
   {
    "duration": 14,
    "start_time": "2022-05-03T15:11:18.055Z"
   },
   {
    "duration": 179,
    "start_time": "2022-05-03T15:11:18.071Z"
   },
   {
    "duration": 13,
    "start_time": "2022-05-03T15:11:18.252Z"
   },
   {
    "duration": 4,
    "start_time": "2022-05-03T15:11:18.267Z"
   },
   {
    "duration": 20,
    "start_time": "2022-05-03T15:11:18.273Z"
   },
   {
    "duration": 1021,
    "start_time": "2022-05-03T15:11:18.295Z"
   },
   {
    "duration": 10,
    "start_time": "2022-05-03T15:11:19.318Z"
   },
   {
    "duration": 15,
    "start_time": "2022-05-03T15:11:21.782Z"
   },
   {
    "duration": 273,
    "start_time": "2022-05-03T16:19:48.218Z"
   },
   {
    "duration": 974,
    "start_time": "2022-05-03T16:20:12.133Z"
   },
   {
    "duration": 1037,
    "start_time": "2022-05-03T16:21:42.305Z"
   },
   {
    "duration": 893,
    "start_time": "2022-05-03T16:25:25.271Z"
   },
   {
    "duration": 29753,
    "start_time": "2022-05-03T16:35:22.594Z"
   },
   {
    "duration": 1025,
    "start_time": "2022-05-03T16:37:26.452Z"
   },
   {
    "duration": 627,
    "start_time": "2022-05-03T16:38:45.617Z"
   },
   {
    "duration": 140216,
    "start_time": "2022-05-03T16:40:03.572Z"
   },
   {
    "duration": 891,
    "start_time": "2022-05-03T16:42:28.906Z"
   },
   {
    "duration": 941,
    "start_time": "2022-05-03T16:42:39.504Z"
   },
   {
    "duration": 894,
    "start_time": "2022-05-03T16:42:48.717Z"
   },
   {
    "duration": 557,
    "start_time": "2022-05-03T16:48:42.412Z"
   },
   {
    "duration": 588,
    "start_time": "2022-05-03T16:49:13.047Z"
   },
   {
    "duration": 623,
    "start_time": "2022-05-03T16:49:24.470Z"
   },
   {
    "duration": 1001,
    "start_time": "2022-05-03T16:56:24.198Z"
   },
   {
    "duration": 1061,
    "start_time": "2022-05-03T16:56:36.081Z"
   },
   {
    "duration": 1278,
    "start_time": "2022-05-04T06:47:56.384Z"
   },
   {
    "duration": 53,
    "start_time": "2022-05-04T06:47:57.665Z"
   },
   {
    "duration": 17,
    "start_time": "2022-05-04T06:47:57.719Z"
   },
   {
    "duration": 14,
    "start_time": "2022-05-04T06:47:57.738Z"
   },
   {
    "duration": 2,
    "start_time": "2022-05-04T06:47:57.755Z"
   },
   {
    "duration": 15,
    "start_time": "2022-05-04T06:47:57.759Z"
   },
   {
    "duration": 29,
    "start_time": "2022-05-04T06:47:57.775Z"
   },
   {
    "duration": 12,
    "start_time": "2022-05-04T06:47:57.806Z"
   },
   {
    "duration": 9,
    "start_time": "2022-05-04T06:47:57.819Z"
   },
   {
    "duration": 5,
    "start_time": "2022-05-04T06:47:57.829Z"
   },
   {
    "duration": 5,
    "start_time": "2022-05-04T06:47:57.836Z"
   },
   {
    "duration": 8,
    "start_time": "2022-05-04T06:47:57.842Z"
   },
   {
    "duration": 7,
    "start_time": "2022-05-04T06:47:57.851Z"
   },
   {
    "duration": 40,
    "start_time": "2022-05-04T06:47:57.861Z"
   },
   {
    "duration": 9,
    "start_time": "2022-05-04T06:47:57.903Z"
   },
   {
    "duration": 6,
    "start_time": "2022-05-04T06:47:57.914Z"
   },
   {
    "duration": 4,
    "start_time": "2022-05-04T06:47:57.921Z"
   },
   {
    "duration": 11,
    "start_time": "2022-05-04T06:47:57.926Z"
   },
   {
    "duration": 5,
    "start_time": "2022-05-04T06:47:57.938Z"
   },
   {
    "duration": 5,
    "start_time": "2022-05-04T06:47:57.945Z"
   },
   {
    "duration": 6,
    "start_time": "2022-05-04T06:47:57.951Z"
   },
   {
    "duration": 6,
    "start_time": "2022-05-04T06:47:57.958Z"
   },
   {
    "duration": 36,
    "start_time": "2022-05-04T06:47:57.965Z"
   },
   {
    "duration": 7,
    "start_time": "2022-05-04T06:47:58.003Z"
   },
   {
    "duration": 7,
    "start_time": "2022-05-04T06:47:58.011Z"
   },
   {
    "duration": 6,
    "start_time": "2022-05-04T06:47:58.019Z"
   },
   {
    "duration": 7,
    "start_time": "2022-05-04T06:47:58.026Z"
   },
   {
    "duration": 7,
    "start_time": "2022-05-04T06:47:58.034Z"
   },
   {
    "duration": 4,
    "start_time": "2022-05-04T06:47:58.043Z"
   },
   {
    "duration": 8,
    "start_time": "2022-05-04T06:47:58.048Z"
   },
   {
    "duration": 54,
    "start_time": "2022-05-04T06:47:58.057Z"
   },
   {
    "duration": 13,
    "start_time": "2022-05-04T06:47:58.113Z"
   },
   {
    "duration": 158,
    "start_time": "2022-05-04T06:47:58.127Z"
   },
   {
    "duration": 20,
    "start_time": "2022-05-04T06:47:58.286Z"
   },
   {
    "duration": 4,
    "start_time": "2022-05-04T06:47:58.308Z"
   },
   {
    "duration": 18,
    "start_time": "2022-05-04T06:47:58.313Z"
   },
   {
    "duration": 981,
    "start_time": "2022-05-04T06:47:58.332Z"
   },
   {
    "duration": 8,
    "start_time": "2022-05-04T06:47:59.314Z"
   },
   {
    "duration": 11,
    "start_time": "2022-05-04T06:47:59.323Z"
   },
   {
    "duration": 98,
    "start_time": "2022-05-04T06:53:34.270Z"
   },
   {
    "duration": 4,
    "start_time": "2022-05-04T06:56:05.200Z"
   },
   {
    "duration": 8,
    "start_time": "2022-05-04T06:56:18.426Z"
   },
   {
    "duration": 3,
    "start_time": "2022-05-04T06:56:21.572Z"
   },
   {
    "duration": 391,
    "start_time": "2022-05-04T06:57:10.616Z"
   },
   {
    "duration": 21,
    "start_time": "2022-05-04T06:57:18.733Z"
   },
   {
    "duration": 4,
    "start_time": "2022-05-04T06:57:58.029Z"
   },
   {
    "duration": 5,
    "start_time": "2022-05-04T06:58:05.779Z"
   },
   {
    "duration": 208,
    "start_time": "2022-05-04T06:58:38.507Z"
   },
   {
    "duration": 289,
    "start_time": "2022-05-04T06:59:20.832Z"
   },
   {
    "duration": 125,
    "start_time": "2022-05-04T06:59:47.412Z"
   },
   {
    "duration": 252,
    "start_time": "2022-05-04T07:00:01.150Z"
   },
   {
    "duration": 240,
    "start_time": "2022-05-04T07:00:13.845Z"
   },
   {
    "duration": 234,
    "start_time": "2022-05-04T07:00:22.841Z"
   },
   {
    "duration": 227,
    "start_time": "2022-05-04T07:00:43.154Z"
   },
   {
    "duration": 11,
    "start_time": "2022-05-04T07:04:08.039Z"
   },
   {
    "duration": 345,
    "start_time": "2022-05-04T07:04:16.070Z"
   },
   {
    "duration": 261,
    "start_time": "2022-05-04T07:11:40.224Z"
   },
   {
    "duration": 415,
    "start_time": "2022-05-04T07:14:51.800Z"
   },
   {
    "duration": 951,
    "start_time": "2022-05-04T07:19:36.902Z"
   },
   {
    "duration": 1045,
    "start_time": "2022-05-04T07:19:58.144Z"
   },
   {
    "duration": 150,
    "start_time": "2022-05-04T07:20:57.260Z"
   },
   {
    "duration": 1054,
    "start_time": "2022-05-04T07:22:13.283Z"
   },
   {
    "duration": 258,
    "start_time": "2022-05-04T07:33:57.638Z"
   },
   {
    "duration": 9,
    "start_time": "2022-05-04T07:39:32.763Z"
   },
   {
    "duration": 2900,
    "start_time": "2022-05-04T07:39:46.192Z"
   },
   {
    "duration": 7,
    "start_time": "2022-05-04T07:39:53.512Z"
   },
   {
    "duration": 8,
    "start_time": "2022-05-04T07:40:04.594Z"
   },
   {
    "duration": 7,
    "start_time": "2022-05-04T07:40:21.740Z"
   },
   {
    "duration": 4423,
    "start_time": "2022-05-04T07:40:40.070Z"
   },
   {
    "duration": 8,
    "start_time": "2022-05-04T07:40:45.358Z"
   },
   {
    "duration": 7,
    "start_time": "2022-05-04T07:40:52.358Z"
   },
   {
    "duration": 10,
    "start_time": "2022-05-04T08:02:09.541Z"
   },
   {
    "duration": 12,
    "start_time": "2022-05-04T08:09:47.981Z"
   },
   {
    "duration": 11,
    "start_time": "2022-05-04T08:15:51.712Z"
   },
   {
    "duration": 3,
    "start_time": "2022-05-04T09:30:13.787Z"
   },
   {
    "duration": 76,
    "start_time": "2022-05-04T09:30:13.792Z"
   },
   {
    "duration": 17,
    "start_time": "2022-05-04T09:30:13.870Z"
   },
   {
    "duration": 19,
    "start_time": "2022-05-04T09:30:13.888Z"
   },
   {
    "duration": 13,
    "start_time": "2022-05-04T09:30:13.910Z"
   },
   {
    "duration": 19,
    "start_time": "2022-05-04T09:30:13.925Z"
   },
   {
    "duration": 17,
    "start_time": "2022-05-04T09:30:13.946Z"
   },
   {
    "duration": 17,
    "start_time": "2022-05-04T09:30:13.964Z"
   },
   {
    "duration": 11,
    "start_time": "2022-05-04T09:30:13.999Z"
   },
   {
    "duration": 18,
    "start_time": "2022-05-04T09:30:14.012Z"
   },
   {
    "duration": 5,
    "start_time": "2022-05-04T09:30:14.033Z"
   },
   {
    "duration": 7,
    "start_time": "2022-05-04T09:30:14.040Z"
   },
   {
    "duration": 8,
    "start_time": "2022-05-04T09:30:14.049Z"
   },
   {
    "duration": 7,
    "start_time": "2022-05-04T09:30:14.059Z"
   },
   {
    "duration": 8,
    "start_time": "2022-05-04T09:30:14.068Z"
   },
   {
    "duration": 9,
    "start_time": "2022-05-04T09:30:14.100Z"
   },
   {
    "duration": 16,
    "start_time": "2022-05-04T09:30:14.110Z"
   },
   {
    "duration": 11,
    "start_time": "2022-05-04T09:30:14.128Z"
   },
   {
    "duration": 6,
    "start_time": "2022-05-04T09:30:14.140Z"
   },
   {
    "duration": 5,
    "start_time": "2022-05-04T09:30:14.148Z"
   },
   {
    "duration": 7,
    "start_time": "2022-05-04T09:30:14.155Z"
   },
   {
    "duration": 7,
    "start_time": "2022-05-04T09:30:14.164Z"
   },
   {
    "duration": 36,
    "start_time": "2022-05-04T09:30:14.172Z"
   },
   {
    "duration": 13,
    "start_time": "2022-05-04T09:30:14.211Z"
   },
   {
    "duration": 9,
    "start_time": "2022-05-04T09:30:14.226Z"
   },
   {
    "duration": 8,
    "start_time": "2022-05-04T09:30:14.236Z"
   },
   {
    "duration": 7,
    "start_time": "2022-05-04T09:30:14.246Z"
   },
   {
    "duration": 8,
    "start_time": "2022-05-04T09:30:14.255Z"
   },
   {
    "duration": 34,
    "start_time": "2022-05-04T09:30:14.267Z"
   },
   {
    "duration": 6,
    "start_time": "2022-05-04T09:30:14.303Z"
   },
   {
    "duration": 32,
    "start_time": "2022-05-04T09:30:14.310Z"
   },
   {
    "duration": 16,
    "start_time": "2022-05-04T09:30:14.343Z"
   },
   {
    "duration": 184,
    "start_time": "2022-05-04T09:30:14.360Z"
   },
   {
    "duration": 12,
    "start_time": "2022-05-04T09:30:14.546Z"
   },
   {
    "duration": 3,
    "start_time": "2022-05-04T09:30:14.560Z"
   },
   {
    "duration": 43,
    "start_time": "2022-05-04T09:30:14.565Z"
   },
   {
    "duration": 1160,
    "start_time": "2022-05-04T09:30:14.610Z"
   },
   {
    "duration": 9,
    "start_time": "2022-05-04T09:30:15.771Z"
   },
   {
    "duration": 23,
    "start_time": "2022-05-04T09:30:15.782Z"
   },
   {
    "duration": 304,
    "start_time": "2022-05-04T09:30:15.807Z"
   },
   {
    "duration": 25,
    "start_time": "2022-05-04T09:30:16.115Z"
   },
   {
    "duration": 203,
    "start_time": "2022-05-04T09:30:16.142Z"
   },
   {
    "duration": 320,
    "start_time": "2022-05-04T09:30:16.347Z"
   },
   {
    "duration": 12,
    "start_time": "2022-05-04T09:30:16.668Z"
   },
   {
    "duration": 27,
    "start_time": "2022-05-04T09:30:16.681Z"
   },
   {
    "duration": 1753,
    "start_time": "2022-05-04T09:30:16.711Z"
   },
   {
    "duration": 1958,
    "start_time": "2022-05-04T09:32:07.151Z"
   },
   {
    "duration": 2255,
    "start_time": "2022-05-04T09:32:23.656Z"
   },
   {
    "duration": 257,
    "start_time": "2022-05-04T09:34:30.037Z"
   },
   {
    "duration": 15,
    "start_time": "2022-05-04T09:35:13.580Z"
   },
   {
    "duration": 20,
    "start_time": "2022-05-04T09:35:59.358Z"
   },
   {
    "duration": 1805,
    "start_time": "2022-05-04T09:38:14.755Z"
   },
   {
    "duration": 1487,
    "start_time": "2022-05-04T09:42:57.057Z"
   },
   {
    "duration": 4217,
    "start_time": "2022-05-04T09:53:26.728Z"
   },
   {
    "duration": 150,
    "start_time": "2022-05-04T09:53:43.123Z"
   },
   {
    "duration": 1486,
    "start_time": "2022-05-04T09:55:20.188Z"
   },
   {
    "duration": 198,
    "start_time": "2022-05-04T09:59:34.997Z"
   },
   {
    "duration": 1691,
    "start_time": "2022-05-04T09:59:42.766Z"
   },
   {
    "duration": 1704,
    "start_time": "2022-05-04T09:59:56.368Z"
   },
   {
    "duration": 1636,
    "start_time": "2022-05-04T10:00:01.274Z"
   },
   {
    "duration": 1758,
    "start_time": "2022-05-04T10:00:08.421Z"
   },
   {
    "duration": 18,
    "start_time": "2022-05-04T10:59:54.619Z"
   },
   {
    "duration": 3645,
    "start_time": "2022-05-04T11:00:20.618Z"
   },
   {
    "duration": 2598,
    "start_time": "2022-05-04T11:01:44.925Z"
   },
   {
    "duration": 179,
    "start_time": "2022-05-04T11:13:45.592Z"
   },
   {
    "duration": 10,
    "start_time": "2022-05-04T11:14:22.379Z"
   },
   {
    "duration": 64735,
    "start_time": "2022-05-04T11:15:35.271Z"
   },
   {
    "duration": 0,
    "start_time": "2022-05-04T11:19:20.204Z"
   },
   {
    "duration": 2,
    "start_time": "2022-05-04T11:19:27.825Z"
   },
   {
    "duration": 47,
    "start_time": "2022-05-04T11:19:27.831Z"
   },
   {
    "duration": 12,
    "start_time": "2022-05-04T11:19:27.880Z"
   },
   {
    "duration": 13,
    "start_time": "2022-05-04T11:19:27.894Z"
   },
   {
    "duration": 2,
    "start_time": "2022-05-04T11:19:27.909Z"
   },
   {
    "duration": 9,
    "start_time": "2022-05-04T11:19:27.913Z"
   },
   {
    "duration": 10,
    "start_time": "2022-05-04T11:19:27.924Z"
   },
   {
    "duration": 12,
    "start_time": "2022-05-04T11:19:27.935Z"
   },
   {
    "duration": 9,
    "start_time": "2022-05-04T11:19:27.948Z"
   },
   {
    "duration": 9,
    "start_time": "2022-05-04T11:19:27.958Z"
   },
   {
    "duration": 31,
    "start_time": "2022-05-04T11:19:27.969Z"
   },
   {
    "duration": 4,
    "start_time": "2022-05-04T11:19:28.002Z"
   },
   {
    "duration": 8,
    "start_time": "2022-05-04T11:19:28.008Z"
   },
   {
    "duration": 7,
    "start_time": "2022-05-04T11:19:28.018Z"
   },
   {
    "duration": 7,
    "start_time": "2022-05-04T11:19:28.026Z"
   },
   {
    "duration": 6,
    "start_time": "2022-05-04T11:19:28.035Z"
   },
   {
    "duration": 3,
    "start_time": "2022-05-04T11:19:28.042Z"
   },
   {
    "duration": 14,
    "start_time": "2022-05-04T11:19:28.047Z"
   },
   {
    "duration": 7,
    "start_time": "2022-05-04T11:19:28.100Z"
   },
   {
    "duration": 5,
    "start_time": "2022-05-04T11:19:28.108Z"
   },
   {
    "duration": 6,
    "start_time": "2022-05-04T11:19:28.114Z"
   },
   {
    "duration": 8,
    "start_time": "2022-05-04T11:19:28.122Z"
   },
   {
    "duration": 7,
    "start_time": "2022-05-04T11:19:28.131Z"
   },
   {
    "duration": 9,
    "start_time": "2022-05-04T11:19:28.139Z"
   },
   {
    "duration": 7,
    "start_time": "2022-05-04T11:19:28.149Z"
   },
   {
    "duration": 8,
    "start_time": "2022-05-04T11:19:28.157Z"
   },
   {
    "duration": 36,
    "start_time": "2022-05-04T11:19:28.166Z"
   },
   {
    "duration": 8,
    "start_time": "2022-05-04T11:19:28.203Z"
   },
   {
    "duration": 5,
    "start_time": "2022-05-04T11:19:28.214Z"
   },
   {
    "duration": 5,
    "start_time": "2022-05-04T11:19:28.220Z"
   },
   {
    "duration": 17,
    "start_time": "2022-05-04T11:19:28.226Z"
   },
   {
    "duration": 14,
    "start_time": "2022-05-04T11:19:28.244Z"
   },
   {
    "duration": 190,
    "start_time": "2022-05-04T11:19:28.260Z"
   },
   {
    "duration": 11,
    "start_time": "2022-05-04T11:19:28.452Z"
   },
   {
    "duration": 4,
    "start_time": "2022-05-04T11:19:28.464Z"
   },
   {
    "duration": 31,
    "start_time": "2022-05-04T11:19:28.469Z"
   },
   {
    "duration": 981,
    "start_time": "2022-05-04T11:19:28.501Z"
   },
   {
    "duration": 17,
    "start_time": "2022-05-04T11:19:29.484Z"
   },
   {
    "duration": 10,
    "start_time": "2022-05-04T11:19:29.502Z"
   },
   {
    "duration": 282,
    "start_time": "2022-05-04T11:19:29.514Z"
   },
   {
    "duration": 15,
    "start_time": "2022-05-04T11:19:29.798Z"
   },
   {
    "duration": 128,
    "start_time": "2022-05-04T11:19:29.814Z"
   },
   {
    "duration": 135,
    "start_time": "2022-05-04T11:19:29.944Z"
   },
   {
    "duration": 21,
    "start_time": "2022-05-04T11:19:30.080Z"
   },
   {
    "duration": 158851,
    "start_time": "2022-05-04T11:21:10.576Z"
   },
   {
    "duration": 314,
    "start_time": "2022-05-04T11:24:34.015Z"
   },
   {
    "duration": 315,
    "start_time": "2022-05-04T11:32:58.449Z"
   },
   {
    "duration": 4,
    "start_time": "2022-05-04T11:33:20.545Z"
   },
   {
    "duration": 309,
    "start_time": "2022-05-04T11:33:52.239Z"
   },
   {
    "duration": 313,
    "start_time": "2022-05-04T11:36:21.030Z"
   },
   {
    "duration": 4435,
    "start_time": "2022-05-04T11:37:46.414Z"
   },
   {
    "duration": 185,
    "start_time": "2022-05-04T11:39:18.010Z"
   },
   {
    "duration": 7433,
    "start_time": "2022-05-04T11:40:14.399Z"
   },
   {
    "duration": 1598,
    "start_time": "2022-05-04T11:40:36.452Z"
   },
   {
    "duration": 1976,
    "start_time": "2022-05-04T11:40:41.451Z"
   },
   {
    "duration": 1520,
    "start_time": "2022-05-04T11:41:01.553Z"
   },
   {
    "duration": 185,
    "start_time": "2022-05-04T11:41:17.381Z"
   },
   {
    "duration": 4960,
    "start_time": "2022-05-04T11:41:36.349Z"
   },
   {
    "duration": 378,
    "start_time": "2022-05-04T11:44:31.666Z"
   },
   {
    "duration": 377,
    "start_time": "2022-05-04T11:46:37.708Z"
   },
   {
    "duration": 4476,
    "start_time": "2022-05-04T11:54:45.624Z"
   },
   {
    "duration": 3877,
    "start_time": "2022-05-04T11:58:33.911Z"
   },
   {
    "duration": 290,
    "start_time": "2022-05-04T12:00:08.649Z"
   },
   {
    "duration": 15,
    "start_time": "2022-05-04T12:00:15.470Z"
   },
   {
    "duration": 1346,
    "start_time": "2022-05-04T12:01:43.161Z"
   },
   {
    "duration": 1729,
    "start_time": "2022-05-04T12:03:34.231Z"
   },
   {
    "duration": 1596,
    "start_time": "2022-05-04T12:05:50.017Z"
   },
   {
    "duration": 3525,
    "start_time": "2022-05-04T12:06:05.141Z"
   },
   {
    "duration": 3575,
    "start_time": "2022-05-04T12:11:00.923Z"
   },
   {
    "duration": 3,
    "start_time": "2022-05-04T12:24:43.728Z"
   },
   {
    "duration": 1677,
    "start_time": "2022-05-04T12:24:57.550Z"
   },
   {
    "duration": 1946,
    "start_time": "2022-05-04T12:26:27.024Z"
   },
   {
    "duration": 2044,
    "start_time": "2022-05-04T12:26:56.134Z"
   },
   {
    "duration": 1648,
    "start_time": "2022-05-04T12:27:23.199Z"
   },
   {
    "duration": 1667,
    "start_time": "2022-05-04T12:29:08.208Z"
   },
   {
    "duration": 6,
    "start_time": "2022-05-04T12:38:34.327Z"
   },
   {
    "duration": 13,
    "start_time": "2022-05-04T12:38:38.715Z"
   },
   {
    "duration": 1960,
    "start_time": "2022-05-04T12:39:20.042Z"
   },
   {
    "duration": 13,
    "start_time": "2022-05-04T12:40:31.385Z"
   },
   {
    "duration": 1758,
    "start_time": "2022-05-04T12:41:07.720Z"
   },
   {
    "duration": 2686,
    "start_time": "2022-05-04T12:44:15.334Z"
   },
   {
    "duration": 281,
    "start_time": "2022-05-04T12:44:54.110Z"
   },
   {
    "duration": 317,
    "start_time": "2022-05-04T12:45:25.452Z"
   },
   {
    "duration": 1768,
    "start_time": "2022-05-04T12:52:08.032Z"
   },
   {
    "duration": 3843,
    "start_time": "2022-05-04T12:52:13.427Z"
   },
   {
    "duration": 2781,
    "start_time": "2022-05-04T12:54:02.667Z"
   },
   {
    "duration": 2603,
    "start_time": "2022-05-04T12:54:11.611Z"
   },
   {
    "duration": 218,
    "start_time": "2022-05-04T13:03:13.494Z"
   },
   {
    "duration": 2147,
    "start_time": "2022-05-04T13:03:27.765Z"
   },
   {
    "duration": 2057,
    "start_time": "2022-05-04T13:03:58.165Z"
   },
   {
    "duration": 1918,
    "start_time": "2022-05-04T16:15:49.120Z"
   },
   {
    "duration": 57,
    "start_time": "2022-05-04T16:15:51.041Z"
   },
   {
    "duration": 25,
    "start_time": "2022-05-04T16:15:51.100Z"
   },
   {
    "duration": 19,
    "start_time": "2022-05-04T16:15:51.128Z"
   },
   {
    "duration": 5,
    "start_time": "2022-05-04T16:15:51.149Z"
   },
   {
    "duration": 44,
    "start_time": "2022-05-04T16:15:51.157Z"
   },
   {
    "duration": 44,
    "start_time": "2022-05-04T16:15:51.203Z"
   },
   {
    "duration": 26,
    "start_time": "2022-05-04T16:15:51.250Z"
   },
   {
    "duration": 31,
    "start_time": "2022-05-04T16:15:51.278Z"
   },
   {
    "duration": 9,
    "start_time": "2022-05-04T16:15:51.312Z"
   },
   {
    "duration": 9,
    "start_time": "2022-05-04T16:15:51.323Z"
   },
   {
    "duration": 7,
    "start_time": "2022-05-04T16:15:51.335Z"
   },
   {
    "duration": 13,
    "start_time": "2022-05-04T16:15:51.344Z"
   },
   {
    "duration": 43,
    "start_time": "2022-05-04T16:15:51.359Z"
   },
   {
    "duration": 14,
    "start_time": "2022-05-04T16:15:51.404Z"
   },
   {
    "duration": 17,
    "start_time": "2022-05-04T16:15:51.420Z"
   },
   {
    "duration": 12,
    "start_time": "2022-05-04T16:15:51.439Z"
   },
   {
    "duration": 20,
    "start_time": "2022-05-04T16:15:51.454Z"
   },
   {
    "duration": 10,
    "start_time": "2022-05-04T16:15:51.491Z"
   },
   {
    "duration": 7,
    "start_time": "2022-05-04T16:15:51.503Z"
   },
   {
    "duration": 8,
    "start_time": "2022-05-04T16:15:51.512Z"
   },
   {
    "duration": 12,
    "start_time": "2022-05-04T16:15:51.522Z"
   },
   {
    "duration": 13,
    "start_time": "2022-05-04T16:15:51.536Z"
   },
   {
    "duration": 50,
    "start_time": "2022-05-04T16:15:51.552Z"
   },
   {
    "duration": 10,
    "start_time": "2022-05-04T16:15:51.605Z"
   },
   {
    "duration": 13,
    "start_time": "2022-05-04T16:15:51.617Z"
   },
   {
    "duration": 12,
    "start_time": "2022-05-04T16:15:51.632Z"
   },
   {
    "duration": 45,
    "start_time": "2022-05-04T16:15:51.649Z"
   },
   {
    "duration": 7,
    "start_time": "2022-05-04T16:15:51.697Z"
   },
   {
    "duration": 8,
    "start_time": "2022-05-04T16:15:51.706Z"
   },
   {
    "duration": 25,
    "start_time": "2022-05-04T16:15:51.716Z"
   },
   {
    "duration": 60,
    "start_time": "2022-05-04T16:15:51.743Z"
   },
   {
    "duration": 296,
    "start_time": "2022-05-04T16:15:51.806Z"
   },
   {
    "duration": 18,
    "start_time": "2022-05-04T16:15:52.105Z"
   },
   {
    "duration": 7,
    "start_time": "2022-05-04T16:15:52.126Z"
   },
   {
    "duration": 61,
    "start_time": "2022-05-04T16:15:52.136Z"
   },
   {
    "duration": 1755,
    "start_time": "2022-05-04T16:15:52.199Z"
   },
   {
    "duration": 11,
    "start_time": "2022-05-04T16:15:53.957Z"
   },
   {
    "duration": 25,
    "start_time": "2022-05-04T16:15:53.970Z"
   },
   {
    "duration": 562,
    "start_time": "2022-05-04T16:15:53.998Z"
   },
   {
    "duration": 45,
    "start_time": "2022-05-04T16:15:54.562Z"
   },
   {
    "duration": 268,
    "start_time": "2022-05-04T16:15:54.609Z"
   },
   {
    "duration": 267,
    "start_time": "2022-05-04T16:15:54.880Z"
   },
   {
    "duration": 17,
    "start_time": "2022-05-04T16:15:55.150Z"
   },
   {
    "duration": 3255,
    "start_time": "2022-05-04T16:15:55.169Z"
   },
   {
    "duration": 3482,
    "start_time": "2022-05-04T16:15:58.426Z"
   },
   {
    "duration": 4,
    "start_time": "2022-05-04T16:17:33.996Z"
   },
   {
    "duration": 3401,
    "start_time": "2022-05-04T16:17:45.140Z"
   },
   {
    "duration": 3364,
    "start_time": "2022-05-04T16:17:54.383Z"
   },
   {
    "duration": 3216,
    "start_time": "2022-05-04T16:18:09.147Z"
   },
   {
    "duration": 16,
    "start_time": "2022-05-04T16:19:51.936Z"
   },
   {
    "duration": 163,
    "start_time": "2022-05-04T16:20:10.905Z"
   },
   {
    "duration": 11,
    "start_time": "2022-05-04T16:20:59.751Z"
   },
   {
    "duration": 26,
    "start_time": "2022-05-04T16:21:08.776Z"
   },
   {
    "duration": 33,
    "start_time": "2022-05-04T16:22:12.898Z"
   },
   {
    "duration": 162,
    "start_time": "2022-05-04T16:23:01.296Z"
   },
   {
    "duration": 30,
    "start_time": "2022-05-04T16:23:08.436Z"
   },
   {
    "duration": 28,
    "start_time": "2022-05-04T16:23:58.713Z"
   },
   {
    "duration": 6,
    "start_time": "2022-05-04T16:24:29.839Z"
   },
   {
    "duration": 14,
    "start_time": "2022-05-04T16:24:50.850Z"
   },
   {
    "duration": 31,
    "start_time": "2022-05-04T16:26:05.310Z"
   },
   {
    "duration": 29,
    "start_time": "2022-05-04T16:26:44.125Z"
   },
   {
    "duration": 3211,
    "start_time": "2022-05-04T16:27:08.240Z"
   },
   {
    "duration": 4,
    "start_time": "2022-05-04T17:06:30.066Z"
   },
   {
    "duration": 1502,
    "start_time": "2022-05-04T17:06:30.074Z"
   },
   {
    "duration": 24,
    "start_time": "2022-05-04T17:06:31.579Z"
   },
   {
    "duration": 79,
    "start_time": "2022-05-04T17:06:31.606Z"
   },
   {
    "duration": 3,
    "start_time": "2022-05-04T17:06:31.689Z"
   },
   {
    "duration": 18,
    "start_time": "2022-05-04T17:06:31.694Z"
   },
   {
    "duration": 16,
    "start_time": "2022-05-04T17:06:31.715Z"
   },
   {
    "duration": 50,
    "start_time": "2022-05-04T17:06:31.734Z"
   },
   {
    "duration": 15,
    "start_time": "2022-05-04T17:06:31.786Z"
   },
   {
    "duration": 9,
    "start_time": "2022-05-04T17:06:31.803Z"
   },
   {
    "duration": 10,
    "start_time": "2022-05-04T17:06:31.818Z"
   },
   {
    "duration": 12,
    "start_time": "2022-05-04T17:06:31.830Z"
   },
   {
    "duration": 46,
    "start_time": "2022-05-04T17:06:31.844Z"
   },
   {
    "duration": 19,
    "start_time": "2022-05-04T17:06:31.892Z"
   },
   {
    "duration": 14,
    "start_time": "2022-05-04T17:06:31.913Z"
   },
   {
    "duration": 11,
    "start_time": "2022-05-04T17:06:31.929Z"
   },
   {
    "duration": 5,
    "start_time": "2022-05-04T17:06:31.942Z"
   },
   {
    "duration": 22,
    "start_time": "2022-05-04T17:06:31.982Z"
   },
   {
    "duration": 11,
    "start_time": "2022-05-04T17:06:32.007Z"
   },
   {
    "duration": 7,
    "start_time": "2022-05-04T17:06:32.020Z"
   },
   {
    "duration": 19,
    "start_time": "2022-05-04T17:06:32.029Z"
   },
   {
    "duration": 37,
    "start_time": "2022-05-04T17:06:32.050Z"
   },
   {
    "duration": 13,
    "start_time": "2022-05-04T17:06:32.090Z"
   },
   {
    "duration": 16,
    "start_time": "2022-05-04T17:06:32.105Z"
   },
   {
    "duration": 11,
    "start_time": "2022-05-04T17:06:32.123Z"
   },
   {
    "duration": 53,
    "start_time": "2022-05-04T17:06:32.136Z"
   },
   {
    "duration": 17,
    "start_time": "2022-05-04T17:06:32.192Z"
   },
   {
    "duration": 14,
    "start_time": "2022-05-04T17:06:32.211Z"
   },
   {
    "duration": 7,
    "start_time": "2022-05-04T17:06:32.232Z"
   },
   {
    "duration": 46,
    "start_time": "2022-05-04T17:06:32.241Z"
   },
   {
    "duration": 33,
    "start_time": "2022-05-04T17:06:32.290Z"
   },
   {
    "duration": 24,
    "start_time": "2022-05-04T17:06:32.326Z"
   },
   {
    "duration": 326,
    "start_time": "2022-05-04T17:06:32.381Z"
   },
   {
    "duration": 21,
    "start_time": "2022-05-04T17:06:32.710Z"
   },
   {
    "duration": 6,
    "start_time": "2022-05-04T17:06:32.734Z"
   },
   {
    "duration": 60,
    "start_time": "2022-05-04T17:06:32.742Z"
   },
   {
    "duration": 1677,
    "start_time": "2022-05-04T17:06:32.805Z"
   },
   {
    "duration": 12,
    "start_time": "2022-05-04T17:06:34.484Z"
   },
   {
    "duration": 21,
    "start_time": "2022-05-04T17:06:34.498Z"
   },
   {
    "duration": 540,
    "start_time": "2022-05-04T17:06:34.521Z"
   },
   {
    "duration": 33,
    "start_time": "2022-05-04T17:06:35.063Z"
   },
   {
    "duration": 240,
    "start_time": "2022-05-04T17:06:35.098Z"
   },
   {
    "duration": 261,
    "start_time": "2022-05-04T17:06:35.340Z"
   },
   {
    "duration": 16,
    "start_time": "2022-05-04T17:06:35.603Z"
   },
   {
    "duration": 3430,
    "start_time": "2022-05-04T17:06:35.621Z"
   },
   {
    "duration": 3053,
    "start_time": "2022-05-04T17:06:39.054Z"
   },
   {
    "duration": 2955,
    "start_time": "2022-05-04T17:06:42.109Z"
   },
   {
    "duration": 1286,
    "start_time": "2022-05-04T17:06:45.066Z"
   },
   {
    "duration": 38,
    "start_time": "2022-05-04T17:06:46.354Z"
   },
   {
    "duration": 29,
    "start_time": "2022-05-04T17:06:46.394Z"
   },
   {
    "duration": 19,
    "start_time": "2022-05-04T17:06:46.426Z"
   },
   {
    "duration": 54,
    "start_time": "2022-05-04T17:06:46.448Z"
   },
   {
    "duration": 17,
    "start_time": "2022-05-04T17:06:46.505Z"
   },
   {
    "duration": 58,
    "start_time": "2022-05-04T17:06:46.525Z"
   },
   {
    "duration": 18,
    "start_time": "2022-05-04T17:06:46.585Z"
   },
   {
    "duration": 239,
    "start_time": "2022-05-04T17:06:46.605Z"
   },
   {
    "duration": 239,
    "start_time": "2022-05-04T17:06:46.846Z"
   },
   {
    "duration": 259,
    "start_time": "2022-05-04T17:06:47.087Z"
   },
   {
    "duration": 9,
    "start_time": "2022-05-04T17:06:47.348Z"
   },
   {
    "duration": 26,
    "start_time": "2022-05-04T17:06:47.359Z"
   },
   {
    "duration": 9,
    "start_time": "2022-05-04T17:06:47.388Z"
   },
   {
    "duration": 737,
    "start_time": "2022-05-04T17:06:47.400Z"
   },
   {
    "duration": 42,
    "start_time": "2022-05-04T17:06:48.139Z"
   },
   {
    "duration": 365,
    "start_time": "2022-05-04T17:06:48.183Z"
   },
   {
    "duration": 8,
    "start_time": "2022-05-04T17:06:48.551Z"
   },
   {
    "duration": 23,
    "start_time": "2022-05-04T17:06:48.562Z"
   },
   {
    "duration": 13,
    "start_time": "2022-05-04T17:06:48.587Z"
   },
   {
    "duration": 10,
    "start_time": "2022-05-04T17:06:48.602Z"
   },
   {
    "duration": 17,
    "start_time": "2022-05-04T17:06:48.614Z"
   },
   {
    "duration": 10,
    "start_time": "2022-05-04T17:06:48.633Z"
   }
  ],
  "kernelspec": {
   "display_name": "Python 3 (ipykernel)",
   "language": "python",
   "name": "python3"
  },
  "language_info": {
   "codemirror_mode": {
    "name": "ipython",
    "version": 3
   },
   "file_extension": ".py",
   "mimetype": "text/x-python",
   "name": "python",
   "nbconvert_exporter": "python",
   "pygments_lexer": "ipython3",
   "version": "3.9.12"
  },
  "toc": {
   "base_numbering": 1,
   "nav_menu": {},
   "number_sections": true,
   "sideBar": true,
   "skip_h1_title": true,
   "title_cell": "Table of Contents",
   "title_sidebar": "Contents",
   "toc_cell": true,
   "toc_position": {
    "height": "calc(100% - 180px)",
    "left": "10px",
    "top": "150px",
    "width": "165px"
   },
   "toc_section_display": true,
   "toc_window_display": true
  }
 },
 "nbformat": 4,
 "nbformat_minor": 5
}
