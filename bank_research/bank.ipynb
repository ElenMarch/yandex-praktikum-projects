{
 "cells": [
  {
   "cell_type": "markdown",
   "id": "fce49d48",
   "metadata": {},
   "source": [
    "# Исследование надежности заемщиков."
   ]
  },
  {
   "cell_type": "markdown",
   "id": "d3813df3",
   "metadata": {},
   "source": [
    "Необходимо разобраться, влияет ли семейное положение и количество детей клиента на факт погашения кредита в срок. Результаты исследования будут учтены при построении модели кредитного скоринга — специальной системы, которая оценивает способность потенциального заёмщика вернуть кредит банку.\n",
    "\n",
    "**Цель исследования** \n",
    "\n",
    "Проверим следующие гипотезы:\n",
    "\n",
    "  1. Есть ли зависимость между количеством детей и возвратом кредита в срок?\n",
    "  2. Есть ли зависимость между семейным положением и возвратом кредита в срок?\n",
    "  3. Есть ли зависимость между уровнем дохода и возвратом кредита в срок?\n",
    "  4. Как разные цели кредита влияют на его возврат в срок?\n",
    "\n",
    "**Ход исследования**\n",
    "\n",
    "Исследование пройдёт в три этапа:\n",
    "\n",
    "1. Обзор данных.\n",
    "2. Предобработка данных.\n",
    "3.  Проверка гипотез.\n"
   ]
  },
  {
   "cell_type": "markdown",
   "id": "ba7ec39c",
   "metadata": {},
   "source": [
    "## Обзор данных"
   ]
  },
  {
   "cell_type": "code",
   "execution_count": 596,
   "id": "014533ff",
   "metadata": {},
   "outputs": [],
   "source": [
    "import pandas as pd\n",
    "import numpy as np"
   ]
  },
  {
   "cell_type": "code",
   "execution_count": 597,
   "id": "1d8f167b",
   "metadata": {},
   "outputs": [
    {
     "data": {
      "text/html": [
       "<div>\n",
       "<style scoped>\n",
       "    .dataframe tbody tr th:only-of-type {\n",
       "        vertical-align: middle;\n",
       "    }\n",
       "\n",
       "    .dataframe tbody tr th {\n",
       "        vertical-align: top;\n",
       "    }\n",
       "\n",
       "    .dataframe thead th {\n",
       "        text-align: right;\n",
       "    }\n",
       "</style>\n",
       "<table border=\"1\" class=\"dataframe\">\n",
       "  <thead>\n",
       "    <tr style=\"text-align: right;\">\n",
       "      <th></th>\n",
       "      <th>children</th>\n",
       "      <th>days_employed</th>\n",
       "      <th>dob_years</th>\n",
       "      <th>education</th>\n",
       "      <th>education_id</th>\n",
       "      <th>family_status</th>\n",
       "      <th>family_status_id</th>\n",
       "      <th>gender</th>\n",
       "      <th>income_type</th>\n",
       "      <th>debt</th>\n",
       "      <th>total_income</th>\n",
       "      <th>purpose</th>\n",
       "    </tr>\n",
       "  </thead>\n",
       "  <tbody>\n",
       "    <tr>\n",
       "      <th>0</th>\n",
       "      <td>1</td>\n",
       "      <td>-8437.673028</td>\n",
       "      <td>42</td>\n",
       "      <td>высшее</td>\n",
       "      <td>0</td>\n",
       "      <td>женат / замужем</td>\n",
       "      <td>0</td>\n",
       "      <td>F</td>\n",
       "      <td>сотрудник</td>\n",
       "      <td>0</td>\n",
       "      <td>253875.639453</td>\n",
       "      <td>покупка жилья</td>\n",
       "    </tr>\n",
       "    <tr>\n",
       "      <th>1</th>\n",
       "      <td>1</td>\n",
       "      <td>-4024.803754</td>\n",
       "      <td>36</td>\n",
       "      <td>среднее</td>\n",
       "      <td>1</td>\n",
       "      <td>женат / замужем</td>\n",
       "      <td>0</td>\n",
       "      <td>F</td>\n",
       "      <td>сотрудник</td>\n",
       "      <td>0</td>\n",
       "      <td>112080.014102</td>\n",
       "      <td>приобретение автомобиля</td>\n",
       "    </tr>\n",
       "    <tr>\n",
       "      <th>2</th>\n",
       "      <td>0</td>\n",
       "      <td>-5623.422610</td>\n",
       "      <td>33</td>\n",
       "      <td>Среднее</td>\n",
       "      <td>1</td>\n",
       "      <td>женат / замужем</td>\n",
       "      <td>0</td>\n",
       "      <td>M</td>\n",
       "      <td>сотрудник</td>\n",
       "      <td>0</td>\n",
       "      <td>145885.952297</td>\n",
       "      <td>покупка жилья</td>\n",
       "    </tr>\n",
       "    <tr>\n",
       "      <th>3</th>\n",
       "      <td>3</td>\n",
       "      <td>-4124.747207</td>\n",
       "      <td>32</td>\n",
       "      <td>среднее</td>\n",
       "      <td>1</td>\n",
       "      <td>женат / замужем</td>\n",
       "      <td>0</td>\n",
       "      <td>M</td>\n",
       "      <td>сотрудник</td>\n",
       "      <td>0</td>\n",
       "      <td>267628.550329</td>\n",
       "      <td>дополнительное образование</td>\n",
       "    </tr>\n",
       "    <tr>\n",
       "      <th>4</th>\n",
       "      <td>0</td>\n",
       "      <td>340266.072047</td>\n",
       "      <td>53</td>\n",
       "      <td>среднее</td>\n",
       "      <td>1</td>\n",
       "      <td>гражданский брак</td>\n",
       "      <td>1</td>\n",
       "      <td>F</td>\n",
       "      <td>пенсионер</td>\n",
       "      <td>0</td>\n",
       "      <td>158616.077870</td>\n",
       "      <td>сыграть свадьбу</td>\n",
       "    </tr>\n",
       "    <tr>\n",
       "      <th>5</th>\n",
       "      <td>0</td>\n",
       "      <td>-926.185831</td>\n",
       "      <td>27</td>\n",
       "      <td>высшее</td>\n",
       "      <td>0</td>\n",
       "      <td>гражданский брак</td>\n",
       "      <td>1</td>\n",
       "      <td>M</td>\n",
       "      <td>компаньон</td>\n",
       "      <td>0</td>\n",
       "      <td>255763.565419</td>\n",
       "      <td>покупка жилья</td>\n",
       "    </tr>\n",
       "    <tr>\n",
       "      <th>6</th>\n",
       "      <td>0</td>\n",
       "      <td>-2879.202052</td>\n",
       "      <td>43</td>\n",
       "      <td>высшее</td>\n",
       "      <td>0</td>\n",
       "      <td>женат / замужем</td>\n",
       "      <td>0</td>\n",
       "      <td>F</td>\n",
       "      <td>компаньон</td>\n",
       "      <td>0</td>\n",
       "      <td>240525.971920</td>\n",
       "      <td>операции с жильем</td>\n",
       "    </tr>\n",
       "    <tr>\n",
       "      <th>7</th>\n",
       "      <td>0</td>\n",
       "      <td>-152.779569</td>\n",
       "      <td>50</td>\n",
       "      <td>СРЕДНЕЕ</td>\n",
       "      <td>1</td>\n",
       "      <td>женат / замужем</td>\n",
       "      <td>0</td>\n",
       "      <td>M</td>\n",
       "      <td>сотрудник</td>\n",
       "      <td>0</td>\n",
       "      <td>135823.934197</td>\n",
       "      <td>образование</td>\n",
       "    </tr>\n",
       "    <tr>\n",
       "      <th>8</th>\n",
       "      <td>2</td>\n",
       "      <td>-6929.865299</td>\n",
       "      <td>35</td>\n",
       "      <td>ВЫСШЕЕ</td>\n",
       "      <td>0</td>\n",
       "      <td>гражданский брак</td>\n",
       "      <td>1</td>\n",
       "      <td>F</td>\n",
       "      <td>сотрудник</td>\n",
       "      <td>0</td>\n",
       "      <td>95856.832424</td>\n",
       "      <td>на проведение свадьбы</td>\n",
       "    </tr>\n",
       "    <tr>\n",
       "      <th>9</th>\n",
       "      <td>0</td>\n",
       "      <td>-2188.756445</td>\n",
       "      <td>41</td>\n",
       "      <td>среднее</td>\n",
       "      <td>1</td>\n",
       "      <td>женат / замужем</td>\n",
       "      <td>0</td>\n",
       "      <td>M</td>\n",
       "      <td>сотрудник</td>\n",
       "      <td>0</td>\n",
       "      <td>144425.938277</td>\n",
       "      <td>покупка жилья для семьи</td>\n",
       "    </tr>\n",
       "  </tbody>\n",
       "</table>\n",
       "</div>"
      ],
      "text/plain": [
       "   children  days_employed  dob_years education  education_id  \\\n",
       "0         1   -8437.673028         42    высшее             0   \n",
       "1         1   -4024.803754         36   среднее             1   \n",
       "2         0   -5623.422610         33   Среднее             1   \n",
       "3         3   -4124.747207         32   среднее             1   \n",
       "4         0  340266.072047         53   среднее             1   \n",
       "5         0    -926.185831         27    высшее             0   \n",
       "6         0   -2879.202052         43    высшее             0   \n",
       "7         0    -152.779569         50   СРЕДНЕЕ             1   \n",
       "8         2   -6929.865299         35    ВЫСШЕЕ             0   \n",
       "9         0   -2188.756445         41   среднее             1   \n",
       "\n",
       "      family_status  family_status_id gender income_type  debt   total_income  \\\n",
       "0   женат / замужем                 0      F   сотрудник     0  253875.639453   \n",
       "1   женат / замужем                 0      F   сотрудник     0  112080.014102   \n",
       "2   женат / замужем                 0      M   сотрудник     0  145885.952297   \n",
       "3   женат / замужем                 0      M   сотрудник     0  267628.550329   \n",
       "4  гражданский брак                 1      F   пенсионер     0  158616.077870   \n",
       "5  гражданский брак                 1      M   компаньон     0  255763.565419   \n",
       "6   женат / замужем                 0      F   компаньон     0  240525.971920   \n",
       "7   женат / замужем                 0      M   сотрудник     0  135823.934197   \n",
       "8  гражданский брак                 1      F   сотрудник     0   95856.832424   \n",
       "9   женат / замужем                 0      M   сотрудник     0  144425.938277   \n",
       "\n",
       "                      purpose  \n",
       "0               покупка жилья  \n",
       "1     приобретение автомобиля  \n",
       "2               покупка жилья  \n",
       "3  дополнительное образование  \n",
       "4             сыграть свадьбу  \n",
       "5               покупка жилья  \n",
       "6           операции с жильем  \n",
       "7                 образование  \n",
       "8       на проведение свадьбы  \n",
       "9     покупка жилья для семьи  "
      ]
     },
     "execution_count": 597,
     "metadata": {},
     "output_type": "execute_result"
    }
   ],
   "source": [
    "bank = pd.read_csv('/datasets/data.csv')\n",
    "bank.head()"
   ]
  },
  {
   "cell_type": "code",
   "execution_count": 598,
   "id": "2529999e",
   "metadata": {},
   "outputs": [
    {
     "name": "stdout",
     "output_type": "stream",
     "text": [
      "<class 'pandas.core.frame.DataFrame'>\n",
      "RangeIndex: 21525 entries, 0 to 21524\n",
      "Data columns (total 12 columns):\n",
      " #   Column            Non-Null Count  Dtype  \n",
      "---  ------            --------------  -----  \n",
      " 0   children          21525 non-null  int64  \n",
      " 1   days_employed     19351 non-null  float64\n",
      " 2   dob_years         21525 non-null  int64  \n",
      " 3   education         21525 non-null  object \n",
      " 4   education_id      21525 non-null  int64  \n",
      " 5   family_status     21525 non-null  object \n",
      " 6   family_status_id  21525 non-null  int64  \n",
      " 7   gender            21525 non-null  object \n",
      " 8   income_type       21525 non-null  object \n",
      " 9   debt              21525 non-null  int64  \n",
      " 10  total_income      19351 non-null  float64\n",
      " 11  purpose           21525 non-null  object \n",
      "dtypes: float64(2), int64(5), object(5)\n",
      "memory usage: 2.0+ MB\n"
     ]
    }
   ],
   "source": [
    "bank.info()"
   ]
  },
  {
   "cell_type": "markdown",
   "id": "5339db1d",
   "metadata": {},
   "source": [
    "Входные данные от банка — статистика о платёжеспособности клиентов.\n",
    "\n",
    "Итак, в таблице двенадцать столбцов. Тип данных в столбцах — object, int, float.\n",
    "\n",
    "Согласно документации к данным:\n",
    "\n",
    "- `children` — количество детей в семье\n",
    "- `days_employed` — общий трудовой стаж в днях\n",
    "- `dob_years` — возраст клиента в годах\n",
    "- `education` — уровень образования клиента\n",
    "- `education_id` — идентификатор уровня образования\n",
    "- `family_status` — семейное положение\n",
    "- `family_status_id` — идентификатор семейного положения\n",
    "- `gender` — пол клиента\n",
    "- `income_type` — тип занятости\n",
    "- `debt` — имел ли задолженность по возврату кредитов\n",
    "- `total_income` — ежемесячный доход\n",
    "- `purpose` — цель получения кредита\n",
    "\n",
    "В названиях колонок нарушений стиля нет. Количество значений в столбцах различается. \n",
    "\n",
    "Значит, в данных есть пропущенные значения.\n"
   ]
  },
  {
   "cell_type": "markdown",
   "id": "e4da64bc",
   "metadata": {},
   "source": [
    "**Выводы**\n",
    "\n",
    "В каждой строке таблицы описаны потенциальные заемщики. При этом, часть данных содержит информацию о самом заемщике, а другая - его доходы и кредитную историю.\n",
    "\n",
    "Предварительно можно утверждать, что данных достаточно для проверки гипотез. \n",
    "Поскольку в данных есть пропуски, займемся устранением данной проблемы в первую очередь. "
   ]
  },
  {
   "cell_type": "markdown",
   "id": "f1931767",
   "metadata": {},
   "source": [
    "<div class=\"alert alert-success\">\n",
    "<font size=\"5\"><b>Комментарий ревьюера</b></font>\n",
    "\n",
    "Успех: Подумай также о возможных причинах появления пропусков, а также о том, являются ли они случайными или нет. Можно высказать предварительные варианты их обработки. \n",
    "\n",
    "Первый взгляд на таблицу выполнен.\n",
    "\n",
    "</div>"
   ]
  },
  {
   "cell_type": "markdown",
   "id": "38deff2b",
   "metadata": {},
   "source": [
    "## Предобработка данных"
   ]
  },
  {
   "cell_type": "markdown",
   "id": "0db32449",
   "metadata": {},
   "source": [
    "### Заполнение пропусков"
   ]
  },
  {
   "cell_type": "markdown",
   "id": "b5082427",
   "metadata": {},
   "source": [
    "Посчитаем сколько пропущенных значений в таблице:"
   ]
  },
  {
   "cell_type": "code",
   "execution_count": 599,
   "id": "3df40b53",
   "metadata": {},
   "outputs": [
    {
     "data": {
      "text/plain": [
       "children               0\n",
       "days_employed       2174\n",
       "dob_years              0\n",
       "education              0\n",
       "education_id           0\n",
       "family_status          0\n",
       "family_status_id       0\n",
       "gender                 0\n",
       "income_type            0\n",
       "debt                   0\n",
       "total_income        2174\n",
       "purpose                0\n",
       "dtype: int64"
      ]
     },
     "execution_count": 599,
     "metadata": {},
     "output_type": "execute_result"
    }
   ],
   "source": [
    "bank.isna().sum()"
   ]
  },
  {
   "cell_type": "code",
   "execution_count": 600,
   "id": "03720d78",
   "metadata": {},
   "outputs": [
    {
     "data": {
      "text/plain": [
       "0.10099883855981417"
      ]
     },
     "execution_count": 600,
     "metadata": {},
     "output_type": "execute_result"
    }
   ],
   "source": [
    "bank['days_employed'].isna().mean()"
   ]
  },
  {
   "cell_type": "markdown",
   "id": "2f9c1e47",
   "metadata": {},
   "source": [
    "Пропущенные значения присутствуют в столбцах с количественными переменными `days_employed`, `total_income`. Их доля составляет 10% от общего количества имеющихся данных, а значит эти пропуски важно заполнить явным значением.\n",
    "\n",
    "Поскольку первый из столбцов содержит отрицательные значения, пропуски в нем необходимо заполнить медианным значением. "
   ]
  },
  {
   "cell_type": "code",
   "execution_count": 601,
   "id": "d874adac",
   "metadata": {},
   "outputs": [],
   "source": [
    "days_median = bank['days_employed'].median()\n",
    "bank['days_employed'] = bank['days_employed'].fillna(days_median)"
   ]
  },
  {
   "cell_type": "markdown",
   "id": "a54d60b6",
   "metadata": {},
   "source": [
    "Cтолбец `total_income` содержит данные о доходах. Чтобы адекватно отразить среднюю тенденцию лучше заменить пропуски медианным значением, нивелируя влияние выбросов."
   ]
  },
  {
   "cell_type": "code",
   "execution_count": 602,
   "id": "bbcbc2f3",
   "metadata": {},
   "outputs": [
    {
     "data": {
      "text/plain": [
       "20667.26379327158"
      ]
     },
     "execution_count": 602,
     "metadata": {},
     "output_type": "execute_result"
    }
   ],
   "source": [
    "bank['total_income']. min()"
   ]
  },
  {
   "cell_type": "code",
   "execution_count": 603,
   "id": "c33421b6",
   "metadata": {},
   "outputs": [
    {
     "data": {
      "text/plain": [
       "2265604.028722744"
      ]
     },
     "execution_count": 603,
     "metadata": {},
     "output_type": "execute_result"
    }
   ],
   "source": [
    "bank['total_income']. max()"
   ]
  },
  {
   "cell_type": "code",
   "execution_count": 604,
   "id": "3c5f34ea",
   "metadata": {},
   "outputs": [
    {
     "data": {
      "text/plain": [
       "145017.93753253992"
      ]
     },
     "execution_count": 604,
     "metadata": {},
     "output_type": "execute_result"
    }
   ],
   "source": [
    "income_median = bank['total_income'].median()\n",
    "income_median"
   ]
  },
  {
   "cell_type": "code",
   "execution_count": 638,
   "id": "a8f780f1",
   "metadata": {},
   "outputs": [
    {
     "data": {
      "text/plain": [
       "income_type\n",
       "безработный            2\n",
       "в декрете              1\n",
       "госслужащий         1451\n",
       "компаньон           5047\n",
       "пенсионер           3812\n",
       "предприниматель        2\n",
       "сотрудник          11015\n",
       "студент                1\n",
       "Name: total_income, dtype: int64"
      ]
     },
     "execution_count": 638,
     "metadata": {},
     "output_type": "execute_result"
    }
   ],
   "source": [
    "# группировка по типу занятости\n",
    "bank.groupby('income_type')['total_income'].count()"
   ]
  },
  {
   "cell_type": "code",
   "execution_count": 606,
   "id": "b2f70800",
   "metadata": {},
   "outputs": [
    {
     "name": "stdout",
     "output_type": "stream",
     "text": [
      "                       count           sum         median\n",
      "                total_income  total_income   total_income\n",
      "income_type                                              \n",
      "безработный                2  2.626795e+05  131339.751676\n",
      "в декрете                  1  5.382913e+04   53829.130729\n",
      "госслужащий             1312  2.242186e+08  150447.935283\n",
      "компаньон               4577  9.264647e+08  172357.950966\n",
      "пенсионер               3443  4.721299e+08  118514.486412\n",
      "предприниматель            1  4.991631e+05  499163.144947\n",
      "сотрудник              10014  1.616062e+09  142594.396847\n",
      "студент                    1  9.820163e+04   98201.625314\n"
     ]
    }
   ],
   "source": [
    "inc_pivot = bank.pivot_table(index= 'income_type', values = 'total_income', aggfunc = ['count', 'sum', 'median'])\n",
    "inc_pivot"
   ]
  },
  {
   "cell_type": "code",
   "execution_count": 607,
   "id": "d179ff6d",
   "metadata": {},
   "outputs": [
    {
     "data": {
      "text/plain": [
       "array([[131339.75167621],\n",
       "       [ 53829.13072906],\n",
       "       [150420.15027572],\n",
       "       [172517.41890716],\n",
       "       [118480.83740785],\n",
       "       [499163.14494709],\n",
       "       [142587.58897641],\n",
       "       [ 98201.62531401]])"
      ]
     },
     "execution_count": 607,
     "metadata": {},
     "output_type": "execute_result"
    }
   ],
   "source": [
    "incomes = incomes_pivot['median'].values\n",
    "incomes"
   ]
  },
  {
   "cell_type": "code",
   "execution_count": 608,
   "id": "ecd1af5b",
   "metadata": {},
   "outputs": [],
   "source": [
    "bank['total_income'] = bank['total_income'].fillna(0)"
   ]
  },
  {
   "cell_type": "code",
   "execution_count": 639,
   "id": "705631dd",
   "metadata": {},
   "outputs": [],
   "source": [
    "# функция замены нулевых значений на медианы, в зависимостри от типа занятости\n",
    "def for_null(row):\n",
    "    person = row['income_type']\n",
    "    money = row['total_income']\n",
    "    if money == 0:\n",
    "        for i in range(len(incomes)):\n",
    "            if person == inc_pivot.index[i]:\n",
    "                return incomes[i][0]"
   ]
  },
  {
   "cell_type": "code",
   "execution_count": 610,
   "id": "2c1e40fa",
   "metadata": {},
   "outputs": [],
   "source": [
    "bank['total_income_new'] = bank.apply(for_null, axis = 1)\n",
    "bank['total_income_new'] = bank['total_income_new'].fillna(0)"
   ]
  },
  {
   "cell_type": "code",
   "execution_count": 611,
   "id": "6b0595c5",
   "metadata": {},
   "outputs": [
    {
     "name": "stdout",
     "output_type": "stream",
     "text": [
      "150420.15027571545\n"
     ]
    }
   ],
   "source": [
    "bank['total_income'] = bank['total_income_new'] + bank['total_income']"
   ]
  },
  {
   "cell_type": "code",
   "execution_count": 612,
   "id": "5f82cf22",
   "metadata": {},
   "outputs": [
    {
     "data": {
      "text/plain": [
       "children            0\n",
       "days_employed       0\n",
       "dob_years           0\n",
       "education           0\n",
       "education_id        0\n",
       "family_status       0\n",
       "family_status_id    0\n",
       "gender              0\n",
       "income_type         0\n",
       "debt                0\n",
       "total_income        0\n",
       "purpose             0\n",
       "total_income_new    0\n",
       "dtype: int64"
      ]
     },
     "execution_count": 612,
     "metadata": {},
     "output_type": "execute_result"
    }
   ],
   "source": [
    "# проверка пропусков в данных\n",
    "bank.isna().sum()"
   ]
  },
  {
   "cell_type": "markdown",
   "id": "74f4cdde",
   "metadata": {},
   "source": [
    "Как показала проверка, пропущенные значения отсутствуют в таблице."
   ]
  },
  {
   "cell_type": "markdown",
   "id": "88b5b46d",
   "metadata": {},
   "source": [
    "### Проверка данных на аномалии и исправления."
   ]
  },
  {
   "cell_type": "markdown",
   "id": "63713e8a",
   "metadata": {},
   "source": [
    "Перед поиском дубликатов проведем проверку данных.\n",
    "\n",
    "Можно заметить, что в столбце `education` встречаются одинаковые значения, записанные в разном регистре. Вероятная причина их появления - человеческий фактор. "
   ]
  },
  {
   "cell_type": "code",
   "execution_count": 613,
   "id": "e009fe77",
   "metadata": {},
   "outputs": [
    {
     "data": {
      "text/plain": [
       "array(['высшее', 'среднее', 'Среднее', 'СРЕДНЕЕ', 'ВЫСШЕЕ',\n",
       "       'неоконченное высшее', 'начальное', 'Высшее',\n",
       "       'НЕОКОНЧЕННОЕ ВЫСШЕЕ', 'Неоконченное высшее', 'НАЧАЛЬНОЕ',\n",
       "       'Начальное', 'Ученая степень', 'УЧЕНАЯ СТЕПЕНЬ', 'ученая степень'],\n",
       "      dtype=object)"
      ]
     },
     "execution_count": 613,
     "metadata": {},
     "output_type": "execute_result"
    }
   ],
   "source": [
    "bank['education'].unique()"
   ]
  },
  {
   "cell_type": "code",
   "execution_count": 614,
   "id": "52159f13",
   "metadata": {},
   "outputs": [],
   "source": [
    "bank['education'] = bank['education'].str.lower()"
   ]
  },
  {
   "cell_type": "code",
   "execution_count": 615,
   "id": "cae01801",
   "metadata": {},
   "outputs": [
    {
     "data": {
      "text/plain": [
       "array([ 1,  0,  3,  2, -1,  4, 20,  5], dtype=int64)"
      ]
     },
     "execution_count": 615,
     "metadata": {},
     "output_type": "execute_result"
    }
   ],
   "source": [
    "bank['children'].unique()"
   ]
  },
  {
   "cell_type": "markdown",
   "id": "3d020f96",
   "metadata": {},
   "source": [
    "В колонке `children` замечаем несколько ошибок в данных - количество детей не может быть отрицательным; так же 20 является ошибочным значением. Вероятно, ошибки возникли в процессе заполнения таблицы данными или ее выгрузки. \n",
    "\n",
    "При таких значениях данные непригодны для анализа и для их замены недостаточно информации. Избавимся от ненужных данных, их количество незначительно:"
   ]
  },
  {
   "cell_type": "code",
   "execution_count": 616,
   "id": "7f919fc4",
   "metadata": {},
   "outputs": [],
   "source": [
    "bank = bank.loc[(bank['children'] != -1) & (bank['children'] != 20)]"
   ]
  },
  {
   "cell_type": "code",
   "execution_count": 617,
   "id": "da223aee",
   "metadata": {},
   "outputs": [
    {
     "data": {
      "text/plain": [
       "array([-8437.67302776, -4024.80375385, -5623.42261023, ...,\n",
       "       -2113.3468877 , -3112.4817052 , -1984.50758853])"
      ]
     },
     "execution_count": 617,
     "metadata": {},
     "output_type": "execute_result"
    }
   ],
   "source": [
    "bank['days_employed'].unique()"
   ]
  },
  {
   "cell_type": "markdown",
   "id": "a0318c83",
   "metadata": {},
   "source": [
    "В столбце `days_employed`, содержащим информацию от трудовом стаже, присутствуют отрицательные значения. Положительные значения соответствуют значениям типа занятости в столбце `income_type` пенсионер. \n",
    "Оставляем данный столбец без изменений, проследим его влияние при проверке гипотез."
   ]
  },
  {
   "cell_type": "code",
   "execution_count": 618,
   "id": "3694c70a",
   "metadata": {},
   "outputs": [
    {
     "data": {
      "text/plain": [
       "F      14154\n",
       "M       7247\n",
       "XNA        1\n",
       "Name: gender, dtype: int64"
      ]
     },
     "execution_count": 618,
     "metadata": {},
     "output_type": "execute_result"
    }
   ],
   "source": [
    "bank['gender'].value_counts()"
   ]
  },
  {
   "cell_type": "markdown",
   "id": "3f50ff14",
   "metadata": {},
   "source": [
    "В столбце `gender` присутствует  одно аномальное значение. Оно, вероятно, появилось тут ошибочно. Заменим его на значение, которое чаще всего встречается в данном столбце - F."
   ]
  },
  {
   "cell_type": "code",
   "execution_count": 619,
   "id": "96562d65",
   "metadata": {},
   "outputs": [],
   "source": [
    "bank['gender'] = bank['gender'].replace(\"XNA\", 'F')"
   ]
  },
  {
   "cell_type": "code",
   "execution_count": 620,
   "id": "ab4bfb37",
   "metadata": {},
   "outputs": [
    {
     "data": {
      "text/plain": [
       "array([42, 36, 33, 32, 53, 27, 43, 50, 35, 41, 40, 65, 54, 56, 26, 48, 24,\n",
       "       21, 57, 67, 28, 63, 62, 47, 34, 68, 25, 31, 30, 20, 49, 37, 45, 61,\n",
       "       64, 44, 52, 46, 23, 38, 39, 51,  0, 59, 29, 60, 55, 58, 71, 22, 73,\n",
       "       66, 69, 19, 72, 70, 74, 75], dtype=int64)"
      ]
     },
     "execution_count": 620,
     "metadata": {},
     "output_type": "execute_result"
    }
   ],
   "source": [
    "bank['dob_years'].unique()"
   ]
  },
  {
   "cell_type": "markdown",
   "id": "b7ee9c1e",
   "metadata": {},
   "source": [
    "Нельзя не отметить, что в столбце `dob_years` присутствуют нулевые значения возраста. Доля таких значений незначительная, что не должно существенно повлиять на результаты проверки гипотез. Проверим это в процессе исследования."
   ]
  },
  {
   "cell_type": "markdown",
   "id": "2dc18b31",
   "metadata": {},
   "source": [
    "**Изменение типов данных**"
   ]
  },
  {
   "cell_type": "markdown",
   "id": "e6afb1b2",
   "metadata": {},
   "source": [
    "Для удобства работы со значениями зарплаты изменим тип данных столбца `total_income` на целочисленный."
   ]
  },
  {
   "cell_type": "code",
   "execution_count": 621,
   "id": "8afe132d",
   "metadata": {},
   "outputs": [],
   "source": [
    "bank['total_income'] = bank['total_income'].astype('int')"
   ]
  },
  {
   "cell_type": "markdown",
   "id": "75e5ded2",
   "metadata": {},
   "source": [
    "**Удаление дубликатов**"
   ]
  },
  {
   "cell_type": "markdown",
   "id": "4864b1d6",
   "metadata": {},
   "source": [
    "После очистки от аномалий посчитаем явные дубликаты в данных:"
   ]
  },
  {
   "cell_type": "code",
   "execution_count": 622,
   "id": "71d569fc",
   "metadata": {},
   "outputs": [
    {
     "data": {
      "text/plain": [
       "71"
      ]
     },
     "execution_count": 622,
     "metadata": {},
     "output_type": "execute_result"
    }
   ],
   "source": [
    "# поиск явных дубликатов\n",
    "bank.duplicated().sum()"
   ]
  },
  {
   "cell_type": "markdown",
   "id": "c97da606",
   "metadata": {},
   "source": [
    "Доля дубликатов в данных незначительная. \n",
    "Удалим их специальным методом с формированием новых индексов в обновленном датафрейме."
   ]
  },
  {
   "cell_type": "code",
   "execution_count": 623,
   "id": "e37f5a96",
   "metadata": {},
   "outputs": [],
   "source": [
    "bank = bank.drop_duplicates().reset_index(drop = True)"
   ]
  },
  {
   "cell_type": "markdown",
   "id": "bc0291b9",
   "metadata": {},
   "source": [
    "**Выводы**\n",
    "\n",
    "В процессе предобработки были обнаружены три проблемы в данных:\n",
    "\n",
    "- пропущенные значения,\n",
    "- аномальные значения,\n",
    "- явные дубликаты\n",
    "\n",
    "Пропущенные значения были заменены на медианные. Это необходимо для более точного анализа данных.\n",
    "Единственное аномальное значение столбца `gender` заменено на наиболее частое из двух имеющихся типов значений в столбце. Нулевыми значениями столбца `dob_years` мы пренебрегаем, при проверке гипотез проверим какое влияние окажут эти пропуски. Строки с аномальными значениями в столбце `children` удалены.\n",
    "\n",
    "Дубликаты были удалены, без них исследование станет более точным.\n",
    "\n",
    "Теперь можно перейти к проверке гипотез."
   ]
  },
  {
   "cell_type": "markdown",
   "id": "d2b7805a",
   "metadata": {},
   "source": [
    "### Формирование дополнительных датафреймов словарей, декомпозиция исходного датафрейма."
   ]
  },
  {
   "cell_type": "markdown",
   "id": "9dd1b9ab",
   "metadata": {},
   "source": [
    "Сформируем отдельные датафреймы для работы над проверкой гипотез."
   ]
  },
  {
   "cell_type": "code",
   "execution_count": 624,
   "id": "0ba4fef8",
   "metadata": {},
   "outputs": [],
   "source": [
    "# новый датафрейм, содержаний информацию об образовании\n",
    "education = bank.loc[:, ['education', 'education_id']]"
   ]
  },
  {
   "cell_type": "code",
   "execution_count": 625,
   "id": "a54d12cc",
   "metadata": {},
   "outputs": [
    {
     "data": {
      "text/html": [
       "<div>\n",
       "<style scoped>\n",
       "    .dataframe tbody tr th:only-of-type {\n",
       "        vertical-align: middle;\n",
       "    }\n",
       "\n",
       "    .dataframe tbody tr th {\n",
       "        vertical-align: top;\n",
       "    }\n",
       "\n",
       "    .dataframe thead th {\n",
       "        text-align: right;\n",
       "    }\n",
       "</style>\n",
       "<table border=\"1\" class=\"dataframe\">\n",
       "  <thead>\n",
       "    <tr style=\"text-align: right;\">\n",
       "      <th></th>\n",
       "      <th>education</th>\n",
       "      <th>education_id</th>\n",
       "    </tr>\n",
       "  </thead>\n",
       "  <tbody>\n",
       "    <tr>\n",
       "      <th>0</th>\n",
       "      <td>высшее</td>\n",
       "      <td>0</td>\n",
       "    </tr>\n",
       "    <tr>\n",
       "      <th>1</th>\n",
       "      <td>среднее</td>\n",
       "      <td>1</td>\n",
       "    </tr>\n",
       "    <tr>\n",
       "      <th>2</th>\n",
       "      <td>неоконченное высшее</td>\n",
       "      <td>2</td>\n",
       "    </tr>\n",
       "    <tr>\n",
       "      <th>3</th>\n",
       "      <td>начальное</td>\n",
       "      <td>3</td>\n",
       "    </tr>\n",
       "    <tr>\n",
       "      <th>4</th>\n",
       "      <td>ученая степень</td>\n",
       "      <td>4</td>\n",
       "    </tr>\n",
       "  </tbody>\n",
       "</table>\n",
       "</div>"
      ],
      "text/plain": [
       "             education  education_id\n",
       "0               высшее             0\n",
       "1              среднее             1\n",
       "2  неоконченное высшее             2\n",
       "3            начальное             3\n",
       "4       ученая степень             4"
      ]
     },
     "execution_count": 625,
     "metadata": {},
     "output_type": "execute_result"
    }
   ],
   "source": [
    "# удаление дубликатов в данных\n",
    "education = education.drop_duplicates().reset_index(drop = True).sort_values(by = 'education_id')\n",
    "education.head()"
   ]
  },
  {
   "cell_type": "code",
   "execution_count": 626,
   "id": "67291676",
   "metadata": {},
   "outputs": [],
   "source": [
    "family = bank.loc[:, ['family_status', 'family_status_id']]"
   ]
  },
  {
   "cell_type": "code",
   "execution_count": 627,
   "id": "9fc1e09d",
   "metadata": {},
   "outputs": [
    {
     "data": {
      "text/html": [
       "<div>\n",
       "<style scoped>\n",
       "    .dataframe tbody tr th:only-of-type {\n",
       "        vertical-align: middle;\n",
       "    }\n",
       "\n",
       "    .dataframe tbody tr th {\n",
       "        vertical-align: top;\n",
       "    }\n",
       "\n",
       "    .dataframe thead th {\n",
       "        text-align: right;\n",
       "    }\n",
       "</style>\n",
       "<table border=\"1\" class=\"dataframe\">\n",
       "  <thead>\n",
       "    <tr style=\"text-align: right;\">\n",
       "      <th></th>\n",
       "      <th>family_status</th>\n",
       "      <th>family_status_id</th>\n",
       "    </tr>\n",
       "  </thead>\n",
       "  <tbody>\n",
       "    <tr>\n",
       "      <th>0</th>\n",
       "      <td>женат / замужем</td>\n",
       "      <td>0</td>\n",
       "    </tr>\n",
       "    <tr>\n",
       "      <th>1</th>\n",
       "      <td>гражданский брак</td>\n",
       "      <td>1</td>\n",
       "    </tr>\n",
       "    <tr>\n",
       "      <th>2</th>\n",
       "      <td>вдовец / вдова</td>\n",
       "      <td>2</td>\n",
       "    </tr>\n",
       "    <tr>\n",
       "      <th>3</th>\n",
       "      <td>в разводе</td>\n",
       "      <td>3</td>\n",
       "    </tr>\n",
       "    <tr>\n",
       "      <th>4</th>\n",
       "      <td>Не женат / не замужем</td>\n",
       "      <td>4</td>\n",
       "    </tr>\n",
       "  </tbody>\n",
       "</table>\n",
       "</div>"
      ],
      "text/plain": [
       "           family_status  family_status_id\n",
       "0        женат / замужем                 0\n",
       "1       гражданский брак                 1\n",
       "2         вдовец / вдова                 2\n",
       "3              в разводе                 3\n",
       "4  Не женат / не замужем                 4"
      ]
     },
     "execution_count": 627,
     "metadata": {},
     "output_type": "execute_result"
    }
   ],
   "source": [
    "family = family.drop_duplicates().reset_index(drop = True).sort_values(by = 'family_status_id')\n",
    "family.head()"
   ]
  },
  {
   "cell_type": "markdown",
   "id": "d85f2d22",
   "metadata": {},
   "source": [
    "Удалим их исходного датафрейма колонки `family_status`, `education`. Используя новые датафреймы мы сможем обращаться к этим данным по соответствующим идентификаторам."
   ]
  },
  {
   "cell_type": "code",
   "execution_count": 628,
   "id": "3dabd230",
   "metadata": {},
   "outputs": [],
   "source": [
    "bank.drop(columns =['family_status', 'education'], axis = 1, inplace = True)"
   ]
  },
  {
   "cell_type": "markdown",
   "id": "42f2822d",
   "metadata": {},
   "source": [
    "### Категоризация дохода."
   ]
  },
  {
   "cell_type": "markdown",
   "id": "2f4c40d8",
   "metadata": {},
   "source": [
    "Как было отмечено ранее, в данных столбца `total_income` наблюдается существенный разброс данных. \n",
    "Необходимо сгруппировать их, чтобы данных было достаточно для проверки существующей гипотезы влияния доходности на возврат кредита. Создадим функцию и опишем ею правила классификации доходов:"
   ]
  },
  {
   "cell_type": "code",
   "execution_count": 629,
   "id": "8b2876a9",
   "metadata": {},
   "outputs": [],
   "source": [
    "# функция классификации дохода\n",
    "def income_group(income):\n",
    "    if (income >= 0 and income <= 30000):\n",
    "        return 'E'\n",
    "    elif (income > 30000 and income <= 50000):\n",
    "        return 'D'\n",
    "    elif (income > 50000 and income <= 200000):\n",
    "        return 'C'\n",
    "    elif (income > 200000 and income <= 1000000):\n",
    "        return 'B'\n",
    "    elif income > 1000000:\n",
    "        return 'A'\n",
    "    return 'Уровень дохода неопределен'"
   ]
  },
  {
   "cell_type": "code",
   "execution_count": 630,
   "id": "7ea9b2e2",
   "metadata": {
    "scrolled": true
   },
   "outputs": [
    {
     "data": {
      "text/html": [
       "<div>\n",
       "<style scoped>\n",
       "    .dataframe tbody tr th:only-of-type {\n",
       "        vertical-align: middle;\n",
       "    }\n",
       "\n",
       "    .dataframe tbody tr th {\n",
       "        vertical-align: top;\n",
       "    }\n",
       "\n",
       "    .dataframe thead th {\n",
       "        text-align: right;\n",
       "    }\n",
       "</style>\n",
       "<table border=\"1\" class=\"dataframe\">\n",
       "  <thead>\n",
       "    <tr style=\"text-align: right;\">\n",
       "      <th></th>\n",
       "      <th>children</th>\n",
       "      <th>days_employed</th>\n",
       "      <th>dob_years</th>\n",
       "      <th>education_id</th>\n",
       "      <th>family_status_id</th>\n",
       "      <th>gender</th>\n",
       "      <th>income_type</th>\n",
       "      <th>debt</th>\n",
       "      <th>total_income</th>\n",
       "      <th>purpose</th>\n",
       "      <th>total_income_new</th>\n",
       "      <th>total_income_category</th>\n",
       "    </tr>\n",
       "  </thead>\n",
       "  <tbody>\n",
       "    <tr>\n",
       "      <th>0</th>\n",
       "      <td>1</td>\n",
       "      <td>-8437.673028</td>\n",
       "      <td>42</td>\n",
       "      <td>0</td>\n",
       "      <td>0</td>\n",
       "      <td>F</td>\n",
       "      <td>сотрудник</td>\n",
       "      <td>0</td>\n",
       "      <td>253875</td>\n",
       "      <td>покупка жилья</td>\n",
       "      <td>0.0</td>\n",
       "      <td>B</td>\n",
       "    </tr>\n",
       "    <tr>\n",
       "      <th>1</th>\n",
       "      <td>1</td>\n",
       "      <td>-4024.803754</td>\n",
       "      <td>36</td>\n",
       "      <td>1</td>\n",
       "      <td>0</td>\n",
       "      <td>F</td>\n",
       "      <td>сотрудник</td>\n",
       "      <td>0</td>\n",
       "      <td>112080</td>\n",
       "      <td>приобретение автомобиля</td>\n",
       "      <td>0.0</td>\n",
       "      <td>C</td>\n",
       "    </tr>\n",
       "    <tr>\n",
       "      <th>2</th>\n",
       "      <td>0</td>\n",
       "      <td>-5623.422610</td>\n",
       "      <td>33</td>\n",
       "      <td>1</td>\n",
       "      <td>0</td>\n",
       "      <td>M</td>\n",
       "      <td>сотрудник</td>\n",
       "      <td>0</td>\n",
       "      <td>145885</td>\n",
       "      <td>покупка жилья</td>\n",
       "      <td>0.0</td>\n",
       "      <td>C</td>\n",
       "    </tr>\n",
       "    <tr>\n",
       "      <th>3</th>\n",
       "      <td>3</td>\n",
       "      <td>-4124.747207</td>\n",
       "      <td>32</td>\n",
       "      <td>1</td>\n",
       "      <td>0</td>\n",
       "      <td>M</td>\n",
       "      <td>сотрудник</td>\n",
       "      <td>0</td>\n",
       "      <td>267628</td>\n",
       "      <td>дополнительное образование</td>\n",
       "      <td>0.0</td>\n",
       "      <td>B</td>\n",
       "    </tr>\n",
       "    <tr>\n",
       "      <th>4</th>\n",
       "      <td>0</td>\n",
       "      <td>340266.072047</td>\n",
       "      <td>53</td>\n",
       "      <td>1</td>\n",
       "      <td>1</td>\n",
       "      <td>F</td>\n",
       "      <td>пенсионер</td>\n",
       "      <td>0</td>\n",
       "      <td>158616</td>\n",
       "      <td>сыграть свадьбу</td>\n",
       "      <td>0.0</td>\n",
       "      <td>C</td>\n",
       "    </tr>\n",
       "  </tbody>\n",
       "</table>\n",
       "</div>"
      ],
      "text/plain": [
       "   children  days_employed  dob_years  education_id  family_status_id gender  \\\n",
       "0         1   -8437.673028         42             0                 0      F   \n",
       "1         1   -4024.803754         36             1                 0      F   \n",
       "2         0   -5623.422610         33             1                 0      M   \n",
       "3         3   -4124.747207         32             1                 0      M   \n",
       "4         0  340266.072047         53             1                 1      F   \n",
       "\n",
       "  income_type  debt  total_income                     purpose  \\\n",
       "0   сотрудник     0        253875               покупка жилья   \n",
       "1   сотрудник     0        112080     приобретение автомобиля   \n",
       "2   сотрудник     0        145885               покупка жилья   \n",
       "3   сотрудник     0        267628  дополнительное образование   \n",
       "4   пенсионер     0        158616             сыграть свадьбу   \n",
       "\n",
       "   total_income_new total_income_category  \n",
       "0               0.0                     B  \n",
       "1               0.0                     C  \n",
       "2               0.0                     C  \n",
       "3               0.0                     B  \n",
       "4               0.0                     C  "
      ]
     },
     "execution_count": 630,
     "metadata": {},
     "output_type": "execute_result"
    }
   ],
   "source": [
    "# создание нового столбца категоризированных значений\n",
    "bank['total_income_category'] = bank['total_income'].apply(income_group)\n",
    "bank.head()"
   ]
  },
  {
   "cell_type": "markdown",
   "id": "40a14121",
   "metadata": {},
   "source": [
    "### Категоризация целей кредита."
   ]
  },
  {
   "cell_type": "markdown",
   "id": "2f3ad17a",
   "metadata": {},
   "source": [
    "Для того, чтобы более точно оценить гипотезы, категоризируем цели получения кредита столбца `purpose`, сгруппируем их по схожим названиям. Для начала определим частоту встречаемости уникальных значений в данном столбце:"
   ]
  },
  {
   "cell_type": "code",
   "execution_count": 631,
   "id": "a2c80f48",
   "metadata": {},
   "outputs": [
    {
     "data": {
      "text/plain": [
       "свадьба                                   790\n",
       "на проведение свадьбы                     763\n",
       "сыграть свадьбу                           760\n",
       "операции с недвижимостью                  672\n",
       "покупка коммерческой недвижимости         658\n",
       "покупка жилья для сдачи                   649\n",
       "операции с жильем                         647\n",
       "операции с коммерческой недвижимостью     645\n",
       "жилье                                     641\n",
       "покупка жилья                             640\n",
       "покупка жилья для семьи                   637\n",
       "недвижимость                              631\n",
       "строительство собственной недвижимости    628\n",
       "операции со своей недвижимостью           623\n",
       "строительство жилой недвижимости          620\n",
       "строительство недвижимости                619\n",
       "покупка своего жилья                      619\n",
       "покупка недвижимости                      616\n",
       "ремонт жилью                              604\n",
       "покупка жилой недвижимости                602\n",
       "на покупку своего автомобиля              504\n",
       "заняться высшим образованием              496\n",
       "автомобиль                                491\n",
       "сделка с подержанным автомобилем          481\n",
       "автомобили                                476\n",
       "свой автомобиль                           473\n",
       "на покупку подержанного автомобиля        471\n",
       "на покупку автомобиля                     469\n",
       "приобретение автомобиля                   459\n",
       "сделка с автомобилем                      455\n",
       "дополнительное образование                455\n",
       "высшее образование                        446\n",
       "получение дополнительного образования     444\n",
       "образование                               442\n",
       "получение образования                     440\n",
       "профильное образование                    432\n",
       "получение высшего образования             425\n",
       "заняться образованием                     408\n",
       "Name: purpose, dtype: int64"
      ]
     },
     "execution_count": 631,
     "metadata": {},
     "output_type": "execute_result"
    }
   ],
   "source": [
    "# частота встречаемости значений в столбце\n",
    "bank['purpose'].value_counts()"
   ]
  },
  {
   "cell_type": "code",
   "execution_count": 632,
   "id": "a2d71592",
   "metadata": {},
   "outputs": [],
   "source": [
    "# функция классификации целей кредита\n",
    "def purpose_group(purpose):\n",
    "    if 'свадьб' in purpose:\n",
    "        return 'проведение свадьбы'\n",
    "    elif ('недвиж' in purpose) or ('жил' in purpose):\n",
    "        return 'операции с недвижимостью'\n",
    "    elif 'образ' in purpose:\n",
    "        return 'получение образования'\n",
    "    elif 'авто' in purpose:\n",
    "        return 'операции с автомобилем'\n",
    "    return 'классификация невозможна'"
   ]
  },
  {
   "cell_type": "code",
   "execution_count": 633,
   "id": "05d9cce1",
   "metadata": {},
   "outputs": [],
   "source": [
    "# создание нового столбца\n",
    "bank['purpose_category'] = bank['purpose'].apply(purpose_group)"
   ]
  },
  {
   "cell_type": "markdown",
   "id": "822dfa28",
   "metadata": {},
   "source": [
    "### Ответы на вопросы."
   ]
  },
  {
   "cell_type": "markdown",
   "id": "e15c3efa",
   "metadata": {},
   "source": [
    "Чтобы принять или опровергнуть каждую из гипотез, построим по ним сводные таблицы:"
   ]
  },
  {
   "cell_type": "markdown",
   "id": "a2b94ad7",
   "metadata": {},
   "source": [
    "##### Вопрос 1: Существует ли зависимость между количеством детей и возвратом кредита в срок?"
   ]
  },
  {
   "cell_type": "code",
   "execution_count": 634,
   "id": "1896fa5c",
   "metadata": {},
   "outputs": [
    {
     "data": {
      "text/html": [
       "<div>\n",
       "<style scoped>\n",
       "    .dataframe tbody tr th:only-of-type {\n",
       "        vertical-align: middle;\n",
       "    }\n",
       "\n",
       "    .dataframe tbody tr th {\n",
       "        vertical-align: top;\n",
       "    }\n",
       "\n",
       "    .dataframe thead tr th {\n",
       "        text-align: left;\n",
       "    }\n",
       "\n",
       "    .dataframe thead tr:last-of-type th {\n",
       "        text-align: right;\n",
       "    }\n",
       "</style>\n",
       "<table border=\"1\" class=\"dataframe\">\n",
       "  <thead>\n",
       "    <tr>\n",
       "      <th></th>\n",
       "      <th>sum</th>\n",
       "      <th>count</th>\n",
       "      <th>mean</th>\n",
       "    </tr>\n",
       "    <tr>\n",
       "      <th></th>\n",
       "      <th>debt</th>\n",
       "      <th>debt</th>\n",
       "      <th>debt</th>\n",
       "    </tr>\n",
       "    <tr>\n",
       "      <th>children</th>\n",
       "      <th></th>\n",
       "      <th></th>\n",
       "      <th></th>\n",
       "    </tr>\n",
       "  </thead>\n",
       "  <tbody>\n",
       "    <tr>\n",
       "      <th>0</th>\n",
       "      <td>1063</td>\n",
       "      <td>14091</td>\n",
       "      <td>0.075438</td>\n",
       "    </tr>\n",
       "    <tr>\n",
       "      <th>1</th>\n",
       "      <td>444</td>\n",
       "      <td>4808</td>\n",
       "      <td>0.092346</td>\n",
       "    </tr>\n",
       "    <tr>\n",
       "      <th>2</th>\n",
       "      <td>194</td>\n",
       "      <td>2052</td>\n",
       "      <td>0.094542</td>\n",
       "    </tr>\n",
       "    <tr>\n",
       "      <th>3</th>\n",
       "      <td>27</td>\n",
       "      <td>330</td>\n",
       "      <td>0.081818</td>\n",
       "    </tr>\n",
       "    <tr>\n",
       "      <th>4</th>\n",
       "      <td>4</td>\n",
       "      <td>41</td>\n",
       "      <td>0.097561</td>\n",
       "    </tr>\n",
       "    <tr>\n",
       "      <th>5</th>\n",
       "      <td>0</td>\n",
       "      <td>9</td>\n",
       "      <td>0.000000</td>\n",
       "    </tr>\n",
       "  </tbody>\n",
       "</table>\n",
       "</div>"
      ],
      "text/plain": [
       "           sum  count      mean\n",
       "          debt   debt      debt\n",
       "children                       \n",
       "0         1063  14091  0.075438\n",
       "1          444   4808  0.092346\n",
       "2          194   2052  0.094542\n",
       "3           27    330  0.081818\n",
       "4            4     41  0.097561\n",
       "5            0      9  0.000000"
      ]
     },
     "execution_count": 634,
     "metadata": {},
     "output_type": "execute_result"
    }
   ],
   "source": [
    "# сводная таблица по количеству детей\n",
    "child_pivot = bank.pivot_table(index = 'children', values='debt', aggfunc =['sum', 'count','mean'])\n",
    "child_pivot.head(10)"
   ]
  },
  {
   "cell_type": "markdown",
   "id": "6d49860b",
   "metadata": {},
   "source": [
    "##### Вывод 1: "
   ]
  },
  {
   "cell_type": "markdown",
   "id": "8456a87e",
   "metadata": {},
   "source": [
    "Можно заметить, что в зависимости от количества детей в семье процент невыплаты по уже имеющимся кредитам колеблется в пределах 10%, при этом:\n",
    " * потенциальные заемщики, имеющие 4, 1 или 2 детей чаще остальных имеет задолженность по кредиту;\n",
    " * заемщики с 3 детьми в 8,18% случаев имеют долг перед банком;\n",
    " * согласно данным таблицы наибольшее количество людей не имеют детей, однако среди них самы низкий процент невозврата 7,5%\n",
    " \n",
    " Значит, существует зависимость между количеством детей и возвратом кредита, однако эта зависимость слабая."
   ]
  },
  {
   "cell_type": "markdown",
   "id": "4bcf7f88",
   "metadata": {},
   "source": [
    "##### Вопрос 2: Есть ли зависимость между семейным положением и возвратом кредита в срок?"
   ]
  },
  {
   "cell_type": "code",
   "execution_count": 635,
   "id": "15ba2fbb",
   "metadata": {},
   "outputs": [
    {
     "data": {
      "text/html": [
       "<div>\n",
       "<style scoped>\n",
       "    .dataframe tbody tr th:only-of-type {\n",
       "        vertical-align: middle;\n",
       "    }\n",
       "\n",
       "    .dataframe tbody tr th {\n",
       "        vertical-align: top;\n",
       "    }\n",
       "\n",
       "    .dataframe thead tr th {\n",
       "        text-align: left;\n",
       "    }\n",
       "\n",
       "    .dataframe thead tr:last-of-type th {\n",
       "        text-align: right;\n",
       "    }\n",
       "</style>\n",
       "<table border=\"1\" class=\"dataframe\">\n",
       "  <thead>\n",
       "    <tr>\n",
       "      <th></th>\n",
       "      <th>sum</th>\n",
       "      <th>count</th>\n",
       "      <th>mean</th>\n",
       "    </tr>\n",
       "    <tr>\n",
       "      <th></th>\n",
       "      <th>debt</th>\n",
       "      <th>debt</th>\n",
       "      <th>debt</th>\n",
       "    </tr>\n",
       "    <tr>\n",
       "      <th>family_status_id</th>\n",
       "      <th></th>\n",
       "      <th></th>\n",
       "      <th></th>\n",
       "    </tr>\n",
       "  </thead>\n",
       "  <tbody>\n",
       "    <tr>\n",
       "      <th>0</th>\n",
       "      <td>927</td>\n",
       "      <td>12261</td>\n",
       "      <td>0.075606</td>\n",
       "    </tr>\n",
       "    <tr>\n",
       "      <th>1</th>\n",
       "      <td>385</td>\n",
       "      <td>4134</td>\n",
       "      <td>0.093130</td>\n",
       "    </tr>\n",
       "    <tr>\n",
       "      <th>2</th>\n",
       "      <td>63</td>\n",
       "      <td>951</td>\n",
       "      <td>0.066246</td>\n",
       "    </tr>\n",
       "    <tr>\n",
       "      <th>3</th>\n",
       "      <td>84</td>\n",
       "      <td>1189</td>\n",
       "      <td>0.070648</td>\n",
       "    </tr>\n",
       "    <tr>\n",
       "      <th>4</th>\n",
       "      <td>273</td>\n",
       "      <td>2796</td>\n",
       "      <td>0.097639</td>\n",
       "    </tr>\n",
       "  </tbody>\n",
       "</table>\n",
       "</div>"
      ],
      "text/plain": [
       "                  sum  count      mean\n",
       "                 debt   debt      debt\n",
       "family_status_id                      \n",
       "0                 927  12261  0.075606\n",
       "1                 385   4134  0.093130\n",
       "2                  63    951  0.066246\n",
       "3                  84   1189  0.070648\n",
       "4                 273   2796  0.097639"
      ]
     },
     "execution_count": 635,
     "metadata": {},
     "output_type": "execute_result"
    }
   ],
   "source": [
    "# сводная таблица по семейному положению\n",
    "family_pivot = bank.pivot_table(index = 'family_status_id', values ='debt', aggfunc=['sum', 'count', 'mean'])\n",
    "family_pivot.head(10)"
   ]
  },
  {
   "cell_type": "markdown",
   "id": "10583c20",
   "metadata": {},
   "source": [
    "##### Вывод 2:"
   ]
  },
  {
   "cell_type": "markdown",
   "id": "dd41cfa6",
   "metadata": {},
   "source": [
    "Согласно данным таблицы 9,76% клиентов в статусе не замужем/не женат имеют задолженность перед банком. Клиенты с семейным положением женат/замужем составляют наибольшую часть выборки, при этом всего 7,5% из них имеют долг перед банком. Вдовец/вдова имеют всего 6,62% невозврата, что из всей имеющейся статистики наименьший показатель.\n",
    "\n",
    "Таким образом, выявлена взаимосвязь семейного положения и возврата кредита в положенный срок."
   ]
  },
  {
   "cell_type": "markdown",
   "id": "aecfee46",
   "metadata": {},
   "source": [
    "##### Вопрос 3: Есть ли зависимость между уровнем дохода и возвратом кредита в срок?"
   ]
  },
  {
   "cell_type": "code",
   "execution_count": 636,
   "id": "32be79ae",
   "metadata": {},
   "outputs": [
    {
     "data": {
      "text/html": [
       "<div>\n",
       "<style scoped>\n",
       "    .dataframe tbody tr th:only-of-type {\n",
       "        vertical-align: middle;\n",
       "    }\n",
       "\n",
       "    .dataframe tbody tr th {\n",
       "        vertical-align: top;\n",
       "    }\n",
       "\n",
       "    .dataframe thead tr th {\n",
       "        text-align: left;\n",
       "    }\n",
       "\n",
       "    .dataframe thead tr:last-of-type th {\n",
       "        text-align: right;\n",
       "    }\n",
       "</style>\n",
       "<table border=\"1\" class=\"dataframe\">\n",
       "  <thead>\n",
       "    <tr>\n",
       "      <th></th>\n",
       "      <th>sum</th>\n",
       "      <th>count</th>\n",
       "      <th>mean</th>\n",
       "    </tr>\n",
       "    <tr>\n",
       "      <th></th>\n",
       "      <th>debt</th>\n",
       "      <th>debt</th>\n",
       "      <th>debt</th>\n",
       "    </tr>\n",
       "    <tr>\n",
       "      <th>total_income_category</th>\n",
       "      <th></th>\n",
       "      <th></th>\n",
       "      <th></th>\n",
       "    </tr>\n",
       "  </thead>\n",
       "  <tbody>\n",
       "    <tr>\n",
       "      <th>A</th>\n",
       "      <td>2</td>\n",
       "      <td>25</td>\n",
       "      <td>0.080000</td>\n",
       "    </tr>\n",
       "    <tr>\n",
       "      <th>B</th>\n",
       "      <td>354</td>\n",
       "      <td>5014</td>\n",
       "      <td>0.070602</td>\n",
       "    </tr>\n",
       "    <tr>\n",
       "      <th>C</th>\n",
       "      <td>1353</td>\n",
       "      <td>15921</td>\n",
       "      <td>0.084982</td>\n",
       "    </tr>\n",
       "    <tr>\n",
       "      <th>D</th>\n",
       "      <td>21</td>\n",
       "      <td>349</td>\n",
       "      <td>0.060172</td>\n",
       "    </tr>\n",
       "    <tr>\n",
       "      <th>E</th>\n",
       "      <td>2</td>\n",
       "      <td>22</td>\n",
       "      <td>0.090909</td>\n",
       "    </tr>\n",
       "  </tbody>\n",
       "</table>\n",
       "</div>"
      ],
      "text/plain": [
       "                        sum  count      mean\n",
       "                       debt   debt      debt\n",
       "total_income_category                       \n",
       "A                         2     25  0.080000\n",
       "B                       354   5014  0.070602\n",
       "C                      1353  15921  0.084982\n",
       "D                        21    349  0.060172\n",
       "E                         2     22  0.090909"
      ]
     },
     "execution_count": 636,
     "metadata": {},
     "output_type": "execute_result"
    }
   ],
   "source": [
    "# сводная таблица по уровню дохода\n",
    "income_pivot = bank.pivot_table(index = 'total_income_category', values ='debt', aggfunc = ['sum', 'count', 'mean'])\n",
    "income_pivot.head(10)"
   ]
  },
  {
   "cell_type": "markdown",
   "id": "fce934e2",
   "metadata": {},
   "source": [
    "##### Вывод 3:"
   ]
  },
  {
   "cell_type": "markdown",
   "id": "6a34ff62",
   "metadata": {},
   "source": [
    "Исходя из имеющихся данных заметим. что:\n",
    "* чаще всего берут кредиты клиенты с уровнем дохода \"C\", однако 8,5% из них не возвращают кредит в срок;\n",
    "* категории с самим низким \"E\" и самым высоким уровнем дохода \"А\" в 9% и 8% случаев соответственно имеют задолженность перед банком;\n",
    "* 6% заемщиков с задолженностью имеют доход \"D\".\n",
    "\n",
    "Итак, можно говорить о том, что между уровнем дохода и возвратом кредита существует связь."
   ]
  },
  {
   "cell_type": "markdown",
   "id": "521eea18",
   "metadata": {},
   "source": [
    "##### Вопрос 4: Как разные цели кредита влияют на его возврат в срок?"
   ]
  },
  {
   "cell_type": "code",
   "execution_count": 637,
   "id": "eb5a2316",
   "metadata": {},
   "outputs": [
    {
     "data": {
      "text/html": [
       "<div>\n",
       "<style scoped>\n",
       "    .dataframe tbody tr th:only-of-type {\n",
       "        vertical-align: middle;\n",
       "    }\n",
       "\n",
       "    .dataframe tbody tr th {\n",
       "        vertical-align: top;\n",
       "    }\n",
       "\n",
       "    .dataframe thead tr th {\n",
       "        text-align: left;\n",
       "    }\n",
       "\n",
       "    .dataframe thead tr:last-of-type th {\n",
       "        text-align: right;\n",
       "    }\n",
       "</style>\n",
       "<table border=\"1\" class=\"dataframe\">\n",
       "  <thead>\n",
       "    <tr>\n",
       "      <th></th>\n",
       "      <th>sum</th>\n",
       "      <th>count</th>\n",
       "      <th>mean</th>\n",
       "    </tr>\n",
       "    <tr>\n",
       "      <th></th>\n",
       "      <th>debt</th>\n",
       "      <th>debt</th>\n",
       "      <th>debt</th>\n",
       "    </tr>\n",
       "    <tr>\n",
       "      <th>purpose_category</th>\n",
       "      <th></th>\n",
       "      <th></th>\n",
       "      <th></th>\n",
       "    </tr>\n",
       "  </thead>\n",
       "  <tbody>\n",
       "    <tr>\n",
       "      <th>операции с автомобилем</th>\n",
       "      <td>400</td>\n",
       "      <td>4279</td>\n",
       "      <td>0.093480</td>\n",
       "    </tr>\n",
       "    <tr>\n",
       "      <th>операции с недвижимостью</th>\n",
       "      <td>780</td>\n",
       "      <td>10751</td>\n",
       "      <td>0.072551</td>\n",
       "    </tr>\n",
       "    <tr>\n",
       "      <th>получение образования</th>\n",
       "      <td>369</td>\n",
       "      <td>3988</td>\n",
       "      <td>0.092528</td>\n",
       "    </tr>\n",
       "    <tr>\n",
       "      <th>проведение свадьбы</th>\n",
       "      <td>183</td>\n",
       "      <td>2313</td>\n",
       "      <td>0.079118</td>\n",
       "    </tr>\n",
       "  </tbody>\n",
       "</table>\n",
       "</div>"
      ],
      "text/plain": [
       "                          sum  count      mean\n",
       "                         debt   debt      debt\n",
       "purpose_category                              \n",
       "операции с автомобилем    400   4279  0.093480\n",
       "операции с недвижимостью  780  10751  0.072551\n",
       "получение образования     369   3988  0.092528\n",
       "проведение свадьбы        183   2313  0.079118"
      ]
     },
     "execution_count": 637,
     "metadata": {},
     "output_type": "execute_result"
    }
   ],
   "source": [
    "# сводная таблица по целям кредитования\n",
    "purpose_pivot = bank.pivot_table(index = 'purpose_category', values ='debt', aggfunc = ['sum', 'count', 'mean'])\n",
    "purpose_pivot.head(10)"
   ]
  },
  {
   "cell_type": "markdown",
   "id": "9b771b1e",
   "metadata": {},
   "source": [
    "##### Вывод 4:"
   ]
  },
  {
   "cell_type": "markdown",
   "id": "fa59021c",
   "metadata": {},
   "source": [
    "По имеющимся данным можно сделать вывод, что большую часть кредитов составляют \"операции с недвижимостью\", доля не возврата по ним невысокая и составляет 7,25%. Больший процент задолжености имеют клиенты, которые с целью \"получение образования\" и \"операции с недвижимостью\". \n",
    "\n",
    "Все это говорит о том, что цели оказывают влияние на образование долга по кредиту."
   ]
  },
  {
   "cell_type": "markdown",
   "id": "81a0a759",
   "metadata": {},
   "source": [
    "## Общий вывод:"
   ]
  },
  {
   "cell_type": "markdown",
   "id": "509db16d",
   "metadata": {},
   "source": [
    "При построении модели кредитного скоринга — специальной системы оценки способности потенциального заёмщика вернуть кредит банку, мы рассмотрели четыре гипотезы, которые должны дать представление о взаимосвязи того или иного фактора с возвратом кредита в срок.\n",
    "\n",
    "Для более точного анализа и последующей проверки гипотез была сделана замена пропущенных значений медианным, обработаны аномальные значения.\n",
    "\n",
    "Чтобы проверить каждую из гипотез были построены соответствующие сводные таблицы.\n",
    "Итак, при проверке гипотезы о связи количества детей и возврата кредита в срок было установлено, что заемщики без детей имеют низкий процент невозврата кредита. \n",
    "При анализе взаимосвязи семейного положения и выплаты кредита установлено, что 9,7% клиентов в статусе не замужем\\не женат имеют долг перед банком.\n",
    "При оценке взаимосвязи доходов и возврата кредита установлено, что клиенты со средним уровнем дохода \"С\" имеют наибольший из всех показатель невыплаты - 8,5%.\n",
    "В зависимости от целей кредита было выявлено, что чаще оформляется кредит на недвижимость, но доля невозврата по нему ниже чем у остальных видов кредитов и составляет 7,25%\n",
    "\n",
    "Таким образом, все имеющиеся гипотезы нашли свое подтверждение.\n",
    "Однако необходимо комплексное рассмотрение факторов для принятия верного решения для построении модели. Кроме того, необходимо учитывать и платежеспособность клиента, который намерен оформить кредит."
   ]
  }
 ],
 "metadata": {
  "ExecuteTimeLog": [
   {
    "duration": 872,
    "start_time": "2022-03-14T15:54:44.219Z"
   },
   {
    "duration": 89,
    "start_time": "2022-03-14T16:01:38.752Z"
   },
   {
    "duration": 78,
    "start_time": "2022-03-14T16:02:19.661Z"
   },
   {
    "duration": 69,
    "start_time": "2022-03-14T16:04:26.727Z"
   },
   {
    "duration": 19,
    "start_time": "2022-03-14T16:04:52.890Z"
   },
   {
    "duration": 116,
    "start_time": "2022-03-14T16:08:18.676Z"
   },
   {
    "duration": 23,
    "start_time": "2022-03-14T16:08:36.402Z"
   },
   {
    "duration": 14,
    "start_time": "2022-03-14T16:44:33.627Z"
   },
   {
    "duration": 1514,
    "start_time": "2022-03-14T16:52:36.863Z"
   },
   {
    "duration": 73,
    "start_time": "2022-03-14T16:53:00.780Z"
   },
   {
    "duration": 86,
    "start_time": "2022-03-14T16:53:10.768Z"
   },
   {
    "duration": 72,
    "start_time": "2022-03-14T16:53:39.906Z"
   },
   {
    "duration": 846,
    "start_time": "2022-03-14T17:00:00.245Z"
   },
   {
    "duration": 6,
    "start_time": "2022-03-14T17:00:10.406Z"
   },
   {
    "duration": 6,
    "start_time": "2022-03-14T17:00:43.388Z"
   },
   {
    "duration": 303,
    "start_time": "2022-03-15T08:23:29.576Z"
   },
   {
    "duration": 612,
    "start_time": "2022-03-15T08:23:44.360Z"
   },
   {
    "duration": 7189,
    "start_time": "2022-03-15T08:23:56.615Z"
   },
   {
    "duration": 6,
    "start_time": "2022-03-15T08:24:11.057Z"
   },
   {
    "duration": 6,
    "start_time": "2022-03-15T08:24:24.161Z"
   },
   {
    "duration": 7,
    "start_time": "2022-03-15T08:26:29.405Z"
   },
   {
    "duration": 5,
    "start_time": "2022-03-15T08:26:45.667Z"
   },
   {
    "duration": 6,
    "start_time": "2022-03-15T08:26:53.099Z"
   },
   {
    "duration": 5,
    "start_time": "2022-03-15T08:26:53.947Z"
   },
   {
    "duration": 6,
    "start_time": "2022-03-15T08:28:42.060Z"
   },
   {
    "duration": 6,
    "start_time": "2022-03-15T08:28:48.418Z"
   },
   {
    "duration": 6,
    "start_time": "2022-03-15T08:33:17.875Z"
   },
   {
    "duration": 4,
    "start_time": "2022-03-15T08:40:17.908Z"
   },
   {
    "duration": 16,
    "start_time": "2022-03-15T08:41:01.324Z"
   },
   {
    "duration": 13,
    "start_time": "2022-03-15T08:41:32.642Z"
   },
   {
    "duration": 9,
    "start_time": "2022-03-15T08:43:44.019Z"
   },
   {
    "duration": 5,
    "start_time": "2022-03-15T08:43:49.446Z"
   },
   {
    "duration": 9,
    "start_time": "2022-03-15T08:43:53.579Z"
   },
   {
    "duration": 10,
    "start_time": "2022-03-15T08:44:56.628Z"
   },
   {
    "duration": 278,
    "start_time": "2022-03-15T08:48:12.455Z"
   },
   {
    "duration": 94,
    "start_time": "2022-03-15T08:48:21.696Z"
   },
   {
    "duration": 270,
    "start_time": "2022-03-15T08:48:25.126Z"
   },
   {
    "duration": 271,
    "start_time": "2022-03-15T08:48:40.883Z"
   },
   {
    "duration": 16,
    "start_time": "2022-03-15T08:48:50.433Z"
   },
   {
    "duration": 260,
    "start_time": "2022-03-15T08:52:48.160Z"
   },
   {
    "duration": 16,
    "start_time": "2022-03-15T08:53:09.291Z"
   },
   {
    "duration": 17,
    "start_time": "2022-03-15T08:56:31.128Z"
   },
   {
    "duration": 15,
    "start_time": "2022-03-15T08:56:43.243Z"
   },
   {
    "duration": 18,
    "start_time": "2022-03-15T09:01:27.815Z"
   },
   {
    "duration": 272,
    "start_time": "2022-03-15T09:09:05.042Z"
   },
   {
    "duration": 6,
    "start_time": "2022-03-15T09:09:43.078Z"
   },
   {
    "duration": 6617,
    "start_time": "2022-03-15T09:10:09.177Z"
   },
   {
    "duration": 7,
    "start_time": "2022-03-15T09:10:18.912Z"
   },
   {
    "duration": 6,
    "start_time": "2022-03-15T09:10:33.603Z"
   },
   {
    "duration": 15,
    "start_time": "2022-03-15T09:10:43.289Z"
   },
   {
    "duration": 9,
    "start_time": "2022-03-15T09:11:05.312Z"
   },
   {
    "duration": 15,
    "start_time": "2022-03-15T09:11:09.378Z"
   },
   {
    "duration": 24,
    "start_time": "2022-03-15T09:13:04.805Z"
   },
   {
    "duration": 24,
    "start_time": "2022-03-15T09:13:18.889Z"
   },
   {
    "duration": 15,
    "start_time": "2022-03-15T09:16:00.648Z"
   },
   {
    "duration": 5,
    "start_time": "2022-03-15T09:16:40.300Z"
   },
   {
    "duration": 17,
    "start_time": "2022-03-15T09:16:56.048Z"
   },
   {
    "duration": 14,
    "start_time": "2022-03-15T09:17:33.671Z"
   },
   {
    "duration": 18,
    "start_time": "2022-03-15T09:17:39.028Z"
   },
   {
    "duration": 4,
    "start_time": "2022-03-15T10:50:50.927Z"
   },
   {
    "duration": 12,
    "start_time": "2022-03-15T10:53:59.478Z"
   },
   {
    "duration": 18,
    "start_time": "2022-03-15T10:57:14.010Z"
   },
   {
    "duration": 15,
    "start_time": "2022-03-15T10:59:08.138Z"
   },
   {
    "duration": 15,
    "start_time": "2022-03-15T10:59:50.421Z"
   },
   {
    "duration": 8,
    "start_time": "2022-03-15T11:02:46.149Z"
   },
   {
    "duration": 13,
    "start_time": "2022-03-15T11:03:11.549Z"
   },
   {
    "duration": 7,
    "start_time": "2022-03-15T11:12:30.711Z"
   },
   {
    "duration": 19,
    "start_time": "2022-03-15T11:21:07.068Z"
   },
   {
    "duration": 12,
    "start_time": "2022-03-15T11:21:42.834Z"
   },
   {
    "duration": 8,
    "start_time": "2022-03-15T11:36:38.569Z"
   },
   {
    "duration": 7,
    "start_time": "2022-03-15T12:01:36.333Z"
   },
   {
    "duration": 7,
    "start_time": "2022-03-15T12:01:48.831Z"
   },
   {
    "duration": 71,
    "start_time": "2022-03-15T12:05:30.394Z"
   },
   {
    "duration": 11,
    "start_time": "2022-03-15T12:05:30.467Z"
   },
   {
    "duration": 11,
    "start_time": "2022-03-15T12:05:30.480Z"
   },
   {
    "duration": 6,
    "start_time": "2022-03-15T12:05:30.503Z"
   },
   {
    "duration": 13,
    "start_time": "2022-03-15T12:05:30.511Z"
   },
   {
    "duration": 18,
    "start_time": "2022-03-15T12:05:30.526Z"
   },
   {
    "duration": 24,
    "start_time": "2022-03-15T12:05:30.546Z"
   },
   {
    "duration": 21,
    "start_time": "2022-03-15T12:05:30.573Z"
   },
   {
    "duration": 17,
    "start_time": "2022-03-15T12:05:30.596Z"
   },
   {
    "duration": 30,
    "start_time": "2022-03-15T12:05:30.615Z"
   },
   {
    "duration": 29,
    "start_time": "2022-03-15T12:05:30.647Z"
   },
   {
    "duration": 16,
    "start_time": "2022-03-15T12:05:30.678Z"
   },
   {
    "duration": 37,
    "start_time": "2022-03-15T12:05:30.696Z"
   },
   {
    "duration": 15,
    "start_time": "2022-03-15T12:05:30.735Z"
   },
   {
    "duration": 7,
    "start_time": "2022-03-15T12:05:30.752Z"
   },
   {
    "duration": 23,
    "start_time": "2022-03-15T12:05:30.760Z"
   },
   {
    "duration": 19,
    "start_time": "2022-03-15T12:12:03.122Z"
   },
   {
    "duration": 15,
    "start_time": "2022-03-15T12:12:26.258Z"
   },
   {
    "duration": 58,
    "start_time": "2022-03-15T12:12:51.160Z"
   },
   {
    "duration": 10,
    "start_time": "2022-03-15T12:12:51.220Z"
   },
   {
    "duration": 15,
    "start_time": "2022-03-15T12:12:51.231Z"
   },
   {
    "duration": 22,
    "start_time": "2022-03-15T12:12:51.247Z"
   },
   {
    "duration": 10,
    "start_time": "2022-03-15T12:12:51.270Z"
   },
   {
    "duration": 18,
    "start_time": "2022-03-15T12:12:51.281Z"
   },
   {
    "duration": 14,
    "start_time": "2022-03-15T12:12:51.300Z"
   },
   {
    "duration": 17,
    "start_time": "2022-03-15T12:12:51.316Z"
   },
   {
    "duration": 15,
    "start_time": "2022-03-15T12:12:51.335Z"
   },
   {
    "duration": 16,
    "start_time": "2022-03-15T12:12:51.352Z"
   },
   {
    "duration": 30,
    "start_time": "2022-03-15T12:12:51.369Z"
   },
   {
    "duration": 24,
    "start_time": "2022-03-15T12:12:51.400Z"
   },
   {
    "duration": 20,
    "start_time": "2022-03-15T12:12:51.426Z"
   },
   {
    "duration": 19,
    "start_time": "2022-03-15T12:12:51.448Z"
   },
   {
    "duration": 14,
    "start_time": "2022-03-15T12:12:51.468Z"
   },
   {
    "duration": 26,
    "start_time": "2022-03-15T12:12:51.483Z"
   },
   {
    "duration": 15,
    "start_time": "2022-03-15T12:12:51.511Z"
   },
   {
    "duration": 19,
    "start_time": "2022-03-15T12:14:56.053Z"
   },
   {
    "duration": 326,
    "start_time": "2022-03-15T12:15:42.357Z"
   },
   {
    "duration": 24,
    "start_time": "2022-03-15T12:15:50.195Z"
   },
   {
    "duration": 7,
    "start_time": "2022-03-15T12:17:40.084Z"
   },
   {
    "duration": 8,
    "start_time": "2022-03-15T12:17:51.138Z"
   },
   {
    "duration": 7,
    "start_time": "2022-03-15T12:18:04.637Z"
   },
   {
    "duration": 82,
    "start_time": "2022-03-15T12:23:24.130Z"
   },
   {
    "duration": 86,
    "start_time": "2022-03-15T12:23:29.485Z"
   },
   {
    "duration": 6,
    "start_time": "2022-03-15T16:25:52.023Z"
   },
   {
    "duration": 6,
    "start_time": "2022-03-15T16:25:59.057Z"
   },
   {
    "duration": 7,
    "start_time": "2022-03-15T16:30:46.738Z"
   },
   {
    "duration": 5,
    "start_time": "2022-03-15T16:35:17.332Z"
   },
   {
    "duration": 11,
    "start_time": "2022-03-15T16:35:37.651Z"
   },
   {
    "duration": 5,
    "start_time": "2022-03-15T16:36:56.092Z"
   },
   {
    "duration": 10,
    "start_time": "2022-03-15T16:41:10.136Z"
   },
   {
    "duration": 5723,
    "start_time": "2022-03-15T16:41:33.545Z"
   },
   {
    "duration": 6,
    "start_time": "2022-03-15T16:41:45.553Z"
   },
   {
    "duration": 6,
    "start_time": "2022-03-15T16:41:53.817Z"
   },
   {
    "duration": 6,
    "start_time": "2022-03-15T16:54:41.048Z"
   },
   {
    "duration": 6,
    "start_time": "2022-03-15T16:54:57.409Z"
   },
   {
    "duration": 5,
    "start_time": "2022-03-15T16:55:19.000Z"
   },
   {
    "duration": 286,
    "start_time": "2022-03-15T16:55:38.126Z"
   },
   {
    "duration": 7,
    "start_time": "2022-03-15T16:56:02.334Z"
   },
   {
    "duration": 7,
    "start_time": "2022-03-15T16:56:31.332Z"
   },
   {
    "duration": 6,
    "start_time": "2022-03-15T16:57:04.340Z"
   },
   {
    "duration": 4,
    "start_time": "2022-03-15T17:01:01.195Z"
   },
   {
    "duration": 4,
    "start_time": "2022-03-15T17:01:04.049Z"
   },
   {
    "duration": 4,
    "start_time": "2022-03-15T17:02:13.838Z"
   },
   {
    "duration": 3,
    "start_time": "2022-03-15T17:02:41.451Z"
   },
   {
    "duration": 57,
    "start_time": "2022-03-15T17:03:10.210Z"
   },
   {
    "duration": 10,
    "start_time": "2022-03-15T17:03:10.269Z"
   },
   {
    "duration": 49,
    "start_time": "2022-03-15T17:03:10.282Z"
   },
   {
    "duration": 30,
    "start_time": "2022-03-15T17:03:10.333Z"
   },
   {
    "duration": 27,
    "start_time": "2022-03-15T17:03:10.365Z"
   },
   {
    "duration": 43,
    "start_time": "2022-03-15T17:03:10.394Z"
   },
   {
    "duration": 31,
    "start_time": "2022-03-15T17:03:10.439Z"
   },
   {
    "duration": 23,
    "start_time": "2022-03-15T17:03:10.472Z"
   },
   {
    "duration": 24,
    "start_time": "2022-03-15T17:03:10.497Z"
   },
   {
    "duration": 37,
    "start_time": "2022-03-15T17:03:10.523Z"
   },
   {
    "duration": 24,
    "start_time": "2022-03-15T17:03:10.562Z"
   },
   {
    "duration": 47,
    "start_time": "2022-03-15T17:03:10.588Z"
   },
   {
    "duration": 40,
    "start_time": "2022-03-15T17:03:10.636Z"
   },
   {
    "duration": 37,
    "start_time": "2022-03-15T17:03:10.678Z"
   },
   {
    "duration": 34,
    "start_time": "2022-03-15T17:03:10.716Z"
   },
   {
    "duration": 23,
    "start_time": "2022-03-15T17:03:10.751Z"
   },
   {
    "duration": 34,
    "start_time": "2022-03-15T17:03:10.775Z"
   },
   {
    "duration": 59,
    "start_time": "2022-03-15T17:03:10.811Z"
   },
   {
    "duration": 19,
    "start_time": "2022-03-15T17:03:10.871Z"
   },
   {
    "duration": 108,
    "start_time": "2022-03-15T17:03:10.892Z"
   },
   {
    "duration": 81,
    "start_time": "2022-03-15T17:16:07.512Z"
   },
   {
    "duration": 2,
    "start_time": "2022-03-15T17:23:53.272Z"
   },
   {
    "duration": 115,
    "start_time": "2022-03-16T07:24:04.240Z"
   },
   {
    "duration": 388,
    "start_time": "2022-03-16T07:24:13.319Z"
   },
   {
    "duration": 328,
    "start_time": "2022-03-16T07:24:35.345Z"
   },
   {
    "duration": 868,
    "start_time": "2022-03-16T07:24:41.834Z"
   },
   {
    "duration": 15,
    "start_time": "2022-03-16T07:24:42.705Z"
   },
   {
    "duration": 26,
    "start_time": "2022-03-16T07:24:42.724Z"
   },
   {
    "duration": 6,
    "start_time": "2022-03-16T07:24:42.753Z"
   },
   {
    "duration": 8,
    "start_time": "2022-03-16T07:24:42.761Z"
   },
   {
    "duration": 8,
    "start_time": "2022-03-16T07:24:42.771Z"
   },
   {
    "duration": 7,
    "start_time": "2022-03-16T07:24:42.781Z"
   },
   {
    "duration": 54,
    "start_time": "2022-03-16T07:24:42.792Z"
   },
   {
    "duration": 12,
    "start_time": "2022-03-16T07:24:42.849Z"
   },
   {
    "duration": 11,
    "start_time": "2022-03-16T07:24:42.863Z"
   },
   {
    "duration": 16,
    "start_time": "2022-03-16T07:24:42.876Z"
   },
   {
    "duration": 18,
    "start_time": "2022-03-16T07:24:42.894Z"
   },
   {
    "duration": 12,
    "start_time": "2022-03-16T07:24:42.942Z"
   },
   {
    "duration": 11,
    "start_time": "2022-03-16T07:24:42.956Z"
   },
   {
    "duration": 4,
    "start_time": "2022-03-16T07:24:42.970Z"
   },
   {
    "duration": 34,
    "start_time": "2022-03-16T07:24:42.976Z"
   },
   {
    "duration": 64,
    "start_time": "2022-03-16T07:24:43.013Z"
   },
   {
    "duration": 3,
    "start_time": "2022-03-16T07:24:43.080Z"
   },
   {
    "duration": 14,
    "start_time": "2022-03-16T07:24:43.086Z"
   },
   {
    "duration": 13,
    "start_time": "2022-03-16T07:27:32.631Z"
   },
   {
    "duration": 12,
    "start_time": "2022-03-16T07:27:46.220Z"
   },
   {
    "duration": 19,
    "start_time": "2022-03-16T07:31:52.087Z"
   },
   {
    "duration": 17,
    "start_time": "2022-03-16T07:32:12.514Z"
   },
   {
    "duration": 19,
    "start_time": "2022-03-16T07:32:54.605Z"
   },
   {
    "duration": 15,
    "start_time": "2022-03-16T07:35:29.180Z"
   },
   {
    "duration": 17,
    "start_time": "2022-03-16T07:35:35.452Z"
   },
   {
    "duration": 14,
    "start_time": "2022-03-16T07:36:59.246Z"
   },
   {
    "duration": 13,
    "start_time": "2022-03-16T07:51:13.343Z"
   },
   {
    "duration": 15,
    "start_time": "2022-03-16T07:51:26.549Z"
   },
   {
    "duration": 15,
    "start_time": "2022-03-16T07:51:56.589Z"
   },
   {
    "duration": 742,
    "start_time": "2022-03-16T07:52:10.613Z"
   },
   {
    "duration": 14,
    "start_time": "2022-03-16T07:52:17.293Z"
   },
   {
    "duration": 13,
    "start_time": "2022-03-16T07:52:25.182Z"
   },
   {
    "duration": 6,
    "start_time": "2022-03-16T07:52:35.138Z"
   },
   {
    "duration": 16,
    "start_time": "2022-03-16T07:52:35.721Z"
   },
   {
    "duration": 83,
    "start_time": "2022-03-16T07:55:36.539Z"
   },
   {
    "duration": 18,
    "start_time": "2022-03-16T08:05:32.616Z"
   },
   {
    "duration": 313,
    "start_time": "2022-03-16T08:06:14.625Z"
   },
   {
    "duration": 302,
    "start_time": "2022-03-16T08:07:06.624Z"
   },
   {
    "duration": 265,
    "start_time": "2022-03-16T08:07:24.343Z"
   },
   {
    "duration": 275,
    "start_time": "2022-03-16T08:07:36.243Z"
   },
   {
    "duration": 13,
    "start_time": "2022-03-16T08:07:50.405Z"
   },
   {
    "duration": 301,
    "start_time": "2022-03-16T08:07:52.208Z"
   },
   {
    "duration": 338,
    "start_time": "2022-03-16T08:08:41.916Z"
   },
   {
    "duration": 136,
    "start_time": "2022-03-16T08:08:51.820Z"
   },
   {
    "duration": 14,
    "start_time": "2022-03-16T08:08:51.959Z"
   },
   {
    "duration": 12,
    "start_time": "2022-03-16T08:08:51.977Z"
   },
   {
    "duration": 6,
    "start_time": "2022-03-16T08:08:51.992Z"
   },
   {
    "duration": 47,
    "start_time": "2022-03-16T08:08:52.001Z"
   },
   {
    "duration": 6,
    "start_time": "2022-03-16T08:08:52.050Z"
   },
   {
    "duration": 6,
    "start_time": "2022-03-16T08:08:52.058Z"
   },
   {
    "duration": 6,
    "start_time": "2022-03-16T08:08:52.068Z"
   },
   {
    "duration": 16,
    "start_time": "2022-03-16T08:08:52.076Z"
   },
   {
    "duration": 13,
    "start_time": "2022-03-16T08:08:52.143Z"
   },
   {
    "duration": 17,
    "start_time": "2022-03-16T08:08:52.159Z"
   },
   {
    "duration": 11,
    "start_time": "2022-03-16T08:08:52.178Z"
   },
   {
    "duration": 11,
    "start_time": "2022-03-16T08:08:52.191Z"
   },
   {
    "duration": 40,
    "start_time": "2022-03-16T08:08:52.204Z"
   },
   {
    "duration": 5,
    "start_time": "2022-03-16T08:08:52.247Z"
   },
   {
    "duration": 30,
    "start_time": "2022-03-16T08:08:52.254Z"
   },
   {
    "duration": 29,
    "start_time": "2022-03-16T08:08:52.287Z"
   },
   {
    "duration": 5,
    "start_time": "2022-03-16T08:08:52.344Z"
   },
   {
    "duration": 20,
    "start_time": "2022-03-16T08:08:52.352Z"
   },
   {
    "duration": 6,
    "start_time": "2022-03-16T08:08:52.375Z"
   },
   {
    "duration": 21,
    "start_time": "2022-03-16T08:08:52.383Z"
   },
   {
    "duration": 40,
    "start_time": "2022-03-16T08:08:52.406Z"
   },
   {
    "duration": 261,
    "start_time": "2022-03-16T08:09:47.717Z"
   },
   {
    "duration": 297,
    "start_time": "2022-03-16T08:10:31.603Z"
   },
   {
    "duration": 117,
    "start_time": "2022-03-16T08:10:37.791Z"
   },
   {
    "duration": 37,
    "start_time": "2022-03-16T08:10:37.912Z"
   },
   {
    "duration": 18,
    "start_time": "2022-03-16T08:10:37.953Z"
   },
   {
    "duration": 8,
    "start_time": "2022-03-16T08:10:37.974Z"
   },
   {
    "duration": 9,
    "start_time": "2022-03-16T08:10:37.985Z"
   },
   {
    "duration": 45,
    "start_time": "2022-03-16T08:10:37.998Z"
   },
   {
    "duration": 6,
    "start_time": "2022-03-16T08:10:38.046Z"
   },
   {
    "duration": 6,
    "start_time": "2022-03-16T08:10:38.056Z"
   },
   {
    "duration": 13,
    "start_time": "2022-03-16T08:10:38.065Z"
   },
   {
    "duration": 11,
    "start_time": "2022-03-16T08:10:38.080Z"
   },
   {
    "duration": 57,
    "start_time": "2022-03-16T08:10:38.094Z"
   },
   {
    "duration": 11,
    "start_time": "2022-03-16T08:10:38.154Z"
   },
   {
    "duration": 13,
    "start_time": "2022-03-16T08:10:38.168Z"
   },
   {
    "duration": 13,
    "start_time": "2022-03-16T08:10:38.184Z"
   },
   {
    "duration": 43,
    "start_time": "2022-03-16T08:10:38.200Z"
   },
   {
    "duration": 28,
    "start_time": "2022-03-16T08:10:38.246Z"
   },
   {
    "duration": 27,
    "start_time": "2022-03-16T08:10:38.276Z"
   },
   {
    "duration": 5,
    "start_time": "2022-03-16T08:10:38.305Z"
   },
   {
    "duration": 49,
    "start_time": "2022-03-16T08:10:38.312Z"
   },
   {
    "duration": 6,
    "start_time": "2022-03-16T08:10:38.364Z"
   },
   {
    "duration": 17,
    "start_time": "2022-03-16T08:10:38.373Z"
   },
   {
    "duration": 7,
    "start_time": "2022-03-16T08:10:38.392Z"
   },
   {
    "duration": 328,
    "start_time": "2022-03-16T08:11:48.483Z"
   },
   {
    "duration": 260,
    "start_time": "2022-03-16T08:11:56.743Z"
   },
   {
    "duration": 291,
    "start_time": "2022-03-16T08:11:58.104Z"
   },
   {
    "duration": 80,
    "start_time": "2022-03-16T08:12:06.090Z"
   },
   {
    "duration": 17,
    "start_time": "2022-03-16T08:12:10.909Z"
   },
   {
    "duration": 11,
    "start_time": "2022-03-16T08:12:13.609Z"
   },
   {
    "duration": 7768,
    "start_time": "2022-03-16T08:12:27.396Z"
   },
   {
    "duration": 10,
    "start_time": "2022-03-16T08:12:42.513Z"
   },
   {
    "duration": 17,
    "start_time": "2022-03-16T08:14:35.547Z"
   },
   {
    "duration": 9,
    "start_time": "2022-03-16T08:14:36.623Z"
   },
   {
    "duration": 6,
    "start_time": "2022-03-16T08:19:18.679Z"
   },
   {
    "duration": 7,
    "start_time": "2022-03-16T09:13:27.358Z"
   },
   {
    "duration": 6,
    "start_time": "2022-03-16T09:16:46.696Z"
   },
   {
    "duration": 11,
    "start_time": "2022-03-16T09:18:29.134Z"
   },
   {
    "duration": 1908,
    "start_time": "2022-03-16T09:18:56.947Z"
   },
   {
    "duration": 8,
    "start_time": "2022-03-16T09:19:10.295Z"
   },
   {
    "duration": 8,
    "start_time": "2022-03-16T09:21:28.520Z"
   },
   {
    "duration": 7,
    "start_time": "2022-03-16T09:22:12.048Z"
   },
   {
    "duration": 6,
    "start_time": "2022-03-16T09:23:07.145Z"
   },
   {
    "duration": 83,
    "start_time": "2022-03-16T09:29:05.656Z"
   },
   {
    "duration": 111,
    "start_time": "2022-03-16T09:38:06.562Z"
   },
   {
    "duration": 7,
    "start_time": "2022-03-16T09:42:44.686Z"
   },
   {
    "duration": 6,
    "start_time": "2022-03-16T09:43:44.077Z"
   },
   {
    "duration": 6,
    "start_time": "2022-03-16T09:43:49.914Z"
   },
   {
    "duration": 6,
    "start_time": "2022-03-16T09:44:04.484Z"
   },
   {
    "duration": 6,
    "start_time": "2022-03-16T09:44:09.422Z"
   },
   {
    "duration": 6,
    "start_time": "2022-03-16T09:44:19.382Z"
   },
   {
    "duration": 5,
    "start_time": "2022-03-16T09:44:27.641Z"
   },
   {
    "duration": 310,
    "start_time": "2022-03-16T09:47:39.401Z"
   },
   {
    "duration": 89,
    "start_time": "2022-03-16T09:47:48.067Z"
   },
   {
    "duration": 14,
    "start_time": "2022-03-16T09:47:48.160Z"
   },
   {
    "duration": 12,
    "start_time": "2022-03-16T09:47:48.177Z"
   },
   {
    "duration": 5,
    "start_time": "2022-03-16T09:47:48.192Z"
   },
   {
    "duration": 45,
    "start_time": "2022-03-16T09:47:48.200Z"
   },
   {
    "duration": 10,
    "start_time": "2022-03-16T09:47:48.247Z"
   },
   {
    "duration": 10,
    "start_time": "2022-03-16T09:47:48.259Z"
   },
   {
    "duration": 5,
    "start_time": "2022-03-16T09:47:48.273Z"
   },
   {
    "duration": 12,
    "start_time": "2022-03-16T09:47:48.281Z"
   },
   {
    "duration": 6,
    "start_time": "2022-03-16T09:47:48.295Z"
   },
   {
    "duration": 20,
    "start_time": "2022-03-16T09:47:48.345Z"
   },
   {
    "duration": 6,
    "start_time": "2022-03-16T09:47:48.368Z"
   },
   {
    "duration": 9,
    "start_time": "2022-03-16T09:47:48.377Z"
   },
   {
    "duration": 8,
    "start_time": "2022-03-16T09:47:48.389Z"
   },
   {
    "duration": 47,
    "start_time": "2022-03-16T09:47:48.400Z"
   },
   {
    "duration": 9,
    "start_time": "2022-03-16T09:47:48.450Z"
   },
   {
    "duration": 7,
    "start_time": "2022-03-16T09:47:48.461Z"
   },
   {
    "duration": 27,
    "start_time": "2022-03-16T09:47:48.470Z"
   },
   {
    "duration": 57,
    "start_time": "2022-03-16T09:47:48.499Z"
   },
   {
    "duration": 6,
    "start_time": "2022-03-16T09:47:48.558Z"
   },
   {
    "duration": 22,
    "start_time": "2022-03-16T09:47:48.566Z"
   },
   {
    "duration": 5,
    "start_time": "2022-03-16T09:47:48.591Z"
   },
   {
    "duration": 55,
    "start_time": "2022-03-16T09:47:48.601Z"
   },
   {
    "duration": 7,
    "start_time": "2022-03-16T09:47:48.658Z"
   },
   {
    "duration": 5,
    "start_time": "2022-03-16T09:47:48.668Z"
   },
   {
    "duration": 329,
    "start_time": "2022-03-16T09:47:48.675Z"
   },
   {
    "duration": -1898,
    "start_time": "2022-03-16T09:47:50.905Z"
   },
   {
    "duration": 86,
    "start_time": "2022-03-16T09:57:29.328Z"
   },
   {
    "duration": 16,
    "start_time": "2022-03-16T09:57:32.551Z"
   },
   {
    "duration": 13,
    "start_time": "2022-03-16T09:57:34.764Z"
   },
   {
    "duration": 14,
    "start_time": "2022-03-16T09:57:35.143Z"
   },
   {
    "duration": 6,
    "start_time": "2022-03-16T09:57:36.215Z"
   },
   {
    "duration": 7,
    "start_time": "2022-03-16T09:57:37.130Z"
   },
   {
    "duration": 7,
    "start_time": "2022-03-16T09:57:37.969Z"
   },
   {
    "duration": 6,
    "start_time": "2022-03-16T09:57:40.558Z"
   },
   {
    "duration": 19,
    "start_time": "2022-03-16T09:57:41.033Z"
   },
   {
    "duration": 6,
    "start_time": "2022-03-16T09:57:44.468Z"
   },
   {
    "duration": 20,
    "start_time": "2022-03-16T09:57:49.842Z"
   },
   {
    "duration": 6,
    "start_time": "2022-03-16T09:57:50.513Z"
   },
   {
    "duration": 13,
    "start_time": "2022-03-16T09:57:54.046Z"
   },
   {
    "duration": 8,
    "start_time": "2022-03-16T09:57:58.824Z"
   },
   {
    "duration": 6,
    "start_time": "2022-03-16T09:57:59.396Z"
   },
   {
    "duration": 9,
    "start_time": "2022-03-16T09:58:00.200Z"
   },
   {
    "duration": 5,
    "start_time": "2022-03-16T09:58:02.904Z"
   },
   {
    "duration": 27,
    "start_time": "2022-03-16T09:58:21.130Z"
   },
   {
    "duration": 27,
    "start_time": "2022-03-16T09:58:22.797Z"
   },
   {
    "duration": 6,
    "start_time": "2022-03-16T09:58:27.126Z"
   },
   {
    "duration": 16,
    "start_time": "2022-03-16T09:58:28.520Z"
   },
   {
    "duration": 14,
    "start_time": "2022-03-16T09:58:59.263Z"
   },
   {
    "duration": 6,
    "start_time": "2022-03-16T09:59:02.514Z"
   },
   {
    "duration": 17,
    "start_time": "2022-03-16T09:59:07.256Z"
   },
   {
    "duration": 7,
    "start_time": "2022-03-16T09:59:14.402Z"
   },
   {
    "duration": 326,
    "start_time": "2022-03-16T09:59:27.669Z"
   },
   {
    "duration": 266,
    "start_time": "2022-03-16T10:01:50.674Z"
   },
   {
    "duration": 81,
    "start_time": "2022-03-16T10:01:57.605Z"
   },
   {
    "duration": 336,
    "start_time": "2022-03-16T10:02:07.654Z"
   },
   {
    "duration": 638,
    "start_time": "2022-03-16T10:02:43.823Z"
   },
   {
    "duration": 25,
    "start_time": "2022-03-16T10:03:09.367Z"
   },
   {
    "duration": 80,
    "start_time": "2022-03-16T10:03:40.550Z"
   },
   {
    "duration": 17,
    "start_time": "2022-03-16T10:03:40.643Z"
   },
   {
    "duration": 16,
    "start_time": "2022-03-16T10:03:40.664Z"
   },
   {
    "duration": 5,
    "start_time": "2022-03-16T10:03:40.683Z"
   },
   {
    "duration": 5,
    "start_time": "2022-03-16T10:03:40.691Z"
   },
   {
    "duration": 45,
    "start_time": "2022-03-16T10:03:40.699Z"
   },
   {
    "duration": 8,
    "start_time": "2022-03-16T10:03:40.748Z"
   },
   {
    "duration": 6,
    "start_time": "2022-03-16T10:03:40.762Z"
   },
   {
    "duration": 12,
    "start_time": "2022-03-16T10:03:40.771Z"
   },
   {
    "duration": 6,
    "start_time": "2022-03-16T10:03:40.785Z"
   },
   {
    "duration": 65,
    "start_time": "2022-03-16T10:03:40.794Z"
   },
   {
    "duration": 9,
    "start_time": "2022-03-16T10:03:40.862Z"
   },
   {
    "duration": 9,
    "start_time": "2022-03-16T10:03:40.874Z"
   },
   {
    "duration": 8,
    "start_time": "2022-03-16T10:03:40.886Z"
   },
   {
    "duration": 8,
    "start_time": "2022-03-16T10:03:40.896Z"
   },
   {
    "duration": 44,
    "start_time": "2022-03-16T10:03:40.907Z"
   },
   {
    "duration": 8,
    "start_time": "2022-03-16T10:03:40.954Z"
   },
   {
    "duration": 27,
    "start_time": "2022-03-16T10:03:40.965Z"
   },
   {
    "duration": 69,
    "start_time": "2022-03-16T10:03:40.994Z"
   },
   {
    "duration": 6,
    "start_time": "2022-03-16T10:03:41.066Z"
   },
   {
    "duration": 17,
    "start_time": "2022-03-16T10:03:41.075Z"
   },
   {
    "duration": 6,
    "start_time": "2022-03-16T10:03:41.095Z"
   },
   {
    "duration": 18,
    "start_time": "2022-03-16T10:03:41.143Z"
   },
   {
    "duration": 25,
    "start_time": "2022-03-16T10:03:41.165Z"
   },
   {
    "duration": 7,
    "start_time": "2022-03-16T10:03:41.193Z"
   },
   {
    "duration": 590,
    "start_time": "2022-03-16T10:03:41.203Z"
   },
   {
    "duration": -1079,
    "start_time": "2022-03-16T10:03:42.875Z"
   },
   {
    "duration": 6802,
    "start_time": "2022-03-16T10:11:50.223Z"
   },
   {
    "duration": 19,
    "start_time": "2022-03-16T10:12:44.846Z"
   },
   {
    "duration": 15,
    "start_time": "2022-03-16T10:13:16.289Z"
   },
   {
    "duration": 18,
    "start_time": "2022-03-16T10:28:44.854Z"
   },
   {
    "duration": 4,
    "start_time": "2022-03-16T10:53:02.052Z"
   },
   {
    "duration": 263,
    "start_time": "2022-03-16T10:53:13.796Z"
   },
   {
    "duration": 260,
    "start_time": "2022-03-16T10:53:22.088Z"
   },
   {
    "duration": 6,
    "start_time": "2022-03-16T10:53:31.352Z"
   },
   {
    "duration": 6,
    "start_time": "2022-03-16T10:53:41.435Z"
   },
   {
    "duration": 6,
    "start_time": "2022-03-16T10:53:44.102Z"
   },
   {
    "duration": 6,
    "start_time": "2022-03-16T10:56:44.561Z"
   },
   {
    "duration": 6,
    "start_time": "2022-03-16T10:56:50.814Z"
   },
   {
    "duration": 6,
    "start_time": "2022-03-16T10:56:57.116Z"
   },
   {
    "duration": 5,
    "start_time": "2022-03-16T10:57:01.868Z"
   },
   {
    "duration": 5,
    "start_time": "2022-03-16T10:57:09.707Z"
   },
   {
    "duration": 6,
    "start_time": "2022-03-16T10:57:12.333Z"
   },
   {
    "duration": 5,
    "start_time": "2022-03-16T10:57:51.334Z"
   },
   {
    "duration": 28,
    "start_time": "2022-03-16T10:58:02.047Z"
   },
   {
    "duration": 18,
    "start_time": "2022-03-16T10:58:10.431Z"
   },
   {
    "duration": 6,
    "start_time": "2022-03-16T10:58:38.933Z"
   },
   {
    "duration": 5,
    "start_time": "2022-03-16T10:58:43.313Z"
   },
   {
    "duration": 7,
    "start_time": "2022-03-16T10:59:07.263Z"
   },
   {
    "duration": 18,
    "start_time": "2022-03-16T10:59:12.204Z"
   },
   {
    "duration": 7,
    "start_time": "2022-03-16T10:59:15.694Z"
   },
   {
    "duration": 112,
    "start_time": "2022-03-16T10:59:20.134Z"
   },
   {
    "duration": 14,
    "start_time": "2022-03-16T10:59:20.248Z"
   },
   {
    "duration": 12,
    "start_time": "2022-03-16T10:59:20.264Z"
   },
   {
    "duration": 8,
    "start_time": "2022-03-16T10:59:20.278Z"
   },
   {
    "duration": 7,
    "start_time": "2022-03-16T10:59:20.288Z"
   },
   {
    "duration": 46,
    "start_time": "2022-03-16T10:59:20.298Z"
   },
   {
    "duration": 7,
    "start_time": "2022-03-16T10:59:20.347Z"
   },
   {
    "duration": 6,
    "start_time": "2022-03-16T10:59:20.359Z"
   },
   {
    "duration": 12,
    "start_time": "2022-03-16T10:59:20.367Z"
   },
   {
    "duration": 6,
    "start_time": "2022-03-16T10:59:20.381Z"
   },
   {
    "duration": 63,
    "start_time": "2022-03-16T10:59:20.389Z"
   },
   {
    "duration": 8,
    "start_time": "2022-03-16T10:59:20.454Z"
   },
   {
    "duration": 10,
    "start_time": "2022-03-16T10:59:20.464Z"
   },
   {
    "duration": 9,
    "start_time": "2022-03-16T10:59:20.476Z"
   },
   {
    "duration": 6,
    "start_time": "2022-03-16T10:59:20.487Z"
   },
   {
    "duration": 49,
    "start_time": "2022-03-16T10:59:20.495Z"
   },
   {
    "duration": 5,
    "start_time": "2022-03-16T10:59:20.546Z"
   },
   {
    "duration": 26,
    "start_time": "2022-03-16T10:59:20.553Z"
   },
   {
    "duration": 28,
    "start_time": "2022-03-16T10:59:20.581Z"
   },
   {
    "duration": 33,
    "start_time": "2022-03-16T10:59:20.611Z"
   },
   {
    "duration": 17,
    "start_time": "2022-03-16T10:59:20.647Z"
   },
   {
    "duration": 6,
    "start_time": "2022-03-16T10:59:20.666Z"
   },
   {
    "duration": 15,
    "start_time": "2022-03-16T10:59:20.676Z"
   },
   {
    "duration": 61,
    "start_time": "2022-03-16T10:59:20.693Z"
   },
   {
    "duration": 5,
    "start_time": "2022-03-16T10:59:20.756Z"
   },
   {
    "duration": 16,
    "start_time": "2022-03-16T10:59:20.763Z"
   },
   {
    "duration": 11,
    "start_time": "2022-03-16T10:59:20.781Z"
   },
   {
    "duration": 5,
    "start_time": "2022-03-16T10:59:20.794Z"
   },
   {
    "duration": 54,
    "start_time": "2022-03-16T10:59:20.801Z"
   },
   {
    "duration": 8,
    "start_time": "2022-03-16T10:59:20.857Z"
   },
   {
    "duration": 5,
    "start_time": "2022-03-16T10:59:28.497Z"
   },
   {
    "duration": 5,
    "start_time": "2022-03-16T11:00:04.065Z"
   },
   {
    "duration": 6,
    "start_time": "2022-03-16T11:00:15.543Z"
   },
   {
    "duration": 11,
    "start_time": "2022-03-16T11:02:31.316Z"
   },
   {
    "duration": 20,
    "start_time": "2022-03-16T11:03:04.512Z"
   },
   {
    "duration": 4,
    "start_time": "2022-03-16T11:04:09.495Z"
   },
   {
    "duration": 13,
    "start_time": "2022-03-16T11:04:10.279Z"
   },
   {
    "duration": 20,
    "start_time": "2022-03-16T11:04:10.910Z"
   },
   {
    "duration": 5,
    "start_time": "2022-03-16T11:05:18.676Z"
   },
   {
    "duration": 13,
    "start_time": "2022-03-16T11:05:19.257Z"
   },
   {
    "duration": 20,
    "start_time": "2022-03-16T11:05:20.120Z"
   },
   {
    "duration": 7,
    "start_time": "2022-03-16T11:09:47.988Z"
   },
   {
    "duration": 96,
    "start_time": "2022-03-16T11:10:49.150Z"
   },
   {
    "duration": 7,
    "start_time": "2022-03-16T11:11:26.261Z"
   },
   {
    "duration": 7,
    "start_time": "2022-03-16T11:11:31.306Z"
   },
   {
    "duration": 90,
    "start_time": "2022-03-16T11:12:04.660Z"
   },
   {
    "duration": 119,
    "start_time": "2022-03-16T11:12:08.956Z"
   },
   {
    "duration": 31,
    "start_time": "2022-03-16T11:13:44.928Z"
   },
   {
    "duration": 87,
    "start_time": "2022-03-16T11:17:29.680Z"
   },
   {
    "duration": 6,
    "start_time": "2022-03-16T11:17:34.293Z"
   },
   {
    "duration": 5,
    "start_time": "2022-03-16T11:17:44.109Z"
   },
   {
    "duration": 12,
    "start_time": "2022-03-16T11:17:58.929Z"
   },
   {
    "duration": 13738,
    "start_time": "2022-03-16T11:20:14.505Z"
   },
   {
    "duration": 21,
    "start_time": "2022-03-16T11:20:51.493Z"
   },
   {
    "duration": 1150,
    "start_time": "2022-03-16T11:22:04.517Z"
   },
   {
    "duration": 258,
    "start_time": "2022-03-16T11:22:38.523Z"
   },
   {
    "duration": 20,
    "start_time": "2022-03-16T11:24:25.892Z"
   },
   {
    "duration": 22,
    "start_time": "2022-03-16T11:25:16.716Z"
   },
   {
    "duration": 112,
    "start_time": "2022-03-16T11:25:44.157Z"
   },
   {
    "duration": 23,
    "start_time": "2022-03-16T11:25:55.258Z"
   },
   {
    "duration": 89,
    "start_time": "2022-03-16T11:26:17.882Z"
   },
   {
    "duration": 15,
    "start_time": "2022-03-16T11:26:17.974Z"
   },
   {
    "duration": 51,
    "start_time": "2022-03-16T11:26:17.992Z"
   },
   {
    "duration": 6,
    "start_time": "2022-03-16T11:26:18.046Z"
   },
   {
    "duration": 15,
    "start_time": "2022-03-16T11:26:18.054Z"
   },
   {
    "duration": 17,
    "start_time": "2022-03-16T11:26:18.071Z"
   },
   {
    "duration": 13,
    "start_time": "2022-03-16T11:26:18.091Z"
   },
   {
    "duration": 14,
    "start_time": "2022-03-16T11:26:18.108Z"
   },
   {
    "duration": 22,
    "start_time": "2022-03-16T11:26:18.125Z"
   },
   {
    "duration": 17,
    "start_time": "2022-03-16T11:26:18.150Z"
   },
   {
    "duration": 25,
    "start_time": "2022-03-16T11:26:18.170Z"
   },
   {
    "duration": 6,
    "start_time": "2022-03-16T11:26:18.198Z"
   },
   {
    "duration": 11,
    "start_time": "2022-03-16T11:26:18.207Z"
   },
   {
    "duration": 9,
    "start_time": "2022-03-16T11:26:18.244Z"
   },
   {
    "duration": 13,
    "start_time": "2022-03-16T11:26:18.256Z"
   },
   {
    "duration": 7,
    "start_time": "2022-03-16T11:26:18.271Z"
   },
   {
    "duration": 7,
    "start_time": "2022-03-16T11:26:18.281Z"
   },
   {
    "duration": 8,
    "start_time": "2022-03-16T11:26:18.291Z"
   },
   {
    "duration": 68,
    "start_time": "2022-03-16T11:26:18.301Z"
   },
   {
    "duration": 31,
    "start_time": "2022-03-16T11:26:18.372Z"
   },
   {
    "duration": 6,
    "start_time": "2022-03-16T11:26:18.406Z"
   },
   {
    "duration": 40,
    "start_time": "2022-03-16T11:26:18.415Z"
   },
   {
    "duration": 6,
    "start_time": "2022-03-16T11:26:18.460Z"
   },
   {
    "duration": 21,
    "start_time": "2022-03-16T11:26:18.468Z"
   },
   {
    "duration": 52,
    "start_time": "2022-03-16T11:26:18.491Z"
   },
   {
    "duration": 5,
    "start_time": "2022-03-16T11:26:18.545Z"
   },
   {
    "duration": 25,
    "start_time": "2022-03-16T11:26:18.553Z"
   },
   {
    "duration": 10,
    "start_time": "2022-03-16T11:26:18.581Z"
   },
   {
    "duration": 8,
    "start_time": "2022-03-16T11:26:18.594Z"
   },
   {
    "duration": 46,
    "start_time": "2022-03-16T11:26:18.604Z"
   },
   {
    "duration": 25,
    "start_time": "2022-03-16T11:26:18.652Z"
   },
   {
    "duration": 20,
    "start_time": "2022-03-16T11:26:29.615Z"
   },
   {
    "duration": 31,
    "start_time": "2022-03-16T11:28:42.553Z"
   },
   {
    "duration": 7047,
    "start_time": "2022-03-16T11:32:09.216Z"
   },
   {
    "duration": 28,
    "start_time": "2022-03-16T11:32:17.343Z"
   },
   {
    "duration": 34,
    "start_time": "2022-03-16T11:34:00.115Z"
   },
   {
    "duration": 11,
    "start_time": "2022-03-16T11:34:34.195Z"
   },
   {
    "duration": 11,
    "start_time": "2022-03-16T11:34:52.060Z"
   },
   {
    "duration": 306,
    "start_time": "2022-03-16T11:48:44.986Z"
   },
   {
    "duration": 29,
    "start_time": "2022-03-16T11:48:57.720Z"
   },
   {
    "duration": 31,
    "start_time": "2022-03-16T11:50:20.755Z"
   },
   {
    "duration": 97,
    "start_time": "2022-03-16T11:50:48.972Z"
   },
   {
    "duration": 14,
    "start_time": "2022-03-16T11:50:49.072Z"
   },
   {
    "duration": 13,
    "start_time": "2022-03-16T11:50:49.089Z"
   },
   {
    "duration": 41,
    "start_time": "2022-03-16T11:50:49.105Z"
   },
   {
    "duration": 20,
    "start_time": "2022-03-16T11:50:49.149Z"
   },
   {
    "duration": 7,
    "start_time": "2022-03-16T11:50:49.172Z"
   },
   {
    "duration": 8,
    "start_time": "2022-03-16T11:50:49.182Z"
   },
   {
    "duration": 6,
    "start_time": "2022-03-16T11:50:49.194Z"
   },
   {
    "duration": 23,
    "start_time": "2022-03-16T11:50:49.244Z"
   },
   {
    "duration": 6,
    "start_time": "2022-03-16T11:50:49.270Z"
   },
   {
    "duration": 21,
    "start_time": "2022-03-16T11:50:49.278Z"
   },
   {
    "duration": 22,
    "start_time": "2022-03-16T11:50:49.302Z"
   },
   {
    "duration": 18,
    "start_time": "2022-03-16T11:50:49.326Z"
   },
   {
    "duration": 15,
    "start_time": "2022-03-16T11:50:49.348Z"
   },
   {
    "duration": 10,
    "start_time": "2022-03-16T11:50:49.365Z"
   },
   {
    "duration": 6,
    "start_time": "2022-03-16T11:50:49.378Z"
   },
   {
    "duration": 10,
    "start_time": "2022-03-16T11:50:49.387Z"
   },
   {
    "duration": 6,
    "start_time": "2022-03-16T11:50:49.445Z"
   },
   {
    "duration": 36,
    "start_time": "2022-03-16T11:50:49.454Z"
   },
   {
    "duration": 51,
    "start_time": "2022-03-16T11:50:49.492Z"
   },
   {
    "duration": 8,
    "start_time": "2022-03-16T11:50:49.547Z"
   },
   {
    "duration": 22,
    "start_time": "2022-03-16T11:50:49.558Z"
   },
   {
    "duration": 6,
    "start_time": "2022-03-16T11:50:49.584Z"
   },
   {
    "duration": 18,
    "start_time": "2022-03-16T11:50:49.592Z"
   },
   {
    "duration": 31,
    "start_time": "2022-03-16T11:50:49.643Z"
   },
   {
    "duration": 5,
    "start_time": "2022-03-16T11:50:49.676Z"
   },
   {
    "duration": 19,
    "start_time": "2022-03-16T11:50:49.684Z"
   },
   {
    "duration": 40,
    "start_time": "2022-03-16T11:50:49.706Z"
   },
   {
    "duration": 17,
    "start_time": "2022-03-16T11:50:49.750Z"
   },
   {
    "duration": 15,
    "start_time": "2022-03-16T11:50:49.769Z"
   },
   {
    "duration": 30,
    "start_time": "2022-03-16T11:50:49.786Z"
   },
   {
    "duration": 31,
    "start_time": "2022-03-16T11:51:27.462Z"
   },
   {
    "duration": 31,
    "start_time": "2022-03-16T11:56:50.138Z"
   },
   {
    "duration": 30,
    "start_time": "2022-03-16T12:00:48.618Z"
   },
   {
    "duration": 114,
    "start_time": "2022-03-16T12:03:04.555Z"
   },
   {
    "duration": 35,
    "start_time": "2022-03-16T12:03:15.324Z"
   },
   {
    "duration": 25,
    "start_time": "2022-03-16T12:03:43.677Z"
   },
   {
    "duration": 25,
    "start_time": "2022-03-16T12:04:19.881Z"
   },
   {
    "duration": 318,
    "start_time": "2022-03-16T12:07:06.776Z"
   },
   {
    "duration": 25,
    "start_time": "2022-03-16T12:07:19.263Z"
   },
   {
    "duration": 288,
    "start_time": "2022-03-16T12:08:57.889Z"
   },
   {
    "duration": 26,
    "start_time": "2022-03-16T12:09:16.587Z"
   },
   {
    "duration": 34,
    "start_time": "2022-03-16T12:15:14.745Z"
   },
   {
    "duration": 30,
    "start_time": "2022-03-16T12:17:08.255Z"
   },
   {
    "duration": 296,
    "start_time": "2022-03-16T16:02:18.376Z"
   },
   {
    "duration": 823,
    "start_time": "2022-03-16T16:02:30.097Z"
   },
   {
    "duration": 6,
    "start_time": "2022-03-16T16:03:06.551Z"
   },
   {
    "duration": 7,
    "start_time": "2022-03-16T16:05:40.218Z"
   },
   {
    "duration": 6,
    "start_time": "2022-03-16T16:37:28.621Z"
   },
   {
    "duration": 20,
    "start_time": "2022-03-16T16:38:01.677Z"
   },
   {
    "duration": 238,
    "start_time": "2022-03-16T16:38:20.549Z"
   },
   {
    "duration": 84,
    "start_time": "2022-03-16T16:38:31.654Z"
   },
   {
    "duration": 47,
    "start_time": "2022-03-16T16:38:31.741Z"
   },
   {
    "duration": 21,
    "start_time": "2022-03-16T16:38:31.791Z"
   },
   {
    "duration": 23,
    "start_time": "2022-03-16T16:38:31.815Z"
   },
   {
    "duration": 18,
    "start_time": "2022-03-16T16:38:31.840Z"
   },
   {
    "duration": 21,
    "start_time": "2022-03-16T16:38:31.861Z"
   },
   {
    "duration": 18,
    "start_time": "2022-03-16T16:38:31.884Z"
   },
   {
    "duration": 18,
    "start_time": "2022-03-16T16:38:31.906Z"
   },
   {
    "duration": 20,
    "start_time": "2022-03-16T16:38:31.927Z"
   },
   {
    "duration": 21,
    "start_time": "2022-03-16T16:38:31.949Z"
   },
   {
    "duration": 24,
    "start_time": "2022-03-16T16:38:31.973Z"
   },
   {
    "duration": 11,
    "start_time": "2022-03-16T16:38:31.999Z"
   },
   {
    "duration": 24,
    "start_time": "2022-03-16T16:38:32.013Z"
   },
   {
    "duration": 17,
    "start_time": "2022-03-16T16:38:32.040Z"
   },
   {
    "duration": 36,
    "start_time": "2022-03-16T16:38:32.059Z"
   },
   {
    "duration": 23,
    "start_time": "2022-03-16T16:38:32.097Z"
   },
   {
    "duration": 17,
    "start_time": "2022-03-16T16:38:32.122Z"
   },
   {
    "duration": 31,
    "start_time": "2022-03-16T16:38:32.142Z"
   },
   {
    "duration": 44,
    "start_time": "2022-03-16T16:38:32.175Z"
   },
   {
    "duration": 28,
    "start_time": "2022-03-16T16:38:32.222Z"
   },
   {
    "duration": 5,
    "start_time": "2022-03-16T16:38:32.253Z"
   },
   {
    "duration": 27,
    "start_time": "2022-03-16T16:38:32.261Z"
   },
   {
    "duration": 6,
    "start_time": "2022-03-16T16:38:32.293Z"
   },
   {
    "duration": 34,
    "start_time": "2022-03-16T16:38:32.301Z"
   },
   {
    "duration": 17,
    "start_time": "2022-03-16T16:38:32.338Z"
   },
   {
    "duration": 25,
    "start_time": "2022-03-16T16:38:32.357Z"
   },
   {
    "duration": 42,
    "start_time": "2022-03-16T16:38:32.384Z"
   },
   {
    "duration": 27,
    "start_time": "2022-03-16T16:38:32.428Z"
   },
   {
    "duration": 18,
    "start_time": "2022-03-16T16:38:32.458Z"
   },
   {
    "duration": 53,
    "start_time": "2022-03-16T16:38:32.478Z"
   },
   {
    "duration": 59,
    "start_time": "2022-03-16T16:38:32.533Z"
   },
   {
    "duration": 29,
    "start_time": "2022-03-16T16:38:32.594Z"
   },
   {
    "duration": 25,
    "start_time": "2022-03-16T16:38:32.625Z"
   },
   {
    "duration": 42,
    "start_time": "2022-03-16T16:38:32.652Z"
   },
   {
    "duration": 32,
    "start_time": "2022-03-16T16:43:10.010Z"
   },
   {
    "duration": 9,
    "start_time": "2022-03-16T16:48:37.579Z"
   },
   {
    "duration": 26,
    "start_time": "2022-03-16T16:54:41.362Z"
   },
   {
    "duration": 3,
    "start_time": "2022-03-16T16:55:09.922Z"
   },
   {
    "duration": 37,
    "start_time": "2022-03-16T16:56:45.750Z"
   },
   {
    "duration": 36,
    "start_time": "2022-03-16T16:58:57.986Z"
   },
   {
    "duration": 35,
    "start_time": "2022-03-16T16:59:10.218Z"
   },
   {
    "duration": 37,
    "start_time": "2022-03-16T16:59:28.137Z"
   },
   {
    "duration": 40,
    "start_time": "2022-03-16T17:00:14.195Z"
   },
   {
    "duration": 36,
    "start_time": "2022-03-16T17:02:05.444Z"
   },
   {
    "duration": 42,
    "start_time": "2022-03-16T17:02:22.487Z"
   },
   {
    "duration": 22,
    "start_time": "2022-03-16T17:03:36.686Z"
   },
   {
    "duration": 34,
    "start_time": "2022-03-16T17:04:17.010Z"
   },
   {
    "duration": 37,
    "start_time": "2022-03-16T17:04:56.670Z"
   },
   {
    "duration": 39,
    "start_time": "2022-03-16T17:06:55.290Z"
   },
   {
    "duration": 38,
    "start_time": "2022-03-16T17:07:29.904Z"
   },
   {
    "duration": 33,
    "start_time": "2022-03-16T17:07:45.940Z"
   },
   {
    "duration": 1107,
    "start_time": "2022-03-16T19:40:08.144Z"
   },
   {
    "duration": 12,
    "start_time": "2022-03-16T19:40:09.253Z"
   },
   {
    "duration": 10,
    "start_time": "2022-03-16T19:40:09.267Z"
   },
   {
    "duration": 6,
    "start_time": "2022-03-16T19:40:09.279Z"
   },
   {
    "duration": 6,
    "start_time": "2022-03-16T19:40:09.286Z"
   },
   {
    "duration": 4,
    "start_time": "2022-03-16T19:40:09.294Z"
   },
   {
    "duration": 7,
    "start_time": "2022-03-16T19:40:09.333Z"
   },
   {
    "duration": 18,
    "start_time": "2022-03-16T19:40:09.342Z"
   },
   {
    "duration": 11,
    "start_time": "2022-03-16T19:40:09.363Z"
   },
   {
    "duration": 6,
    "start_time": "2022-03-16T19:40:09.376Z"
   },
   {
    "duration": 16,
    "start_time": "2022-03-16T19:40:09.384Z"
   },
   {
    "duration": 32,
    "start_time": "2022-03-16T19:40:09.402Z"
   },
   {
    "duration": 10,
    "start_time": "2022-03-16T19:40:09.438Z"
   },
   {
    "duration": 7,
    "start_time": "2022-03-16T19:40:09.450Z"
   },
   {
    "duration": 9,
    "start_time": "2022-03-16T19:40:09.459Z"
   },
   {
    "duration": 8,
    "start_time": "2022-03-16T19:40:09.470Z"
   },
   {
    "duration": 8,
    "start_time": "2022-03-16T19:40:09.479Z"
   },
   {
    "duration": 4,
    "start_time": "2022-03-16T19:40:09.488Z"
   },
   {
    "duration": 60,
    "start_time": "2022-03-16T19:40:09.494Z"
   },
   {
    "duration": 21,
    "start_time": "2022-03-16T19:40:09.556Z"
   },
   {
    "duration": 4,
    "start_time": "2022-03-16T19:40:09.580Z"
   },
   {
    "duration": 18,
    "start_time": "2022-03-16T19:40:09.586Z"
   },
   {
    "duration": 29,
    "start_time": "2022-03-16T19:40:09.605Z"
   },
   {
    "duration": 27,
    "start_time": "2022-03-16T19:40:09.637Z"
   },
   {
    "duration": 6,
    "start_time": "2022-03-16T19:40:09.666Z"
   },
   {
    "duration": 5,
    "start_time": "2022-03-16T19:40:09.674Z"
   },
   {
    "duration": 12,
    "start_time": "2022-03-16T19:40:09.683Z"
   },
   {
    "duration": 10,
    "start_time": "2022-03-16T19:40:09.697Z"
   },
   {
    "duration": 4,
    "start_time": "2022-03-16T19:40:09.732Z"
   },
   {
    "duration": 23,
    "start_time": "2022-03-16T19:40:09.738Z"
   },
   {
    "duration": 29,
    "start_time": "2022-03-16T19:40:09.763Z"
   },
   {
    "duration": 57,
    "start_time": "2022-03-16T19:40:09.794Z"
   },
   {
    "duration": 23,
    "start_time": "2022-03-16T19:40:09.853Z"
   },
   {
    "duration": 29,
    "start_time": "2022-03-16T19:40:09.878Z"
   },
   {
    "duration": 57,
    "start_time": "2022-03-16T19:40:09.908Z"
   },
   {
    "duration": 23,
    "start_time": "2022-03-16T19:40:09.967Z"
   },
   {
    "duration": 46,
    "start_time": "2022-03-16T19:40:43.338Z"
   },
   {
    "duration": 17,
    "start_time": "2022-03-16T19:41:07.631Z"
   },
   {
    "duration": 285,
    "start_time": "2022-03-16T19:42:08.008Z"
   },
   {
    "duration": 21,
    "start_time": "2022-03-16T19:42:14.334Z"
   },
   {
    "duration": 227,
    "start_time": "2022-03-16T19:43:00.716Z"
   },
   {
    "duration": 24,
    "start_time": "2022-03-16T19:43:23.009Z"
   },
   {
    "duration": 22,
    "start_time": "2022-03-16T19:45:02.486Z"
   },
   {
    "duration": 24,
    "start_time": "2022-03-16T19:46:14.262Z"
   },
   {
    "duration": 27,
    "start_time": "2022-03-16T19:47:38.486Z"
   },
   {
    "duration": 6,
    "start_time": "2022-03-16T19:48:48.815Z"
   },
   {
    "duration": 70,
    "start_time": "2022-03-17T07:46:41.951Z"
   },
   {
    "duration": 586,
    "start_time": "2022-03-17T07:46:47.348Z"
   },
   {
    "duration": 21,
    "start_time": "2022-03-17T07:46:47.936Z"
   },
   {
    "duration": 13,
    "start_time": "2022-03-17T07:46:47.959Z"
   },
   {
    "duration": 8,
    "start_time": "2022-03-17T07:46:47.974Z"
   },
   {
    "duration": 7,
    "start_time": "2022-03-17T07:46:47.984Z"
   },
   {
    "duration": 13,
    "start_time": "2022-03-17T07:46:47.992Z"
   },
   {
    "duration": 6,
    "start_time": "2022-03-17T07:46:48.006Z"
   },
   {
    "duration": 22,
    "start_time": "2022-03-17T07:46:48.013Z"
   },
   {
    "duration": 12,
    "start_time": "2022-03-17T07:46:48.036Z"
   },
   {
    "duration": 6,
    "start_time": "2022-03-17T07:46:48.050Z"
   },
   {
    "duration": 14,
    "start_time": "2022-03-17T07:46:48.057Z"
   },
   {
    "duration": 8,
    "start_time": "2022-03-17T07:46:48.073Z"
   },
   {
    "duration": 8,
    "start_time": "2022-03-17T07:46:48.083Z"
   },
   {
    "duration": 5,
    "start_time": "2022-03-17T07:46:48.092Z"
   },
   {
    "duration": 8,
    "start_time": "2022-03-17T07:46:48.098Z"
   },
   {
    "duration": 25,
    "start_time": "2022-03-17T07:46:48.108Z"
   },
   {
    "duration": 9,
    "start_time": "2022-03-17T07:46:48.135Z"
   },
   {
    "duration": 3,
    "start_time": "2022-03-17T07:46:48.146Z"
   },
   {
    "duration": 21,
    "start_time": "2022-03-17T07:46:48.150Z"
   },
   {
    "duration": 19,
    "start_time": "2022-03-17T07:46:48.172Z"
   },
   {
    "duration": 4,
    "start_time": "2022-03-17T07:46:48.193Z"
   },
   {
    "duration": 41,
    "start_time": "2022-03-17T07:46:48.198Z"
   },
   {
    "duration": 4,
    "start_time": "2022-03-17T07:46:48.240Z"
   },
   {
    "duration": 11,
    "start_time": "2022-03-17T07:46:48.246Z"
   },
   {
    "duration": 5,
    "start_time": "2022-03-17T07:46:48.259Z"
   },
   {
    "duration": 10,
    "start_time": "2022-03-17T07:46:48.265Z"
   },
   {
    "duration": 17,
    "start_time": "2022-03-17T07:46:48.276Z"
   },
   {
    "duration": 7,
    "start_time": "2022-03-17T07:46:48.296Z"
   },
   {
    "duration": 8,
    "start_time": "2022-03-17T07:46:48.304Z"
   },
   {
    "duration": 13,
    "start_time": "2022-03-17T07:46:48.333Z"
   },
   {
    "duration": 33,
    "start_time": "2022-03-17T07:46:48.348Z"
   },
   {
    "duration": 5,
    "start_time": "2022-03-17T07:46:48.382Z"
   },
   {
    "duration": 24,
    "start_time": "2022-03-17T07:46:48.388Z"
   },
   {
    "duration": 19,
    "start_time": "2022-03-17T07:46:48.433Z"
   },
   {
    "duration": 26,
    "start_time": "2022-03-17T07:46:48.454Z"
   },
   {
    "duration": 22,
    "start_time": "2022-03-17T07:46:48.482Z"
   },
   {
    "duration": 46,
    "start_time": "2022-03-17T07:46:48.505Z"
   },
   {
    "duration": 31,
    "start_time": "2022-03-17T07:46:52.908Z"
   },
   {
    "duration": 49,
    "start_time": "2022-03-17T07:47:39.334Z"
   },
   {
    "duration": 85,
    "start_time": "2022-03-17T07:48:31.310Z"
   },
   {
    "duration": 82,
    "start_time": "2022-03-17T07:48:37.963Z"
   },
   {
    "duration": 44,
    "start_time": "2022-03-17T07:48:54.980Z"
   },
   {
    "duration": 87,
    "start_time": "2022-03-17T07:49:48.761Z"
   },
   {
    "duration": 47,
    "start_time": "2022-03-17T07:50:08.566Z"
   },
   {
    "duration": 20,
    "start_time": "2022-03-17T07:50:47.677Z"
   },
   {
    "duration": 23,
    "start_time": "2022-03-17T07:51:30.993Z"
   },
   {
    "duration": 5,
    "start_time": "2022-03-17T07:52:07.782Z"
   },
   {
    "duration": 10,
    "start_time": "2022-03-17T07:56:51.823Z"
   },
   {
    "duration": 12,
    "start_time": "2022-03-17T07:57:00.281Z"
   },
   {
    "duration": 12,
    "start_time": "2022-03-17T07:57:12.250Z"
   },
   {
    "duration": 13,
    "start_time": "2022-03-17T07:57:40.142Z"
   },
   {
    "duration": 12,
    "start_time": "2022-03-17T07:58:07.068Z"
   },
   {
    "duration": 37,
    "start_time": "2022-03-17T08:09:30.801Z"
   },
   {
    "duration": 13,
    "start_time": "2022-03-17T08:10:12.716Z"
   },
   {
    "duration": 11,
    "start_time": "2022-03-17T08:11:39.130Z"
   },
   {
    "duration": 9,
    "start_time": "2022-03-17T08:12:46.859Z"
   },
   {
    "duration": 9,
    "start_time": "2022-03-17T08:13:20.611Z"
   },
   {
    "duration": 523,
    "start_time": "2022-03-17T10:10:58.519Z"
   },
   {
    "duration": 17,
    "start_time": "2022-03-17T10:10:59.044Z"
   },
   {
    "duration": 11,
    "start_time": "2022-03-17T10:10:59.063Z"
   },
   {
    "duration": 12,
    "start_time": "2022-03-17T10:10:59.076Z"
   },
   {
    "duration": 9,
    "start_time": "2022-03-17T10:10:59.090Z"
   },
   {
    "duration": 12,
    "start_time": "2022-03-17T10:10:59.100Z"
   },
   {
    "duration": 24,
    "start_time": "2022-03-17T10:10:59.114Z"
   },
   {
    "duration": 7,
    "start_time": "2022-03-17T10:10:59.140Z"
   },
   {
    "duration": 12,
    "start_time": "2022-03-17T10:10:59.149Z"
   },
   {
    "duration": 12,
    "start_time": "2022-03-17T10:10:59.164Z"
   },
   {
    "duration": 13,
    "start_time": "2022-03-17T10:10:59.178Z"
   },
   {
    "duration": 9,
    "start_time": "2022-03-17T10:10:59.193Z"
   },
   {
    "duration": 16,
    "start_time": "2022-03-17T10:10:59.203Z"
   },
   {
    "duration": 21,
    "start_time": "2022-03-17T10:10:59.221Z"
   },
   {
    "duration": 6,
    "start_time": "2022-03-17T10:10:59.245Z"
   },
   {
    "duration": 11,
    "start_time": "2022-03-17T10:10:59.253Z"
   },
   {
    "duration": 11,
    "start_time": "2022-03-17T10:10:59.266Z"
   },
   {
    "duration": 4,
    "start_time": "2022-03-17T10:10:59.279Z"
   },
   {
    "duration": 25,
    "start_time": "2022-03-17T10:10:59.285Z"
   },
   {
    "duration": 45,
    "start_time": "2022-03-17T10:10:59.313Z"
   },
   {
    "duration": 4,
    "start_time": "2022-03-17T10:10:59.361Z"
   },
   {
    "duration": 15,
    "start_time": "2022-03-17T10:10:59.366Z"
   },
   {
    "duration": 5,
    "start_time": "2022-03-17T10:10:59.383Z"
   },
   {
    "duration": 29,
    "start_time": "2022-03-17T10:10:59.389Z"
   },
   {
    "duration": 20,
    "start_time": "2022-03-17T10:10:59.420Z"
   },
   {
    "duration": 10,
    "start_time": "2022-03-17T10:10:59.442Z"
   },
   {
    "duration": 14,
    "start_time": "2022-03-17T10:10:59.454Z"
   },
   {
    "duration": 15,
    "start_time": "2022-03-17T10:10:59.471Z"
   },
   {
    "duration": 7,
    "start_time": "2022-03-17T10:10:59.487Z"
   },
   {
    "duration": 15,
    "start_time": "2022-03-17T10:10:59.495Z"
   },
   {
    "duration": 28,
    "start_time": "2022-03-17T10:10:59.511Z"
   },
   {
    "duration": 9,
    "start_time": "2022-03-17T10:10:59.541Z"
   },
   {
    "duration": 31,
    "start_time": "2022-03-17T10:10:59.552Z"
   },
   {
    "duration": 22,
    "start_time": "2022-03-17T10:10:59.585Z"
   },
   {
    "duration": 54,
    "start_time": "2022-03-17T10:10:59.609Z"
   },
   {
    "duration": 25,
    "start_time": "2022-03-17T10:10:59.664Z"
   },
   {
    "duration": 22,
    "start_time": "2022-03-17T10:10:59.691Z"
   },
   {
    "duration": 27,
    "start_time": "2022-03-17T10:22:11.256Z"
   },
   {
    "duration": 66,
    "start_time": "2022-03-17T10:22:46.761Z"
   },
   {
    "duration": 27,
    "start_time": "2022-03-17T10:22:56.042Z"
   },
   {
    "duration": 22,
    "start_time": "2022-03-17T10:36:34.816Z"
   },
   {
    "duration": 35,
    "start_time": "2022-03-17T10:44:07.949Z"
   },
   {
    "duration": 1423,
    "start_time": "2022-03-17T10:45:23.250Z"
   },
   {
    "duration": 31,
    "start_time": "2022-03-17T10:48:38.505Z"
   },
   {
    "duration": 10,
    "start_time": "2022-03-17T10:55:14.526Z"
   },
   {
    "duration": 13,
    "start_time": "2022-03-17T10:55:21.266Z"
   },
   {
    "duration": 34,
    "start_time": "2022-03-17T10:55:44.514Z"
   },
   {
    "duration": 25,
    "start_time": "2022-03-17T10:55:54.973Z"
   },
   {
    "duration": 50,
    "start_time": "2022-03-17T10:56:13.309Z"
   },
   {
    "duration": 41,
    "start_time": "2022-03-17T10:59:41.483Z"
   },
   {
    "duration": 27,
    "start_time": "2022-03-17T11:00:42.568Z"
   },
   {
    "duration": 11,
    "start_time": "2022-03-17T11:05:45.946Z"
   },
   {
    "duration": 70,
    "start_time": "2022-03-17T11:06:21.340Z"
   },
   {
    "duration": 10,
    "start_time": "2022-03-17T11:06:30.504Z"
   },
   {
    "duration": 14,
    "start_time": "2022-03-17T11:06:38.786Z"
   },
   {
    "duration": 10,
    "start_time": "2022-03-17T11:06:48.437Z"
   },
   {
    "duration": 10,
    "start_time": "2022-03-17T11:06:52.835Z"
   },
   {
    "duration": 9,
    "start_time": "2022-03-17T11:07:00.807Z"
   },
   {
    "duration": 32,
    "start_time": "2022-03-17T11:07:13.168Z"
   },
   {
    "duration": 27,
    "start_time": "2022-03-17T11:09:56.060Z"
   },
   {
    "duration": 32,
    "start_time": "2022-03-17T11:11:57.533Z"
   },
   {
    "duration": 37,
    "start_time": "2022-03-17T11:13:11.948Z"
   },
   {
    "duration": 20,
    "start_time": "2022-03-17T11:15:52.427Z"
   },
   {
    "duration": 33,
    "start_time": "2022-03-17T11:16:17.778Z"
   },
   {
    "duration": 75,
    "start_time": "2022-03-17T11:16:25.757Z"
   },
   {
    "duration": 22,
    "start_time": "2022-03-17T11:16:53.897Z"
   },
   {
    "duration": 46,
    "start_time": "2022-03-17T11:17:47.711Z"
   },
   {
    "duration": 12,
    "start_time": "2022-03-17T11:18:35.328Z"
   },
   {
    "duration": 21,
    "start_time": "2022-03-17T11:18:43.780Z"
   },
   {
    "duration": 39,
    "start_time": "2022-03-17T11:19:29.550Z"
   },
   {
    "duration": 81,
    "start_time": "2022-03-17T11:21:06.777Z"
   },
   {
    "duration": 4,
    "start_time": "2022-03-17T11:22:08.230Z"
   },
   {
    "duration": 6,
    "start_time": "2022-03-17T11:22:41.469Z"
   },
   {
    "duration": 33,
    "start_time": "2022-03-17T11:22:43.258Z"
   },
   {
    "duration": 16,
    "start_time": "2022-03-17T11:23:02.397Z"
   },
   {
    "duration": 100,
    "start_time": "2022-03-17T11:23:11.762Z"
   },
   {
    "duration": 26,
    "start_time": "2022-03-17T11:23:11.864Z"
   },
   {
    "duration": 12,
    "start_time": "2022-03-17T11:23:11.893Z"
   },
   {
    "duration": 34,
    "start_time": "2022-03-17T11:23:11.907Z"
   },
   {
    "duration": 33,
    "start_time": "2022-03-17T11:23:11.943Z"
   },
   {
    "duration": 22,
    "start_time": "2022-03-17T11:23:11.978Z"
   },
   {
    "duration": 29,
    "start_time": "2022-03-17T11:23:12.003Z"
   },
   {
    "duration": 26,
    "start_time": "2022-03-17T11:23:12.035Z"
   },
   {
    "duration": 35,
    "start_time": "2022-03-17T11:23:12.063Z"
   },
   {
    "duration": 20,
    "start_time": "2022-03-17T11:23:12.103Z"
   },
   {
    "duration": 22,
    "start_time": "2022-03-17T11:23:12.125Z"
   },
   {
    "duration": 25,
    "start_time": "2022-03-17T11:23:12.149Z"
   },
   {
    "duration": 30,
    "start_time": "2022-03-17T11:23:12.176Z"
   },
   {
    "duration": 20,
    "start_time": "2022-03-17T11:23:12.208Z"
   },
   {
    "duration": 15,
    "start_time": "2022-03-17T11:23:12.230Z"
   },
   {
    "duration": 26,
    "start_time": "2022-03-17T11:23:12.247Z"
   },
   {
    "duration": 34,
    "start_time": "2022-03-17T11:23:12.275Z"
   },
   {
    "duration": 29,
    "start_time": "2022-03-17T11:23:12.312Z"
   },
   {
    "duration": 41,
    "start_time": "2022-03-17T11:23:12.346Z"
   },
   {
    "duration": 31,
    "start_time": "2022-03-17T11:23:12.389Z"
   },
   {
    "duration": 16,
    "start_time": "2022-03-17T11:23:12.422Z"
   },
   {
    "duration": 38,
    "start_time": "2022-03-17T11:23:12.440Z"
   },
   {
    "duration": 10,
    "start_time": "2022-03-17T11:23:12.481Z"
   },
   {
    "duration": 47,
    "start_time": "2022-03-17T11:23:12.494Z"
   },
   {
    "duration": 6,
    "start_time": "2022-03-17T11:23:12.544Z"
   },
   {
    "duration": 20,
    "start_time": "2022-03-17T11:23:12.552Z"
   },
   {
    "duration": 56,
    "start_time": "2022-03-17T11:23:12.574Z"
   },
   {
    "duration": 18,
    "start_time": "2022-03-17T11:23:12.634Z"
   },
   {
    "duration": 20,
    "start_time": "2022-03-17T11:23:12.654Z"
   },
   {
    "duration": 29,
    "start_time": "2022-03-17T11:23:12.677Z"
   },
   {
    "duration": 52,
    "start_time": "2022-03-17T11:23:12.709Z"
   },
   {
    "duration": 40,
    "start_time": "2022-03-17T11:23:12.764Z"
   },
   {
    "duration": 60,
    "start_time": "2022-03-17T11:23:12.806Z"
   },
   {
    "duration": 28,
    "start_time": "2022-03-17T11:23:12.868Z"
   },
   {
    "duration": 46,
    "start_time": "2022-03-17T11:23:12.899Z"
   },
   {
    "duration": 31,
    "start_time": "2022-03-17T11:24:12.231Z"
   },
   {
    "duration": 90,
    "start_time": "2022-03-17T11:36:55.465Z"
   },
   {
    "duration": 11,
    "start_time": "2022-03-17T11:37:02.877Z"
   },
   {
    "duration": 34,
    "start_time": "2022-03-17T11:37:18.593Z"
   },
   {
    "duration": 19,
    "start_time": "2022-03-17T11:57:42.743Z"
   },
   {
    "duration": 15,
    "start_time": "2022-03-17T11:58:08.128Z"
   },
   {
    "duration": 6,
    "start_time": "2022-03-17T11:58:09.080Z"
   },
   {
    "duration": 15,
    "start_time": "2022-03-17T11:58:12.646Z"
   },
   {
    "duration": 16,
    "start_time": "2022-03-17T11:58:27.684Z"
   },
   {
    "duration": 16,
    "start_time": "2022-03-17T12:03:32.183Z"
   },
   {
    "duration": 4,
    "start_time": "2022-03-17T12:08:29.933Z"
   },
   {
    "duration": 13,
    "start_time": "2022-03-17T12:08:44.648Z"
   },
   {
    "duration": 14,
    "start_time": "2022-03-17T12:09:18.588Z"
   },
   {
    "duration": 14,
    "start_time": "2022-03-17T12:09:23.100Z"
   },
   {
    "duration": 13,
    "start_time": "2022-03-17T12:09:34.386Z"
   },
   {
    "duration": 5,
    "start_time": "2022-03-17T12:09:57.174Z"
   },
   {
    "duration": 14,
    "start_time": "2022-03-17T12:09:58.521Z"
   },
   {
    "duration": 10,
    "start_time": "2022-03-17T12:10:16.782Z"
   },
   {
    "duration": 5,
    "start_time": "2022-03-17T12:10:33.821Z"
   },
   {
    "duration": 71,
    "start_time": "2022-03-17T12:10:39.037Z"
   },
   {
    "duration": 32,
    "start_time": "2022-03-17T12:10:39.110Z"
   },
   {
    "duration": 10,
    "start_time": "2022-03-17T12:10:39.143Z"
   },
   {
    "duration": 6,
    "start_time": "2022-03-17T12:10:39.155Z"
   },
   {
    "duration": 19,
    "start_time": "2022-03-17T12:10:39.163Z"
   },
   {
    "duration": 13,
    "start_time": "2022-03-17T12:10:39.184Z"
   },
   {
    "duration": 13,
    "start_time": "2022-03-17T12:10:39.199Z"
   },
   {
    "duration": 30,
    "start_time": "2022-03-17T12:10:39.214Z"
   },
   {
    "duration": 23,
    "start_time": "2022-03-17T12:10:39.245Z"
   },
   {
    "duration": 30,
    "start_time": "2022-03-17T12:10:39.272Z"
   },
   {
    "duration": 29,
    "start_time": "2022-03-17T12:10:39.304Z"
   },
   {
    "duration": 11,
    "start_time": "2022-03-17T12:10:39.335Z"
   },
   {
    "duration": 39,
    "start_time": "2022-03-17T12:10:39.348Z"
   },
   {
    "duration": 9,
    "start_time": "2022-03-17T12:10:39.389Z"
   },
   {
    "duration": 13,
    "start_time": "2022-03-17T12:10:39.399Z"
   },
   {
    "duration": 21,
    "start_time": "2022-03-17T12:10:39.413Z"
   },
   {
    "duration": 14,
    "start_time": "2022-03-17T12:10:39.436Z"
   },
   {
    "duration": 14,
    "start_time": "2022-03-17T12:10:39.452Z"
   },
   {
    "duration": 7,
    "start_time": "2022-03-17T12:10:39.468Z"
   },
   {
    "duration": 21,
    "start_time": "2022-03-17T12:10:39.477Z"
   },
   {
    "duration": 22,
    "start_time": "2022-03-17T12:10:39.500Z"
   },
   {
    "duration": 15,
    "start_time": "2022-03-17T12:10:39.524Z"
   },
   {
    "duration": 15,
    "start_time": "2022-03-17T12:10:39.540Z"
   },
   {
    "duration": 4,
    "start_time": "2022-03-17T12:10:39.557Z"
   },
   {
    "duration": 18,
    "start_time": "2022-03-17T12:10:39.562Z"
   },
   {
    "duration": 5,
    "start_time": "2022-03-17T12:10:39.582Z"
   },
   {
    "duration": 10,
    "start_time": "2022-03-17T12:10:39.588Z"
   },
   {
    "duration": 37,
    "start_time": "2022-03-17T12:10:39.602Z"
   },
   {
    "duration": 10,
    "start_time": "2022-03-17T12:10:39.641Z"
   },
   {
    "duration": 6,
    "start_time": "2022-03-17T12:10:39.652Z"
   },
   {
    "duration": 14,
    "start_time": "2022-03-17T12:10:39.659Z"
   },
   {
    "duration": 29,
    "start_time": "2022-03-17T12:10:39.675Z"
   },
   {
    "duration": 45,
    "start_time": "2022-03-17T12:10:39.706Z"
   },
   {
    "duration": 25,
    "start_time": "2022-03-17T12:10:39.753Z"
   },
   {
    "duration": 28,
    "start_time": "2022-03-17T12:10:39.780Z"
   },
   {
    "duration": 17,
    "start_time": "2022-03-17T12:11:05.165Z"
   },
   {
    "duration": 68,
    "start_time": "2022-03-17T12:11:18.845Z"
   },
   {
    "duration": 65,
    "start_time": "2022-03-17T12:11:28.413Z"
   },
   {
    "duration": 19,
    "start_time": "2022-03-17T12:12:06.457Z"
   },
   {
    "duration": 18,
    "start_time": "2022-03-17T12:12:14.801Z"
   },
   {
    "duration": 19,
    "start_time": "2022-03-17T12:12:25.264Z"
   },
   {
    "duration": 8,
    "start_time": "2022-03-17T12:12:41.108Z"
   },
   {
    "duration": 6,
    "start_time": "2022-03-17T12:12:46.519Z"
   },
   {
    "duration": 6,
    "start_time": "2022-03-17T12:12:48.019Z"
   },
   {
    "duration": 70,
    "start_time": "2022-03-17T12:12:55.233Z"
   },
   {
    "duration": 17,
    "start_time": "2022-03-17T12:12:55.306Z"
   },
   {
    "duration": 25,
    "start_time": "2022-03-17T12:12:55.325Z"
   },
   {
    "duration": 17,
    "start_time": "2022-03-17T12:12:55.352Z"
   },
   {
    "duration": 21,
    "start_time": "2022-03-17T12:12:55.371Z"
   },
   {
    "duration": 10,
    "start_time": "2022-03-17T12:12:55.394Z"
   },
   {
    "duration": 19,
    "start_time": "2022-03-17T12:12:55.406Z"
   },
   {
    "duration": 7,
    "start_time": "2022-03-17T12:12:55.427Z"
   },
   {
    "duration": 25,
    "start_time": "2022-03-17T12:12:55.436Z"
   },
   {
    "duration": 18,
    "start_time": "2022-03-17T12:12:55.462Z"
   },
   {
    "duration": 15,
    "start_time": "2022-03-17T12:12:55.482Z"
   },
   {
    "duration": 16,
    "start_time": "2022-03-17T12:12:55.498Z"
   },
   {
    "duration": 17,
    "start_time": "2022-03-17T12:12:55.516Z"
   },
   {
    "duration": 13,
    "start_time": "2022-03-17T12:12:55.536Z"
   },
   {
    "duration": 19,
    "start_time": "2022-03-17T12:12:55.551Z"
   },
   {
    "duration": 13,
    "start_time": "2022-03-17T12:12:55.572Z"
   },
   {
    "duration": 13,
    "start_time": "2022-03-17T12:12:55.587Z"
   },
   {
    "duration": 20,
    "start_time": "2022-03-17T12:12:55.602Z"
   },
   {
    "duration": 11,
    "start_time": "2022-03-17T12:12:55.624Z"
   },
   {
    "duration": 33,
    "start_time": "2022-03-17T12:12:55.636Z"
   },
   {
    "duration": 22,
    "start_time": "2022-03-17T12:12:55.670Z"
   },
   {
    "duration": 4,
    "start_time": "2022-03-17T12:12:55.695Z"
   },
   {
    "duration": 26,
    "start_time": "2022-03-17T12:12:55.701Z"
   },
   {
    "duration": 15,
    "start_time": "2022-03-17T12:12:55.729Z"
   },
   {
    "duration": 26,
    "start_time": "2022-03-17T12:12:55.746Z"
   },
   {
    "duration": 9,
    "start_time": "2022-03-17T12:12:55.773Z"
   },
   {
    "duration": 19,
    "start_time": "2022-03-17T12:12:55.783Z"
   },
   {
    "duration": 34,
    "start_time": "2022-03-17T12:12:55.804Z"
   },
   {
    "duration": 18,
    "start_time": "2022-03-17T12:12:55.840Z"
   },
   {
    "duration": 9,
    "start_time": "2022-03-17T12:12:55.861Z"
   },
   {
    "duration": 32,
    "start_time": "2022-03-17T12:12:55.872Z"
   },
   {
    "duration": 42,
    "start_time": "2022-03-17T12:12:55.906Z"
   },
   {
    "duration": 25,
    "start_time": "2022-03-17T12:12:55.950Z"
   },
   {
    "duration": 28,
    "start_time": "2022-03-17T12:12:55.977Z"
   },
   {
    "duration": 59,
    "start_time": "2022-03-17T12:12:56.007Z"
   },
   {
    "duration": 27,
    "start_time": "2022-03-17T12:14:27.569Z"
   },
   {
    "duration": 8,
    "start_time": "2022-03-17T12:17:56.019Z"
   },
   {
    "duration": 519,
    "start_time": "2022-03-17T14:25:03.231Z"
   },
   {
    "duration": 17,
    "start_time": "2022-03-17T14:25:03.752Z"
   },
   {
    "duration": 30,
    "start_time": "2022-03-17T14:25:03.771Z"
   },
   {
    "duration": 30,
    "start_time": "2022-03-17T14:25:03.803Z"
   },
   {
    "duration": 28,
    "start_time": "2022-03-17T14:25:03.835Z"
   },
   {
    "duration": 49,
    "start_time": "2022-03-17T14:25:03.867Z"
   },
   {
    "duration": 39,
    "start_time": "2022-03-17T14:25:03.917Z"
   },
   {
    "duration": 31,
    "start_time": "2022-03-17T14:25:03.958Z"
   },
   {
    "duration": 58,
    "start_time": "2022-03-17T14:25:03.991Z"
   },
   {
    "duration": 21,
    "start_time": "2022-03-17T14:25:04.052Z"
   },
   {
    "duration": 33,
    "start_time": "2022-03-17T14:25:04.075Z"
   },
   {
    "duration": 32,
    "start_time": "2022-03-17T14:25:04.110Z"
   },
   {
    "duration": 21,
    "start_time": "2022-03-17T14:25:04.144Z"
   },
   {
    "duration": 20,
    "start_time": "2022-03-17T14:25:04.167Z"
   },
   {
    "duration": 16,
    "start_time": "2022-03-17T14:25:04.189Z"
   },
   {
    "duration": 14,
    "start_time": "2022-03-17T14:25:04.207Z"
   },
   {
    "duration": 12,
    "start_time": "2022-03-17T14:25:04.223Z"
   },
   {
    "duration": 12,
    "start_time": "2022-03-17T14:25:04.236Z"
   },
   {
    "duration": 8,
    "start_time": "2022-03-17T14:25:04.250Z"
   },
   {
    "duration": 23,
    "start_time": "2022-03-17T14:25:04.259Z"
   },
   {
    "duration": 38,
    "start_time": "2022-03-17T14:25:04.284Z"
   },
   {
    "duration": 4,
    "start_time": "2022-03-17T14:25:04.324Z"
   },
   {
    "duration": 16,
    "start_time": "2022-03-17T14:25:04.330Z"
   },
   {
    "duration": 5,
    "start_time": "2022-03-17T14:25:04.348Z"
   },
   {
    "duration": 22,
    "start_time": "2022-03-17T14:25:04.355Z"
   },
   {
    "duration": 25,
    "start_time": "2022-03-17T14:25:04.379Z"
   },
   {
    "duration": 8,
    "start_time": "2022-03-17T14:25:04.406Z"
   },
   {
    "duration": 24,
    "start_time": "2022-03-17T14:25:04.418Z"
   },
   {
    "duration": 12,
    "start_time": "2022-03-17T14:25:04.444Z"
   },
   {
    "duration": 11,
    "start_time": "2022-03-17T14:25:04.458Z"
   },
   {
    "duration": 30,
    "start_time": "2022-03-17T14:25:04.471Z"
   },
   {
    "duration": 31,
    "start_time": "2022-03-17T14:25:04.504Z"
   },
   {
    "duration": 31,
    "start_time": "2022-03-17T14:25:04.537Z"
   },
   {
    "duration": 52,
    "start_time": "2022-03-17T14:25:04.570Z"
   },
   {
    "duration": 35,
    "start_time": "2022-03-17T14:25:04.624Z"
   },
   {
    "duration": 75,
    "start_time": "2022-03-17T14:32:16.910Z"
   },
   {
    "duration": 74,
    "start_time": "2022-03-17T14:32:42.754Z"
   },
   {
    "duration": 16,
    "start_time": "2022-03-17T14:32:42.830Z"
   },
   {
    "duration": 12,
    "start_time": "2022-03-17T14:32:42.847Z"
   },
   {
    "duration": 4,
    "start_time": "2022-03-17T14:32:42.861Z"
   },
   {
    "duration": 36,
    "start_time": "2022-03-17T14:32:42.867Z"
   },
   {
    "duration": 6,
    "start_time": "2022-03-17T14:32:42.906Z"
   },
   {
    "duration": 7,
    "start_time": "2022-03-17T14:32:42.913Z"
   },
   {
    "duration": 13,
    "start_time": "2022-03-17T14:32:42.921Z"
   },
   {
    "duration": 13,
    "start_time": "2022-03-17T14:32:42.936Z"
   },
   {
    "duration": 6,
    "start_time": "2022-03-17T14:32:42.952Z"
   },
   {
    "duration": 42,
    "start_time": "2022-03-17T14:32:42.959Z"
   },
   {
    "duration": 5,
    "start_time": "2022-03-17T14:32:43.003Z"
   },
   {
    "duration": 10,
    "start_time": "2022-03-17T14:32:43.009Z"
   },
   {
    "duration": 8,
    "start_time": "2022-03-17T14:32:43.021Z"
   },
   {
    "duration": 9,
    "start_time": "2022-03-17T14:32:43.031Z"
   },
   {
    "duration": 10,
    "start_time": "2022-03-17T14:32:43.042Z"
   },
   {
    "duration": 11,
    "start_time": "2022-03-17T14:32:43.054Z"
   },
   {
    "duration": 11,
    "start_time": "2022-03-17T14:32:43.067Z"
   },
   {
    "duration": 23,
    "start_time": "2022-03-17T14:32:43.080Z"
   },
   {
    "duration": 25,
    "start_time": "2022-03-17T14:32:43.105Z"
   },
   {
    "duration": 22,
    "start_time": "2022-03-17T14:32:43.132Z"
   },
   {
    "duration": 4,
    "start_time": "2022-03-17T14:32:43.156Z"
   },
   {
    "duration": 41,
    "start_time": "2022-03-17T14:32:43.162Z"
   },
   {
    "duration": 5,
    "start_time": "2022-03-17T14:32:43.204Z"
   },
   {
    "duration": 16,
    "start_time": "2022-03-17T14:32:43.210Z"
   },
   {
    "duration": 5,
    "start_time": "2022-03-17T14:32:43.228Z"
   },
   {
    "duration": 9,
    "start_time": "2022-03-17T14:32:43.235Z"
   },
   {
    "duration": 22,
    "start_time": "2022-03-17T14:32:43.248Z"
   },
   {
    "duration": 33,
    "start_time": "2022-03-17T14:32:43.272Z"
   },
   {
    "duration": 7,
    "start_time": "2022-03-17T14:32:43.307Z"
   },
   {
    "duration": 16,
    "start_time": "2022-03-17T14:32:43.316Z"
   },
   {
    "duration": 34,
    "start_time": "2022-03-17T14:32:43.334Z"
   },
   {
    "duration": 11,
    "start_time": "2022-03-17T14:32:43.369Z"
   },
   {
    "duration": 0,
    "start_time": "2022-03-17T14:32:43.401Z"
   },
   {
    "duration": 0,
    "start_time": "2022-03-17T14:32:43.403Z"
   },
   {
    "duration": 0,
    "start_time": "2022-03-17T14:32:43.404Z"
   },
   {
    "duration": 12,
    "start_time": "2022-03-17T14:32:52.137Z"
   },
   {
    "duration": 6,
    "start_time": "2022-03-17T14:33:07.860Z"
   },
   {
    "duration": 11,
    "start_time": "2022-03-17T14:33:17.159Z"
   },
   {
    "duration": 12,
    "start_time": "2022-03-17T14:33:21.008Z"
   },
   {
    "duration": 7,
    "start_time": "2022-03-17T14:34:26.691Z"
   },
   {
    "duration": 6,
    "start_time": "2022-03-17T14:34:40.726Z"
   },
   {
    "duration": 43,
    "start_time": "2022-03-17T14:37:14.045Z"
   },
   {
    "duration": 29,
    "start_time": "2022-03-17T14:37:47.567Z"
   },
   {
    "duration": 49,
    "start_time": "2022-03-17T14:38:46.289Z"
   },
   {
    "duration": 31,
    "start_time": "2022-03-17T14:38:52.007Z"
   },
   {
    "duration": 472,
    "start_time": "2022-03-17T17:10:48.685Z"
   },
   {
    "duration": 14,
    "start_time": "2022-03-17T17:10:49.159Z"
   },
   {
    "duration": 9,
    "start_time": "2022-03-17T17:10:49.174Z"
   },
   {
    "duration": 6,
    "start_time": "2022-03-17T17:10:49.184Z"
   },
   {
    "duration": 6,
    "start_time": "2022-03-17T17:10:49.191Z"
   },
   {
    "duration": 5,
    "start_time": "2022-03-17T17:10:49.198Z"
   },
   {
    "duration": 5,
    "start_time": "2022-03-17T17:10:49.205Z"
   },
   {
    "duration": 6,
    "start_time": "2022-03-17T17:10:49.211Z"
   },
   {
    "duration": 10,
    "start_time": "2022-03-17T17:10:49.218Z"
   },
   {
    "duration": 7,
    "start_time": "2022-03-17T17:10:49.229Z"
   },
   {
    "duration": 12,
    "start_time": "2022-03-17T17:10:49.237Z"
   },
   {
    "duration": 31,
    "start_time": "2022-03-17T17:10:49.250Z"
   },
   {
    "duration": 8,
    "start_time": "2022-03-17T17:10:49.282Z"
   },
   {
    "duration": 5,
    "start_time": "2022-03-17T17:10:49.292Z"
   },
   {
    "duration": 8,
    "start_time": "2022-03-17T17:10:49.298Z"
   },
   {
    "duration": 10,
    "start_time": "2022-03-17T17:10:49.308Z"
   },
   {
    "duration": 4,
    "start_time": "2022-03-17T17:10:49.320Z"
   },
   {
    "duration": 6,
    "start_time": "2022-03-17T17:10:49.326Z"
   },
   {
    "duration": 7,
    "start_time": "2022-03-17T17:10:49.333Z"
   },
   {
    "duration": 41,
    "start_time": "2022-03-17T17:10:49.341Z"
   },
   {
    "duration": 20,
    "start_time": "2022-03-17T17:10:49.383Z"
   },
   {
    "duration": 10,
    "start_time": "2022-03-17T17:10:49.404Z"
   },
   {
    "duration": 24,
    "start_time": "2022-03-17T17:10:49.415Z"
   },
   {
    "duration": 13,
    "start_time": "2022-03-17T17:10:49.440Z"
   },
   {
    "duration": 16,
    "start_time": "2022-03-17T17:10:49.454Z"
   },
   {
    "duration": 7,
    "start_time": "2022-03-17T17:10:49.471Z"
   },
   {
    "duration": 7,
    "start_time": "2022-03-17T17:10:49.480Z"
   },
   {
    "duration": 20,
    "start_time": "2022-03-17T17:10:49.488Z"
   },
   {
    "duration": 12,
    "start_time": "2022-03-17T17:10:49.509Z"
   },
   {
    "duration": 6,
    "start_time": "2022-03-17T17:10:49.522Z"
   },
   {
    "duration": 10,
    "start_time": "2022-03-17T17:10:49.530Z"
   },
   {
    "duration": 24,
    "start_time": "2022-03-17T17:10:49.541Z"
   },
   {
    "duration": 5,
    "start_time": "2022-03-17T17:10:49.581Z"
   },
   {
    "duration": 31,
    "start_time": "2022-03-17T17:10:49.587Z"
   },
   {
    "duration": 23,
    "start_time": "2022-03-17T17:10:49.620Z"
   },
   {
    "duration": 43,
    "start_time": "2022-03-17T17:10:49.645Z"
   },
   {
    "duration": 68,
    "start_time": "2022-03-17T17:11:05.719Z"
   },
   {
    "duration": 24,
    "start_time": "2022-03-17T17:11:41.009Z"
   },
   {
    "duration": 31,
    "start_time": "2022-03-17T17:12:08.706Z"
   },
   {
    "duration": 161,
    "start_time": "2022-03-17T17:12:38.550Z"
   },
   {
    "duration": 51,
    "start_time": "2022-03-17T17:12:44.390Z"
   },
   {
    "duration": 25,
    "start_time": "2022-03-17T17:18:28.169Z"
   },
   {
    "duration": 24,
    "start_time": "2022-03-17T17:28:59.234Z"
   },
   {
    "duration": 44,
    "start_time": "2022-03-17T17:29:43.064Z"
   },
   {
    "duration": 40,
    "start_time": "2022-03-17T17:30:31.073Z"
   },
   {
    "duration": 40,
    "start_time": "2022-03-17T17:32:33.142Z"
   },
   {
    "duration": 52,
    "start_time": "2022-03-17T17:34:11.785Z"
   },
   {
    "duration": 41,
    "start_time": "2022-03-17T17:34:55.939Z"
   },
   {
    "duration": 43,
    "start_time": "2022-03-18T07:47:26.209Z"
   },
   {
    "duration": 448,
    "start_time": "2022-03-18T07:47:30.934Z"
   },
   {
    "duration": 13,
    "start_time": "2022-03-18T07:47:31.384Z"
   },
   {
    "duration": 9,
    "start_time": "2022-03-18T07:47:31.398Z"
   },
   {
    "duration": 6,
    "start_time": "2022-03-18T07:47:31.409Z"
   },
   {
    "duration": 11,
    "start_time": "2022-03-18T07:47:31.417Z"
   },
   {
    "duration": 6,
    "start_time": "2022-03-18T07:47:31.429Z"
   },
   {
    "duration": 4,
    "start_time": "2022-03-18T07:47:31.436Z"
   },
   {
    "duration": 5,
    "start_time": "2022-03-18T07:47:31.441Z"
   },
   {
    "duration": 11,
    "start_time": "2022-03-18T07:47:31.447Z"
   },
   {
    "duration": 5,
    "start_time": "2022-03-18T07:47:31.460Z"
   },
   {
    "duration": 11,
    "start_time": "2022-03-18T07:47:31.467Z"
   },
   {
    "duration": 24,
    "start_time": "2022-03-18T07:47:31.479Z"
   },
   {
    "duration": 5,
    "start_time": "2022-03-18T07:47:31.504Z"
   },
   {
    "duration": 8,
    "start_time": "2022-03-18T07:47:31.511Z"
   },
   {
    "duration": 6,
    "start_time": "2022-03-18T07:47:31.521Z"
   },
   {
    "duration": 7,
    "start_time": "2022-03-18T07:47:31.528Z"
   },
   {
    "duration": 7,
    "start_time": "2022-03-18T07:47:31.537Z"
   },
   {
    "duration": 9,
    "start_time": "2022-03-18T07:47:31.545Z"
   },
   {
    "duration": 4,
    "start_time": "2022-03-18T07:47:31.556Z"
   },
   {
    "duration": 21,
    "start_time": "2022-03-18T07:47:31.561Z"
   },
   {
    "duration": 32,
    "start_time": "2022-03-18T07:47:31.584Z"
   },
   {
    "duration": 3,
    "start_time": "2022-03-18T07:47:31.617Z"
   },
   {
    "duration": 19,
    "start_time": "2022-03-18T07:47:31.621Z"
   },
   {
    "duration": 4,
    "start_time": "2022-03-18T07:47:31.641Z"
   },
   {
    "duration": 14,
    "start_time": "2022-03-18T07:47:31.646Z"
   },
   {
    "duration": 5,
    "start_time": "2022-03-18T07:47:31.661Z"
   },
   {
    "duration": 9,
    "start_time": "2022-03-18T07:47:31.667Z"
   },
   {
    "duration": 24,
    "start_time": "2022-03-18T07:47:31.679Z"
   },
   {
    "duration": 6,
    "start_time": "2022-03-18T07:47:31.704Z"
   },
   {
    "duration": 6,
    "start_time": "2022-03-18T07:47:31.711Z"
   },
   {
    "duration": 13,
    "start_time": "2022-03-18T07:47:31.718Z"
   },
   {
    "duration": 27,
    "start_time": "2022-03-18T07:47:31.733Z"
   },
   {
    "duration": 21,
    "start_time": "2022-03-18T07:47:31.761Z"
   },
   {
    "duration": 39,
    "start_time": "2022-03-18T07:47:31.784Z"
   },
   {
    "duration": 24,
    "start_time": "2022-03-18T07:47:31.824Z"
   },
   {
    "duration": 22,
    "start_time": "2022-03-18T07:49:17.851Z"
   },
   {
    "duration": 67,
    "start_time": "2022-03-18T07:49:24.465Z"
   },
   {
    "duration": 12,
    "start_time": "2022-03-18T07:49:24.534Z"
   },
   {
    "duration": 8,
    "start_time": "2022-03-18T07:49:24.548Z"
   },
   {
    "duration": 4,
    "start_time": "2022-03-18T07:49:24.558Z"
   },
   {
    "duration": 4,
    "start_time": "2022-03-18T07:49:24.563Z"
   },
   {
    "duration": 34,
    "start_time": "2022-03-18T07:49:24.569Z"
   },
   {
    "duration": 5,
    "start_time": "2022-03-18T07:49:24.605Z"
   },
   {
    "duration": 6,
    "start_time": "2022-03-18T07:49:24.611Z"
   },
   {
    "duration": 15,
    "start_time": "2022-03-18T07:49:24.618Z"
   },
   {
    "duration": 5,
    "start_time": "2022-03-18T07:49:24.635Z"
   },
   {
    "duration": 13,
    "start_time": "2022-03-18T07:49:24.642Z"
   },
   {
    "duration": 10,
    "start_time": "2022-03-18T07:49:24.657Z"
   },
   {
    "duration": 190,
    "start_time": "2022-03-18T07:49:24.669Z"
   },
   {
    "duration": 0,
    "start_time": "2022-03-18T07:49:24.861Z"
   },
   {
    "duration": 0,
    "start_time": "2022-03-18T07:49:24.862Z"
   },
   {
    "duration": 0,
    "start_time": "2022-03-18T07:49:24.863Z"
   },
   {
    "duration": 0,
    "start_time": "2022-03-18T07:49:24.864Z"
   },
   {
    "duration": 0,
    "start_time": "2022-03-18T07:49:24.865Z"
   },
   {
    "duration": 0,
    "start_time": "2022-03-18T07:49:24.865Z"
   },
   {
    "duration": 0,
    "start_time": "2022-03-18T07:49:24.866Z"
   },
   {
    "duration": 0,
    "start_time": "2022-03-18T07:49:24.867Z"
   },
   {
    "duration": 0,
    "start_time": "2022-03-18T07:49:24.868Z"
   },
   {
    "duration": 0,
    "start_time": "2022-03-18T07:49:24.869Z"
   },
   {
    "duration": 0,
    "start_time": "2022-03-18T07:49:24.870Z"
   },
   {
    "duration": 0,
    "start_time": "2022-03-18T07:49:24.870Z"
   },
   {
    "duration": 0,
    "start_time": "2022-03-18T07:49:24.871Z"
   },
   {
    "duration": 0,
    "start_time": "2022-03-18T07:49:24.872Z"
   },
   {
    "duration": 0,
    "start_time": "2022-03-18T07:49:24.873Z"
   },
   {
    "duration": 0,
    "start_time": "2022-03-18T07:49:24.874Z"
   },
   {
    "duration": 0,
    "start_time": "2022-03-18T07:49:24.875Z"
   },
   {
    "duration": 0,
    "start_time": "2022-03-18T07:49:24.876Z"
   },
   {
    "duration": 0,
    "start_time": "2022-03-18T07:49:24.876Z"
   },
   {
    "duration": 0,
    "start_time": "2022-03-18T07:49:24.878Z"
   },
   {
    "duration": 0,
    "start_time": "2022-03-18T07:49:24.878Z"
   },
   {
    "duration": 0,
    "start_time": "2022-03-18T07:49:24.879Z"
   },
   {
    "duration": 26,
    "start_time": "2022-03-18T07:49:32.530Z"
   },
   {
    "duration": 67,
    "start_time": "2022-03-18T07:49:39.297Z"
   },
   {
    "duration": 14,
    "start_time": "2022-03-18T07:49:39.365Z"
   },
   {
    "duration": 30,
    "start_time": "2022-03-18T07:49:39.380Z"
   },
   {
    "duration": 5,
    "start_time": "2022-03-18T07:49:39.411Z"
   },
   {
    "duration": 4,
    "start_time": "2022-03-18T07:49:39.417Z"
   },
   {
    "duration": 4,
    "start_time": "2022-03-18T07:49:39.423Z"
   },
   {
    "duration": 5,
    "start_time": "2022-03-18T07:49:39.428Z"
   },
   {
    "duration": 6,
    "start_time": "2022-03-18T07:49:39.434Z"
   },
   {
    "duration": 15,
    "start_time": "2022-03-18T07:49:39.441Z"
   },
   {
    "duration": 5,
    "start_time": "2022-03-18T07:49:39.459Z"
   },
   {
    "duration": 42,
    "start_time": "2022-03-18T07:49:39.466Z"
   },
   {
    "duration": 4,
    "start_time": "2022-03-18T07:49:39.509Z"
   },
   {
    "duration": 272,
    "start_time": "2022-03-18T07:49:39.514Z"
   },
   {
    "duration": 0,
    "start_time": "2022-03-18T07:49:39.788Z"
   },
   {
    "duration": 0,
    "start_time": "2022-03-18T07:49:39.789Z"
   },
   {
    "duration": 0,
    "start_time": "2022-03-18T07:49:39.790Z"
   },
   {
    "duration": 0,
    "start_time": "2022-03-18T07:49:39.791Z"
   },
   {
    "duration": 0,
    "start_time": "2022-03-18T07:49:39.792Z"
   },
   {
    "duration": 0,
    "start_time": "2022-03-18T07:49:39.793Z"
   },
   {
    "duration": 0,
    "start_time": "2022-03-18T07:49:39.794Z"
   },
   {
    "duration": 0,
    "start_time": "2022-03-18T07:49:39.795Z"
   },
   {
    "duration": 0,
    "start_time": "2022-03-18T07:49:39.796Z"
   },
   {
    "duration": 0,
    "start_time": "2022-03-18T07:49:39.797Z"
   },
   {
    "duration": 0,
    "start_time": "2022-03-18T07:49:39.798Z"
   },
   {
    "duration": 0,
    "start_time": "2022-03-18T07:49:39.798Z"
   },
   {
    "duration": 0,
    "start_time": "2022-03-18T07:49:39.799Z"
   },
   {
    "duration": 0,
    "start_time": "2022-03-18T07:49:39.800Z"
   },
   {
    "duration": 0,
    "start_time": "2022-03-18T07:49:39.801Z"
   },
   {
    "duration": 0,
    "start_time": "2022-03-18T07:49:39.802Z"
   },
   {
    "duration": 0,
    "start_time": "2022-03-18T07:49:39.802Z"
   },
   {
    "duration": 0,
    "start_time": "2022-03-18T07:49:39.803Z"
   },
   {
    "duration": 0,
    "start_time": "2022-03-18T07:49:39.804Z"
   },
   {
    "duration": 0,
    "start_time": "2022-03-18T07:49:39.805Z"
   },
   {
    "duration": 0,
    "start_time": "2022-03-18T07:49:39.806Z"
   },
   {
    "duration": 0,
    "start_time": "2022-03-18T07:49:39.806Z"
   },
   {
    "duration": 64,
    "start_time": "2022-03-18T07:49:59.824Z"
   },
   {
    "duration": 13,
    "start_time": "2022-03-18T07:49:59.890Z"
   },
   {
    "duration": 9,
    "start_time": "2022-03-18T07:49:59.904Z"
   },
   {
    "duration": 5,
    "start_time": "2022-03-18T07:49:59.915Z"
   },
   {
    "duration": 6,
    "start_time": "2022-03-18T07:49:59.921Z"
   },
   {
    "duration": 6,
    "start_time": "2022-03-18T07:49:59.928Z"
   },
   {
    "duration": 4,
    "start_time": "2022-03-18T07:49:59.936Z"
   },
   {
    "duration": 6,
    "start_time": "2022-03-18T07:49:59.941Z"
   },
   {
    "duration": 14,
    "start_time": "2022-03-18T07:49:59.948Z"
   },
   {
    "duration": 38,
    "start_time": "2022-03-18T07:49:59.964Z"
   },
   {
    "duration": 11,
    "start_time": "2022-03-18T07:50:00.004Z"
   },
   {
    "duration": 19,
    "start_time": "2022-03-18T07:50:00.017Z"
   },
   {
    "duration": 76,
    "start_time": "2022-03-18T07:50:00.037Z"
   },
   {
    "duration": 13,
    "start_time": "2022-03-18T07:50:00.115Z"
   },
   {
    "duration": 8,
    "start_time": "2022-03-18T07:50:00.130Z"
   },
   {
    "duration": 9,
    "start_time": "2022-03-18T07:50:00.140Z"
   },
   {
    "duration": 10,
    "start_time": "2022-03-18T07:50:00.150Z"
   },
   {
    "duration": 10,
    "start_time": "2022-03-18T07:50:00.161Z"
   },
   {
    "duration": 8,
    "start_time": "2022-03-18T07:50:00.173Z"
   },
   {
    "duration": 23,
    "start_time": "2022-03-18T07:50:00.183Z"
   },
   {
    "duration": 18,
    "start_time": "2022-03-18T07:50:00.208Z"
   },
   {
    "duration": 4,
    "start_time": "2022-03-18T07:50:00.228Z"
   },
   {
    "duration": 15,
    "start_time": "2022-03-18T07:50:00.233Z"
   },
   {
    "duration": 3,
    "start_time": "2022-03-18T07:50:00.250Z"
   },
   {
    "duration": 18,
    "start_time": "2022-03-18T07:50:00.255Z"
   },
   {
    "duration": 5,
    "start_time": "2022-03-18T07:50:00.274Z"
   },
   {
    "duration": 20,
    "start_time": "2022-03-18T07:50:00.281Z"
   },
   {
    "duration": 22,
    "start_time": "2022-03-18T07:50:00.304Z"
   },
   {
    "duration": 6,
    "start_time": "2022-03-18T07:50:00.328Z"
   },
   {
    "duration": 8,
    "start_time": "2022-03-18T07:50:00.335Z"
   },
   {
    "duration": 20,
    "start_time": "2022-03-18T07:50:00.345Z"
   },
   {
    "duration": 31,
    "start_time": "2022-03-18T07:50:00.366Z"
   },
   {
    "duration": 22,
    "start_time": "2022-03-18T07:50:00.398Z"
   },
   {
    "duration": 24,
    "start_time": "2022-03-18T07:50:00.421Z"
   },
   {
    "duration": 26,
    "start_time": "2022-03-18T07:50:00.446Z"
   },
   {
    "duration": 806,
    "start_time": "2022-03-18T10:55:02.933Z"
   },
   {
    "duration": 23,
    "start_time": "2022-03-18T10:55:03.741Z"
   },
   {
    "duration": 26,
    "start_time": "2022-03-18T10:55:03.766Z"
   },
   {
    "duration": 9,
    "start_time": "2022-03-18T10:55:03.795Z"
   },
   {
    "duration": 10,
    "start_time": "2022-03-18T10:55:03.806Z"
   },
   {
    "duration": 6,
    "start_time": "2022-03-18T10:55:03.818Z"
   },
   {
    "duration": 12,
    "start_time": "2022-03-18T10:55:03.827Z"
   },
   {
    "duration": 47,
    "start_time": "2022-03-18T10:55:03.842Z"
   },
   {
    "duration": 16,
    "start_time": "2022-03-18T10:55:03.892Z"
   },
   {
    "duration": 9,
    "start_time": "2022-03-18T10:55:03.911Z"
   },
   {
    "duration": 18,
    "start_time": "2022-03-18T10:55:03.923Z"
   },
   {
    "duration": 46,
    "start_time": "2022-03-18T10:55:03.944Z"
   },
   {
    "duration": 16,
    "start_time": "2022-03-18T10:55:03.992Z"
   },
   {
    "duration": 9,
    "start_time": "2022-03-18T10:55:04.010Z"
   },
   {
    "duration": 31,
    "start_time": "2022-03-18T10:55:04.022Z"
   },
   {
    "duration": 14,
    "start_time": "2022-03-18T10:55:04.055Z"
   },
   {
    "duration": 21,
    "start_time": "2022-03-18T10:55:04.071Z"
   },
   {
    "duration": 15,
    "start_time": "2022-03-18T10:55:04.094Z"
   },
   {
    "duration": 7,
    "start_time": "2022-03-18T10:55:04.111Z"
   },
   {
    "duration": 41,
    "start_time": "2022-03-18T10:55:04.121Z"
   },
   {
    "duration": 42,
    "start_time": "2022-03-18T10:55:04.165Z"
   },
   {
    "duration": 6,
    "start_time": "2022-03-18T10:55:04.209Z"
   },
   {
    "duration": 20,
    "start_time": "2022-03-18T10:55:04.217Z"
   },
   {
    "duration": 5,
    "start_time": "2022-03-18T10:55:04.239Z"
   },
   {
    "duration": 47,
    "start_time": "2022-03-18T10:55:04.246Z"
   },
   {
    "duration": 8,
    "start_time": "2022-03-18T10:55:04.295Z"
   },
   {
    "duration": 7,
    "start_time": "2022-03-18T10:55:04.305Z"
   },
   {
    "duration": 35,
    "start_time": "2022-03-18T10:55:04.318Z"
   },
   {
    "duration": 40,
    "start_time": "2022-03-18T10:55:04.355Z"
   },
   {
    "duration": 7,
    "start_time": "2022-03-18T10:55:04.398Z"
   },
   {
    "duration": 19,
    "start_time": "2022-03-18T10:55:04.407Z"
   },
   {
    "duration": 96,
    "start_time": "2022-03-18T10:55:04.428Z"
   },
   {
    "duration": 42,
    "start_time": "2022-03-18T10:55:04.527Z"
   },
   {
    "duration": 45,
    "start_time": "2022-03-18T10:55:04.585Z"
   },
   {
    "duration": 65,
    "start_time": "2022-03-18T10:55:04.632Z"
   },
   {
    "duration": 130,
    "start_time": "2022-03-18T11:10:21.860Z"
   },
   {
    "duration": 127,
    "start_time": "2022-03-18T11:10:33.378Z"
   },
   {
    "duration": 123,
    "start_time": "2022-03-18T11:11:18.792Z"
   },
   {
    "duration": 129,
    "start_time": "2022-03-18T11:11:53.172Z"
   },
   {
    "duration": 102,
    "start_time": "2022-03-18T11:12:51.215Z"
   },
   {
    "duration": 99,
    "start_time": "2022-03-18T11:13:08.138Z"
   },
   {
    "duration": 189,
    "start_time": "2022-03-18T11:14:14.710Z"
   },
   {
    "duration": 29,
    "start_time": "2022-03-18T11:14:21.155Z"
   },
   {
    "duration": 110,
    "start_time": "2022-03-18T11:14:29.688Z"
   },
   {
    "duration": 51,
    "start_time": "2022-03-18T11:15:06.860Z"
   },
   {
    "duration": 40,
    "start_time": "2022-03-18T11:16:54.413Z"
   },
   {
    "duration": 174,
    "start_time": "2022-03-18T11:21:44.321Z"
   },
   {
    "duration": 49,
    "start_time": "2022-03-18T11:41:09.118Z"
   },
   {
    "duration": 65,
    "start_time": "2022-03-18T11:55:06.305Z"
   },
   {
    "duration": 47,
    "start_time": "2022-03-18T12:13:56.266Z"
   },
   {
    "duration": 62,
    "start_time": "2022-03-18T12:22:46.146Z"
   },
   {
    "duration": 8,
    "start_time": "2022-03-18T12:36:20.438Z"
   },
   {
    "duration": 2456,
    "start_time": "2022-03-18T12:37:23.851Z"
   },
   {
    "duration": 131,
    "start_time": "2022-03-18T12:37:38.614Z"
   },
   {
    "duration": 52,
    "start_time": "2022-03-18T12:37:38.748Z"
   },
   {
    "duration": 20,
    "start_time": "2022-03-18T12:37:38.803Z"
   },
   {
    "duration": 11,
    "start_time": "2022-03-18T12:37:38.827Z"
   },
   {
    "duration": 49,
    "start_time": "2022-03-18T12:37:38.841Z"
   },
   {
    "duration": 15,
    "start_time": "2022-03-18T12:37:38.892Z"
   },
   {
    "duration": 10,
    "start_time": "2022-03-18T12:37:38.910Z"
   },
   {
    "duration": 7,
    "start_time": "2022-03-18T12:37:38.923Z"
   },
   {
    "duration": 53,
    "start_time": "2022-03-18T12:37:38.932Z"
   },
   {
    "duration": 9,
    "start_time": "2022-03-18T12:37:38.990Z"
   },
   {
    "duration": 35,
    "start_time": "2022-03-18T12:37:39.002Z"
   },
   {
    "duration": 8,
    "start_time": "2022-03-18T12:37:39.041Z"
   },
   {
    "duration": 38,
    "start_time": "2022-03-18T12:37:39.052Z"
   },
   {
    "duration": 11,
    "start_time": "2022-03-18T12:37:39.093Z"
   },
   {
    "duration": 11,
    "start_time": "2022-03-18T12:37:39.106Z"
   },
   {
    "duration": 15,
    "start_time": "2022-03-18T12:37:39.119Z"
   },
   {
    "duration": 15,
    "start_time": "2022-03-18T12:37:39.137Z"
   },
   {
    "duration": 12,
    "start_time": "2022-03-18T12:37:39.184Z"
   },
   {
    "duration": 10,
    "start_time": "2022-03-18T12:37:39.199Z"
   },
   {
    "duration": 37,
    "start_time": "2022-03-18T12:37:39.212Z"
   },
   {
    "duration": 59,
    "start_time": "2022-03-18T12:37:39.251Z"
   },
   {
    "duration": 6,
    "start_time": "2022-03-18T12:37:39.313Z"
   },
   {
    "duration": 21,
    "start_time": "2022-03-18T12:37:39.322Z"
   },
   {
    "duration": 7,
    "start_time": "2022-03-18T12:37:39.345Z"
   },
   {
    "duration": 44,
    "start_time": "2022-03-18T12:37:39.355Z"
   },
   {
    "duration": 7,
    "start_time": "2022-03-18T12:37:39.401Z"
   },
   {
    "duration": 7,
    "start_time": "2022-03-18T12:37:39.411Z"
   },
   {
    "duration": 63,
    "start_time": "2022-03-18T12:37:39.424Z"
   },
   {
    "duration": 12,
    "start_time": "2022-03-18T12:37:39.490Z"
   },
   {
    "duration": 7,
    "start_time": "2022-03-18T12:37:39.505Z"
   },
   {
    "duration": 22,
    "start_time": "2022-03-18T12:37:39.515Z"
   },
   {
    "duration": 91,
    "start_time": "2022-03-18T12:37:39.540Z"
   },
   {
    "duration": 81,
    "start_time": "2022-03-18T12:37:39.634Z"
   },
   {
    "duration": 75,
    "start_time": "2022-03-18T12:37:39.718Z"
   },
   {
    "duration": 67,
    "start_time": "2022-03-18T12:37:39.796Z"
   },
   {
    "duration": 8,
    "start_time": "2022-03-18T12:38:48.265Z"
   },
   {
    "duration": 71,
    "start_time": "2022-03-20T08:52:25.900Z"
   },
   {
    "duration": 641,
    "start_time": "2022-03-20T08:52:51.652Z"
   },
   {
    "duration": 21,
    "start_time": "2022-03-20T08:52:52.296Z"
   },
   {
    "duration": 14,
    "start_time": "2022-03-20T08:52:52.319Z"
   },
   {
    "duration": 16,
    "start_time": "2022-03-20T08:52:52.336Z"
   },
   {
    "duration": 35,
    "start_time": "2022-03-20T08:52:52.354Z"
   },
   {
    "duration": 13,
    "start_time": "2022-03-20T08:52:52.391Z"
   },
   {
    "duration": 9,
    "start_time": "2022-03-20T08:52:52.406Z"
   },
   {
    "duration": 27,
    "start_time": "2022-03-20T08:52:52.417Z"
   },
   {
    "duration": 6,
    "start_time": "2022-03-20T08:52:52.446Z"
   },
   {
    "duration": 28,
    "start_time": "2022-03-20T08:52:52.456Z"
   },
   {
    "duration": 8,
    "start_time": "2022-03-20T08:52:52.486Z"
   },
   {
    "duration": 17,
    "start_time": "2022-03-20T08:52:52.496Z"
   },
   {
    "duration": 20,
    "start_time": "2022-03-20T08:52:52.516Z"
   },
   {
    "duration": 13,
    "start_time": "2022-03-20T08:52:52.538Z"
   },
   {
    "duration": 36,
    "start_time": "2022-03-20T08:52:52.553Z"
   },
   {
    "duration": 8,
    "start_time": "2022-03-20T08:52:52.591Z"
   },
   {
    "duration": 7,
    "start_time": "2022-03-20T08:52:52.601Z"
   },
   {
    "duration": 7,
    "start_time": "2022-03-20T08:52:52.611Z"
   },
   {
    "duration": 8,
    "start_time": "2022-03-20T08:52:52.620Z"
   },
   {
    "duration": 66,
    "start_time": "2022-03-20T08:52:52.630Z"
   },
   {
    "duration": 29,
    "start_time": "2022-03-20T08:52:52.698Z"
   },
   {
    "duration": 6,
    "start_time": "2022-03-20T08:52:52.729Z"
   },
   {
    "duration": 18,
    "start_time": "2022-03-20T08:52:52.737Z"
   },
   {
    "duration": 6,
    "start_time": "2022-03-20T08:52:52.783Z"
   },
   {
    "duration": 19,
    "start_time": "2022-03-20T08:52:52.791Z"
   },
   {
    "duration": 8,
    "start_time": "2022-03-20T08:52:52.812Z"
   },
   {
    "duration": 7,
    "start_time": "2022-03-20T08:52:52.822Z"
   },
   {
    "duration": 67,
    "start_time": "2022-03-20T08:52:52.833Z"
   },
   {
    "duration": 11,
    "start_time": "2022-03-20T08:52:52.902Z"
   },
   {
    "duration": 11,
    "start_time": "2022-03-20T08:52:52.915Z"
   },
   {
    "duration": 21,
    "start_time": "2022-03-20T08:52:52.929Z"
   },
   {
    "duration": 63,
    "start_time": "2022-03-20T08:52:52.952Z"
   },
   {
    "duration": 41,
    "start_time": "2022-03-20T08:52:53.017Z"
   },
   {
    "duration": 65,
    "start_time": "2022-03-20T08:52:53.060Z"
   },
   {
    "duration": 68,
    "start_time": "2022-03-20T08:52:53.127Z"
   },
   {
    "duration": 123,
    "start_time": "2022-03-20T08:53:07.264Z"
   },
   {
    "duration": 6,
    "start_time": "2022-03-20T08:53:10.904Z"
   },
   {
    "duration": 6,
    "start_time": "2022-03-20T08:53:17.052Z"
   },
   {
    "duration": 4,
    "start_time": "2022-03-20T08:53:24.004Z"
   },
   {
    "duration": 7,
    "start_time": "2022-03-20T08:53:24.934Z"
   },
   {
    "duration": 87,
    "start_time": "2022-03-20T08:53:36.849Z"
   },
   {
    "duration": 45,
    "start_time": "2022-03-20T08:53:36.939Z"
   },
   {
    "duration": 13,
    "start_time": "2022-03-20T08:53:36.987Z"
   },
   {
    "duration": 6,
    "start_time": "2022-03-20T08:53:37.003Z"
   },
   {
    "duration": 10,
    "start_time": "2022-03-20T08:53:37.011Z"
   },
   {
    "duration": 7,
    "start_time": "2022-03-20T08:53:37.023Z"
   },
   {
    "duration": 8,
    "start_time": "2022-03-20T08:53:37.032Z"
   },
   {
    "duration": 44,
    "start_time": "2022-03-20T08:53:37.042Z"
   },
   {
    "duration": 8,
    "start_time": "2022-03-20T08:53:37.088Z"
   },
   {
    "duration": 14,
    "start_time": "2022-03-20T08:53:37.100Z"
   },
   {
    "duration": 7,
    "start_time": "2022-03-20T08:53:37.117Z"
   },
   {
    "duration": 23,
    "start_time": "2022-03-20T08:53:37.126Z"
   },
   {
    "duration": 6,
    "start_time": "2022-03-20T08:53:37.184Z"
   },
   {
    "duration": 10,
    "start_time": "2022-03-20T08:53:37.192Z"
   },
   {
    "duration": 24,
    "start_time": "2022-03-20T08:53:37.204Z"
   },
   {
    "duration": 12,
    "start_time": "2022-03-20T08:53:37.231Z"
   },
   {
    "duration": 39,
    "start_time": "2022-03-20T08:53:37.245Z"
   },
   {
    "duration": 7,
    "start_time": "2022-03-20T08:53:37.286Z"
   },
   {
    "duration": 8,
    "start_time": "2022-03-20T08:53:37.295Z"
   },
   {
    "duration": 33,
    "start_time": "2022-03-20T08:53:37.305Z"
   },
   {
    "duration": 55,
    "start_time": "2022-03-20T08:53:37.341Z"
   },
   {
    "duration": 6,
    "start_time": "2022-03-20T08:53:37.398Z"
   },
   {
    "duration": 20,
    "start_time": "2022-03-20T08:53:37.407Z"
   },
   {
    "duration": 5,
    "start_time": "2022-03-20T08:53:37.432Z"
   },
   {
    "duration": 50,
    "start_time": "2022-03-20T08:53:37.439Z"
   },
   {
    "duration": 7,
    "start_time": "2022-03-20T08:53:37.492Z"
   },
   {
    "duration": 7,
    "start_time": "2022-03-20T08:53:37.501Z"
   },
   {
    "duration": 33,
    "start_time": "2022-03-20T08:53:37.511Z"
   },
   {
    "duration": 40,
    "start_time": "2022-03-20T08:53:37.546Z"
   },
   {
    "duration": 7,
    "start_time": "2022-03-20T08:53:37.588Z"
   },
   {
    "duration": 25,
    "start_time": "2022-03-20T08:53:37.598Z"
   },
   {
    "duration": 47,
    "start_time": "2022-03-20T08:53:37.626Z"
   },
   {
    "duration": 41,
    "start_time": "2022-03-20T08:53:37.684Z"
   },
   {
    "duration": 73,
    "start_time": "2022-03-20T08:53:37.729Z"
   },
   {
    "duration": 50,
    "start_time": "2022-03-20T08:53:37.805Z"
   },
   {
    "duration": 7,
    "start_time": "2022-03-20T08:54:08.531Z"
   },
   {
    "duration": 10,
    "start_time": "2022-03-20T08:56:51.738Z"
   },
   {
    "duration": 10,
    "start_time": "2022-03-20T08:57:23.308Z"
   },
   {
    "duration": 95,
    "start_time": "2022-03-20T08:58:22.856Z"
   },
   {
    "duration": 34,
    "start_time": "2022-03-20T08:58:22.954Z"
   },
   {
    "duration": 15,
    "start_time": "2022-03-20T08:58:22.990Z"
   },
   {
    "duration": 12,
    "start_time": "2022-03-20T08:58:23.008Z"
   },
   {
    "duration": 16,
    "start_time": "2022-03-20T08:58:23.023Z"
   },
   {
    "duration": 9,
    "start_time": "2022-03-20T08:58:23.041Z"
   },
   {
    "duration": 35,
    "start_time": "2022-03-20T08:58:23.053Z"
   },
   {
    "duration": 7,
    "start_time": "2022-03-20T08:58:23.091Z"
   },
   {
    "duration": 15,
    "start_time": "2022-03-20T08:58:23.101Z"
   },
   {
    "duration": 10,
    "start_time": "2022-03-20T08:58:23.118Z"
   },
   {
    "duration": 27,
    "start_time": "2022-03-20T08:58:23.160Z"
   },
   {
    "duration": 12,
    "start_time": "2022-03-20T08:58:23.190Z"
   },
   {
    "duration": 11,
    "start_time": "2022-03-20T08:58:23.204Z"
   },
   {
    "duration": 8,
    "start_time": "2022-03-20T08:58:23.217Z"
   },
   {
    "duration": 10,
    "start_time": "2022-03-20T08:58:23.228Z"
   },
   {
    "duration": 41,
    "start_time": "2022-03-20T08:58:23.243Z"
   },
   {
    "duration": 6,
    "start_time": "2022-03-20T08:58:23.325Z"
   },
   {
    "duration": 6,
    "start_time": "2022-03-20T08:58:23.334Z"
   },
   {
    "duration": 32,
    "start_time": "2022-03-20T08:58:23.342Z"
   },
   {
    "duration": 33,
    "start_time": "2022-03-20T08:58:23.377Z"
   },
   {
    "duration": 7,
    "start_time": "2022-03-20T08:58:23.412Z"
   },
   {
    "duration": 18,
    "start_time": "2022-03-20T08:58:23.423Z"
   },
   {
    "duration": 41,
    "start_time": "2022-03-20T08:58:23.443Z"
   },
   {
    "duration": 16,
    "start_time": "2022-03-20T08:58:23.487Z"
   },
   {
    "duration": 7,
    "start_time": "2022-03-20T08:58:23.505Z"
   },
   {
    "duration": 17,
    "start_time": "2022-03-20T08:58:23.515Z"
   },
   {
    "duration": 61,
    "start_time": "2022-03-20T08:58:23.534Z"
   },
   {
    "duration": 10,
    "start_time": "2022-03-20T08:58:23.597Z"
   },
   {
    "duration": 9,
    "start_time": "2022-03-20T08:58:23.610Z"
   },
   {
    "duration": 32,
    "start_time": "2022-03-20T08:58:23.621Z"
   },
   {
    "duration": 58,
    "start_time": "2022-03-20T08:58:23.656Z"
   },
   {
    "duration": 40,
    "start_time": "2022-03-20T08:58:23.716Z"
   },
   {
    "duration": 60,
    "start_time": "2022-03-20T08:58:23.758Z"
   },
   {
    "duration": 65,
    "start_time": "2022-03-20T08:58:23.820Z"
   },
   {
    "duration": 12,
    "start_time": "2022-03-20T09:00:06.711Z"
   },
   {
    "duration": 5,
    "start_time": "2022-03-20T09:00:24.349Z"
   },
   {
    "duration": 7,
    "start_time": "2022-03-20T09:00:35.869Z"
   },
   {
    "duration": 54,
    "start_time": "2022-03-20T09:03:29.462Z"
   },
   {
    "duration": 15,
    "start_time": "2022-03-20T09:17:32.519Z"
   },
   {
    "duration": 7,
    "start_time": "2022-03-20T09:28:10.281Z"
   },
   {
    "duration": 6,
    "start_time": "2022-03-20T09:30:28.294Z"
   },
   {
    "duration": 5,
    "start_time": "2022-03-20T09:31:22.041Z"
   },
   {
    "duration": 6,
    "start_time": "2022-03-20T09:32:59.289Z"
   },
   {
    "duration": 6,
    "start_time": "2022-03-20T09:33:16.301Z"
   },
   {
    "duration": 6,
    "start_time": "2022-03-20T09:34:57.670Z"
   },
   {
    "duration": 39,
    "start_time": "2022-03-20T09:38:29.451Z"
   },
   {
    "duration": 37,
    "start_time": "2022-03-20T09:38:44.865Z"
   },
   {
    "duration": 8,
    "start_time": "2022-03-20T10:45:31.467Z"
   },
   {
    "duration": 5,
    "start_time": "2022-03-20T10:45:45.444Z"
   },
   {
    "duration": 7,
    "start_time": "2022-03-20T10:46:04.546Z"
   },
   {
    "duration": 6,
    "start_time": "2022-03-20T10:46:33.811Z"
   },
   {
    "duration": 96,
    "start_time": "2022-03-20T10:50:06.995Z"
   },
   {
    "duration": 24,
    "start_time": "2022-03-20T10:50:07.095Z"
   },
   {
    "duration": 38,
    "start_time": "2022-03-20T10:50:07.121Z"
   },
   {
    "duration": 30,
    "start_time": "2022-03-20T10:50:07.162Z"
   },
   {
    "duration": 32,
    "start_time": "2022-03-20T10:50:07.196Z"
   },
   {
    "duration": 37,
    "start_time": "2022-03-20T10:50:07.230Z"
   },
   {
    "duration": 27,
    "start_time": "2022-03-20T10:50:07.270Z"
   },
   {
    "duration": 36,
    "start_time": "2022-03-20T10:50:07.300Z"
   },
   {
    "duration": 45,
    "start_time": "2022-03-20T10:50:07.339Z"
   },
   {
    "duration": 33,
    "start_time": "2022-03-20T10:50:07.386Z"
   },
   {
    "duration": 37,
    "start_time": "2022-03-20T10:50:07.421Z"
   },
   {
    "duration": 31,
    "start_time": "2022-03-20T10:50:07.460Z"
   },
   {
    "duration": 38,
    "start_time": "2022-03-20T10:50:07.493Z"
   },
   {
    "duration": 21,
    "start_time": "2022-03-20T10:50:07.536Z"
   },
   {
    "duration": 26,
    "start_time": "2022-03-20T10:50:07.559Z"
   },
   {
    "duration": 22,
    "start_time": "2022-03-20T10:50:07.587Z"
   },
   {
    "duration": 23,
    "start_time": "2022-03-20T10:50:07.611Z"
   },
   {
    "duration": 26,
    "start_time": "2022-03-20T10:50:07.636Z"
   },
   {
    "duration": 43,
    "start_time": "2022-03-20T10:50:07.664Z"
   },
   {
    "duration": 32,
    "start_time": "2022-03-20T10:50:07.709Z"
   },
   {
    "duration": 5,
    "start_time": "2022-03-20T10:50:07.743Z"
   },
   {
    "duration": 40,
    "start_time": "2022-03-20T10:50:07.751Z"
   },
   {
    "duration": 20,
    "start_time": "2022-03-20T10:50:07.793Z"
   },
   {
    "duration": 39,
    "start_time": "2022-03-20T10:50:07.815Z"
   },
   {
    "duration": 16,
    "start_time": "2022-03-20T10:50:07.856Z"
   },
   {
    "duration": 19,
    "start_time": "2022-03-20T10:50:07.875Z"
   },
   {
    "duration": 62,
    "start_time": "2022-03-20T10:50:07.897Z"
   },
   {
    "duration": 10,
    "start_time": "2022-03-20T10:50:07.961Z"
   },
   {
    "duration": 16,
    "start_time": "2022-03-20T10:50:07.973Z"
   },
   {
    "duration": 37,
    "start_time": "2022-03-20T10:50:07.992Z"
   },
   {
    "duration": 47,
    "start_time": "2022-03-20T10:50:08.031Z"
   },
   {
    "duration": 38,
    "start_time": "2022-03-20T10:50:08.080Z"
   },
   {
    "duration": 42,
    "start_time": "2022-03-20T10:50:08.121Z"
   },
   {
    "duration": 65,
    "start_time": "2022-03-20T10:50:08.165Z"
   },
   {
    "duration": 88,
    "start_time": "2022-03-20T10:50:40.338Z"
   },
   {
    "duration": 684,
    "start_time": "2022-03-30T18:44:25.386Z"
   },
   {
    "duration": 161,
    "start_time": "2022-03-30T18:44:26.075Z"
   },
   {
    "duration": 51,
    "start_time": "2022-03-30T18:44:26.239Z"
   },
   {
    "duration": 22,
    "start_time": "2022-03-30T18:44:26.295Z"
   },
   {
    "duration": 8,
    "start_time": "2022-03-30T18:44:26.320Z"
   },
   {
    "duration": 7,
    "start_time": "2022-03-30T18:44:26.331Z"
   },
   {
    "duration": 39,
    "start_time": "2022-03-30T18:44:26.341Z"
   },
   {
    "duration": 8,
    "start_time": "2022-03-30T18:44:26.382Z"
   },
   {
    "duration": 6,
    "start_time": "2022-03-30T18:44:26.393Z"
   },
   {
    "duration": 15,
    "start_time": "2022-03-30T18:44:26.405Z"
   },
   {
    "duration": 55,
    "start_time": "2022-03-30T18:44:26.423Z"
   },
   {
    "duration": 19,
    "start_time": "2022-03-30T18:44:26.480Z"
   },
   {
    "duration": 7,
    "start_time": "2022-03-30T18:44:26.501Z"
   },
   {
    "duration": 10,
    "start_time": "2022-03-30T18:44:26.510Z"
   },
   {
    "duration": 7,
    "start_time": "2022-03-30T18:44:26.523Z"
   },
   {
    "duration": 52,
    "start_time": "2022-03-30T18:44:26.532Z"
   },
   {
    "duration": 7,
    "start_time": "2022-03-30T18:44:26.586Z"
   },
   {
    "duration": 7,
    "start_time": "2022-03-30T18:44:26.595Z"
   },
   {
    "duration": 6,
    "start_time": "2022-03-30T18:44:26.604Z"
   },
   {
    "duration": 76,
    "start_time": "2022-03-30T18:44:26.612Z"
   },
   {
    "duration": 30,
    "start_time": "2022-03-30T18:44:26.690Z"
   },
   {
    "duration": 5,
    "start_time": "2022-03-30T18:44:26.722Z"
   },
   {
    "duration": 46,
    "start_time": "2022-03-30T18:44:26.729Z"
   },
   {
    "duration": 5,
    "start_time": "2022-03-30T18:44:26.777Z"
   },
   {
    "duration": 19,
    "start_time": "2022-03-30T18:44:26.784Z"
   },
   {
    "duration": 8,
    "start_time": "2022-03-30T18:44:26.806Z"
   },
   {
    "duration": 7,
    "start_time": "2022-03-30T18:44:26.817Z"
   },
   {
    "duration": 44,
    "start_time": "2022-03-30T18:44:26.873Z"
   },
   {
    "duration": 15,
    "start_time": "2022-03-30T18:44:26.920Z"
   },
   {
    "duration": 5,
    "start_time": "2022-03-30T18:44:26.938Z"
   },
   {
    "duration": 43,
    "start_time": "2022-03-30T18:44:26.945Z"
   },
   {
    "duration": 43,
    "start_time": "2022-03-30T18:44:26.990Z"
   },
   {
    "duration": 72,
    "start_time": "2022-03-30T18:44:27.036Z"
   },
   {
    "duration": 68,
    "start_time": "2022-03-30T18:44:27.111Z"
   },
   {
    "duration": 47,
    "start_time": "2022-03-30T18:44:27.182Z"
   }
  ],
  "kernelspec": {
   "display_name": "Python 3 (ipykernel)",
   "language": "python",
   "name": "python3"
  },
  "language_info": {
   "codemirror_mode": {
    "name": "ipython",
    "version": 3
   },
   "file_extension": ".py",
   "mimetype": "text/x-python",
   "name": "python",
   "nbconvert_exporter": "python",
   "pygments_lexer": "ipython3",
   "version": "3.9.12"
  },
  "toc": {
   "base_numbering": 1,
   "nav_menu": {},
   "number_sections": false,
   "sideBar": true,
   "skip_h1_title": true,
   "title_cell": "Содержание",
   "title_sidebar": "Содержание",
   "toc_cell": false,
   "toc_position": {
    "height": "calc(100% - 180px)",
    "left": "10px",
    "top": "150px",
    "width": "289.594px"
   },
   "toc_section_display": true,
   "toc_window_display": true
  }
 },
 "nbformat": 4,
 "nbformat_minor": 5
}
