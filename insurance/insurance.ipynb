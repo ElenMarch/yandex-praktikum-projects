{
 "cells": [
  {
   "cell_type": "markdown",
   "metadata": {
    "toc": true
   },
   "source": [
    "<h1>Table of Contents<span class=\"tocSkip\"></span></h1>\n",
    "<div class=\"toc\"><ul class=\"toc-item\"><li><span><a href=\"#Загрузка-данных\" data-toc-modified-id=\"Загрузка-данных-1\"><span class=\"toc-item-num\">1&nbsp;&nbsp;</span>Загрузка данных</a></span></li><li><span><a href=\"#Умножение-матриц\" data-toc-modified-id=\"Умножение-матриц-2\"><span class=\"toc-item-num\">2&nbsp;&nbsp;</span>Умножение матриц</a></span></li><li><span><a href=\"#Алгоритм-преобразования\" data-toc-modified-id=\"Алгоритм-преобразования-3\"><span class=\"toc-item-num\">3&nbsp;&nbsp;</span>Алгоритм преобразования</a></span></li><li><span><a href=\"#Проверка-алгоритма\" data-toc-modified-id=\"Проверка-алгоритма-4\"><span class=\"toc-item-num\">4&nbsp;&nbsp;</span>Проверка алгоритма</a></span></li></ul></div>"
   ]
  },
  {
   "cell_type": "markdown",
   "metadata": {
    "id": "IJaFpkVIl6gV"
   },
   "source": [
    "# Защита персональных данных клиентов"
   ]
  },
  {
   "cell_type": "markdown",
   "metadata": {
    "id": "vE1TgLYQlfIh"
   },
   "source": [
    "Необходимо защитить данные клиентов страховой компании «Хоть потоп». Разработаем такой метод преобразования данных, чтобы по ним было сложно восстановить персональную информацию. Обоснуем корректность его работы.\n",
    "\n",
    "Защитить данные нужно таким способом, чтобы при преобразовании качество моделей машинного обучения не ухудшилось. Подбирать наилучшую модель не требуется."
   ]
  },
  {
   "cell_type": "markdown",
   "metadata": {
    "id": "oPhDgjQ3lzkb"
   },
   "source": [
    "## Загрузка данных"
   ]
  },
  {
   "cell_type": "code",
   "execution_count": 1,
   "metadata": {
    "id": "zv8kh59TRDlG"
   },
   "outputs": [],
   "source": [
    "import pandas as pd\n",
    "import numpy as np\n",
    "import seaborn as sns\n",
    "\n",
    "from sklearn.linear_model import LinearRegression\n",
    "from sklearn.model_selection import train_test_split\n",
    "from sklearn.preprocessing import StandardScaler\n",
    "from sklearn.metrics import r2_score"
   ]
  },
  {
   "cell_type": "code",
   "execution_count": 2,
   "metadata": {
    "id": "dYqrZzMHlyiC"
   },
   "outputs": [],
   "source": [
    "try:\n",
    "    insurance = pd.read_csv('/datasets/insurance.csv')\n",
    "except:\n",
    "    insurance = pd.read_csv('https://code.s3.yandex.net/datasets/insurance.csv')"
   ]
  },
  {
   "cell_type": "code",
   "execution_count": 3,
   "metadata": {
    "colab": {
     "base_uri": "https://localhost:8080/",
     "height": 206
    },
    "id": "uOxLLo-NmFyv",
    "outputId": "95ff210a-dd4b-4eab-d65a-1258cc4dddb8"
   },
   "outputs": [
    {
     "data": {
      "text/html": [
       "<div>\n",
       "<style scoped>\n",
       "    .dataframe tbody tr th:only-of-type {\n",
       "        vertical-align: middle;\n",
       "    }\n",
       "\n",
       "    .dataframe tbody tr th {\n",
       "        vertical-align: top;\n",
       "    }\n",
       "\n",
       "    .dataframe thead th {\n",
       "        text-align: right;\n",
       "    }\n",
       "</style>\n",
       "<table border=\"1\" class=\"dataframe\">\n",
       "  <thead>\n",
       "    <tr style=\"text-align: right;\">\n",
       "      <th></th>\n",
       "      <th>Пол</th>\n",
       "      <th>Возраст</th>\n",
       "      <th>Зарплата</th>\n",
       "      <th>Члены семьи</th>\n",
       "      <th>Страховые выплаты</th>\n",
       "    </tr>\n",
       "  </thead>\n",
       "  <tbody>\n",
       "    <tr>\n",
       "      <th>0</th>\n",
       "      <td>1</td>\n",
       "      <td>41.0</td>\n",
       "      <td>49600.0</td>\n",
       "      <td>1</td>\n",
       "      <td>0</td>\n",
       "    </tr>\n",
       "    <tr>\n",
       "      <th>1</th>\n",
       "      <td>0</td>\n",
       "      <td>46.0</td>\n",
       "      <td>38000.0</td>\n",
       "      <td>1</td>\n",
       "      <td>1</td>\n",
       "    </tr>\n",
       "    <tr>\n",
       "      <th>2</th>\n",
       "      <td>0</td>\n",
       "      <td>29.0</td>\n",
       "      <td>21000.0</td>\n",
       "      <td>0</td>\n",
       "      <td>0</td>\n",
       "    </tr>\n",
       "    <tr>\n",
       "      <th>3</th>\n",
       "      <td>0</td>\n",
       "      <td>21.0</td>\n",
       "      <td>41700.0</td>\n",
       "      <td>2</td>\n",
       "      <td>0</td>\n",
       "    </tr>\n",
       "    <tr>\n",
       "      <th>4</th>\n",
       "      <td>1</td>\n",
       "      <td>28.0</td>\n",
       "      <td>26100.0</td>\n",
       "      <td>0</td>\n",
       "      <td>0</td>\n",
       "    </tr>\n",
       "  </tbody>\n",
       "</table>\n",
       "</div>"
      ],
      "text/plain": [
       "   Пол  Возраст  Зарплата  Члены семьи  Страховые выплаты\n",
       "0    1     41.0   49600.0            1                  0\n",
       "1    0     46.0   38000.0            1                  1\n",
       "2    0     29.0   21000.0            0                  0\n",
       "3    0     21.0   41700.0            2                  0\n",
       "4    1     28.0   26100.0            0                  0"
      ]
     },
     "execution_count": 3,
     "metadata": {},
     "output_type": "execute_result"
    }
   ],
   "source": [
    "insurance.head()"
   ]
  },
  {
   "cell_type": "code",
   "execution_count": 4,
   "metadata": {
    "colab": {
     "base_uri": "https://localhost:8080/"
    },
    "id": "BKolYY8_mLS-",
    "outputId": "2a7ab12e-0628-4ffc-fada-71e6d5315782"
   },
   "outputs": [
    {
     "name": "stdout",
     "output_type": "stream",
     "text": [
      "<class 'pandas.core.frame.DataFrame'>\n",
      "RangeIndex: 5000 entries, 0 to 4999\n",
      "Data columns (total 5 columns):\n",
      " #   Column             Non-Null Count  Dtype  \n",
      "---  ------             --------------  -----  \n",
      " 0   Пол                5000 non-null   int64  \n",
      " 1   Возраст            5000 non-null   float64\n",
      " 2   Зарплата           5000 non-null   float64\n",
      " 3   Члены семьи        5000 non-null   int64  \n",
      " 4   Страховые выплаты  5000 non-null   int64  \n",
      "dtypes: float64(2), int64(3)\n",
      "memory usage: 195.4 KB\n"
     ]
    }
   ],
   "source": [
    "insurance.info()"
   ]
  },
  {
   "cell_type": "markdown",
   "metadata": {
    "id": "KUnk--KCmEtH"
   },
   "source": [
    "Таблица содержит 5 колонок данных о клиентах; данные имеют тип int64 и float64.\n",
    "\n",
    "Описание данных:\n",
    "\n",
    "- **Признаки:** пол, возраст и зарплата застрахованного, количество членов его семьи.\n",
    "- **Целевой признак:** количество страховых выплат клиенту за последние 5 лет.\n"
   ]
  },
  {
   "cell_type": "code",
   "execution_count": 5,
   "metadata": {
    "id": "qVMmdK7BmUkz"
   },
   "outputs": [],
   "source": [
    "insurance = insurance.rename(columns={'Пол': 'gender', 'Возраст': 'age', 'Зарплата': 'income', \n",
    "                            'Члены семьи': 'family','Страховые выплаты': 'insurance_payments'})"
   ]
  },
  {
   "cell_type": "code",
   "execution_count": 6,
   "metadata": {
    "colab": {
     "base_uri": "https://localhost:8080/"
    },
    "id": "KxPy39fbma3r",
    "outputId": "afad447d-806c-4498-ae9e-7fe317502dab"
   },
   "outputs": [
    {
     "data": {
      "text/plain": [
       "array([1, 0])"
      ]
     },
     "execution_count": 6,
     "metadata": {},
     "output_type": "execute_result"
    }
   ],
   "source": [
    "insurance['gender'].unique()"
   ]
  },
  {
   "cell_type": "code",
   "execution_count": 7,
   "metadata": {
    "colab": {
     "base_uri": "https://localhost:8080/"
    },
    "id": "sSdXF777ma0W",
    "outputId": "1ce9b8a1-55cc-4da9-a581-7a0320f06817"
   },
   "outputs": [
    {
     "data": {
      "text/plain": [
       "array([41., 46., 29., 21., 28., 43., 39., 25., 36., 32., 38., 23., 40.,\n",
       "       34., 26., 42., 27., 33., 47., 30., 19., 31., 22., 20., 24., 18.,\n",
       "       37., 48., 45., 44., 52., 49., 35., 56., 65., 55., 57., 54., 50.,\n",
       "       53., 51., 58., 59., 60., 61., 62.])"
      ]
     },
     "execution_count": 7,
     "metadata": {},
     "output_type": "execute_result"
    }
   ],
   "source": [
    "insurance['age'].unique()"
   ]
  },
  {
   "cell_type": "code",
   "execution_count": 8,
   "metadata": {
    "id": "m_20UPfymax0"
   },
   "outputs": [],
   "source": [
    "insurance['age'] = insurance['age'].astype(int)"
   ]
  },
  {
   "cell_type": "code",
   "execution_count": 9,
   "metadata": {
    "colab": {
     "base_uri": "https://localhost:8080/"
    },
    "id": "kyC280c0mau7",
    "outputId": "0179239f-0fbb-4c0b-84ea-2c3ce000d9cf",
    "scrolled": true
   },
   "outputs": [
    {
     "data": {
      "text/plain": [
       "array([49600., 38000., 21000., 41700., 26100., 41000., 39700., 38600.,\n",
       "       49700., 51700., 36600., 29300., 39500., 55000., 43700., 23300.,\n",
       "       48900., 33200., 36900., 43500., 36100., 26600., 48700., 40400.,\n",
       "       38400., 34600., 34800., 36800., 42200., 46300., 30300., 51000.,\n",
       "       28100., 64800., 30400., 45300., 38300., 49500., 19400., 40200.,\n",
       "       31700., 69200., 33100., 31600., 34500., 38700., 39600., 42400.,\n",
       "       34900., 30500., 24200., 49900., 14300., 47000., 44800., 43800.,\n",
       "       42700., 35400., 57200., 29600., 37400., 48100., 33700., 61800.,\n",
       "       39400., 15600., 52600., 37600., 52500., 32700., 51600., 60900.,\n",
       "       41800., 47400., 26500., 45900., 35700., 34300., 26700., 25700.,\n",
       "       33300., 31100., 31500., 42100., 37300., 42500., 27300., 46800.,\n",
       "       33500., 44300., 41600., 53900., 40100., 44600., 45000., 32000.,\n",
       "       38200., 33000., 38500., 51800., 33800., 46400., 43200., 31800.,\n",
       "       50200., 35100., 30700., 45800., 49300., 42800., 33600., 50300.,\n",
       "       34000., 36400., 44900., 43600., 54600., 52800., 29700., 39000.,\n",
       "       44100., 31900., 37700., 35200., 43100., 51300., 47500., 40800.,\n",
       "       26800., 64900., 35900., 31200., 39900., 43300., 33900., 40700.,\n",
       "       44700., 53400., 30600., 56000., 35600., 55200., 40600., 48300.,\n",
       "       50800., 41200., 44200., 44400., 40500., 39800., 16600., 48400.,\n",
       "       25100., 23100., 32100., 31000., 42900., 46700., 26000., 55900.,\n",
       "       52000., 41500., 49400., 60300., 45600., 49000., 37500., 21900.,\n",
       "       45100., 47900., 54300., 32400., 41300., 44500., 23200., 37900.,\n",
       "       48000., 52100., 45700., 29900., 42600., 45200., 36000., 46500.,\n",
       "       23800., 30200., 24400., 32800., 29000., 43400., 51500., 61700.,\n",
       "       45400., 50700., 36200., 41900., 27900., 47200., 48800., 55100.,\n",
       "       48200., 35500., 35000., 43900., 40000., 22000., 40300., 36300.,\n",
       "       49800., 25600., 42300., 54900., 25500., 32900., 36700., 38900.,\n",
       "       24700., 28800., 22900., 47300., 14500., 28700., 44000., 34100.,\n",
       "       53000., 59300., 28500., 47100., 41400., 58900., 17500., 54200.,\n",
       "       43000., 29800., 20000., 13800., 27500., 67700., 28000., 37100.,\n",
       "        8900., 14600., 56200., 38800., 27700., 50500., 58400., 34700.,\n",
       "       34400., 49100., 50900., 28200., 61500., 32500., 25900.,  9800.,\n",
       "       28300., 41100., 62000., 32600., 37200., 53800., 24000., 53600.,\n",
       "       54800., 59600., 20200., 21700., 29200., 38100., 20700., 32300.,\n",
       "       21200., 62100., 54000., 24500., 51900., 47800., 56100., 55300.,\n",
       "       58100., 28900., 39100., 58000., 27200., 24600., 30100., 57100.,\n",
       "       60100., 22200., 47700., 24900., 37800., 52700., 34200., 18700.,\n",
       "       42000., 26300., 22600., 30900., 35800., 30800., 51100., 53300.,\n",
       "       46200., 24100., 54700., 51200., 62300., 51400., 40900., 23400.,\n",
       "       35300., 55800., 33400., 21300., 30000., 56700., 46900.,  5300.,\n",
       "       39200., 57500., 31300., 53700., 21600., 50000., 36500., 16400.,\n",
       "       15900., 65100., 59900., 63200., 26200., 61200., 48500., 32200.,\n",
       "       29100., 50100., 22700., 28600., 23500., 23700., 19600., 17800.,\n",
       "       50600., 57900., 22500., 22100., 58300., 64100., 25000., 60400.,\n",
       "       59100., 37000., 62400., 29500., 25800., 25400., 26900., 21500.,\n",
       "       52200., 46600., 57300., 46100., 19300., 18900., 31400., 28400.,\n",
       "       29400., 17600., 13900., 52400., 11300., 46000., 60500., 58700.,\n",
       "       58200., 24800., 63700., 60600., 20400., 26400., 55600., 57000.,\n",
       "       45500., 48600., 57600., 52900., 62800., 17000., 56500., 52300.,\n",
       "       18400., 63300., 12900., 27000., 55700., 39300., 27800., 18300.,\n",
       "       56300., 59800., 24300., 14400., 13400., 17900., 47600., 54500.,\n",
       "       54400., 23900., 13000., 19900., 55400., 22800., 61000., 57400.,\n",
       "       23000., 20500., 53200., 18100., 25300., 59500., 18200., 50400.,\n",
       "       21100., 20900., 27400., 17300., 60700., 70600., 17700., 19700.,\n",
       "       49200., 63100., 59200., 14700., 53100., 21800., 68000., 16500.,\n",
       "       71400., 10000., 55500., 54100., 56400., 20600., 66300., 18800.,\n",
       "       11000., 66100., 27100., 57800., 53500., 19200., 58500., 64000.,\n",
       "       63600., 23600., 25200., 19100., 18600., 57700., 62700., 56600.,\n",
       "       21400., 58800., 68400., 17100., 13300., 68500., 56900., 64400.,\n",
       "       27600., 67200., 16200., 58600., 62200., 16000., 79000., 22300.,\n",
       "       11200., 71600., 61300., 70500., 67100., 59000., 13500., 16700.,\n",
       "       15700., 60000., 17400., 63400., 61900., 65200., 62600., 14100.,\n",
       "       20100., 63800., 15100., 70000., 60200., 20300., 65900., 15200.,\n",
       "       63500., 13200., 68900., 12200.,  6000., 74800., 59700., 10800.,\n",
       "       19000., 10600., 69400., 15000., 75200., 62500., 16300., 20800.,\n",
       "        7400., 65300., 61400., 56800.])"
      ]
     },
     "execution_count": 9,
     "metadata": {},
     "output_type": "execute_result"
    }
   ],
   "source": [
    "insurance['income'].unique()"
   ]
  },
  {
   "cell_type": "code",
   "execution_count": 10,
   "metadata": {
    "id": "VqNDenBimasS"
   },
   "outputs": [],
   "source": [
    "insurance['income'] = insurance['income'].astype(int)"
   ]
  },
  {
   "cell_type": "code",
   "execution_count": 11,
   "metadata": {
    "colab": {
     "base_uri": "https://localhost:8080/"
    },
    "id": "ZzJ6iRskmmbf",
    "outputId": "04155a40-847d-44ba-9542-6eca0bcf47bc"
   },
   "outputs": [
    {
     "data": {
      "text/plain": [
       "array([0, 1, 2, 3, 5, 4])"
      ]
     },
     "execution_count": 11,
     "metadata": {},
     "output_type": "execute_result"
    }
   ],
   "source": [
    "insurance['insurance_payments'].unique()"
   ]
  },
  {
   "cell_type": "code",
   "execution_count": 12,
   "metadata": {
    "colab": {
     "base_uri": "https://localhost:8080/"
    },
    "id": "hLneP7H8mmPk",
    "outputId": "44c2e0b0-ecc6-4e4c-a6f6-6063e94af122"
   },
   "outputs": [
    {
     "data": {
      "text/plain": [
       "gender                0\n",
       "age                   0\n",
       "income                0\n",
       "family                0\n",
       "insurance_payments    0\n",
       "dtype: int64"
      ]
     },
     "execution_count": 12,
     "metadata": {},
     "output_type": "execute_result"
    }
   ],
   "source": [
    "insurance.isna().sum()"
   ]
  },
  {
   "cell_type": "code",
   "execution_count": 13,
   "metadata": {
    "colab": {
     "base_uri": "https://localhost:8080/"
    },
    "id": "ypz6ihv2mtq9",
    "outputId": "9d9e81ed-03f6-4944-99b2-bd79c716e044"
   },
   "outputs": [
    {
     "data": {
      "text/plain": [
       "153"
      ]
     },
     "execution_count": 13,
     "metadata": {},
     "output_type": "execute_result"
    }
   ],
   "source": [
    "insurance.duplicated().sum()"
   ]
  },
  {
   "cell_type": "code",
   "execution_count": 14,
   "metadata": {
    "id": "AfUzCQHCmwKs"
   },
   "outputs": [],
   "source": [
    "insurance = insurance.drop_duplicates().reset_index(drop=True)"
   ]
  },
  {
   "cell_type": "code",
   "execution_count": 15,
   "metadata": {
    "colab": {
     "base_uri": "https://localhost:8080/"
    },
    "id": "UUfcY1dHmyFp",
    "outputId": "9d156889-94ee-42dc-d9a4-6bc411b2cf08"
   },
   "outputs": [
    {
     "data": {
      "text/plain": [
       "0"
      ]
     },
     "execution_count": 15,
     "metadata": {},
     "output_type": "execute_result"
    }
   ],
   "source": [
    "insurance.duplicated().sum()"
   ]
  },
  {
   "cell_type": "code",
   "execution_count": 16,
   "metadata": {
    "colab": {
     "base_uri": "https://localhost:8080/",
     "height": 206
    },
    "id": "_WE4FHTum3T-",
    "outputId": "f4f5601f-cd48-4ade-af94-8fa39e72f5a6"
   },
   "outputs": [
    {
     "data": {
      "text/html": [
       "<div>\n",
       "<style scoped>\n",
       "    .dataframe tbody tr th:only-of-type {\n",
       "        vertical-align: middle;\n",
       "    }\n",
       "\n",
       "    .dataframe tbody tr th {\n",
       "        vertical-align: top;\n",
       "    }\n",
       "\n",
       "    .dataframe thead th {\n",
       "        text-align: right;\n",
       "    }\n",
       "</style>\n",
       "<table border=\"1\" class=\"dataframe\">\n",
       "  <thead>\n",
       "    <tr style=\"text-align: right;\">\n",
       "      <th></th>\n",
       "      <th>count</th>\n",
       "      <th>mean</th>\n",
       "      <th>std</th>\n",
       "      <th>min</th>\n",
       "      <th>25%</th>\n",
       "      <th>50%</th>\n",
       "      <th>75%</th>\n",
       "      <th>max</th>\n",
       "    </tr>\n",
       "  </thead>\n",
       "  <tbody>\n",
       "    <tr>\n",
       "      <th>gender</th>\n",
       "      <td>4847.0</td>\n",
       "      <td>0.498453</td>\n",
       "      <td>0.500049</td>\n",
       "      <td>0.0</td>\n",
       "      <td>0.0</td>\n",
       "      <td>0.0</td>\n",
       "      <td>1.0</td>\n",
       "      <td>1.0</td>\n",
       "    </tr>\n",
       "    <tr>\n",
       "      <th>age</th>\n",
       "      <td>4847.0</td>\n",
       "      <td>31.023932</td>\n",
       "      <td>8.487995</td>\n",
       "      <td>18.0</td>\n",
       "      <td>24.0</td>\n",
       "      <td>30.0</td>\n",
       "      <td>37.0</td>\n",
       "      <td>65.0</td>\n",
       "    </tr>\n",
       "    <tr>\n",
       "      <th>income</th>\n",
       "      <td>4847.0</td>\n",
       "      <td>39895.811223</td>\n",
       "      <td>9972.952441</td>\n",
       "      <td>5300.0</td>\n",
       "      <td>33200.0</td>\n",
       "      <td>40200.0</td>\n",
       "      <td>46600.0</td>\n",
       "      <td>79000.0</td>\n",
       "    </tr>\n",
       "    <tr>\n",
       "      <th>family</th>\n",
       "      <td>4847.0</td>\n",
       "      <td>1.203425</td>\n",
       "      <td>1.098664</td>\n",
       "      <td>0.0</td>\n",
       "      <td>0.0</td>\n",
       "      <td>1.0</td>\n",
       "      <td>2.0</td>\n",
       "      <td>6.0</td>\n",
       "    </tr>\n",
       "    <tr>\n",
       "      <th>insurance_payments</th>\n",
       "      <td>4847.0</td>\n",
       "      <td>0.152259</td>\n",
       "      <td>0.468934</td>\n",
       "      <td>0.0</td>\n",
       "      <td>0.0</td>\n",
       "      <td>0.0</td>\n",
       "      <td>0.0</td>\n",
       "      <td>5.0</td>\n",
       "    </tr>\n",
       "  </tbody>\n",
       "</table>\n",
       "</div>"
      ],
      "text/plain": [
       "                     count          mean          std     min      25%  \\\n",
       "gender              4847.0      0.498453     0.500049     0.0      0.0   \n",
       "age                 4847.0     31.023932     8.487995    18.0     24.0   \n",
       "income              4847.0  39895.811223  9972.952441  5300.0  33200.0   \n",
       "family              4847.0      1.203425     1.098664     0.0      0.0   \n",
       "insurance_payments  4847.0      0.152259     0.468934     0.0      0.0   \n",
       "\n",
       "                        50%      75%      max  \n",
       "gender                  0.0      1.0      1.0  \n",
       "age                    30.0     37.0     65.0  \n",
       "income              40200.0  46600.0  79000.0  \n",
       "family                  1.0      2.0      6.0  \n",
       "insurance_payments      0.0      0.0      5.0  "
      ]
     },
     "execution_count": 16,
     "metadata": {},
     "output_type": "execute_result"
    }
   ],
   "source": [
    "insurance.describe().T"
   ]
  },
  {
   "cell_type": "code",
   "execution_count": 17,
   "metadata": {
    "colab": {
     "base_uri": "https://localhost:8080/",
     "height": 380
    },
    "id": "RL9uhiiQm8wE",
    "outputId": "1261b0e0-963d-464c-f07e-d66c098659b8"
   },
   "outputs": [
    {
     "data": {
      "text/plain": [
       "<AxesSubplot:>"
      ]
     },
     "execution_count": 17,
     "metadata": {},
     "output_type": "execute_result"
    },
    {
     "data": {
      "image/png": "[encoded data removed]",
      "text/plain": [
       "<Figure size 432x288 with 2 Axes>"
      ]
     },
     "metadata": {
      "needs_background": "light"
     },
     "output_type": "display_data"
    }
   ],
   "source": [
    "sns.heatmap(insurance.corr(), annot=True, cmap = 'viridis')"
   ]
  },
  {
   "cell_type": "markdown",
   "metadata": {
    "id": "80sRSAFwm9KJ"
   },
   "source": [
    "До 75% клиентов составляют люди не старше 37лет и зарплатой до 46600р. При этом. никому из них не выплачивалась страховка. Наибольшая корреляция 0,65 у з/п и возраста, по остальным признакам она отсутствует.\n",
    "\n",
    "Итак, в представленных данных пропусков нет, были удалены дубликаты. Столбцы с признаками переименованы в соответствии со змеиным регистром. Так же колонки с данными о зарплате и возрасте преобразованы в целочисленные.\n"
   ]
  },
  {
   "cell_type": "markdown",
   "metadata": {
    "id": "XBOx5jw7nHXj"
   },
   "source": [
    "## Умножение матриц"
   ]
  },
  {
   "cell_type": "markdown",
   "metadata": {
    "id": "zRAyxF8HnMpn"
   },
   "source": [
    "Обозначения:\n",
    "\n",
    "- $X$ — матрица признаков (нулевой столбец состоит из единиц)\n",
    "\n",
    "- $y$ — вектор целевого признака\n",
    "\n",
    "- $P$ — матрица, на которую умножаются признаки\n",
    "\n",
    "- $w$ — вектор весов линейной регрессии (нулевой элемент равен сдвигу)\n",
    "\n",
    "Предсказания:\n",
    "\n",
    "$$\n",
    "a = Xw\n",
    "$$\n",
    "\n",
    "Задача обучения:\n",
    "\n",
    "$$\n",
    "w = \\arg\\min_w MSE(Xw, y)\n",
    "$$\n",
    "\n",
    "Формула обучения:\n",
    "\n",
    "$$\n",
    "w = (X^T X)^{-1} X^T y\n",
    "$$\n"
   ]
  },
  {
   "cell_type": "markdown",
   "metadata": {
    "id": "8gJSQx8nnWEi"
   },
   "source": [
    "Признаки умножают на обратимую матрицу. \n",
    "Изменится ли качество линейной регрессии? (Её можно обучить заново.)\n"
   ]
  },
  {
   "cell_type": "markdown",
   "metadata": {
    "id": "wcno_2kYnV22"
   },
   "source": [
    "**Ответ:** Предположим, что качество линейной регрессии не изменится, если домножить вектор $Х$ на некоторую обратимую матрицу $Р$.\n",
    "\n",
    "**Обоснование:** \n",
    "\n",
    "Заменим вектор $Х$ на произведение $ M = ХР $. Получим:\n",
    "$$ w_1 = (M^T M)^{-1} (M)^T y $$\n",
    "\n",
    "$ (АВ)^T = B^T A^T$  и $(AB)^{−1}=B^{−1} A^{−1} $. Если $a_1 = M w_1$, заменив $М$, получим: \n",
    "\n",
    "$$ a_1 = XP ((XP)^T XP)^{-1} (XP)^T y = XP (P^T X^T XP)^{-1} P^T X^T y $$\n",
    "\n",
    "$$ a_1 = XP P^{-1} (X^T X)^{-1} (P^T)^{-1} P^T X^T y$$\n",
    "Если $ (P^T)^{-1} P^T = E^T = E $, тогда: $$ a_1 = X E (X^T X)^{-1} E X^T y = X (X^T X)^{-1} X^T y = Xw = a $$.\n",
    "\n",
    "Значит, качество линейной регрессии не изменится, если домножить вектор $Х$ на некоторую обратимую матрицу $Р$."
   ]
  },
  {
   "cell_type": "markdown",
   "metadata": {
    "id": "FyMlk_yznUHx"
   },
   "source": [
    "## Алгоритм преобразования"
   ]
  },
  {
   "cell_type": "markdown",
   "metadata": {
    "id": "4ObmLHXYoOM7"
   },
   "source": [
    "\n",
    "**Алгоритм**\n",
    "\n",
    "Итак, зная, что качество линейной регрессии не изменится, если домножить вектор $X$ на некоторую обратимую матрицу $Р$:\n",
    "* создадим случайную матрицу $Р$, которая была бы обратимой и квадратной\n",
    "* зададим ее размерность $(nxn)$, где $n$ - число столбцов в $X$\n",
    "* умножим ее на вектор признаков $X$, чтобы тем самым защитить данные клиентов страховой компании «Хоть потоп»\n",
    "* проверим работу алгоритма линейной регресии до и после преобразований.\n",
    "\n",
    "**Обоснование**"
   ]
  },
  {
   "cell_type": "code",
   "execution_count": 18,
   "metadata": {},
   "outputs": [],
   "source": [
    "features = insurance.drop(['insurance_payments'], axis= 1)\n",
    "target = insurance['insurance_payments']"
   ]
  },
  {
   "cell_type": "code",
   "execution_count": 19,
   "metadata": {},
   "outputs": [],
   "source": [
    "X = np.concatenate((np.ones((features.shape[0], 1)), features), axis=1)\n",
    "y = target\n",
    "w = (np.linalg.inv(X.T @ X) @(X.T)).dot(y)"
   ]
  },
  {
   "cell_type": "code",
   "execution_count": 20,
   "metadata": {
    "colab": {
     "base_uri": "https://localhost:8080/",
     "height": 201
    },
    "id": "AlbfDvvQoSqu",
    "outputId": "c2846afe-a2da-4573-da42-eec58c15d986"
   },
   "outputs": [
    {
     "data": {
      "text/plain": [
       "5"
      ]
     },
     "execution_count": 20,
     "metadata": {},
     "output_type": "execute_result"
    }
   ],
   "source": [
    "# размерность матрицы P\n",
    "n = X.shape[1]\n",
    "n"
   ]
  },
  {
   "cell_type": "code",
   "execution_count": 21,
   "metadata": {
    "colab": {
     "base_uri": "https://localhost:8080/",
     "height": 201
    },
    "id": "LtGnKjxvoeKP",
    "outputId": "5d93c8cb-d3ad-49bb-c695-6c452fb5aee1"
   },
   "outputs": [
    {
     "data": {
      "text/plain": [
       "array([[852, 876, 980, 724,  86],\n",
       "       [275, 681, 322, 118, 978],\n",
       "       [808, 967, 953,   7, 268],\n",
       "       [266, 449, 880, 728, 284],\n",
       "       [270, 418,  21, 566, 712]])"
      ]
     },
     "execution_count": 21,
     "metadata": {},
     "output_type": "execute_result"
    }
   ],
   "source": [
    "np.random.seed(111)\n",
    "P = np.random.randint(1000, size=(n,n))\n",
    "P"
   ]
  },
  {
   "cell_type": "code",
   "execution_count": 22,
   "metadata": {
    "id": "hBWk550SogCA"
   },
   "outputs": [
    {
     "data": {
      "text/plain": [
       "17321221363805.977"
      ]
     },
     "execution_count": 22,
     "metadata": {},
     "output_type": "execute_result"
    }
   ],
   "source": [
    "P_det = np.linalg.det(P)\n",
    "P_det"
   ]
  },
  {
   "cell_type": "code",
   "execution_count": 23,
   "metadata": {
    "id": "hdteMWZWohnh"
   },
   "outputs": [
    {
     "data": {
      "text/plain": [
       "array([[-0.01462653, -0.01535535,  0.01514525,  0.0051452 ,  0.01510568],\n",
       "       [ 0.0198805 ,  0.01903244, -0.0185564 , -0.00857519, -0.01813901],\n",
       "       [-0.00546338, -0.00442935,  0.00498321,  0.00336054,  0.0035279 ],\n",
       "       [ 0.0029185 ,  0.00183032, -0.00299285, -0.00064335, -0.00148349],\n",
       "       [-0.00828374, -0.00667494,  0.00738296,  0.00349549,  0.00740048]])"
      ]
     },
     "execution_count": 23,
     "metadata": {},
     "output_type": "execute_result"
    }
   ],
   "source": [
    "P_1 = np.linalg.inv(P)\n",
    "P_1"
   ]
  },
  {
   "cell_type": "markdown",
   "metadata": {
    "id": "QlQU6CQrop6l"
   },
   "source": [
    "Как мы видим, матрица $P$ невырожденная и для нее существует обратная. Значит $P$-обратима. Пусть $M = XP$, вычислим $M$:"
   ]
  },
  {
   "cell_type": "code",
   "execution_count": 24,
   "metadata": {
    "id": "sA6w--djovb7"
   },
   "outputs": [
    {
     "data": {
      "text/plain": [
       "array([[13228125., 22312022., 43688396., 36110495., 14099164.],\n",
       "       [10146290., 17107776., 33484839., 27665612., 10805126.],\n",
       "       [ 5610284.,  9457919., 18508617., 15288927.,  5971858.],\n",
       "       ...,\n",
       "       [ 9034952., 15242152., 29852082., 24681196.,  9634470.],\n",
       "       [ 8717913., 14706385., 28798331., 23808294.,  9295896.],\n",
       "       [10823621., 18258451., 35756007., 29558404., 11539680.]])"
      ]
     },
     "execution_count": 24,
     "metadata": {},
     "output_type": "execute_result"
    }
   ],
   "source": [
    "M = X @ P\n",
    "M"
   ]
  },
  {
   "cell_type": "code",
   "execution_count": 25,
   "metadata": {
    "id": "PPQV8X7JovRu"
   },
   "outputs": [
    {
     "data": {
      "text/plain": [
       "True"
      ]
     },
     "execution_count": 25,
     "metadata": {},
     "output_type": "execute_result"
    }
   ],
   "source": [
    "X.shape == M.shape"
   ]
  },
  {
   "cell_type": "markdown",
   "metadata": {
    "id": "DtF3l7bmoxpp"
   },
   "source": [
    "Таким образом, размерность новой матрицы совпадает с размерностью исходных данных. Кроме того, по значениям матрицы $M$ невозможно определить какими были исходные значения, не зная $P$."
   ]
  },
  {
   "cell_type": "markdown",
   "metadata": {
    "id": "Dl1hDDQno0sZ"
   },
   "source": [
    "## Проверка алгоритма"
   ]
  },
  {
   "cell_type": "code",
   "execution_count": 26,
   "metadata": {
    "id": "3L6Tj3f2o6Da"
   },
   "outputs": [],
   "source": [
    "def spliting(features, target):\n",
    "    features_train, features_test, target_train, target_test = train_test_split(\n",
    "    features, target, test_size=0.25, random_state=258)\n",
    "    return features_train, features_test, target_train, target_test\n",
    "def scalaring(features, target):\n",
    "    features_train, features_test, target_train, target_test = spliting(features, target)\n",
    "    scaler = StandardScaler()\n",
    "    scaler.fit(features_train)\n",
    "    features_train = scaler.transform(features_train)\n",
    "    features_test = scaler.transform(features_test)\n",
    "    return features_train, features_test, target_train, target_test\n",
    "def fit_predict(features, target):\n",
    "    features_train, features_test, target_train, target_test = scalaring(features, target)\n",
    "    model = LinearRegression()\n",
    "    model.fit(features_train, target_train)\n",
    "    predicted_test= model.predict(features_test)\n",
    "    r2 = r2_score(target_test, predicted_test)\n",
    "    print(f'Ошибка модели: {r2}')\n",
    "    return r2\n"
   ]
  },
  {
   "cell_type": "markdown",
   "metadata": {
    "id": "nVQyHMQDo-Ny"
   },
   "source": [
    "Найдем ошибку предсказаний для модели с исходными данными."
   ]
  },
  {
   "cell_type": "code",
   "execution_count": 27,
   "metadata": {
    "id": "PrI7uvr6pB6F"
   },
   "outputs": [
    {
     "name": "stdout",
     "output_type": "stream",
     "text": [
      "Ошибка модели: 0.42745663230771747\n"
     ]
    }
   ],
   "source": [
    "r2_linreg_x = fit_predict(features, target)"
   ]
  },
  {
   "cell_type": "markdown",
   "metadata": {
    "id": "THYD7GmepCwq"
   },
   "source": [
    "Найдем ошибку предсказаний для модели с закодированным массивом признаков, который имеет следующий вид:"
   ]
  },
  {
   "cell_type": "code",
   "execution_count": 28,
   "metadata": {
    "id": "DaK1YdE7pFnI"
   },
   "outputs": [],
   "source": [
    "features_m = M[:, 1:]"
   ]
  },
  {
   "cell_type": "code",
   "execution_count": 29,
   "metadata": {
    "id": "xQ0VLUwrpKhL"
   },
   "outputs": [
    {
     "name": "stdout",
     "output_type": "stream",
     "text": [
      "Ошибка модели: 0.42745663230769704\n"
     ]
    }
   ],
   "source": [
    "r2_linreg_m = fit_predict(features_m, target)"
   ]
  },
  {
   "cell_type": "markdown",
   "metadata": {
    "id": "cJ0XxnZppLz0"
   },
   "source": [
    "Ошибки моделей практически идентичны, а это значит, что при кодировании данных умножением на некую матрицу, модель Линейной регрессии дает прогноз c той же точностью."
   ]
  },
  {
   "cell_type": "markdown",
   "metadata": {
    "id": "gp5lbffupUGn"
   },
   "source": [
    "**Вывод**\n",
    "\n",
    "Было доказано, что качество линейной регрессии не изменится, если домножить вектор $Х$ на некоторую обратимую матрицу $Р$. Значит, закодировав данные клиентов страховой компании путем использования невырожденной матрицы $Р$ со случайными числами, мы получим предсказания для модели Линейной регрессии с одинаковой ошибкой. В данном примере ошибка *r2* 0.42745663.\n"
   ]
  }
 ],
 "metadata": {
  "colab": {
   "collapsed_sections": [],
   "name": "Untitled1.ipynb",
   "provenance": []
  },
  "kernelspec": {
   "display_name": "Python 3 (ipykernel)",
   "language": "python",
   "name": "python3"
  },
  "language_info": {
   "codemirror_mode": {
    "name": "ipython",
    "version": 3
   },
   "file_extension": ".py",
   "mimetype": "text/x-python",
   "name": "python",
   "nbconvert_exporter": "python",
   "pygments_lexer": "ipython3",
   "version": "3.9.12"
  },
  "toc": {
   "base_numbering": 1,
   "nav_menu": {},
   "number_sections": true,
   "sideBar": true,
   "skip_h1_title": true,
   "title_cell": "Table of Contents",
   "title_sidebar": "Contents",
   "toc_cell": true,
   "toc_position": {},
   "toc_section_display": true,
   "toc_window_display": false
  }
 },
 "nbformat": 4,
 "nbformat_minor": 1
}
